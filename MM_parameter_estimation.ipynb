{
 "cells": [
  {
   "cell_type": "markdown",
   "source": [
    "# Method of moments parameter estimation in Vasicek model"
   ],
   "metadata": {
    "collapsed": false
   },
   "id": "de566590ae8fe6ce"
  },
  {
   "cell_type": "code",
   "execution_count": 1,
   "outputs": [],
   "source": [
    "import numpy as np\n",
    "import pandas as pd\n",
    "import scipy.stats as stats"
   ],
   "metadata": {
    "collapsed": false,
    "ExecuteTime": {
     "end_time": "2024-02-26T19:30:20.812522100Z",
     "start_time": "2024-02-26T19:30:19.254925800Z"
    }
   },
   "id": "initial_id"
  },
  {
   "cell_type": "code",
   "execution_count": 2,
   "outputs": [],
   "source": [
    "df = pd.read_csv('SP_historical_PD_data.csv', sep=';')"
   ],
   "metadata": {
    "collapsed": false,
    "ExecuteTime": {
     "end_time": "2024-02-26T19:30:20.829522300Z",
     "start_time": "2024-02-26T19:30:20.812522100Z"
    }
   },
   "id": "a50a6c52df6534b8"
  },
  {
   "cell_type": "code",
   "execution_count": 3,
   "outputs": [
    {
     "data": {
      "text/plain": "   Year  Total defaults*  Investment-grade defaults  \\\n0  1981                2                          0   \n1  1982               18                          2   \n2  1983               12                          1   \n3  1984               14                          2   \n4  1985               19                          0   \n\n   Speculative-grade defaults  Default rate (%)  \\\n0                           2              0.15   \n1                          15              1.22   \n2                          10              0.77   \n3                          12              0.93   \n4                          18              1.13   \n\n   Investment-grade default rate (%)  Speculative-grade default rate (%)  \\\n0                               0.00                                0.63   \n1                               0.19                                4.46   \n2                               0.09                                2.98   \n3                               0.17                                3.31   \n4                               0.00                                4.37   \n\n   Total debt outstanding (bil. $)  \n0                             0.06  \n1                             0.90  \n2                             0.37  \n3                             0.36  \n4                             0.31  ",
      "text/html": "<div>\n<style scoped>\n    .dataframe tbody tr th:only-of-type {\n        vertical-align: middle;\n    }\n\n    .dataframe tbody tr th {\n        vertical-align: top;\n    }\n\n    .dataframe thead th {\n        text-align: right;\n    }\n</style>\n<table border=\"1\" class=\"dataframe\">\n  <thead>\n    <tr style=\"text-align: right;\">\n      <th></th>\n      <th>Year</th>\n      <th>Total defaults*</th>\n      <th>Investment-grade defaults</th>\n      <th>Speculative-grade defaults</th>\n      <th>Default rate (%)</th>\n      <th>Investment-grade default rate (%)</th>\n      <th>Speculative-grade default rate (%)</th>\n      <th>Total debt outstanding (bil. $)</th>\n    </tr>\n  </thead>\n  <tbody>\n    <tr>\n      <th>0</th>\n      <td>1981</td>\n      <td>2</td>\n      <td>0</td>\n      <td>2</td>\n      <td>0.15</td>\n      <td>0.00</td>\n      <td>0.63</td>\n      <td>0.06</td>\n    </tr>\n    <tr>\n      <th>1</th>\n      <td>1982</td>\n      <td>18</td>\n      <td>2</td>\n      <td>15</td>\n      <td>1.22</td>\n      <td>0.19</td>\n      <td>4.46</td>\n      <td>0.90</td>\n    </tr>\n    <tr>\n      <th>2</th>\n      <td>1983</td>\n      <td>12</td>\n      <td>1</td>\n      <td>10</td>\n      <td>0.77</td>\n      <td>0.09</td>\n      <td>2.98</td>\n      <td>0.37</td>\n    </tr>\n    <tr>\n      <th>3</th>\n      <td>1984</td>\n      <td>14</td>\n      <td>2</td>\n      <td>12</td>\n      <td>0.93</td>\n      <td>0.17</td>\n      <td>3.31</td>\n      <td>0.36</td>\n    </tr>\n    <tr>\n      <th>4</th>\n      <td>1985</td>\n      <td>19</td>\n      <td>0</td>\n      <td>18</td>\n      <td>1.13</td>\n      <td>0.00</td>\n      <td>4.37</td>\n      <td>0.31</td>\n    </tr>\n  </tbody>\n</table>\n</div>"
     },
     "execution_count": 3,
     "metadata": {},
     "output_type": "execute_result"
    }
   ],
   "source": [
    "df.head()"
   ],
   "metadata": {
    "collapsed": false,
    "ExecuteTime": {
     "end_time": "2024-02-26T19:30:20.861524200Z",
     "start_time": "2024-02-26T19:30:20.829522300Z"
    }
   },
   "id": "515479d6224a7cd9"
  },
  {
   "cell_type": "code",
   "execution_count": 4,
   "outputs": [],
   "source": [
    "# Make pd columns\n",
    "df[\"pd_total\"] = df[\"Default rate (%)\"] / 100\n",
    "df[\"pd_inv\"] = df[\"Investment-grade default rate (%)\"] / 100\n",
    "df[\"pd_spec\"] = df[\"Speculative-grade default rate (%)\"] / 100"
   ],
   "metadata": {
    "collapsed": false,
    "ExecuteTime": {
     "end_time": "2024-02-26T19:30:20.875529800Z",
     "start_time": "2024-02-26T19:30:20.863525300Z"
    }
   },
   "id": "76008f90027fa94c"
  },
  {
   "cell_type": "code",
   "execution_count": 5,
   "outputs": [],
   "source": [
    "# Calculate the number of obligors\n",
    "df['num_of_inv_grades'] = (df['Investment-grade defaults'] / (df[\"pd_inv\"])).round()\n",
    "df['num_of_spec_grades'] = (\n",
    "            df['Speculative-grade defaults'] / (df[\"pd_spec\"])).round().astype(int)\n",
    "df['num_of_total_grades'] = (df['Total defaults*'] / (df[\"pd_total\"])).round().astype(int)\n",
    "\n",
    "# Fill-out the missing values in num_of_inv_grades column with the difference between num_of_total_grades and num_of_spec_grades\n",
    "df['num_of_inv_grades'] = np.where(df['num_of_inv_grades'].isna(), df['num_of_total_grades'] - df['num_of_spec_grades'],\n",
    "                                   df['num_of_inv_grades']).astype(int)"
   ],
   "metadata": {
    "collapsed": false,
    "ExecuteTime": {
     "end_time": "2024-02-26T19:30:20.914251900Z",
     "start_time": "2024-02-26T19:30:20.880530200Z"
    }
   },
   "id": "ee1ab74f7dfe7219"
  },
  {
   "cell_type": "code",
   "execution_count": 6,
   "outputs": [],
   "source": [
    "# Calculate the average\n",
    "p_total_average = np.mean(df[\"pd_total\"])"
   ],
   "metadata": {
    "collapsed": false,
    "ExecuteTime": {
     "end_time": "2024-02-26T19:30:20.966253300Z",
     "start_time": "2024-02-26T19:30:20.893249Z"
    }
   },
   "id": "a99f30340817578f"
  },
  {
   "cell_type": "code",
   "execution_count": 7,
   "outputs": [
    {
     "name": "stdout",
     "output_type": "stream",
     "text": [
      "0.0147675\n"
     ]
    }
   ],
   "source": [
    "print(p_total_average)"
   ],
   "metadata": {
    "collapsed": false,
    "ExecuteTime": {
     "end_time": "2024-02-26T19:30:20.996256Z",
     "start_time": "2024-02-26T19:30:20.910250500Z"
    }
   },
   "id": "a2e5e8033dafa72e"
  },
  {
   "cell_type": "code",
   "execution_count": 8,
   "outputs": [],
   "source": [
    "# Expected value of 1/n_g\n",
    "expected_value_of_reciprocal_n_g = np.mean(1 / df['num_of_total_grades'])"
   ],
   "metadata": {
    "collapsed": false,
    "ExecuteTime": {
     "end_time": "2024-02-26T19:30:21.170283700Z",
     "start_time": "2024-02-26T19:30:20.927252700Z"
    }
   },
   "id": "bbe7abbd205f915f"
  },
  {
   "cell_type": "code",
   "execution_count": 9,
   "outputs": [
    {
     "name": "stdout",
     "output_type": "stream",
     "text": [
      "0.0002769531644134457\n"
     ]
    }
   ],
   "source": [
    "print(expected_value_of_reciprocal_n_g)"
   ],
   "metadata": {
    "collapsed": false,
    "ExecuteTime": {
     "end_time": "2024-02-26T19:30:21.204285900Z",
     "start_time": "2024-02-26T19:30:20.940254100Z"
    }
   },
   "id": "48484a0a15f6ce8c"
  },
  {
   "cell_type": "code",
   "execution_count": 10,
   "outputs": [],
   "source": [
    "# Normalized volatility\n",
    "normalized_volatility = np.sqrt(np.var(df[\"pd_total\"]))/p_total_average"
   ],
   "metadata": {
    "collapsed": false,
    "ExecuteTime": {
     "end_time": "2024-02-26T19:30:21.205289400Z",
     "start_time": "2024-02-26T19:30:20.958253300Z"
    }
   },
   "id": "29d43b0eb859ad44"
  },
  {
   "cell_type": "code",
   "execution_count": 11,
   "outputs": [
    {
     "name": "stdout",
     "output_type": "stream",
     "text": [
      "0.6558144744924091\n"
     ]
    }
   ],
   "source": [
    "print(normalized_volatility)"
   ],
   "metadata": {
    "collapsed": false,
    "ExecuteTime": {
     "end_time": "2024-02-26T19:30:21.206288Z",
     "start_time": "2024-02-26T19:30:20.971258Z"
    }
   },
   "id": "bb2f1dd751783a36"
  },
  {
   "cell_type": "markdown",
   "source": [
    "$$\n",
    "\\mathrm{V}\\left[p_\\zeta(x)\\right]=\\frac{\\mathrm{V}\\left[\\hat{p}_\\zeta\\right]-\\mathrm{E}\\left[1 / \\hat{n}_\\zeta\\right] \\bar{p}_\\zeta\\left(1-\\bar{p}_\\zeta\\right)}{1-\\mathrm{E}\\left[1 / \\hat{n}_\\zeta\\right]}\n",
    "$$"
   ],
   "metadata": {
    "collapsed": false
   },
   "id": "d72789b7eb090854"
  },
  {
   "cell_type": "code",
   "execution_count": 12,
   "outputs": [],
   "source": [
    "variance_of_p_total = (np.var(df[\"pd_total\"]) - expected_value_of_reciprocal_n_g * p_total_average * (1 - p_total_average)) / (1 - expected_value_of_reciprocal_n_g)"
   ],
   "metadata": {
    "collapsed": false,
    "ExecuteTime": {
     "end_time": "2024-02-26T19:30:21.211287200Z",
     "start_time": "2024-02-26T19:30:20.988257400Z"
    }
   },
   "id": "6da78c2b5a1993cb"
  },
  {
   "cell_type": "code",
   "execution_count": 13,
   "outputs": [
    {
     "name": "stdout",
     "output_type": "stream",
     "text": [
      "8.9789553080102e-05\n"
     ]
    }
   ],
   "source": [
    "print(variance_of_p_total)"
   ],
   "metadata": {
    "collapsed": false,
    "ExecuteTime": {
     "end_time": "2024-02-26T19:30:21.212286800Z",
     "start_time": "2024-02-26T19:30:21.002258200Z"
    }
   },
   "id": "6bd164698fca19a4"
  },
  {
   "cell_type": "code",
   "execution_count": 14,
   "outputs": [],
   "source": [
    "normalized_varience = np.sqrt(variance_of_p_total) / p_total_average"
   ],
   "metadata": {
    "collapsed": false,
    "ExecuteTime": {
     "end_time": "2024-02-26T19:30:21.212286800Z",
     "start_time": "2024-02-26T19:30:21.022259300Z"
    }
   },
   "id": "874dd9c01577a07f"
  },
  {
   "cell_type": "code",
   "execution_count": 15,
   "outputs": [
    {
     "name": "stdout",
     "output_type": "stream",
     "text": [
      "0.6416614161184627\n"
     ]
    }
   ],
   "source": [
    "print(normalized_varience)"
   ],
   "metadata": {
    "collapsed": false,
    "ExecuteTime": {
     "end_time": "2024-02-26T19:30:21.212286800Z",
     "start_time": "2024-02-26T19:30:21.031261600Z"
    }
   },
   "id": "534284de593850e2"
  },
  {
   "cell_type": "code",
   "execution_count": 16,
   "outputs": [],
   "source": [
    "cut_off_value_total = stats.norm.ppf(p_total_average)"
   ],
   "metadata": {
    "collapsed": false,
    "ExecuteTime": {
     "end_time": "2024-02-26T19:30:21.212286800Z",
     "start_time": "2024-02-26T19:30:21.049264300Z"
    }
   },
   "id": "cbab0c1650dc8b95"
  },
  {
   "cell_type": "code",
   "execution_count": 17,
   "outputs": [
    {
     "name": "stdout",
     "output_type": "stream",
     "text": [
      "-2.1762710356300374\n"
     ]
    }
   ],
   "source": [
    "print(cut_off_value_total)"
   ],
   "metadata": {
    "collapsed": false,
    "ExecuteTime": {
     "end_time": "2024-02-26T19:30:21.213286900Z",
     "start_time": "2024-02-26T19:30:21.065268100Z"
    }
   },
   "id": "9dae9e02a0d986a1"
  },
  {
   "cell_type": "markdown",
   "source": [
    "$$\n",
    "V_\\zeta \\equiv \\operatorname{Var}\\left[p_\\zeta(x)\\right]=\\operatorname{BIVNOR}\\left(C_\\zeta, C_\\zeta, w_\\zeta^2\\right)-\\bar{p}_\\zeta^2\n",
    "$$"
   ],
   "metadata": {
    "collapsed": false
   },
   "id": "74d4d2ca87fcad2c"
  },
  {
   "cell_type": "code",
   "execution_count": 18,
   "outputs": [],
   "source": [
    "def calc_variance_of_default_rate(w_factor_loading, p_average = p_total_average):\n",
    "    \n",
    "    cut_off_value = stats.norm.ppf(p_total_average)\n",
    "    \n",
    "    # if w_factor_loading is a np array, take the first element\n",
    "    if isinstance(w_factor_loading, np.ndarray):\n",
    "        w_factor_loading = w_factor_loading[0]\n",
    "    \n",
    "    # Bivariate normal cdf parameters\n",
    "    mean = [0, 0]\n",
    "    cov_matrix = [[1, w_factor_loading], [w_factor_loading, 1]]\n",
    "    \n",
    "     # Calculate BIVNOR value\n",
    "    bivnor_value = stats.multivariate_normal.cdf([cut_off_value, cut_off_value], mean=mean, cov=cov_matrix)\n",
    "    \n",
    "    result = bivnor_value - p_average ** 2\n",
    "    \n",
    "    return result"
   ],
   "metadata": {
    "collapsed": false,
    "ExecuteTime": {
     "end_time": "2024-02-26T19:30:21.213286900Z",
     "start_time": "2024-02-26T19:30:21.080273200Z"
    }
   },
   "id": "81d9524123df25"
  },
  {
   "cell_type": "code",
   "execution_count": 19,
   "outputs": [
    {
     "data": {
      "text/plain": "0.004096368277893707"
     },
     "execution_count": 19,
     "metadata": {},
     "output_type": "execute_result"
    }
   ],
   "source": [
    "# Test for calc_variance_of_default_rate\n",
    "calc_variance_of_default_rate(0.7)"
   ],
   "metadata": {
    "collapsed": false,
    "ExecuteTime": {
     "end_time": "2024-02-26T19:30:21.213286900Z",
     "start_time": "2024-02-26T19:30:21.096277400Z"
    }
   },
   "id": "cf3d9aaa4e993be7"
  },
  {
   "cell_type": "markdown",
   "source": [
    "## Method of moments parameter estimation for w_factor_loading"
   ],
   "metadata": {
    "collapsed": false
   },
   "id": "75177114fdd36304"
  },
  {
   "cell_type": "code",
   "execution_count": 20,
   "outputs": [
    {
     "name": "stdout",
     "output_type": "stream",
     "text": [
      "Found value of w_factor_loading: 0.056365695073192584\n"
     ]
    }
   ],
   "source": [
    "import scipy.stats as stats\n",
    "from scipy.optimize import minimize\n",
    "\n",
    "# Target value to achieve\n",
    "target_result = variance_of_p_total\n",
    "\n",
    "# Initial guess for the minimization algorithm\n",
    "initial_guess = 0.27\n",
    "\n",
    "# Define bounds for w_factor_loading\n",
    "bounds = [(-2, 2)]\n",
    "\n",
    "# Define object function\n",
    "object_function = lambda w: abs(calc_variance_of_default_rate(w) - target_result)\n",
    "\n",
    "# Minimization based on the objective function\n",
    "result = minimize(object_function, initial_guess, bounds=bounds)\n",
    "\n",
    "# The found value of w_factor_loading\n",
    "w_factor_loading_found = result.x[0]\n",
    "\n",
    "print(\"Found value of w_factor_loading:\", w_factor_loading_found)"
   ],
   "metadata": {
    "collapsed": false,
    "ExecuteTime": {
     "end_time": "2024-02-26T19:30:21.237288Z",
     "start_time": "2024-02-26T19:30:21.119280800Z"
    }
   },
   "id": "8d5506dd2b606949"
  },
  {
   "cell_type": "code",
   "execution_count": null,
   "outputs": [],
   "source": [],
   "metadata": {
    "collapsed": false
   },
   "id": "7dba51f6bb09315e"
  }
 ],
 "metadata": {
  "kernelspec": {
   "display_name": "Python 3",
   "language": "python",
   "name": "python3"
  },
  "language_info": {
   "codemirror_mode": {
    "name": "ipython",
    "version": 2
   },
   "file_extension": ".py",
   "mimetype": "text/x-python",
   "name": "python",
   "nbconvert_exporter": "python",
   "pygments_lexer": "ipython2",
   "version": "2.7.6"
  }
 },
 "nbformat": 4,
 "nbformat_minor": 5
}
