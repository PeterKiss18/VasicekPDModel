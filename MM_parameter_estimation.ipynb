{
 "cells": [
  {
   "cell_type": "code",
   "execution_count": 1,
   "id": "initial_id",
   "metadata": {
    "collapsed": true,
    "ExecuteTime": {
     "end_time": "2024-02-24T17:10:59.154756Z",
     "start_time": "2024-02-24T17:10:58.371432500Z"
    }
   },
   "outputs": [],
   "source": [
    "import numpy as np\n",
    "import pandas as pd"
   ]
  },
  {
   "cell_type": "code",
   "execution_count": 2,
   "outputs": [],
   "source": [
    "df = pd.read_csv('SP_historical_PD_data.csv', sep=';')"
   ],
   "metadata": {
    "collapsed": false,
    "ExecuteTime": {
     "end_time": "2024-02-24T17:10:59.169758800Z",
     "start_time": "2024-02-24T17:10:59.157754700Z"
    }
   },
   "id": "a50a6c52df6534b8"
  },
  {
   "cell_type": "code",
   "execution_count": 3,
   "outputs": [
    {
     "data": {
      "text/plain": "   Year  Total defaults*  Investment-grade defaults  \\\n0  1981                2                          0   \n1  1982               18                          2   \n2  1983               12                          1   \n3  1984               14                          2   \n4  1985               19                          0   \n\n   Speculative-grade defaults  Default rate (%)  \\\n0                           2              0.15   \n1                          15              1.22   \n2                          10              0.77   \n3                          12              0.93   \n4                          18              1.13   \n\n   Investment-grade default rate (%)  Speculative-grade default rate (%)  \\\n0                               0.00                                0.63   \n1                               0.19                                4.46   \n2                               0.09                                2.98   \n3                               0.17                                3.31   \n4                               0.00                                4.37   \n\n   Total debt outstanding (bil. $)  \n0                             0.06  \n1                             0.90  \n2                             0.37  \n3                             0.36  \n4                             0.31  ",
      "text/html": "<div>\n<style scoped>\n    .dataframe tbody tr th:only-of-type {\n        vertical-align: middle;\n    }\n\n    .dataframe tbody tr th {\n        vertical-align: top;\n    }\n\n    .dataframe thead th {\n        text-align: right;\n    }\n</style>\n<table border=\"1\" class=\"dataframe\">\n  <thead>\n    <tr style=\"text-align: right;\">\n      <th></th>\n      <th>Year</th>\n      <th>Total defaults*</th>\n      <th>Investment-grade defaults</th>\n      <th>Speculative-grade defaults</th>\n      <th>Default rate (%)</th>\n      <th>Investment-grade default rate (%)</th>\n      <th>Speculative-grade default rate (%)</th>\n      <th>Total debt outstanding (bil. $)</th>\n    </tr>\n  </thead>\n  <tbody>\n    <tr>\n      <th>0</th>\n      <td>1981</td>\n      <td>2</td>\n      <td>0</td>\n      <td>2</td>\n      <td>0.15</td>\n      <td>0.00</td>\n      <td>0.63</td>\n      <td>0.06</td>\n    </tr>\n    <tr>\n      <th>1</th>\n      <td>1982</td>\n      <td>18</td>\n      <td>2</td>\n      <td>15</td>\n      <td>1.22</td>\n      <td>0.19</td>\n      <td>4.46</td>\n      <td>0.90</td>\n    </tr>\n    <tr>\n      <th>2</th>\n      <td>1983</td>\n      <td>12</td>\n      <td>1</td>\n      <td>10</td>\n      <td>0.77</td>\n      <td>0.09</td>\n      <td>2.98</td>\n      <td>0.37</td>\n    </tr>\n    <tr>\n      <th>3</th>\n      <td>1984</td>\n      <td>14</td>\n      <td>2</td>\n      <td>12</td>\n      <td>0.93</td>\n      <td>0.17</td>\n      <td>3.31</td>\n      <td>0.36</td>\n    </tr>\n    <tr>\n      <th>4</th>\n      <td>1985</td>\n      <td>19</td>\n      <td>0</td>\n      <td>18</td>\n      <td>1.13</td>\n      <td>0.00</td>\n      <td>4.37</td>\n      <td>0.31</td>\n    </tr>\n  </tbody>\n</table>\n</div>"
     },
     "execution_count": 3,
     "metadata": {},
     "output_type": "execute_result"
    }
   ],
   "source": [
    "df.head()"
   ],
   "metadata": {
    "collapsed": false,
    "ExecuteTime": {
     "end_time": "2024-02-24T17:10:59.204757900Z",
     "start_time": "2024-02-24T17:10:59.170758500Z"
    }
   },
   "id": "515479d6224a7cd9"
  },
  {
   "cell_type": "code",
   "execution_count": 4,
   "outputs": [],
   "source": [
    "# Make pd columns\n",
    "df[\"pd_total\"] = df[\"Default rate (%)\"] / 100\n",
    "df[\"pd_inv\"] = df[\"Investment-grade default rate (%)\"] / 100\n",
    "df[\"pd_spec\"] = df[\"Speculative-grade default rate (%)\"] / 100"
   ],
   "metadata": {
    "collapsed": false,
    "ExecuteTime": {
     "end_time": "2024-02-24T17:10:59.239763800Z",
     "start_time": "2024-02-24T17:10:59.204757900Z"
    }
   },
   "id": "76008f90027fa94c"
  },
  {
   "cell_type": "code",
   "execution_count": 5,
   "outputs": [],
   "source": [
    "# Calculate the number of obligors\n",
    "df['num_of_inv_grades'] = (df['Investment-grade defaults'] / (df[\"pd_inv\"])).round()\n",
    "df['num_of_spec_grades'] = (\n",
    "            df['Speculative-grade defaults'] / (df[\"pd_spec\"])).round().astype(int)\n",
    "df['num_of_total_grades'] = (df['Total defaults*'] / (df[\"pd_total\"])).round().astype(int)\n",
    "\n",
    "# Fill-out the missing values in num_of_inv_grades column with the difference between num_of_total_grades and num_of_spec_grades\n",
    "df['num_of_inv_grades'] = np.where(df['num_of_inv_grades'].isna(), df['num_of_total_grades'] - df['num_of_spec_grades'],\n",
    "                                   df['num_of_inv_grades']).astype(int)"
   ],
   "metadata": {
    "collapsed": false,
    "ExecuteTime": {
     "end_time": "2024-02-24T17:10:59.294458200Z",
     "start_time": "2024-02-24T17:10:59.219760100Z"
    }
   },
   "id": "ee1ab74f7dfe7219"
  },
  {
   "cell_type": "code",
   "execution_count": 6,
   "outputs": [],
   "source": [
    "# Calculate the average\n",
    "p_total_average = np.mean(df[\"pd_total\"])"
   ],
   "metadata": {
    "collapsed": false,
    "ExecuteTime": {
     "end_time": "2024-02-24T17:10:59.353032200Z",
     "start_time": "2024-02-24T17:10:59.235762100Z"
    }
   },
   "id": "a99f30340817578f"
  },
  {
   "cell_type": "code",
   "execution_count": 7,
   "outputs": [
    {
     "name": "stdout",
     "output_type": "stream",
     "text": [
      "0.0147675\n"
     ]
    }
   ],
   "source": [
    "print(p_total_average)"
   ],
   "metadata": {
    "collapsed": false,
    "ExecuteTime": {
     "end_time": "2024-02-24T17:10:59.389034900Z",
     "start_time": "2024-02-24T17:10:59.251762700Z"
    }
   },
   "id": "a2e5e8033dafa72e"
  },
  {
   "cell_type": "code",
   "execution_count": 8,
   "outputs": [],
   "source": [
    "# Expected value of 1/n_g\n",
    "expected_value_of_reciprocal_n_g = np.mean(1 / df['num_of_total_grades'])"
   ],
   "metadata": {
    "collapsed": false,
    "ExecuteTime": {
     "end_time": "2024-02-24T17:10:59.413036600Z",
     "start_time": "2024-02-24T17:10:59.268764200Z"
    }
   },
   "id": "bbe7abbd205f915f"
  },
  {
   "cell_type": "code",
   "execution_count": 9,
   "outputs": [
    {
     "name": "stdout",
     "output_type": "stream",
     "text": [
      "0.0002769531644134457\n"
     ]
    }
   ],
   "source": [
    "print(expected_value_of_reciprocal_n_g)"
   ],
   "metadata": {
    "collapsed": false,
    "ExecuteTime": {
     "end_time": "2024-02-24T17:10:59.414037800Z",
     "start_time": "2024-02-24T17:10:59.283767600Z"
    }
   },
   "id": "48484a0a15f6ce8c"
  },
  {
   "cell_type": "code",
   "execution_count": 10,
   "outputs": [],
   "source": [
    "# Normalized volatility\n",
    "normalized_volatility = np.sqrt(np.var(df[\"pd_total\"]))/p_total_average"
   ],
   "metadata": {
    "collapsed": false,
    "ExecuteTime": {
     "end_time": "2024-02-24T17:10:59.415036700Z",
     "start_time": "2024-02-24T17:10:59.299460500Z"
    }
   },
   "id": "29d43b0eb859ad44"
  },
  {
   "cell_type": "code",
   "execution_count": 11,
   "outputs": [
    {
     "name": "stdout",
     "output_type": "stream",
     "text": [
      "0.6558144744924091\n"
     ]
    }
   ],
   "source": [
    "print(normalized_volatility)"
   ],
   "metadata": {
    "collapsed": false,
    "ExecuteTime": {
     "end_time": "2024-02-24T17:10:59.415036700Z",
     "start_time": "2024-02-24T17:10:59.316464Z"
    }
   },
   "id": "bb2f1dd751783a36"
  },
  {
   "cell_type": "code",
   "execution_count": null,
   "outputs": [],
   "source": [],
   "metadata": {
    "collapsed": false
   },
   "id": "6da78c2b5a1993cb"
  }
 ],
 "metadata": {
  "kernelspec": {
   "display_name": "Python 3",
   "language": "python",
   "name": "python3"
  },
  "language_info": {
   "codemirror_mode": {
    "name": "ipython",
    "version": 2
   },
   "file_extension": ".py",
   "mimetype": "text/x-python",
   "name": "python",
   "nbconvert_exporter": "python",
   "pygments_lexer": "ipython2",
   "version": "2.7.6"
  }
 },
 "nbformat": 4,
 "nbformat_minor": 5
}
