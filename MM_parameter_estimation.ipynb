{
 "cells": [
  {
   "cell_type": "markdown",
   "source": [
    "# Method of moments parameter estimation in Vasicek model"
   ],
   "metadata": {
    "collapsed": false
   },
   "id": "de566590ae8fe6ce"
  },
  {
   "cell_type": "code",
   "execution_count": 1,
   "outputs": [],
   "source": [
    "import numpy as np\n",
    "import pandas as pd\n",
    "import scipy.stats as stats\n",
    "from scipy.optimize import minimize"
   ],
   "metadata": {
    "collapsed": false,
    "ExecuteTime": {
     "end_time": "2024-04-19T14:39:22.022871700Z",
     "start_time": "2024-04-19T14:39:19.724685700Z"
    }
   },
   "id": "initial_id"
  },
  {
   "cell_type": "code",
   "execution_count": 6,
   "outputs": [],
   "source": [
    "df = pd.read_csv('data\\SP_historical_PD_data.csv', sep=';')"
   ],
   "metadata": {
    "collapsed": false,
    "ExecuteTime": {
     "end_time": "2024-04-19T14:39:49.795156800Z",
     "start_time": "2024-04-19T14:39:49.643147100Z"
    }
   },
   "id": "a50a6c52df6534b8"
  },
  {
   "cell_type": "code",
   "execution_count": 7,
   "outputs": [
    {
     "data": {
      "text/plain": "   Year  Total defaults*  Investment-grade defaults  \\\n0  1981                2                          0   \n1  1982               18                          2   \n2  1983               12                          1   \n3  1984               14                          2   \n4  1985               19                          0   \n\n   Speculative-grade defaults  Default rate (%)  \\\n0                           2              0.15   \n1                          15              1.22   \n2                          10              0.77   \n3                          12              0.93   \n4                          18              1.13   \n\n   Investment-grade default rate (%)  Speculative-grade default rate (%)  \\\n0                               0.00                                0.63   \n1                               0.19                                4.46   \n2                               0.09                                2.98   \n3                               0.17                                3.31   \n4                               0.00                                4.37   \n\n   Total debt outstanding (bil. $)  \n0                             0.06  \n1                             0.90  \n2                             0.37  \n3                             0.36  \n4                             0.31  ",
      "text/html": "<div>\n<style scoped>\n    .dataframe tbody tr th:only-of-type {\n        vertical-align: middle;\n    }\n\n    .dataframe tbody tr th {\n        vertical-align: top;\n    }\n\n    .dataframe thead th {\n        text-align: right;\n    }\n</style>\n<table border=\"1\" class=\"dataframe\">\n  <thead>\n    <tr style=\"text-align: right;\">\n      <th></th>\n      <th>Year</th>\n      <th>Total defaults*</th>\n      <th>Investment-grade defaults</th>\n      <th>Speculative-grade defaults</th>\n      <th>Default rate (%)</th>\n      <th>Investment-grade default rate (%)</th>\n      <th>Speculative-grade default rate (%)</th>\n      <th>Total debt outstanding (bil. $)</th>\n    </tr>\n  </thead>\n  <tbody>\n    <tr>\n      <th>0</th>\n      <td>1981</td>\n      <td>2</td>\n      <td>0</td>\n      <td>2</td>\n      <td>0.15</td>\n      <td>0.00</td>\n      <td>0.63</td>\n      <td>0.06</td>\n    </tr>\n    <tr>\n      <th>1</th>\n      <td>1982</td>\n      <td>18</td>\n      <td>2</td>\n      <td>15</td>\n      <td>1.22</td>\n      <td>0.19</td>\n      <td>4.46</td>\n      <td>0.90</td>\n    </tr>\n    <tr>\n      <th>2</th>\n      <td>1983</td>\n      <td>12</td>\n      <td>1</td>\n      <td>10</td>\n      <td>0.77</td>\n      <td>0.09</td>\n      <td>2.98</td>\n      <td>0.37</td>\n    </tr>\n    <tr>\n      <th>3</th>\n      <td>1984</td>\n      <td>14</td>\n      <td>2</td>\n      <td>12</td>\n      <td>0.93</td>\n      <td>0.17</td>\n      <td>3.31</td>\n      <td>0.36</td>\n    </tr>\n    <tr>\n      <th>4</th>\n      <td>1985</td>\n      <td>19</td>\n      <td>0</td>\n      <td>18</td>\n      <td>1.13</td>\n      <td>0.00</td>\n      <td>4.37</td>\n      <td>0.31</td>\n    </tr>\n  </tbody>\n</table>\n</div>"
     },
     "execution_count": 7,
     "metadata": {},
     "output_type": "execute_result"
    }
   ],
   "source": [
    "df.head()"
   ],
   "metadata": {
    "collapsed": false,
    "ExecuteTime": {
     "end_time": "2024-04-19T14:39:50.856243300Z",
     "start_time": "2024-04-19T14:39:50.759239800Z"
    }
   },
   "id": "515479d6224a7cd9"
  },
  {
   "cell_type": "code",
   "execution_count": 8,
   "outputs": [],
   "source": [
    "# Make pd columns\n",
    "df[\"pd_total\"] = df[\"Default rate (%)\"] / 100\n",
    "df[\"pd_inv\"] = df[\"Investment-grade default rate (%)\"] / 100\n",
    "df[\"pd_spec\"] = df[\"Speculative-grade default rate (%)\"] / 100"
   ],
   "metadata": {
    "collapsed": false,
    "ExecuteTime": {
     "end_time": "2024-04-19T14:39:51.463086400Z",
     "start_time": "2024-04-19T14:39:51.146269800Z"
    }
   },
   "id": "76008f90027fa94c"
  },
  {
   "cell_type": "code",
   "execution_count": 9,
   "outputs": [],
   "source": [
    "# Calculate the number of obligors\n",
    "df['num_of_inv_grades'] = (df['Investment-grade defaults'] / (df[\"pd_inv\"])).round()\n",
    "df['num_of_spec_grades'] = (\n",
    "            df['Speculative-grade defaults'] / (df[\"pd_spec\"])).round().astype(int)\n",
    "df['num_of_total_grades'] = (df['Total defaults*'] / (df[\"pd_total\"])).round().astype(int)\n",
    "\n",
    "# Fill-out the missing values in num_of_inv_grades column with the difference between num_of_total_grades and num_of_spec_grades\n",
    "df['num_of_inv_grades'] = np.where(df['num_of_inv_grades'].isna(), df['num_of_total_grades'] - df['num_of_spec_grades'],\n",
    "                                   df['num_of_inv_grades']).astype(int)"
   ],
   "metadata": {
    "collapsed": false,
    "ExecuteTime": {
     "end_time": "2024-04-19T14:39:51.541090800Z",
     "start_time": "2024-04-19T14:39:51.380289400Z"
    }
   },
   "id": "ee1ab74f7dfe7219"
  },
  {
   "cell_type": "code",
   "execution_count": 10,
   "outputs": [],
   "source": [
    "# Calculate the average\n",
    "p_total_average = np.mean(df[\"pd_total\"])"
   ],
   "metadata": {
    "collapsed": false,
    "ExecuteTime": {
     "end_time": "2024-04-19T14:39:51.723783800Z",
     "start_time": "2024-04-19T14:39:51.589770200Z"
    }
   },
   "id": "a99f30340817578f"
  },
  {
   "cell_type": "code",
   "execution_count": 11,
   "outputs": [
    {
     "name": "stdout",
     "output_type": "stream",
     "text": [
      "0.0147675\n"
     ]
    }
   ],
   "source": [
    "print(p_total_average)"
   ],
   "metadata": {
    "collapsed": false,
    "ExecuteTime": {
     "end_time": "2024-04-19T14:39:51.946803400Z",
     "start_time": "2024-04-19T14:39:51.858797500Z"
    }
   },
   "id": "a2e5e8033dafa72e"
  },
  {
   "cell_type": "code",
   "execution_count": 12,
   "outputs": [],
   "source": [
    "# Expected value of 1/n_g\n",
    "expected_value_of_reciprocal_n_g = np.mean(1 / df['num_of_total_grades'])"
   ],
   "metadata": {
    "collapsed": false,
    "ExecuteTime": {
     "end_time": "2024-04-19T14:39:52.224824400Z",
     "start_time": "2024-04-19T14:39:52.118819200Z"
    }
   },
   "id": "bbe7abbd205f915f"
  },
  {
   "cell_type": "code",
   "execution_count": 13,
   "outputs": [
    {
     "name": "stdout",
     "output_type": "stream",
     "text": [
      "0.0002769531644134457\n"
     ]
    }
   ],
   "source": [
    "print(expected_value_of_reciprocal_n_g)"
   ],
   "metadata": {
    "collapsed": false,
    "ExecuteTime": {
     "end_time": "2024-04-19T14:39:52.457844900Z",
     "start_time": "2024-04-19T14:39:52.367838800Z"
    }
   },
   "id": "48484a0a15f6ce8c"
  },
  {
   "cell_type": "code",
   "execution_count": 14,
   "outputs": [],
   "source": [
    "# Normalized volatility\n",
    "normalized_volatility = np.sqrt(np.var(df[\"pd_total\"]))/p_total_average"
   ],
   "metadata": {
    "collapsed": false,
    "ExecuteTime": {
     "end_time": "2024-04-19T14:39:52.704864900Z",
     "start_time": "2024-04-19T14:39:52.623857900Z"
    }
   },
   "id": "29d43b0eb859ad44"
  },
  {
   "cell_type": "code",
   "execution_count": 15,
   "outputs": [
    {
     "name": "stdout",
     "output_type": "stream",
     "text": [
      "0.6558144744924091\n"
     ]
    }
   ],
   "source": [
    "print(normalized_volatility)"
   ],
   "metadata": {
    "collapsed": false,
    "ExecuteTime": {
     "end_time": "2024-04-19T14:39:52.984950800Z",
     "start_time": "2024-04-19T14:39:52.878946300Z"
    }
   },
   "id": "bb2f1dd751783a36"
  },
  {
   "cell_type": "markdown",
   "source": [
    "$$\n",
    "\\mathrm{V}\\left[p_\\zeta(x)\\right]=\\frac{\\mathrm{V}\\left[\\hat{p}_\\zeta\\right]-\\mathrm{E}\\left[1 / \\hat{n}_\\zeta\\right] \\bar{p}_\\zeta\\left(1-\\bar{p}_\\zeta\\right)}{1-\\mathrm{E}\\left[1 / \\hat{n}_\\zeta\\right]}\n",
    "$$"
   ],
   "metadata": {
    "collapsed": false
   },
   "id": "d72789b7eb090854"
  },
  {
   "cell_type": "code",
   "execution_count": 16,
   "outputs": [],
   "source": [
    "variance_of_p_total = (np.var(df[\"pd_total\"]) - expected_value_of_reciprocal_n_g * p_total_average * (1 - p_total_average)) / (1 - expected_value_of_reciprocal_n_g)"
   ],
   "metadata": {
    "collapsed": false,
    "ExecuteTime": {
     "end_time": "2024-04-19T14:39:53.484003500Z",
     "start_time": "2024-04-19T14:39:53.389999100Z"
    }
   },
   "id": "6da78c2b5a1993cb"
  },
  {
   "cell_type": "code",
   "execution_count": 17,
   "outputs": [
    {
     "name": "stdout",
     "output_type": "stream",
     "text": [
      "8.9789553080102e-05\n"
     ]
    }
   ],
   "source": [
    "print(variance_of_p_total)"
   ],
   "metadata": {
    "collapsed": false,
    "ExecuteTime": {
     "end_time": "2024-04-19T14:39:53.799341300Z",
     "start_time": "2024-04-19T14:39:53.691872700Z"
    }
   },
   "id": "6bd164698fca19a4"
  },
  {
   "cell_type": "code",
   "execution_count": 18,
   "outputs": [],
   "source": [
    "normalized_varience = np.sqrt(variance_of_p_total) / p_total_average"
   ],
   "metadata": {
    "collapsed": false,
    "ExecuteTime": {
     "end_time": "2024-04-19T14:39:54.065362500Z",
     "start_time": "2024-04-19T14:39:53.969357Z"
    }
   },
   "id": "874dd9c01577a07f"
  },
  {
   "cell_type": "code",
   "execution_count": 19,
   "outputs": [
    {
     "name": "stdout",
     "output_type": "stream",
     "text": [
      "0.6416614161184627\n"
     ]
    }
   ],
   "source": [
    "print(normalized_varience)"
   ],
   "metadata": {
    "collapsed": false,
    "ExecuteTime": {
     "end_time": "2024-04-19T14:39:54.349385900Z",
     "start_time": "2024-04-19T14:39:54.253379500Z"
    }
   },
   "id": "534284de593850e2"
  },
  {
   "cell_type": "code",
   "execution_count": 20,
   "outputs": [],
   "source": [
    "cut_off_value_total = stats.norm.ppf(p_total_average)"
   ],
   "metadata": {
    "collapsed": false,
    "ExecuteTime": {
     "end_time": "2024-04-19T14:39:54.997393100Z",
     "start_time": "2024-04-19T14:39:54.926015100Z"
    }
   },
   "id": "cbab0c1650dc8b95"
  },
  {
   "cell_type": "code",
   "execution_count": 21,
   "outputs": [
    {
     "name": "stdout",
     "output_type": "stream",
     "text": [
      "-2.1762710356300374\n"
     ]
    }
   ],
   "source": [
    "print(cut_off_value_total)"
   ],
   "metadata": {
    "collapsed": false,
    "ExecuteTime": {
     "end_time": "2024-04-19T14:39:55.331107400Z",
     "start_time": "2024-04-19T14:39:55.221094600Z"
    }
   },
   "id": "9dae9e02a0d986a1"
  },
  {
   "cell_type": "markdown",
   "source": [
    "$$\n",
    "V_\\zeta \\equiv \\operatorname{Var}\\left[p_\\zeta(x)\\right]=\\operatorname{BIVNOR}\\left(C_\\zeta, C_\\zeta, w_\\zeta^2\\right)-\\bar{p}_\\zeta^2\n",
    "$$"
   ],
   "metadata": {
    "collapsed": false
   },
   "id": "74d4d2ca87fcad2c"
  },
  {
   "cell_type": "code",
   "execution_count": 22,
   "outputs": [],
   "source": [
    "def calc_variance_of_default_rate(w_factor_loading, pd_average = p_total_average):\n",
    "    \n",
    "    cut_off_value = stats.norm.ppf(pd_average)\n",
    "    \n",
    "    # if w_factor_loading is a np array, take the first element\n",
    "    if isinstance(w_factor_loading, np.ndarray):\n",
    "        w_factor_loading = w_factor_loading[0]\n",
    "    \n",
    "    # Bivariate normal cdf parameters\n",
    "    mean = [0, 0]\n",
    "    cov_matrix = [[1, w_factor_loading], [w_factor_loading, 1]]\n",
    "    \n",
    "     # Calculate BIVNOR value\n",
    "    bivnor_value = stats.multivariate_normal.cdf([cut_off_value, cut_off_value], mean=mean, cov=cov_matrix)\n",
    "    \n",
    "    result = bivnor_value - pd_average ** 2\n",
    "    \n",
    "    return result"
   ],
   "metadata": {
    "collapsed": false,
    "ExecuteTime": {
     "end_time": "2024-04-19T14:39:56.561135900Z",
     "start_time": "2024-04-19T14:39:56.405123300Z"
    }
   },
   "id": "81d9524123df25"
  },
  {
   "cell_type": "code",
   "execution_count": 23,
   "outputs": [
    {
     "data": {
      "text/plain": "0.004096368277893707"
     },
     "execution_count": 23,
     "metadata": {},
     "output_type": "execute_result"
    }
   ],
   "source": [
    "# Test for calc_variance_of_default_rate\n",
    "calc_variance_of_default_rate(0.7)"
   ],
   "metadata": {
    "collapsed": false,
    "ExecuteTime": {
     "end_time": "2024-04-19T14:39:57.990716900Z",
     "start_time": "2024-04-19T14:39:57.903711300Z"
    }
   },
   "id": "cf3d9aaa4e993be7"
  },
  {
   "cell_type": "markdown",
   "source": [
    "## Method of moments parameter estimation for w_factor_loading"
   ],
   "metadata": {
    "collapsed": false
   },
   "id": "75177114fdd36304"
  },
  {
   "cell_type": "code",
   "execution_count": 25,
   "outputs": [
    {
     "name": "stdout",
     "output_type": "stream",
     "text": [
      "Found value of w_factor_loading: 0.056365695073192584\n"
     ]
    }
   ],
   "source": [
    "# Target value to achieve\n",
    "target_result = variance_of_p_total\n",
    "\n",
    "# Initial guess for the minimization algorithm\n",
    "initial_guess = 0.27\n",
    "\n",
    "# Define bounds for w_factor_loading\n",
    "bounds = [(-2, 2)]\n",
    "\n",
    "# Define object function\n",
    "object_function = lambda w: abs(calc_variance_of_default_rate(w) - target_result)\n",
    "\n",
    "# Minimization based on the objective function\n",
    "result = minimize(object_function, initial_guess, bounds=bounds)\n",
    "\n",
    "# The found value of w_factor_loading\n",
    "w_factor_loading_found = result.x[0]\n",
    "\n",
    "print(\"Found value of w_factor_loading:\", w_factor_loading_found)"
   ],
   "metadata": {
    "collapsed": false,
    "ExecuteTime": {
     "end_time": "2024-04-19T14:41:20.179425800Z",
     "start_time": "2024-04-19T14:41:20.082421700Z"
    }
   },
   "id": "8d5506dd2b606949"
  },
  {
   "cell_type": "code",
   "execution_count": null,
   "outputs": [],
   "source": [],
   "metadata": {
    "collapsed": false
   },
   "id": "bf03dd33d104324a"
  },
  {
   "cell_type": "markdown",
   "source": [
    "## Packaged function for parameter estimation"
   ],
   "metadata": {
    "collapsed": false
   },
   "id": "e7710c4b26813e29"
  },
  {
   "cell_type": "code",
   "execution_count": 26,
   "outputs": [],
   "source": [
    "def estimate_w_factor_loading(historical_pd, num_of_total_grades, initial_guess=0.27):\n",
    "    \"\"\"\n",
    "    Estimate w_factor_loading using the method of moments\n",
    "    :param historical_pd: pd series, list of historical default rates\n",
    "    :param num_of_total_grades: pd series, list of the number of total grades\n",
    "    :param initial_guess: float, initial guess for the minimization algorithm\n",
    "    :return: float, estimated w_factor_loading\n",
    "    \"\"\"\n",
    "    \n",
    "    # Calculate the average\n",
    "    pd_average = np.mean(historical_pd)\n",
    "    \n",
    "    # Calculate the expected value of 1/n_g\n",
    "    expected_value_of_reciprocal_n_g = np.mean(1 / num_of_total_grades)\n",
    "    \n",
    "    # Variance of default rate\n",
    "    variance_of_p_d = (np.var(historical_pd) - expected_value_of_reciprocal_n_g * pd_average * (1 - pd_average)) / (1 - expected_value_of_reciprocal_n_g)\n",
    "\n",
    "    # Define bounds for w_factor_loading\n",
    "    bounds = [(-5, 5)]\n",
    "\n",
    "    # Define object function\n",
    "    object_function = lambda w: abs(calc_variance_of_default_rate(w, pd_average) - variance_of_p_d)\n",
    "\n",
    "    # Minimization based on the objective function\n",
    "    result = minimize(object_function, initial_guess, bounds=bounds)\n",
    "\n",
    "    # The found value of w_factor_loading\n",
    "    w_factor_loading_found = result.x[0]\n",
    "\n",
    "    return w_factor_loading_found, pd_average"
   ],
   "metadata": {
    "collapsed": false,
    "ExecuteTime": {
     "end_time": "2024-04-19T14:41:21.634041500Z",
     "start_time": "2024-04-19T14:41:21.514033300Z"
    }
   },
   "id": "81d256e2e7fa9db8"
  },
  {
   "cell_type": "code",
   "execution_count": 27,
   "outputs": [
    {
     "data": {
      "text/plain": "(0.056365695073192584, 0.0147675)"
     },
     "execution_count": 27,
     "metadata": {},
     "output_type": "execute_result"
    }
   ],
   "source": [
    "# Test for the packaged function\n",
    "estimate_w_factor_loading(df[\"pd_total\"], df[\"num_of_total_grades\"])"
   ],
   "metadata": {
    "collapsed": false,
    "ExecuteTime": {
     "end_time": "2024-04-19T14:41:22.491484200Z",
     "start_time": "2024-04-19T14:41:22.398478300Z"
    }
   },
   "id": "52f42c699a6b7ed7"
  },
  {
   "cell_type": "code",
   "execution_count": 28,
   "outputs": [
    {
     "data": {
      "text/plain": "(0.07270379780609139, 0.0008775)"
     },
     "execution_count": 28,
     "metadata": {},
     "output_type": "execute_result"
    }
   ],
   "source": [
    "estimate_w_factor_loading(df[\"pd_inv\"], df[\"num_of_inv_grades\"])"
   ],
   "metadata": {
    "collapsed": false,
    "ExecuteTime": {
     "end_time": "2024-04-19T14:41:22.826559100Z",
     "start_time": "2024-04-19T14:41:22.671551100Z"
    }
   },
   "id": "f25ccaffc62030d3"
  },
  {
   "cell_type": "code",
   "execution_count": 29,
   "outputs": [
    {
     "data": {
      "text/plain": "(0.07602889962521624, 0.040069999999999995)"
     },
     "execution_count": 29,
     "metadata": {},
     "output_type": "execute_result"
    }
   ],
   "source": [
    "estimate_w_factor_loading(df[\"pd_spec\"], df[\"num_of_spec_grades\"])"
   ],
   "metadata": {
    "collapsed": false,
    "ExecuteTime": {
     "end_time": "2024-04-19T14:41:23.194588900Z",
     "start_time": "2024-04-19T14:41:22.893568600Z"
    }
   },
   "id": "e31a1d57bb184a3b"
  },
  {
   "cell_type": "markdown",
   "source": [
    "# Using MM_estimation function from the package"
   ],
   "metadata": {
    "collapsed": false
   },
   "id": "bcd7979eeead5947"
  },
  {
   "cell_type": "code",
   "execution_count": 30,
   "outputs": [
    {
     "name": "stdout",
     "output_type": "stream",
     "text": [
      "Estimated w_factor_loading for total grades: 0.2374064566828194\n",
      "Estimated pd_average for total grades: -2.17626718586128\n"
     ]
    }
   ],
   "source": [
    "from src.MM_estimation import MM_estimation\n",
    "\n",
    "# Estimate w_factor_loading for total grades\n",
    "w_total, pd_total = MM_estimation(df[\"Total defaults*\"], df[\"num_of_total_grades\"])\n",
    "\n",
    "print(\"Estimated w_factor_loading for total grades:\", w_total)\n",
    "print(\"Estimated pd_average for total grades:\", pd_total)"
   ],
   "metadata": {
    "collapsed": false,
    "ExecuteTime": {
     "end_time": "2024-04-19T14:41:24.657308900Z",
     "start_time": "2024-04-19T14:41:24.543301600Z"
    }
   },
   "id": "2b9cb68a0fa18cb8"
  },
  {
   "cell_type": "code",
   "execution_count": 31,
   "outputs": [
    {
     "name": "stdout",
     "output_type": "stream",
     "text": [
      "0.23741460694825398 -2.1762710356300374\n"
     ]
    }
   ],
   "source": [
    "from src.MM_estimation import estimate_w_factor_loading\n",
    "from scipy.stats import norm\n",
    "\n",
    "param1, param2 = estimate_w_factor_loading(df[\"pd_total\"], df[\"num_of_total_grades\"])\n",
    "print(param1, norm.ppf(param2))"
   ],
   "metadata": {
    "collapsed": false,
    "ExecuteTime": {
     "end_time": "2024-04-19T14:41:25.238355800Z",
     "start_time": "2024-04-19T14:41:25.099346Z"
    }
   },
   "id": "d596aff8556cc7c6"
  },
  {
   "cell_type": "markdown",
   "source": [
    "# Generated default time series gives back different w_factor_loading than the input parameter"
   ],
   "metadata": {
    "collapsed": false
   },
   "id": "56b82b6ffd8dfa7f"
  },
  {
   "cell_type": "code",
   "execution_count": 32,
   "outputs": [],
   "source": [
    "from src.data_generator import generate_default_time_series\n",
    "import numpy as np\n",
    "\n",
    "time_points = 160\n",
    "num_of_obligors_list = [3000, 3000, 3000]\n",
    "factor_loading_list = [0.3, 0.3, 0.3]\n",
    "gamma_list = [-2.9, -2.3, -1.6]\n",
    "\n",
    "generated_ts_df = generate_default_time_series(factor_loading_list, num_of_obligors_list, gamma_list, time_points)"
   ],
   "metadata": {
    "collapsed": false,
    "ExecuteTime": {
     "end_time": "2024-04-19T14:41:26.406144100Z",
     "start_time": "2024-04-19T14:41:26.293136300Z"
    }
   },
   "id": "9f1256407d2afc2b"
  },
  {
   "cell_type": "code",
   "execution_count": 33,
   "outputs": [
    {
     "data": {
      "text/plain": "     d_g_0  d_g_1  d_g_2\n0        0     19    120\n1        4     16     95\n2        7     27    114\n3        1      1     42\n4        7     44    214\n..     ...    ...    ...\n155      8     29    172\n156      8     63    313\n157     12    104    386\n158     11     48    254\n159      0     14     88\n\n[160 rows x 3 columns]",
      "text/html": "<div>\n<style scoped>\n    .dataframe tbody tr th:only-of-type {\n        vertical-align: middle;\n    }\n\n    .dataframe tbody tr th {\n        vertical-align: top;\n    }\n\n    .dataframe thead th {\n        text-align: right;\n    }\n</style>\n<table border=\"1\" class=\"dataframe\">\n  <thead>\n    <tr style=\"text-align: right;\">\n      <th></th>\n      <th>d_g_0</th>\n      <th>d_g_1</th>\n      <th>d_g_2</th>\n    </tr>\n  </thead>\n  <tbody>\n    <tr>\n      <th>0</th>\n      <td>0</td>\n      <td>19</td>\n      <td>120</td>\n    </tr>\n    <tr>\n      <th>1</th>\n      <td>4</td>\n      <td>16</td>\n      <td>95</td>\n    </tr>\n    <tr>\n      <th>2</th>\n      <td>7</td>\n      <td>27</td>\n      <td>114</td>\n    </tr>\n    <tr>\n      <th>3</th>\n      <td>1</td>\n      <td>1</td>\n      <td>42</td>\n    </tr>\n    <tr>\n      <th>4</th>\n      <td>7</td>\n      <td>44</td>\n      <td>214</td>\n    </tr>\n    <tr>\n      <th>...</th>\n      <td>...</td>\n      <td>...</td>\n      <td>...</td>\n    </tr>\n    <tr>\n      <th>155</th>\n      <td>8</td>\n      <td>29</td>\n      <td>172</td>\n    </tr>\n    <tr>\n      <th>156</th>\n      <td>8</td>\n      <td>63</td>\n      <td>313</td>\n    </tr>\n    <tr>\n      <th>157</th>\n      <td>12</td>\n      <td>104</td>\n      <td>386</td>\n    </tr>\n    <tr>\n      <th>158</th>\n      <td>11</td>\n      <td>48</td>\n      <td>254</td>\n    </tr>\n    <tr>\n      <th>159</th>\n      <td>0</td>\n      <td>14</td>\n      <td>88</td>\n    </tr>\n  </tbody>\n</table>\n<p>160 rows × 3 columns</p>\n</div>"
     },
     "execution_count": 33,
     "metadata": {},
     "output_type": "execute_result"
    }
   ],
   "source": [
    "generated_ts_df"
   ],
   "metadata": {
    "collapsed": false,
    "ExecuteTime": {
     "end_time": "2024-04-19T14:41:27.596312700Z",
     "start_time": "2024-04-19T14:41:27.453301Z"
    }
   },
   "id": "417c35ad637e29b0"
  },
  {
   "cell_type": "code",
   "execution_count": 34,
   "outputs": [],
   "source": [
    "num_of_obligors_table = num_of_obligors_list[0] * np.ones(generated_ts_df.shape)"
   ],
   "metadata": {
    "collapsed": false,
    "ExecuteTime": {
     "end_time": "2024-04-19T14:42:54.759627100Z",
     "start_time": "2024-04-19T14:42:54.627618Z"
    }
   },
   "id": "42bbf534d0f6fad4"
  },
  {
   "cell_type": "code",
   "execution_count": 35,
   "outputs": [],
   "source": [
    "defaulted_all = np.array(generated_ts_df.sum(axis=0))"
   ],
   "metadata": {
    "collapsed": false,
    "ExecuteTime": {
     "end_time": "2024-04-19T14:43:26.921799300Z",
     "start_time": "2024-04-19T14:43:26.828794600Z"
    }
   },
   "id": "6bbab89b907df3d"
  },
  {
   "cell_type": "code",
   "execution_count": 36,
   "outputs": [],
   "source": [
    "pds = defaulted_all / (num_of_obligors_list[0] * time_points)"
   ],
   "metadata": {
    "collapsed": false,
    "ExecuteTime": {
     "end_time": "2024-04-19T14:43:27.315019700Z",
     "start_time": "2024-04-19T14:43:27.244016300Z"
    }
   },
   "id": "e5a722e35477b606"
  },
  {
   "cell_type": "code",
   "execution_count": 37,
   "outputs": [
    {
     "data": {
      "text/plain": "array([-2.90514472, -2.30611573, -1.59766898])"
     },
     "execution_count": 37,
     "metadata": {},
     "output_type": "execute_result"
    }
   ],
   "source": [
    "from scipy.stats import norm\n",
    "\n",
    "norm.ppf(pds)"
   ],
   "metadata": {
    "collapsed": false,
    "ExecuteTime": {
     "end_time": "2024-04-19T14:43:27.727509900Z",
     "start_time": "2024-04-19T14:43:27.653505800Z"
    }
   },
   "id": "9c1865ff4d288a9b"
  },
  {
   "cell_type": "code",
   "execution_count": 38,
   "outputs": [],
   "source": [
    "from src.MM_estimation import MM_estimation\n",
    "\n",
    "# Estimate w_factor_loading for total grades\n",
    "w_total, pd_total = MM_estimation(generated_ts_df[\"d_g_2\"], num_of_obligors_list[2])"
   ],
   "metadata": {
    "collapsed": false,
    "ExecuteTime": {
     "end_time": "2024-04-19T14:43:31.195148200Z",
     "start_time": "2024-04-19T14:43:31.052138600Z"
    }
   },
   "id": "5ba8f8b22238c7ca"
  },
  {
   "cell_type": "code",
   "execution_count": 39,
   "outputs": [
    {
     "name": "stdout",
     "output_type": "stream",
     "text": [
      "0.28906850423785657 -1.597668976226097\n"
     ]
    }
   ],
   "source": [
    "print(w_total, pd_total)"
   ],
   "metadata": {
    "collapsed": false,
    "ExecuteTime": {
     "end_time": "2024-04-19T14:43:32.756115200Z",
     "start_time": "2024-04-19T14:43:32.588101400Z"
    }
   },
   "id": "de77f4c454df0976"
  },
  {
   "cell_type": "code",
   "execution_count": 44,
   "outputs": [
    {
     "name": "stdout",
     "output_type": "stream",
     "text": [
      "0.27003303959670394 -2.9051447155502528\n",
      "0.2903447393851022 -2.3061157287707283\n",
      "0.28906850423785657 -1.597668976226097\n"
     ]
    }
   ],
   "source": [
    "# Make MM for every grade\n",
    "MM_params_w = []\n",
    "MM_params_gamma = []\n",
    "\n",
    "for i in range(3):\n",
    "    w_total, pd_total = MM_estimation(generated_ts_df[f'd_g_{i}'], num_of_obligors_list[i])\n",
    "    print(w_total, pd_total)\n",
    "    MM_params_w.append(w_total)\n",
    "    MM_params_gamma.append(pd_total)"
   ],
   "metadata": {
    "collapsed": false,
    "ExecuteTime": {
     "end_time": "2024-04-19T14:46:34.379253400Z",
     "start_time": "2024-04-19T14:46:34.217241800Z"
    }
   },
   "id": "788096126637a285"
  },
  {
   "cell_type": "code",
   "execution_count": 43,
   "outputs": [
    {
     "data": {
      "text/plain": "[0.27003303959670394, 0.2903447393851022, 0.28906850423785657]"
     },
     "execution_count": 43,
     "metadata": {},
     "output_type": "execute_result"
    }
   ],
   "source": [
    "MM_params_w"
   ],
   "metadata": {
    "collapsed": false,
    "ExecuteTime": {
     "end_time": "2024-04-19T14:45:35.795867700Z",
     "start_time": "2024-04-19T14:45:35.724863500Z"
    }
   },
   "id": "cc8d3519c920bcf1"
  },
  {
   "cell_type": "code",
   "execution_count": null,
   "outputs": [],
   "source": [],
   "metadata": {
    "collapsed": false
   },
   "id": "4db754c9763af497"
  },
  {
   "cell_type": "code",
   "execution_count": 57,
   "outputs": [],
   "source": [
    "from src.ML_estimation import mle_trapz_g_and_w\n",
    "\n",
    "mle_results = mle_trapz_g_and_w(generated_ts_df.values, num_of_obligors_table, MM_params_w, MM_params_gamma)"
   ],
   "metadata": {
    "collapsed": false,
    "ExecuteTime": {
     "end_time": "2024-04-19T15:00:36.979580100Z",
     "start_time": "2024-04-19T14:59:06.785219900Z"
    }
   },
   "id": "681e6550ce408d99"
  },
  {
   "cell_type": "code",
   "execution_count": 60,
   "outputs": [
    {
     "name": "stdout",
     "output_type": "stream",
     "text": [
      "[0.2995126  0.29693876 0.29624572]\n",
      "[-2.90594206 -2.30824816 -1.60187343]\n"
     ]
    }
   ],
   "source": [
    "print(mle_results[0])\n",
    "print(mle_results[1])"
   ],
   "metadata": {
    "collapsed": false,
    "ExecuteTime": {
     "end_time": "2024-04-19T15:01:13.907704400Z",
     "start_time": "2024-04-19T15:01:13.791161Z"
    }
   },
   "id": "d2a7d956601ce653"
  },
  {
   "cell_type": "code",
   "execution_count": 47,
   "outputs": [],
   "source": [
    "from src.variable_change import a_calc_func, b_calc_func\n",
    "\n",
    "a_init = np.array(a_calc_func(np.array(MM_params_w), np.array(MM_params_gamma)))\n",
    "b_init = np.array(b_calc_func(np.array(MM_params_w), np.array(MM_params_gamma)))"
   ],
   "metadata": {
    "collapsed": false,
    "ExecuteTime": {
     "end_time": "2024-04-19T14:50:16.660654900Z",
     "start_time": "2024-04-19T14:50:16.517643900Z"
    }
   },
   "id": "e7317b345ab740d9"
  },
  {
   "cell_type": "code",
   "execution_count": 48,
   "outputs": [
    {
     "data": {
      "text/plain": "(array([-0.28045152, -0.30341523, -0.30195964]),\n array([-3.01723168, -2.40993044, -1.66891772]))"
     },
     "execution_count": 48,
     "metadata": {},
     "output_type": "execute_result"
    }
   ],
   "source": [
    "a_init, b_init"
   ],
   "metadata": {
    "collapsed": false,
    "ExecuteTime": {
     "end_time": "2024-04-19T14:50:37.323799500Z",
     "start_time": "2024-04-19T14:50:37.156769400Z"
    }
   },
   "id": "d8cd4ea83aa0707d"
  },
  {
   "cell_type": "code",
   "execution_count": null,
   "outputs": [],
   "source": [],
   "metadata": {
    "collapsed": false
   },
   "id": "fd938daa52d1ccba"
  },
  {
   "cell_type": "markdown",
   "source": [
    "# Simulate much time series and calculate the average of the estimated w_factor_loading"
   ],
   "metadata": {
    "collapsed": false
   },
   "id": "a88ecf5e322c79f3"
  },
  {
   "cell_type": "code",
   "execution_count": 4,
   "outputs": [],
   "source": [
    "from src.MM_estimation import gen_data_and_mm\n",
    "\n",
    "time_points = 40\n",
    "num_of_obligors_list = [3000, 3000, 3000]\n",
    "#num_of_obligors_list = [10000, 10000, 10000]\n",
    "factor_loading_list = [0.3, 0.3, 0.3]\n",
    "gamma_list = [-2.9, -2.3, -1.6]"
   ],
   "metadata": {
    "collapsed": false,
    "ExecuteTime": {
     "end_time": "2024-04-22T14:53:04.966952100Z",
     "start_time": "2024-04-22T14:53:04.919939500Z"
    }
   },
   "id": "de28415c93d97d4c"
  },
  {
   "cell_type": "code",
   "execution_count": null,
   "outputs": [],
   "source": [
    "params_df = gen_data_and_mm(time_points, num_of_obligors_list, factor_loading_list, gamma_list)"
   ],
   "metadata": {
    "collapsed": false
   },
   "id": "35304f03537b3a76"
  },
  {
   "cell_type": "code",
   "execution_count": 3,
   "outputs": [
    {
     "data": {
      "text/plain": "         w_0       w_1       w_2\n0   0.270034  0.301738  0.297079\n1   0.270034  0.276182  0.280614\n2   0.270028  0.282262  0.284940\n3   0.270037  0.307969  0.298105\n4   0.269973  0.280232  0.282804\n..       ...       ...       ...\n95  0.270031  0.307442  0.314267\n96  0.269971  0.273184  0.265651\n97  0.270040  0.349455  0.338478\n98  0.270038  0.285525  0.296211\n99  0.270034  0.311948  0.314039\n\n[100 rows x 3 columns]",
      "text/html": "<div>\n<style scoped>\n    .dataframe tbody tr th:only-of-type {\n        vertical-align: middle;\n    }\n\n    .dataframe tbody tr th {\n        vertical-align: top;\n    }\n\n    .dataframe thead th {\n        text-align: right;\n    }\n</style>\n<table border=\"1\" class=\"dataframe\">\n  <thead>\n    <tr style=\"text-align: right;\">\n      <th></th>\n      <th>w_0</th>\n      <th>w_1</th>\n      <th>w_2</th>\n    </tr>\n  </thead>\n  <tbody>\n    <tr>\n      <th>0</th>\n      <td>0.270034</td>\n      <td>0.301738</td>\n      <td>0.297079</td>\n    </tr>\n    <tr>\n      <th>1</th>\n      <td>0.270034</td>\n      <td>0.276182</td>\n      <td>0.280614</td>\n    </tr>\n    <tr>\n      <th>2</th>\n      <td>0.270028</td>\n      <td>0.282262</td>\n      <td>0.284940</td>\n    </tr>\n    <tr>\n      <th>3</th>\n      <td>0.270037</td>\n      <td>0.307969</td>\n      <td>0.298105</td>\n    </tr>\n    <tr>\n      <th>4</th>\n      <td>0.269973</td>\n      <td>0.280232</td>\n      <td>0.282804</td>\n    </tr>\n    <tr>\n      <th>...</th>\n      <td>...</td>\n      <td>...</td>\n      <td>...</td>\n    </tr>\n    <tr>\n      <th>95</th>\n      <td>0.270031</td>\n      <td>0.307442</td>\n      <td>0.314267</td>\n    </tr>\n    <tr>\n      <th>96</th>\n      <td>0.269971</td>\n      <td>0.273184</td>\n      <td>0.265651</td>\n    </tr>\n    <tr>\n      <th>97</th>\n      <td>0.270040</td>\n      <td>0.349455</td>\n      <td>0.338478</td>\n    </tr>\n    <tr>\n      <th>98</th>\n      <td>0.270038</td>\n      <td>0.285525</td>\n      <td>0.296211</td>\n    </tr>\n    <tr>\n      <th>99</th>\n      <td>0.270034</td>\n      <td>0.311948</td>\n      <td>0.314039</td>\n    </tr>\n  </tbody>\n</table>\n<p>100 rows × 3 columns</p>\n</div>"
     },
     "execution_count": 3,
     "metadata": {},
     "output_type": "execute_result"
    }
   ],
   "source": [
    "params_df"
   ],
   "metadata": {
    "collapsed": false,
    "ExecuteTime": {
     "end_time": "2024-04-22T14:14:11.079726300Z",
     "start_time": "2024-04-22T14:14:11.028723900Z"
    }
   },
   "id": "6e41027284f55d83"
  },
  {
   "cell_type": "code",
   "execution_count": 4,
   "outputs": [
    {
     "data": {
      "text/plain": "w_0    0.271988\nw_1    0.296180\nw_2    0.296989\ndtype: float64"
     },
     "execution_count": 4,
     "metadata": {},
     "output_type": "execute_result"
    }
   ],
   "source": [
    "params_df.mean()"
   ],
   "metadata": {
    "collapsed": false,
    "ExecuteTime": {
     "end_time": "2024-04-22T14:14:11.117730900Z",
     "start_time": "2024-04-22T14:14:11.060726500Z"
    }
   },
   "id": "27df5ffaef4560a2"
  },
  {
   "cell_type": "code",
   "execution_count": 5,
   "outputs": [],
   "source": [
    "from src.ML_estimation import gen_data_and_mle_new\n",
    "\n",
    "params_MLE_df = gen_data_and_mle_new(time_points, num_of_obligors_list, factor_loading_list, gamma_list, sims = 10)"
   ],
   "metadata": {
    "collapsed": false,
    "ExecuteTime": {
     "end_time": "2024-04-22T14:56:52.306888300Z",
     "start_time": "2024-04-22T14:53:15.181656Z"
    }
   },
   "id": "6aef9915acc1b931"
  },
  {
   "cell_type": "code",
   "execution_count": 6,
   "outputs": [
    {
     "data": {
      "text/plain": "        w_0   gamma_0       w_1   gamma_1       w_2   gamma_2\n0  0.260120 -2.855633  0.312538 -2.256067  0.299646 -1.560199\n1  0.340121 -2.871879  0.316171 -2.308389  0.317692 -1.618806\n2  0.315537 -2.911386  0.307131 -2.329159  0.307961 -1.636171\n3  0.301805 -2.881526  0.265113 -2.295405  0.290286 -1.569395\n4  0.354580 -2.840057  0.309610 -2.277577  0.306788 -1.571053\n5  0.285144 -2.895235  0.278070 -2.309430  0.280597 -1.612160\n6  0.283053 -2.883206  0.294347 -2.260639  0.286213 -1.567112\n7  0.275040 -2.759849  0.251183 -2.172330  0.249153 -1.455241\n8  0.249514 -2.947472  0.267139 -2.367815  0.267151 -1.655054\n9  0.307676 -2.911041  0.287640 -2.324754  0.290169 -1.622990",
      "text/html": "<div>\n<style scoped>\n    .dataframe tbody tr th:only-of-type {\n        vertical-align: middle;\n    }\n\n    .dataframe tbody tr th {\n        vertical-align: top;\n    }\n\n    .dataframe thead th {\n        text-align: right;\n    }\n</style>\n<table border=\"1\" class=\"dataframe\">\n  <thead>\n    <tr style=\"text-align: right;\">\n      <th></th>\n      <th>w_0</th>\n      <th>gamma_0</th>\n      <th>w_1</th>\n      <th>gamma_1</th>\n      <th>w_2</th>\n      <th>gamma_2</th>\n    </tr>\n  </thead>\n  <tbody>\n    <tr>\n      <th>0</th>\n      <td>0.260120</td>\n      <td>-2.855633</td>\n      <td>0.312538</td>\n      <td>-2.256067</td>\n      <td>0.299646</td>\n      <td>-1.560199</td>\n    </tr>\n    <tr>\n      <th>1</th>\n      <td>0.340121</td>\n      <td>-2.871879</td>\n      <td>0.316171</td>\n      <td>-2.308389</td>\n      <td>0.317692</td>\n      <td>-1.618806</td>\n    </tr>\n    <tr>\n      <th>2</th>\n      <td>0.315537</td>\n      <td>-2.911386</td>\n      <td>0.307131</td>\n      <td>-2.329159</td>\n      <td>0.307961</td>\n      <td>-1.636171</td>\n    </tr>\n    <tr>\n      <th>3</th>\n      <td>0.301805</td>\n      <td>-2.881526</td>\n      <td>0.265113</td>\n      <td>-2.295405</td>\n      <td>0.290286</td>\n      <td>-1.569395</td>\n    </tr>\n    <tr>\n      <th>4</th>\n      <td>0.354580</td>\n      <td>-2.840057</td>\n      <td>0.309610</td>\n      <td>-2.277577</td>\n      <td>0.306788</td>\n      <td>-1.571053</td>\n    </tr>\n    <tr>\n      <th>5</th>\n      <td>0.285144</td>\n      <td>-2.895235</td>\n      <td>0.278070</td>\n      <td>-2.309430</td>\n      <td>0.280597</td>\n      <td>-1.612160</td>\n    </tr>\n    <tr>\n      <th>6</th>\n      <td>0.283053</td>\n      <td>-2.883206</td>\n      <td>0.294347</td>\n      <td>-2.260639</td>\n      <td>0.286213</td>\n      <td>-1.567112</td>\n    </tr>\n    <tr>\n      <th>7</th>\n      <td>0.275040</td>\n      <td>-2.759849</td>\n      <td>0.251183</td>\n      <td>-2.172330</td>\n      <td>0.249153</td>\n      <td>-1.455241</td>\n    </tr>\n    <tr>\n      <th>8</th>\n      <td>0.249514</td>\n      <td>-2.947472</td>\n      <td>0.267139</td>\n      <td>-2.367815</td>\n      <td>0.267151</td>\n      <td>-1.655054</td>\n    </tr>\n    <tr>\n      <th>9</th>\n      <td>0.307676</td>\n      <td>-2.911041</td>\n      <td>0.287640</td>\n      <td>-2.324754</td>\n      <td>0.290169</td>\n      <td>-1.622990</td>\n    </tr>\n  </tbody>\n</table>\n</div>"
     },
     "execution_count": 6,
     "metadata": {},
     "output_type": "execute_result"
    }
   ],
   "source": [
    "params_MLE_df"
   ],
   "metadata": {
    "collapsed": false,
    "ExecuteTime": {
     "end_time": "2024-04-22T14:58:45.439924800Z",
     "start_time": "2024-04-22T14:58:45.356918200Z"
    }
   },
   "id": "27c46814a779f341"
  },
  {
   "cell_type": "code",
   "execution_count": null,
   "outputs": [],
   "source": [],
   "metadata": {
    "collapsed": false
   },
   "id": "bacdfc7f76cb4da4"
  },
  {
   "cell_type": "code",
   "execution_count": null,
   "outputs": [],
   "source": [],
   "metadata": {
    "collapsed": false
   },
   "id": "4357a650b4508f1b"
  },
  {
   "cell_type": "code",
   "execution_count": 7,
   "outputs": [],
   "source": [
    "import pandas as pd\n",
    "from src.data_generator import generate_default_time_series\n",
    "from src.ML_estimation import mle_trapz_g_and_w\n",
    "import numpy as np\n",
    "\n",
    "grade_num = len(gamma_list)\n",
    "\n",
    "params_df = pd.DataFrame()\n",
    "\n",
    "for sim in range(2):\n",
    "    defaults_df = generate_default_time_series(factor_loading_list, num_of_obligors_list, gamma_list, time_points)\n",
    "    num_of_obligors_df = np.full_like(defaults_df, num_of_obligors_list[0])\n",
    "    w_param, pd_param, _ = mle_trapz_g_and_w(defaults_df.values, num_of_obligors_df, factor_loading_list, gamma_list)\n",
    "    for i in range(grade_num):\n",
    "        params_df.loc[sim, \"w_\" + str(i)] = w_param[i]\n",
    "        params_df.loc[sim, \"gamma_\" + str(i)] = pd_param[i]"
   ],
   "metadata": {
    "collapsed": false,
    "ExecuteTime": {
     "end_time": "2024-04-22T14:50:04.245587400Z",
     "start_time": "2024-04-22T14:49:40.035733700Z"
    }
   },
   "id": "5c936f0f086ee16e"
  },
  {
   "cell_type": "code",
   "execution_count": 8,
   "outputs": [
    {
     "data": {
      "text/plain": "        w_0   gamma_0      w_1   gamma_1       w_2   gamma_2\n0  0.270681 -3.091889  0.28167 -2.396085  0.264549 -1.728870\n1  0.288844 -2.785243  0.32717 -2.203742  0.322046 -1.488792",
      "text/html": "<div>\n<style scoped>\n    .dataframe tbody tr th:only-of-type {\n        vertical-align: middle;\n    }\n\n    .dataframe tbody tr th {\n        vertical-align: top;\n    }\n\n    .dataframe thead th {\n        text-align: right;\n    }\n</style>\n<table border=\"1\" class=\"dataframe\">\n  <thead>\n    <tr style=\"text-align: right;\">\n      <th></th>\n      <th>w_0</th>\n      <th>gamma_0</th>\n      <th>w_1</th>\n      <th>gamma_1</th>\n      <th>w_2</th>\n      <th>gamma_2</th>\n    </tr>\n  </thead>\n  <tbody>\n    <tr>\n      <th>0</th>\n      <td>0.270681</td>\n      <td>-3.091889</td>\n      <td>0.28167</td>\n      <td>-2.396085</td>\n      <td>0.264549</td>\n      <td>-1.728870</td>\n    </tr>\n    <tr>\n      <th>1</th>\n      <td>0.288844</td>\n      <td>-2.785243</td>\n      <td>0.32717</td>\n      <td>-2.203742</td>\n      <td>0.322046</td>\n      <td>-1.488792</td>\n    </tr>\n  </tbody>\n</table>\n</div>"
     },
     "execution_count": 8,
     "metadata": {},
     "output_type": "execute_result"
    }
   ],
   "source": [
    "params_df"
   ],
   "metadata": {
    "collapsed": false,
    "ExecuteTime": {
     "end_time": "2024-04-22T14:50:04.336588Z",
     "start_time": "2024-04-22T14:50:04.248582800Z"
    }
   },
   "id": "791f2452e752b6d9"
  },
  {
   "cell_type": "code",
   "execution_count": null,
   "outputs": [],
   "source": [],
   "metadata": {
    "collapsed": false
   },
   "id": "e4b538cabd5e75e5"
  }
 ],
 "metadata": {
  "kernelspec": {
   "name": "python3",
   "language": "python",
   "display_name": "Python 3 (ipykernel)"
  },
  "language_info": {
   "codemirror_mode": {
    "name": "ipython",
    "version": 2
   },
   "file_extension": ".py",
   "mimetype": "text/x-python",
   "name": "python",
   "nbconvert_exporter": "python",
   "pygments_lexer": "ipython2",
   "version": "2.7.6"
  }
 },
 "nbformat": 4,
 "nbformat_minor": 5
}
