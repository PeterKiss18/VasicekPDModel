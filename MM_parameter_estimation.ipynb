{
 "cells": [
  {
   "cell_type": "markdown",
   "source": [
    "# Method of moments parameter estimation in Vasicek model"
   ],
   "metadata": {
    "collapsed": false
   },
   "id": "de566590ae8fe6ce"
  },
  {
   "cell_type": "code",
   "execution_count": 4,
   "outputs": [],
   "source": [
    "import numpy as np\n",
    "import pandas as pd\n",
    "import scipy.stats as stats\n",
    "from scipy.optimize import minimize"
   ],
   "metadata": {
    "collapsed": false,
    "ExecuteTime": {
     "end_time": "2024-04-06T19:20:02.737515600Z",
     "start_time": "2024-04-06T19:20:02.660512Z"
    }
   },
   "id": "initial_id"
  },
  {
   "cell_type": "code",
   "execution_count": 2,
   "outputs": [],
   "source": [
    "df = pd.read_csv('SP_historical_PD_data.csv', sep=';')"
   ],
   "metadata": {
    "collapsed": false,
    "ExecuteTime": {
     "end_time": "2024-04-01T17:29:37.196423500Z",
     "start_time": "2024-04-01T17:29:37.177423900Z"
    }
   },
   "id": "a50a6c52df6534b8"
  },
  {
   "cell_type": "code",
   "execution_count": 3,
   "outputs": [
    {
     "data": {
      "text/plain": "   Year  Total defaults*  Investment-grade defaults  \\\n0  1981                2                          0   \n1  1982               18                          2   \n2  1983               12                          1   \n3  1984               14                          2   \n4  1985               19                          0   \n\n   Speculative-grade defaults  Default rate (%)  \\\n0                           2              0.15   \n1                          15              1.22   \n2                          10              0.77   \n3                          12              0.93   \n4                          18              1.13   \n\n   Investment-grade default rate (%)  Speculative-grade default rate (%)  \\\n0                               0.00                                0.63   \n1                               0.19                                4.46   \n2                               0.09                                2.98   \n3                               0.17                                3.31   \n4                               0.00                                4.37   \n\n   Total debt outstanding (bil. $)  \n0                             0.06  \n1                             0.90  \n2                             0.37  \n3                             0.36  \n4                             0.31  ",
      "text/html": "<div>\n<style scoped>\n    .dataframe tbody tr th:only-of-type {\n        vertical-align: middle;\n    }\n\n    .dataframe tbody tr th {\n        vertical-align: top;\n    }\n\n    .dataframe thead th {\n        text-align: right;\n    }\n</style>\n<table border=\"1\" class=\"dataframe\">\n  <thead>\n    <tr style=\"text-align: right;\">\n      <th></th>\n      <th>Year</th>\n      <th>Total defaults*</th>\n      <th>Investment-grade defaults</th>\n      <th>Speculative-grade defaults</th>\n      <th>Default rate (%)</th>\n      <th>Investment-grade default rate (%)</th>\n      <th>Speculative-grade default rate (%)</th>\n      <th>Total debt outstanding (bil. $)</th>\n    </tr>\n  </thead>\n  <tbody>\n    <tr>\n      <th>0</th>\n      <td>1981</td>\n      <td>2</td>\n      <td>0</td>\n      <td>2</td>\n      <td>0.15</td>\n      <td>0.00</td>\n      <td>0.63</td>\n      <td>0.06</td>\n    </tr>\n    <tr>\n      <th>1</th>\n      <td>1982</td>\n      <td>18</td>\n      <td>2</td>\n      <td>15</td>\n      <td>1.22</td>\n      <td>0.19</td>\n      <td>4.46</td>\n      <td>0.90</td>\n    </tr>\n    <tr>\n      <th>2</th>\n      <td>1983</td>\n      <td>12</td>\n      <td>1</td>\n      <td>10</td>\n      <td>0.77</td>\n      <td>0.09</td>\n      <td>2.98</td>\n      <td>0.37</td>\n    </tr>\n    <tr>\n      <th>3</th>\n      <td>1984</td>\n      <td>14</td>\n      <td>2</td>\n      <td>12</td>\n      <td>0.93</td>\n      <td>0.17</td>\n      <td>3.31</td>\n      <td>0.36</td>\n    </tr>\n    <tr>\n      <th>4</th>\n      <td>1985</td>\n      <td>19</td>\n      <td>0</td>\n      <td>18</td>\n      <td>1.13</td>\n      <td>0.00</td>\n      <td>4.37</td>\n      <td>0.31</td>\n    </tr>\n  </tbody>\n</table>\n</div>"
     },
     "execution_count": 3,
     "metadata": {},
     "output_type": "execute_result"
    }
   ],
   "source": [
    "df.head()"
   ],
   "metadata": {
    "collapsed": false,
    "ExecuteTime": {
     "end_time": "2024-04-01T17:29:37.244651Z",
     "start_time": "2024-04-01T17:29:37.192425700Z"
    }
   },
   "id": "515479d6224a7cd9"
  },
  {
   "cell_type": "code",
   "execution_count": 4,
   "outputs": [],
   "source": [
    "# Make pd columns\n",
    "df[\"pd_total\"] = df[\"Default rate (%)\"] / 100\n",
    "df[\"pd_inv\"] = df[\"Investment-grade default rate (%)\"] / 100\n",
    "df[\"pd_spec\"] = df[\"Speculative-grade default rate (%)\"] / 100"
   ],
   "metadata": {
    "collapsed": false,
    "ExecuteTime": {
     "end_time": "2024-04-01T17:29:37.281667400Z",
     "start_time": "2024-04-01T17:29:37.222649400Z"
    }
   },
   "id": "76008f90027fa94c"
  },
  {
   "cell_type": "code",
   "execution_count": 5,
   "outputs": [],
   "source": [
    "# Calculate the number of obligors\n",
    "df['num_of_inv_grades'] = (df['Investment-grade defaults'] / (df[\"pd_inv\"])).round()\n",
    "df['num_of_spec_grades'] = (\n",
    "            df['Speculative-grade defaults'] / (df[\"pd_spec\"])).round().astype(int)\n",
    "df['num_of_total_grades'] = (df['Total defaults*'] / (df[\"pd_total\"])).round().astype(int)\n",
    "\n",
    "# Fill-out the missing values in num_of_inv_grades column with the difference between num_of_total_grades and num_of_spec_grades\n",
    "df['num_of_inv_grades'] = np.where(df['num_of_inv_grades'].isna(), df['num_of_total_grades'] - df['num_of_spec_grades'],\n",
    "                                   df['num_of_inv_grades']).astype(int)"
   ],
   "metadata": {
    "collapsed": false,
    "ExecuteTime": {
     "end_time": "2024-04-01T17:29:37.309669400Z",
     "start_time": "2024-04-01T17:29:37.241651600Z"
    }
   },
   "id": "ee1ab74f7dfe7219"
  },
  {
   "cell_type": "code",
   "execution_count": 6,
   "outputs": [],
   "source": [
    "# Calculate the average\n",
    "p_total_average = np.mean(df[\"pd_total\"])"
   ],
   "metadata": {
    "collapsed": false,
    "ExecuteTime": {
     "end_time": "2024-03-01T15:22:01.983266100Z",
     "start_time": "2024-03-01T15:22:01.896261400Z"
    }
   },
   "id": "a99f30340817578f"
  },
  {
   "cell_type": "code",
   "execution_count": 7,
   "outputs": [
    {
     "name": "stdout",
     "output_type": "stream",
     "text": [
      "0.0147675\n"
     ]
    }
   ],
   "source": [
    "print(p_total_average)"
   ],
   "metadata": {
    "collapsed": false,
    "ExecuteTime": {
     "end_time": "2024-03-01T15:22:02.043280600Z",
     "start_time": "2024-03-01T15:22:01.910261800Z"
    }
   },
   "id": "a2e5e8033dafa72e"
  },
  {
   "cell_type": "code",
   "execution_count": 8,
   "outputs": [],
   "source": [
    "# Expected value of 1/n_g\n",
    "expected_value_of_reciprocal_n_g = np.mean(1 / df['num_of_total_grades'])"
   ],
   "metadata": {
    "collapsed": false,
    "ExecuteTime": {
     "end_time": "2024-03-01T15:22:02.045274100Z",
     "start_time": "2024-03-01T15:22:01.927264300Z"
    }
   },
   "id": "bbe7abbd205f915f"
  },
  {
   "cell_type": "code",
   "execution_count": 9,
   "outputs": [
    {
     "name": "stdout",
     "output_type": "stream",
     "text": [
      "0.0002769531644134457\n"
     ]
    }
   ],
   "source": [
    "print(expected_value_of_reciprocal_n_g)"
   ],
   "metadata": {
    "collapsed": false,
    "ExecuteTime": {
     "end_time": "2024-03-01T15:22:02.123280600Z",
     "start_time": "2024-03-01T15:22:01.942266Z"
    }
   },
   "id": "48484a0a15f6ce8c"
  },
  {
   "cell_type": "code",
   "execution_count": 10,
   "outputs": [],
   "source": [
    "# Normalized volatility\n",
    "normalized_volatility = np.sqrt(np.var(df[\"pd_total\"]))/p_total_average"
   ],
   "metadata": {
    "collapsed": false,
    "ExecuteTime": {
     "end_time": "2024-03-01T15:22:02.252289400Z",
     "start_time": "2024-03-01T15:22:01.959265500Z"
    }
   },
   "id": "29d43b0eb859ad44"
  },
  {
   "cell_type": "code",
   "execution_count": 11,
   "outputs": [
    {
     "name": "stdout",
     "output_type": "stream",
     "text": [
      "0.6558144744924091\n"
     ]
    }
   ],
   "source": [
    "print(normalized_volatility)"
   ],
   "metadata": {
    "collapsed": false,
    "ExecuteTime": {
     "end_time": "2024-03-01T15:22:02.306297700Z",
     "start_time": "2024-03-01T15:22:01.974267500Z"
    }
   },
   "id": "bb2f1dd751783a36"
  },
  {
   "cell_type": "markdown",
   "source": [
    "$$\n",
    "\\mathrm{V}\\left[p_\\zeta(x)\\right]=\\frac{\\mathrm{V}\\left[\\hat{p}_\\zeta\\right]-\\mathrm{E}\\left[1 / \\hat{n}_\\zeta\\right] \\bar{p}_\\zeta\\left(1-\\bar{p}_\\zeta\\right)}{1-\\mathrm{E}\\left[1 / \\hat{n}_\\zeta\\right]}\n",
    "$$"
   ],
   "metadata": {
    "collapsed": false
   },
   "id": "d72789b7eb090854"
  },
  {
   "cell_type": "code",
   "execution_count": 12,
   "outputs": [],
   "source": [
    "variance_of_p_total = (np.var(df[\"pd_total\"]) - expected_value_of_reciprocal_n_g * p_total_average * (1 - p_total_average)) / (1 - expected_value_of_reciprocal_n_g)"
   ],
   "metadata": {
    "collapsed": false,
    "ExecuteTime": {
     "end_time": "2024-03-01T15:22:02.307300900Z",
     "start_time": "2024-03-01T15:22:01.990268Z"
    }
   },
   "id": "6da78c2b5a1993cb"
  },
  {
   "cell_type": "code",
   "execution_count": 13,
   "outputs": [
    {
     "name": "stdout",
     "output_type": "stream",
     "text": [
      "8.9789553080102e-05\n"
     ]
    }
   ],
   "source": [
    "print(variance_of_p_total)"
   ],
   "metadata": {
    "collapsed": false,
    "ExecuteTime": {
     "end_time": "2024-03-01T15:22:02.308299500Z",
     "start_time": "2024-03-01T15:22:02.004273200Z"
    }
   },
   "id": "6bd164698fca19a4"
  },
  {
   "cell_type": "code",
   "execution_count": 14,
   "outputs": [],
   "source": [
    "normalized_varience = np.sqrt(variance_of_p_total) / p_total_average"
   ],
   "metadata": {
    "collapsed": false,
    "ExecuteTime": {
     "end_time": "2024-03-01T15:22:02.308299500Z",
     "start_time": "2024-03-01T15:22:02.022273200Z"
    }
   },
   "id": "874dd9c01577a07f"
  },
  {
   "cell_type": "code",
   "execution_count": 15,
   "outputs": [
    {
     "name": "stdout",
     "output_type": "stream",
     "text": [
      "0.6416614161184627\n"
     ]
    }
   ],
   "source": [
    "print(normalized_varience)"
   ],
   "metadata": {
    "collapsed": false,
    "ExecuteTime": {
     "end_time": "2024-03-01T15:22:02.337297100Z",
     "start_time": "2024-03-01T15:22:02.039273700Z"
    }
   },
   "id": "534284de593850e2"
  },
  {
   "cell_type": "code",
   "execution_count": 16,
   "outputs": [],
   "source": [
    "cut_off_value_total = stats.norm.ppf(p_total_average)"
   ],
   "metadata": {
    "collapsed": false,
    "ExecuteTime": {
     "end_time": "2024-03-01T15:22:02.338299400Z",
     "start_time": "2024-03-01T15:22:02.052273500Z"
    }
   },
   "id": "cbab0c1650dc8b95"
  },
  {
   "cell_type": "code",
   "execution_count": 17,
   "outputs": [
    {
     "name": "stdout",
     "output_type": "stream",
     "text": [
      "-2.1762710356300374\n"
     ]
    }
   ],
   "source": [
    "print(cut_off_value_total)"
   ],
   "metadata": {
    "collapsed": false,
    "ExecuteTime": {
     "end_time": "2024-03-01T15:22:02.339304300Z",
     "start_time": "2024-03-01T15:22:02.069275900Z"
    }
   },
   "id": "9dae9e02a0d986a1"
  },
  {
   "cell_type": "markdown",
   "source": [
    "$$\n",
    "V_\\zeta \\equiv \\operatorname{Var}\\left[p_\\zeta(x)\\right]=\\operatorname{BIVNOR}\\left(C_\\zeta, C_\\zeta, w_\\zeta^2\\right)-\\bar{p}_\\zeta^2\n",
    "$$"
   ],
   "metadata": {
    "collapsed": false
   },
   "id": "74d4d2ca87fcad2c"
  },
  {
   "cell_type": "code",
   "execution_count": 18,
   "outputs": [],
   "source": [
    "def calc_variance_of_default_rate(w_factor_loading, pd_average = p_total_average):\n",
    "    \n",
    "    cut_off_value = stats.norm.ppf(pd_average)\n",
    "    \n",
    "    # if w_factor_loading is a np array, take the first element\n",
    "    if isinstance(w_factor_loading, np.ndarray):\n",
    "        w_factor_loading = w_factor_loading[0]\n",
    "    \n",
    "    # Bivariate normal cdf parameters\n",
    "    mean = [0, 0]\n",
    "    cov_matrix = [[1, w_factor_loading], [w_factor_loading, 1]]\n",
    "    \n",
    "     # Calculate BIVNOR value\n",
    "    bivnor_value = stats.multivariate_normal.cdf([cut_off_value, cut_off_value], mean=mean, cov=cov_matrix)\n",
    "    \n",
    "    result = bivnor_value - pd_average ** 2\n",
    "    \n",
    "    return result"
   ],
   "metadata": {
    "collapsed": false,
    "ExecuteTime": {
     "end_time": "2024-03-01T15:22:02.340301900Z",
     "start_time": "2024-03-01T15:22:02.087277200Z"
    }
   },
   "id": "81d9524123df25"
  },
  {
   "cell_type": "code",
   "execution_count": 19,
   "outputs": [
    {
     "data": {
      "text/plain": "0.004096368277893707"
     },
     "execution_count": 19,
     "metadata": {},
     "output_type": "execute_result"
    }
   ],
   "source": [
    "# Test for calc_variance_of_default_rate\n",
    "calc_variance_of_default_rate(0.7)"
   ],
   "metadata": {
    "collapsed": false,
    "ExecuteTime": {
     "end_time": "2024-03-01T15:22:02.341301200Z",
     "start_time": "2024-03-01T15:22:02.099281700Z"
    }
   },
   "id": "cf3d9aaa4e993be7"
  },
  {
   "cell_type": "markdown",
   "source": [
    "## Method of moments parameter estimation for w_factor_loading"
   ],
   "metadata": {
    "collapsed": false
   },
   "id": "75177114fdd36304"
  },
  {
   "cell_type": "code",
   "execution_count": 20,
   "outputs": [
    {
     "name": "stdout",
     "output_type": "stream",
     "text": [
      "Found value of w_factor_loading: 0.056365695073192584\n"
     ]
    }
   ],
   "source": [
    "# Target value to achieve\n",
    "target_result = variance_of_p_total\n",
    "\n",
    "# Initial guess for the minimization algorithm\n",
    "initial_guess = 0.27\n",
    "\n",
    "# Define bounds for w_factor_loading\n",
    "bounds = [(-2, 2)]\n",
    "\n",
    "# Define object function\n",
    "object_function = lambda w: abs(calc_variance_of_default_rate(w) - target_result)\n",
    "\n",
    "# Minimization based on the objective function\n",
    "result = minimize(object_function, initial_guess, bounds=bounds)\n",
    "\n",
    "# The found value of w_factor_loading\n",
    "w_factor_loading_found = result.x[0]\n",
    "\n",
    "print(\"Found value of w_factor_loading:\", w_factor_loading_found)"
   ],
   "metadata": {
    "collapsed": false,
    "ExecuteTime": {
     "end_time": "2024-03-01T15:22:02.344297900Z",
     "start_time": "2024-03-01T15:22:02.116280800Z"
    }
   },
   "id": "8d5506dd2b606949"
  },
  {
   "cell_type": "markdown",
   "source": [
    "## Packaged function for parameter estimation"
   ],
   "metadata": {
    "collapsed": false
   },
   "id": "e7710c4b26813e29"
  },
  {
   "cell_type": "code",
   "execution_count": 21,
   "outputs": [],
   "source": [
    "def estimate_w_factor_loading(historical_pd, num_of_total_grades, initial_guess=0.27):\n",
    "    \"\"\"\n",
    "    Estimate w_factor_loading using the method of moments\n",
    "    :param historical_pd: pd series, list of historical default rates\n",
    "    :param num_of_total_grades: pd series, list of the number of total grades\n",
    "    :param initial_guess: float, initial guess for the minimization algorithm\n",
    "    :return: float, estimated w_factor_loading\n",
    "    \"\"\"\n",
    "    \n",
    "    # Calculate the average\n",
    "    pd_average = np.mean(historical_pd)\n",
    "    \n",
    "    # Calculate the expected value of 1/n_g\n",
    "    expected_value_of_reciprocal_n_g = np.mean(1 / num_of_total_grades)\n",
    "    \n",
    "    # Variance of default rate\n",
    "    variance_of_p_d = (np.var(historical_pd) - expected_value_of_reciprocal_n_g * pd_average * (1 - pd_average)) / (1 - expected_value_of_reciprocal_n_g)\n",
    "\n",
    "    # Define bounds for w_factor_loading\n",
    "    bounds = [(-5, 5)]\n",
    "\n",
    "    # Define object function\n",
    "    object_function = lambda w: abs(calc_variance_of_default_rate(w, pd_average) - variance_of_p_d)\n",
    "\n",
    "    # Minimization based on the objective function\n",
    "    result = minimize(object_function, initial_guess, bounds=bounds)\n",
    "\n",
    "    # The found value of w_factor_loading\n",
    "    w_factor_loading_found = result.x[0]\n",
    "\n",
    "    return w_factor_loading_found, pd_average"
   ],
   "metadata": {
    "collapsed": false,
    "ExecuteTime": {
     "end_time": "2024-03-01T15:22:02.346297200Z",
     "start_time": "2024-03-01T15:22:02.198286300Z"
    }
   },
   "id": "81d256e2e7fa9db8"
  },
  {
   "cell_type": "code",
   "execution_count": 22,
   "outputs": [
    {
     "data": {
      "text/plain": "(0.056365695073192584, 0.0147675)"
     },
     "execution_count": 22,
     "metadata": {},
     "output_type": "execute_result"
    }
   ],
   "source": [
    "# Test for the packaged function\n",
    "estimate_w_factor_loading(df[\"pd_total\"], df[\"num_of_total_grades\"])"
   ],
   "metadata": {
    "collapsed": false,
    "ExecuteTime": {
     "end_time": "2024-03-01T15:22:02.521313300Z",
     "start_time": "2024-03-01T15:22:02.212288500Z"
    }
   },
   "id": "52f42c699a6b7ed7"
  },
  {
   "cell_type": "code",
   "execution_count": 23,
   "outputs": [
    {
     "data": {
      "text/plain": "(0.07270379780609139, 0.0008775)"
     },
     "execution_count": 23,
     "metadata": {},
     "output_type": "execute_result"
    }
   ],
   "source": [
    "estimate_w_factor_loading(df[\"pd_inv\"], df[\"num_of_inv_grades\"])"
   ],
   "metadata": {
    "collapsed": false,
    "ExecuteTime": {
     "end_time": "2024-03-01T15:22:02.647325100Z",
     "start_time": "2024-03-01T15:22:02.292303100Z"
    }
   },
   "id": "f25ccaffc62030d3"
  },
  {
   "cell_type": "code",
   "execution_count": 24,
   "outputs": [
    {
     "data": {
      "text/plain": "(0.07602889962521624, 0.040069999999999995)"
     },
     "execution_count": 24,
     "metadata": {},
     "output_type": "execute_result"
    }
   ],
   "source": [
    "estimate_w_factor_loading(df[\"pd_spec\"], df[\"num_of_spec_grades\"])"
   ],
   "metadata": {
    "collapsed": false,
    "ExecuteTime": {
     "end_time": "2024-03-01T15:22:02.652326100Z",
     "start_time": "2024-03-01T15:22:02.351299100Z"
    }
   },
   "id": "e31a1d57bb184a3b"
  },
  {
   "cell_type": "markdown",
   "source": [
    "# Using MM_estimation function from the package"
   ],
   "metadata": {
    "collapsed": false
   },
   "id": "bcd7979eeead5947"
  },
  {
   "cell_type": "code",
   "execution_count": 6,
   "outputs": [
    {
     "name": "stdout",
     "output_type": "stream",
     "text": [
      "Estimated w_factor_loading for total grades: 0.05636182711809641\n",
      "Estimated pd_average for total grades: -2.17626718586128\n"
     ]
    }
   ],
   "source": [
    "from src.MM_estimation import MM_estimation\n",
    "\n",
    "# Estimate w_factor_loading for total grades\n",
    "w_total, pd_total = MM_estimation(df[\"Total defaults*\"], df[\"num_of_total_grades\"])\n",
    "\n",
    "print(\"Estimated w_factor_loading for total grades:\", w_total)\n",
    "print(\"Estimated pd_average for total grades:\", pd_total)"
   ],
   "metadata": {
    "collapsed": false,
    "ExecuteTime": {
     "end_time": "2024-04-01T17:30:21.376997800Z",
     "start_time": "2024-04-01T17:30:21.298990900Z"
    }
   },
   "id": "2b9cb68a0fa18cb8"
  },
  {
   "cell_type": "code",
   "execution_count": 8,
   "outputs": [
    {
     "name": "stdout",
     "output_type": "stream",
     "text": [
      "0.056365695073192584 -2.1762710356300374\n"
     ]
    }
   ],
   "source": [
    "from src.MM_estimation import estimate_w_factor_loading\n",
    "from scipy.stats import norm\n",
    "\n",
    "param1, param2 = estimate_w_factor_loading(df[\"pd_total\"], df[\"num_of_total_grades\"])\n",
    "print(param1, norm.ppf(param2))"
   ],
   "metadata": {
    "collapsed": false,
    "ExecuteTime": {
     "end_time": "2024-04-01T17:31:02.422010600Z",
     "start_time": "2024-04-01T17:31:02.341004800Z"
    }
   },
   "id": "d596aff8556cc7c6"
  },
  {
   "cell_type": "markdown",
   "source": [
    "# Generated default time series gives back different w_factor_loading than the input parameter"
   ],
   "metadata": {
    "collapsed": false
   },
   "id": "56b82b6ffd8dfa7f"
  },
  {
   "cell_type": "code",
   "execution_count": 6,
   "outputs": [],
   "source": [
    "from src.data_generator import generate_default_time_series\n",
    "import numpy as np\n",
    "\n",
    "time_points = 160\n",
    "num_of_obligors_list = [3000, 3000, 3000]\n",
    "factor_loading_list = [0.45, 0.45, 0.45]\n",
    "gamma_list = [-2.9, -2.3, -1.6]\n",
    "\n",
    "generated_ts_df = generate_default_time_series(factor_loading_list, num_of_obligors_list, gamma_list, time_points)"
   ],
   "metadata": {
    "collapsed": false,
    "ExecuteTime": {
     "end_time": "2024-04-06T19:55:00.790009900Z",
     "start_time": "2024-04-06T19:55:00.691005700Z"
    }
   },
   "id": "9f1256407d2afc2b"
  },
  {
   "cell_type": "code",
   "execution_count": 7,
   "outputs": [
    {
     "data": {
      "text/plain": "     d_g_0  d_g_1  d_g_2\n0        0      0     14\n1        2     11    105\n2        0      2     25\n3        0     15    137\n4        0      2     22\n..     ...    ...    ...\n155     17     85    379\n156      1      6     45\n157      0      5     34\n158      0      7     61\n159     78    258    865\n\n[160 rows x 3 columns]",
      "text/html": "<div>\n<style scoped>\n    .dataframe tbody tr th:only-of-type {\n        vertical-align: middle;\n    }\n\n    .dataframe tbody tr th {\n        vertical-align: top;\n    }\n\n    .dataframe thead th {\n        text-align: right;\n    }\n</style>\n<table border=\"1\" class=\"dataframe\">\n  <thead>\n    <tr style=\"text-align: right;\">\n      <th></th>\n      <th>d_g_0</th>\n      <th>d_g_1</th>\n      <th>d_g_2</th>\n    </tr>\n  </thead>\n  <tbody>\n    <tr>\n      <th>0</th>\n      <td>0</td>\n      <td>0</td>\n      <td>14</td>\n    </tr>\n    <tr>\n      <th>1</th>\n      <td>2</td>\n      <td>11</td>\n      <td>105</td>\n    </tr>\n    <tr>\n      <th>2</th>\n      <td>0</td>\n      <td>2</td>\n      <td>25</td>\n    </tr>\n    <tr>\n      <th>3</th>\n      <td>0</td>\n      <td>15</td>\n      <td>137</td>\n    </tr>\n    <tr>\n      <th>4</th>\n      <td>0</td>\n      <td>2</td>\n      <td>22</td>\n    </tr>\n    <tr>\n      <th>...</th>\n      <td>...</td>\n      <td>...</td>\n      <td>...</td>\n    </tr>\n    <tr>\n      <th>155</th>\n      <td>17</td>\n      <td>85</td>\n      <td>379</td>\n    </tr>\n    <tr>\n      <th>156</th>\n      <td>1</td>\n      <td>6</td>\n      <td>45</td>\n    </tr>\n    <tr>\n      <th>157</th>\n      <td>0</td>\n      <td>5</td>\n      <td>34</td>\n    </tr>\n    <tr>\n      <th>158</th>\n      <td>0</td>\n      <td>7</td>\n      <td>61</td>\n    </tr>\n    <tr>\n      <th>159</th>\n      <td>78</td>\n      <td>258</td>\n      <td>865</td>\n    </tr>\n  </tbody>\n</table>\n<p>160 rows × 3 columns</p>\n</div>"
     },
     "execution_count": 7,
     "metadata": {},
     "output_type": "execute_result"
    }
   ],
   "source": [
    "generated_ts_df"
   ],
   "metadata": {
    "collapsed": false,
    "ExecuteTime": {
     "end_time": "2024-04-06T19:55:01.195039100Z",
     "start_time": "2024-04-06T19:55:01.128037200Z"
    }
   },
   "id": "417c35ad637e29b0"
  },
  {
   "cell_type": "code",
   "execution_count": 8,
   "outputs": [],
   "source": [
    "defaulted_all = np.array(generated_ts_df.sum(axis=0))"
   ],
   "metadata": {
    "collapsed": false,
    "ExecuteTime": {
     "end_time": "2024-04-06T19:55:02.006101500Z",
     "start_time": "2024-04-06T19:55:01.976099200Z"
    }
   },
   "id": "6bbab89b907df3d"
  },
  {
   "cell_type": "code",
   "execution_count": 9,
   "outputs": [],
   "source": [
    "pds = defaulted_all / (num_of_obligors_list[0] * time_points)"
   ],
   "metadata": {
    "collapsed": false,
    "ExecuteTime": {
     "end_time": "2024-04-06T19:55:02.749154800Z",
     "start_time": "2024-04-06T19:55:02.685151500Z"
    }
   },
   "id": "e5a722e35477b606"
  },
  {
   "cell_type": "code",
   "execution_count": 10,
   "outputs": [
    {
     "data": {
      "text/plain": "array([-2.74778139, -2.16581927, -1.49783933])"
     },
     "execution_count": 10,
     "metadata": {},
     "output_type": "execute_result"
    }
   ],
   "source": [
    "from scipy.stats import norm\n",
    "\n",
    "norm.ppf(pds)"
   ],
   "metadata": {
    "collapsed": false,
    "ExecuteTime": {
     "end_time": "2024-04-06T19:55:03.322197800Z",
     "start_time": "2024-04-06T19:55:03.252195300Z"
    }
   },
   "id": "9c1865ff4d288a9b"
  },
  {
   "cell_type": "code",
   "execution_count": 11,
   "outputs": [],
   "source": [
    "from src.MM_estimation import MM_estimation\n",
    "\n",
    "# Estimate w_factor_loading for total grades\n",
    "w_total, pd_total = MM_estimation(generated_ts_df[\"d_g_2\"], num_of_obligors_list[2])"
   ],
   "metadata": {
    "collapsed": false,
    "ExecuteTime": {
     "end_time": "2024-04-06T19:55:04.300967700Z",
     "start_time": "2024-04-06T19:55:04.223962300Z"
    }
   },
   "id": "5ba8f8b22238c7ca"
  },
  {
   "cell_type": "code",
   "execution_count": 12,
   "outputs": [
    {
     "name": "stdout",
     "output_type": "stream",
     "text": [
      "0.2716247229128257 -1.4978393285647125\n"
     ]
    }
   ],
   "source": [
    "print(w_total, pd_total)"
   ],
   "metadata": {
    "collapsed": false,
    "ExecuteTime": {
     "end_time": "2024-04-06T19:55:04.782004300Z",
     "start_time": "2024-04-06T19:55:04.741000600Z"
    }
   },
   "id": "de77f4c454df0976"
  },
  {
   "cell_type": "markdown",
   "source": [
    "# Simulate much time series and calculate the average of the estimated w_factor_loading"
   ],
   "metadata": {
    "collapsed": false
   },
   "id": "a88ecf5e322c79f3"
  },
  {
   "cell_type": "code",
   "execution_count": 13,
   "outputs": [],
   "source": [
    "from src.MM_estimation import gen_data_and_mm\n",
    "\n",
    "time_points = 160\n",
    "num_of_obligors_list = [3000, 3000, 3000]\n",
    "factor_loading_list = [0.45, 0.45, 0.45]\n",
    "gamma_list = [-2.9, -2.3, -1.6]\n",
    "\n",
    "params_df = gen_data_and_mm(time_points, num_of_obligors_list, factor_loading_list, gamma_list)"
   ],
   "metadata": {
    "collapsed": false,
    "ExecuteTime": {
     "end_time": "2024-04-06T19:55:21.748439Z",
     "start_time": "2024-04-06T19:55:06.039267600Z"
    }
   },
   "id": "de28415c93d97d4c"
  },
  {
   "cell_type": "code",
   "execution_count": 14,
   "outputs": [
    {
     "data": {
      "text/plain": "         w_0       w_1       w_2\n0   0.171754  0.186183  0.199939\n1   0.168411  0.188161  0.196441\n2   0.225270  0.207848  0.193635\n3   0.159503  0.178993  0.188256\n4   0.235561  0.230176  0.220638\n..       ...       ...       ...\n95  0.194890  0.208026  0.216925\n96  0.262538  0.271729  0.259860\n97  0.185684  0.183710  0.171134\n98  0.229434  0.232435  0.232618\n99  0.163561  0.179192  0.200292\n\n[100 rows x 3 columns]",
      "text/html": "<div>\n<style scoped>\n    .dataframe tbody tr th:only-of-type {\n        vertical-align: middle;\n    }\n\n    .dataframe tbody tr th {\n        vertical-align: top;\n    }\n\n    .dataframe thead th {\n        text-align: right;\n    }\n</style>\n<table border=\"1\" class=\"dataframe\">\n  <thead>\n    <tr style=\"text-align: right;\">\n      <th></th>\n      <th>w_0</th>\n      <th>w_1</th>\n      <th>w_2</th>\n    </tr>\n  </thead>\n  <tbody>\n    <tr>\n      <th>0</th>\n      <td>0.171754</td>\n      <td>0.186183</td>\n      <td>0.199939</td>\n    </tr>\n    <tr>\n      <th>1</th>\n      <td>0.168411</td>\n      <td>0.188161</td>\n      <td>0.196441</td>\n    </tr>\n    <tr>\n      <th>2</th>\n      <td>0.225270</td>\n      <td>0.207848</td>\n      <td>0.193635</td>\n    </tr>\n    <tr>\n      <th>3</th>\n      <td>0.159503</td>\n      <td>0.178993</td>\n      <td>0.188256</td>\n    </tr>\n    <tr>\n      <th>4</th>\n      <td>0.235561</td>\n      <td>0.230176</td>\n      <td>0.220638</td>\n    </tr>\n    <tr>\n      <th>...</th>\n      <td>...</td>\n      <td>...</td>\n      <td>...</td>\n    </tr>\n    <tr>\n      <th>95</th>\n      <td>0.194890</td>\n      <td>0.208026</td>\n      <td>0.216925</td>\n    </tr>\n    <tr>\n      <th>96</th>\n      <td>0.262538</td>\n      <td>0.271729</td>\n      <td>0.259860</td>\n    </tr>\n    <tr>\n      <th>97</th>\n      <td>0.185684</td>\n      <td>0.183710</td>\n      <td>0.171134</td>\n    </tr>\n    <tr>\n      <th>98</th>\n      <td>0.229434</td>\n      <td>0.232435</td>\n      <td>0.232618</td>\n    </tr>\n    <tr>\n      <th>99</th>\n      <td>0.163561</td>\n      <td>0.179192</td>\n      <td>0.200292</td>\n    </tr>\n  </tbody>\n</table>\n<p>100 rows × 3 columns</p>\n</div>"
     },
     "execution_count": 14,
     "metadata": {},
     "output_type": "execute_result"
    }
   ],
   "source": [
    "params_df"
   ],
   "metadata": {
    "collapsed": false,
    "ExecuteTime": {
     "end_time": "2024-04-06T19:55:21.765440600Z",
     "start_time": "2024-04-06T19:55:21.751440200Z"
    }
   },
   "id": "6e41027284f55d83"
  },
  {
   "cell_type": "code",
   "execution_count": null,
   "outputs": [],
   "source": [],
   "metadata": {
    "collapsed": false
   },
   "id": "27df5ffaef4560a2"
  }
 ],
 "metadata": {
  "kernelspec": {
   "name": "python3",
   "language": "python",
   "display_name": "Python 3 (ipykernel)"
  },
  "language_info": {
   "codemirror_mode": {
    "name": "ipython",
    "version": 2
   },
   "file_extension": ".py",
   "mimetype": "text/x-python",
   "name": "python",
   "nbconvert_exporter": "python",
   "pygments_lexer": "ipython2",
   "version": "2.7.6"
  }
 },
 "nbformat": 4,
 "nbformat_minor": 5
}
