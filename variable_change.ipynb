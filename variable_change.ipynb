{
 "cells": [
  {
   "cell_type": "markdown",
   "source": [
    "$$ p_g\\left(X_g\\right)=\\Phi\\left(\\frac{\\gamma_g-w_g X_g}{\\sqrt{1-w_g^2}}\\right) $$"
   ],
   "metadata": {
    "collapsed": false
   },
   "id": "6de28c573c75c93"
  },
  {
   "cell_type": "markdown",
   "source": [
    "$$ p_g\\left(X_g\\right)=\\Phi\\left(aX_g+b\\right) $$"
   ],
   "metadata": {
    "collapsed": false
   },
   "id": "645f51504c9615ab"
  },
  {
   "cell_type": "markdown",
   "source": [
    "$$ a = \\frac{\\gamma_g}{\\sqrt{1-w_g^2}} $$"
   ],
   "metadata": {
    "collapsed": false
   },
   "id": "933e73de8d3bc7b8"
  },
  {
   "cell_type": "markdown",
   "source": [
    "$$ b = -\\frac{w_g}{\\sqrt{1-w_g^2}} $$"
   ],
   "metadata": {
    "collapsed": false
   },
   "id": "2d5aeda9ccd2bb7a"
  },
  {
   "cell_type": "markdown",
   "source": [
    "The expressions of w and gamma as functions of a and b are:\n",
    "$$ w_g = -\\frac{b}{\\sqrt{b^2 + 1}} $$\n",
    "$$ \\gamma_g = a \\cdot \\sqrt{1 - w_g^2} $$\n"
   ],
   "metadata": {
    "collapsed": false
   },
   "id": "bf6c67817e0c22a8"
  },
  {
   "cell_type": "code",
   "execution_count": 1,
   "outputs": [],
   "source": [
    "import numpy as np"
   ],
   "metadata": {
    "collapsed": false,
    "ExecuteTime": {
     "end_time": "2024-03-23T21:03:19.297359100Z",
     "start_time": "2024-03-23T21:03:19.123342800Z"
    }
   },
   "id": "9ca040f0036aa1ea"
  },
  {
   "cell_type": "code",
   "execution_count": 2,
   "outputs": [],
   "source": [
    "def w_calc_func(a, b):\n",
    "    return - b/ np.sqrt(b**2 + 1)\n",
    "\n",
    "def gamma_calc_func(a, b):\n",
    "    return a * np.sqrt(1 - w_calc_func(a, b)**2)\n",
    "\n",
    "def a_calc_func(w, gamma):\n",
    "    return gamma / np.sqrt(1 - w**2)\n",
    "\n",
    "def b_calc_func(w, gamma):\n",
    "    return -w / np.sqrt(1 - w**2)"
   ],
   "metadata": {
    "collapsed": false,
    "ExecuteTime": {
     "end_time": "2024-03-23T21:03:19.312357100Z",
     "start_time": "2024-03-23T21:03:19.299356900Z"
    }
   },
   "id": "4b75b6cf8a932ad"
  },
  {
   "cell_type": "code",
   "execution_count": 3,
   "outputs": [
    {
     "name": "stdout",
     "output_type": "stream",
     "text": [
      "-1.7614096918559583 -0.37363235887853663\n"
     ]
    }
   ],
   "source": [
    "gamma_g = -1.65\n",
    "w_g = 0.35\n",
    "\n",
    "a = a_calc_func(w_g, gamma_g)\n",
    "b = b_calc_func(w_g, gamma_g)\n",
    "print(a, b)"
   ],
   "metadata": {
    "collapsed": false,
    "ExecuteTime": {
     "end_time": "2024-03-23T21:03:19.356359200Z",
     "start_time": "2024-03-23T21:03:19.314358500Z"
    }
   },
   "id": "3c03db6866b1147e"
  },
  {
   "cell_type": "code",
   "execution_count": 4,
   "outputs": [
    {
     "data": {
      "text/plain": "(0.35, -1.65)"
     },
     "execution_count": 4,
     "metadata": {},
     "output_type": "execute_result"
    }
   ],
   "source": [
    "w_calc_func(a, b), gamma_calc_func(a, b)"
   ],
   "metadata": {
    "collapsed": false,
    "ExecuteTime": {
     "end_time": "2024-03-23T21:03:19.369361Z",
     "start_time": "2024-03-23T21:03:19.329359400Z"
    }
   },
   "id": "7d54a077fdcaa80b"
  },
  {
   "cell_type": "code",
   "execution_count": null,
   "outputs": [],
   "source": [],
   "metadata": {
    "collapsed": false
   },
   "id": "26904467090b84d7"
  }
 ],
 "metadata": {
  "kernelspec": {
   "name": "python3",
   "language": "python",
   "display_name": "Python 3 (ipykernel)"
  },
  "language_info": {
   "codemirror_mode": {
    "name": "ipython",
    "version": 2
   },
   "file_extension": ".py",
   "mimetype": "text/x-python",
   "name": "python",
   "nbconvert_exporter": "python",
   "pygments_lexer": "ipython2",
   "version": "2.7.6"
  }
 },
 "nbformat": 4,
 "nbformat_minor": 5
}
