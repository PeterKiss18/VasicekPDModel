{
 "cells": [
  {
   "cell_type": "markdown",
   "source": [
    "$$ p_g\\left(X_g\\right)=\\Phi\\left(\\frac{\\gamma_g-w_g X_g}{\\sqrt{1-w_g^2}}\\right) $$"
   ],
   "metadata": {
    "collapsed": false
   },
   "id": "6de28c573c75c93"
  },
  {
   "cell_type": "markdown",
   "source": [
    "$$ p_g\\left(X_g\\right)=\\Phi\\left(aX_g+b\\right) $$"
   ],
   "metadata": {
    "collapsed": false
   },
   "id": "645f51504c9615ab"
  },
  {
   "cell_type": "markdown",
   "source": [
    "$$ a = \\frac{\\gamma_g}{\\sqrt{1-w_g^2}} $$"
   ],
   "metadata": {
    "collapsed": false
   },
   "id": "933e73de8d3bc7b8"
  },
  {
   "cell_type": "markdown",
   "source": [
    "$$ b = -\\frac{w_g}{\\sqrt{1-w_g^2}} $$"
   ],
   "metadata": {
    "collapsed": false
   },
   "id": "2d5aeda9ccd2bb7a"
  },
  {
   "cell_type": "markdown",
   "source": [
    "The expressions of w and gamma as functions of a and b are:\n",
    "$$ w_g = -\\frac{b}{\\sqrt{b^2 + 1}} $$\n",
    "$$ \\gamma_g = a \\cdot \\sqrt{1 - w_g^2} $$\n"
   ],
   "metadata": {
    "collapsed": false
   },
   "id": "bf6c67817e0c22a8"
  },
  {
   "cell_type": "code",
   "execution_count": 4,
   "outputs": [],
   "source": [
    "import numpy as np"
   ],
   "metadata": {
    "collapsed": false,
    "ExecuteTime": {
     "end_time": "2024-03-24T19:28:07.562101300Z",
     "start_time": "2024-03-24T19:28:07.526098600Z"
    }
   },
   "id": "9ca040f0036aa1ea"
  },
  {
   "cell_type": "code",
   "execution_count": 5,
   "outputs": [],
   "source": [
    "def w_calc_func(a, b):\n",
    "    return - b/ np.sqrt(b**2 + 1)\n",
    "\n",
    "def gamma_calc_func(a, b):\n",
    "    return a * np.sqrt(1 - w_calc_func(a, b)**2)\n",
    "\n",
    "def a_calc_func(w, gamma):\n",
    "    return gamma / np.sqrt(1 - w**2)\n",
    "\n",
    "def b_calc_func(w, gamma):\n",
    "    return -w / np.sqrt(1 - w**2)"
   ],
   "metadata": {
    "collapsed": false,
    "ExecuteTime": {
     "end_time": "2024-03-24T19:28:07.856105200Z",
     "start_time": "2024-03-24T19:28:07.813105400Z"
    }
   },
   "id": "4b75b6cf8a932ad"
  },
  {
   "cell_type": "code",
   "execution_count": 6,
   "outputs": [
    {
     "name": "stdout",
     "output_type": "stream",
     "text": [
      "-1.7614096918559583 -0.37363235887853663\n"
     ]
    }
   ],
   "source": [
    "gamma_g = -1.65\n",
    "w_g = 0.35\n",
    "\n",
    "a = a_calc_func(w_g, gamma_g)\n",
    "b = b_calc_func(w_g, gamma_g)\n",
    "print(a, b)"
   ],
   "metadata": {
    "collapsed": false,
    "ExecuteTime": {
     "end_time": "2024-03-24T19:28:08.179152Z",
     "start_time": "2024-03-24T19:28:08.107128500Z"
    }
   },
   "id": "3c03db6866b1147e"
  },
  {
   "cell_type": "code",
   "execution_count": 7,
   "outputs": [
    {
     "data": {
      "text/plain": "(0.35, -1.65)"
     },
     "execution_count": 7,
     "metadata": {},
     "output_type": "execute_result"
    }
   ],
   "source": [
    "w_calc_func(a, b), gamma_calc_func(a, b)"
   ],
   "metadata": {
    "collapsed": false,
    "ExecuteTime": {
     "end_time": "2024-03-24T19:28:08.459285Z",
     "start_time": "2024-03-24T19:28:08.397602400Z"
    }
   },
   "id": "7d54a077fdcaa80b"
  },
  {
   "cell_type": "code",
   "execution_count": 15,
   "outputs": [],
   "source": [
    "from src.data_generator import generate_default_buckets\n",
    "from src.ML_estimation import calculate_my_likelihood_arr\n",
    "from scipy.stats import norm, binom\n",
    "from src.sucess_probability import p_g\n",
    "from scipy.optimize import minimize\n",
    "from scipy.integrate import quad"
   ],
   "metadata": {
    "collapsed": false,
    "ExecuteTime": {
     "end_time": "2024-03-24T19:39:27.041505700Z",
     "start_time": "2024-03-24T19:39:27.010505300Z"
    }
   },
   "id": "26904467090b84d7"
  },
  {
   "cell_type": "code",
   "execution_count": 16,
   "outputs": [],
   "source": [
    "def calculate_variable_changed_likelihood_arr(d_g_arr, n_g_arr, p_g, prob_dens_func, a, b):\n",
    "    integrand = lambda x: np.prod(binom.pmf(d_g_arr, n_g_arr, norm.cdf(a*x+b))) * prob_dens_func(x)\n",
    "\n",
    "    result, _ = quad(integrand, -3, 3)\n",
    "\n",
    "    return result"
   ],
   "metadata": {
    "collapsed": false,
    "ExecuteTime": {
     "end_time": "2024-03-24T19:39:27.276365400Z",
     "start_time": "2024-03-24T19:39:27.249361400Z"
    }
   },
   "id": "376b1bb9cb8392de"
  },
  {
   "cell_type": "code",
   "execution_count": 17,
   "outputs": [
    {
     "data": {
      "text/plain": "([-3.2473765635439547, -2.5755055503969295, -1.7916560350587338],\n [-0.5039032598602688, -0.5039032598602688, -0.5039032598602688])"
     },
     "execution_count": 17,
     "metadata": {},
     "output_type": "execute_result"
    }
   ],
   "source": [
    "# convert gamma_list [gamma_1, gamma_2, gamma_3] to [a_1, a_2, a_3]\n",
    "gamma_g = [-2.9, -2.3, -1.6]\n",
    "w_g = [0.45, 0.45, 0.45]\n",
    "a = [a_calc_func(w_g[i], gamma_g[i]) for i in range(3)]\n",
    "b = [b_calc_func(w_g[i], gamma_g[i]) for i in range(3)]\n",
    "a, b"
   ],
   "metadata": {
    "collapsed": false,
    "ExecuteTime": {
     "end_time": "2024-03-24T19:39:27.541006400Z",
     "start_time": "2024-03-24T19:39:27.476002700Z"
    }
   },
   "id": "b9dead50e9d73dd3"
  },
  {
   "cell_type": "code",
   "execution_count": 37,
   "outputs": [
    {
     "name": "stdout",
     "output_type": "stream",
     "text": [
      "Optimization terminated successfully.\n",
      "         Current function value: 18.658821\n",
      "         Iterations: 61\n",
      "         Function evaluations: 142\n",
      "The optimal weight parameter is [-3.18606011 -2.51327555 -1.84717946 -0.51715289]\n",
      "Optimization terminated successfully.\n"
     ]
    }
   ],
   "source": [
    "# generate random number for seed between 1 and 1000\n",
    "seed = 491\n",
    "np.random.seed(seed)\n",
    "\n",
    "# generate default buckets\n",
    "factor_loading_list = [0.45, 0.45, 0.45]\n",
    "num_of_obligors_list = [250, 250, 250]\n",
    "gamma_list = [-2.9, -2.3, -1.6]\n",
    "d_g_list = generate_default_buckets(factor_loading_list,num_of_obligors_list, gamma_list, 500)\n",
    "\n",
    "# Different gamma and same factor loading parameter\n",
    "d_g_arr = d_g_list\n",
    "n_g_arr = np.array(num_of_obligors_list) * 500\n",
    "\n",
    "# MLE condition and initial guess\n",
    "initial_guess = np.array([-3.247, -2.576, -1.792, -0.50])\n",
    "bounds = [(-5, 5), (-5, 5), (-5, 5), (-5, 5)]\n",
    "\n",
    "# Function to be minimized in weight parameter\n",
    "objective_function = lambda params: -np.log(calculate_variable_changed_likelihood_arr(d_g_arr, n_g_arr, p_g, norm.pdf, \n",
    "                                                                 np.repeat(params[3], 3), \n",
    "                                                                 params[0:3]))\n",
    "\n",
    "result = minimize(objective_function,\n",
    "                  initial_guess,\n",
    "                  method=\"Nelder-Mead\",\n",
    "                  bounds=bounds,\n",
    "                  options={\n",
    "                      'disp': True})\n",
    "# Method can be Nelder-Mead or Powell\n",
    "\n",
    "# The optimal weight parameter\n",
    "optimal_weight = result.x\n",
    "print(f\"The optimal weight parameter is {optimal_weight}\")\n",
    "print(result.message)"
   ],
   "metadata": {
    "collapsed": false,
    "ExecuteTime": {
     "end_time": "2024-03-24T19:55:00.353451100Z",
     "start_time": "2024-03-24T19:54:56.540369500Z"
    }
   },
   "id": "d983feddfd14aa78"
  },
  {
   "cell_type": "code",
   "execution_count": 38,
   "outputs": [
    {
     "data": {
      "text/plain": "([0.459360910748799, 0.459360910748799, 0.459360910748799],\n [-2.8300169821725167, -2.2324162911860133, -1.6407566283665866])"
     },
     "execution_count": 38,
     "metadata": {},
     "output_type": "execute_result"
    }
   ],
   "source": [
    "b_result = result.x[3]\n",
    "a_result = [result.x[i] for i in range(3)]\n",
    "w_result = [w_calc_func(a_result[i], b_result) for i in range(3)]\n",
    "gamma_result = [gamma_calc_func(a_result[i], b_result) for i in range(3)]\n",
    "\n",
    "w_result, gamma_result"
   ],
   "metadata": {
    "collapsed": false,
    "ExecuteTime": {
     "end_time": "2024-03-24T19:55:02.980356Z",
     "start_time": "2024-03-24T19:55:02.951278400Z"
    }
   },
   "id": "860835f476314427"
  },
  {
   "cell_type": "code",
   "execution_count": 43,
   "outputs": [
    {
     "name": "stderr",
     "output_type": "stream",
     "text": [
      "C:\\Users\\kissp\\AppData\\Local\\Temp\\ipykernel_17320\\2100811897.py:4: IntegrationWarning: The integral is probably divergent, or slowly convergent.\n",
      "  result, _ = quad(integrand, -3, 3)\n"
     ]
    }
   ],
   "source": [
    "# Confidence interval for the ML parameter estimation\n",
    "list_of_len_ts = [100, 200, 300, 500]\n",
    "num_of_simulations = 10\n",
    "factor_loading_list = [0.45, 0.45, 0.45]\n",
    "pd_list = [0.0015, 0.0100, 0.0500]\n",
    "gamma_list = norm.ppf(pd_list)\n",
    "num_of_obligors_list = [400, 250, 100]\n",
    "\n",
    "# Create a dictionary to store the results\n",
    "# make the keys of the dictionary the length of the time series\n",
    "results = {key: [] for key in list_of_len_ts}\n",
    "for _ in range(num_of_simulations):\n",
    "    for len_ts in list_of_len_ts:\n",
    "        default_list = generate_default_buckets(factor_loading_list,num_of_obligors_list, gamma_list, time_points=len_ts)\n",
    "        num_of_obligors_over_time = [x * len_ts for x in num_of_obligors_list]\n",
    "        d_g_arr = np.array(default_list)\n",
    "        n_g_arr = np.array(num_of_obligors_over_time)\n",
    "        a_list = [a_calc_func(factor_loading_list[i], gamma_list[i]) for i in range(3)]\n",
    "        b_list = [b_calc_func(factor_loading_list[i], gamma_list[i]) for i in range(3)]\n",
    "        # Let a init the a_list rounded to 3 decimal places\n",
    "        a_init = np.round(a_list, 3)\n",
    "        b_init = np.round(b_list, 3)\n",
    "        \n",
    "        initial_guess = np.array(a_init)\n",
    "        initial_guess = np.append(initial_guess, b_init[0])\n",
    "        bounds = [(-5, 5), (-5, 5), (-5, 5), (-5, 5)]\n",
    "        objective_function = lambda params: -np.log(calculate_variable_changed_likelihood_arr(d_g_arr, n_g_arr, p_g, norm.pdf, \n",
    "                                                                 np.repeat(params[3], 3), \n",
    "                                                                 params[0:3]))\n",
    "        result = minimize(objective_function,\n",
    "                  initial_guess,\n",
    "                  method=\"Nelder-Mead\",\n",
    "                  bounds=bounds,\n",
    "                  options={\n",
    "                      'disp': False})\n",
    "        \n",
    "        b_result = result.x[3]\n",
    "        a_result = [result.x[i] for i in range(3)]\n",
    "        w_result = [w_calc_func(a_result[i], b_result) for i in range(3)]\n",
    "        gamma_result = [gamma_calc_func(a_result[i], b_result) for i in range(3)]\n",
    "        \n",
    "        results[len_ts].append(w_result[0])"
   ],
   "metadata": {
    "collapsed": false,
    "ExecuteTime": {
     "end_time": "2024-03-24T20:37:10.024154800Z",
     "start_time": "2024-03-24T20:28:30.840331200Z"
    }
   },
   "id": "476b43c241a5d14"
  },
  {
   "cell_type": "code",
   "execution_count": 44,
   "outputs": [
    {
     "data": {
      "text/plain": "{100: [-3.954741676226937e-06,\n  -4.169729787865443e-06,\n  -2.2561185562170657e-05,\n  8.472309165690303e-06,\n  -3.878210393467119e-05,\n  5.15501922976395e-06,\n  7.147475223844656e-06,\n  1.6333932857067317e-05,\n  2.4238871395438084e-05,\n  -2.430668682814424e-06],\n 200: [0.2596942429758074,\n  -1.9984866692475695e-05,\n  -3.661882514874846e-05,\n  1.4336196733970221e-05,\n  -1.173912710743653e-05,\n  0.46293277796209376,\n  -4.1410029609961255e-06,\n  -0.03478601988220862,\n  0.45471911255550934,\n  -0.018755188533190692],\n 300: [0.44770750990613767,\n  0.46105002822318286,\n  0.038636172212812514,\n  0.44878729199229284,\n  0.4527353288824286,\n  0.3778998767705431,\n  0.4467530597305152,\n  0.45317294122015234,\n  0.45158992427371086,\n  -7.511229378146125e-06],\n 500: [0.4525865380784997,\n  0.473848617511862,\n  0.46350575090299184,\n  -0.0030051004515318177,\n  -4.774504982658473e-06,\n  0.45142113909798204,\n  0.45260120468632203,\n  0.4377342192663827,\n  0.44703355663224165,\n  1.227431946423175e-05]}"
     },
     "execution_count": 44,
     "metadata": {},
     "output_type": "execute_result"
    }
   ],
   "source": [
    "results"
   ],
   "metadata": {
    "collapsed": false,
    "ExecuteTime": {
     "end_time": "2024-03-24T20:37:20.085185200Z",
     "start_time": "2024-03-24T20:37:20.065184500Z"
    }
   },
   "id": "f5be38c08c1219fb"
  },
  {
   "cell_type": "code",
   "execution_count": null,
   "outputs": [],
   "source": [],
   "metadata": {
    "collapsed": false
   },
   "id": "34acc64aefcee2b9"
  }
 ],
 "metadata": {
  "kernelspec": {
   "name": "python3",
   "language": "python",
   "display_name": "Python 3 (ipykernel)"
  },
  "language_info": {
   "codemirror_mode": {
    "name": "ipython",
    "version": 2
   },
   "file_extension": ".py",
   "mimetype": "text/x-python",
   "name": "python",
   "nbconvert_exporter": "python",
   "pygments_lexer": "ipython2",
   "version": "2.7.6"
  }
 },
 "nbformat": 4,
 "nbformat_minor": 5
}
