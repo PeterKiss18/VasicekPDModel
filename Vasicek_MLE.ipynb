{
 "cells": [
  {
   "cell_type": "code",
   "execution_count": 1,
   "id": "initial_id",
   "metadata": {
    "collapsed": true,
    "ExecuteTime": {
     "end_time": "2024-02-22T20:10:45.277908400Z",
     "start_time": "2024-02-22T20:10:43.719772700Z"
    }
   },
   "outputs": [
    {
     "name": "stderr",
     "output_type": "stream",
     "text": [
      "C:\\Users\\kissp\\AppData\\Local\\Temp\\ipykernel_11716\\2671179911.py:2: DeprecationWarning: \n",
      "Pyarrow will become a required dependency of pandas in the next major release of pandas (pandas 3.0),\n",
      "(to allow more performant data types, such as the Arrow string type, and better interoperability with other libraries)\n",
      "but was not found to be installed on your system.\n",
      "If this would cause problems for you,\n",
      "please provide us feedback at https://github.com/pandas-dev/pandas/issues/54466\n",
      "        \n",
      "  import pandas as pd\n"
     ]
    }
   ],
   "source": [
    "import numpy as np\n",
    "import pandas as pd\n",
    "import scipy.stats as stats\n",
    "from scipy.integrate import quad\n",
    "from scipy.stats import norm, binom\n",
    "from scipy.optimize import minimize"
   ]
  },
  {
   "cell_type": "code",
   "execution_count": 2,
   "outputs": [],
   "source": [
    "df = pd.read_csv('SP_historical_PD_data.csv', sep=';')"
   ],
   "metadata": {
    "collapsed": false,
    "ExecuteTime": {
     "end_time": "2024-02-22T20:10:45.278909200Z",
     "start_time": "2024-02-22T20:10:45.236907600Z"
    }
   },
   "id": "9f5d94783ecbeed3"
  },
  {
   "cell_type": "code",
   "execution_count": 3,
   "outputs": [
    {
     "data": {
      "text/plain": "(40, 8)"
     },
     "execution_count": 3,
     "metadata": {},
     "output_type": "execute_result"
    }
   ],
   "source": [
    "df.shape"
   ],
   "metadata": {
    "collapsed": false,
    "ExecuteTime": {
     "end_time": "2024-02-22T20:10:45.279910100Z",
     "start_time": "2024-02-22T20:10:45.248906400Z"
    }
   },
   "id": "9829d814589c9be2"
  },
  {
   "cell_type": "code",
   "execution_count": 4,
   "outputs": [
    {
     "data": {
      "text/plain": "   Year  Total defaults*  Investment-grade defaults  \\\n0  1981                2                          0   \n1  1982               18                          2   \n2  1983               12                          1   \n3  1984               14                          2   \n4  1985               19                          0   \n\n   Speculative-grade defaults  Default rate (%)  \\\n0                           2              0.15   \n1                          15              1.22   \n2                          10              0.77   \n3                          12              0.93   \n4                          18              1.13   \n\n   Investment-grade default rate (%)  Speculative-grade default rate (%)  \\\n0                               0.00                                0.63   \n1                               0.19                                4.46   \n2                               0.09                                2.98   \n3                               0.17                                3.31   \n4                               0.00                                4.37   \n\n   Total debt outstanding (bil. $)  \n0                             0.06  \n1                             0.90  \n2                             0.37  \n3                             0.36  \n4                             0.31  ",
      "text/html": "<div>\n<style scoped>\n    .dataframe tbody tr th:only-of-type {\n        vertical-align: middle;\n    }\n\n    .dataframe tbody tr th {\n        vertical-align: top;\n    }\n\n    .dataframe thead th {\n        text-align: right;\n    }\n</style>\n<table border=\"1\" class=\"dataframe\">\n  <thead>\n    <tr style=\"text-align: right;\">\n      <th></th>\n      <th>Year</th>\n      <th>Total defaults*</th>\n      <th>Investment-grade defaults</th>\n      <th>Speculative-grade defaults</th>\n      <th>Default rate (%)</th>\n      <th>Investment-grade default rate (%)</th>\n      <th>Speculative-grade default rate (%)</th>\n      <th>Total debt outstanding (bil. $)</th>\n    </tr>\n  </thead>\n  <tbody>\n    <tr>\n      <th>0</th>\n      <td>1981</td>\n      <td>2</td>\n      <td>0</td>\n      <td>2</td>\n      <td>0.15</td>\n      <td>0.00</td>\n      <td>0.63</td>\n      <td>0.06</td>\n    </tr>\n    <tr>\n      <th>1</th>\n      <td>1982</td>\n      <td>18</td>\n      <td>2</td>\n      <td>15</td>\n      <td>1.22</td>\n      <td>0.19</td>\n      <td>4.46</td>\n      <td>0.90</td>\n    </tr>\n    <tr>\n      <th>2</th>\n      <td>1983</td>\n      <td>12</td>\n      <td>1</td>\n      <td>10</td>\n      <td>0.77</td>\n      <td>0.09</td>\n      <td>2.98</td>\n      <td>0.37</td>\n    </tr>\n    <tr>\n      <th>3</th>\n      <td>1984</td>\n      <td>14</td>\n      <td>2</td>\n      <td>12</td>\n      <td>0.93</td>\n      <td>0.17</td>\n      <td>3.31</td>\n      <td>0.36</td>\n    </tr>\n    <tr>\n      <th>4</th>\n      <td>1985</td>\n      <td>19</td>\n      <td>0</td>\n      <td>18</td>\n      <td>1.13</td>\n      <td>0.00</td>\n      <td>4.37</td>\n      <td>0.31</td>\n    </tr>\n  </tbody>\n</table>\n</div>"
     },
     "execution_count": 4,
     "metadata": {},
     "output_type": "execute_result"
    }
   ],
   "source": [
    "df.head()"
   ],
   "metadata": {
    "collapsed": false,
    "ExecuteTime": {
     "end_time": "2024-02-22T20:10:45.324913400Z",
     "start_time": "2024-02-22T20:10:45.271909200Z"
    }
   },
   "id": "5f0ed57ea8918408"
  },
  {
   "cell_type": "code",
   "execution_count": 5,
   "outputs": [],
   "source": [
    "# Calculate the number of obligors\n",
    "df['num_of_inv_grades'] = (df['Investment-grade defaults'] / (df['Investment-grade default rate (%)']/100)).round()\n",
    "df['num_of_spec_grades'] = (df['Speculative-grade defaults'] / (df['Speculative-grade default rate (%)']/100)).round().astype(int)\n",
    "df['num_of_total_grades'] = (df['Total defaults*'] / (df['Default rate (%)']/100)).round().astype(int)\n",
    "\n",
    "# Fill-out the missing values in num_of_inv_grades column with the difference between num_of_total_grades and num_of_spec_grades\n",
    "df['num_of_inv_grades'] = np.where(df['num_of_inv_grades'].isna(), df['num_of_total_grades'] - df['num_of_spec_grades'], df['num_of_inv_grades']).astype(int)"
   ],
   "metadata": {
    "collapsed": false,
    "ExecuteTime": {
     "end_time": "2024-02-22T20:10:45.373917Z",
     "start_time": "2024-02-22T20:10:45.304911600Z"
    }
   },
   "id": "1998dd0f378520d7"
  },
  {
   "cell_type": "code",
   "execution_count": 6,
   "outputs": [],
   "source": [
    "def p_g(X_g, w_g, gamma_g):\n",
    "    \"\"\"\n",
    "    Calculates the success probability of a Bernoulli trial.\n",
    "\n",
    "    Parameters:\n",
    "        X_g (float): Input value.\n",
    "        w_g (float): Parameter 'w_g'.\n",
    "        gamma_g (float): Parameter 'gamma_g'.\n",
    "\n",
    "    Returns:\n",
    "        float: Result of p_g(X_g).\n",
    "    \"\"\"\n",
    "    modified_result = norm.cdf((gamma_g - w_g * X_g) / np.sqrt(1 - w_g**2))\n",
    "\n",
    "    return modified_result"
   ],
   "metadata": {
    "collapsed": false,
    "ExecuteTime": {
     "end_time": "2024-02-22T20:10:45.419921800Z",
     "start_time": "2024-02-22T20:10:45.332914900Z"
    }
   },
   "id": "481d1b02726308dd"
  },
  {
   "cell_type": "code",
   "execution_count": 7,
   "outputs": [],
   "source": [
    "def calculate_my_likelihood(d_g, n_g, p_g, prob_dens_func, w_g, gamma_g):\n",
    "    \"\"\"\n",
    "    Numerically calculates the value of L(d_g) based on the given formula.\n",
    "\n",
    "    Parameters:\n",
    "        d_g (int): Value of d_g.\n",
    "        n_g (int): Value of n_g.\n",
    "        p_g (callable): The p_g function representing the probability density function.\n",
    "        prob_dens_func (callable): The pdf_g function representing the probability density function.\n",
    "        w_g (float): Parameter 'w_g'.\n",
    "        gamma_g (float): Parameter 'gamma_g'.\n",
    "\n",
    "    Returns:\n",
    "        float: Numerical approximation of the integral.\n",
    "    \"\"\"\n",
    "    integrand = lambda x: binom.pmf(d_g, n_g, p_g(x, w_g, gamma_g)) * (p_g(x, w_g, gamma_g) ** d_g) * ((1 - p_g(x, w_g, gamma_g)) ** (n_g - d_g)) * prob_dens_func(x)\n",
    "    \n",
    "    result, _ = quad(integrand, -np.inf, np.inf)\n",
    "    \n",
    "    return result"
   ],
   "metadata": {
    "collapsed": false,
    "ExecuteTime": {
     "end_time": "2024-02-22T20:10:45.513929800Z",
     "start_time": "2024-02-22T20:10:45.349914300Z"
    }
   },
   "id": "a1b3cd037e79b7ac"
  },
  {
   "cell_type": "code",
   "execution_count": 8,
   "outputs": [
    {
     "name": "stdout",
     "output_type": "stream",
     "text": [
      "The value of L(d) for d = 5 and n = 100 is 2.5312559717345424e-10\n"
     ]
    }
   ],
   "source": [
    "# An example for the calculation of the likelihood\n",
    "test_d_g = 5\n",
    "test_n_g = 100\n",
    "prob_dens_func = norm.pdf\n",
    "test_w_g = 0.2\n",
    "test_gamma_g = -1.6449\n",
    "\n",
    "L_result = calculate_my_likelihood(test_d_g, test_n_g, p_g, prob_dens_func, test_w_g, test_gamma_g)\n",
    "print(f\"The value of L(d) for d = {test_d_g} and n = {test_n_g} is {L_result}\")"
   ],
   "metadata": {
    "collapsed": false,
    "ExecuteTime": {
     "end_time": "2024-02-22T20:10:45.608936600Z",
     "start_time": "2024-02-22T20:10:45.365917200Z"
    }
   },
   "id": "835c249231a8cd15"
  },
  {
   "cell_type": "code",
   "execution_count": 9,
   "outputs": [],
   "source": [
    "def calculate_likelihood_ts(d_g, n_g, p_g, pdf_g, w_g, gamma_g):\n",
    "    \"\"\"\n",
    "    Numerically calculates the time series value of L(d_g) based on the given formula by multiply for each date.\n",
    "\n",
    "    Parameters:\n",
    "        d_g (pd.Series): Time series for d_g.\n",
    "        n_g (pd.Series): Time series for n_g.\n",
    "        p_g (callable): The p_g function representing the probability density function.\n",
    "        pdf_g (callable): The pdf_g function representing the probability density function.\n",
    "        w_g (float): Parameter 'w_g'.\n",
    "        gamma_g (float): Parameter 'gamma_g'.\n",
    "\n",
    "    Returns:\n",
    "        float: Numerical approximation of the integral.\n",
    "    \"\"\"\n",
    "    integrand = lambda x: np.prod(binom.pmf(d_g, n_g, p_g(x, w_g, gamma_g)) * (p_g(x, w_g, gamma_g) ** d_g) * ((1 - p_g(x, w_g, gamma_g)) ** (n_g - d_g)) * pdf_g(x))\n",
    "    \n",
    "    result, _ = quad(integrand, -np.inf, np.inf)\n",
    "    \n",
    "    return result"
   ],
   "metadata": {
    "collapsed": false,
    "ExecuteTime": {
     "end_time": "2024-02-22T20:10:45.655939600Z",
     "start_time": "2024-02-22T20:10:45.461926800Z"
    }
   },
   "id": "3116c5c9dd4401b0"
  },
  {
   "cell_type": "code",
   "execution_count": 10,
   "outputs": [
    {
     "name": "stdout",
     "output_type": "stream",
     "text": [
      "The value of L(d) for d = [5, 8, 12, 4, 9] and n = [100, 194, 199, 113, 97] is 3.9149108105755717e-72\n"
     ]
    }
   ],
   "source": [
    "# Test the calculate_likelihood_ts function\n",
    "test_d_series = pd.Series([5, 8, 12, 4, 9])\n",
    "test_n_series = pd.Series([100, 194, 199, 113, 97])\n",
    "pd_list = test_d_series / test_n_series\n",
    "test_ttc_pd = pd_list.mean()\n",
    "test_gamma = stats.norm.ppf(test_ttc_pd)\n",
    "\n",
    "test_weight = 0.2\n",
    "\n",
    "L_result = calculate_likelihood_ts(test_d_series, test_n_series, p_g, norm.pdf, test_w_g, test_gamma)\n",
    "print(f\"The value of L(d) for d = {test_d_series.tolist()} and n = {test_n_series.tolist()} is {L_result}\")"
   ],
   "metadata": {
    "collapsed": false,
    "ExecuteTime": {
     "end_time": "2024-02-22T20:10:45.704947100Z",
     "start_time": "2024-02-22T20:10:45.474925400Z"
    }
   },
   "id": "aff214cb72e67e6d"
  },
  {
   "cell_type": "code",
   "execution_count": 11,
   "outputs": [
    {
     "name": "stdout",
     "output_type": "stream",
     "text": [
      "The value of L(d) is 5.876929937113723e-72 with weight 0.1\n",
      "The value of L(d) is 4.822793434223152e-72 with weight 0.15\n",
      "The value of L(d) is 3.9149108105755717e-72 with weight 0.2\n",
      "The value of L(d) is 3.1795651147844954e-72 with weight 0.25\n",
      "The value of L(d) is 2.5879515799771117e-72 with weight 0.3\n",
      "The value of L(d) is 2.1069567576758481e-72 with weight 0.35\n",
      "The value of L(d) is 1.7104105901804183e-72 with weight 0.4\n",
      "The value of L(d) is 1.3794259309641432e-72 with weight 0.45\n"
     ]
    }
   ],
   "source": [
    "weight_list = [0.1, 0.15, 0.2, 0.25, 0.3, 0.35, 0.4, 0.45]\n",
    "\n",
    "for weight in weight_list:\n",
    "    L_result = calculate_likelihood_ts(test_d_series, test_n_series, p_g, norm.pdf, weight, test_gamma)\n",
    "    print(f\"The value of L(d) is {L_result} with weight {weight}\")"
   ],
   "metadata": {
    "collapsed": false,
    "ExecuteTime": {
     "end_time": "2024-02-22T20:10:46.661026500Z",
     "start_time": "2024-02-22T20:10:45.551934300Z"
    }
   },
   "id": "fc55284b9ffb3c61"
  },
  {
   "cell_type": "code",
   "execution_count": 12,
   "outputs": [
    {
     "name": "stdout",
     "output_type": "stream",
     "text": [
      "The optimal weight parameter is 5.368813615538475e-05\n",
      "The optimal gamma parameter is -1.606742591320881\n"
     ]
    }
   ],
   "source": [
    "# Test the calculate_likelihood_ts function\n",
    "test_d_series = pd.Series([5, 8, 12, 4, 9])\n",
    "test_n_series = pd.Series([100, 194, 199, 113, 97])\n",
    "\n",
    "# MLE condition and initial guess\n",
    "w_g_initial = 0.23\n",
    "gamma_g_initial = 1.23\n",
    "\n",
    "# Function to be minimized in weight parameter\n",
    "objective_function = lambda params: -calculate_likelihood_ts(test_d_series, test_n_series, p_g, norm.pdf, params[0], params[1])\n",
    "\n",
    "initial_guess = [w_g_initial, gamma_g_initial]\n",
    "# Bounds for the weight parameter\n",
    "bounds = [(0, 1), (-np.inf, np.inf)]\n",
    "result = minimize(objective_function, initial_guess, method='Nelder-Mead', bounds=bounds)\n",
    "# Method can be Nelder-Mead or Powell\n",
    "\n",
    "# The optimal weight parameter\n",
    "optimal_weight = result.x\n",
    "print(f\"The optimal weight parameter is {optimal_weight[0]}\")\n",
    "print(f\"The optimal gamma parameter is {optimal_weight[1]}\")"
   ],
   "metadata": {
    "collapsed": false,
    "ExecuteTime": {
     "end_time": "2024-02-22T20:10:54.972649300Z",
     "start_time": "2024-02-22T20:10:46.666030600Z"
    }
   },
   "id": "d32eab5ef5ea0571"
  },
  {
   "cell_type": "code",
   "execution_count": 13,
   "outputs": [
    {
     "name": "stdout",
     "output_type": "stream",
     "text": [
      "The optimal weight parameter is [0.23 1.23]\n",
      "The optimal gamma parameter is 1.23\n"
     ]
    }
   ],
   "source": [
    "# Test the calculate_likelihood_ts function\n",
    "test_d_series = pd.Series([5, 8, 12, 4, 9, 10, 15, 20])\n",
    "test_n_series = pd.Series([100, 194, 199, 113, 97, 140, 210, 303])\n",
    "\n",
    "result = minimize(objective_function, initial_guess, method='Nelder-Mead', bounds=bounds)\n",
    "# Method can be Nelder-Mead or Powell\n",
    "\n",
    "# The optimal weight parameter\n",
    "optimal_weight = result.x\n",
    "print(f\"The optimal weight parameter is {optimal_weight}\")\n",
    "print(f\"The optimal gamma parameter is {optimal_weight[1]}\")"
   ],
   "metadata": {
    "collapsed": false,
    "ExecuteTime": {
     "end_time": "2024-02-22T20:10:56.600792800Z",
     "start_time": "2024-02-22T20:10:54.967647500Z"
    }
   },
   "id": "2893b44f5c535fd7"
  },
  {
   "cell_type": "markdown",
   "source": [
    "# MLE example for a slice of the historical time series"
   ],
   "metadata": {
    "collapsed": false
   },
   "id": "10609cc0c7f23d8a"
  },
  {
   "cell_type": "code",
   "execution_count": 14,
   "outputs": [
    {
     "name": "stdout",
     "output_type": "stream",
     "text": [
      "The optimal weight parameter is [0.23]\n"
     ]
    }
   ],
   "source": [
    "# MLE example\n",
    "short_d_g = df['Total defaults*'].iloc[10:15]\n",
    "short_n_g = df['num_of_total_grades'].iloc[10:15]\n",
    "gamma = stats.norm.ppf(df['Default rate (%)'].iloc[10:15].mean() / 100)\n",
    "\n",
    "# MLE condition and initial guess\n",
    "initial_guess = [0.23]\n",
    "bounds = [(0, 1)]\n",
    "\n",
    "# Function to be minimized in weight parameter\n",
    "objective_function = lambda params: -calculate_likelihood_ts(short_d_g, short_n_g, p_g, norm.pdf, params[0], gamma)\n",
    "\n",
    "result = minimize(objective_function, initial_guess, method='Nelder-Mead', bounds=bounds)\n",
    "# Method can be Nelder-Mead or Powell\n",
    "\n",
    "# The optimal weight parameter\n",
    "optimal_weight = result.x\n",
    "print(f\"The optimal weight parameter is {optimal_weight}\")"
   ],
   "metadata": {
    "collapsed": false,
    "ExecuteTime": {
     "end_time": "2024-02-22T20:10:57.448306500Z",
     "start_time": "2024-02-22T20:10:56.605796400Z"
    }
   },
   "id": "24f52f4c14fb1b2a"
  },
  {
   "cell_type": "code",
   "execution_count": 15,
   "outputs": [
    {
     "name": "stdout",
     "output_type": "stream",
     "text": [
      "The optimal weight parameter is [0.23 1.23]\n"
     ]
    }
   ],
   "source": [
    "# MLE example\n",
    "short_d_g = df['Total defaults*'].iloc[10:15]\n",
    "short_n_g = df['num_of_total_grades'].iloc[10:15]\n",
    "gamma = stats.norm.ppf(df['Default rate (%)'].iloc[10:15].mean() / 100)\n",
    "\n",
    "# MLE condition and initial guess\n",
    "w_g_initial = 0.23\n",
    "gamma_g_initial = 1.23\n",
    "\n",
    "# Function to be minimized in weight parameter\n",
    "objective_function = lambda params: -calculate_likelihood_ts(short_d_g, short_n_g, p_g, norm.pdf, params[0], params[1])\n",
    "\n",
    "initial_guess = [w_g_initial, gamma_g_initial]\n",
    "# Bounds for the weight parameter\n",
    "bounds = [(0, 1), (-np.inf, np.inf)]\n",
    "result = minimize(objective_function, initial_guess, method='Nelder-Mead', bounds=bounds)\n",
    "# Method can be Nelder-Mead or Powel\n",
    "\n",
    "\n",
    "# The optimal weight parameter\n",
    "optimal_weight = result.x\n",
    "print(f\"The optimal weight parameter is {optimal_weight}\")"
   ],
   "metadata": {
    "collapsed": false,
    "ExecuteTime": {
     "end_time": "2024-02-22T20:10:59.032449100Z",
     "start_time": "2024-02-22T20:10:57.439308300Z"
    }
   },
   "id": "4a7d7950bbaa93a1"
  },
  {
   "cell_type": "markdown",
   "source": [
    "### Value of objective function not changing with the weight parameter, so the MLE is not working properly\n",
    "### Almost all the time the likelihood function is 0, so the MLE is not working properly."
   ],
   "metadata": {
    "collapsed": false
   },
   "id": "9fcc4c65a743e13c"
  },
  {
   "cell_type": "markdown",
   "source": [
    "# MLE for the whole historical time series"
   ],
   "metadata": {
    "collapsed": false
   },
   "id": "531ae1b415740f54"
  },
  {
   "cell_type": "code",
   "execution_count": 16,
   "outputs": [
    {
     "name": "stdout",
     "output_type": "stream",
     "text": [
      "The TTC PD is 0.014767500000000003\n"
     ]
    }
   ],
   "source": [
    "TTC_PD = df['Default rate (%)'].mean() / 100\n",
    "print(f\"The TTC PD is {TTC_PD}\")"
   ],
   "metadata": {
    "collapsed": false,
    "ExecuteTime": {
     "end_time": "2024-02-22T20:10:59.092448800Z",
     "start_time": "2024-02-22T20:10:59.034445500Z"
    }
   },
   "id": "961a3e4bd13e2252"
  },
  {
   "cell_type": "code",
   "execution_count": 17,
   "outputs": [
    {
     "name": "stdout",
     "output_type": "stream",
     "text": [
      "The optimal weight parameter is [0.23]\n"
     ]
    }
   ],
   "source": [
    "d_g = df['Total defaults*']\n",
    "n_g = df['num_of_total_grades']\n",
    "gamma_g = stats.norm.ppf(df['Default rate (%)'].mean() / 100)\n",
    "\n",
    "# MLE condition and initial guess\n",
    "initial_guess = 0.23\n",
    "bounds = [(0, 1)]\n",
    "\n",
    "# Function to be minimized in weight parameter\n",
    "objective_function = lambda params: -calculate_likelihood_ts(d_g, n_g, p_g, norm.pdf, params[0], gamma_g)\n",
    "\n",
    "result = minimize(objective_function, initial_guess, method='Nelder-Mead', bounds=bounds)\n",
    "# Method can be Nelder-Mead or Powell\n",
    "\n",
    "# The optimal weight parameter\n",
    "optimal_weight = result.x\n",
    "print(f\"The optimal weight parameter is {optimal_weight}\")"
   ],
   "metadata": {
    "collapsed": false,
    "ExecuteTime": {
     "end_time": "2024-02-22T20:10:59.986347600Z",
     "start_time": "2024-02-22T20:10:59.048445600Z"
    }
   },
   "id": "96064a44ecb4b1c"
  },
  {
   "cell_type": "markdown",
   "source": [
    "Value of objective function not changing with the weight parameter, so the MLE is not working properly"
   ],
   "metadata": {
    "collapsed": false
   },
   "id": "71b980137221fead"
  },
  {
   "cell_type": "markdown",
   "source": [
    "# We can aggregate the $d_{g}$ and $n_{g}$ values because the likelihood function is additive in these parameters"
   ],
   "metadata": {
    "collapsed": false
   },
   "id": "cc5723f8272abdb3"
  },
  {
   "cell_type": "code",
   "execution_count": 18,
   "outputs": [
    {
     "name": "stdout",
     "output_type": "stream",
     "text": [
      "The sum of d_g is 3098\n",
      "The sum of n_g is 202644\n"
     ]
    }
   ],
   "source": [
    "d_g_sum = df['Total defaults*'].sum()\n",
    "n_g_sum = df['num_of_total_grades'].sum()\n",
    "\n",
    "print(f\"The sum of d_g is {d_g_sum}\")\n",
    "print(f\"The sum of n_g is {n_g_sum}\")"
   ],
   "metadata": {
    "collapsed": false,
    "ExecuteTime": {
     "end_time": "2024-02-22T20:11:00.001349900Z",
     "start_time": "2024-02-22T20:10:59.984347200Z"
    }
   },
   "id": "969137e4ea8966a2"
  },
  {
   "cell_type": "code",
   "execution_count": 19,
   "outputs": [
    {
     "name": "stdout",
     "output_type": "stream",
     "text": [
      "The optimal weight parameter is 1.8450109169628783e-05\n",
      "The optimal gamma parameter is -2.4407377901099583\n"
     ]
    }
   ],
   "source": [
    "d_g_first3 = df['Total defaults*'][:3].sum()\n",
    "n_g_first3 = df['num_of_total_grades'][:3].sum()\n",
    "\n",
    "# Function to be minimized in weight parameter\n",
    "objective_function = lambda params: -calculate_likelihood_ts(d_g_first3, n_g_first3, p_g, norm.pdf, params[0], params[1])\n",
    "\n",
    "w_g_initial = 0.17\n",
    "gamma_g_initial = -1.43\n",
    "initial_guess = [w_g_initial, gamma_g_initial]\n",
    "# Bounds for the weight parameter\n",
    "bounds = [(0, 1), (-np.inf, np.inf)]\n",
    "result = minimize(objective_function, initial_guess, method='Nelder-Mead', bounds=bounds)\n",
    "# Method can be Nelder-Mead or Powell\n",
    "\n",
    "# The optimal weight parameter\n",
    "optimal_parameters = result.x\n",
    "print(f\"The optimal weight parameter is {optimal_parameters[0]}\")\n",
    "print(f\"The optimal gamma parameter is {optimal_parameters[1]}\")"
   ],
   "metadata": {
    "collapsed": false,
    "ExecuteTime": {
     "end_time": "2024-02-22T20:11:07.753009800Z",
     "start_time": "2024-02-22T20:10:59.999348800Z"
    }
   },
   "id": "abcb91e6eab631fc"
  },
  {
   "cell_type": "code",
   "execution_count": 20,
   "outputs": [
    {
     "name": "stdout",
     "output_type": "stream",
     "text": [
      "The optimal weight parameter is 0.17\n",
      "The optimal gamma parameter is -1.43\n"
     ]
    }
   ],
   "source": [
    "d_g = df['Total defaults*'].sum()\n",
    "n_g = df['num_of_total_grades'].sum()\n",
    "\n",
    "# Function to be minimized in weight parameter\n",
    "objective_function = lambda params: -calculate_likelihood_ts(d_g, n_g, p_g, norm.pdf, params[0], params[1])\n",
    "\n",
    "w_g_initial = 0.17\n",
    "gamma_g_initial = -1.43\n",
    "initial_guess = [w_g_initial, gamma_g_initial]\n",
    "# Bounds for the weight parameter\n",
    "bounds = [(0, 1), (-np.inf, np.inf)]\n",
    "result = minimize(objective_function, initial_guess, method='Nelder-Mead', bounds=bounds)\n",
    "# Method can be Nelder-Mead or Powell\n",
    "\n",
    "# The optimal weight parameter\n",
    "optimal_parameters = result.x\n",
    "print(f\"The optimal weight parameter is {optimal_parameters[0]}\")\n",
    "print(f\"The optimal gamma parameter is {optimal_parameters[1]}\")"
   ],
   "metadata": {
    "collapsed": false,
    "ExecuteTime": {
     "end_time": "2024-02-22T20:11:08.480072300Z",
     "start_time": "2024-02-22T20:11:07.756013300Z"
    }
   },
   "id": "fde5214b52394499"
  },
  {
   "cell_type": "markdown",
   "source": [
    "## The MLE is not working properly, the likelihood function is very close to zero if $k=3000$, $n=200,000$."
   ],
   "metadata": {
    "collapsed": false
   },
   "id": "746372b31364aa3c"
  },
  {
   "cell_type": "code",
   "execution_count": 21,
   "outputs": [
    {
     "data": {
      "text/plain": "8.761438311240149e-89"
     },
     "execution_count": 21,
     "metadata": {},
     "output_type": "execute_result"
    }
   ],
   "source": [
    "calculate_my_likelihood(31, 2078, p_g, norm.pdf, 0.1, -1.2)"
   ],
   "metadata": {
    "collapsed": false,
    "ExecuteTime": {
     "end_time": "2024-02-22T20:11:08.553077800Z",
     "start_time": "2024-02-22T20:11:08.482073400Z"
    }
   },
   "id": "e36722a60fe30d32"
  },
  {
   "cell_type": "code",
   "execution_count": 22,
   "outputs": [
    {
     "data": {
      "text/plain": "0.0"
     },
     "execution_count": 22,
     "metadata": {},
     "output_type": "execute_result"
    }
   ],
   "source": [
    "calculate_my_likelihood(307, 20005, p_g, norm.pdf, 0.1, -1.2)"
   ],
   "metadata": {
    "collapsed": false,
    "ExecuteTime": {
     "end_time": "2024-02-22T20:11:08.620082600Z",
     "start_time": "2024-02-22T20:11:08.544089800Z"
    }
   },
   "id": "f6725e2e7aed88a4"
  },
  {
   "cell_type": "code",
   "execution_count": 23,
   "outputs": [
    {
     "data": {
      "text/plain": "0.0"
     },
     "execution_count": 23,
     "metadata": {},
     "output_type": "execute_result"
    }
   ],
   "source": [
    "calculate_my_likelihood(3098, 202644, p_g, norm.pdf, 0.1, -1.2)"
   ],
   "metadata": {
    "collapsed": false,
    "ExecuteTime": {
     "end_time": "2024-02-22T20:11:08.638085100Z",
     "start_time": "2024-02-22T20:11:08.578082300Z"
    }
   },
   "id": "74e2aebfed7752a8"
  },
  {
   "cell_type": "code",
   "execution_count": null,
   "outputs": [],
   "source": [],
   "metadata": {
    "collapsed": false
   },
   "id": "e92891e51f584cf8"
  }
 ],
 "metadata": {
  "kernelspec": {
   "display_name": "Python 3",
   "language": "python",
   "name": "python3"
  },
  "language_info": {
   "codemirror_mode": {
    "name": "ipython",
    "version": 2
   },
   "file_extension": ".py",
   "mimetype": "text/x-python",
   "name": "python",
   "nbconvert_exporter": "python",
   "pygments_lexer": "ipython2",
   "version": "2.7.6"
  }
 },
 "nbformat": 4,
 "nbformat_minor": 5
}
