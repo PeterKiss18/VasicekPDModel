{
 "cells": [
  {
   "cell_type": "code",
   "execution_count": 1,
   "outputs": [],
   "source": [
    "import numpy as np\n",
    "import pandas as pd\n",
    "import scipy.stats as stats\n",
    "from scipy.integrate import quad\n",
    "from scipy.stats import norm, binom\n",
    "from scipy.optimize import minimize"
   ],
   "metadata": {
    "collapsed": false,
    "ExecuteTime": {
     "end_time": "2024-03-01T15:26:08.674301900Z",
     "start_time": "2024-03-01T15:26:07.058949800Z"
    }
   },
   "id": "initial_id"
  },
  {
   "cell_type": "code",
   "execution_count": 2,
   "outputs": [],
   "source": [
    "df = pd.read_csv('SP_historical_PD_data.csv', sep=';')"
   ],
   "metadata": {
    "collapsed": false,
    "ExecuteTime": {
     "end_time": "2024-03-01T15:26:08.693304800Z",
     "start_time": "2024-03-01T15:26:08.674301900Z"
    }
   },
   "id": "9f5d94783ecbeed3"
  },
  {
   "cell_type": "code",
   "execution_count": 3,
   "outputs": [
    {
     "data": {
      "text/plain": "(40, 8)"
     },
     "execution_count": 3,
     "metadata": {},
     "output_type": "execute_result"
    }
   ],
   "source": [
    "df.shape"
   ],
   "metadata": {
    "collapsed": false,
    "ExecuteTime": {
     "end_time": "2024-03-01T15:26:08.731304500Z",
     "start_time": "2024-03-01T15:26:08.691304Z"
    }
   },
   "id": "9829d814589c9be2"
  },
  {
   "cell_type": "code",
   "execution_count": 4,
   "outputs": [
    {
     "data": {
      "text/plain": "   Year  Total defaults*  Investment-grade defaults  \\\n0  1981                2                          0   \n1  1982               18                          2   \n2  1983               12                          1   \n3  1984               14                          2   \n4  1985               19                          0   \n\n   Speculative-grade defaults  Default rate (%)  \\\n0                           2              0.15   \n1                          15              1.22   \n2                          10              0.77   \n3                          12              0.93   \n4                          18              1.13   \n\n   Investment-grade default rate (%)  Speculative-grade default rate (%)  \\\n0                               0.00                                0.63   \n1                               0.19                                4.46   \n2                               0.09                                2.98   \n3                               0.17                                3.31   \n4                               0.00                                4.37   \n\n   Total debt outstanding (bil. $)  \n0                             0.06  \n1                             0.90  \n2                             0.37  \n3                             0.36  \n4                             0.31  ",
      "text/html": "<div>\n<style scoped>\n    .dataframe tbody tr th:only-of-type {\n        vertical-align: middle;\n    }\n\n    .dataframe tbody tr th {\n        vertical-align: top;\n    }\n\n    .dataframe thead th {\n        text-align: right;\n    }\n</style>\n<table border=\"1\" class=\"dataframe\">\n  <thead>\n    <tr style=\"text-align: right;\">\n      <th></th>\n      <th>Year</th>\n      <th>Total defaults*</th>\n      <th>Investment-grade defaults</th>\n      <th>Speculative-grade defaults</th>\n      <th>Default rate (%)</th>\n      <th>Investment-grade default rate (%)</th>\n      <th>Speculative-grade default rate (%)</th>\n      <th>Total debt outstanding (bil. $)</th>\n    </tr>\n  </thead>\n  <tbody>\n    <tr>\n      <th>0</th>\n      <td>1981</td>\n      <td>2</td>\n      <td>0</td>\n      <td>2</td>\n      <td>0.15</td>\n      <td>0.00</td>\n      <td>0.63</td>\n      <td>0.06</td>\n    </tr>\n    <tr>\n      <th>1</th>\n      <td>1982</td>\n      <td>18</td>\n      <td>2</td>\n      <td>15</td>\n      <td>1.22</td>\n      <td>0.19</td>\n      <td>4.46</td>\n      <td>0.90</td>\n    </tr>\n    <tr>\n      <th>2</th>\n      <td>1983</td>\n      <td>12</td>\n      <td>1</td>\n      <td>10</td>\n      <td>0.77</td>\n      <td>0.09</td>\n      <td>2.98</td>\n      <td>0.37</td>\n    </tr>\n    <tr>\n      <th>3</th>\n      <td>1984</td>\n      <td>14</td>\n      <td>2</td>\n      <td>12</td>\n      <td>0.93</td>\n      <td>0.17</td>\n      <td>3.31</td>\n      <td>0.36</td>\n    </tr>\n    <tr>\n      <th>4</th>\n      <td>1985</td>\n      <td>19</td>\n      <td>0</td>\n      <td>18</td>\n      <td>1.13</td>\n      <td>0.00</td>\n      <td>4.37</td>\n      <td>0.31</td>\n    </tr>\n  </tbody>\n</table>\n</div>"
     },
     "execution_count": 4,
     "metadata": {},
     "output_type": "execute_result"
    }
   ],
   "source": [
    "df.head()"
   ],
   "metadata": {
    "collapsed": false,
    "ExecuteTime": {
     "end_time": "2024-03-01T15:26:08.750315100Z",
     "start_time": "2024-03-01T15:26:08.705305900Z"
    }
   },
   "id": "5f0ed57ea8918408"
  },
  {
   "cell_type": "code",
   "execution_count": 5,
   "outputs": [],
   "source": [
    "# Calculate the number of obligors\n",
    "df['num_of_inv_grades'] = (df['Investment-grade defaults'] / (df['Investment-grade default rate (%)']/100)).round()\n",
    "df['num_of_spec_grades'] = (df['Speculative-grade defaults'] / (df['Speculative-grade default rate (%)']/100)).round().astype(int)\n",
    "df['num_of_total_grades'] = (df['Total defaults*'] / (df['Default rate (%)']/100)).round().astype(int)\n",
    "\n",
    "# Fill-out the missing values in num_of_inv_grades column with the difference between num_of_total_grades and num_of_spec_grades\n",
    "df['num_of_inv_grades'] = np.where(df['num_of_inv_grades'].isna(), df['num_of_total_grades'] - df['num_of_spec_grades'], df['num_of_inv_grades']).astype(int)"
   ],
   "metadata": {
    "collapsed": false,
    "ExecuteTime": {
     "end_time": "2024-03-01T15:26:08.763309700Z",
     "start_time": "2024-03-01T15:26:08.740309100Z"
    }
   },
   "id": "1998dd0f378520d7"
  },
  {
   "cell_type": "code",
   "execution_count": 6,
   "outputs": [],
   "source": [
    "def p_g(X_g, w_g, gamma_g):\n",
    "    \"\"\"\n",
    "    Calculates the success probability of a Bernoulli trial.\n",
    "\n",
    "    Parameters:\n",
    "        X_g (float): Input value.\n",
    "        w_g (float): Parameter 'w_g'.\n",
    "        gamma_g (float): Parameter 'gamma_g'.\n",
    "\n",
    "    Returns:\n",
    "        float: Result of p_g(X_g).\n",
    "    \"\"\"\n",
    "    modified_result = norm.cdf((gamma_g - w_g * X_g) / np.sqrt(1 - w_g**2))\n",
    "\n",
    "    return modified_result"
   ],
   "metadata": {
    "collapsed": false,
    "ExecuteTime": {
     "end_time": "2024-03-01T15:26:08.795312400Z",
     "start_time": "2024-03-01T15:26:08.754310300Z"
    }
   },
   "id": "481d1b02726308dd"
  },
  {
   "cell_type": "code",
   "execution_count": 7,
   "outputs": [],
   "source": [
    "def calculate_my_likelihood(d_g, n_g, p_g, prob_dens_func, w_g, gamma_g):\n",
    "    \"\"\"\n",
    "    Numerically calculates the value of L(d_g) based on the given formula.\n",
    "\n",
    "    Parameters:\n",
    "        d_g (int): Value of d_g.\n",
    "        n_g (int): Value of n_g.\n",
    "        p_g (callable): The p_g function representing the probability density function.\n",
    "        prob_dens_func (callable): The pdf_g function representing the probability density function.\n",
    "        w_g (float): Parameter 'w_g'.\n",
    "        gamma_g (float): Parameter 'gamma_g'.\n",
    "\n",
    "    Returns:\n",
    "        float: Numerical approximation of the integral.\n",
    "    \"\"\"\n",
    "    \n",
    "    integrand = lambda x: binom.pmf(d_g, n_g, p_g(x, w_g, gamma_g)) * prob_dens_func(x)\n",
    "    \n",
    "    result, _ = quad(integrand, -5, 5)\n",
    "    \n",
    "    return result"
   ],
   "metadata": {
    "collapsed": false,
    "ExecuteTime": {
     "end_time": "2024-03-01T15:26:08.840313800Z",
     "start_time": "2024-03-01T15:26:08.765309300Z"
    }
   },
   "id": "a1b3cd037e79b7ac"
  },
  {
   "cell_type": "code",
   "execution_count": 8,
   "outputs": [
    {
     "name": "stdout",
     "output_type": "stream",
     "text": [
      "The value of L(d) for d = 5 and n = 100 is 0.1292128248331851\n"
     ]
    }
   ],
   "source": [
    "# An example for the calculation of the likelihood\n",
    "test_d_g = 5\n",
    "test_n_g = 100\n",
    "prob_dens_func = norm.pdf\n",
    "test_w_g = 0.2\n",
    "test_gamma_g = -1.6449\n",
    "\n",
    "L_result = calculate_my_likelihood(test_d_g, test_n_g, p_g, prob_dens_func, test_w_g, test_gamma_g)\n",
    "print(f\"The value of L(d) for d = {test_d_g} and n = {test_n_g} is {L_result}\")"
   ],
   "metadata": {
    "collapsed": false,
    "ExecuteTime": {
     "end_time": "2024-03-01T15:26:08.978326700Z",
     "start_time": "2024-03-01T15:26:08.783310400Z"
    }
   },
   "id": "835c249231a8cd15"
  },
  {
   "cell_type": "code",
   "execution_count": 9,
   "outputs": [],
   "source": [
    "def calculate_likelihood_ts(d_g, n_g, p_g, pdf_g, w_g, gamma_g):\n",
    "    \"\"\"\n",
    "    Numerically calculates the time series value of L(d_g) based on the given formula by multiply for each date.\n",
    "\n",
    "    Parameters:\n",
    "        d_g (pd.Series): Time series for d_g.\n",
    "        n_g (pd.Series): Time series for n_g.\n",
    "        p_g (callable): The p_g function representing the probability density function.\n",
    "        pdf_g (callable): The pdf_g function representing the probability density function.\n",
    "        w_g (float): Parameter 'w_g'.\n",
    "        gamma_g (float): Parameter 'gamma_g'.\n",
    "\n",
    "    Returns:\n",
    "        float: Numerical approximation of the integral.\n",
    "    \"\"\"\n",
    "    integrand = lambda x: np.prod(binom.pmf(d_g, n_g, p_g(x, w_g, gamma_g)) * pdf_g(x))\n",
    "    \n",
    "    result, _ = quad(integrand, -5, 5)\n",
    "    \n",
    "    return result"
   ],
   "metadata": {
    "collapsed": false,
    "ExecuteTime": {
     "end_time": "2024-03-01T15:26:08.979327200Z",
     "start_time": "2024-03-01T15:26:08.848317900Z"
    }
   },
   "id": "3116c5c9dd4401b0"
  },
  {
   "cell_type": "code",
   "execution_count": 10,
   "outputs": [
    {
     "name": "stdout",
     "output_type": "stream",
     "text": [
      "The value of L(d) for d = [5, 8, 12, 4, 9] and n = [100, 194, 199, 113, 97] is 7.845116837086311e-08\n"
     ]
    }
   ],
   "source": [
    "# Test the calculate_likelihood_ts function\n",
    "test_d_series = pd.Series([5, 8, 12, 4, 9])\n",
    "test_n_series = pd.Series([100, 194, 199, 113, 97])\n",
    "pd_list = test_d_series / test_n_series\n",
    "test_ttc_pd = pd_list.mean()\n",
    "test_gamma = stats.norm.ppf(test_ttc_pd)\n",
    "\n",
    "L_result = calculate_likelihood_ts(test_d_series, test_n_series, p_g, norm.pdf, test_w_g, test_gamma)\n",
    "print(f\"The value of L(d) for d = {test_d_series.tolist()} and n = {test_n_series.tolist()} is {L_result}\")"
   ],
   "metadata": {
    "collapsed": false,
    "ExecuteTime": {
     "end_time": "2024-03-01T15:26:09.029330Z",
     "start_time": "2024-03-01T15:26:08.863318100Z"
    }
   },
   "id": "aff214cb72e67e6d"
  },
  {
   "cell_type": "code",
   "execution_count": 11,
   "outputs": [
    {
     "name": "stdout",
     "output_type": "stream",
     "text": [
      "The value of L(d) for d = 38 and n = 703 is 0.023596907873853223\n"
     ]
    }
   ],
   "source": [
    "# Check calculate_likelihood_ts gives the same result as calculate_my_likelihood if we sum the d_g and n_g values\n",
    "d_g_sum = test_d_series.sum()\n",
    "n_g_sum = test_n_series.sum()\n",
    "\n",
    "L_result = calculate_my_likelihood(d_g_sum, n_g_sum, p_g, norm.pdf, test_w_g, test_gamma)\n",
    "print(f\"The value of L(d) for d = {d_g_sum} and n = {n_g_sum} is {L_result}\")"
   ],
   "metadata": {
    "collapsed": false,
    "ExecuteTime": {
     "end_time": "2024-03-01T15:26:09.143342200Z",
     "start_time": "2024-03-01T15:26:08.942325500Z"
    }
   },
   "id": "60ff346f584585a9"
  },
  {
   "cell_type": "markdown",
   "source": [
    "# To-do: Fix this bug that cause the difference between the results of the two functions"
   ],
   "metadata": {
    "collapsed": false
   },
   "id": "7a2df030b3f64120"
  },
  {
   "cell_type": "code",
   "execution_count": 12,
   "outputs": [
    {
     "name": "stdout",
     "output_type": "stream",
     "text": [
      "The value of L(d) for d = [5] and n = [100] is 0.12877403928856326\n",
      "The value of L(d) for d = 5 and n = 100 is 0.12877403928856326\n"
     ]
    }
   ],
   "source": [
    "# Test the calculate_likelihood_ts function gives the same result as calculate_my_likelihood for 1 observation\n",
    "test_d_series = pd.Series([5])\n",
    "test_n_series = pd.Series([100])\n",
    "\n",
    "L_result = calculate_likelihood_ts(test_d_series, test_n_series, p_g, norm.pdf, test_w_g, test_gamma)\n",
    "print(f\"The value of L(d) for d = {test_d_series.tolist()} and n = {test_n_series.tolist()} is {L_result}\")\n",
    "\n",
    "L_result = calculate_my_likelihood(test_d_series.sum(), test_n_series.sum(), p_g, norm.pdf, test_w_g, test_gamma)\n",
    "print(f\"The value of L(d) for d = {test_d_series.sum()} and n = {test_n_series.sum()} is {L_result}\")"
   ],
   "metadata": {
    "collapsed": false,
    "ExecuteTime": {
     "end_time": "2024-03-01T15:26:09.225348100Z",
     "start_time": "2024-03-01T15:26:09.053334600Z"
    }
   },
   "id": "c32e102cd0c012c8"
  },
  {
   "cell_type": "code",
   "execution_count": 13,
   "outputs": [
    {
     "name": "stdout",
     "output_type": "stream",
     "text": [
      "The value of L(d) is 0.1586882457044726 with weight 0.1\n",
      "The value of L(d) is 0.14414812274968142 with weight 0.15\n",
      "The value of L(d) is 0.12877403928856326 with weight 0.2\n",
      "The value of L(d) is 0.11406393875773152 with weight 0.25\n",
      "The value of L(d) is 0.10062794463946392 with weight 0.3\n",
      "The value of L(d) is 0.08859873046842222 with weight 0.35\n",
      "The value of L(d) is 0.07789498649012586 with weight 0.4\n",
      "The value of L(d) is 0.06835819594296397 with weight 0.45\n"
     ]
    }
   ],
   "source": [
    "weight_list = [0.1, 0.15, 0.2, 0.25, 0.3, 0.35, 0.4, 0.45]\n",
    "\n",
    "for weight in weight_list:\n",
    "    L_result = calculate_likelihood_ts(test_d_series, test_n_series, p_g, norm.pdf, weight, test_gamma)\n",
    "    print(f\"The value of L(d) is {L_result} with weight {weight}\")"
   ],
   "metadata": {
    "collapsed": false,
    "ExecuteTime": {
     "end_time": "2024-03-01T15:26:09.765394100Z",
     "start_time": "2024-03-01T15:26:09.226350300Z"
    }
   },
   "id": "fc55284b9ffb3c61"
  },
  {
   "cell_type": "code",
   "execution_count": 14,
   "outputs": [
    {
     "name": "stdout",
     "output_type": "stream",
     "text": [
      "The optimal weight parameter is 0.0\n",
      "The optimal gamma parameter is -1.606740624762165\n"
     ]
    }
   ],
   "source": [
    "# Test the calculate_likelihood_ts function\n",
    "test_d_series = pd.Series([5, 8, 12, 4, 9])\n",
    "test_n_series = pd.Series([100, 194, 199, 113, 97])\n",
    "\n",
    "# MLE condition and initial guess\n",
    "w_g_initial = 0.23\n",
    "gamma_g_initial = 1.23\n",
    "\n",
    "# Function to be minimized in weight parameter\n",
    "objective_function = lambda params: -calculate_likelihood_ts(test_d_series, test_n_series, p_g, norm.pdf, params[0], params[1])\n",
    "\n",
    "initial_guess = [w_g_initial, gamma_g_initial]\n",
    "# Bounds for the weight parameter\n",
    "bounds = [(0, 1), (-np.inf, np.inf)]\n",
    "result = minimize(objective_function, initial_guess, method='Nelder-Mead', bounds=bounds)\n",
    "# Method can be Nelder-Mead or Powell\n",
    "\n",
    "# The optimal weight parameter\n",
    "optimal_weight = result.x\n",
    "print(f\"The optimal weight parameter is {optimal_weight[0]}\")\n",
    "print(f\"The optimal gamma parameter is {optimal_weight[1]}\")"
   ],
   "metadata": {
    "collapsed": false,
    "ExecuteTime": {
     "end_time": "2024-03-01T15:26:13.353634500Z",
     "start_time": "2024-03-01T15:26:09.762395Z"
    }
   },
   "id": "d32eab5ef5ea0571"
  },
  {
   "cell_type": "code",
   "execution_count": 15,
   "outputs": [
    {
     "name": "stdout",
     "output_type": "stream",
     "text": [
      "The optimal weight parameter is 0.0\n",
      "The optimal gamma parameter is -1.544736976236119\n"
     ]
    }
   ],
   "source": [
    "# Test the calculate_likelihood_ts function\n",
    "test_d_series = pd.Series([5, 8, 12, 4, 9, 10, 15, 20])\n",
    "test_n_series = pd.Series([100, 194, 199, 113, 97, 140, 210, 303])\n",
    "\n",
    "result = minimize(objective_function, initial_guess, method='Nelder-Mead', bounds=bounds)\n",
    "# Method can be Nelder-Mead or Powell\n",
    "\n",
    "# The optimal weight parameter\n",
    "optimal_weight = result.x\n",
    "print(f\"The optimal weight parameter is {optimal_weight[0]}\")\n",
    "print(f\"The optimal gamma parameter is {optimal_weight[1]}\")"
   ],
   "metadata": {
    "collapsed": false,
    "ExecuteTime": {
     "end_time": "2024-03-01T15:26:15.294800200Z",
     "start_time": "2024-03-01T15:26:13.354636600Z"
    }
   },
   "id": "2893b44f5c535fd7"
  },
  {
   "cell_type": "markdown",
   "source": [
    "# MLE example for a slice of the historical time series"
   ],
   "metadata": {
    "collapsed": false
   },
   "id": "10609cc0c7f23d8a"
  },
  {
   "cell_type": "code",
   "execution_count": 16,
   "outputs": [
    {
     "name": "stdout",
     "output_type": "stream",
     "text": [
      "The optimal weight parameter is [0.04905469]\n"
     ]
    }
   ],
   "source": [
    "# MLE example\n",
    "short_d_g = df['Total defaults*'].iloc[10:15]\n",
    "short_n_g = df['num_of_total_grades'].iloc[10:15]\n",
    "gamma = stats.norm.ppf(df['Default rate (%)'].iloc[10:15].mean() / 100)\n",
    "\n",
    "# MLE condition and initial guess\n",
    "initial_guess = [0.23]\n",
    "bounds = [(0, 1)]\n",
    "\n",
    "# Function to be minimized in weight parameter\n",
    "objective_function = lambda params: -calculate_likelihood_ts(short_d_g, short_n_g, p_g, norm.pdf, params[0], gamma)\n",
    "\n",
    "result = minimize(objective_function, initial_guess, method='Nelder-Mead', bounds=bounds)\n",
    "# Method can be Nelder-Mead or Powell\n",
    "\n",
    "# The optimal weight parameter\n",
    "optimal_weight = result.x\n",
    "print(f\"The optimal weight parameter is {optimal_weight}\")"
   ],
   "metadata": {
    "collapsed": false,
    "ExecuteTime": {
     "end_time": "2024-03-01T15:26:16.077867600Z",
     "start_time": "2024-03-01T15:26:15.284802600Z"
    }
   },
   "id": "24f52f4c14fb1b2a"
  },
  {
   "cell_type": "code",
   "execution_count": 17,
   "outputs": [
    {
     "name": "stdout",
     "output_type": "stream",
     "text": [
      "The optimal weight parameter is [0.23 1.23]\n"
     ]
    }
   ],
   "source": [
    "# MLE example\n",
    "short_d_g = df['Total defaults*'].iloc[10:15]\n",
    "short_n_g = df['num_of_total_grades'].iloc[10:15]\n",
    "gamma = stats.norm.ppf(df['Default rate (%)'].iloc[10:15].mean() / 100)\n",
    "\n",
    "# MLE condition and initial guess\n",
    "w_g_initial = 0.23\n",
    "gamma_g_initial = 1.23\n",
    "\n",
    "# Function to be minimized in weight parameter\n",
    "objective_function = lambda params: -calculate_likelihood_ts(short_d_g, short_n_g, p_g, norm.pdf, params[0], params[1])\n",
    "\n",
    "initial_guess = [w_g_initial, gamma_g_initial]\n",
    "# Bounds for the weight parameter\n",
    "bounds = [(0, 1), (-np.inf, np.inf)]\n",
    "result = minimize(objective_function, initial_guess, method='Nelder-Mead', bounds=bounds)\n",
    "# Method can be Nelder-Mead or Powel\n",
    "\n",
    "\n",
    "# The optimal weight parameter\n",
    "optimal_weight = result.x\n",
    "print(f\"The optimal weight parameter is {optimal_weight}\")"
   ],
   "metadata": {
    "collapsed": false,
    "ExecuteTime": {
     "end_time": "2024-03-01T15:26:16.448900200Z",
     "start_time": "2024-03-01T15:26:16.069867900Z"
    }
   },
   "id": "4a7d7950bbaa93a1"
  },
  {
   "cell_type": "markdown",
   "source": [
    "# MLE for the whole historical time series"
   ],
   "metadata": {
    "collapsed": false
   },
   "id": "531ae1b415740f54"
  },
  {
   "cell_type": "code",
   "execution_count": 18,
   "outputs": [
    {
     "name": "stdout",
     "output_type": "stream",
     "text": [
      "The TTC PD is 0.014767500000000003\n"
     ]
    }
   ],
   "source": [
    "TTC_PD = df['Default rate (%)'].mean() / 100\n",
    "print(f\"The TTC PD is {TTC_PD}\")"
   ],
   "metadata": {
    "collapsed": false,
    "ExecuteTime": {
     "end_time": "2024-03-01T15:26:16.462902900Z",
     "start_time": "2024-03-01T15:26:16.445901200Z"
    }
   },
   "id": "961a3e4bd13e2252"
  },
  {
   "cell_type": "code",
   "execution_count": 19,
   "outputs": [
    {
     "name": "stdout",
     "output_type": "stream",
     "text": [
      "The optimal weight parameter is [0.23]\n"
     ]
    }
   ],
   "source": [
    "d_g = df['Total defaults*']\n",
    "n_g = df['num_of_total_grades']\n",
    "gamma_g = stats.norm.ppf(df['Default rate (%)'].mean() / 100)\n",
    "\n",
    "# MLE condition and initial guess\n",
    "initial_guess = 0.23\n",
    "bounds = [(0, 1)]\n",
    "\n",
    "# Function to be minimized in weight parameter\n",
    "objective_function = lambda params: -calculate_likelihood_ts(d_g, n_g, p_g, norm.pdf, params[0], gamma_g)\n",
    "\n",
    "result = minimize(objective_function, initial_guess, method='Nelder-Mead', bounds=bounds)\n",
    "# Method can be Nelder-Mead or Powell\n",
    "\n",
    "# The optimal weight parameter\n",
    "optimal_weight = result.x\n",
    "print(f\"The optimal weight parameter is {optimal_weight}\")"
   ],
   "metadata": {
    "collapsed": false,
    "ExecuteTime": {
     "end_time": "2024-03-01T15:26:16.679348400Z",
     "start_time": "2024-03-01T15:26:16.462902900Z"
    }
   },
   "id": "96064a44ecb4b1c"
  },
  {
   "cell_type": "markdown",
   "source": [
    "Value of objective function not changing with the weight parameter, so the MLE is not working properly"
   ],
   "metadata": {
    "collapsed": false
   },
   "id": "71b980137221fead"
  },
  {
   "cell_type": "markdown",
   "source": [
    "# We can aggregate the $d_{g}$ and $n_{g}$ values because the likelihood function is additive in these parameters"
   ],
   "metadata": {
    "collapsed": false
   },
   "id": "cc5723f8272abdb3"
  },
  {
   "cell_type": "code",
   "execution_count": 20,
   "outputs": [
    {
     "name": "stdout",
     "output_type": "stream",
     "text": [
      "The sum of d_g is 3098\n",
      "The sum of n_g is 202644\n"
     ]
    }
   ],
   "source": [
    "d_total_sum = df['Total defaults*'].sum()\n",
    "n_total_sum = df['num_of_total_grades'].sum()\n",
    "\n",
    "print(f\"The sum of d_g is {d_total_sum}\")\n",
    "print(f\"The sum of n_g is {n_total_sum}\")"
   ],
   "metadata": {
    "collapsed": false,
    "ExecuteTime": {
     "end_time": "2024-03-01T15:26:16.693346900Z",
     "start_time": "2024-03-01T15:26:16.669923500Z"
    }
   },
   "id": "969137e4ea8966a2"
  },
  {
   "cell_type": "code",
   "execution_count": 21,
   "outputs": [
    {
     "name": "stdout",
     "output_type": "stream",
     "text": [
      "The sum of d_g is 2481\n",
      "The sum of n_g is 66871\n",
      "The average PD is 0.04007\n",
      "The gamma parameter is -1.74987\n"
     ]
    }
   ],
   "source": [
    "d_spec_sum = df['Speculative-grade defaults'].sum()\n",
    "n_spec_sum = df['num_of_spec_grades'].sum()\n",
    "pd_spec_average = df['Speculative-grade default rate (%)'].mean() / 100\n",
    "gamma_spec = stats.norm.ppf(pd_spec_average)\n",
    "\n",
    "print(f\"The sum of d_g is {d_spec_sum}\")\n",
    "print(f\"The sum of n_g is {n_spec_sum}\")\n",
    "print(f\"The average PD is {round(pd_spec_average,5)}\")\n",
    "print(f\"The gamma parameter is {round(gamma_spec, 5)}\")"
   ],
   "metadata": {
    "collapsed": false,
    "ExecuteTime": {
     "end_time": "2024-03-01T15:26:16.697350600Z",
     "start_time": "2024-03-01T15:26:16.682347300Z"
    }
   },
   "id": "768f55f4d29bcf80"
  },
  {
   "cell_type": "code",
   "execution_count": 22,
   "outputs": [],
   "source": [
    "w_g_from_MM = 0.07602889962521624"
   ],
   "metadata": {
    "collapsed": false,
    "ExecuteTime": {
     "end_time": "2024-03-01T15:26:16.773353800Z",
     "start_time": "2024-03-01T15:26:16.699349100Z"
    }
   },
   "id": "ab29bc43a73a9760"
  },
  {
   "cell_type": "code",
   "execution_count": 23,
   "outputs": [
    {
     "name": "stdout",
     "output_type": "stream",
     "text": [
      "0.011763672840221083\n"
     ]
    }
   ],
   "source": [
    "print(binom.pmf(d_g_sum, n_g_sum, p_g(0, w_g_from_MM, gamma_spec)))"
   ],
   "metadata": {
    "collapsed": false,
    "ExecuteTime": {
     "end_time": "2024-03-01T15:26:16.795359100Z",
     "start_time": "2024-03-01T15:26:16.716352300Z"
    }
   },
   "id": "468cd4efbbac471d"
  },
  {
   "cell_type": "code",
   "execution_count": 24,
   "outputs": [
    {
     "data": {
      "text/plain": "8.842263536915088e-08"
     },
     "execution_count": 24,
     "metadata": {},
     "output_type": "execute_result"
    }
   ],
   "source": [
    "calculate_my_likelihood(d_g_sum, n_g_sum, p_g, norm.pdf, 0.07602889962521624, gamma_g)"
   ],
   "metadata": {
    "collapsed": false,
    "ExecuteTime": {
     "end_time": "2024-03-01T15:26:16.798358400Z",
     "start_time": "2024-03-01T15:26:16.730353400Z"
    }
   },
   "id": "7c8cbd9c39adb254"
  },
  {
   "cell_type": "code",
   "execution_count": 25,
   "outputs": [
    {
     "name": "stdout",
     "output_type": "stream",
     "text": [
      "The optimal weight parameter is 0.0\n",
      "The optimal gamma parameter is -1.785371795774377\n"
     ]
    }
   ],
   "source": [
    "# Function to be minimized in weight parameter\n",
    "objective_function = lambda params: -calculate_my_likelihood(d_spec_sum, n_spec_sum, p_g, norm.pdf, params[0], params[1])\n",
    "\n",
    "w_g_initial = 0.07602889962521624\n",
    "gamma_g_initial = gamma_g\n",
    "initial_guess = [w_g_initial, gamma_g_initial]\n",
    "# Bounds for the weight parameter\n",
    "bounds = [(0, 1), (-np.inf, np.inf)]\n",
    "result = minimize(objective_function, initial_guess, method='Nelder-Mead', bounds=bounds)\n",
    "# Method can be Nelder-Mead or Powell\n",
    "\n",
    "# The optimal weight parameter\n",
    "optimal_parameters = result.x\n",
    "print(f\"The optimal weight parameter is {optimal_parameters[0]}\")\n",
    "print(f\"The optimal gamma parameter is {optimal_parameters[1]}\")"
   ],
   "metadata": {
    "collapsed": false,
    "ExecuteTime": {
     "end_time": "2024-03-01T15:26:23.248911200Z",
     "start_time": "2024-03-01T15:26:16.782356500Z"
    }
   },
   "id": "abcb91e6eab631fc"
  },
  {
   "cell_type": "code",
   "execution_count": 26,
   "outputs": [
    {
     "name": "stdout",
     "output_type": "stream",
     "text": [
      "The optimal weight parameter is 0.0\n",
      "The optimal gamma parameter is -2.162537925116004\n"
     ]
    }
   ],
   "source": [
    "d_total_sum = df['Total defaults*'].sum()\n",
    "n_total_sum = df['num_of_total_grades'].sum()\n",
    "\n",
    "# Function to be minimized in weight parameter\n",
    "objective_function = lambda params: -calculate_my_likelihood(d_total_sum, n_total_sum, p_g, norm.pdf, params[0], params[1])\n",
    "\n",
    "w_g_initial = 0.17\n",
    "gamma_g_initial = -1.43\n",
    "initial_guess = [w_g_initial, gamma_g_initial]\n",
    "# Bounds for the weight parameter\n",
    "bounds = [(0, 1), (-np.inf, np.inf)]\n",
    "result = minimize(objective_function, initial_guess, method='Nelder-Mead', bounds=bounds)\n",
    "# Method can be Nelder-Mead or Powell\n",
    "\n",
    "# The optimal weight parameter\n",
    "optimal_parameters = result.x\n",
    "print(f\"The optimal weight parameter is {optimal_parameters[0]}\")\n",
    "print(f\"The optimal gamma parameter is {optimal_parameters[1]}\")"
   ],
   "metadata": {
    "collapsed": false,
    "ExecuteTime": {
     "end_time": "2024-03-01T15:26:27.382271400Z",
     "start_time": "2024-03-01T15:26:23.240912400Z"
    }
   },
   "id": "fde5214b52394499"
  },
  {
   "cell_type": "code",
   "execution_count": 26,
   "outputs": [],
   "source": [],
   "metadata": {
    "collapsed": false,
    "ExecuteTime": {
     "end_time": "2024-03-01T15:26:27.440011400Z",
     "start_time": "2024-03-01T15:26:27.383272100Z"
    }
   },
   "id": "fa66de8acb63b7ea"
  }
 ],
 "metadata": {
  "kernelspec": {
   "display_name": "Python 3",
   "language": "python",
   "name": "python3"
  },
  "language_info": {
   "codemirror_mode": {
    "name": "ipython",
    "version": 2
   },
   "file_extension": ".py",
   "mimetype": "text/x-python",
   "name": "python",
   "nbconvert_exporter": "python",
   "pygments_lexer": "ipython2",
   "version": "2.7.6"
  }
 },
 "nbformat": 4,
 "nbformat_minor": 5
}
