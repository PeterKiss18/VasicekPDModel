{
 "cells": [
  {
   "cell_type": "code",
   "execution_count": 1,
   "id": "initial_id",
   "metadata": {
    "collapsed": true,
    "ExecuteTime": {
     "end_time": "2024-02-19T15:58:46.712258800Z",
     "start_time": "2024-02-19T15:58:33.760761700Z"
    }
   },
   "outputs": [
    {
     "name": "stderr",
     "output_type": "stream",
     "text": [
      "C:\\Users\\kissp\\AppData\\Local\\Temp\\ipykernel_13948\\2671179911.py:2: DeprecationWarning: \n",
      "Pyarrow will become a required dependency of pandas in the next major release of pandas (pandas 3.0),\n",
      "(to allow more performant data types, such as the Arrow string type, and better interoperability with other libraries)\n",
      "but was not found to be installed on your system.\n",
      "If this would cause problems for you,\n",
      "please provide us feedback at https://github.com/pandas-dev/pandas/issues/54466\n",
      "        \n",
      "  import pandas as pd\n"
     ]
    }
   ],
   "source": [
    "import numpy as np\n",
    "import pandas as pd\n",
    "import scipy.stats as stats\n",
    "from scipy.integrate import quad\n",
    "from scipy.stats import norm, binom\n",
    "from scipy.optimize import minimize"
   ]
  },
  {
   "cell_type": "code",
   "execution_count": 2,
   "outputs": [],
   "source": [
    "df = pd.read_csv('SP_historical_PD_data.csv', sep=';')"
   ],
   "metadata": {
    "collapsed": false,
    "ExecuteTime": {
     "end_time": "2024-02-19T15:58:46.806267900Z",
     "start_time": "2024-02-19T15:58:46.711258900Z"
    }
   },
   "id": "9f5d94783ecbeed3"
  },
  {
   "cell_type": "code",
   "execution_count": 3,
   "outputs": [
    {
     "data": {
      "text/plain": "(40, 8)"
     },
     "execution_count": 3,
     "metadata": {},
     "output_type": "execute_result"
    }
   ],
   "source": [
    "df.shape"
   ],
   "metadata": {
    "collapsed": false,
    "ExecuteTime": {
     "end_time": "2024-02-19T15:58:46.831268300Z",
     "start_time": "2024-02-19T15:58:46.772262100Z"
    }
   },
   "id": "9829d814589c9be2"
  },
  {
   "cell_type": "code",
   "execution_count": 4,
   "outputs": [
    {
     "data": {
      "text/plain": "   Year  Total defaults*  Investment-grade defaults  \\\n0  1981                2                          0   \n1  1982               18                          2   \n2  1983               12                          1   \n3  1984               14                          2   \n4  1985               19                          0   \n\n   Speculative-grade defaults  Default rate (%)  \\\n0                           2              0.15   \n1                          15              1.22   \n2                          10              0.77   \n3                          12              0.93   \n4                          18              1.13   \n\n   Investment-grade default rate (%)  Speculative-grade default rate (%)  \\\n0                               0.00                                0.63   \n1                               0.19                                4.46   \n2                               0.09                                2.98   \n3                               0.17                                3.31   \n4                               0.00                                4.37   \n\n   Total debt outstanding (bil. $)  \n0                             0.06  \n1                             0.90  \n2                             0.37  \n3                             0.36  \n4                             0.31  ",
      "text/html": "<div>\n<style scoped>\n    .dataframe tbody tr th:only-of-type {\n        vertical-align: middle;\n    }\n\n    .dataframe tbody tr th {\n        vertical-align: top;\n    }\n\n    .dataframe thead th {\n        text-align: right;\n    }\n</style>\n<table border=\"1\" class=\"dataframe\">\n  <thead>\n    <tr style=\"text-align: right;\">\n      <th></th>\n      <th>Year</th>\n      <th>Total defaults*</th>\n      <th>Investment-grade defaults</th>\n      <th>Speculative-grade defaults</th>\n      <th>Default rate (%)</th>\n      <th>Investment-grade default rate (%)</th>\n      <th>Speculative-grade default rate (%)</th>\n      <th>Total debt outstanding (bil. $)</th>\n    </tr>\n  </thead>\n  <tbody>\n    <tr>\n      <th>0</th>\n      <td>1981</td>\n      <td>2</td>\n      <td>0</td>\n      <td>2</td>\n      <td>0.15</td>\n      <td>0.00</td>\n      <td>0.63</td>\n      <td>0.06</td>\n    </tr>\n    <tr>\n      <th>1</th>\n      <td>1982</td>\n      <td>18</td>\n      <td>2</td>\n      <td>15</td>\n      <td>1.22</td>\n      <td>0.19</td>\n      <td>4.46</td>\n      <td>0.90</td>\n    </tr>\n    <tr>\n      <th>2</th>\n      <td>1983</td>\n      <td>12</td>\n      <td>1</td>\n      <td>10</td>\n      <td>0.77</td>\n      <td>0.09</td>\n      <td>2.98</td>\n      <td>0.37</td>\n    </tr>\n    <tr>\n      <th>3</th>\n      <td>1984</td>\n      <td>14</td>\n      <td>2</td>\n      <td>12</td>\n      <td>0.93</td>\n      <td>0.17</td>\n      <td>3.31</td>\n      <td>0.36</td>\n    </tr>\n    <tr>\n      <th>4</th>\n      <td>1985</td>\n      <td>19</td>\n      <td>0</td>\n      <td>18</td>\n      <td>1.13</td>\n      <td>0.00</td>\n      <td>4.37</td>\n      <td>0.31</td>\n    </tr>\n  </tbody>\n</table>\n</div>"
     },
     "execution_count": 4,
     "metadata": {},
     "output_type": "execute_result"
    }
   ],
   "source": [
    "df.head()"
   ],
   "metadata": {
    "collapsed": false,
    "ExecuteTime": {
     "end_time": "2024-02-19T15:58:47.017287300Z",
     "start_time": "2024-02-19T15:58:46.800266700Z"
    }
   },
   "id": "5f0ed57ea8918408"
  },
  {
   "cell_type": "code",
   "execution_count": 5,
   "outputs": [],
   "source": [
    "# Calculate the number of obligors\n",
    "df['num_of_inv_grades'] = (df['Investment-grade defaults'] / (df['Investment-grade default rate (%)']/100)).round()\n",
    "df['num_of_spec_grades'] = (df['Speculative-grade defaults'] / (df['Speculative-grade default rate (%)']/100)).round().astype(int)\n",
    "df['num_of_total_grades'] = (df['Total defaults*'] / (df['Default rate (%)']/100)).round().astype(int)\n",
    "\n",
    "# Fill-out the missing values in num_of_inv_grades column with the difference between num_of_total_grades and num_of_spec_grades\n",
    "df['num_of_inv_grades'] = np.where(df['num_of_inv_grades'].isna(), df['num_of_total_grades'] - df['num_of_spec_grades'], df['num_of_inv_grades']).astype(int)"
   ],
   "metadata": {
    "collapsed": false,
    "ExecuteTime": {
     "end_time": "2024-02-19T15:58:47.019286600Z",
     "start_time": "2024-02-19T15:58:46.863270Z"
    }
   },
   "id": "1998dd0f378520d7"
  },
  {
   "cell_type": "code",
   "execution_count": 6,
   "outputs": [],
   "source": [
    "def p_g(X_g, w_g, gamma_g):\n",
    "    \"\"\"\n",
    "    Calculates the success probability of a Bernoulli trial.\n",
    "\n",
    "    Parameters:\n",
    "        X_g (float): Input value.\n",
    "        w_g (float): Parameter 'w_g'.\n",
    "        gamma_g (float): Parameter 'gamma_g'.\n",
    "\n",
    "    Returns:\n",
    "        float: Result of p_g(X_g).\n",
    "    \"\"\"\n",
    "    modified_result = norm.cdf((gamma_g - w_g * X_g) / np.sqrt(1 - w_g**2))\n",
    "\n",
    "    return modified_result"
   ],
   "metadata": {
    "collapsed": false,
    "ExecuteTime": {
     "end_time": "2024-02-17T20:12:03.163968400Z",
     "start_time": "2024-02-17T20:12:03.089938500Z"
    }
   },
   "id": "481d1b02726308dd"
  },
  {
   "cell_type": "code",
   "execution_count": 7,
   "outputs": [],
   "source": [
    "def calculate_my_likelihood(d_g, n_g, p_g, prob_dens_func, w_g, gamma_g):\n",
    "    \"\"\"\n",
    "    Numerically calculates the value of L(d_g) based on the given formula.\n",
    "\n",
    "    Parameters:\n",
    "        d_g (int): Value of d_g.\n",
    "        n_g (int): Value of n_g.\n",
    "        p_g (callable): The p_g function representing the probability density function.\n",
    "        prob_dens_func (callable): The pdf_g function representing the probability density function.\n",
    "        w_g (float): Parameter 'w_g'.\n",
    "        gamma_g (float): Parameter 'gamma_g'.\n",
    "\n",
    "    Returns:\n",
    "        float: Numerical approximation of the integral.\n",
    "    \"\"\"\n",
    "    integrand = lambda x: binom.pmf(d_g, n_g, p_g(x, w_g, gamma_g)) * (p_g(x, w_g, gamma_g) ** d_g) * ((1 - p_g(x, w_g, gamma_g)) ** (n_g - d_g)) * prob_dens_func(x)\n",
    "    \n",
    "    result, _ = quad(integrand, -np.inf, np.inf)\n",
    "    \n",
    "    return result"
   ],
   "metadata": {
    "collapsed": false,
    "ExecuteTime": {
     "end_time": "2024-02-17T20:12:03.193971700Z",
     "start_time": "2024-02-17T20:12:03.105939Z"
    }
   },
   "id": "a1b3cd037e79b7ac"
  },
  {
   "cell_type": "code",
   "execution_count": 15,
   "outputs": [
    {
     "name": "stdout",
     "output_type": "stream",
     "text": [
      "The value of L(d) for d = 5 and n = 100 is 2.5312559717345424e-10\n"
     ]
    }
   ],
   "source": [
    "# An example for the calculation of the likelihood\n",
    "test_d_g = 5\n",
    "test_n_g = 100\n",
    "prob_dens_func = norm.pdf\n",
    "test_w_g = 0.2\n",
    "test_gamma_g = -1.6449\n",
    "\n",
    "L_result = calculate_my_likelihood(test_d_g, test_n_g, p_g, prob_dens_func, test_w_g, test_gamma_g)\n",
    "print(f\"The value of L(d) for d = {test_d_g} and n = {test_n_g} is {L_result}\")"
   ],
   "metadata": {
    "collapsed": false,
    "ExecuteTime": {
     "end_time": "2024-02-17T20:12:56.715632700Z",
     "start_time": "2024-02-17T20:12:56.654629Z"
    }
   },
   "id": "835c249231a8cd15"
  },
  {
   "cell_type": "code",
   "execution_count": 9,
   "outputs": [],
   "source": [
    "def calculate_likelihood_ts(d_g, n_g, p_g, pdf_g, w_g, gamma_g):\n",
    "    \"\"\"\n",
    "    Numerically calculates the time series value of L(d_g) based on the given formula by multiply for each date.\n",
    "\n",
    "    Parameters:\n",
    "        d_g (pd.Series): Time series for d_g.\n",
    "        n_g (pd.Series): Time series for n_g.\n",
    "        p_g (callable): The p_g function representing the probability density function.\n",
    "        pdf_g (callable): The pdf_g function representing the probability density function.\n",
    "        w_g (float): Parameter 'w_g'.\n",
    "        gamma_g (float): Parameter 'gamma_g'.\n",
    "\n",
    "    Returns:\n",
    "        float: Numerical approximation of the integral.\n",
    "    \"\"\"\n",
    "    integrand = lambda x: np.prod(binom.pmf(d_g, n_g, p_g(x, w_g, gamma_g)) * (p_g(x, w_g, gamma_g) ** d_g) * ((1 - p_g(x, w_g, gamma_g)) ** (n_g - d_g)) * pdf_g(x))\n",
    "    \n",
    "    result, _ = quad(integrand, -np.inf, np.inf)\n",
    "    \n",
    "    return result"
   ],
   "metadata": {
    "collapsed": false,
    "ExecuteTime": {
     "end_time": "2024-02-17T20:12:03.339986800Z",
     "start_time": "2024-02-17T20:12:03.204974700Z"
    }
   },
   "id": "3116c5c9dd4401b0"
  },
  {
   "cell_type": "code",
   "execution_count": 10,
   "outputs": [
    {
     "name": "stdout",
     "output_type": "stream",
     "text": [
      "The value of L(d) for d = [5, 8, 12, 4, 9] and n = [100, 194, 199, 113, 97] is 3.9149108105755717e-72\n"
     ]
    }
   ],
   "source": [
    "# Test the calculate_likelihood_ts function\n",
    "test_d_series = pd.Series([5, 8, 12, 4, 9])\n",
    "test_n_series = pd.Series([100, 194, 199, 113, 97])\n",
    "pd_list = test_d_series / test_n_series\n",
    "test_ttc_pd = pd_list.mean()\n",
    "test_gamma = stats.norm.ppf(test_ttc_pd)\n",
    "\n",
    "test_weight = 0.2\n",
    "\n",
    "L_result = calculate_likelihood_ts(test_d_series, test_n_series, p_g, norm.pdf, test_w_g, test_gamma)\n",
    "print(f\"The value of L(d) for d = {test_d_series.tolist()} and n = {test_n_series.tolist()} is {L_result}\")"
   ],
   "metadata": {
    "collapsed": false,
    "ExecuteTime": {
     "end_time": "2024-02-17T20:12:03.340986900Z",
     "start_time": "2024-02-17T20:12:03.216978100Z"
    }
   },
   "id": "aff214cb72e67e6d"
  },
  {
   "cell_type": "code",
   "execution_count": 11,
   "outputs": [
    {
     "name": "stdout",
     "output_type": "stream",
     "text": [
      "The value of L(d) is 5.876929937113723e-72 with weight 0.1\n",
      "The value of L(d) is 4.822793434223152e-72 with weight 0.15\n",
      "The value of L(d) is 3.9149108105755717e-72 with weight 0.2\n",
      "The value of L(d) is 3.1795651147844954e-72 with weight 0.25\n",
      "The value of L(d) is 2.5879515799771117e-72 with weight 0.3\n",
      "The value of L(d) is 2.1069567576758481e-72 with weight 0.35\n",
      "The value of L(d) is 1.7104105901804183e-72 with weight 0.4\n",
      "The value of L(d) is 1.3794259309641432e-72 with weight 0.45\n"
     ]
    }
   ],
   "source": [
    "weight_list = [0.1, 0.15, 0.2, 0.25, 0.3, 0.35, 0.4, 0.45]\n",
    "\n",
    "for weight in weight_list:\n",
    "    L_result = calculate_likelihood_ts(test_d_series, test_n_series, p_g, norm.pdf, weight, test_gamma)\n",
    "    print(f\"The value of L(d) is {L_result} with weight {weight}\")"
   ],
   "metadata": {
    "collapsed": false,
    "ExecuteTime": {
     "end_time": "2024-02-17T20:12:04.210060700Z",
     "start_time": "2024-02-17T20:12:03.276980400Z"
    }
   },
   "id": "fc55284b9ffb3c61"
  },
  {
   "cell_type": "markdown",
   "source": [
    "# MLE example for a slice of the historical time series"
   ],
   "metadata": {
    "collapsed": false
   },
   "id": "10609cc0c7f23d8a"
  },
  {
   "cell_type": "code",
   "execution_count": 12,
   "outputs": [
    {
     "name": "stdout",
     "output_type": "stream",
     "text": [
      "The optimal weight parameter is [0.23]\n"
     ]
    }
   ],
   "source": [
    "# MLE example\n",
    "short_d_g = df['Total defaults*'].iloc[10:15]\n",
    "short_n_g = df['num_of_total_grades'].iloc[10:15]\n",
    "gamma = stats.norm.ppf(df['Default rate (%)'].iloc[10:15].mean() / 100)\n",
    "\n",
    "# MLE condition and initial guess\n",
    "initial_guess = [0.23]\n",
    "bounds = [(0, 1)]\n",
    "\n",
    "# Function to be minimized in weight parameter\n",
    "objective_function = lambda params: -calculate_likelihood_ts(short_d_g, short_n_g, p_g, norm.pdf, params[0], gamma)\n",
    "\n",
    "result = minimize(objective_function, initial_guess, method='Nelder-Mead', bounds=bounds)\n",
    "# Method can be Nelder-Mead or Powell\n",
    "\n",
    "# The optimal weight parameter\n",
    "optimal_weight = result.x\n",
    "print(f\"The optimal weight parameter is {optimal_weight}\")"
   ],
   "metadata": {
    "collapsed": false,
    "ExecuteTime": {
     "end_time": "2024-02-17T20:12:05.321160200Z",
     "start_time": "2024-02-17T20:12:04.202060100Z"
    }
   },
   "id": "24f52f4c14fb1b2a"
  },
  {
   "cell_type": "markdown",
   "source": [
    "### Value of objective function not changing with the weight parameter, so the MLE is not working properly\n",
    "### Almost all the time the likelihood function is 0, so the MLE is not working properly."
   ],
   "metadata": {
    "collapsed": false
   },
   "id": "9fcc4c65a743e13c"
  },
  {
   "cell_type": "markdown",
   "source": [
    "# MLE for the whole historical time series"
   ],
   "metadata": {
    "collapsed": false
   },
   "id": "531ae1b415740f54"
  },
  {
   "cell_type": "code",
   "execution_count": 13,
   "outputs": [
    {
     "name": "stdout",
     "output_type": "stream",
     "text": [
      "The TTC PD is 0.014767500000000003\n"
     ]
    }
   ],
   "source": [
    "TTC_PD = df['Default rate (%)'].mean() / 100\n",
    "print(f\"The TTC PD is {TTC_PD}\")"
   ],
   "metadata": {
    "collapsed": false,
    "ExecuteTime": {
     "end_time": "2024-02-17T20:12:05.348164600Z",
     "start_time": "2024-02-17T20:12:05.313164Z"
    }
   },
   "id": "961a3e4bd13e2252"
  },
  {
   "cell_type": "code",
   "execution_count": 14,
   "outputs": [
    {
     "name": "stdout",
     "output_type": "stream",
     "text": [
      "The optimal weight parameter is [0.23]\n"
     ]
    }
   ],
   "source": [
    "d_g = df['Total defaults*']\n",
    "n_g = df['num_of_total_grades']\n",
    "gamma_g = stats.norm.ppf(df['Default rate (%)'].mean() / 100)\n",
    "\n",
    "# MLE condition and initial guess\n",
    "initial_guess = [0.23]\n",
    "bounds = [(0, 1)]\n",
    "\n",
    "# Function to be minimized in weight parameter\n",
    "objective_function = lambda params: -calculate_likelihood_ts(d_g, n_g, p_g, norm.pdf, params[0], gamma_g)\n",
    "\n",
    "result = minimize(objective_function, initial_guess, method='Nelder-Mead', bounds=bounds)\n",
    "# Method can be Nelder-Mead or Powell\n",
    "\n",
    "# The optimal weight parameter\n",
    "optimal_weight = result.x\n",
    "print(f\"The optimal weight parameter is {optimal_weight}\")"
   ],
   "metadata": {
    "collapsed": false,
    "ExecuteTime": {
     "end_time": "2024-02-17T20:12:06.240116800Z",
     "start_time": "2024-02-17T20:12:05.332166500Z"
    }
   },
   "id": "96064a44ecb4b1c"
  },
  {
   "cell_type": "markdown",
   "source": [
    "Value of objective function not changing with the weight parameter, so the MLE is not working properly"
   ],
   "metadata": {
    "collapsed": false
   },
   "id": "71b980137221fead"
  },
  {
   "cell_type": "code",
   "execution_count": null,
   "outputs": [],
   "source": [],
   "metadata": {
    "collapsed": false
   },
   "id": "62836d800ca4c5de"
  }
 ],
 "metadata": {
  "kernelspec": {
   "display_name": "Python 3",
   "language": "python",
   "name": "python3"
  },
  "language_info": {
   "codemirror_mode": {
    "name": "ipython",
    "version": 2
   },
   "file_extension": ".py",
   "mimetype": "text/x-python",
   "name": "python",
   "nbconvert_exporter": "python",
   "pygments_lexer": "ipython2",
   "version": "2.7.6"
  }
 },
 "nbformat": 4,
 "nbformat_minor": 5
}
