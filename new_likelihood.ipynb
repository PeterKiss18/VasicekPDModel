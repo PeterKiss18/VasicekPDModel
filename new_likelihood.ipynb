{
 "cells": [
  {
   "cell_type": "code",
   "execution_count": 357,
   "outputs": [],
   "source": [
    "import pandas as pd\n",
    "import numpy as np\n",
    "from scipy.stats import binom, norm\n",
    "from scipy.integrate import quad\n",
    "from scipy.optimize import minimize\n",
    "from src.sucess_probability import p_g"
   ],
   "metadata": {
    "collapsed": false,
    "ExecuteTime": {
     "end_time": "2024-04-16T20:20:56.591825700Z",
     "start_time": "2024-04-16T20:20:56.260790300Z"
    }
   },
   "id": "d2c1307155ee536c"
  },
  {
   "cell_type": "code",
   "execution_count": 358,
   "id": "initial_id",
   "metadata": {
    "collapsed": true,
    "ExecuteTime": {
     "end_time": "2024-04-16T20:20:57.685086900Z",
     "start_time": "2024-04-16T20:20:56.695837800Z"
    }
   },
   "outputs": [],
   "source": [
    "def calculate_my_likelihood(d_g, n_g, p_g, prob_dens_func, w_g, gamma_g):\n",
    "    \"\"\"\n",
    "    Numerically calculates the value of L(d_g) based on the given formula.\n",
    "\n",
    "    Parameters:\n",
    "        d_g (int): Value of d_g.\n",
    "        n_g (int): Value of n_g.\n",
    "        p_g (callable): The p_g function representing the probability density function.\n",
    "        prob_dens_func (callable): The pdf_g function representing the probability density function.\n",
    "        w_g (float): Parameter 'w_g'.\n",
    "        gamma_g (float): Parameter 'gamma_g'.\n",
    "\n",
    "    Returns:\n",
    "        float: Numerical approximation of the integral.\n",
    "    \"\"\"\n",
    "    \n",
    "    integrand = lambda x: binom.pmf(d_g, n_g, p_g(x, w_g, gamma_g)) * prob_dens_func(x)\n",
    "    \n",
    "    result, _ = quad(integrand, -5, 5)\n",
    "    \n",
    "    return result"
   ]
  },
  {
   "cell_type": "code",
   "execution_count": 359,
   "outputs": [
    {
     "name": "stdout",
     "output_type": "stream",
     "text": [
      "The value of L(d) for d = 5 and n = 100 is 0.09923912975084864\n"
     ]
    }
   ],
   "source": [
    "# An example for the calculation of the likelihood\n",
    "test_d_g = 5\n",
    "test_n_g = 100\n",
    "prob_dens_func = norm.pdf\n",
    "test_w_g = 0.3\n",
    "test_gamma_g = -1.6449\n",
    "\n",
    "L_result = calculate_my_likelihood(test_d_g, test_n_g, p_g, prob_dens_func, test_w_g, test_gamma_g)\n",
    "print(f\"The value of L(d) for d = {test_d_g} and n = {test_n_g} is {L_result}\")"
   ],
   "metadata": {
    "collapsed": false,
    "ExecuteTime": {
     "end_time": "2024-04-16T20:20:58.546908300Z",
     "start_time": "2024-04-16T20:20:57.793097500Z"
    }
   },
   "id": "1619e6a50fd1c5b0"
  },
  {
   "cell_type": "code",
   "execution_count": 360,
   "outputs": [],
   "source": [
    "def calculate_my_likelihood_arr(d_g_arr, n_g_arr, p_g, prob_dens_func, w_g_arr, gamma_g_arr):\n",
    "    \"\"\"\n",
    "    Numerically calculates the value of L(d_g_arr) for multiple grades based on the given formula.\n",
    "\n",
    "    Parameters:\n",
    "        d_g_arr (numpy.array(int)): Values of d_g's by grades\n",
    "        n_g_arr (numpy.array(int)): Values of n_g's by grades\n",
    "        p_g (callable): The p_g function representing the probability density function.\n",
    "        prob_dens_func (callable): The pdf_g function representing the probability density function.\n",
    "        w_g_arr (numpy.array(float)): Parameter 'w_g's by grades\n",
    "        gamma_g_arr (numpy.array(float)): Parameter 'gamma_g's by grades.\n",
    "\n",
    "    Returns:\n",
    "        float: Numerical approximation of the integral.\n",
    "    \"\"\"\n",
    "\n",
    "    integrand = lambda x: np.prod(binom.pmf(d_g_arr, n_g_arr, p_g(x, w_g_arr, gamma_g_arr))) * prob_dens_func(x)\n",
    "\n",
    "    #result, error_int = quad(integrand, -3, 3, epsabs=1.49e-28)\n",
    "    result, error_int = quad(integrand, -3, 3)\n",
    "\n",
    "    return result"
   ],
   "metadata": {
    "collapsed": false,
    "ExecuteTime": {
     "end_time": "2024-04-16T20:21:02.077131900Z",
     "start_time": "2024-04-16T20:21:01.305069700Z"
    }
   },
   "id": "63ba303d252e6abe"
  },
  {
   "cell_type": "code",
   "execution_count": 361,
   "outputs": [
    {
     "name": "stdout",
     "output_type": "stream",
     "text": [
      "0.0003237475837191259\n"
     ]
    }
   ],
   "source": [
    "d_g_list = [5, 5, 5]\n",
    "n_g_list = [100, 200, 300]\n",
    "w_g_list = [0.3, 0.3, 0.3]\n",
    "gamma_g_list = [-1.6449, -1.6449, -1.6449]\n",
    "\n",
    "L_result_list = calculate_my_likelihood_arr(np.array(d_g_list), np.array(n_g_list), p_g, norm.pdf, np.array(w_g_list), np.array(gamma_g_list))\n",
    "print(L_result_list)"
   ],
   "metadata": {
    "collapsed": false,
    "ExecuteTime": {
     "end_time": "2024-04-16T20:21:04.925365400Z",
     "start_time": "2024-04-16T20:21:04.185303700Z"
    }
   },
   "id": "9acdca75849c7d1f"
  },
  {
   "cell_type": "code",
   "execution_count": 362,
   "outputs": [],
   "source": [
    "# Make d_g_array, n_g_array a 2 dimensional numpy array\n",
    "d_g_array = np.array([[5, 10, 15], [7, 11, 17], [3, 9, 12]])\n",
    "n_g_array = np.array([[100, 200, 300], [150, 250, 350], [120, 220, 320]])\n",
    "w_g_list = np.array([0.3, 0.3, 0.3])\n",
    "gamma_g_list = np.array([-1.6449, -1.6449, -1.6449])"
   ],
   "metadata": {
    "collapsed": false,
    "ExecuteTime": {
     "end_time": "2024-04-16T20:21:08.233464700Z",
     "start_time": "2024-04-16T20:21:07.466404700Z"
    }
   },
   "id": "b76e084c999f3605"
  },
  {
   "cell_type": "code",
   "execution_count": 363,
   "outputs": [],
   "source": [
    "# result = sum(np.log(calc_likelihood(d_g, n_g)) for d_g, n_g in zip(d_g_lista, n_g_lista))\n",
    "# sum(np.log(calc_likelihood(d_g, n_g)) for d_g, n_g in zip(d_g_lista, n_g_lista))"
   ],
   "metadata": {
    "collapsed": false,
    "ExecuteTime": {
     "end_time": "2024-04-16T20:21:11.495168200Z",
     "start_time": "2024-04-16T20:21:10.619099400Z"
    }
   },
   "id": "9609ccad24ce7a5d"
  },
  {
   "cell_type": "code",
   "execution_count": 364,
   "outputs": [
    {
     "name": "stdout",
     "output_type": "stream",
     "text": [
      "[ 5 10 15] [100 200 300]\n",
      "[ 7 11 17] [150 250 350]\n",
      "[ 3  9 12] [120 220 320]\n"
     ]
    }
   ],
   "source": [
    "for d, n in zip(d_g_array, n_g_array):\n",
    "    print(d, n)"
   ],
   "metadata": {
    "collapsed": false,
    "ExecuteTime": {
     "end_time": "2024-04-16T20:21:12.128680700Z",
     "start_time": "2024-04-16T20:21:11.070135400Z"
    }
   },
   "id": "172d80d5b0168bb9"
  },
  {
   "cell_type": "code",
   "execution_count": 365,
   "outputs": [
    {
     "data": {
      "text/plain": "-22.386025057721724"
     },
     "execution_count": 365,
     "metadata": {},
     "output_type": "execute_result"
    }
   ],
   "source": [
    "sum(np.log(calculate_my_likelihood_arr(d_g_list, n_g_list, p_g, norm.pdf, w_g_list, gamma_g_list)) for d_g_list, n_g_list in zip(d_g_array, n_g_array))"
   ],
   "metadata": {
    "collapsed": false,
    "ExecuteTime": {
     "end_time": "2024-04-16T20:21:12.941456300Z",
     "start_time": "2024-04-16T20:21:11.592179800Z"
    }
   },
   "id": "4056ace04f250462"
  },
  {
   "cell_type": "code",
   "execution_count": 366,
   "outputs": [
    {
     "data": {
      "text/plain": "[-7.376463928806655, -7.75409023347941, -7.25547089543566]"
     },
     "execution_count": 366,
     "metadata": {},
     "output_type": "execute_result"
    }
   ],
   "source": [
    "[np.log(calculate_my_likelihood_arr(d_g_list, n_g_list, p_g, norm.pdf, w_g_list, gamma_g_list)) for d_g_list, n_g_list in zip(d_g_array, n_g_array)]"
   ],
   "metadata": {
    "collapsed": false,
    "ExecuteTime": {
     "end_time": "2024-04-16T20:21:15.164239200Z",
     "start_time": "2024-04-16T20:21:14.614192500Z"
    }
   },
   "id": "bf84fcd17393123a"
  },
  {
   "cell_type": "code",
   "execution_count": 367,
   "outputs": [],
   "source": [
    "def log_likelihood(d_g_array, n_g_array, p_g, prob_dens_func, w_g_list, gamma_g_list):\n",
    "    \"\"\"\n",
    "    Numerically calculates the value of log(L(d_g_array)) for multiple grades based on the given formula.\n",
    "\n",
    "    Parameters:\n",
    "        d_g_array (numpy.array(numpy.array(int))): Values of d_g's by grades\n",
    "        n_g_array (numpy.array(numpy.array(int))): Values of n_g's by grades\n",
    "        p_g (callable): The p_g function representing the probability density function.\n",
    "        prob_dens_func (callable): The pdf_g function representing the probability density function.\n",
    "        w_g_list (numpy.array(float)): Parameter 'w_g's by grades\n",
    "        gamma_g_list (numpy.array(float)): Parameter 'gamma_g's by grades.\n",
    "\n",
    "    Returns:\n",
    "        float: Numerical approximation of the integral.\n",
    "    \"\"\"\n",
    "\n",
    "    return sum(np.log(calculate_my_likelihood_arr(d_g_list, n_g_list, p_g, prob_dens_func, w_g_list, gamma_g_list)) for d_g_list, n_g_list in zip(d_g_array, n_g_array))"
   ],
   "metadata": {
    "collapsed": false,
    "ExecuteTime": {
     "end_time": "2024-04-16T20:21:21.073098600Z",
     "start_time": "2024-04-16T20:21:20.568847400Z"
    }
   },
   "id": "419bb598423e1c9a"
  },
  {
   "cell_type": "code",
   "execution_count": 368,
   "outputs": [
    {
     "data": {
      "text/plain": "-22.386025057721724"
     },
     "execution_count": 368,
     "metadata": {},
     "output_type": "execute_result"
    }
   ],
   "source": [
    "log_likelihood(d_g_array, n_g_array, p_g, norm.pdf, w_g_list, gamma_g_list)"
   ],
   "metadata": {
    "collapsed": false,
    "ExecuteTime": {
     "end_time": "2024-04-16T20:21:22.165258500Z",
     "start_time": "2024-04-16T20:21:21.606207300Z"
    }
   },
   "id": "9085db9d12b965dd"
  },
  {
   "cell_type": "code",
   "execution_count": 371,
   "outputs": [],
   "source": [
    "import numpy as np\n",
    "from scipy.stats import norm\n",
    "\n",
    "\n",
    "def p_g(x_g, w_g, gamma_g):\n",
    "    \"\"\"\n",
    "    Calculates the success probability of a Bernoulli trial.\n",
    "\n",
    "    Parameters:\n",
    "        x_g (float): Input value.\n",
    "        w_g (float or array-like): Parameter 'w_g'.\n",
    "        gamma_g (float or array-like): Parameter 'gamma_g'.\n",
    "\n",
    "    Returns:\n",
    "        float or ndarray: Result of p_g(X_g).\n",
    "    \"\"\"\n",
    "    # Ensure w_g and gamma_g are arrays for element-wise operations\n",
    "    w_g = np.asarray(w_g)\n",
    "    gamma_g = np.asarray(gamma_g)\n",
    "\n",
    "    if isinstance(x_g, float):\n",
    "        x_g = np.asarray([x_g])\n",
    "    else:\n",
    "        x_g = np.asarray(x_g)\n",
    "\n",
    "    x_dim = len(x_g)\n",
    "    w_dim = len(w_g)\n",
    "\n",
    "    # Make w_g a x_dim x w_dim matrix where each row is the same\n",
    "    w_g = np.tile(w_g, (x_dim, 1))\n",
    "    # Make gamma_g a x_dim x w_dim matrix where each row is the same\n",
    "    gamma_g = np.tile(gamma_g, (x_dim, 1))\n",
    "    # Make x_g a x_dim x w_dim matrix where each column is the same\n",
    "    x_g = np.tile(x_g, (w_dim, 1)).T\n",
    "\n",
    "    result = norm.cdf((gamma_g - w_g * x_g) / np.sqrt(1 - w_g**2))\n",
    "\n",
    "    return result"
   ],
   "metadata": {
    "collapsed": false,
    "ExecuteTime": {
     "end_time": "2024-04-16T20:21:46.709904400Z",
     "start_time": "2024-04-16T20:21:45.445802Z"
    }
   },
   "id": "e08fe6220c87f34"
  },
  {
   "cell_type": "code",
   "execution_count": 372,
   "outputs": [],
   "source": [
    "from scipy import stats\n",
    "\n",
    "def monte_carlo_likelihood(w, gamma, d_list, n_list, num_samples=100000):\n",
    "    \"\"\"\n",
    "    Calculates the likelihood of the given parameters w and gamma.\n",
    "\n",
    "    Parameters:\n",
    "        w (float): The weight parameter.\n",
    "        gamma (float): The gamma parameter.\n",
    "        d_list (list): List of d values.\n",
    "        n_list (list): List of n values.\n",
    "        num_samples (int): The number of samples to use in the Monte Carlo simulation.\n",
    "\n",
    "    Returns:\n",
    "        float: The likelihood of the parameters w and gamma.\n",
    "    \"\"\"\n",
    "    # Generate random samples from the standard normal distribution\n",
    "    random_samples = np.random.normal(size=num_samples)\n",
    "\n",
    "    # likelihood function\n",
    "    likelihood_func = lambda x: stats.binom.pmf(d_list, n_list, p_g(x, w_g=w, gamma_g=gamma))\n",
    "\n",
    "    # Calculate the likelihood using the Monte Carlo simulation\n",
    "    likelihood_values = likelihood_func(random_samples)\n",
    "    row_products = np.prod(likelihood_values, axis=1)\n",
    "    estimated_likelihood = np.mean(row_products)\n",
    "\n",
    "    return estimated_likelihood"
   ],
   "metadata": {
    "collapsed": false,
    "ExecuteTime": {
     "end_time": "2024-04-16T20:21:47.325953Z",
     "start_time": "2024-04-16T20:21:45.758828800Z"
    }
   },
   "id": "2d698e61a179f329"
  },
  {
   "cell_type": "code",
   "execution_count": 373,
   "outputs": [
    {
     "data": {
      "text/plain": "0.0003623457869670749"
     },
     "execution_count": 373,
     "metadata": {},
     "output_type": "execute_result"
    }
   ],
   "source": [
    "monte_carlo_likelihood(w_g_list, gamma_g_list, d_g_list, n_g_list, num_samples=100)"
   ],
   "metadata": {
    "collapsed": false,
    "ExecuteTime": {
     "end_time": "2024-04-16T20:21:48.850077700Z",
     "start_time": "2024-04-16T20:21:48.125021600Z"
    }
   },
   "id": "711097fd080e46af"
  },
  {
   "cell_type": "code",
   "execution_count": 374,
   "outputs": [],
   "source": [
    "# num_samples = 10\n",
    "# \n",
    "# random_samples = np.random.normal(size=num_samples)\n",
    "# \n",
    "# likelihood_func = lambda x: stats.binom.pmf(d_g_list, n_g_list, p_g(x, w_g=w_g_list, gamma_g=gamma_g_list))\n",
    "# \n",
    "# likelihood_values = likelihood_func(random_samples)\n",
    "# row_products = np.prod(likelihood_values, axis=1)\n",
    "# estimated_likelihood = np.mean(row_products)\n",
    "# \n",
    "# estimated_likelihood"
   ],
   "metadata": {
    "collapsed": false,
    "ExecuteTime": {
     "end_time": "2024-04-16T20:21:55.788203400Z",
     "start_time": "2024-04-16T20:21:55.440539100Z"
    }
   },
   "id": "cf71743cd829ad18"
  },
  {
   "cell_type": "code",
   "execution_count": 377,
   "outputs": [
    {
     "data": {
      "text/plain": "0.0003237475837191259"
     },
     "execution_count": 377,
     "metadata": {},
     "output_type": "execute_result"
    }
   ],
   "source": [
    "integral_value = calculate_my_likelihood_arr(np.array(d_g_list), np.array(n_g_list), p_g, norm.pdf, np.array(w_g_list), np.array(gamma_g_list))\n",
    "integral_value"
   ],
   "metadata": {
    "collapsed": false,
    "ExecuteTime": {
     "end_time": "2024-04-16T20:22:06.379752Z",
     "start_time": "2024-04-16T20:22:05.636692300Z"
    }
   },
   "id": "2b0433e345cf02cd"
  },
  {
   "cell_type": "code",
   "execution_count": 378,
   "outputs": [
    {
     "data": {
      "text/plain": "0.0003244552948358669"
     },
     "execution_count": 378,
     "metadata": {},
     "output_type": "execute_result"
    }
   ],
   "source": [
    "monte_carlo_likelihood(w_g_list, gamma_g_list, d_g_list, n_g_list, num_samples=500000)"
   ],
   "metadata": {
    "collapsed": false,
    "ExecuteTime": {
     "end_time": "2024-04-16T20:22:17.575299200Z",
     "start_time": "2024-04-16T20:22:16.352201400Z"
    }
   },
   "id": "aa025ea9d9483ab2"
  },
  {
   "cell_type": "code",
   "execution_count": 379,
   "outputs": [
    {
     "data": {
      "text/plain": "(0.0003136981587417749, 0.0003329282213646104, 0.02835739355957435)"
     },
     "execution_count": 379,
     "metadata": {},
     "output_type": "execute_result"
    }
   ],
   "source": [
    "mc_likelihood_values_10000 = [monte_carlo_likelihood(w_g_list, gamma_g_list, d_g_list, n_g_list, num_samples=10000) for _ in range(100)]\n",
    "min(mc_likelihood_values_10000), max(mc_likelihood_values_10000), max(np.array(mc_likelihood_values_10000) - integral_value) / integral_value"
   ],
   "metadata": {
    "collapsed": false,
    "ExecuteTime": {
     "end_time": "2024-04-16T20:22:18.278357500Z",
     "start_time": "2024-04-16T20:22:16.892246300Z"
    }
   },
   "id": "ef5ffb0d2c766d5b"
  },
  {
   "cell_type": "code",
   "execution_count": 380,
   "outputs": [
    {
     "data": {
      "text/plain": "(0.00031973666221636615, 0.0003280486328180085, 0.013285192894641166)"
     },
     "execution_count": 380,
     "metadata": {},
     "output_type": "execute_result"
    }
   ],
   "source": [
    "mc_likelihood_values_100000 = [monte_carlo_likelihood(w_g_list, gamma_g_list, d_g_list, n_g_list, num_samples=100000) for _ in range(100)]\n",
    "min(mc_likelihood_values_100000), max(mc_likelihood_values_100000), max(np.array(mc_likelihood_values_100000) - integral_value) / integral_value"
   ],
   "metadata": {
    "collapsed": false,
    "ExecuteTime": {
     "end_time": "2024-04-16T20:22:33.194688400Z",
     "start_time": "2024-04-16T20:22:18.689515500Z"
    }
   },
   "id": "74b930d68b4139e5"
  },
  {
   "cell_type": "code",
   "execution_count": 386,
   "outputs": [
    {
     "data": {
      "text/plain": "0.0002197627956311212"
     },
     "execution_count": 386,
     "metadata": {},
     "output_type": "execute_result"
    }
   ],
   "source": [
    "np.mean((np.array(mc_likelihood_values_100000) - integral_value) / integral_value)"
   ],
   "metadata": {
    "collapsed": false,
    "ExecuteTime": {
     "end_time": "2024-04-16T20:25:23.621739100Z",
     "start_time": "2024-04-16T20:25:23.069969100Z"
    }
   },
   "id": "d474ba8bd266d047"
  },
  {
   "cell_type": "code",
   "execution_count": 381,
   "outputs": [
    {
     "data": {
      "text/plain": "(0.00032237636251964926, 0.00032482461711244955, 0.0033267689011017773)"
     },
     "execution_count": 381,
     "metadata": {},
     "output_type": "execute_result"
    }
   ],
   "source": [
    "mc_likelihood_values_1000000 = [monte_carlo_likelihood(w_g_list, gamma_g_list, d_g_list, n_g_list, num_samples=1000000) for _ in range(100)]\n",
    "min(mc_likelihood_values_1000000), max(mc_likelihood_values_1000000), max(np.array(mc_likelihood_values_1000000) - integral_value) / integral_value"
   ],
   "metadata": {
    "collapsed": false,
    "ExecuteTime": {
     "end_time": "2024-04-16T20:24:11.945933500Z",
     "start_time": "2024-04-16T20:22:32.960670100Z"
    }
   },
   "id": "2fece30675c3389d"
  },
  {
   "cell_type": "code",
   "execution_count": 382,
   "outputs": [
    {
     "name": "stdout",
     "output_type": "stream",
     "text": [
      "41.1 ms ± 2.94 ms per loop (mean ± std. dev. of 7 runs, 10 loops each)\n"
     ]
    }
   ],
   "source": [
    "%%timeit\n",
    "calculate_my_likelihood_arr(np.array(d_g_list), np.array(n_g_list), p_g, norm.pdf, np.array(w_g_list), np.array(gamma_g_list))"
   ],
   "metadata": {
    "collapsed": false,
    "ExecuteTime": {
     "end_time": "2024-04-16T20:24:15.531222600Z",
     "start_time": "2024-04-16T20:24:11.948933400Z"
    }
   },
   "id": "d6f6dd153e896be9"
  },
  {
   "cell_type": "code",
   "execution_count": 383,
   "outputs": [
    {
     "name": "stdout",
     "output_type": "stream",
     "text": [
      "456 ms ± 27.8 ms per loop (mean ± std. dev. of 7 runs, 1 loop each)\n"
     ]
    }
   ],
   "source": [
    "%%timeit\n",
    "monte_carlo_likelihood(w_g_list, gamma_g_list, d_g_list, n_g_list, num_samples=500000)"
   ],
   "metadata": {
    "collapsed": false,
    "ExecuteTime": {
     "end_time": "2024-04-16T20:24:19.179516600Z",
     "start_time": "2024-04-16T20:24:15.327208900Z"
    }
   },
   "id": "34b252397b607bf5"
  },
  {
   "cell_type": "code",
   "execution_count": 384,
   "outputs": [
    {
     "name": "stdout",
     "output_type": "stream",
     "text": [
      "85.5 ms ± 2.24 ms per loop (mean ± std. dev. of 7 runs, 10 loops each)\n"
     ]
    }
   ],
   "source": [
    "%%timeit\n",
    "monte_carlo_likelihood(w_g_list, gamma_g_list, d_g_list, n_g_list, num_samples=100000)"
   ],
   "metadata": {
    "collapsed": false,
    "ExecuteTime": {
     "end_time": "2024-04-16T20:24:26.192823900Z",
     "start_time": "2024-04-16T20:24:19.046507500Z"
    }
   },
   "id": "d19375d864417410"
  },
  {
   "cell_type": "code",
   "execution_count": null,
   "outputs": [],
   "source": [],
   "metadata": {
    "collapsed": false
   },
   "id": "cfb4fc6199746b4f"
  },
  {
   "cell_type": "code",
   "execution_count": 230,
   "outputs": [
    {
     "data": {
      "text/plain": "-28.438610683551424"
     },
     "execution_count": 230,
     "metadata": {},
     "output_type": "execute_result"
    }
   ],
   "source": [
    "# Calculate the log likelihood for d_g_array, n_g_array row and return the sum\n",
    "d_g_sum = np.sum(d_g_array, axis=0)\n",
    "n_g_sum = np.sum(n_g_array, axis=0)\n",
    "log_likelihood(d_g_sum, n_g_sum, p_g, norm.pdf, w_g_list, gamma_g_list)"
   ],
   "metadata": {
    "collapsed": false,
    "ExecuteTime": {
     "end_time": "2024-04-16T14:38:31.734826400Z",
     "start_time": "2024-04-16T14:38:31.204495Z"
    }
   },
   "id": "6635698031b0ea59"
  },
  {
   "cell_type": "code",
   "execution_count": 259,
   "outputs": [],
   "source": [
    "def parameter_estimation(default_table, num_of_obligors_table, factor_loading_init, gamma_list_init, fixed_w=False):\n",
    "    if not fixed_w:\n",
    "        initial_guess = gamma_list_init + factor_loading_init\n",
    "    \n",
    "        num_of_gamma = len(gamma_list_init)\n",
    "        num_of_factor_loading = len(factor_loading_init)\n",
    "        bounds = num_of_gamma * [(-5, 5)] + num_of_factor_loading * [(-1, 1)]\n",
    "        # Optimization\n",
    "        objective_function = lambda params: -log_likelihood(\n",
    "            default_table, num_of_obligors_table, p_g, norm.pdf,\n",
    "            params[num_of_gamma:num_of_gamma+num_of_factor_loading], params[0:num_of_gamma]\n",
    "        )\n",
    "    \n",
    "        result = minimize(objective_function,\n",
    "                          initial_guess,\n",
    "                          method=\"Nelder-Mead\",\n",
    "                          bounds=bounds,\n",
    "                          options={\n",
    "                              'disp': False})\n",
    "        \n",
    "    else:\n",
    "        initial_guess = gamma_list_init\n",
    "    \n",
    "        num_of_gamma = len(gamma_list_init)\n",
    "        bounds = num_of_gamma * [(-5, 5)]\n",
    "        # Optimization\n",
    "        objective_function = lambda params: -log_likelihood(\n",
    "            default_table, num_of_obligors_table, p_g, norm.pdf,\n",
    "            factor_loading_init, params\n",
    "        )\n",
    "    \n",
    "        result = minimize(objective_function,\n",
    "                          initial_guess,\n",
    "                          method=\"Nelder-Mead\",\n",
    "                          bounds=bounds,\n",
    "                          options={\n",
    "                              'disp': False})\n",
    "\n",
    "    return result"
   ],
   "metadata": {
    "collapsed": false,
    "ExecuteTime": {
     "end_time": "2024-04-16T16:16:02.991601Z",
     "start_time": "2024-04-16T16:16:02.618580800Z"
    }
   },
   "id": "d0f66b5ad2bbb54"
  },
  {
   "cell_type": "code",
   "execution_count": 97,
   "outputs": [],
   "source": [
    "# Load the data\n",
    "grades_data = pd.read_csv('data/grades_hist_pd.csv', sep=';', index_col=0)\n",
    "\n",
    "for col_name in grades_data.columns:\n",
    "    grades_data[col_name] = grades_data[col_name] / 100\n",
    "    \n",
    "grades_cols = grades_data.columns\n",
    "\n",
    "n_g_assumption = 3000\n",
    "\n",
    "for col_name in grades_cols:\n",
    "    grades_data[str(col_name) + \" defaults\"] = np.round((n_g_assumption * grades_data[col_name]), 0)"
   ],
   "metadata": {
    "collapsed": false,
    "ExecuteTime": {
     "end_time": "2024-04-16T12:11:36.069003600Z",
     "start_time": "2024-04-16T12:11:35.795985Z"
    }
   },
   "id": "a55f0423a6d2965e"
  },
  {
   "cell_type": "code",
   "execution_count": 105,
   "outputs": [
    {
     "data": {
      "text/plain": "      AAA      AA       A     BBB      BB       B   CCC/C  AAA defaults  \\\nYear                                                                      \n1996  0.0  0.0000  0.0000  0.0000  0.0045  0.0291  0.0800           0.0   \n1997  0.0  0.0000  0.0000  0.0025  0.0019  0.0352  0.1200           0.0   \n1998  0.0  0.0000  0.0000  0.0041  0.0082  0.0464  0.4286           0.0   \n1999  0.0  0.0017  0.0018  0.0020  0.0095  0.0731  0.3382           0.0   \n2000  0.0  0.0000  0.0027  0.0037  0.0116  0.0771  0.3596           0.0   \n\n      AA defaults  A defaults  BBB defaults  BB defaults  B defaults  \\\nYear                                                                   \n1996          0.0         0.0           0.0         14.0        87.0   \n1997          0.0         0.0           8.0          6.0       106.0   \n1998          0.0         0.0          12.0         25.0       139.0   \n1999          5.0         5.0           6.0         28.0       219.0   \n2000          0.0         8.0          11.0         35.0       231.0   \n\n      CCC/C defaults  \nYear                  \n1996           240.0  \n1997           360.0  \n1998          1286.0  \n1999          1015.0  \n2000          1079.0  ",
      "text/html": "<div>\n<style scoped>\n    .dataframe tbody tr th:only-of-type {\n        vertical-align: middle;\n    }\n\n    .dataframe tbody tr th {\n        vertical-align: top;\n    }\n\n    .dataframe thead th {\n        text-align: right;\n    }\n</style>\n<table border=\"1\" class=\"dataframe\">\n  <thead>\n    <tr style=\"text-align: right;\">\n      <th></th>\n      <th>AAA</th>\n      <th>AA</th>\n      <th>A</th>\n      <th>BBB</th>\n      <th>BB</th>\n      <th>B</th>\n      <th>CCC/C</th>\n      <th>AAA defaults</th>\n      <th>AA defaults</th>\n      <th>A defaults</th>\n      <th>BBB defaults</th>\n      <th>BB defaults</th>\n      <th>B defaults</th>\n      <th>CCC/C defaults</th>\n    </tr>\n    <tr>\n      <th>Year</th>\n      <th></th>\n      <th></th>\n      <th></th>\n      <th></th>\n      <th></th>\n      <th></th>\n      <th></th>\n      <th></th>\n      <th></th>\n      <th></th>\n      <th></th>\n      <th></th>\n      <th></th>\n      <th></th>\n    </tr>\n  </thead>\n  <tbody>\n    <tr>\n      <th>1996</th>\n      <td>0.0</td>\n      <td>0.0000</td>\n      <td>0.0000</td>\n      <td>0.0000</td>\n      <td>0.0045</td>\n      <td>0.0291</td>\n      <td>0.0800</td>\n      <td>0.0</td>\n      <td>0.0</td>\n      <td>0.0</td>\n      <td>0.0</td>\n      <td>14.0</td>\n      <td>87.0</td>\n      <td>240.0</td>\n    </tr>\n    <tr>\n      <th>1997</th>\n      <td>0.0</td>\n      <td>0.0000</td>\n      <td>0.0000</td>\n      <td>0.0025</td>\n      <td>0.0019</td>\n      <td>0.0352</td>\n      <td>0.1200</td>\n      <td>0.0</td>\n      <td>0.0</td>\n      <td>0.0</td>\n      <td>8.0</td>\n      <td>6.0</td>\n      <td>106.0</td>\n      <td>360.0</td>\n    </tr>\n    <tr>\n      <th>1998</th>\n      <td>0.0</td>\n      <td>0.0000</td>\n      <td>0.0000</td>\n      <td>0.0041</td>\n      <td>0.0082</td>\n      <td>0.0464</td>\n      <td>0.4286</td>\n      <td>0.0</td>\n      <td>0.0</td>\n      <td>0.0</td>\n      <td>12.0</td>\n      <td>25.0</td>\n      <td>139.0</td>\n      <td>1286.0</td>\n    </tr>\n    <tr>\n      <th>1999</th>\n      <td>0.0</td>\n      <td>0.0017</td>\n      <td>0.0018</td>\n      <td>0.0020</td>\n      <td>0.0095</td>\n      <td>0.0731</td>\n      <td>0.3382</td>\n      <td>0.0</td>\n      <td>5.0</td>\n      <td>5.0</td>\n      <td>6.0</td>\n      <td>28.0</td>\n      <td>219.0</td>\n      <td>1015.0</td>\n    </tr>\n    <tr>\n      <th>2000</th>\n      <td>0.0</td>\n      <td>0.0000</td>\n      <td>0.0027</td>\n      <td>0.0037</td>\n      <td>0.0116</td>\n      <td>0.0771</td>\n      <td>0.3596</td>\n      <td>0.0</td>\n      <td>0.0</td>\n      <td>8.0</td>\n      <td>11.0</td>\n      <td>35.0</td>\n      <td>231.0</td>\n      <td>1079.0</td>\n    </tr>\n  </tbody>\n</table>\n</div>"
     },
     "execution_count": 105,
     "metadata": {},
     "output_type": "execute_result"
    }
   ],
   "source": [
    "grades_data.iloc[15:20]"
   ],
   "metadata": {
    "collapsed": false,
    "ExecuteTime": {
     "end_time": "2024-04-16T12:13:45.323950400Z",
     "start_time": "2024-04-16T12:13:45.100865600Z"
    }
   },
   "id": "693b1b9f6dded1f0"
  },
  {
   "cell_type": "code",
   "execution_count": 112,
   "outputs": [],
   "source": [
    "# grade_list = [\"A\", \"BBB\", \"BB\", \"B\", \"CCC/C\"]\n",
    "grade_list = [\"BBB\", \"BB\", \"B\", \"CCC/C\"]\n",
    "default_table = grades_data[[str(grade) + \" defaults\" for grade in grade_list]][15:20].values\n",
    "num_of_obligors_table = n_g_assumption * np.ones(default_table.shape)"
   ],
   "metadata": {
    "collapsed": false,
    "ExecuteTime": {
     "end_time": "2024-04-16T12:15:22.858949400Z",
     "start_time": "2024-04-16T12:15:22.643934700Z"
    }
   },
   "id": "99d08ee610691db1"
  },
  {
   "cell_type": "code",
   "execution_count": 113,
   "outputs": [
    {
     "data": {
      "text/plain": "array([[   0.,   14.,   87.,  240.],\n       [   8.,    6.,  106.,  360.],\n       [  12.,   25.,  139., 1286.],\n       [   6.,   28.,  219., 1015.],\n       [  11.,   35.,  231., 1079.]])"
     },
     "execution_count": 113,
     "metadata": {},
     "output_type": "execute_result"
    }
   ],
   "source": [
    "default_table"
   ],
   "metadata": {
    "collapsed": false,
    "ExecuteTime": {
     "end_time": "2024-04-16T12:15:23.238983900Z",
     "start_time": "2024-04-16T12:15:22.984962200Z"
    }
   },
   "id": "64c6662ce72ffaba"
  },
  {
   "cell_type": "code",
   "execution_count": 114,
   "outputs": [
    {
     "name": "stdout",
     "output_type": "stream",
     "text": [
      "Estimated parameters with method of moments for grade BBB: 0.14217022899691226 -2.8122254843755643\n",
      "Estimated parameters with method of moments for grade BB: 0.15277536809488443 -2.450141713617395\n",
      "Estimated parameters with method of moments for grade B: 0.17577928739484128 -1.6240740759125745\n",
      "Estimated parameters with method of moments for grade CCC/C: 0.4153954009093961 -0.6271513955104665\n"
     ]
    }
   ],
   "source": [
    "from src.MM_estimation import estimate_w_factor_loading\n",
    "\n",
    "MM_params = {}\n",
    "for index, grade in enumerate(grade_list):\n",
    "    MM_params[grade] = estimate_w_factor_loading(grades_data[grade][15:20], num_of_obligors_table[:, index], initial_guess=0.45)\n",
    "    print(f\"Estimated parameters with method of moments for grade {grade}:\", MM_params[grade][0], norm.ppf(MM_params[grade][1]))"
   ],
   "metadata": {
    "collapsed": false,
    "ExecuteTime": {
     "end_time": "2024-04-16T12:16:04.959578300Z",
     "start_time": "2024-04-16T12:16:04.657555200Z"
    }
   },
   "id": "a839b378e14f16ac"
  },
  {
   "cell_type": "code",
   "execution_count": 115,
   "outputs": [],
   "source": [
    "MM_w_params = [MM_params[grade][0] for grade in grade_list]\n",
    "MM_gamma_params = [norm.ppf(MM_params[grade][1]) for grade in grade_list]"
   ],
   "metadata": {
    "collapsed": false,
    "ExecuteTime": {
     "end_time": "2024-04-16T12:16:14.904543800Z",
     "start_time": "2024-04-16T12:16:14.810538400Z"
    }
   },
   "id": "83abe916c13ac7d5"
  },
  {
   "cell_type": "code",
   "execution_count": 122,
   "outputs": [
    {
     "data": {
      "text/plain": "[-2.8122254843755643,\n -2.450141713617395,\n -1.6240740759125745,\n -0.6271513955104665]"
     },
     "execution_count": 122,
     "metadata": {},
     "output_type": "execute_result"
    }
   ],
   "source": [
    "MM_gamma_params"
   ],
   "metadata": {
    "collapsed": false,
    "ExecuteTime": {
     "end_time": "2024-04-16T12:22:03.464425300Z",
     "start_time": "2024-04-16T12:22:03.307414400Z"
    }
   },
   "id": "c392c314e799a30c"
  },
  {
   "cell_type": "code",
   "execution_count": 117,
   "outputs": [],
   "source": [
    "parameter_estimation_results = parameter_estimation(default_table, num_of_obligors_table, [0.15], MM_gamma_params)"
   ],
   "metadata": {
    "collapsed": false,
    "ExecuteTime": {
     "start_time": "2024-04-16T12:16:32.952647200Z"
    }
   },
   "id": "f79ec4a6b6fed742"
  },
  {
   "cell_type": "code",
   "execution_count": 147,
   "outputs": [
    {
     "name": "stdout",
     "output_type": "stream",
     "text": [
      "Estimated parameters with maximum likelihood estimation: [-2.80589814 -2.4443555  -1.62080036 -0.63965098  0.30728916]\n",
      "Current function value:  224.85128569575315\n"
     ]
    }
   ],
   "source": [
    "print(\"Estimated parameters with maximum likelihood estimation:\", parameter_estimation_results.x)\n",
    "print(\"Current function value: \", parameter_estimation_results.fun)"
   ],
   "metadata": {
    "collapsed": false,
    "ExecuteTime": {
     "start_time": "2024-04-16T12:35:58.821623900Z"
    }
   },
   "id": "1bd5ca78b92a911d"
  },
  {
   "cell_type": "code",
   "execution_count": 120,
   "outputs": [],
   "source": [
    "parameter_estimation_results2 = parameter_estimation(default_table, num_of_obligors_table, [0.35], MM_gamma_params)"
   ],
   "metadata": {
    "collapsed": false,
    "ExecuteTime": {
     "start_time": "2024-04-16T12:19:37.165908900Z"
    }
   },
   "id": "9b2b8fde7c33b8bd"
  },
  {
   "cell_type": "code",
   "execution_count": 146,
   "outputs": [
    {
     "name": "stdout",
     "output_type": "stream",
     "text": [
      "Estimated parameters with maximum likelihood estimation: [-2.81016211 -2.45164086 -1.63491463 -0.66198896  0.33084744]\n",
      "Current function value:  224.5991859258468\n"
     ]
    }
   ],
   "source": [
    "print(\"Estimated parameters with maximum likelihood estimation:\", parameter_estimation_results2.x)\n",
    "print(\"Current function value: \", parameter_estimation_results2.fun)"
   ],
   "metadata": {
    "collapsed": false,
    "ExecuteTime": {
     "start_time": "2024-04-16T12:35:45.799324Z"
    }
   },
   "id": "4efa0159b735340a"
  },
  {
   "cell_type": "code",
   "execution_count": 142,
   "outputs": [],
   "source": [
    "factor_loading_init = [0.15]\n",
    "gamma_list_init = [-2.78, -2.4, -1.65, -0.65]\n",
    "parameter_estimation_results3 = parameter_estimation(default_table, num_of_obligors_table, factor_loading_init, gamma_list_init)"
   ],
   "metadata": {
    "collapsed": false,
    "ExecuteTime": {
     "end_time": "2024-04-16T12:31:16.401677100Z",
     "start_time": "2024-04-16T12:29:49.829060800Z"
    }
   },
   "id": "4e161d6835cd344e"
  },
  {
   "cell_type": "code",
   "execution_count": 145,
   "outputs": [
    {
     "name": "stdout",
     "output_type": "stream",
     "text": [
      "Estimated parameters with maximum likelihood estimation: [-2.91382846 -2.54797082 -1.71456421 -0.72179644  0.26977909]\n",
      "Current function value:  225.59423176350913\n"
     ]
    }
   ],
   "source": [
    "print(\"Estimated parameters with maximum likelihood estimation:\", parameter_estimation_results3.x)\n",
    "print(\"Current function value: \", parameter_estimation_results3.fun)"
   ],
   "metadata": {
    "collapsed": false,
    "ExecuteTime": {
     "end_time": "2024-04-16T12:35:13.078501600Z",
     "start_time": "2024-04-16T12:35:12.902093500Z"
    }
   },
   "id": "c1bd9d02ad47d747"
  },
  {
   "cell_type": "markdown",
   "source": [
    "# More years"
   ],
   "metadata": {
    "collapsed": false
   },
   "id": "2c8a618b86f703a0"
  },
  {
   "cell_type": "code",
   "execution_count": 209,
   "outputs": [
    {
     "name": "stdout",
     "output_type": "stream",
     "text": [
      "Estimated parameters with method of moments for grade BBB: 0.2871042568995872 -2.8192678569031986\n",
      "Estimated parameters with method of moments for grade BB: 0.29623347361649804 -2.3403307919949556\n",
      "Estimated parameters with method of moments for grade B: 0.2907680286037583 -1.5877922110756781\n",
      "Estimated parameters with method of moments for grade CCC/C: 0.379811113708008 -0.6170324331494975\n"
     ]
    }
   ],
   "source": [
    "grade_list = [\"BBB\", \"BB\", \"B\", \"CCC/C\"]\n",
    "default_table2 = grades_data[[str(grade) + \" defaults\" for grade in grade_list]][10:25].values\n",
    "num_of_obligors_table2 = n_g_assumption * np.ones(default_table2.shape)\n",
    "\n",
    "MM_params2 = {}\n",
    "for index, grade in enumerate(grade_list):\n",
    "    MM_params2[grade] = estimate_w_factor_loading(grades_data[grade][10:25], num_of_obligors_table2[:, index], initial_guess=0.45)\n",
    "    print(f\"Estimated parameters with method of moments for grade {grade}:\", MM_params2[grade][0], norm.ppf(MM_params2[grade][1]))\n",
    "\n",
    "MM_w_params2 = [MM_params2[grade][0] for grade in grade_list]\n",
    "MM_gamma_params2 = [norm.ppf(MM_params2[grade][1]) for grade in grade_list]"
   ],
   "metadata": {
    "collapsed": false,
    "ExecuteTime": {
     "end_time": "2024-04-16T14:07:35.666883900Z",
     "start_time": "2024-04-16T14:07:35.434864800Z"
    }
   },
   "id": "d416f76bf1579200"
  },
  {
   "cell_type": "code",
   "execution_count": 210,
   "outputs": [],
   "source": [
    "w_init_more_year = [0.30]\n",
    "g_init_more_year = [-2.78, -2.4, -1.65, -0.65]\n",
    "parameter_estimation_more_year = parameter_estimation(default_table2, num_of_obligors_table2, w_init_more_year, g_init_more_year)"
   ],
   "metadata": {
    "collapsed": false,
    "ExecuteTime": {
     "end_time": "2024-04-16T14:16:52.289448400Z",
     "start_time": "2024-04-16T14:11:25.005501700Z"
    }
   },
   "id": "3f49a1b7ad5cd710"
  },
  {
   "cell_type": "code",
   "execution_count": 211,
   "outputs": [
    {
     "name": "stdout",
     "output_type": "stream",
     "text": [
      "Estimated parameters with maximum likelihood estimation: [-2.85930182 -2.38349712 -1.63596839 -0.67646472  0.33851023]\n",
      "Current function value:  546.8122419719294\n"
     ]
    }
   ],
   "source": [
    "print(\"Estimated parameters with maximum likelihood estimation:\", parameter_estimation_more_year.x)\n",
    "print(\"Current function value: \", parameter_estimation_more_year.fun)"
   ],
   "metadata": {
    "collapsed": false,
    "ExecuteTime": {
     "end_time": "2024-04-16T14:16:52.360451100Z",
     "start_time": "2024-04-16T14:16:52.294446600Z"
    }
   },
   "id": "a601c1c4945317f3"
  },
  {
   "cell_type": "markdown",
   "source": [
    "# Optimal log likelihood function value for different w values (fixed w)"
   ],
   "metadata": {
    "collapsed": false
   },
   "id": "2264fc3b297a1ca4"
  },
  {
   "cell_type": "code",
   "execution_count": 198,
   "outputs": [
    {
     "name": "stdout",
     "output_type": "stream",
     "text": [
      "w value: 0.0\n",
      "Estimated parameters with maximum likelihood method: [-2.8113551  -2.44709756 -1.62451962 -0.62700372]\n",
      "Current function value: 951.8418250479406\n",
      "w value: 0.05\n",
      "Estimated parameters with maximum likelihood method: [-2.86377324 -2.49837454 -1.66861943 -0.66852668]\n",
      "Current function value: 521.4644075605341\n",
      "w value: 0.1\n",
      "Estimated parameters with maximum likelihood method: [-2.94127995 -2.57089818 -1.72476982 -0.71320265]\n",
      "Current function value: 292.51302395808654\n",
      "w value: 0.15000000000000002\n",
      "Estimated parameters with maximum likelihood method: [-3.00194285 -2.62719346 -1.77343467 -0.75617626]\n",
      "Current function value: 234.84270176496318\n",
      "w value: 0.2\n",
      "Estimated parameters with maximum likelihood method: [-2.860881   -2.48903087 -1.64199654 -0.63273594]\n",
      "Current function value: 228.26752042204933\n",
      "w value: 0.25\n",
      "Estimated parameters with maximum likelihood method: [-2.84462058 -2.4769042  -1.63929977 -0.64141282]\n",
      "Current function value: 225.93620582690713\n",
      "w value: 0.30000000000000004\n",
      "Estimated parameters with maximum likelihood method: [-2.80722723 -2.44511478 -1.62006287 -0.63707055]\n",
      "Current function value: 225.01978063285873\n",
      "w value: 0.35000000000000003\n",
      "Estimated parameters with maximum likelihood method: [-2.81644772 -2.46106103 -1.65102794 -0.68594276]\n",
      "Current function value: 224.6907573419893\n",
      "w value: 0.4\n",
      "Estimated parameters with maximum likelihood method: [-2.73256626 -2.3711291  -1.58072798 -0.64581499]\n",
      "Current function value: 224.86460279761195\n",
      "w value: 0.45\n",
      "Estimated parameters with maximum likelihood method: [-2.71803194 -2.37946757 -1.60781555 -0.68835923]\n",
      "Current function value: 225.1524211358367\n",
      "w value: 0.5\n",
      "Estimated parameters with maximum likelihood method: [-2.68790713 -2.35946614 -1.61079012 -0.71874206]\n",
      "Current function value: 225.03571799300875\n"
     ]
    }
   ],
   "source": [
    "w_values = np.linspace(0.0, 0.5, 11)\n",
    "params_dict = {}\n",
    "\n",
    "for w in w_values:\n",
    "    ML_linear_estimation = parameter_estimation(default_table, num_of_obligors_table, [w], gamma_list_init, fixed_w=True)\n",
    "    params_dict[w] = (ML_linear_estimation.x, ML_linear_estimation.fun)\n",
    "    print(\"w value:\", w)\n",
    "    print(\"Estimated parameters with maximum likelihood method:\", ML_linear_estimation.x)\n",
    "    print(\"Current function value:\", ML_linear_estimation.fun)"
   ],
   "metadata": {
    "collapsed": false,
    "ExecuteTime": {
     "end_time": "2024-04-16T13:35:36.976974600Z",
     "start_time": "2024-04-16T13:28:54.072911400Z"
    }
   },
   "id": "79f830a7c9ac2002"
  },
  {
   "cell_type": "code",
   "execution_count": 203,
   "outputs": [
    {
     "data": {
      "text/plain": "<Figure size 640x480 with 1 Axes>",
      "image/png": "[encoded data removed]"
     },
     "metadata": {},
     "output_type": "display_data"
    }
   ],
   "source": [
    "# Make a plot of the function values\n",
    "import matplotlib.pyplot as plt\n",
    "\n",
    "w_values = list(params_dict.keys())\n",
    "function_values = [params_dict[w][1] for w in w_values]\n",
    "\n",
    "plt.plot(w_values, function_values)\n",
    "plt.xlabel(\"w\")\n",
    "plt.ylabel(\"-Log likelihood func value\")\n",
    "plt.title(\"Function values for different w values\")\n",
    "plt.show()"
   ],
   "metadata": {
    "collapsed": false,
    "ExecuteTime": {
     "end_time": "2024-04-16T13:45:00.355283200Z",
     "start_time": "2024-04-16T13:45:00.131533600Z"
    }
   },
   "id": "e7a9cabfcd8495d1"
  },
  {
   "cell_type": "code",
   "execution_count": 202,
   "outputs": [
    {
     "data": {
      "text/plain": "<Figure size 640x480 with 1 Axes>",
      "image/png": "[encoded data removed]"
     },
     "metadata": {},
     "output_type": "display_data"
    }
   ],
   "source": [
    "plt.plot(w_values[4:], function_values[4:])\n",
    "plt.xlabel(\"w\")\n",
    "plt.ylabel(\"-Log likelihood func value\")\n",
    "plt.title(\"Function values for different w values\")\n",
    "plt.show()"
   ],
   "metadata": {
    "collapsed": false,
    "ExecuteTime": {
     "start_time": "2024-04-16T13:44:28.076609800Z"
    }
   },
   "id": "a13aa67579706694"
  },
  {
   "cell_type": "code",
   "execution_count": null,
   "outputs": [],
   "source": [
    "gamma_list_init"
   ],
   "metadata": {
    "collapsed": false,
    "ExecuteTime": {
     "start_time": "2024-04-16T13:28:36.883890900Z"
    }
   },
   "id": "90df89fb5d046b25"
  },
  {
   "cell_type": "code",
   "execution_count": null,
   "outputs": [],
   "source": [
    "MM_gamma_params"
   ],
   "metadata": {
    "collapsed": false
   },
   "id": "1139987d775ff2e0"
  },
  {
   "cell_type": "code",
   "execution_count": 199,
   "outputs": [
    {
     "name": "stdout",
     "output_type": "stream",
     "text": [
      "w value: 0.0\n",
      "Estimated parameters with maximum likelihood method: [-2.8113877  -2.44712465 -1.62450518 -0.62698744]\n",
      "Current function value: 951.841823903839\n",
      "w value: 0.05\n",
      "Estimated parameters with maximum likelihood method: [-2.86381916 -2.49826265 -1.66861244 -0.66852065]\n",
      "Current function value: 521.4644089485402\n",
      "w value: 0.1\n",
      "Estimated parameters with maximum likelihood method: [-2.94123533 -2.57086143 -1.72475556 -0.71320994]\n",
      "Current function value: 292.51302312544243\n",
      "w value: 0.15000000000000002\n",
      "Estimated parameters with maximum likelihood method: [-3.00185306 -2.62720709 -1.77340231 -0.75618785]\n",
      "Current function value: 234.84270143350875\n",
      "w value: 0.2\n",
      "Estimated parameters with maximum likelihood method: [-2.86088014 -2.48908056 -1.64204017 -0.63274491]\n",
      "Current function value: 228.26752187312013\n",
      "w value: 0.25\n",
      "Estimated parameters with maximum likelihood method: [-2.84454283 -2.47695288 -1.63932502 -0.64137854]\n",
      "Current function value: 225.93620782470745\n",
      "w value: 0.30000000000000004\n",
      "Estimated parameters with maximum likelihood method: [-2.80725529 -2.44517949 -1.62008831 -0.63709787]\n",
      "Current function value: 225.0197802669696\n",
      "w value: 0.35000000000000003\n",
      "Estimated parameters with maximum likelihood method: [-2.81651601 -2.46105105 -1.65100165 -0.68593791]\n",
      "Current function value: 224.69075762873626\n",
      "w value: 0.4\n",
      "Estimated parameters with maximum likelihood method: [-2.72476475 -2.37157645 -1.58117909 -0.64648098]\n",
      "Current function value: 224.87029613837427\n",
      "w value: 0.45\n",
      "Estimated parameters with maximum likelihood method: [-2.71338479 -2.36519627 -1.59442067 -0.68355446]\n",
      "Current function value: 225.02499159488795\n",
      "w value: 0.5\n",
      "Estimated parameters with maximum likelihood method: [-2.68793521 -2.35941729 -1.61076224 -0.71874078]\n",
      "Current function value: 225.0357181127722\n"
     ]
    }
   ],
   "source": [
    "w_values = np.linspace(0.0, 0.5, 11)\n",
    "params_dict2 = {}\n",
    "\n",
    "for w in w_values:\n",
    "    ML_linear_estimation = parameter_estimation(default_table, num_of_obligors_table, [w], MM_gamma_params, fixed_w=True)\n",
    "    params_dict2[w] = (ML_linear_estimation.x, ML_linear_estimation.fun)\n",
    "    print(\"w value:\", w)\n",
    "    print(\"Estimated parameters with maximum likelihood method:\", ML_linear_estimation.x)\n",
    "    print(\"Current function value:\", ML_linear_estimation.fun)"
   ],
   "metadata": {
    "collapsed": false,
    "ExecuteTime": {
     "end_time": "2024-04-16T13:41:52.720304100Z",
     "start_time": "2024-04-16T13:35:36.935984600Z"
    }
   },
   "id": "7f3b68f7039ece3"
  },
  {
   "cell_type": "code",
   "execution_count": 204,
   "outputs": [
    {
     "data": {
      "text/plain": "<Figure size 640x480 with 1 Axes>",
      "image/png": "[encoded data removed]"
     },
     "metadata": {},
     "output_type": "display_data"
    }
   ],
   "source": [
    "# Plot\n",
    "w_values = list(params_dict2.keys())\n",
    "function_values = [params_dict2[w][1] for w in w_values]\n",
    "\n",
    "# from 0.2 to 0.5\n",
    "plt.plot(w_values[4:], function_values[4:])\n",
    "plt.xlabel(\"w\")\n",
    "plt.ylabel(\"-Log likelihood func value\")\n",
    "plt.title(\"Function values for different w values\")\n",
    "plt.show()"
   ],
   "metadata": {
    "collapsed": false,
    "ExecuteTime": {
     "end_time": "2024-04-16T13:48:03.501155100Z",
     "start_time": "2024-04-16T13:48:03.207852200Z"
    }
   },
   "id": "784ecb87514ad9"
  },
  {
   "cell_type": "code",
   "execution_count": 207,
   "outputs": [
    {
     "data": {
      "text/plain": "                                           Parameters_x  \\\n0.00  [-2.8113550995411067, -2.4470975608800956, -1....   \n0.05  [-2.8637732417927335, -2.4983745432444864, -1....   \n0.10  [-2.9412799505561757, -2.570898183493422, -1.7...   \n0.15  [-3.0019428546196534, -2.627193455833382, -1.7...   \n0.20  [-2.860881001335562, -2.4890308730365986, -1.6...   \n0.25  [-2.844620575170459, -2.476904196409147, -1.63...   \n0.30  [-2.807227233007618, -2.445114783725117, -1.62...   \n0.35  [-2.8164477217493635, -2.46106103224298, -1.65...   \n0.40  [-2.732566261397607, -2.3711290986687166, -1.5...   \n0.45  [-2.718031938832671, -2.379467569111247, -1.60...   \n0.50  [-2.687907134716223, -2.3594661447952356, -1.6...   \n\n      MM_init function value  \\\n0.00              951.841825   \n0.05              521.464408   \n0.10              292.513024   \n0.15              234.842702   \n0.20              228.267520   \n0.25              225.936206   \n0.30              225.019781   \n0.35              224.690757   \n0.40              224.864603   \n0.45              225.152421   \n0.50              225.035718   \n\n                                           Parameters_y  \\\n0.00  [-2.811387702570853, -2.447124647088103, -1.62...   \n0.05  [-2.8638191617916235, -2.4982626474404475, -1....   \n0.10  [-2.9412353265878437, -2.57086143206931, -1.72...   \n0.15  [-3.001853063218107, -2.627207093286013, -1.77...   \n0.20  [-2.86088014194486, -2.4890805562805296, -1.64...   \n0.25  [-2.8445428348401722, -2.476952879995685, -1.6...   \n0.30  [-2.8072552868032377, -2.445179490982431, -1.6...   \n0.35  [-2.816516006022398, -2.461051053036455, -1.65...   \n0.40  [-2.7247647541486772, -2.371576452178613, -1.5...   \n0.45  [-2.713384790538129, -2.3651962650102023, -1.5...   \n0.50  [-2.687935212313997, -2.35941729338929, -1.610...   \n\n      Other init function value  \n0.00                 951.841824  \n0.05                 521.464409  \n0.10                 292.513023  \n0.15                 234.842701  \n0.20                 228.267522  \n0.25                 225.936208  \n0.30                 225.019780  \n0.35                 224.690758  \n0.40                 224.870296  \n0.45                 225.024992  \n0.50                 225.035718  ",
      "text/html": "<div>\n<style scoped>\n    .dataframe tbody tr th:only-of-type {\n        vertical-align: middle;\n    }\n\n    .dataframe tbody tr th {\n        vertical-align: top;\n    }\n\n    .dataframe thead th {\n        text-align: right;\n    }\n</style>\n<table border=\"1\" class=\"dataframe\">\n  <thead>\n    <tr style=\"text-align: right;\">\n      <th></th>\n      <th>Parameters_x</th>\n      <th>MM_init function value</th>\n      <th>Parameters_y</th>\n      <th>Other init function value</th>\n    </tr>\n  </thead>\n  <tbody>\n    <tr>\n      <th>0.00</th>\n      <td>[-2.8113550995411067, -2.4470975608800956, -1....</td>\n      <td>951.841825</td>\n      <td>[-2.811387702570853, -2.447124647088103, -1.62...</td>\n      <td>951.841824</td>\n    </tr>\n    <tr>\n      <th>0.05</th>\n      <td>[-2.8637732417927335, -2.4983745432444864, -1....</td>\n      <td>521.464408</td>\n      <td>[-2.8638191617916235, -2.4982626474404475, -1....</td>\n      <td>521.464409</td>\n    </tr>\n    <tr>\n      <th>0.10</th>\n      <td>[-2.9412799505561757, -2.570898183493422, -1.7...</td>\n      <td>292.513024</td>\n      <td>[-2.9412353265878437, -2.57086143206931, -1.72...</td>\n      <td>292.513023</td>\n    </tr>\n    <tr>\n      <th>0.15</th>\n      <td>[-3.0019428546196534, -2.627193455833382, -1.7...</td>\n      <td>234.842702</td>\n      <td>[-3.001853063218107, -2.627207093286013, -1.77...</td>\n      <td>234.842701</td>\n    </tr>\n    <tr>\n      <th>0.20</th>\n      <td>[-2.860881001335562, -2.4890308730365986, -1.6...</td>\n      <td>228.267520</td>\n      <td>[-2.86088014194486, -2.4890805562805296, -1.64...</td>\n      <td>228.267522</td>\n    </tr>\n    <tr>\n      <th>0.25</th>\n      <td>[-2.844620575170459, -2.476904196409147, -1.63...</td>\n      <td>225.936206</td>\n      <td>[-2.8445428348401722, -2.476952879995685, -1.6...</td>\n      <td>225.936208</td>\n    </tr>\n    <tr>\n      <th>0.30</th>\n      <td>[-2.807227233007618, -2.445114783725117, -1.62...</td>\n      <td>225.019781</td>\n      <td>[-2.8072552868032377, -2.445179490982431, -1.6...</td>\n      <td>225.019780</td>\n    </tr>\n    <tr>\n      <th>0.35</th>\n      <td>[-2.8164477217493635, -2.46106103224298, -1.65...</td>\n      <td>224.690757</td>\n      <td>[-2.816516006022398, -2.461051053036455, -1.65...</td>\n      <td>224.690758</td>\n    </tr>\n    <tr>\n      <th>0.40</th>\n      <td>[-2.732566261397607, -2.3711290986687166, -1.5...</td>\n      <td>224.864603</td>\n      <td>[-2.7247647541486772, -2.371576452178613, -1.5...</td>\n      <td>224.870296</td>\n    </tr>\n    <tr>\n      <th>0.45</th>\n      <td>[-2.718031938832671, -2.379467569111247, -1.60...</td>\n      <td>225.152421</td>\n      <td>[-2.713384790538129, -2.3651962650102023, -1.5...</td>\n      <td>225.024992</td>\n    </tr>\n    <tr>\n      <th>0.50</th>\n      <td>[-2.687907134716223, -2.3594661447952356, -1.6...</td>\n      <td>225.035718</td>\n      <td>[-2.687935212313997, -2.35941729338929, -1.610...</td>\n      <td>225.035718</td>\n    </tr>\n  </tbody>\n</table>\n</div>"
     },
     "execution_count": 207,
     "metadata": {},
     "output_type": "execute_result"
    }
   ],
   "source": [
    "# Make one dataframe from the 2 dictionaries, where index column is w\n",
    "df1 = pd.DataFrame.from_dict(params_dict, orient='index', columns=['Parameters', 'MM_init function value'])\n",
    "df2 = pd.DataFrame.from_dict(params_dict2, orient='index', columns=['Parameters', 'Other init function value'])\n",
    "\n",
    "# Merge the dataframes\n",
    "df = pd.merge(df1, df2, left_index=True, right_index=True)\n",
    "df"
   ],
   "metadata": {
    "collapsed": false,
    "ExecuteTime": {
     "end_time": "2024-04-16T13:59:44.868658600Z",
     "start_time": "2024-04-16T13:59:44.610304500Z"
    }
   },
   "id": "2813702f2722b3d7"
  },
  {
   "cell_type": "code",
   "execution_count": 205,
   "outputs": [
    {
     "name": "stdout",
     "output_type": "stream",
     "text": [
      "w value: 0.0\n",
      "Estimated parameters with maximum likelihood method: [-3.08694904 -2.7210572  -1.88757822 -0.89479295  0.26953964]\n",
      "Current function value: 227.52987116711242\n",
      "w value: 0.1\n",
      "Estimated parameters with maximum likelihood method: [-2.81031515 -2.45168448 -1.63501256 -0.66204875  0.33093446]\n",
      "Current function value: 224.59919905659865\n",
      "w value: 0.2\n",
      "Estimated parameters with maximum likelihood method: [-2.9555208  -2.59700579 -1.78018622 -0.80723205  0.33078134]\n",
      "Current function value: 225.2022535841715\n",
      "w value: 0.30000000000000004\n",
      "Estimated parameters with maximum likelihood method: [-2.80594771 -2.44440308 -1.62080364 -0.63966877  0.30728579]\n",
      "Current function value: 224.8512850274912\n",
      "w value: 0.4\n",
      "Estimated parameters with maximum likelihood method: [-2.7213582  -2.37742049 -1.59394175 -0.66061332  0.42490634]\n",
      "Current function value: 224.33532511267677\n",
      "w value: 0.5\n",
      "Estimated parameters with maximum likelihood method: [-2.70292629 -2.36685492 -1.60105541 -0.68888868  0.46608652]\n",
      "Current function value: 224.46542967598063\n"
     ]
    }
   ],
   "source": [
    "w_values = np.linspace(0.0, 0.5, 6)\n",
    "params_dict3 = {}\n",
    "\n",
    "for w in w_values:\n",
    "    ML_linear_estimation = parameter_estimation(default_table, num_of_obligors_table, [w], MM_gamma_params)\n",
    "    params_dict3[w] = (ML_linear_estimation.x, ML_linear_estimation.fun)\n",
    "    print(\"w value:\", w)\n",
    "    print(\"Estimated parameters with maximum likelihood method:\", ML_linear_estimation.x)\n",
    "    print(\"Current function value:\", ML_linear_estimation.fun)"
   ],
   "metadata": {
    "collapsed": false,
    "ExecuteTime": {
     "end_time": "2024-04-16T13:59:12.344785300Z",
     "start_time": "2024-04-16T13:48:58.815132100Z"
    }
   },
   "id": "cbbd1a3155c5334a"
  },
  {
   "cell_type": "code",
   "execution_count": 196,
   "outputs": [
    {
     "data": {
      "text/plain": "292.51302395808654"
     },
     "execution_count": 196,
     "metadata": {},
     "output_type": "execute_result"
    }
   ],
   "source": [
    "# Test results\n",
    "-log_likelihood(default_table, num_of_obligors_table, p_g, norm.pdf, [0.1], list(params_dict[0.1][0]))"
   ],
   "metadata": {
    "collapsed": false,
    "ExecuteTime": {
     "end_time": "2024-04-16T13:25:59.050373800Z",
     "start_time": "2024-04-16T13:25:58.790353900Z"
    }
   },
   "id": "a378eb122f629f91"
  },
  {
   "cell_type": "markdown",
   "source": [
    "# Variable Change"
   ],
   "metadata": {
    "collapsed": false
   },
   "id": "e4e7a66429d197e3"
  },
  {
   "cell_type": "code",
   "execution_count": 148,
   "outputs": [],
   "source": [
    "def calculate_variable_changed_likelihood_arr(d_g_arr, n_g_arr, p_g, prob_dens_func, a, b):\n",
    "    integrand = lambda x: np.prod(binom.pmf(d_g_arr, n_g_arr, norm.cdf(a*x+b))) * prob_dens_func(x)\n",
    "\n",
    "    result, _ = quad(integrand, -3, 3, epsabs=1.49e-28)\n",
    "\n",
    "    return result"
   ],
   "metadata": {
    "collapsed": false,
    "ExecuteTime": {
     "end_time": "2024-04-16T12:37:16.561090800Z",
     "start_time": "2024-04-16T12:37:16.499085500Z"
    }
   },
   "id": "305514850f7a891"
  },
  {
   "cell_type": "code",
   "execution_count": 149,
   "outputs": [],
   "source": [
    "def log_likehood_variable_changed(d_g_array, n_g_array, p_g, prob_dens_func, a, b):\n",
    "    return sum(np.log(calculate_variable_changed_likelihood_arr(d_g_list, n_g_list, p_g, prob_dens_func, a, b)) for d_g_list, n_g_list in zip(d_g_array, n_g_array))"
   ],
   "metadata": {
    "collapsed": false,
    "ExecuteTime": {
     "end_time": "2024-04-16T12:37:20.061439Z",
     "start_time": "2024-04-16T12:37:20.003436100Z"
    }
   },
   "id": "e28d4a5a5a06d64b"
  },
  {
   "cell_type": "code",
   "execution_count": 175,
   "outputs": [
    {
     "data": {
      "text/plain": "(array([-0.14362918, -0.15459011, -0.17855953, -0.45665864]),\n array([-2.84108459, -2.47924573, -1.64976152, -0.68944939]))"
     },
     "execution_count": 175,
     "metadata": {},
     "output_type": "execute_result"
    }
   ],
   "source": [
    "from src.variable_change import a_calc_func, b_calc_func, w_calc_func, gamma_calc_func\n",
    "\n",
    "a_MM = a_calc_func(np.array(MM_w_params), np.array(MM_gamma_params))\n",
    "b_MM = b_calc_func(np.array(MM_w_params), np.array(MM_gamma_params))\n",
    "\n",
    "a_MM, b_MM"
   ],
   "metadata": {
    "collapsed": false,
    "ExecuteTime": {
     "end_time": "2024-04-16T12:50:10.703475200Z",
     "start_time": "2024-04-16T12:50:10.551464600Z"
    }
   },
   "id": "5fc25464478df1a7"
  },
  {
   "cell_type": "code",
   "execution_count": 178,
   "outputs": [
    {
     "data": {
      "text/plain": "-519.8256850722457"
     },
     "execution_count": 178,
     "metadata": {},
     "output_type": "execute_result"
    }
   ],
   "source": [
    "log_likehood_variable_changed(default_table[:, 1], num_of_obligors_table[:, 1], p_g, norm.pdf, a_MM, b_MM)"
   ],
   "metadata": {
    "collapsed": false,
    "ExecuteTime": {
     "end_time": "2024-04-16T12:52:48.385102900Z",
     "start_time": "2024-04-16T12:52:48.151083Z"
    }
   },
   "id": "18923a20586e6f4e"
  },
  {
   "cell_type": "code",
   "execution_count": 219,
   "outputs": [],
   "source": [
    "def parameter_estimation_variable_changed(default_table, num_of_obligors_table, a_init, b_init, fixed_a = False):\n",
    "    if not fixed_a:\n",
    "        initial_guess = np.concatenate((a_init, b_init))\n",
    "    \n",
    "        num_of_a = len(a_init)\n",
    "        bounds = [(-10, 10)] * len(initial_guess)\n",
    "    \n",
    "        # Optimization\n",
    "        objective_function = lambda params: -log_likehood_variable_changed(\n",
    "            default_table, num_of_obligors_table, p_g, norm.pdf, params[:num_of_a], params[num_of_a:len(initial_guess)]\n",
    "        )\n",
    "    \n",
    "        result = minimize(objective_function,\n",
    "                          initial_guess,\n",
    "                          method=\"Nelder-Mead\",\n",
    "                          bounds=bounds,\n",
    "                          options={\n",
    "                              'disp': False})\n",
    "    \n",
    "    else:\n",
    "        initial_guess = b_init\n",
    "        \n",
    "        bounds = [(-10, 10)] * len(initial_guess)\n",
    "    \n",
    "        # Optimization\n",
    "        objective_function = lambda params: -log_likehood_variable_changed(\n",
    "            default_table, num_of_obligors_table, p_g, norm.pdf, a_init, params\n",
    "        )\n",
    "    \n",
    "        result = minimize(objective_function,\n",
    "                          initial_guess,\n",
    "                          method=\"Nelder-Mead\",\n",
    "                          bounds=bounds,\n",
    "                          options={\n",
    "                              'disp': False})\n",
    "\n",
    "    return result"
   ],
   "metadata": {
    "collapsed": false,
    "ExecuteTime": {
     "end_time": "2024-04-16T14:24:37.190377Z",
     "start_time": "2024-04-16T14:24:37.030433100Z"
    }
   },
   "id": "7e58aea77e62e302"
  },
  {
   "cell_type": "code",
   "execution_count": 181,
   "outputs": [],
   "source": [
    "parameter_estimation_a_b_results = parameter_estimation_variable_changed(default_table, num_of_obligors_table, [-0.15], b_MM)"
   ],
   "metadata": {
    "collapsed": false,
    "ExecuteTime": {
     "end_time": "2024-04-16T13:04:04.511234900Z",
     "start_time": "2024-04-16T13:01:05.049819600Z"
    }
   },
   "id": "110a91c44e2cd076"
  },
  {
   "cell_type": "code",
   "execution_count": 182,
   "outputs": [
    {
     "name": "stdout",
     "output_type": "stream",
     "text": [
      "Estimated parameters with maximum likelihood estimation: [-0.27948214 -3.08684671 -2.70689225 -1.84136415 -0.81038667]\n",
      "Current function value:  225.99606156548163\n",
      "Parameters as w:  [0.26916741]\n",
      "Parameters as gamma:  [-2.97292171 -2.60699007 -1.77340567 -0.78047806]\n"
     ]
    }
   ],
   "source": [
    "print(\"Estimated parameters with maximum likelihood estimation:\", parameter_estimation_a_b_results.x)\n",
    "print(\"Current function value: \", parameter_estimation_a_b_results.fun)\n",
    "print(\"Parameters as w: \", w_calc_func(parameter_estimation_a_b_results.x[:1], parameter_estimation_a_b_results.x[1:]))\n",
    "print(\"Parameters as gamma: \", gamma_calc_func(parameter_estimation_a_b_results.x[:1], parameter_estimation_a_b_results.x[1:]))"
   ],
   "metadata": {
    "collapsed": false,
    "ExecuteTime": {
     "end_time": "2024-04-16T13:07:19.101133600Z",
     "start_time": "2024-04-16T13:07:18.973125600Z"
    }
   },
   "id": "7588de74977c3d9a"
  },
  {
   "cell_type": "code",
   "execution_count": 223,
   "outputs": [],
   "source": [
    "parameter_estimation_a_b_results2 = parameter_estimation_variable_changed(default_table, num_of_obligors_table, [-0.25], b_MM)"
   ],
   "metadata": {
    "collapsed": false,
    "ExecuteTime": {
     "end_time": "2024-04-16T14:28:05.923631300Z",
     "start_time": "2024-04-16T14:26:24.169634Z"
    }
   },
   "id": "fc4cd99e7d5bf02b"
  },
  {
   "cell_type": "code",
   "execution_count": 224,
   "outputs": [
    {
     "name": "stdout",
     "output_type": "stream",
     "text": [
      "Estimated parameters with maximum likelihood estimation: [-0.35127112 -3.05493831 -2.67499237 -1.8095039  -0.77852131]\n",
      "Current function value:  224.7544641130218\n",
      "Parameters as w:  [0.33141862]\n",
      "Parameters as gamma:  [-2.88228483 -2.52381199 -1.70723763 -0.73452225]\n"
     ]
    }
   ],
   "source": [
    "print(\"Estimated parameters with maximum likelihood estimation:\", parameter_estimation_a_b_results2.x)\n",
    "print(\"Current function value: \", parameter_estimation_a_b_results2.fun)\n",
    "print(\"Parameters as w: \", w_calc_func(parameter_estimation_a_b_results2.x[:1], parameter_estimation_a_b_results2.x[1:]))\n",
    "print(\"Parameters as gamma: \", gamma_calc_func(parameter_estimation_a_b_results2.x[:1], parameter_estimation_a_b_results2.x[1:]))"
   ],
   "metadata": {
    "collapsed": false,
    "ExecuteTime": {
     "end_time": "2024-04-16T14:28:06.060640500Z",
     "start_time": "2024-04-16T14:28:05.927632400Z"
    }
   },
   "id": "d9a9737e7fc961a0"
  },
  {
   "cell_type": "code",
   "execution_count": 226,
   "outputs": [
    {
     "name": "stdout",
     "output_type": "stream",
     "text": [
      "a value: 0.0\n",
      "Estimated parameters with maximum likelihood method: [-2.81135156 -2.44705722 -1.62448793 -0.62699047]\n",
      "Current function value: 951.8418266659414\n",
      "a value: -0.049999999999999996\n",
      "Estimated parameters with maximum likelihood method: [-2.86727761 -2.5013625  -1.67063056 -0.66932674]\n",
      "Current function value: 521.892725483333\n",
      "a value: -0.09999999999999999\n",
      "Estimated parameters with maximum likelihood method: [-2.95522304 -2.58300541 -1.73283312 -0.71637062]\n",
      "Current function value: 293.74193547536106\n",
      "a value: -0.15\n",
      "Estimated parameters with maximum likelihood method: [-3.03572368 -2.65682259 -1.79351217 -0.76483534]\n",
      "Current function value: 235.32638542413522\n",
      "a value: -0.19999999999999998\n",
      "Estimated parameters with maximum likelihood method: [-2.95409046 -2.57444242 -1.70971853 -0.67941914]\n",
      "Current function value: 228.37032216514473\n",
      "a value: -0.24999999999999997\n",
      "Estimated parameters with maximum likelihood method: [-2.92772507 -2.54795799 -1.68288344 -0.65228865]\n",
      "Current function value: 226.1951864142308\n",
      "a value: -0.3\n",
      "Estimated parameters with maximum likelihood method: [-2.92451016 -2.54461134 -1.67924663 -0.64826788]\n",
      "Current function value: 225.1866501687313\n",
      "a value: -0.35\n",
      "Estimated parameters with maximum likelihood method: [-2.9775791  -2.59772413 -1.73223441 -0.70131217]\n",
      "Current function value: 224.60018887668244\n",
      "a value: -0.39999999999999997\n",
      "Estimated parameters with maximum likelihood method: [-2.94940346 -2.56970773 -1.70463172 -0.6739208 ]\n",
      "Current function value: 225.08580546004782\n",
      "a value: -0.44999999999999996\n",
      "Estimated parameters with maximum likelihood method: [-2.90826281 -2.52895702 -1.66449828 -0.63444904]\n",
      "Current function value: 224.70309160237403\n",
      "a value: -0.49999999999999994\n",
      "Estimated parameters with maximum likelihood method: [-2.9436839  -2.56466029 -1.700599   -0.67101195]\n",
      "Current function value: 225.08590867882697\n",
      "a value: -0.5499999999999999\n",
      "Estimated parameters with maximum likelihood method: [-2.95846065 -2.57743668 -1.7101122  -0.67720796]\n",
      "Current function value: 225.44037127014366\n",
      "a value: -0.6\n",
      "Estimated parameters with maximum likelihood method: [-2.89010465 -2.50947972 -1.64289868 -0.61070934]\n",
      "Current function value: 225.0076235479989\n",
      "a value: -0.6499999999999999\n",
      "Estimated parameters with maximum likelihood method: [-2.92707189 -2.54788451 -1.68359439 -0.65374318]\n",
      "Current function value: 225.25227054340218\n",
      "a value: -0.7\n",
      "Estimated parameters with maximum likelihood method: [-2.93639669 -2.55561321 -1.68869952 -0.65616022]\n",
      "Current function value: 225.45272480794375\n"
     ]
    }
   ],
   "source": [
    "a_values = np.linspace(0, -0.7, 15)\n",
    "\n",
    "params_dict_a = {}\n",
    "\n",
    "for a in a_values:\n",
    "    ML_linear_estimation = parameter_estimation_variable_changed(default_table, num_of_obligors_table, np.array([a]), b_MM, fixed_a=True)\n",
    "    params_dict_a[a] = (ML_linear_estimation.x, ML_linear_estimation.fun)\n",
    "    print(\"a value:\", a)\n",
    "    print(\"Estimated parameters with maximum likelihood method:\", ML_linear_estimation.x)\n",
    "    print(\"Current function value:\", ML_linear_estimation.fun)"
   ],
   "metadata": {
    "collapsed": false,
    "ExecuteTime": {
     "end_time": "2024-04-16T14:36:58.042925300Z",
     "start_time": "2024-04-16T14:28:18.519487300Z"
    }
   },
   "id": "e666f170856c9c54"
  },
  {
   "cell_type": "code",
   "execution_count": 239,
   "outputs": [
    {
     "data": {
      "text/plain": "<Figure size 640x480 with 1 Axes>",
      "image/png": "[encoded data removed]"
     },
     "metadata": {},
     "output_type": "display_data"
    }
   ],
   "source": [
    "# Plot\n",
    "a_values = list(params_dict_a.keys())\n",
    "function_values = [params_dict_a[a][1] for a in a_values]\n",
    "\n",
    "# Show y label between 200 and 250\n",
    "plt.plot(a_values[4:], function_values[4:])\n",
    "plt.xlabel(\"a\")\n",
    "plt.ylabel(\"-Log likelihood func value\")\n",
    "#plt.ylim(220, 235)\n",
    "plt.title(\"Function values for different a values\")\n",
    "plt.show()"
   ],
   "metadata": {
    "collapsed": false,
    "ExecuteTime": {
     "end_time": "2024-04-16T14:42:45.155196900Z",
     "start_time": "2024-04-16T14:42:44.878175900Z"
    }
   },
   "id": "2782edee50f1f97c"
  },
  {
   "cell_type": "code",
   "execution_count": 253,
   "outputs": [
    {
     "data": {
      "text/plain": "array([-2.84108459, -2.47924573, -1.64976152, -0.68944939])"
     },
     "execution_count": 253,
     "metadata": {},
     "output_type": "execute_result"
    }
   ],
   "source": [
    "# b_MM =\n",
    "b_calc_func(np.array(MM_w_params), np.array(MM_gamma_params))"
   ],
   "metadata": {
    "collapsed": false,
    "ExecuteTime": {
     "end_time": "2024-04-16T15:22:09.940807800Z",
     "start_time": "2024-04-16T15:22:09.703787800Z"
    }
   },
   "id": "7393c3a7c3a40d98"
  },
  {
   "cell_type": "code",
   "execution_count": 256,
   "outputs": [
    {
     "name": "stderr",
     "output_type": "stream",
     "text": [
      "C:\\Users\\kissp\\AppData\\Local\\Temp\\ipykernel_17856\\3548883320.py:4: IntegrationWarning: The integral is probably divergent, or slowly convergent.\n",
      "  result, _ = quad(integrand, -3, 3, epsabs=1.49e-28)\n"
     ]
    },
    {
     "data": {
      "text/plain": "<Figure size 640x480 with 1 Axes>",
      "image/png": "[encoded data removed]"
     },
     "metadata": {},
     "output_type": "display_data"
    }
   ],
   "source": [
    "a_values_prec = np.linspace(-2.5, -0.7, 37)\n",
    "b_init = np.array([-2.78, -2.4, -1.65, -0.65])\n",
    "\n",
    "params_dict_a_prec = {}\n",
    "\n",
    "for a in a_values_prec:\n",
    "    ML_linear_estimation = parameter_estimation_variable_changed(default_table, num_of_obligors_table, np.array([a]), b_init, fixed_a=True)\n",
    "    params_dict_a_prec[a] = (ML_linear_estimation.x, ML_linear_estimation.fun)\n",
    "\n",
    "# Plot\n",
    "a_values_prec = list(params_dict_a_prec.keys())\n",
    "function_values_prec = [params_dict_a_prec[a][1] for a in a_values_prec]\n",
    "\n",
    "plt.plot(a_values_prec, function_values_prec)\n",
    "plt.xlabel(\"a\")\n",
    "plt.ylabel(\"-Log likelihood func value\")\n",
    "plt.title(\"Function values for different a values\")\n",
    "plt.show()"
   ],
   "metadata": {
    "collapsed": false,
    "ExecuteTime": {
     "end_time": "2024-04-16T16:03:11.881650Z",
     "start_time": "2024-04-16T15:23:54.895704700Z"
    }
   },
   "id": "5480ccdd1b8c4ab2"
  },
  {
   "cell_type": "code",
   "execution_count": 246,
   "outputs": [
    {
     "name": "stderr",
     "output_type": "stream",
     "text": [
      "C:\\Users\\kissp\\AppData\\Local\\Temp\\ipykernel_17856\\405473469.py:2: RuntimeWarning: divide by zero encountered in log\n",
      "  return sum(np.log(calculate_variable_changed_likelihood_arr(d_g_list, n_g_list, p_g, prob_dens_func, a, b)) for d_g_list, n_g_list in zip(d_g_array, n_g_array))\n"
     ]
    },
    {
     "data": {
      "text/plain": "<Figure size 640x480 with 2 Axes>",
      "image/png": "[encoded data removed]"
     },
     "metadata": {},
     "output_type": "display_data"
    }
   ],
   "source": [
    "# Fix a and plot the likelihood function in b1 and b2\n",
    "\n",
    "a_fixed_value = -0.35\n",
    "\n",
    "b1_prec = np.linspace(-3, -1, 31)\n",
    "b2_prec = np.linspace(-3, -1, 31)\n",
    "\n",
    "z_values_b1_b2_prec = np.zeros((len(b1_prec), len(b2_prec)))\n",
    "\n",
    "for i, x in enumerate(b1_prec):\n",
    "    for j, y in enumerate(b2_prec):\n",
    "        z_values_b1_b2_prec[i, j] = -log_likehood_variable_changed(default_table[:,1:3], num_of_obligors_table[:, 1:3], p_g, norm.pdf, np.array([a_fixed_value, a_fixed_value]), np.array([x, y]))\n",
    "\n",
    "plt.contourf(b1_prec, b2_prec, z_values_b1_b2_prec, 20, cmap='RdGy')\n",
    "plt.colorbar()\n",
    "plt.xlabel(\"b2\")\n",
    "plt.ylabel(\"b1\")\n",
    "plt.title(\"Log likelihood for different b1 values\")\n",
    "plt.show()"
   ],
   "metadata": {
    "collapsed": false,
    "ExecuteTime": {
     "end_time": "2024-04-16T14:59:21.418301300Z",
     "start_time": "2024-04-16T14:55:46.671238500Z"
    }
   },
   "id": "54f68d9da9af8649"
  },
  {
   "cell_type": "code",
   "execution_count": null,
   "outputs": [],
   "source": [
    "b1_zoom = np.linspace(-2.5, -1.5, 21)\n",
    "b2_zoom = np.linspace(-2.5, -1.5, 21)\n",
    "\n",
    "z_values_b1_b2_zoom = np.zeros((len(b1_zoom), len(b2_zoom)))\n",
    "\n",
    "for i, x in enumerate(b1_zoom):\n",
    "    for j, y in enumerate(b2_zoom):\n",
    "        z_values_b1_b2_zoom[i, j] = -log_likehood_variable_changed(default_table[:,1:3], num_of_obligors_table[:, 1:3], p_g, norm.pdf, np.array([a_fixed_value, a_fixed_value]), np.array([x, y]))"
   ],
   "metadata": {
    "collapsed": false
   },
   "id": "457cb686f53db83d"
  },
  {
   "cell_type": "code",
   "execution_count": 252,
   "outputs": [
    {
     "data": {
      "text/plain": "<Figure size 640x480 with 2 Axes>",
      "image/png": "[encoded data removed]"
     },
     "metadata": {},
     "output_type": "display_data"
    }
   ],
   "source": [
    "plt.contourf(b1_zoom, b2_zoom, z_values_b1_b2_zoom, 20, cmap='RdGy')\n",
    "plt.colorbar()\n",
    "plt.xlabel(\"b2\")\n",
    "plt.ylabel(\"b1\")\n",
    "plt.title(\"Log likelihood for different b1 values\")\n",
    "plt.show()"
   ],
   "metadata": {
    "collapsed": false,
    "ExecuteTime": {
     "end_time": "2024-04-16T15:20:23.474706500Z",
     "start_time": "2024-04-16T15:20:23.154681Z"
    }
   },
   "id": "e9c4eaaa9979ab69"
  },
  {
   "cell_type": "code",
   "execution_count": null,
   "outputs": [],
   "source": [],
   "metadata": {
    "collapsed": false
   },
   "id": "4c46e5434c496eda"
  }
 ],
 "metadata": {
  "kernelspec": {
   "name": "python3",
   "language": "python",
   "display_name": "Python 3 (ipykernel)"
  },
  "language_info": {
   "codemirror_mode": {
    "name": "ipython",
    "version": 2
   },
   "file_extension": ".py",
   "mimetype": "text/x-python",
   "name": "python",
   "nbconvert_exporter": "python",
   "pygments_lexer": "ipython2",
   "version": "2.7.6"
  }
 },
 "nbformat": 4,
 "nbformat_minor": 5
}
