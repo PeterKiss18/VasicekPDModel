{
 "cells": [
  {
   "cell_type": "code",
   "execution_count": 3,
   "id": "initial_id",
   "metadata": {
    "collapsed": true,
    "ExecuteTime": {
     "end_time": "2024-04-12T15:00:11.163374200Z",
     "start_time": "2024-04-12T15:00:03.893384900Z"
    }
   },
   "outputs": [],
   "source": [
    "import pandas as pd\n",
    "import numpy as np\n",
    "import matplotlib.pyplot as plt\n",
    "from scipy.stats import norm\n",
    "from src.MM_estimation import estimate_w_factor_loading, calc_variance_of_default_rate\n",
    "from src.ML_estimation import calculate_my_likelihood_arr\n",
    "from src.ML_estimation import ml_estimation_linear_with_w_and_g\n",
    "from src.ML_estimation import parameter_estimation\n",
    "from src.variable_change import a_calc_func, b_calc_func, w_calc_func, gamma_calc_func\n",
    "from src.ML_estimation import calculate_variable_changed_likelihood_arr\n",
    "from src.sucess_probability import p_g\n",
    "from scipy.optimize import minimize"
   ]
  },
  {
   "cell_type": "code",
   "execution_count": 7,
   "outputs": [],
   "source": [
    "# Load the data\n",
    "grades_data = pd.read_csv('data/grades_hist_pd.csv', sep=';', index_col=0)\n",
    "\n",
    "for col_name in grades_data.columns:\n",
    "    grades_data[col_name] = grades_data[col_name] / 100\n",
    "    \n",
    "grades_cols = grades_data.columns\n",
    "\n",
    "n_g_assumption = 3000\n",
    "\n",
    "for col_name in grades_cols:\n",
    "    grades_data[str(col_name) + \" defaults\"] = (n_g_assumption * grades_data[col_name])\n",
    "    \n",
    "num_of_rows = grades_data.shape[0]\n",
    "n_g_over_time = np.array([n_g_assumption] * grades_data.shape[0])\n",
    "\n",
    "# Choose last four columns and calculate the sum of defaults\n",
    "d_g = grades_data.iloc[:, -5:].sum(axis=0).tolist()\n",
    "d_g = np.array([int(round(x)) for x in d_g])\n",
    "n_g = np.array([n_g_assumption * grades_data.shape[0]] * len(d_g))"
   ],
   "metadata": {
    "collapsed": false,
    "ExecuteTime": {
     "end_time": "2024-04-12T15:19:52.017258800Z",
     "start_time": "2024-04-12T15:19:51.880414700Z"
    }
   },
   "id": "adcad9aeb9ad781c"
  },
  {
   "cell_type": "code",
   "execution_count": 8,
   "outputs": [
    {
     "name": "stdout",
     "output_type": "stream",
     "text": [
      "Estimated parameters with method of moments for grade A: 0.4499803380652506 -3.274097580352716\n",
      "Estimated parameters with method of moments for grade BBB: 0.3133851305078121 -2.8865426119490847\n",
      "Estimated parameters with method of moments for grade BB: 0.34959246714062564 -2.3842278912651227\n",
      "Estimated parameters with method of moments for grade B: 0.3288445137084037 -1.728911139866942\n",
      "Estimated parameters with method of moments for grade CCC/C: 0.36077988602478867 -0.6770330266259245\n"
     ]
    }
   ],
   "source": [
    "MM_params = {}\n",
    "for grade in [\"A\", \"BBB\", \"BB\", \"B\", \"CCC/C\"]:\n",
    "    MM_params[grade] = estimate_w_factor_loading(grades_data[grade], n_g_over_time, initial_guess=0.45)\n",
    "    print(f\"Estimated parameters with method of moments for grade {grade}:\", MM_params[grade][0], norm.ppf(MM_params[grade][1]))\n",
    "\n",
    "MM_gammas = [norm.ppf(MM_params[grade][1]) for grade in [\"A\", \"BBB\", \"BB\", \"B\", \"CCC/C\"]]\n",
    "MM_ws = [MM_params[grade][0] for grade in [\"A\", \"BBB\", \"BB\", \"B\", \"CCC/C\"]]"
   ],
   "metadata": {
    "collapsed": false,
    "ExecuteTime": {
     "end_time": "2024-04-12T15:19:52.925516400Z",
     "start_time": "2024-04-12T15:19:52.206017700Z"
    }
   },
   "id": "8fb7d26ea7f5244a"
  },
  {
   "cell_type": "code",
   "execution_count": 14,
   "outputs": [
    {
     "name": "stderr",
     "output_type": "stream",
     "text": [
      "C:\\Users\\kissp\\PycharmProjects\\VasicekPDModell\\src\\ML_estimation.py:271: RuntimeWarning: divide by zero encountered in log\n",
      "  objective_function = lambda params: -np.log(calculate_variable_changed_likelihood_arr(\n"
     ]
    },
    {
     "name": "stdout",
     "output_type": "stream",
     "text": [
      "Estimated parameters with maximum likelihood method: [0.] [-2.77516819 -2.51686841 -1.81819665]\n",
      "Current function value: 14.126046167198819\n",
      "Estimated parameters with maximum likelihood method: [0.1] [-2.76128767 -2.50420115 -1.80907284]\n",
      "Current function value: 17.32613222730679\n",
      "Estimated parameters with maximum likelihood method: [0.2] [-2.71911474 -2.46595269 -1.78143632]\n",
      "Current function value: 18.034038948510027\n",
      "Estimated parameters with maximum likelihood method: [0.3] [-2.647421   -2.40093983 -1.73448903]\n",
      "Current function value: 18.466132338039767\n"
     ]
    },
    {
     "name": "stderr",
     "output_type": "stream",
     "text": [
      "C:\\Users\\kissp\\PycharmProjects\\VasicekPDModell\\src\\ML_estimation.py:213: IntegrationWarning: The integral is probably divergent, or slowly convergent.\n",
      "  result, _ = quad(integrand, -3, 3, epsabs=1.49e-28)\n"
     ]
    },
    {
     "name": "stdout",
     "output_type": "stream",
     "text": [
      "Estimated parameters with maximum likelihood method: [0.4] [-2.54358118 -2.30677081 -1.66646408]\n",
      "Current function value: 18.793795121156126\n",
      "Estimated parameters with maximum likelihood method: [0.5] [-2.4034316  -2.17966591 -1.57463297]\n",
      "Current function value: 19.07358420612712\n"
     ]
    }
   ],
   "source": [
    "n_g_input = [240000, 240000, 240000]\n",
    "d_g_input = [662, 1421, 8284]\n",
    "\n",
    "pd_list = [0.005, 0.0100, 0.0500]\n",
    "gamma_list = norm.ppf(pd_list)\n",
    "\n",
    "w_values = np.linspace(0.0, 0.5, 6)\n",
    "params_dict = {}\n",
    "\n",
    "for w in w_values:\n",
    "    ML_linear_estimation = ml_estimation_linear_with_w_and_g(d_g_input, n_g_input, np.array([w]), gamma_list, fixed_w=True)\n",
    "    params_dict[w] = (ML_linear_estimation[0], ML_linear_estimation[1], ML_linear_estimation[2].fun)\n",
    "    print(\"Estimated parameters with maximum likelihood method:\", ML_linear_estimation[0], ML_linear_estimation[1])\n",
    "    print(\"Current function value:\", ML_linear_estimation[2].fun)"
   ],
   "metadata": {
    "collapsed": false,
    "ExecuteTime": {
     "end_time": "2024-04-12T15:41:04.362829900Z",
     "start_time": "2024-04-12T15:37:17.244459700Z"
    }
   },
   "id": "b188416db4402267"
  },
  {
   "cell_type": "code",
   "execution_count": 15,
   "outputs": [
    {
     "data": {
      "text/plain": "51.32282976616954"
     },
     "execution_count": 15,
     "metadata": {},
     "output_type": "execute_result"
    }
   ],
   "source": [
    "-np.log(calculate_my_likelihood_arr(\n",
    "            d_g_input, n_g_input, p_g, norm.pdf, np.array([0.45]), gamma_list))"
   ],
   "metadata": {
    "collapsed": false,
    "ExecuteTime": {
     "start_time": "2024-04-12T15:42:19.560833800Z"
    }
   },
   "id": "a105885154ea2854"
  },
  {
   "cell_type": "code",
   "execution_count": 17,
   "outputs": [
    {
     "data": {
      "text/plain": "array([0.00275833, 0.00592083, 0.03451667])"
     },
     "execution_count": 17,
     "metadata": {},
     "output_type": "execute_result"
    }
   ],
   "source": [
    "pd_empirical = np.array(d_g_input) / np.array(n_g_input)\n",
    "\n",
    "pd_empirical"
   ],
   "metadata": {
    "collapsed": false,
    "ExecuteTime": {
     "start_time": "2024-04-12T15:44:25.741192400Z"
    }
   },
   "id": "d9495bb6e30d3c26"
  },
  {
   "cell_type": "code",
   "execution_count": 18,
   "outputs": [
    {
     "data": {
      "text/plain": "array([-2.77520651, -2.51682787, -1.81820155])"
     },
     "execution_count": 18,
     "metadata": {},
     "output_type": "execute_result"
    }
   ],
   "source": [
    "gamma_emp = norm.ppf(pd_empirical)\n",
    "gamma_emp"
   ],
   "metadata": {
    "collapsed": false,
    "ExecuteTime": {
     "start_time": "2024-04-12T15:44:44.673556500Z"
    }
   },
   "id": "7a2eaebd36b378db"
  },
  {
   "cell_type": "code",
   "execution_count": 20,
   "outputs": [
    {
     "data": {
      "text/plain": "14.126031592781969"
     },
     "execution_count": 20,
     "metadata": {},
     "output_type": "execute_result"
    }
   ],
   "source": [
    "-np.log(calculate_my_likelihood_arr(\n",
    "            d_g_input, n_g_input, p_g, norm.pdf, np.array([0]), gamma_emp))"
   ],
   "metadata": {
    "collapsed": false,
    "ExecuteTime": {
     "end_time": "2024-04-12T15:45:07.459274Z",
     "start_time": "2024-04-12T15:45:07.121666600Z"
    }
   },
   "id": "b2ed42b69a7cfc29"
  },
  {
   "cell_type": "code",
   "execution_count": null,
   "outputs": [],
   "source": [],
   "metadata": {
    "collapsed": false
   },
   "id": "43b97b7477082f69"
  },
  {
   "cell_type": "code",
   "execution_count": 6,
   "outputs": [
    {
     "name": "stdout",
     "output_type": "stream",
     "text": [
      "Estimated parameters with maximum likelihood method: [2.99572037e-06] [-3.27228543 -2.88614722 -2.38420376 -1.72887122 -0.67703704]\n",
      "Current function value: 22.117649760668396\n"
     ]
    }
   ],
   "source": [
    "gamma_init = np.array(MM_gammas)\n",
    "\n",
    "ML_linear_estimation = ml_estimation_linear_with_w_and_g(d_g, n_g, np.array([0.1]), gamma_init)\n",
    "print(\"Estimated parameters with maximum likelihood method:\", ML_linear_estimation[0], ML_linear_estimation[1])\n",
    "print(\"Current function value:\", ML_linear_estimation[2].fun)"
   ],
   "metadata": {
    "collapsed": false,
    "ExecuteTime": {
     "end_time": "2024-04-12T15:01:20.294001900Z",
     "start_time": "2024-04-12T15:00:11.633694100Z"
    }
   },
   "id": "6382644e2ffb921e"
  },
  {
   "cell_type": "code",
   "execution_count": null,
   "outputs": [],
   "source": [
    "ML_linear_estimation2 = ml_estimation_linear_with_w_and_g(d_g, n_g, np.array([0.1]), gamma_init)\n",
    "print(\"Estimated parameters with maximum likelihood method:\", ML_linear_estimation[0], ML_linear_estimation[1])\n",
    "print(\"Current function value:\", ML_linear_estimation[2].fun)"
   ],
   "metadata": {
    "collapsed": false
   },
   "id": "383e82dcdbb01ce0"
  },
  {
   "cell_type": "code",
   "execution_count": 11,
   "outputs": [
    {
     "data": {
      "text/plain": "array([-3.27409758, -2.88654261, -2.38422789, -1.72891114, -0.67703303])"
     },
     "execution_count": 11,
     "metadata": {},
     "output_type": "execute_result"
    }
   ],
   "source": [
    "gamma_init"
   ],
   "metadata": {
    "collapsed": false,
    "ExecuteTime": {
     "end_time": "2024-04-12T15:27:13.714824300Z",
     "start_time": "2024-04-12T15:27:13.567864300Z"
    }
   },
   "id": "ed9b34b840bb1ddc"
  },
  {
   "cell_type": "code",
   "execution_count": 12,
   "outputs": [
    {
     "name": "stdout",
     "output_type": "stream",
     "text": [
      "Estimated parameters with maximum likelihood method: [0.] [-3.27237659 -2.88615546 -2.38415936 -1.72886817 -0.67703777]\n",
      "Current function value: 22.117653241620282\n",
      "Estimated parameters with maximum likelihood method: [0.1] [-3.25591177 -2.87163158 -2.37220777 -1.7201529  -0.6735988 ]\n",
      "Current function value: 25.570851257135974\n",
      "Estimated parameters with maximum likelihood method: [0.2] [-3.16637104 -2.78811882 -2.29629282 -1.65421147 -0.62364431]\n",
      "Current function value: 26.29873363554884\n",
      "Estimated parameters with maximum likelihood method: [0.3] [-3.11885782 -2.75041162 -2.27159761 -1.64645764 -0.64306692]\n",
      "Current function value: 26.71118980150956\n",
      "Estimated parameters with maximum likelihood method: [0.4] [-3.03558021 -2.68163392 -2.22160378 -1.62097509 -0.65696757]\n",
      "Current function value: 27.042978196201616\n"
     ]
    },
    {
     "name": "stderr",
     "output_type": "stream",
     "text": [
      "C:\\Users\\kissp\\PycharmProjects\\VasicekPDModell\\src\\ML_estimation.py:271: RuntimeWarning: divide by zero encountered in log\n",
      "  objective_function = lambda params: -np.log(calculate_variable_changed_likelihood_arr(\n",
      "C:\\Users\\kissp\\PycharmProjects\\VasicekPDModell\\venv\\lib\\site-packages\\scipy\\optimize\\_optimize.py:941: RuntimeWarning: invalid value encountered in subtract\n",
      "  np.max(np.abs(fsim[0] - fsim[1:])) <= fatol):\n"
     ]
    },
    {
     "name": "stdout",
     "output_type": "stream",
     "text": [
      "Estimated parameters with maximum likelihood method: [0.5] [-3.1 -2.8 -2.3 -1.7 -0.6]\n",
      "Current function value: inf\n"
     ]
    }
   ],
   "source": [
    "w_values = np.linspace(0.0, 0.5, 6)\n",
    "params_dict = {}\n",
    "\n",
    "for w in w_values:\n",
    "    ML_linear_estimation = ml_estimation_linear_with_w_and_g(d_g, n_g, np.array([w]), np.array([-3.1, -2.8, -2.3, -1.7, -0.6]), fixed_w=True)\n",
    "    params_dict[w] = (ML_linear_estimation[0], ML_linear_estimation[1], ML_linear_estimation[2].fun)\n",
    "    print(\"Estimated parameters with maximum likelihood method:\", ML_linear_estimation[0], ML_linear_estimation[1])\n",
    "    print(\"Current function value:\", ML_linear_estimation[2].fun)"
   ],
   "metadata": {
    "collapsed": false,
    "ExecuteTime": {
     "end_time": "2024-04-12T15:30:58.914186700Z",
     "start_time": "2024-04-12T15:27:42.003907400Z"
    }
   },
   "id": "d922e60244eff096"
  },
  {
   "cell_type": "code",
   "execution_count": 10,
   "outputs": [
    {
     "name": "stdout",
     "output_type": "stream",
     "text": [
      "Estimated parameters with maximum likelihood method: [0.] [-3.27227738 -2.88609616 -2.38419554 -1.72886231 -0.67703054]\n",
      "Current function value: 22.117651533054275\n",
      "Estimated parameters with maximum likelihood method: [0.1] [-3.25597653 -2.87171535 -2.37228371 -1.72023518 -0.67367521]\n",
      "Current function value: 25.570850603318352\n",
      "Estimated parameters with maximum likelihood method: [0.2] [-3.20618881 -2.82780797 -2.33599977 -1.69391238 -0.66333072]\n",
      "Current function value: 26.27900619369894\n"
     ]
    },
    {
     "ename": "KeyboardInterrupt",
     "evalue": "",
     "output_type": "error",
     "traceback": [
      "\u001B[1;31m---------------------------------------------------------------------------\u001B[0m",
      "\u001B[1;31mKeyboardInterrupt\u001B[0m                         Traceback (most recent call last)",
      "Cell \u001B[1;32mIn[10], line 5\u001B[0m\n\u001B[0;32m      2\u001B[0m params_dict \u001B[38;5;241m=\u001B[39m {}\n\u001B[0;32m      4\u001B[0m \u001B[38;5;28;01mfor\u001B[39;00m w \u001B[38;5;129;01min\u001B[39;00m w_values:\n\u001B[1;32m----> 5\u001B[0m     ML_linear_estimation \u001B[38;5;241m=\u001B[39m \u001B[43mml_estimation_linear_with_w_and_g\u001B[49m\u001B[43m(\u001B[49m\u001B[43md_g\u001B[49m\u001B[43m,\u001B[49m\u001B[43m \u001B[49m\u001B[43mn_g\u001B[49m\u001B[43m,\u001B[49m\u001B[43m \u001B[49m\u001B[43mnp\u001B[49m\u001B[38;5;241;43m.\u001B[39;49m\u001B[43marray\u001B[49m\u001B[43m(\u001B[49m\u001B[43m[\u001B[49m\u001B[43mw\u001B[49m\u001B[43m]\u001B[49m\u001B[43m)\u001B[49m\u001B[43m,\u001B[49m\u001B[43m \u001B[49m\u001B[43mgamma_init\u001B[49m\u001B[43m,\u001B[49m\u001B[43m \u001B[49m\u001B[43mfixed_w\u001B[49m\u001B[38;5;241;43m=\u001B[39;49m\u001B[38;5;28;43;01mTrue\u001B[39;49;00m\u001B[43m)\u001B[49m\n\u001B[0;32m      6\u001B[0m     params_dict[w] \u001B[38;5;241m=\u001B[39m (ML_linear_estimation[\u001B[38;5;241m0\u001B[39m], ML_linear_estimation[\u001B[38;5;241m1\u001B[39m], ML_linear_estimation[\u001B[38;5;241m2\u001B[39m]\u001B[38;5;241m.\u001B[39mfun)\n\u001B[0;32m      7\u001B[0m     \u001B[38;5;28mprint\u001B[39m(\u001B[38;5;124m\"\u001B[39m\u001B[38;5;124mEstimated parameters with maximum likelihood method:\u001B[39m\u001B[38;5;124m\"\u001B[39m, ML_linear_estimation[\u001B[38;5;241m0\u001B[39m], ML_linear_estimation[\u001B[38;5;241m1\u001B[39m])\n",
      "File \u001B[1;32m~\\PycharmProjects\\VasicekPDModell\\src\\ML_estimation.py:275\u001B[0m, in \u001B[0;36mml_estimation_linear_with_w_and_g\u001B[1;34m(default_list, num_of_obligors_over_time, factor_loading_init, gamma_list_init, fixed_w, fixed_g)\u001B[0m\n\u001B[0;32m    270\u001B[0m \u001B[38;5;28;01melif\u001B[39;00m fixed_w:\n\u001B[0;32m    271\u001B[0m     objective_function \u001B[38;5;241m=\u001B[39m \u001B[38;5;28;01mlambda\u001B[39;00m params: \u001B[38;5;241m-\u001B[39mnp\u001B[38;5;241m.\u001B[39mlog(calculate_variable_changed_likelihood_arr(\n\u001B[0;32m    272\u001B[0m         default_list, num_of_obligors_over_time, p_g, norm\u001B[38;5;241m.\u001B[39mpdf, a_init, params\n\u001B[0;32m    273\u001B[0m     ))\n\u001B[1;32m--> 275\u001B[0m     result \u001B[38;5;241m=\u001B[39m \u001B[43mminimize\u001B[49m\u001B[43m(\u001B[49m\u001B[43mobjective_function\u001B[49m\u001B[43m,\u001B[49m\n\u001B[0;32m    276\u001B[0m \u001B[43m                      \u001B[49m\u001B[43mb_init\u001B[49m\u001B[43m,\u001B[49m\n\u001B[0;32m    277\u001B[0m \u001B[43m                      \u001B[49m\u001B[43mmethod\u001B[49m\u001B[38;5;241;43m=\u001B[39;49m\u001B[38;5;124;43m\"\u001B[39;49m\u001B[38;5;124;43mNelder-Mead\u001B[39;49m\u001B[38;5;124;43m\"\u001B[39;49m\u001B[43m,\u001B[49m\n\u001B[0;32m    278\u001B[0m \u001B[43m                      \u001B[49m\u001B[43mbounds\u001B[49m\u001B[38;5;241;43m=\u001B[39;49m\u001B[43mbounds\u001B[49m\u001B[43m[\u001B[49m\u001B[43mnum_of_a\u001B[49m\u001B[43m:\u001B[49m\u001B[43m]\u001B[49m\u001B[43m,\u001B[49m\n\u001B[0;32m    279\u001B[0m \u001B[43m                      \u001B[49m\u001B[43moptions\u001B[49m\u001B[38;5;241;43m=\u001B[39;49m\u001B[43m{\u001B[49m\n\u001B[0;32m    280\u001B[0m \u001B[43m                          \u001B[49m\u001B[38;5;124;43m'\u001B[39;49m\u001B[38;5;124;43mdisp\u001B[39;49m\u001B[38;5;124;43m'\u001B[39;49m\u001B[43m:\u001B[49m\u001B[43m \u001B[49m\u001B[38;5;28;43;01mFalse\u001B[39;49;00m\u001B[43m}\u001B[49m\u001B[43m)\u001B[49m\n\u001B[0;32m    282\u001B[0m     factor_loading_result \u001B[38;5;241m=\u001B[39m np\u001B[38;5;241m.\u001B[39marray(w_calc_func(a_init, result\u001B[38;5;241m.\u001B[39mx))\n\u001B[0;32m    283\u001B[0m     gamma_result \u001B[38;5;241m=\u001B[39m np\u001B[38;5;241m.\u001B[39marray(gamma_calc_func(a_init, result\u001B[38;5;241m.\u001B[39mx))\n",
      "File \u001B[1;32m~\\PycharmProjects\\VasicekPDModell\\venv\\lib\\site-packages\\scipy\\optimize\\_minimize.py:701\u001B[0m, in \u001B[0;36mminimize\u001B[1;34m(fun, x0, args, method, jac, hess, hessp, bounds, constraints, tol, callback, options)\u001B[0m\n\u001B[0;32m    698\u001B[0m callback \u001B[38;5;241m=\u001B[39m _wrap_callback(callback, meth)\n\u001B[0;32m    700\u001B[0m \u001B[38;5;28;01mif\u001B[39;00m meth \u001B[38;5;241m==\u001B[39m \u001B[38;5;124m'\u001B[39m\u001B[38;5;124mnelder-mead\u001B[39m\u001B[38;5;124m'\u001B[39m:\n\u001B[1;32m--> 701\u001B[0m     res \u001B[38;5;241m=\u001B[39m _minimize_neldermead(fun, x0, args, callback, bounds\u001B[38;5;241m=\u001B[39mbounds,\n\u001B[0;32m    702\u001B[0m                                \u001B[38;5;241m*\u001B[39m\u001B[38;5;241m*\u001B[39moptions)\n\u001B[0;32m    703\u001B[0m \u001B[38;5;28;01melif\u001B[39;00m meth \u001B[38;5;241m==\u001B[39m \u001B[38;5;124m'\u001B[39m\u001B[38;5;124mpowell\u001B[39m\u001B[38;5;124m'\u001B[39m:\n\u001B[0;32m    704\u001B[0m     res \u001B[38;5;241m=\u001B[39m _minimize_powell(fun, x0, args, callback, bounds, \u001B[38;5;241m*\u001B[39m\u001B[38;5;241m*\u001B[39moptions)\n",
      "File \u001B[1;32m~\\PycharmProjects\\VasicekPDModell\\venv\\lib\\site-packages\\scipy\\optimize\\_optimize.py:948\u001B[0m, in \u001B[0;36m_minimize_neldermead\u001B[1;34m(func, x0, args, callback, maxiter, maxfev, disp, return_all, initial_simplex, xatol, fatol, adaptive, bounds, **unknown_options)\u001B[0m\n\u001B[0;32m    946\u001B[0m \u001B[38;5;28;01mif\u001B[39;00m bounds \u001B[38;5;129;01mis\u001B[39;00m \u001B[38;5;129;01mnot\u001B[39;00m \u001B[38;5;28;01mNone\u001B[39;00m:\n\u001B[0;32m    947\u001B[0m     xr \u001B[38;5;241m=\u001B[39m np\u001B[38;5;241m.\u001B[39mclip(xr, lower_bound, upper_bound)\n\u001B[1;32m--> 948\u001B[0m fxr \u001B[38;5;241m=\u001B[39m \u001B[43mfunc\u001B[49m\u001B[43m(\u001B[49m\u001B[43mxr\u001B[49m\u001B[43m)\u001B[49m\n\u001B[0;32m    949\u001B[0m doshrink \u001B[38;5;241m=\u001B[39m \u001B[38;5;241m0\u001B[39m\n\u001B[0;32m    951\u001B[0m \u001B[38;5;28;01mif\u001B[39;00m fxr \u001B[38;5;241m<\u001B[39m fsim[\u001B[38;5;241m0\u001B[39m]:\n",
      "File \u001B[1;32m~\\PycharmProjects\\VasicekPDModell\\venv\\lib\\site-packages\\scipy\\optimize\\_optimize.py:640\u001B[0m, in \u001B[0;36m_wrap_scalar_function_maxfun_validation.<locals>.function_wrapper\u001B[1;34m(x, *wrapper_args)\u001B[0m\n\u001B[0;32m    638\u001B[0m ncalls[\u001B[38;5;241m0\u001B[39m] \u001B[38;5;241m+\u001B[39m\u001B[38;5;241m=\u001B[39m \u001B[38;5;241m1\u001B[39m\n\u001B[0;32m    639\u001B[0m \u001B[38;5;66;03m# A copy of x is sent to the user function (gh13740)\u001B[39;00m\n\u001B[1;32m--> 640\u001B[0m fx \u001B[38;5;241m=\u001B[39m \u001B[43mfunction\u001B[49m\u001B[43m(\u001B[49m\u001B[43mnp\u001B[49m\u001B[38;5;241;43m.\u001B[39;49m\u001B[43mcopy\u001B[49m\u001B[43m(\u001B[49m\u001B[43mx\u001B[49m\u001B[43m)\u001B[49m\u001B[43m,\u001B[49m\u001B[43m \u001B[49m\u001B[38;5;241;43m*\u001B[39;49m\u001B[43m(\u001B[49m\u001B[43mwrapper_args\u001B[49m\u001B[43m \u001B[49m\u001B[38;5;241;43m+\u001B[39;49m\u001B[43m \u001B[49m\u001B[43margs\u001B[49m\u001B[43m)\u001B[49m\u001B[43m)\u001B[49m\n\u001B[0;32m    641\u001B[0m \u001B[38;5;66;03m# Ideally, we'd like to a have a true scalar returned from f(x). For\u001B[39;00m\n\u001B[0;32m    642\u001B[0m \u001B[38;5;66;03m# backwards-compatibility, also allow np.array([1.3]),\u001B[39;00m\n\u001B[0;32m    643\u001B[0m \u001B[38;5;66;03m# np.array([[1.3]]) etc.\u001B[39;00m\n\u001B[0;32m    644\u001B[0m \u001B[38;5;28;01mif\u001B[39;00m \u001B[38;5;129;01mnot\u001B[39;00m np\u001B[38;5;241m.\u001B[39misscalar(fx):\n",
      "File \u001B[1;32m~\\PycharmProjects\\VasicekPDModell\\src\\ML_estimation.py:271\u001B[0m, in \u001B[0;36mml_estimation_linear_with_w_and_g.<locals>.<lambda>\u001B[1;34m(params)\u001B[0m\n\u001B[0;32m    268\u001B[0m     gamma_result \u001B[38;5;241m=\u001B[39m np\u001B[38;5;241m.\u001B[39marray(gamma_calc_func(np\u001B[38;5;241m.\u001B[39marray(result\u001B[38;5;241m.\u001B[39mx[:num_of_a]), np\u001B[38;5;241m.\u001B[39marray(result\u001B[38;5;241m.\u001B[39mx[num_of_a:])))\n\u001B[0;32m    270\u001B[0m \u001B[38;5;28;01melif\u001B[39;00m fixed_w:\n\u001B[1;32m--> 271\u001B[0m     objective_function \u001B[38;5;241m=\u001B[39m \u001B[38;5;28;01mlambda\u001B[39;00m params: \u001B[38;5;241m-\u001B[39mnp\u001B[38;5;241m.\u001B[39mlog(\u001B[43mcalculate_variable_changed_likelihood_arr\u001B[49m\u001B[43m(\u001B[49m\n\u001B[0;32m    272\u001B[0m \u001B[43m        \u001B[49m\u001B[43mdefault_list\u001B[49m\u001B[43m,\u001B[49m\u001B[43m \u001B[49m\u001B[43mnum_of_obligors_over_time\u001B[49m\u001B[43m,\u001B[49m\u001B[43m \u001B[49m\u001B[43mp_g\u001B[49m\u001B[43m,\u001B[49m\u001B[43m \u001B[49m\u001B[43mnorm\u001B[49m\u001B[38;5;241;43m.\u001B[39;49m\u001B[43mpdf\u001B[49m\u001B[43m,\u001B[49m\u001B[43m \u001B[49m\u001B[43ma_init\u001B[49m\u001B[43m,\u001B[49m\u001B[43m \u001B[49m\u001B[43mparams\u001B[49m\n\u001B[0;32m    273\u001B[0m \u001B[43m    \u001B[49m\u001B[43m)\u001B[49m)\n\u001B[0;32m    275\u001B[0m     result \u001B[38;5;241m=\u001B[39m minimize(objective_function,\n\u001B[0;32m    276\u001B[0m                       b_init,\n\u001B[0;32m    277\u001B[0m                       method\u001B[38;5;241m=\u001B[39m\u001B[38;5;124m\"\u001B[39m\u001B[38;5;124mNelder-Mead\u001B[39m\u001B[38;5;124m\"\u001B[39m,\n\u001B[0;32m    278\u001B[0m                       bounds\u001B[38;5;241m=\u001B[39mbounds[num_of_a:],\n\u001B[0;32m    279\u001B[0m                       options\u001B[38;5;241m=\u001B[39m{\n\u001B[0;32m    280\u001B[0m                           \u001B[38;5;124m'\u001B[39m\u001B[38;5;124mdisp\u001B[39m\u001B[38;5;124m'\u001B[39m: \u001B[38;5;28;01mFalse\u001B[39;00m})\n\u001B[0;32m    282\u001B[0m     factor_loading_result \u001B[38;5;241m=\u001B[39m np\u001B[38;5;241m.\u001B[39marray(w_calc_func(a_init, result\u001B[38;5;241m.\u001B[39mx))\n",
      "File \u001B[1;32m~\\PycharmProjects\\VasicekPDModell\\src\\ML_estimation.py:213\u001B[0m, in \u001B[0;36mcalculate_variable_changed_likelihood_arr\u001B[1;34m(d_g_arr, n_g_arr, p_g, prob_dens_func, a, b)\u001B[0m\n\u001B[0;32m    210\u001B[0m \u001B[38;5;28;01mdef\u001B[39;00m \u001B[38;5;21mcalculate_variable_changed_likelihood_arr\u001B[39m(d_g_arr, n_g_arr, p_g, prob_dens_func, a, b):\n\u001B[0;32m    211\u001B[0m     integrand \u001B[38;5;241m=\u001B[39m \u001B[38;5;28;01mlambda\u001B[39;00m x: np\u001B[38;5;241m.\u001B[39mprod(binom\u001B[38;5;241m.\u001B[39mpmf(d_g_arr, n_g_arr, norm\u001B[38;5;241m.\u001B[39mcdf(a\u001B[38;5;241m*\u001B[39mx\u001B[38;5;241m+\u001B[39mb))) \u001B[38;5;241m*\u001B[39m prob_dens_func(x)\n\u001B[1;32m--> 213\u001B[0m     result, _ \u001B[38;5;241m=\u001B[39m \u001B[43mquad\u001B[49m\u001B[43m(\u001B[49m\u001B[43mintegrand\u001B[49m\u001B[43m,\u001B[49m\u001B[43m \u001B[49m\u001B[38;5;241;43m-\u001B[39;49m\u001B[38;5;241;43m3\u001B[39;49m\u001B[43m,\u001B[49m\u001B[43m \u001B[49m\u001B[38;5;241;43m3\u001B[39;49m\u001B[43m,\u001B[49m\u001B[43m \u001B[49m\u001B[43mepsabs\u001B[49m\u001B[38;5;241;43m=\u001B[39;49m\u001B[38;5;241;43m1.49e-28\u001B[39;49m\u001B[43m)\u001B[49m\n\u001B[0;32m    215\u001B[0m     \u001B[38;5;28;01mreturn\u001B[39;00m result\n",
      "File \u001B[1;32m~\\PycharmProjects\\VasicekPDModell\\venv\\lib\\site-packages\\scipy\\integrate\\_quadpack_py.py:464\u001B[0m, in \u001B[0;36mquad\u001B[1;34m(func, a, b, args, full_output, epsabs, epsrel, limit, points, weight, wvar, wopts, maxp1, limlst, complex_func)\u001B[0m\n\u001B[0;32m    461\u001B[0m     \u001B[38;5;28;01mreturn\u001B[39;00m retval\n\u001B[0;32m    463\u001B[0m \u001B[38;5;28;01mif\u001B[39;00m weight \u001B[38;5;129;01mis\u001B[39;00m \u001B[38;5;28;01mNone\u001B[39;00m:\n\u001B[1;32m--> 464\u001B[0m     retval \u001B[38;5;241m=\u001B[39m \u001B[43m_quad\u001B[49m\u001B[43m(\u001B[49m\u001B[43mfunc\u001B[49m\u001B[43m,\u001B[49m\u001B[43m \u001B[49m\u001B[43ma\u001B[49m\u001B[43m,\u001B[49m\u001B[43m \u001B[49m\u001B[43mb\u001B[49m\u001B[43m,\u001B[49m\u001B[43m \u001B[49m\u001B[43margs\u001B[49m\u001B[43m,\u001B[49m\u001B[43m \u001B[49m\u001B[43mfull_output\u001B[49m\u001B[43m,\u001B[49m\u001B[43m \u001B[49m\u001B[43mepsabs\u001B[49m\u001B[43m,\u001B[49m\u001B[43m \u001B[49m\u001B[43mepsrel\u001B[49m\u001B[43m,\u001B[49m\u001B[43m \u001B[49m\u001B[43mlimit\u001B[49m\u001B[43m,\u001B[49m\n\u001B[0;32m    465\u001B[0m \u001B[43m                   \u001B[49m\u001B[43mpoints\u001B[49m\u001B[43m)\u001B[49m\n\u001B[0;32m    466\u001B[0m \u001B[38;5;28;01melse\u001B[39;00m:\n\u001B[0;32m    467\u001B[0m     \u001B[38;5;28;01mif\u001B[39;00m points \u001B[38;5;129;01mis\u001B[39;00m \u001B[38;5;129;01mnot\u001B[39;00m \u001B[38;5;28;01mNone\u001B[39;00m:\n",
      "File \u001B[1;32m~\\PycharmProjects\\VasicekPDModell\\venv\\lib\\site-packages\\scipy\\integrate\\_quadpack_py.py:611\u001B[0m, in \u001B[0;36m_quad\u001B[1;34m(func, a, b, args, full_output, epsabs, epsrel, limit, points)\u001B[0m\n\u001B[0;32m    609\u001B[0m \u001B[38;5;28;01mif\u001B[39;00m points \u001B[38;5;129;01mis\u001B[39;00m \u001B[38;5;28;01mNone\u001B[39;00m:\n\u001B[0;32m    610\u001B[0m     \u001B[38;5;28;01mif\u001B[39;00m infbounds \u001B[38;5;241m==\u001B[39m \u001B[38;5;241m0\u001B[39m:\n\u001B[1;32m--> 611\u001B[0m         \u001B[38;5;28;01mreturn\u001B[39;00m \u001B[43m_quadpack\u001B[49m\u001B[38;5;241;43m.\u001B[39;49m\u001B[43m_qagse\u001B[49m\u001B[43m(\u001B[49m\u001B[43mfunc\u001B[49m\u001B[43m,\u001B[49m\u001B[43ma\u001B[49m\u001B[43m,\u001B[49m\u001B[43mb\u001B[49m\u001B[43m,\u001B[49m\u001B[43margs\u001B[49m\u001B[43m,\u001B[49m\u001B[43mfull_output\u001B[49m\u001B[43m,\u001B[49m\u001B[43mepsabs\u001B[49m\u001B[43m,\u001B[49m\u001B[43mepsrel\u001B[49m\u001B[43m,\u001B[49m\u001B[43mlimit\u001B[49m\u001B[43m)\u001B[49m\n\u001B[0;32m    612\u001B[0m     \u001B[38;5;28;01melse\u001B[39;00m:\n\u001B[0;32m    613\u001B[0m         \u001B[38;5;28;01mreturn\u001B[39;00m _quadpack\u001B[38;5;241m.\u001B[39m_qagie(func, bound, infbounds, args, full_output, \n\u001B[0;32m    614\u001B[0m                                 epsabs, epsrel, limit)\n",
      "File \u001B[1;32m~\\PycharmProjects\\VasicekPDModell\\src\\ML_estimation.py:211\u001B[0m, in \u001B[0;36mcalculate_variable_changed_likelihood_arr.<locals>.<lambda>\u001B[1;34m(x)\u001B[0m\n\u001B[0;32m    210\u001B[0m \u001B[38;5;28;01mdef\u001B[39;00m \u001B[38;5;21mcalculate_variable_changed_likelihood_arr\u001B[39m(d_g_arr, n_g_arr, p_g, prob_dens_func, a, b):\n\u001B[1;32m--> 211\u001B[0m     integrand \u001B[38;5;241m=\u001B[39m \u001B[38;5;28;01mlambda\u001B[39;00m x: np\u001B[38;5;241m.\u001B[39mprod(binom\u001B[38;5;241m.\u001B[39mpmf(d_g_arr, n_g_arr, norm\u001B[38;5;241m.\u001B[39mcdf(a\u001B[38;5;241m*\u001B[39mx\u001B[38;5;241m+\u001B[39mb))) \u001B[38;5;241m*\u001B[39m \u001B[43mprob_dens_func\u001B[49m\u001B[43m(\u001B[49m\u001B[43mx\u001B[49m\u001B[43m)\u001B[49m\n\u001B[0;32m    213\u001B[0m     result, _ \u001B[38;5;241m=\u001B[39m quad(integrand, \u001B[38;5;241m-\u001B[39m\u001B[38;5;241m3\u001B[39m, \u001B[38;5;241m3\u001B[39m, epsabs\u001B[38;5;241m=\u001B[39m\u001B[38;5;241m1.49e-28\u001B[39m)\n\u001B[0;32m    215\u001B[0m     \u001B[38;5;28;01mreturn\u001B[39;00m result\n",
      "File \u001B[1;32m~\\PycharmProjects\\VasicekPDModell\\venv\\lib\\site-packages\\scipy\\stats\\_distn_infrastructure.py:1991\u001B[0m, in \u001B[0;36mrv_continuous.pdf\u001B[1;34m(self, x, *args, **kwds)\u001B[0m\n\u001B[0;32m   1989\u001B[0m cond \u001B[38;5;241m=\u001B[39m cond0 \u001B[38;5;241m&\u001B[39m cond1\n\u001B[0;32m   1990\u001B[0m output \u001B[38;5;241m=\u001B[39m zeros(shape(cond), dtyp)\n\u001B[1;32m-> 1991\u001B[0m \u001B[43mputmask\u001B[49m\u001B[43m(\u001B[49m\u001B[43moutput\u001B[49m\u001B[43m,\u001B[49m\u001B[43m \u001B[49m\u001B[43m(\u001B[49m\u001B[38;5;241;43m1\u001B[39;49m\u001B[38;5;241;43m-\u001B[39;49m\u001B[43mcond0\u001B[49m\u001B[43m)\u001B[49m\u001B[38;5;241;43m+\u001B[39;49m\u001B[43mnp\u001B[49m\u001B[38;5;241;43m.\u001B[39;49m\u001B[43misnan\u001B[49m\u001B[43m(\u001B[49m\u001B[43mx\u001B[49m\u001B[43m)\u001B[49m\u001B[43m,\u001B[49m\u001B[43m \u001B[49m\u001B[38;5;28;43mself\u001B[39;49m\u001B[38;5;241;43m.\u001B[39;49m\u001B[43mbadvalue\u001B[49m\u001B[43m)\u001B[49m\n\u001B[0;32m   1992\u001B[0m \u001B[38;5;28;01mif\u001B[39;00m np\u001B[38;5;241m.\u001B[39many(cond):\n\u001B[0;32m   1993\u001B[0m     goodargs \u001B[38;5;241m=\u001B[39m argsreduce(cond, \u001B[38;5;241m*\u001B[39m((x,)\u001B[38;5;241m+\u001B[39margs\u001B[38;5;241m+\u001B[39m(scale,)))\n",
      "\u001B[1;31mKeyboardInterrupt\u001B[0m: "
     ]
    }
   ],
   "source": [
    "w_values = np.linspace(0.0, 0.5, 6)\n",
    "params_dict = {}\n",
    "\n",
    "for w in w_values:\n",
    "    ML_linear_estimation = ml_estimation_linear_with_w_and_g(d_g, n_g, np.array([w]), gamma_init, fixed_w=True)\n",
    "    params_dict[w] = (ML_linear_estimation[0], ML_linear_estimation[1], ML_linear_estimation[2].fun)\n",
    "    print(\"Estimated parameters with maximum likelihood method:\", ML_linear_estimation[0], ML_linear_estimation[1])\n",
    "    print(\"Current function value:\", ML_linear_estimation[2].fun)"
   ],
   "metadata": {
    "collapsed": false,
    "ExecuteTime": {
     "end_time": "2024-04-12T15:26:58.922404300Z",
     "start_time": "2024-04-12T15:22:33.941873400Z"
    }
   },
   "id": "2bcab74f538ecb38"
  },
  {
   "cell_type": "code",
   "execution_count": null,
   "outputs": [],
   "source": [
    "#Make plot of the function value for different w values\n",
    "function_values = [params_dict[w][2] for w in w_values]\n",
    "\n",
    "plt.plot(w_values, function_values)\n",
    "plt.xlabel(\"w\")\n",
    "plt.ylabel(\"Function value\")\n",
    "plt.title(\"Function value for different w values\")\n",
    "plt.show()"
   ],
   "metadata": {
    "collapsed": false
   },
   "id": "42b816479898eb1a"
  },
  {
   "cell_type": "code",
   "execution_count": null,
   "outputs": [],
   "source": [],
   "metadata": {
    "collapsed": false
   },
   "id": "60659a02b16ee95b"
  },
  {
   "cell_type": "code",
   "execution_count": 4,
   "outputs": [
    {
     "name": "stdout",
     "output_type": "stream",
     "text": [
      "Estimated parameters with maximum likelihood method: [ 0.19944905  0.06233111  0.02654434 -0.008197   -0.00035492] [-3.31982403 -2.91518947 -2.39704222 -1.72447598 -0.67705091]\n",
      "Current function value: 24.232818680568467\n"
     ]
    }
   ],
   "source": [
    "gamma_init = np.array(MM_gammas)\n",
    "\n",
    "ML_linear_estimation = ml_estimation_linear_with_w_and_g(d_g, n_g, np.array([0.1]), gamma_init)\n",
    "print(\"Estimated parameters with maximum likelihood method:\", ML_linear_estimation[0], ML_linear_estimation[1])\n",
    "print(\"Current function value:\", ML_linear_estimation[2].fun)"
   ],
   "metadata": {
    "collapsed": false,
    "ExecuteTime": {
     "start_time": "2024-04-12T14:54:15.163683300Z"
    }
   },
   "id": "71bd4d4f19ad5f60"
  },
  {
   "cell_type": "code",
   "execution_count": 5,
   "outputs": [
    {
     "data": {
      "text/plain": "array([-3.27409758, -2.88654261, -2.38422789, -1.72891114, -0.67703303])"
     },
     "execution_count": 5,
     "metadata": {},
     "output_type": "execute_result"
    }
   ],
   "source": [
    "gamma_init"
   ],
   "metadata": {
    "collapsed": false,
    "ExecuteTime": {
     "end_time": "2024-04-12T14:57:34.835992500Z",
     "start_time": "2024-04-12T14:57:34.811991100Z"
    }
   },
   "id": "17a6129fedc7bb8e"
  },
  {
   "cell_type": "code",
   "execution_count": null,
   "outputs": [],
   "source": [
    "ML_linear_estimation = ml_estimation_linear_with_w_and_g(d_g, n_g, np.array([0.1]), gamma_init)\n",
    "print(\"Estimated parameters with maximum likelihood method:\", ML_linear_estimation[0], ML_linear_estimation[1])\n",
    "print(\"Current function value:\", ML_linear_estimation[2].fun)"
   ],
   "metadata": {
    "collapsed": false
   },
   "id": "bfaab35f792e8669"
  },
  {
   "cell_type": "code",
   "execution_count": null,
   "outputs": [],
   "source": [],
   "metadata": {
    "collapsed": false
   },
   "id": "8a49e73546d83ab9"
  }
 ],
 "metadata": {
  "kernelspec": {
   "name": "python3",
   "language": "python",
   "display_name": "Python 3 (ipykernel)"
  },
  "language_info": {
   "codemirror_mode": {
    "name": "ipython",
    "version": 2
   },
   "file_extension": ".py",
   "mimetype": "text/x-python",
   "name": "python",
   "nbconvert_exporter": "python",
   "pygments_lexer": "ipython2",
   "version": "2.7.6"
  }
 },
 "nbformat": 4,
 "nbformat_minor": 5
}
