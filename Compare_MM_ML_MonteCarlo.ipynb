{
 "cells": [
  {
   "cell_type": "code",
   "execution_count": 1,
   "outputs": [],
   "source": [
    "import pandas as pd\n",
    "import numpy as np\n",
    "from scipy.stats import norm, binom\n",
    "from scipy import stats"
   ],
   "metadata": {
    "collapsed": false,
    "ExecuteTime": {
     "end_time": "2024-03-28T18:54:16.620709600Z",
     "start_time": "2024-03-28T18:54:16.608707500Z"
    }
   },
   "id": "6abe2450acf61b47"
  },
  {
   "cell_type": "code",
   "execution_count": 2,
   "outputs": [],
   "source": [
    "from src.MM_estimation import calc_variance_of_default_rate\n",
    "from src.MM_estimation import estimate_w_factor_loading\n",
    "from src.ML_estimation import calculate_my_likelihood\n",
    "from src.ML_estimation import calculate_my_likelihood_arr\n",
    "from src.ML_estimation import maximum_likelihood_estimation\n",
    "from src.monte_carlo import monte_carlo_MLE, expected_value_of_function_monte_carlo, likelihood_mc\n",
    "from src.sucess_probability import p_g"
   ],
   "metadata": {
    "collapsed": false,
    "ExecuteTime": {
     "end_time": "2024-03-28T18:54:16.645710800Z",
     "start_time": "2024-03-28T18:54:16.618711800Z"
    }
   },
   "id": "initial_id"
  },
  {
   "cell_type": "code",
   "execution_count": 3,
   "outputs": [],
   "source": [
    "df = pd.read_csv('SP_historical_PD_data.csv', sep=';')\n",
    "df[\"pd_total\"] = df[\"Default rate (%)\"] / 100\n",
    "df[\"pd_inv\"] = df[\"Investment-grade default rate (%)\"] / 100\n",
    "df[\"pd_spec\"] = df[\"Speculative-grade default rate (%)\"] / 100\n",
    "# Calculate the number of obligors\n",
    "df['num_of_inv_grades'] = (df['Investment-grade defaults'] / (df[\"pd_inv\"])).round()\n",
    "df['num_of_spec_grades'] = (\n",
    "            df['Speculative-grade defaults'] / (df[\"pd_spec\"])).round().astype(int)\n",
    "df['num_of_total_grades'] = (df['Total defaults*'] / (df[\"pd_total\"])).round().astype(int)\n",
    "\n",
    "# Fill-out the missing values in num_of_inv_grades column with the difference between num_of_total_grades and num_of_spec_grades\n",
    "df['num_of_inv_grades'] = np.where(df['num_of_inv_grades'].isna(), df['num_of_total_grades'] - df['num_of_spec_grades'],\n",
    "                                   df['num_of_inv_grades']).astype(int)"
   ],
   "metadata": {
    "collapsed": false,
    "ExecuteTime": {
     "end_time": "2024-03-27T20:30:11.483221400Z",
     "start_time": "2024-03-27T20:30:11.450216900Z"
    }
   },
   "id": "348be9cfc40175da"
  },
  {
   "cell_type": "code",
   "execution_count": 4,
   "outputs": [
    {
     "name": "stdout",
     "output_type": "stream",
     "text": [
      "Estimated parameters for speculative grade:  0.07602889962521624 -1.7498743361043698\n"
     ]
    }
   ],
   "source": [
    "# MM for speculative grade\n",
    "MM_params = estimate_w_factor_loading(df[\"pd_spec\"], df[\"num_of_spec_grades\"], initial_guess=0.27)\n",
    "print(\"Estimated parameters for speculative grade: \", MM_params[0], norm.ppf(MM_params[1]))"
   ],
   "metadata": {
    "collapsed": false,
    "ExecuteTime": {
     "end_time": "2024-03-27T20:30:11.619627200Z",
     "start_time": "2024-03-27T20:30:11.480223200Z"
    }
   },
   "id": "9dbf66527f6d6c68"
  },
  {
   "cell_type": "code",
   "execution_count": 5,
   "outputs": [
    {
     "name": "stdout",
     "output_type": "stream",
     "text": [
      "Estimated parameters for speculative grade:  (0.0, -1.78533136062324)\n"
     ]
    }
   ],
   "source": [
    "# ML for speculative grade\n",
    "ML_params = maximum_likelihood_estimation(df[\"Speculative-grade defaults\"], df[\"num_of_spec_grades\"], norm.pdf, p_g, 0.27, -2, [(0, 1), (-np.inf, np.inf)])\n",
    "print(\"Estimated parameters for speculative grade: \", ML_params)"
   ],
   "metadata": {
    "collapsed": false,
    "ExecuteTime": {
     "end_time": "2024-03-27T20:30:15.120275200Z",
     "start_time": "2024-03-27T20:30:11.602630200Z"
    }
   },
   "id": "26ca071a98705fa8"
  },
  {
   "cell_type": "code",
   "execution_count": 6,
   "outputs": [
    {
     "name": "stdout",
     "output_type": "stream",
     "text": [
      "Estimated parameters for speculative grade:  [ 0.28771878 -1.72499994]\n"
     ]
    }
   ],
   "source": [
    "Monte_carlo_params = monte_carlo_MLE([df[\"Speculative-grade defaults\"].sum()], [df[\"num_of_spec_grades\"].sum()], p_g, [0.27], [-2], [(0, 1), (-np.inf, np.inf)], num_of_simulations=10000)\n",
    "print(\"Estimated parameters for speculative grade: \", Monte_carlo_params.x)"
   ],
   "metadata": {
    "collapsed": false,
    "ExecuteTime": {
     "end_time": "2024-03-27T20:30:16.579405200Z",
     "start_time": "2024-03-27T20:30:15.116277Z"
    }
   },
   "id": "ebd8b817908247be"
  },
  {
   "cell_type": "code",
   "execution_count": 3,
   "outputs": [
    {
     "data": {
      "text/plain": "0.0008893194009710714"
     },
     "execution_count": 3,
     "metadata": {},
     "output_type": "execute_result"
    }
   ],
   "source": [
    "# An example for the calculation of the integrand\n",
    "test_d_g_arr = np.array([5, 8])\n",
    "test_n_g_arr = np.array([50, 100])\n",
    "prob_dens_func = norm.pdf\n",
    "test_w_g_arr = np.array([0.9, 0.9])\n",
    "test_gamma_g_arr = np.array([-1.6449, -1.6449])\n",
    "\n",
    "calculate_my_likelihood_arr(test_d_g_arr, test_n_g_arr, p_g, prob_dens_func, test_w_g_arr, test_gamma_g_arr)"
   ],
   "metadata": {
    "collapsed": false,
    "ExecuteTime": {
     "end_time": "2024-03-28T18:54:25.232627500Z",
     "start_time": "2024-03-28T18:54:25.088042100Z"
    }
   },
   "id": "d746901e0684728c"
  },
  {
   "cell_type": "code",
   "execution_count": 4,
   "outputs": [
    {
     "data": {
      "text/plain": "0.0008920264232967348"
     },
     "execution_count": 4,
     "metadata": {},
     "output_type": "execute_result"
    }
   ],
   "source": [
    "test_lamda_func = lambda x: np.prod([stats.binom.pmf(d, n, p_g(x, w_g, gamma_g)) for d, n, w_g, gamma_g in zip(test_d_g_arr, test_n_g_arr, test_w_g_arr, test_gamma_g_arr)], axis = 0)\n",
    "\n",
    "expected_value_of_function_monte_carlo(test_lamda_func, num_samples=1000000)"
   ],
   "metadata": {
    "collapsed": false,
    "ExecuteTime": {
     "end_time": "2024-03-28T18:54:32.386673200Z",
     "start_time": "2024-03-28T18:54:31.714619Z"
    }
   },
   "id": "bb3ee7aa416ee32c"
  },
  {
   "cell_type": "code",
   "execution_count": 5,
   "outputs": [
    {
     "data": {
      "text/plain": "0.0008877287473450451"
     },
     "execution_count": 5,
     "metadata": {},
     "output_type": "execute_result"
    }
   ],
   "source": [
    "likelihood_mc(test_w_g_arr[0], test_gamma_g_arr, test_d_g_arr, test_n_g_arr, p_g, num_of_simulations=1000000)"
   ],
   "metadata": {
    "collapsed": false,
    "ExecuteTime": {
     "end_time": "2024-03-28T18:54:33.457763Z",
     "start_time": "2024-03-28T18:54:32.378675600Z"
    }
   },
   "id": "3057decf464cec45"
  },
  {
   "cell_type": "code",
   "execution_count": 9,
   "outputs": [],
   "source": [],
   "metadata": {
    "collapsed": false,
    "ExecuteTime": {
     "end_time": "2024-03-27T20:30:18.241045Z",
     "start_time": "2024-03-27T20:30:18.175876100Z"
    }
   },
   "id": "2484a7b5c96c7f81"
  },
  {
   "cell_type": "code",
   "execution_count": 10,
   "outputs": [
    {
     "data": {
      "text/plain": "'\\nlist(zip(test_d_g_arr, test_n_g_arr, test_w_g_arr, test_gamma_g_arr))\\nlist(zip(test_d_g_arr, test_n_g_arr, test_w_g_arr, [-1.96]]))\\n'"
     },
     "execution_count": 10,
     "metadata": {},
     "output_type": "execute_result"
    }
   ],
   "source": [
    "#TO-DO fix this in likelihood_mc function:\n",
    "\"\"\"\n",
    "list(zip(test_d_g_arr, test_n_g_arr, test_w_g_arr, test_gamma_g_arr))\n",
    "list(zip(test_d_g_arr, test_n_g_arr, test_w_g_arr, [-1.96]]))\n",
    "\"\"\""
   ],
   "metadata": {
    "collapsed": false,
    "ExecuteTime": {
     "end_time": "2024-03-27T20:30:18.275046900Z",
     "start_time": "2024-03-27T20:30:18.188873500Z"
    }
   },
   "id": "131b49f642c93711"
  },
  {
   "cell_type": "code",
   "execution_count": 10,
   "outputs": [],
   "source": [],
   "metadata": {
    "collapsed": false,
    "ExecuteTime": {
     "end_time": "2024-03-27T20:30:18.276049400Z",
     "start_time": "2024-03-27T20:30:18.201850400Z"
    }
   },
   "id": "dc4d37d50296eca0"
  },
  {
   "cell_type": "code",
   "execution_count": 10,
   "outputs": [],
   "source": [],
   "metadata": {
    "collapsed": false,
    "ExecuteTime": {
     "end_time": "2024-03-27T20:30:18.299050300Z",
     "start_time": "2024-03-27T20:30:18.216852800Z"
    }
   },
   "id": "ef01dd670b14dead"
  },
  {
   "cell_type": "code",
   "execution_count": 11,
   "outputs": [],
   "source": [
    "from src.sucess_probability import p_g"
   ],
   "metadata": {
    "collapsed": false,
    "ExecuteTime": {
     "end_time": "2024-03-27T20:30:18.302048400Z",
     "start_time": "2024-03-27T20:30:18.231846100Z"
    }
   },
   "id": "715b28a152631b15"
  },
  {
   "cell_type": "code",
   "execution_count": 6,
   "outputs": [],
   "source": [
    "from src.data_generator import generate_default_buckets\n",
    "from scipy.optimize import minimize"
   ],
   "metadata": {
    "collapsed": false,
    "ExecuteTime": {
     "end_time": "2024-03-28T19:01:17.519475300Z",
     "start_time": "2024-03-28T19:01:17.372462300Z"
    }
   },
   "id": "2c93f97b1a0bad95"
  },
  {
   "cell_type": "code",
   "execution_count": 16,
   "outputs": [],
   "source": [
    "#np.random.seed(3123) # Fix the seed for reproducibility\n",
    "np.random.seed()\n",
    "time_horizon = 40\n",
    "factor_loading_list = [0.45, 0.45, 0.45]\n",
    "num_of_obligors_list = [3000, 3000, 3000]\n",
    "gamma_list = [-2.9, -2.3, -1.6]\n",
    "d_g_list = generate_default_buckets(factor_loading_list,num_of_obligors_list, gamma_list,time_horizon)\n",
    "# multiply all num_of_obligors with time_horizon\n",
    "n_g_list = [num_of_obligors_list[i] * time_horizon for i in range(len(num_of_obligors_list))]"
   ],
   "metadata": {
    "collapsed": false,
    "ExecuteTime": {
     "end_time": "2024-03-28T19:02:39.876207900Z",
     "start_time": "2024-03-28T19:02:39.701192800Z"
    }
   },
   "id": "d7128d0ea0c7bba0"
  },
  {
   "cell_type": "code",
   "execution_count": 17,
   "outputs": [
    {
     "data": {
      "text/plain": "([359, 1793, 7959], [120000, 120000, 120000])"
     },
     "execution_count": 17,
     "metadata": {},
     "output_type": "execute_result"
    }
   ],
   "source": [
    "d_g_list, n_g_list"
   ],
   "metadata": {
    "collapsed": false,
    "ExecuteTime": {
     "end_time": "2024-03-28T19:02:40.234243900Z",
     "start_time": "2024-03-28T19:02:40.047226400Z"
    }
   },
   "id": "ba7b69c93d9ef317"
  },
  {
   "cell_type": "code",
   "execution_count": 18,
   "outputs": [],
   "source": [
    "#SP data\n",
    "# d_g_list = np.array([64, 234, 1027, 5030, 29903])\n",
    "# n_g_list = 40 * np.array([3000, 3000, 3000, 3000, 3000])\n",
    "# \n",
    "# d_g_list, n_g_list"
   ],
   "metadata": {
    "collapsed": false,
    "ExecuteTime": {
     "end_time": "2024-03-28T19:02:40.607268900Z",
     "start_time": "2024-03-28T19:02:40.353250200Z"
    }
   },
   "id": "fb225b03162e88ce"
  },
  {
   "cell_type": "code",
   "execution_count": 19,
   "outputs": [],
   "source": [
    "from scipy.integrate import quad\n",
    "\n",
    "def calculate_my_likelihood_arr(d_g_arr, n_g_arr, p_g, prob_dens_func, w_g_arr, gamma_g_arr):\n",
    "    \"\"\"\n",
    "    Numerically calculates the value of L(d_g_arr) for multiple grades based on the given formula.\n",
    "\n",
    "    Parameters:\n",
    "        d_g_arr (numpy.array(int)): Values of d_g's by grades\n",
    "        n_g_arr (numpy.array(int)): Values of n_g's by grades\n",
    "        p_g (callable): The p_g function representing the probability density function.\n",
    "        prob_dens_func (callable): The pdf_g function representing the probability density function.\n",
    "        w_g_arr (numpy.array(float)): Parameter 'w_g's by grades\n",
    "        gamma_g_arr (numpy.array(float)): Parameter 'gamma_g's by grades.\n",
    "\n",
    "    Returns:\n",
    "        float: Numerical approximation of the integral.\n",
    "    \"\"\"\n",
    "\n",
    "    integrand = lambda x: np.prod(binom.pmf(d_g_arr, n_g_arr, p_g(x, w_g_arr, gamma_g_arr))) * prob_dens_func(x)\n",
    "\n",
    "    result, _ = quad(integrand, -3, 3) # , points=5, epsrel = 1e-012\n",
    "\n",
    "    return result"
   ],
   "metadata": {
    "collapsed": false,
    "ExecuteTime": {
     "end_time": "2024-03-28T19:02:40.937299300Z",
     "start_time": "2024-03-28T19:02:40.652278Z"
    }
   },
   "id": "c9e8855c987d4bea"
  },
  {
   "cell_type": "code",
   "execution_count": 35,
   "outputs": [],
   "source": [
    "def parameter_estimation(default_list, num_of_obligors_over_time, factor_loading_init, gamma_list_init):\n",
    "    initial_guess = gamma_list_init + factor_loading_init\n",
    "    \n",
    "    num_of_gamma = len(gamma_list_init)\n",
    "    num_of_factor_loading = len(factor_loading_init)\n",
    "    # bound = num_of_gamma * (-5, 5) + num_of_factor_loading * (-1, 1)\n",
    "    bounds = num_of_gamma * [(-5, 5)] + num_of_factor_loading * [(-1, 1)]\n",
    "    # print(bounds)\n",
    "    # print(initial_guess)\n",
    "    # Optimization\n",
    "    objective_function = lambda params: -np.log(calculate_my_likelihood_arr(\n",
    "        default_list, num_of_obligors_over_time, p_g, norm.pdf, params[num_of_gamma], params[0:num_of_gamma]\n",
    "    ))\n",
    "    \n",
    "    result = minimize(objective_function,\n",
    "                  initial_guess,\n",
    "                  method=\"Nelder-Mead\",\n",
    "                  bounds=bounds,\n",
    "                  options={\n",
    "                      'disp': False})\n",
    "    \n",
    "    return result"
   ],
   "metadata": {
    "collapsed": false,
    "ExecuteTime": {
     "end_time": "2024-03-28T20:07:14.595713300Z",
     "start_time": "2024-03-28T20:07:14.428506700Z"
    }
   },
   "id": "1389f986bc524333"
  },
  {
   "cell_type": "code",
   "execution_count": 36,
   "outputs": [
    {
     "name": "stderr",
     "output_type": "stream",
     "text": [
      "C:\\Users\\kissp\\AppData\\Local\\Temp\\ipykernel_28604\\873326530.py:11: RuntimeWarning: divide by zero encountered in log\n",
      "  objective_function = lambda params: -np.log(calculate_my_likelihood_arr(\n",
      "C:\\Users\\kissp\\AppData\\Local\\Temp\\ipykernel_28604\\1971462210.py:21: IntegrationWarning: The integral is probably divergent, or slowly convergent.\n",
      "  result, _ = quad(integrand, -3, 3) # , points=5, epsrel = 1e-012\n"
     ]
    }
   ],
   "source": [
    "conf_int_80 = {}\n",
    "input_80 = {}\n",
    "results_dict_80 = {}\n",
    "\n",
    "np.random.seed(42)\n",
    "time_horizon = 80\n",
    "factor_loading_list = [0.45, 0.45, 0.45]\n",
    "num_of_obligors_list = [3000, 3000, 3000]\n",
    "gamma_list = [-2.9, -2.3, -1.6]\n",
    "factor_loading_init = [0.447]\n",
    "gamma_list_init = [-2.91, -2.29, -1.603]\n",
    "\n",
    "for i in range(100):\n",
    "    d_g_list = generate_default_buckets(factor_loading_list,num_of_obligors_list, gamma_list,time_horizon)\n",
    "    n_g_list = [num_of_obligors_list[i] * time_horizon for i in range(len(num_of_obligors_list))]\n",
    "    ML_params = parameter_estimation(d_g_list, n_g_list, factor_loading_list, gamma_list)\n",
    "    input_80[i] = (d_g_list, n_g_list)\n",
    "    results_dict_80[i] = ML_params.x\n",
    "    conf_int_80[i] = ML_params.x[3]"
   ],
   "metadata": {
    "collapsed": false,
    "ExecuteTime": {
     "end_time": "2024-03-28T20:29:54.846312900Z",
     "start_time": "2024-03-28T20:07:16.640200400Z"
    }
   },
   "id": "76fe9a7e05852831"
  },
  {
   "cell_type": "code",
   "execution_count": 45,
   "outputs": [
    {
     "data": {
      "text/plain": "array([-2.84102497, -2.27973843, -1.64825577,  0.4549075 ,  0.46054998,\n        0.44285076])"
     },
     "execution_count": 45,
     "metadata": {},
     "output_type": "execute_result"
    }
   ],
   "source": [
    "ML_params.x"
   ],
   "metadata": {
    "collapsed": false,
    "ExecuteTime": {
     "end_time": "2024-03-28T20:39:54.035547100Z",
     "start_time": "2024-03-28T20:39:53.977629900Z"
    }
   },
   "id": "2e1e385740d80962"
  },
  {
   "cell_type": "code",
   "execution_count": 37,
   "outputs": [
    {
     "data": {
      "text/plain": "{0: 0.453422384060298,\n 1: 0.44503169910347373,\n 2: 0.4683908687360189,\n 3: 0.45141393561037013,\n 4: 0.44618363256352206,\n 5: 0.44415721103658323,\n 6: 0.44331481194637745,\n 7: 0.4628632418360703,\n 8: 0.46530744587452033,\n 9: 0.4562313117040477,\n 10: 0.4429591246192418,\n 11: 0.4556260130044859,\n 12: 0.44662234871363937,\n 13: 0.4455458916763938,\n 14: 0.45143787197265467,\n 15: 0.44913818479071393,\n 16: 0.4532612344989133,\n 17: 0.4404466686031151,\n 18: 0.4424410935124721,\n 19: 0.4486848842774288,\n 20: 0.4403650463984812,\n 21: 0.4511864825504336,\n 22: 0.4515029153728467,\n 23: 0.4486537719333209,\n 24: 0.44891343085754865,\n 25: 0.4637299707517066,\n 26: 0.4520497164564793,\n 27: 0.45729817512461424,\n 28: 0.4447669551607765,\n 29: 0.4570580732238268,\n 30: 0.44485834235071187,\n 31: 0.45143969235142756,\n 32: 0.4476813539148009,\n 33: 0.4504537363371431,\n 34: 0.4494412223526513,\n 35: 0.44331886712570745,\n 36: 0.45840678177523697,\n 37: 0.4481480748019521,\n 38: 0.43819014659024497,\n 39: 0.447605032023494,\n 40: 0.446807286056337,\n 41: 0.4558468809925083,\n 42: 0.44814212931190367,\n 43: 0.44220790978941216,\n 44: 0.45915244018932155,\n 45: 0.45236635932547165,\n 46: 0.44170634849029355,\n 47: 0.4540427047077208,\n 48: 0.44826811377020587,\n 49: 0.44545929794363603,\n 50: 0.4555761020322288,\n 51: 0.4488552498608899,\n 52: 0.44464154501582703,\n 53: 0.44955151618015277,\n 54: 0.4469629636274287,\n 55: 0.4491732635341298,\n 56: 0.455484853648211,\n 57: 0.45036089821362724,\n 58: 0.44009658575723387,\n 59: 0.45054408477063357,\n 60: 0.45218893756531103,\n 61: 0.44583077312307245,\n 62: 0.4486743470191331,\n 63: 0.45092438574790267,\n 64: 0.4602790313484803,\n 65: 0.459295257011338,\n 66: 0.44846711422236996,\n 67: 0.45247318649481605,\n 68: 0.45001293893390165,\n 69: 0.46244620248936136,\n 70: 0.46077818603044474,\n 71: 0.44666980227931397,\n 72: 0.4523737489116816,\n 73: 0.44466254409025663,\n 74: 0.43001765649740104,\n 75: 0.45451535653811515,\n 76: 0.4577808268844283,\n 77: 0.4463046499396306,\n 78: 0.4529664502267706,\n 79: 0.43848271296080665,\n 80: 0.4715358037200019,\n 81: 0.45361331120040815,\n 82: 0.4517948265910283,\n 83: 0.4533626796876182,\n 84: 0.44968771695848864,\n 85: 0.45254612060433097,\n 86: 0.4495261893131165,\n 87: 0.45519274257598674,\n 88: 0.4505892403692734,\n 89: 0.44992650352634334,\n 90: 0.44630722970801473,\n 91: 0.4419456189064108,\n 92: 0.45787481731822355,\n 93: 0.4508463509601808,\n 94: 0.45022741357437857,\n 95: 0.4430591340189333,\n 96: 0.4535820899620184,\n 97: 0.4445311820042822,\n 98: 0.44438505053202026,\n 99: 0.45490749617974136}"
     },
     "execution_count": 37,
     "metadata": {},
     "output_type": "execute_result"
    }
   ],
   "source": [
    "conf_int_80"
   ],
   "metadata": {
    "collapsed": false
   },
   "id": "6855d9b1a46f5a9e"
  },
  {
   "cell_type": "code",
   "execution_count": 38,
   "outputs": [
    {
     "data": {
      "text/plain": "{0: ([482, 2916, 14294], [240000, 240000, 240000]),\n 1: ([295, 1849, 10183], [240000, 240000, 240000]),\n 2: ([382, 2540, 13180], [240000, 240000, 240000]),\n 3: ([488, 2785, 13530], [240000, 240000, 240000]),\n 4: ([453, 2496, 12572], [240000, 240000, 240000]),\n 5: ([631, 3243, 14862], [240000, 240000, 240000]),\n 6: ([340, 2119, 11844], [240000, 240000, 240000]),\n 7: ([420, 2535, 13055], [240000, 240000, 240000]),\n 8: ([306, 1983, 11370], [240000, 240000, 240000]),\n 9: ([495, 2734, 14019], [240000, 240000, 240000]),\n 10: ([344, 2190, 11815], [240000, 240000, 240000]),\n 11: ([340, 2165, 12410], [240000, 240000, 240000]),\n 12: ([457, 2722, 13734], [240000, 240000, 240000]),\n 13: ([460, 2745, 14605], [240000, 240000, 240000]),\n 14: ([392, 2537, 13493], [240000, 240000, 240000]),\n 15: ([415, 2468, 13409], [240000, 240000, 240000]),\n 16: ([359, 2333, 12775], [240000, 240000, 240000]),\n 17: ([525, 2937, 15016], [240000, 240000, 240000]),\n 18: ([318, 2082, 11568], [240000, 240000, 240000]),\n 19: ([316, 2071, 11868], [240000, 240000, 240000]),\n 20: ([428, 2656, 13692], [240000, 240000, 240000]),\n 21: ([609, 3159, 15030], [240000, 240000, 240000]),\n 22: ([336, 2197, 12384], [240000, 240000, 240000]),\n 23: ([394, 2566, 13475], [240000, 240000, 240000]),\n 24: ([540, 3037, 14671], [240000, 240000, 240000]),\n 25: ([497, 2829, 14581], [240000, 240000, 240000]),\n 26: ([500, 2819, 13692], [240000, 240000, 240000]),\n 27: ([485, 2773, 13773], [240000, 240000, 240000]),\n 28: ([570, 3111, 14948], [240000, 240000, 240000]),\n 29: ([477, 2583, 14043], [240000, 240000, 240000]),\n 30: ([316, 2060, 10653], [240000, 240000, 240000]),\n 31: ([630, 3369, 15152], [240000, 240000, 240000]),\n 32: ([406, 2343, 12070], [240000, 240000, 240000]),\n 33: ([594, 3360, 15430], [240000, 240000, 240000]),\n 34: ([556, 3296, 15831], [240000, 240000, 240000]),\n 35: ([438, 2473, 13510], [240000, 240000, 240000]),\n 36: ([454, 2656, 13828], [240000, 240000, 240000]),\n 37: ([456, 2720, 13371], [240000, 240000, 240000]),\n 38: ([360, 2302, 12570], [240000, 240000, 240000]),\n 39: ([408, 2390, 12782], [240000, 240000, 240000]),\n 40: ([468, 2860, 14435], [240000, 240000, 240000]),\n 41: ([503, 2651, 12392], [240000, 240000, 240000]),\n 42: ([361, 2173, 11432], [240000, 240000, 240000]),\n 43: ([414, 2427, 12649], [240000, 240000, 240000]),\n 44: ([501, 2807, 13952], [240000, 240000, 240000]),\n 45: ([624, 3307, 15658], [240000, 240000, 240000]),\n 46: ([319, 2136, 11756], [240000, 240000, 240000]),\n 47: ([621, 3221, 14552], [240000, 240000, 240000]),\n 48: ([389, 2271, 11992], [240000, 240000, 240000]),\n 49: ([394, 2242, 12983], [240000, 240000, 240000]),\n 50: ([609, 3170, 15141], [240000, 240000, 240000]),\n 51: ([354, 2279, 12577], [240000, 240000, 240000]),\n 52: ([436, 2588, 12934], [240000, 240000, 240000]),\n 53: ([407, 2412, 12766], [240000, 240000, 240000]),\n 54: ([477, 2537, 13433], [240000, 240000, 240000]),\n 55: ([543, 3060, 14791], [240000, 240000, 240000]),\n 56: ([438, 2405, 12645], [240000, 240000, 240000]),\n 57: ([302, 1844, 10531], [240000, 240000, 240000]),\n 58: ([393, 2606, 13548], [240000, 240000, 240000]),\n 59: ([502, 2811, 14389], [240000, 240000, 240000]),\n 60: ([261, 1929, 10740], [240000, 240000, 240000]),\n 61: ([439, 2676, 13468], [240000, 240000, 240000]),\n 62: ([330, 2262, 12291], [240000, 240000, 240000]),\n 63: ([563, 2833, 13761], [240000, 240000, 240000]),\n 64: ([267, 1999, 11343], [240000, 240000, 240000]),\n 65: ([576, 2829, 14011], [240000, 240000, 240000]),\n 66: ([568, 2965, 14566], [240000, 240000, 240000]),\n 67: ([378, 2382, 12635], [240000, 240000, 240000]),\n 68: ([340, 2146, 12210], [240000, 240000, 240000]),\n 69: ([388, 2526, 13279], [240000, 240000, 240000]),\n 70: ([446, 2454, 12861], [240000, 240000, 240000]),\n 71: ([455, 2803, 14421], [240000, 240000, 240000]),\n 72: ([504, 2490, 12909], [240000, 240000, 240000]),\n 73: ([410, 2386, 12455], [240000, 240000, 240000]),\n 74: ([372, 2280, 12263], [240000, 240000, 240000]),\n 75: ([344, 2273, 11862], [240000, 240000, 240000]),\n 76: ([470, 2732, 13807], [240000, 240000, 240000]),\n 77: ([194, 1531, 9401], [240000, 240000, 240000]),\n 78: ([475, 2846, 14036], [240000, 240000, 240000]),\n 79: ([513, 2987, 15014], [240000, 240000, 240000]),\n 80: ([374, 2191, 11924], [240000, 240000, 240000]),\n 81: ([519, 2820, 13640], [240000, 240000, 240000]),\n 82: ([345, 2292, 12717], [240000, 240000, 240000]),\n 83: ([434, 2681, 13969], [240000, 240000, 240000]),\n 84: ([248, 1612, 9178], [240000, 240000, 240000]),\n 85: ([463, 2759, 14349], [240000, 240000, 240000]),\n 86: ([384, 2402, 12623], [240000, 240000, 240000]),\n 87: ([372, 2286, 12146], [240000, 240000, 240000]),\n 88: ([335, 1888, 10909], [240000, 240000, 240000]),\n 89: ([754, 3393, 15524], [240000, 240000, 240000]),\n 90: ([409, 2251, 11953], [240000, 240000, 240000]),\n 91: ([358, 2311, 12618], [240000, 240000, 240000]),\n 92: ([482, 2643, 13199], [240000, 240000, 240000]),\n 93: ([569, 3031, 14969], [240000, 240000, 240000]),\n 94: ([377, 2268, 12536], [240000, 240000, 240000]),\n 95: ([489, 2660, 13211], [240000, 240000, 240000]),\n 96: ([485, 2771, 14233], [240000, 240000, 240000]),\n 97: ([499, 3004, 15026], [240000, 240000, 240000]),\n 98: ([497, 2652, 13112], [240000, 240000, 240000]),\n 99: ([402, 2404, 12967], [240000, 240000, 240000])}"
     },
     "execution_count": 38,
     "metadata": {},
     "output_type": "execute_result"
    }
   ],
   "source": [
    "input_80"
   ],
   "metadata": {
    "collapsed": false,
    "ExecuteTime": {
     "end_time": "2024-03-28T20:31:18.672735800Z",
     "start_time": "2024-03-28T20:31:18.585729500Z"
    }
   },
   "id": "47cfa803e7b7c5bd"
  },
  {
   "cell_type": "code",
   "execution_count": 57,
   "outputs": [
    {
     "data": {
      "text/plain": "{0: array([-2.84357483, -2.30875931, -1.68513601,  0.45342238,  0.4513224 ,\n         0.44955707]),\n 1: array([-2.82936034, -2.26319063, -1.63409791,  0.4450317 ,  0.4624961 ,\n         0.46250516]),\n 2: array([-2.82061521, -2.26469155, -1.64336188,  0.46839087,  0.45180446,\n         0.44586129]),\n 3: array([-2.78732091, -2.23301403, -1.63152514,  0.45141394,  0.46448216,\n         0.46135291]),\n 4: array([-2.82721258, -2.28410652, -1.66389756,  0.44618363,  0.46556118,\n         0.44046602]),\n 5: array([-2.8033919 , -2.2674188 , -1.67230133,  0.44415721,  0.45969184,\n         0.45358533]),\n 6: array([-2.84073003, -2.27084075, -1.62255182,  0.44331481,  0.46099271,\n         0.46512008]),\n 7: array([-2.82721413, -2.27157659, -1.64744815,  0.46286324,  0.45618465,\n         0.4444902 ]),\n 8: array([-2.8358194 , -2.26843944, -1.63573896,  0.46530745,  0.450736  ,\n         0.44789477]),\n 9: array([-2.76635541, -2.25488269, -1.61691584,  0.45623131,  0.46390631,\n         0.46449152]),\n 10: array([-2.81878032, -2.26131599, -1.63249955,  0.44295912,  0.46406903,\n         0.46293964]),\n 11: array([-2.89983495, -2.31804843, -1.66959503,  0.45562601,  0.46049364,\n         0.45186452]),\n 12: array([-2.79085527, -2.2529928 , -1.63184163,  0.44662235,  0.46051971,\n         0.46979787]),\n 13: array([-2.90013068, -2.32495638, -1.67791344,  0.44554589,  0.45685454,\n         0.44166299]),\n 14: array([-2.81840354, -2.27467013, -1.63357775,  0.45143787,  0.46185038,\n         0.45580371]),\n 15: array([-2.81160828, -2.27796734, -1.63526382,  0.44913818,  0.46436659,\n         0.45749906]),\n 16: array([-2.84284567, -2.30594913, -1.65460612,  0.45326123,  0.45715048,\n         0.44406504]),\n 17: array([-2.84738174, -2.30110563, -1.66928478,  0.44044667,  0.45959743,\n         0.44583829]),\n 18: array([-2.82645673, -2.27213615, -1.63556501,  0.44244109,  0.46654954,\n         0.45376611]),\n 19: array([-2.83155749, -2.2810511 , -1.62689452,  0.44868488,  0.45830303,\n         0.45646971]),\n 20: array([-2.81217313, -2.26679447, -1.63458051,  0.44036505,  0.46596263,\n         0.46148678]),\n 21: array([-2.78527812, -2.27367581, -1.66685381,  0.45118648,  0.47413382,\n         0.44335217]),\n 22: array([-2.90016091, -2.31241502, -1.67233882,  0.45150292,  0.45188769,\n         0.44483558]),\n 23: array([-2.82085998, -2.26900956, -1.6347603 ,  0.44865377,  0.46283807,\n         0.45757675]),\n 24: array([-2.84352499, -2.29773441, -1.67168588,  0.44891343,  0.46023324,\n         0.44684913]),\n 25: array([-2.84344075, -2.305999  , -1.67093879,  0.46372997,  0.44911949,\n         0.44210638]),\n 26: array([-2.76656453, -2.24734465, -1.62539866,  0.45204972,  0.46528712,\n         0.46424596]),\n 27: array([-2.77049446, -2.24642993, -1.61816808,  0.45729818,  0.46327105,\n         0.46436284]),\n 28: array([-2.8091316 , -2.29343652, -1.66845681,  0.44476696,  0.45597382,\n         0.4532473 ]),\n 29: array([-2.78905508, -2.2738169 , -1.61551103,  0.45705807,  0.46148439,\n         0.46177757]),\n 30: array([-2.83996642, -2.28275824, -1.66920865,  0.44485834,  0.46271064,\n         0.44994653]),\n 31: array([-2.79131457, -2.26047919, -1.66443084,  0.45143969,  0.45653142,\n         0.45251214]),\n 32: array([-2.82163619, -2.30338309, -1.68895904,  0.44768135,  0.44897611,\n         0.45279857]),\n 33: array([-2.79921514, -2.25277299, -1.64811717,  0.45045374,  0.46277556,\n         0.45018597]),\n 34: array([-2.80726074, -2.26388457, -1.63919191,  0.44944122,  0.45795343,\n         0.46035483]),\n 35: array([-2.81835267, -2.29832314, -1.63252501,  0.44331887,  0.46140004,\n         0.46092086]),\n 36: array([-2.80038779, -2.2640578 , -1.62087359,  0.45840678,  0.45976819,\n         0.46175986]),\n 37: array([-2.78234091, -2.2537889 , -1.6399375 ,  0.44814807,  0.4607503 ,\n         0.46182373]),\n 38: array([-2.88474816, -2.31385445, -1.66249689,  0.43819015,  0.45188471,\n         0.44891984]),\n 39: array([-2.82458203, -2.30524839, -1.66225082,  0.44760503,  0.46018449,\n         0.45656655]),\n 40: array([-2.88247545, -2.30525841, -1.6828154 ,  0.44680729,  0.45045203,\n         0.44971608]),\n 41: array([-2.77696027, -2.254175  , -1.66392277,  0.45584688,  0.45783099,\n         0.44901906]),\n 42: array([-2.787991  , -2.25995366, -1.63736972,  0.44814213,  0.45826595,\n         0.462329  ]),\n 43: array([-2.82963508, -2.30238658, -1.65998999,  0.44220791,  0.45847732,\n         0.45660472]),\n 44: array([-2.8392878 , -2.31169812, -1.70155467,  0.45915244,  0.4456167 ,\n         0.44950622]),\n 45: array([-2.78224109, -2.26957225, -1.64433178,  0.45236636,  0.45577105,\n         0.46148587]),\n 46: array([-2.8489929 , -2.2701142 , -1.63501355,  0.44170635,  0.46218097,\n         0.46017934]),\n 47: array([-2.78188096, -2.2661675 , -1.67421611,  0.4540427 ,  0.45301029,\n         0.44962801]),\n 48: array([-2.86861807, -2.31221213, -1.68950955,  0.44826811,  0.44975292,\n         0.44950209]),\n 49: array([-2.83883414, -2.32117553, -1.64623057,  0.4454593 ,  0.45897607,\n         0.44837917]),\n 50: array([-2.79334071, -2.27658563, -1.66536201,  0.4555761 ,  0.45397143,\n         0.44903286]),\n 51: array([-2.89469396, -2.30821101, -1.66240513,  0.44885525,  0.45550841,\n         0.44720872]),\n 52: array([-2.81345624, -2.26731479, -1.65980699,  0.44464155,  0.45932704,\n         0.45490145]),\n 53: array([-2.82788035, -2.29798808, -1.65297182,  0.44955152,  0.45892599,\n         0.45514421]),\n 54: array([-2.77786221, -2.28402388, -1.6396185 ,  0.44696296,  0.46732447,\n         0.44447405]),\n 55: array([-2.82597938, -2.28695305, -1.66675456,  0.44917326,  0.4529585 ,\n         0.45497113]),\n 56: array([-2.81233426, -2.29382579, -1.66633929,  0.45548485,  0.45840503,\n         0.44381996]),\n 57: array([-2.85021345, -2.30856067, -1.67265294,  0.4503609 ,  0.45132274,\n         0.45233187]),\n 58: array([-2.86189434, -2.28287213, -1.6345816 ,  0.44009659,  0.46639365,\n         0.45669967]),\n 59: array([-2.83955063, -2.32244792, -1.6877481 ,  0.45054408,  0.44737676,\n         0.45213184]),\n 60: array([-2.88988355, -2.28716172, -1.66256038,  0.45218894,  0.46070414,\n         0.43811973]),\n 61: array([-2.79684027, -2.26107315, -1.63310405,  0.44583077,  0.45719306,\n         0.4630362 ]),\n 62: array([-2.87649076, -2.30914176, -1.68014792,  0.44867435,  0.4494247 ,\n         0.4528437 ]),\n 63: array([-2.75866946, -2.23858935, -1.62599032,  0.45092439,  0.47045152,\n         0.46543717]),\n 64: array([-2.84114922, -2.27392902, -1.63415629,  0.46027903,  0.45528002,\n         0.44932819]),\n 65: array([-2.81044415, -2.31608279, -1.69956057,  0.45929526,  0.44924538,\n         0.44616146]),\n 66: array([-2.80480235, -2.2963846 , -1.67680415,  0.44846711,  0.45232307,\n         0.44688471]),\n 67: array([-2.852082  , -2.29957083, -1.66802287,  0.45247319,  0.45377696,\n         0.44858877]),\n 68: array([-2.90820275, -2.32733644, -1.6778942 ,  0.45001294,  0.44472856,\n         0.44344379]),\n 69: array([-2.81194779, -2.27202357, -1.63817584,  0.4624462 ,  0.45611755,\n         0.449665  ]),\n 70: array([-2.8108163 , -2.27656314, -1.65602902,  0.46077819,  0.4538541 ,\n         0.44920377]),\n 71: array([-2.90305661, -2.31990672, -1.68516706,  0.4466698 ,  0.44751932,\n         0.44861382]),\n 72: array([-2.76424264, -2.26950465, -1.6524945 ,  0.45237375,  0.45622164,\n         0.45977765]),\n 73: array([-2.84054832, -2.29419313, -1.66518482,  0.44466254,  0.46050304,\n         0.4456352 ]),\n 74: array([-2.873352  , -2.3256821 , -1.68901471,  0.43001766,  0.45166023,\n         0.46119107]),\n 75: array([-2.87236282, -2.30497365, -1.68213839,  0.45451536,  0.44893094,\n         0.45087006]),\n 76: array([-2.77295951, -2.24866597, -1.61688675,  0.45778083,  0.46402667,\n         0.46174436]),\n 77: array([-2.87376257, -2.27800906, -1.62502411,  0.44630465,  0.45990806,\n         0.45630175]),\n 78: array([-2.86420309, -2.30701256, -1.69017506,  0.45296645,  0.44911288,\n         0.44904582]),\n 79: array([-2.86134299, -2.29518561, -1.66368576,  0.43848271,  0.45772008,\n         0.45480784]),\n 80: array([-2.81703324, -2.30087841, -1.67685837,  0.4715358 ,  0.44617004,\n         0.4491549 ]),\n 81: array([-2.77296799, -2.24485944, -1.62738403,  0.45361331,  0.46420412,\n         0.46351901]),\n 82: array([-2.86208564, -2.31795431, -1.65806822,  0.45179483,  0.44904135,\n         0.4480437 ]),\n 83: array([-2.81054751, -2.25184234, -1.61159626,  0.45336268,  0.45935048,\n         0.46569507]),\n 84: array([-2.84877762, -2.28492476, -1.67106122,  0.44968772,  0.45888409,\n         0.44600562]),\n 85: array([-2.87309579, -2.32020801, -1.68031251,  0.45254612,  0.44975707,\n         0.44910778]),\n 86: array([-2.84630692, -2.28579036, -1.65876724,  0.44952619,  0.46177968,\n         0.44555571]),\n 87: array([-2.87233433, -2.30328843, -1.67446084,  0.45519274,  0.44900917,\n         0.44888254]),\n 88: array([-2.82654884, -2.29894381, -1.65118765,  0.45058924,  0.45984884,\n         0.44722815]),\n 89: array([-2.73661344, -2.25633267, -1.64494362,  0.4499265 ,  0.46700071,\n         0.4589204 ]),\n 90: array([-2.84048283, -2.30606658, -1.68901617,  0.44630723,  0.44131042,\n         0.45920635]),\n 91: array([-2.85896742, -2.3039112 , -1.6639866 ,  0.44194562,  0.45923756,\n         0.44389425]),\n 92: array([-2.77080717, -2.26354279, -1.63730182,  0.45787482,  0.46748806,\n         0.45377956]),\n 93: array([-2.81892751, -2.29787441, -1.6704726 ,  0.45084635,  0.45809532,\n         0.4525259 ]),\n 94: array([-2.86186507, -2.30118203, -1.66694455,  0.45022741,  0.45242909,\n         0.44607444]),\n 95: array([-2.77818607, -2.26378068, -1.65079709,  0.44305913,  0.45892479,\n         0.45824929]),\n 96: array([-2.87511072, -2.31631002, -1.69014596,  0.45358209,  0.4470657 ,\n         0.44797792]),\n 97: array([-2.85488244, -2.2944985 , -1.66071767,  0.44453118,  0.46464962,\n         0.44227772]),\n 98: array([-2.77397519, -2.25790853, -1.64402405,  0.44438505,  0.46772302,\n         0.45886712]),\n 99: array([-2.84102497, -2.27973843, -1.64825577,  0.4549075 ,  0.46054998,\n         0.44285076])}"
     },
     "execution_count": 57,
     "metadata": {},
     "output_type": "execute_result"
    }
   ],
   "source": [
    "results_dict_80"
   ],
   "metadata": {
    "collapsed": false,
    "ExecuteTime": {
     "end_time": "2024-03-28T20:56:46.177681800Z",
     "start_time": "2024-03-28T20:56:46.094669300Z"
    }
   },
   "id": "c4a387b9edcc5856"
  },
  {
   "cell_type": "code",
   "execution_count": 52,
   "outputs": [],
   "source": [
    "df = pd.DataFrame(columns=[\"n_1\", \"n_2\", \"n_3\", \"d_1\", \"d_2\", \"d_3\", \"gamma_1\", \"gamma_2\", \"gamma_3\", \"factor_loading_1\", \"factor_loading_2\", \"factor_loading_3\"],\n",
    "                  index=range(100))\n",
    "\n",
    "for key, value in input_80.items():\n",
    "    list1, list2 = value\n",
    "    \n",
    "    df.loc[key] = pd.Series({\"n_1\": list2[0], \"n_2\": list2[1], \"n_3\": list2[2], \"d_1\": list1[0], \"d_2\": list1[1], \"d_3\": list1[2], \n",
    "                             \"gamma_1\": results_dict_80[key][0], \"gamma_2\": results_dict_80[key][1], \"gamma_3\": results_dict_80[key][2],\n",
    "                             \"factor_loading_1\": results_dict_80[key][3], \"factor_loading_2\": results_dict_80[key][4], \"factor_loading_3\": results_dict_80[key][5]})"
   ],
   "metadata": {
    "collapsed": false,
    "ExecuteTime": {
     "end_time": "2024-03-28T20:55:20.096227200Z",
     "start_time": "2024-03-28T20:55:20.010220500Z"
    }
   },
   "id": "ffee5ce0bc255cf5"
  },
  {
   "cell_type": "code",
   "execution_count": 53,
   "outputs": [
    {
     "data": {
      "text/plain": "         n_1       n_2       n_3    d_1     d_2      d_3   gamma_1   gamma_2  \\\n0   240000.0  240000.0  240000.0  482.0  2916.0  14294.0 -2.843575 -2.308759   \n1   240000.0  240000.0  240000.0  295.0  1849.0  10183.0  -2.82936 -2.263191   \n2   240000.0  240000.0  240000.0  382.0  2540.0  13180.0 -2.820615 -2.264692   \n3   240000.0  240000.0  240000.0  488.0  2785.0  13530.0 -2.787321 -2.233014   \n4   240000.0  240000.0  240000.0  453.0  2496.0  12572.0 -2.827213 -2.284107   \n..       ...       ...       ...    ...     ...      ...       ...       ...   \n95  240000.0  240000.0  240000.0  489.0  2660.0  13211.0 -2.778186 -2.263781   \n96  240000.0  240000.0  240000.0  485.0  2771.0  14233.0 -2.875111  -2.31631   \n97  240000.0  240000.0  240000.0  499.0  3004.0  15026.0 -2.854882 -2.294498   \n98  240000.0  240000.0  240000.0  497.0  2652.0  13112.0 -2.773975 -2.257909   \n99  240000.0  240000.0  240000.0  402.0  2404.0  12967.0 -2.841025 -2.279738   \n\n     gamma_3 factor_loading_1 factor_loading_2 factor_loading_3  \n0  -1.685136         0.453422         0.451322         0.449557  \n1  -1.634098         0.445032         0.462496         0.462505  \n2  -1.643362         0.468391         0.451804         0.445861  \n3  -1.631525         0.451414         0.464482         0.461353  \n4  -1.663898         0.446184         0.465561         0.440466  \n..       ...              ...              ...              ...  \n95 -1.650797         0.443059         0.458925         0.458249  \n96 -1.690146         0.453582         0.447066         0.447978  \n97 -1.660718         0.444531          0.46465         0.442278  \n98 -1.644024         0.444385         0.467723         0.458867  \n99 -1.648256         0.454907          0.46055         0.442851  \n\n[100 rows x 12 columns]",
      "text/html": "<div>\n<style scoped>\n    .dataframe tbody tr th:only-of-type {\n        vertical-align: middle;\n    }\n\n    .dataframe tbody tr th {\n        vertical-align: top;\n    }\n\n    .dataframe thead th {\n        text-align: right;\n    }\n</style>\n<table border=\"1\" class=\"dataframe\">\n  <thead>\n    <tr style=\"text-align: right;\">\n      <th></th>\n      <th>n_1</th>\n      <th>n_2</th>\n      <th>n_3</th>\n      <th>d_1</th>\n      <th>d_2</th>\n      <th>d_3</th>\n      <th>gamma_1</th>\n      <th>gamma_2</th>\n      <th>gamma_3</th>\n      <th>factor_loading_1</th>\n      <th>factor_loading_2</th>\n      <th>factor_loading_3</th>\n    </tr>\n  </thead>\n  <tbody>\n    <tr>\n      <th>0</th>\n      <td>240000.0</td>\n      <td>240000.0</td>\n      <td>240000.0</td>\n      <td>482.0</td>\n      <td>2916.0</td>\n      <td>14294.0</td>\n      <td>-2.843575</td>\n      <td>-2.308759</td>\n      <td>-1.685136</td>\n      <td>0.453422</td>\n      <td>0.451322</td>\n      <td>0.449557</td>\n    </tr>\n    <tr>\n      <th>1</th>\n      <td>240000.0</td>\n      <td>240000.0</td>\n      <td>240000.0</td>\n      <td>295.0</td>\n      <td>1849.0</td>\n      <td>10183.0</td>\n      <td>-2.82936</td>\n      <td>-2.263191</td>\n      <td>-1.634098</td>\n      <td>0.445032</td>\n      <td>0.462496</td>\n      <td>0.462505</td>\n    </tr>\n    <tr>\n      <th>2</th>\n      <td>240000.0</td>\n      <td>240000.0</td>\n      <td>240000.0</td>\n      <td>382.0</td>\n      <td>2540.0</td>\n      <td>13180.0</td>\n      <td>-2.820615</td>\n      <td>-2.264692</td>\n      <td>-1.643362</td>\n      <td>0.468391</td>\n      <td>0.451804</td>\n      <td>0.445861</td>\n    </tr>\n    <tr>\n      <th>3</th>\n      <td>240000.0</td>\n      <td>240000.0</td>\n      <td>240000.0</td>\n      <td>488.0</td>\n      <td>2785.0</td>\n      <td>13530.0</td>\n      <td>-2.787321</td>\n      <td>-2.233014</td>\n      <td>-1.631525</td>\n      <td>0.451414</td>\n      <td>0.464482</td>\n      <td>0.461353</td>\n    </tr>\n    <tr>\n      <th>4</th>\n      <td>240000.0</td>\n      <td>240000.0</td>\n      <td>240000.0</td>\n      <td>453.0</td>\n      <td>2496.0</td>\n      <td>12572.0</td>\n      <td>-2.827213</td>\n      <td>-2.284107</td>\n      <td>-1.663898</td>\n      <td>0.446184</td>\n      <td>0.465561</td>\n      <td>0.440466</td>\n    </tr>\n    <tr>\n      <th>...</th>\n      <td>...</td>\n      <td>...</td>\n      <td>...</td>\n      <td>...</td>\n      <td>...</td>\n      <td>...</td>\n      <td>...</td>\n      <td>...</td>\n      <td>...</td>\n      <td>...</td>\n      <td>...</td>\n      <td>...</td>\n    </tr>\n    <tr>\n      <th>95</th>\n      <td>240000.0</td>\n      <td>240000.0</td>\n      <td>240000.0</td>\n      <td>489.0</td>\n      <td>2660.0</td>\n      <td>13211.0</td>\n      <td>-2.778186</td>\n      <td>-2.263781</td>\n      <td>-1.650797</td>\n      <td>0.443059</td>\n      <td>0.458925</td>\n      <td>0.458249</td>\n    </tr>\n    <tr>\n      <th>96</th>\n      <td>240000.0</td>\n      <td>240000.0</td>\n      <td>240000.0</td>\n      <td>485.0</td>\n      <td>2771.0</td>\n      <td>14233.0</td>\n      <td>-2.875111</td>\n      <td>-2.31631</td>\n      <td>-1.690146</td>\n      <td>0.453582</td>\n      <td>0.447066</td>\n      <td>0.447978</td>\n    </tr>\n    <tr>\n      <th>97</th>\n      <td>240000.0</td>\n      <td>240000.0</td>\n      <td>240000.0</td>\n      <td>499.0</td>\n      <td>3004.0</td>\n      <td>15026.0</td>\n      <td>-2.854882</td>\n      <td>-2.294498</td>\n      <td>-1.660718</td>\n      <td>0.444531</td>\n      <td>0.46465</td>\n      <td>0.442278</td>\n    </tr>\n    <tr>\n      <th>98</th>\n      <td>240000.0</td>\n      <td>240000.0</td>\n      <td>240000.0</td>\n      <td>497.0</td>\n      <td>2652.0</td>\n      <td>13112.0</td>\n      <td>-2.773975</td>\n      <td>-2.257909</td>\n      <td>-1.644024</td>\n      <td>0.444385</td>\n      <td>0.467723</td>\n      <td>0.458867</td>\n    </tr>\n    <tr>\n      <th>99</th>\n      <td>240000.0</td>\n      <td>240000.0</td>\n      <td>240000.0</td>\n      <td>402.0</td>\n      <td>2404.0</td>\n      <td>12967.0</td>\n      <td>-2.841025</td>\n      <td>-2.279738</td>\n      <td>-1.648256</td>\n      <td>0.454907</td>\n      <td>0.46055</td>\n      <td>0.442851</td>\n    </tr>\n  </tbody>\n</table>\n<p>100 rows × 12 columns</p>\n</div>"
     },
     "execution_count": 53,
     "metadata": {},
     "output_type": "execute_result"
    }
   ],
   "source": [
    "df"
   ],
   "metadata": {
    "collapsed": false,
    "ExecuteTime": {
     "end_time": "2024-03-28T20:55:20.416272200Z",
     "start_time": "2024-03-28T20:55:20.362269500Z"
    }
   },
   "id": "9f1e571f194a9744"
  },
  {
   "cell_type": "code",
   "execution_count": 59,
   "outputs": [],
   "source": [
    "df.to_csv(\"data\\conf_interval_data_80_diff_w.csv\")"
   ],
   "metadata": {
    "collapsed": false,
    "ExecuteTime": {
     "end_time": "2024-03-28T20:57:41.498817400Z",
     "start_time": "2024-03-28T20:57:41.462811600Z"
    }
   },
   "id": "fcd5b92de96b6b27"
  },
  {
   "cell_type": "code",
   "execution_count": 28,
   "outputs": [
    {
     "name": "stdout",
     "output_type": "stream",
     "text": [
      "Optimization terminated successfully.\n",
      "         Current function value: 18.651324\n",
      "         Iterations: 87\n",
      "         Function evaluations: 170\n",
      "CPU times: total: 9.33 s\n",
      "Wall time: 10.3 s\n"
     ]
    }
   ],
   "source": [
    "%%time\n",
    "#factor_loading_init = [0.45]\n",
    "factor_loading_init = [0.45]\n",
    "gamma_list_init = [-2.9, -2.3, -1.6]\n",
    "# gamma_list_init = [-2.87, -2.3, -1.6]\n",
    "# gamma_list_init = [-2.05, -1.85, -1.6, -1.6, -1.6]\n",
    "ML_params = parameter_estimation(d_g_list, n_g_list, factor_loading_init, gamma_list_init)\n",
    "#print(\"Estimated parameters for speculative grade: \", ML_params)"
   ],
   "metadata": {
    "collapsed": false,
    "ExecuteTime": {
     "end_time": "2024-03-28T19:31:33.320306600Z",
     "start_time": "2024-03-28T19:31:22.912411100Z"
    }
   },
   "id": "15974eeb8c25caf6"
  },
  {
   "cell_type": "code",
   "execution_count": 29,
   "outputs": [
    {
     "data": {
      "text/plain": "'Optimization terminated successfully.'"
     },
     "execution_count": 29,
     "metadata": {},
     "output_type": "execute_result"
    }
   ],
   "source": [
    "ML_params.message"
   ],
   "metadata": {
    "collapsed": false,
    "ExecuteTime": {
     "end_time": "2024-03-28T19:31:33.476292200Z",
     "start_time": "2024-03-28T19:31:33.274300Z"
    }
   },
   "id": "282a7baee957b98"
  },
  {
   "cell_type": "code",
   "execution_count": 30,
   "outputs": [],
   "source": [
    "#real gamma: [-2.0, -1.8, -1.3]"
   ],
   "metadata": {
    "collapsed": false,
    "ExecuteTime": {
     "end_time": "2024-03-28T19:31:33.569302600Z",
     "start_time": "2024-03-28T19:31:33.313304200Z"
    }
   },
   "id": "ad7d6751f58802af"
  },
  {
   "cell_type": "code",
   "execution_count": 31,
   "outputs": [
    {
     "data": {
      "text/plain": "array([-2.7616316 , -2.24061306, -1.64078253,  0.46009378])"
     },
     "execution_count": 31,
     "metadata": {},
     "output_type": "execute_result"
    }
   ],
   "source": [
    "ML_params.x"
   ],
   "metadata": {
    "collapsed": false,
    "ExecuteTime": {
     "end_time": "2024-03-28T19:31:33.573306500Z",
     "start_time": "2024-03-28T19:31:33.357309400Z"
    }
   },
   "id": "1204d6080bff7403"
  },
  {
   "cell_type": "code",
   "execution_count": 24,
   "outputs": [
    {
     "data": {
      "text/plain": "array([-2.73231316, -2.2221453 , -1.62828771,  0.4619247 ])"
     },
     "execution_count": 24,
     "metadata": {},
     "output_type": "execute_result"
    }
   ],
   "source": [
    "ML_params.x"
   ],
   "metadata": {
    "collapsed": false,
    "ExecuteTime": {
     "end_time": "2024-03-28T19:02:54.001481600Z",
     "start_time": "2024-03-28T19:02:53.814471300Z"
    }
   },
   "id": "7fa442fe75b07bd"
  },
  {
   "cell_type": "code",
   "execution_count": 22,
   "outputs": [
    {
     "data": {
      "text/plain": "18.65880578771864"
     },
     "execution_count": 22,
     "metadata": {},
     "output_type": "execute_result"
    }
   ],
   "source": [
    "-np.log(calculate_my_likelihood_arr(d_g_list, n_g_list, p_g, prob_dens_func, ML_params.x[3], ML_params.x[0:3]))"
   ],
   "metadata": {
    "collapsed": false,
    "ExecuteTime": {
     "end_time": "2024-03-27T20:30:24.141344Z",
     "start_time": "2024-03-27T20:30:24.024334600Z"
    }
   },
   "id": "7e6937494c2c9eb1"
  },
  {
   "cell_type": "code",
   "execution_count": 23,
   "outputs": [
    {
     "data": {
      "text/plain": "19.640462340924813"
     },
     "execution_count": 23,
     "metadata": {},
     "output_type": "execute_result"
    }
   ],
   "source": [
    "-np.log(likelihood_mc(ML_params.x[3], ML_params.x[0:3], d_g_list, n_g_list, p_g, num_of_simulations=1000000))"
   ],
   "metadata": {
    "collapsed": false,
    "ExecuteTime": {
     "end_time": "2024-03-27T20:30:25.025416300Z",
     "start_time": "2024-03-27T20:30:24.069340700Z"
    }
   },
   "id": "def2fc1d8b3c29bb"
  },
  {
   "cell_type": "code",
   "execution_count": 24,
   "outputs": [
    {
     "data": {
      "text/plain": "37.48633421546001"
     },
     "execution_count": 24,
     "metadata": {},
     "output_type": "execute_result"
    }
   ],
   "source": [
    "-np.log(likelihood_mc(factor_loading_init, gamma_list_init, d_g_list, n_g_list, p_g, num_of_simulations=1000000))"
   ],
   "metadata": {
    "collapsed": false,
    "ExecuteTime": {
     "end_time": "2024-03-27T20:30:25.953496700Z",
     "start_time": "2024-03-27T20:30:25.010419500Z"
    }
   },
   "id": "320afcd13905d54b"
  },
  {
   "cell_type": "code",
   "execution_count": 25,
   "outputs": [
    {
     "data": {
      "text/plain": "47.0720856257602"
     },
     "execution_count": 25,
     "metadata": {},
     "output_type": "execute_result"
    }
   ],
   "source": [
    "-np.log(likelihood_mc(factor_loading_list[0], gamma_list, d_g_list, n_g_list, p_g, num_of_simulations=1000000))"
   ],
   "metadata": {
    "collapsed": false,
    "ExecuteTime": {
     "end_time": "2024-03-27T20:30:27.069588400Z",
     "start_time": "2024-03-27T20:30:25.953496700Z"
    }
   },
   "id": "c0f030ecb86e338a"
  },
  {
   "cell_type": "code",
   "execution_count": 26,
   "outputs": [
    {
     "data": {
      "text/plain": "51.15128460268474"
     },
     "execution_count": 26,
     "metadata": {},
     "output_type": "execute_result"
    }
   ],
   "source": [
    "-np.log(calculate_my_likelihood_arr(d_g_list, n_g_list, p_g, prob_dens_func, factor_loading_list, gamma_list))"
   ],
   "metadata": {
    "collapsed": false,
    "ExecuteTime": {
     "end_time": "2024-03-27T20:30:27.134597Z",
     "start_time": "2024-03-27T20:30:27.066592900Z"
    }
   },
   "id": "b385b552ac23a404"
  },
  {
   "cell_type": "code",
   "execution_count": 27,
   "outputs": [],
   "source": [
    "def w_calc_func(a, b):\n",
    "    return -b/ np.sqrt(b**2 + 1)\n",
    "\n",
    "def gamma_calc_func(a, b):\n",
    "    return a * np.sqrt(1 - w_calc_func(a, b)**2)\n",
    "\n",
    "def a_calc_func(w, gamma):\n",
    "    return gamma / np.sqrt(1 - w**2)\n",
    "\n",
    "def b_calc_func(w, gamma):\n",
    "    return -w / np.sqrt(1 - w**2)\n",
    "\n",
    "def calculate_variable_changed_likelihood_arr(d_g_arr, n_g_arr, p_g, prob_dens_func, a, b):\n",
    "    integrand = lambda x: np.prod(binom.pmf(d_g_arr, n_g_arr, norm.cdf(a*x+b))) * prob_dens_func(x)\n",
    "\n",
    "    result, _ = quad(integrand, -3, 3)\n",
    "\n",
    "    return result"
   ],
   "metadata": {
    "collapsed": false,
    "ExecuteTime": {
     "end_time": "2024-03-27T20:30:27.135594900Z",
     "start_time": "2024-03-27T20:30:27.112595100Z"
    }
   },
   "id": "5faa476874dab988"
  },
  {
   "cell_type": "code",
   "execution_count": 28,
   "outputs": [
    {
     "data": {
      "text/plain": "([-3.2473765635439547, -2.5755055503969295, -1.7916560350587338],\n [-0.5039032598602688, -0.5039032598602688, -0.5039032598602688])"
     },
     "execution_count": 28,
     "metadata": {},
     "output_type": "execute_result"
    }
   ],
   "source": [
    "a = [a_calc_func(factor_loading_list[i], gamma_list[i]) for i in range(3)]\n",
    "b = [b_calc_func(factor_loading_list[i], gamma_list[i]) for i in range(3)]\n",
    "a, b"
   ],
   "metadata": {
    "collapsed": false,
    "ExecuteTime": {
     "end_time": "2024-03-27T20:30:27.177602900Z",
     "start_time": "2024-03-27T20:30:27.122594Z"
    }
   },
   "id": "a2138adf98b5c4bd"
  },
  {
   "cell_type": "code",
   "execution_count": 29,
   "outputs": [
    {
     "name": "stdout",
     "output_type": "stream",
     "text": [
      "Optimization terminated successfully.\n",
      "         Current function value: 18.658806\n",
      "         Iterations: 80\n",
      "         Function evaluations: 160\n",
      "The optimal weight parameter is [-3.21409413 -2.57187844 -1.87304655 -0.50822791]\n",
      "Optimization terminated successfully.\n",
      "CPU times: total: 4.52 s\n",
      "Wall time: 4.51 s\n"
     ]
    }
   ],
   "source": [
    "%%time\n",
    "# Different gamma and same factor loading parameter\n",
    "\n",
    "# MLE condition and initial guess\n",
    "initial_guess = np.array([-3.247, -2.576, -1.792, -0.50])\n",
    "bounds = [(-5, 5), (-5, 5), (-5, 5), (-5, 5)]\n",
    "\n",
    "# Function to be minimized in weight parameter\n",
    "objective_function = lambda params: -np.log(calculate_variable_changed_likelihood_arr(d_g_list, n_g_list, p_g, norm.pdf, \n",
    "                                                                 np.repeat(params[3], 3), \n",
    "                                                                 params[0:3]))\n",
    "\n",
    "result = minimize(objective_function,\n",
    "                  initial_guess,\n",
    "                  method=\"Nelder-Mead\",\n",
    "                  bounds=bounds,\n",
    "                  options={\n",
    "                      'disp': True})\n",
    "# Method can be Nelder-Mead or Powell\n",
    "\n",
    "# The optimal weight parameter\n",
    "optimal_weight = result.x\n",
    "print(f\"The optimal weight parameter is {optimal_weight}\")\n",
    "print(result.message)"
   ],
   "metadata": {
    "collapsed": false,
    "ExecuteTime": {
     "end_time": "2024-03-27T20:30:31.666948900Z",
     "start_time": "2024-03-27T20:30:27.141595600Z"
    }
   },
   "id": "7e5e68e7e9452fd5"
  },
  {
   "cell_type": "code",
   "execution_count": 30,
   "outputs": [
    {
     "data": {
      "text/plain": "array([-3.21409413, -2.57187844, -1.87304655, -0.50822791])"
     },
     "execution_count": 30,
     "metadata": {},
     "output_type": "execute_result"
    }
   ],
   "source": [
    "result.x"
   ],
   "metadata": {
    "collapsed": false,
    "ExecuteTime": {
     "end_time": "2024-03-27T20:30:31.780927400Z",
     "start_time": "2024-03-27T20:30:31.665920600Z"
    }
   },
   "id": "d1ab0897a4f732c5"
  },
  {
   "cell_type": "code",
   "execution_count": 31,
   "outputs": [
    {
     "data": {
      "text/plain": "([0.4530719424852357, 0.4530719424852357, 0.4530719424852357],\n [-2.8652812090681987, -2.2927626474283787, -1.6697722189139166])"
     },
     "execution_count": 31,
     "metadata": {},
     "output_type": "execute_result"
    }
   ],
   "source": [
    "b_result = result.x[3]\n",
    "a_result = [result.x[i] for i in range(3)]\n",
    "w_result = [w_calc_func(a_result[i], b_result) for i in range(3)]\n",
    "gamma_result = [gamma_calc_func(a_result[i], b_result) for i in range(3)]\n",
    "\n",
    "w_result, gamma_result"
   ],
   "metadata": {
    "collapsed": false,
    "ExecuteTime": {
     "end_time": "2024-03-27T20:30:31.790941600Z",
     "start_time": "2024-03-27T20:30:31.699922800Z"
    }
   },
   "id": "a5a7457a553c46dd"
  },
  {
   "cell_type": "code",
   "execution_count": 31,
   "outputs": [],
   "source": [],
   "metadata": {
    "collapsed": false,
    "ExecuteTime": {
     "end_time": "2024-03-27T20:30:31.791930400Z",
     "start_time": "2024-03-27T20:30:31.709923200Z"
    }
   },
   "id": "213ad902c95421ff"
  },
  {
   "cell_type": "code",
   "execution_count": 32,
   "outputs": [],
   "source": [
    "import random"
   ],
   "metadata": {
    "collapsed": false,
    "ExecuteTime": {
     "end_time": "2024-03-27T20:30:31.818930300Z",
     "start_time": "2024-03-27T20:30:31.725925900Z"
    }
   },
   "id": "670ce5c9bfa47ad0"
  },
  {
   "cell_type": "code",
   "execution_count": 33,
   "outputs": [],
   "source": [
    "def expected_value_of_function_monte_carlo(f, num_samples=100000):\n",
    "    \"\"\"\n",
    "    Calculates the expected value of a given function f(x) where x follows the standard normal distribution.\n",
    "\n",
    "    Parameters:\n",
    "        f (callable): The function f(x) to calculate the expected value.\n",
    "        num_samples (int): The number of samples to use in the Monte Carlo simulation.\n",
    "\n",
    "    Returns:\n",
    "        float: The estimated expected value of the function.\n",
    "    \"\"\"\n",
    "    # Generate random samples from the standard normal distribution\n",
    "    random_samples = np.random.normal(size=num_samples)\n",
    "\n",
    "    # Calculate the expected value using the Monte Carlo simulation\n",
    "    estimated_expected_value = np.mean(f(random_samples))\n",
    "\n",
    "    return estimated_expected_value"
   ],
   "metadata": {
    "collapsed": false,
    "ExecuteTime": {
     "end_time": "2024-03-27T20:30:31.818930300Z",
     "start_time": "2024-03-27T20:30:31.745927100Z"
    }
   },
   "id": "590273e81306d223"
  },
  {
   "cell_type": "code",
   "execution_count": 34,
   "outputs": [],
   "source": [
    "def likelihood_mc(w_g, gamma_g, d_g, n_g, p_g, num_of_simulations):\n",
    "    # likelihood function\n",
    "    likelihood_function = lambda x: np.prod([stats.binom.pmf(d, n, p_g(x, w_g=w_g, gamma_g=gamma)) for d, n, gamma in zip(d_g, n_g, gamma_g)], axis=0)\n",
    "\n",
    "    return expected_value_of_function_monte_carlo(likelihood_function, num_of_simulations)"
   ],
   "metadata": {
    "collapsed": false,
    "ExecuteTime": {
     "end_time": "2024-03-27T20:30:31.821931Z",
     "start_time": "2024-03-27T20:30:31.772928600Z"
    }
   },
   "id": "f23896a31e18577f"
  },
  {
   "cell_type": "code",
   "execution_count": 35,
   "outputs": [],
   "source": [
    "# Monte Carlo\n",
    "def monte_carlo_MLE(d_g, n_g, p_g, w_initial, gamma_initial, bounds, num_of_simulations, seed=None):\n",
    "    \"\"\"\n",
    "    Estimate w_g and gamma_g using the maximum likelihood estimation method.\n",
    "    Parameters:\n",
    "        d_g (list): number of defaults.\n",
    "        n_g (list): number of obligors.\n",
    "        p_g (callable): The p_g function representing the probability density function.\n",
    "        w_initial (float): Initial guess for w_g.\n",
    "        gamma_initial (float): Initial guess for gamma_g.\n",
    "        bounds (list): Bounds for the minimization algorithm.\n",
    "        num_of_simulations (int): Number of simulations for the Monte Carlo method.\n",
    "        seed (int): Seed for the random number generator.\n",
    "    Returns:\n",
    "        tuple: Estimated w_g and gamma_g.\n",
    "    \"\"\"\n",
    "    if seed is None:\n",
    "        seed = random.randint(1, 10000)\n",
    "\n",
    "    np.random.seed(seed)\n",
    "\n",
    "    # objective function\n",
    "    objective_function = lambda params: -np.log(likelihood_mc(params[0], params[1:], d_g, n_g, p_g, num_of_simulations))\n",
    "\n",
    "    initial_guess = w_initial + gamma_initial\n",
    "    print(initial_guess)\n",
    "    print(bounds)\n",
    "\n",
    "    result = minimize(objective_function, initial_guess, method='Nelder-Mead', bounds=bounds)\n",
    "    #result = minimize(objective_function, initial_guess, bounds=bounds)\n",
    "\n",
    "    # The found value of w_g and gamma_g\n",
    "    return result"
   ],
   "metadata": {
    "collapsed": false,
    "ExecuteTime": {
     "end_time": "2024-03-27T20:30:31.851933100Z",
     "start_time": "2024-03-27T20:30:31.785930Z"
    }
   },
   "id": "b28ba027daf75fcf"
  },
  {
   "cell_type": "code",
   "execution_count": 36,
   "outputs": [
    {
     "name": "stdout",
     "output_type": "stream",
     "text": [
      "[0.44, -2.87, -2.3, -1.6]\n",
      "[(-1, 1), (-5, 5), (-5, 5), (-5, 5)]\n",
      "CPU times: total: 7.89 s\n",
      "Wall time: 8.03 s\n"
     ]
    }
   ],
   "source": [
    "%%time\n",
    "Monte_carlo_params = monte_carlo_MLE(d_g_list, n_g_list, p_g, factor_loading_init, gamma_list_init,\n",
    "                                     [(-1, 1), (-5, 5), (-5, 5), (-5, 5)], num_of_simulations=10000)"
   ],
   "metadata": {
    "collapsed": false,
    "ExecuteTime": {
     "end_time": "2024-03-27T20:30:39.859606300Z",
     "start_time": "2024-03-27T20:30:31.803930400Z"
    }
   },
   "id": "e24383743a289d0e"
  },
  {
   "cell_type": "code",
   "execution_count": 37,
   "outputs": [
    {
     "data": {
      "text/plain": "       message: Maximum number of function evaluations has been exceeded.\n       success: False\n        status: 1\n           fun: 17.66211480811598\n             x: [ 4.453e-01 -2.824e+00 -2.296e+00 -1.654e+00]\n           nit: 307\n          nfev: 800\n final_simplex: (array([[ 4.453e-01, -2.824e+00, -2.296e+00, -1.654e+00],\n                       [ 4.453e-01, -2.824e+00, -2.296e+00, -1.654e+00],\n                       ...,\n                       [ 4.453e-01, -2.824e+00, -2.296e+00, -1.654e+00],\n                       [ 4.453e-01, -2.824e+00, -2.296e+00, -1.654e+00]]), array([ 1.766e+01,  1.778e+01,  1.785e+01,  1.786e+01,\n                        1.789e+01]))"
     },
     "execution_count": 37,
     "metadata": {},
     "output_type": "execute_result"
    }
   ],
   "source": [
    "Monte_carlo_params"
   ],
   "metadata": {
    "collapsed": false,
    "ExecuteTime": {
     "end_time": "2024-03-27T20:30:39.940647500Z",
     "start_time": "2024-03-27T20:30:39.857608Z"
    }
   },
   "id": "57660eddc0bad8e0"
  },
  {
   "cell_type": "code",
   "execution_count": 38,
   "outputs": [
    {
     "data": {
      "text/plain": "array([ 0.44530394, -2.82379343, -2.29586094, -1.65412611])"
     },
     "execution_count": 38,
     "metadata": {},
     "output_type": "execute_result"
    }
   ],
   "source": [
    "Monte_carlo_params.x"
   ],
   "metadata": {
    "collapsed": false,
    "ExecuteTime": {
     "end_time": "2024-03-27T20:30:39.968647800Z",
     "start_time": "2024-03-27T20:30:39.886607500Z"
    }
   },
   "id": "a0e01e5d86bc3a43"
  },
  {
   "cell_type": "code",
   "execution_count": 38,
   "outputs": [],
   "source": [],
   "metadata": {
    "collapsed": false,
    "ExecuteTime": {
     "end_time": "2024-03-27T20:30:39.969648200Z",
     "start_time": "2024-03-27T20:30:39.903608100Z"
    }
   },
   "id": "e004536b61d22e6e"
  }
 ],
 "metadata": {
  "kernelspec": {
   "name": "python3",
   "language": "python",
   "display_name": "Python 3 (ipykernel)"
  },
  "language_info": {
   "codemirror_mode": {
    "name": "ipython",
    "version": 2
   },
   "file_extension": ".py",
   "mimetype": "text/x-python",
   "name": "python",
   "nbconvert_exporter": "python",
   "pygments_lexer": "ipython2",
   "version": "2.7.6"
  }
 },
 "nbformat": 4,
 "nbformat_minor": 5
}
