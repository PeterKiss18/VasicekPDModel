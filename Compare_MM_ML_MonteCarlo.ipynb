{
 "cells": [
  {
   "cell_type": "code",
   "execution_count": 1,
   "outputs": [],
   "source": [
    "import pandas as pd\n",
    "import numpy as np\n",
    "from scipy.stats import norm"
   ],
   "metadata": {
    "collapsed": false,
    "ExecuteTime": {
     "end_time": "2024-04-23T08:59:07.951635900Z",
     "start_time": "2024-04-23T08:59:06.127205100Z"
    }
   },
   "id": "6abe2450acf61b47"
  },
  {
   "cell_type": "code",
   "execution_count": 2,
   "outputs": [],
   "source": [
    "from src.MM_estimation import calc_variance_of_default_rate\n",
    "from src.MM_estimation import estimate_w_factor_loading\n",
    "from src.ML_estimation import mle_trapz_g_and_w"
   ],
   "metadata": {
    "collapsed": false,
    "ExecuteTime": {
     "end_time": "2024-04-23T08:59:07.993631900Z",
     "start_time": "2024-04-23T08:59:07.952636800Z"
    }
   },
   "id": "initial_id"
  },
  {
   "cell_type": "code",
   "execution_count": 3,
   "outputs": [],
   "source": [
    "df = pd.read_csv('data\\SP_historical_PD_data.csv', sep=';')\n",
    "df[\"pd_total\"] = df[\"Default rate (%)\"] / 100\n",
    "df[\"pd_inv\"] = df[\"Investment-grade default rate (%)\"] / 100\n",
    "df[\"pd_spec\"] = df[\"Speculative-grade default rate (%)\"] / 100\n",
    "# Calculate the number of obligors\n",
    "df['num_of_inv_grades'] = (df['Investment-grade defaults'] / (df[\"pd_inv\"])).round()\n",
    "df['num_of_spec_grades'] = (\n",
    "            df['Speculative-grade defaults'] / (df[\"pd_spec\"])).round().astype(int)\n",
    "df['num_of_total_grades'] = (df['Total defaults*'] / (df[\"pd_total\"])).round().astype(int)\n",
    "\n",
    "# Fill-out the missing values in num_of_inv_grades column with the difference between num_of_total_grades and num_of_spec_grades\n",
    "df['num_of_inv_grades'] = np.where(df['num_of_inv_grades'].isna(), df['num_of_total_grades'] - df['num_of_spec_grades'],\n",
    "                                   df['num_of_inv_grades']).astype(int)"
   ],
   "metadata": {
    "collapsed": false,
    "ExecuteTime": {
     "end_time": "2024-04-23T08:59:08.016635400Z",
     "start_time": "2024-04-23T08:59:07.987635500Z"
    }
   },
   "id": "348be9cfc40175da"
  },
  {
   "cell_type": "markdown",
   "source": [
    "# MM for speculative grade"
   ],
   "metadata": {
    "collapsed": false
   },
   "id": "76ae9b95b6372906"
  },
  {
   "cell_type": "code",
   "execution_count": 4,
   "outputs": [
    {
     "name": "stdout",
     "output_type": "stream",
     "text": [
      "Estimated parameters for speculative grade:  0.2757333871078777 -1.7498743361043698\n"
     ]
    }
   ],
   "source": [
    "# MM for speculative grade\n",
    "MM_params_spec = estimate_w_factor_loading(df[\"pd_spec\"], df[\"num_of_spec_grades\"], initial_guess=0.3)\n",
    "print(\"Estimated parameters for speculative grade: \", MM_params_spec[0], norm.ppf(MM_params_spec[1]))"
   ],
   "metadata": {
    "collapsed": false,
    "ExecuteTime": {
     "end_time": "2024-04-23T08:59:08.098640100Z",
     "start_time": "2024-04-23T08:59:08.016635400Z"
    }
   },
   "id": "9dbf66527f6d6c68"
  },
  {
   "cell_type": "markdown",
   "source": [
    "# MLE"
   ],
   "metadata": {
    "collapsed": false
   },
   "id": "5362e1e0adda8b8f"
  },
  {
   "cell_type": "code",
   "execution_count": 5,
   "outputs": [],
   "source": [
    "default_table = df[[\"Speculative-grade defaults\", \"Investment-grade defaults\"]].values\n",
    "num_of_obligors = df[[\"num_of_spec_grades\", \"num_of_inv_grades\"]].values\n",
    "\n",
    "# ML for speculative grade\n",
    "ML_params = mle_trapz_g_and_w(default_table, num_of_obligors, [0.27, 0.27], [-2.7, -2.1])"
   ],
   "metadata": {
    "collapsed": false,
    "ExecuteTime": {
     "end_time": "2024-04-23T08:59:20.688665400Z",
     "start_time": "2024-04-23T08:59:08.096640400Z"
    }
   },
   "id": "22e6b02027a7a038"
  },
  {
   "cell_type": "code",
   "execution_count": 6,
   "outputs": [
    {
     "name": "stdout",
     "output_type": "stream",
     "text": [
      "Estimated parameters for speculative grade:  [0.2676783  0.29884413] [-1.7524295  -3.14209441]\n"
     ]
    }
   ],
   "source": [
    "print(\"Estimated parameters for speculative grade: \", ML_params[0], ML_params[1])"
   ],
   "metadata": {
    "collapsed": false,
    "ExecuteTime": {
     "end_time": "2024-04-23T08:59:20.726665600Z",
     "start_time": "2024-04-23T08:59:20.685662400Z"
    }
   },
   "id": "b67d0488f9351442"
  },
  {
   "cell_type": "markdown",
   "source": [
    "# MM for Investment Grade"
   ],
   "metadata": {
    "collapsed": false
   },
   "id": "ae1f47ecb9a75946"
  },
  {
   "cell_type": "code",
   "execution_count": 7,
   "outputs": [
    {
     "name": "stdout",
     "output_type": "stream",
     "text": [
      "Estimated parameters for investment grade:  0.2696365259565405 -3.128836387266735\n"
     ]
    }
   ],
   "source": [
    "# MM for investment grade\n",
    "MM_params_inv = estimate_w_factor_loading(df[\"pd_inv\"], df[\"num_of_inv_grades\"], initial_guess=0.4)\n",
    "print(\"Estimated parameters for investment grade: \", MM_params_inv[0], norm.ppf(MM_params_inv[1]))"
   ],
   "metadata": {
    "collapsed": false,
    "ExecuteTime": {
     "end_time": "2024-04-23T08:59:20.795675200Z",
     "start_time": "2024-04-23T08:59:20.701662600Z"
    }
   },
   "id": "131e0ab36a7231d5"
  },
  {
   "cell_type": "code",
   "execution_count": 8,
   "outputs": [],
   "source": [
    "# Calculate the average\n",
    "pd_average = np.mean(df[\"pd_inv\"])\n",
    "\n",
    "# Calculate the expected value of 1/n_g\n",
    "expected_value_of_reciprocal_n_g = np.mean(1 / df[\"num_of_inv_grades\"])\n",
    "\n",
    "# Variance of default rate\n",
    "variance_of_p_d = (np.var(df[\"pd_inv\"]) - expected_value_of_reciprocal_n_g * pd_average * (1 - pd_average)) / (\n",
    "            1 - expected_value_of_reciprocal_n_g)\n",
    "\n",
    "# Define bounds for w_factor_loading\n",
    "bounds = [(-0.9999, 0.9999)]\n",
    "\n",
    "# Define object function\n",
    "object_function = lambda w: abs(calc_variance_of_default_rate(w, pd_average) - variance_of_p_d)"
   ],
   "metadata": {
    "collapsed": false,
    "ExecuteTime": {
     "end_time": "2024-04-23T08:59:20.842676Z",
     "start_time": "2024-04-23T08:59:20.748666900Z"
    }
   },
   "id": "3e0a74948163d3b5"
  },
  {
   "cell_type": "code",
   "execution_count": 9,
   "outputs": [
    {
     "data": {
      "text/plain": "(True, array([0.34998169]))"
     },
     "execution_count": 9,
     "metadata": {},
     "output_type": "execute_result"
    }
   ],
   "source": [
    "from scipy.optimize import minimize\n",
    "\n",
    "result = minimize(object_function, np.array([0.35]), bounds=bounds, tol=1e-6)\n",
    "\n",
    "result.success, result.x"
   ],
   "metadata": {
    "collapsed": false,
    "ExecuteTime": {
     "end_time": "2024-04-23T08:59:20.895682900Z",
     "start_time": "2024-04-23T08:59:20.765668300Z"
    }
   },
   "id": "b50be7cdc0afc4e5"
  },
  {
   "cell_type": "code",
   "execution_count": 10,
   "outputs": [
    {
     "data": {
      "text/plain": "(True, array([0.26963651]))"
     },
     "execution_count": 10,
     "metadata": {},
     "output_type": "execute_result"
    }
   ],
   "source": [
    "from scipy.optimize import minimize\n",
    "\n",
    "result = minimize(object_function, np.array([0.35]), bounds=bounds, tol=1e-10)\n",
    "\n",
    "result.success, result.x"
   ],
   "metadata": {
    "collapsed": false,
    "ExecuteTime": {
     "end_time": "2024-04-23T08:59:21.016689400Z",
     "start_time": "2024-04-23T08:59:20.797670400Z"
    }
   },
   "id": "5244fd70d1a57df1"
  },
  {
   "cell_type": "code",
   "execution_count": 11,
   "outputs": [
    {
     "data": {
      "text/plain": "<Figure size 640x480 with 1 Axes>",
      "image/png": "[encoded data removed]"
     },
     "metadata": {},
     "output_type": "display_data"
    }
   ],
   "source": [
    "# plot obejct function for w\n",
    "from matplotlib import pyplot as plt\n",
    "w_values = np.linspace(-0.4, -0.3, 1000)\n",
    "object_values = [object_function(w) for w in w_values]\n",
    "\n",
    "plt.plot(w_values, object_values)\n",
    "plt.xlabel(\"w\")\n",
    "plt.ylabel(\"Objective Function\")\n",
    "plt.title(\"Objective Function for w\")\n",
    "plt.show()"
   ],
   "metadata": {
    "collapsed": false,
    "ExecuteTime": {
     "end_time": "2024-04-23T08:59:22.019770Z",
     "start_time": "2024-04-23T08:59:20.857677300Z"
    }
   },
   "id": "86f5e59d1bc8b5b5"
  },
  {
   "cell_type": "markdown",
   "source": [
    "# To-do monte carlo parameter estimation"
   ],
   "metadata": {
    "collapsed": false
   },
   "id": "a57c7ba3cf981cf1"
  },
  {
   "cell_type": "markdown",
   "source": [
    "# To-do monte carlo likelihood calculation and comparison with calculate_trapz_likelihood_arr "
   ],
   "metadata": {
    "collapsed": false
   },
   "id": "a63301debe0b2f41"
  }
 ],
 "metadata": {
  "kernelspec": {
   "name": "python3",
   "language": "python",
   "display_name": "Python 3 (ipykernel)"
  },
  "language_info": {
   "codemirror_mode": {
    "name": "ipython",
    "version": 2
   },
   "file_extension": ".py",
   "mimetype": "text/x-python",
   "name": "python",
   "nbconvert_exporter": "python",
   "pygments_lexer": "ipython2",
   "version": "2.7.6"
  }
 },
 "nbformat": 4,
 "nbformat_minor": 5
}
