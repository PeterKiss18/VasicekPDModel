{
 "cells": [
  {
   "cell_type": "code",
   "execution_count": 4,
   "outputs": [],
   "source": [
    "import pandas as pd\n",
    "import numpy as np\n",
    "from scipy.stats import norm"
   ],
   "metadata": {
    "collapsed": false,
    "ExecuteTime": {
     "end_time": "2024-03-05T20:52:04.402662800Z",
     "start_time": "2024-03-05T20:52:02.005974800Z"
    }
   },
   "id": "6abe2450acf61b47"
  },
  {
   "cell_type": "code",
   "execution_count": 5,
   "outputs": [],
   "source": [
    "from src.MM_estimation import calc_variance_of_default_rate\n",
    "from src.MM_estimation import estimate_w_factor_loading\n",
    "from src.ML_estimation import calculate_my_likelihood\n",
    "from src.ML_estimation import calculate_likelihood_ts\n",
    "from src.ML_estimation import maximum_likelihood_estimation\n",
    "from src.monte_carlo import monte_carlo_MLE\n",
    "from src.sucess_probability import p_g"
   ],
   "metadata": {
    "collapsed": false,
    "ExecuteTime": {
     "end_time": "2024-03-05T20:52:04.435672700Z",
     "start_time": "2024-03-05T20:52:04.406663500Z"
    }
   },
   "id": "initial_id"
  },
  {
   "cell_type": "code",
   "execution_count": 6,
   "outputs": [],
   "source": [
    "df = pd.read_csv('SP_historical_PD_data.csv', sep=';')\n",
    "df[\"pd_total\"] = df[\"Default rate (%)\"] / 100\n",
    "df[\"pd_inv\"] = df[\"Investment-grade default rate (%)\"] / 100\n",
    "df[\"pd_spec\"] = df[\"Speculative-grade default rate (%)\"] / 100\n",
    "# Calculate the number of obligors\n",
    "df['num_of_inv_grades'] = (df['Investment-grade defaults'] / (df[\"pd_inv\"])).round()\n",
    "df['num_of_spec_grades'] = (\n",
    "            df['Speculative-grade defaults'] / (df[\"pd_spec\"])).round().astype(int)\n",
    "df['num_of_total_grades'] = (df['Total defaults*'] / (df[\"pd_total\"])).round().astype(int)\n",
    "\n",
    "# Fill-out the missing values in num_of_inv_grades column with the difference between num_of_total_grades and num_of_spec_grades\n",
    "df['num_of_inv_grades'] = np.where(df['num_of_inv_grades'].isna(), df['num_of_total_grades'] - df['num_of_spec_grades'],\n",
    "                                   df['num_of_inv_grades']).astype(int)"
   ],
   "metadata": {
    "collapsed": false,
    "ExecuteTime": {
     "end_time": "2024-03-05T20:52:06.211669Z",
     "start_time": "2024-03-05T20:52:06.187671400Z"
    }
   },
   "id": "348be9cfc40175da"
  },
  {
   "cell_type": "code",
   "execution_count": 7,
   "outputs": [
    {
     "name": "stdout",
     "output_type": "stream",
     "text": [
      "Estimated parameters for speculative grade:  (0.07602889962521624, 0.040069999999999995)\n"
     ]
    }
   ],
   "source": [
    "# MM for speculative grade\n",
    "MM_params = estimate_w_factor_loading(df[\"pd_spec\"], df[\"num_of_spec_grades\"], initial_guess=0.27)\n",
    "print(\"Estimated parameters for speculative grade: \", MM_params)"
   ],
   "metadata": {
    "collapsed": false,
    "ExecuteTime": {
     "end_time": "2024-03-05T20:52:07.133764600Z",
     "start_time": "2024-03-05T20:52:07.022756600Z"
    }
   },
   "id": "9dbf66527f6d6c68"
  },
  {
   "cell_type": "code",
   "execution_count": 8,
   "outputs": [
    {
     "name": "stdout",
     "output_type": "stream",
     "text": [
      "Estimated parameters for speculative grade:  (0.27, -2.0)\n"
     ]
    }
   ],
   "source": [
    "# ML for speculative grade\n",
    "ML_params = maximum_likelihood_estimation(df[\"pd_spec\"], df[\"num_of_spec_grades\"], norm.pdf, p_g, 0.27, -2, [(0, 1), (-np.inf, np.inf)])\n",
    "print(\"Estimated parameters for speculative grade: \", ML_params)"
   ],
   "metadata": {
    "collapsed": false,
    "ExecuteTime": {
     "end_time": "2024-03-05T20:52:08.560884300Z",
     "start_time": "2024-03-05T20:52:08.027840600Z"
    }
   },
   "id": "26ca071a98705fa8"
  },
  {
   "cell_type": "code",
   "execution_count": 15,
   "outputs": [
    {
     "name": "stdout",
     "output_type": "stream",
     "text": [
      "Estimated parameters for speculative grade:  (0.27, -2.0)\n"
     ]
    }
   ],
   "source": [
    "Monte_carlo_params = monte_carlo_MLE(df[\"pd_spec\"], df[\"num_of_spec_grades\"], p_g, 0.27, -2, [(0, 1), (-np.inf, np.inf)], num_of_simulations=10000)\n",
    "print(\"Estimated parameters for speculative grade: \", Monte_carlo_params)"
   ],
   "metadata": {
    "collapsed": false,
    "ExecuteTime": {
     "end_time": "2024-03-05T20:53:21.489316400Z",
     "start_time": "2024-03-05T20:53:21.428315700Z"
    }
   },
   "id": "ebd8b817908247be"
  },
  {
   "cell_type": "code",
   "execution_count": null,
   "outputs": [],
   "source": [],
   "metadata": {
    "collapsed": false
   },
   "id": "fccd30a052eb0401"
  }
 ],
 "metadata": {
  "kernelspec": {
   "display_name": "Python 3",
   "language": "python",
   "name": "python3"
  },
  "language_info": {
   "codemirror_mode": {
    "name": "ipython",
    "version": 2
   },
   "file_extension": ".py",
   "mimetype": "text/x-python",
   "name": "python",
   "nbconvert_exporter": "python",
   "pygments_lexer": "ipython2",
   "version": "2.7.6"
  }
 },
 "nbformat": 4,
 "nbformat_minor": 5
}
