{
 "cells": [
  {
   "cell_type": "code",
   "execution_count": 1,
   "outputs": [],
   "source": [
    "import pandas as pd\n",
    "import numpy as np\n",
    "from scipy.stats import norm"
   ],
   "metadata": {
    "collapsed": false,
    "ExecuteTime": {
     "end_time": "2024-04-29T19:37:09.666324100Z",
     "start_time": "2024-04-29T19:37:08.138098900Z"
    }
   },
   "id": "6abe2450acf61b47"
  },
  {
   "cell_type": "code",
   "execution_count": 2,
   "outputs": [],
   "source": [
    "from src.MM_estimation import calc_variance_of_default_rate\n",
    "from src.MM_estimation import estimate_w_factor_loading\n",
    "from src.ML_estimation import mle_trapz_g_and_w"
   ],
   "metadata": {
    "collapsed": false,
    "ExecuteTime": {
     "end_time": "2024-04-29T19:37:09.716681Z",
     "start_time": "2024-04-29T19:37:09.667325Z"
    }
   },
   "id": "initial_id"
  },
  {
   "cell_type": "code",
   "execution_count": 3,
   "outputs": [],
   "source": [
    "df = pd.read_csv('data\\SP_historical_PD_data.csv', sep=';')\n",
    "df[\"pd_total\"] = df[\"Default rate (%)\"] / 100\n",
    "df[\"pd_inv\"] = df[\"Investment-grade default rate (%)\"] / 100\n",
    "df[\"pd_spec\"] = df[\"Speculative-grade default rate (%)\"] / 100\n",
    "# Calculate the number of obligors\n",
    "df['num_of_inv_grades'] = (df['Investment-grade defaults'] / (df[\"pd_inv\"])).round()\n",
    "df['num_of_spec_grades'] = (\n",
    "            df['Speculative-grade defaults'] / (df[\"pd_spec\"])).round().astype(int)\n",
    "df['num_of_total_grades'] = (df['Total defaults*'] / (df[\"pd_total\"])).round().astype(int)\n",
    "\n",
    "# Fill-out the missing values in num_of_inv_grades column with the difference between num_of_total_grades and num_of_spec_grades\n",
    "df['num_of_inv_grades'] = np.where(df['num_of_inv_grades'].isna(), df['num_of_total_grades'] - df['num_of_spec_grades'],\n",
    "                                   df['num_of_inv_grades']).astype(int)"
   ],
   "metadata": {
    "collapsed": false,
    "ExecuteTime": {
     "end_time": "2024-04-29T19:37:09.734686100Z",
     "start_time": "2024-04-29T19:37:09.703681Z"
    }
   },
   "id": "348be9cfc40175da"
  },
  {
   "cell_type": "markdown",
   "source": [
    "# MM for speculative grade"
   ],
   "metadata": {
    "collapsed": false
   },
   "id": "76ae9b95b6372906"
  },
  {
   "cell_type": "code",
   "execution_count": 4,
   "outputs": [
    {
     "name": "stdout",
     "output_type": "stream",
     "text": [
      "Estimated parameters for speculative grade:  0.2757333871078777 -1.7498743361043698\n"
     ]
    }
   ],
   "source": [
    "# MM for speculative grade\n",
    "MM_params_spec = estimate_w_factor_loading(df[\"pd_spec\"], df[\"num_of_spec_grades\"], initial_guess=0.3)\n",
    "print(\"Estimated parameters for speculative grade: \", MM_params_spec[0], norm.ppf(MM_params_spec[1]))"
   ],
   "metadata": {
    "collapsed": false,
    "ExecuteTime": {
     "end_time": "2024-04-29T19:37:09.839798600Z",
     "start_time": "2024-04-29T19:37:09.730686600Z"
    }
   },
   "id": "9dbf66527f6d6c68"
  },
  {
   "cell_type": "markdown",
   "source": [
    "# MLE"
   ],
   "metadata": {
    "collapsed": false
   },
   "id": "5362e1e0adda8b8f"
  },
  {
   "cell_type": "code",
   "execution_count": 5,
   "outputs": [],
   "source": [
    "default_table = df[[\"Speculative-grade defaults\", \"Investment-grade defaults\"]].values\n",
    "num_of_obligors = df[[\"num_of_spec_grades\", \"num_of_inv_grades\"]].values\n",
    "\n",
    "# ML for speculative grade\n",
    "ML_params = mle_trapz_g_and_w(default_table, num_of_obligors, [0.27, 0.27], [-2.7, -2.1])"
   ],
   "metadata": {
    "collapsed": false,
    "ExecuteTime": {
     "end_time": "2024-04-29T19:37:22.538446300Z",
     "start_time": "2024-04-29T19:37:09.831693800Z"
    }
   },
   "id": "22e6b02027a7a038"
  },
  {
   "cell_type": "code",
   "execution_count": 6,
   "outputs": [
    {
     "name": "stdout",
     "output_type": "stream",
     "text": [
      "Estimated parameters for speculative grade:  [0.2676783  0.29884413] [-1.7524295  -3.14209441]\n"
     ]
    }
   ],
   "source": [
    "print(\"Estimated parameters for speculative grade: \", ML_params[0], ML_params[1])"
   ],
   "metadata": {
    "collapsed": false,
    "ExecuteTime": {
     "end_time": "2024-04-29T19:37:22.558446400Z",
     "start_time": "2024-04-29T19:37:22.541446800Z"
    }
   },
   "id": "b67d0488f9351442"
  },
  {
   "cell_type": "markdown",
   "source": [
    "# MM for Investment Grade"
   ],
   "metadata": {
    "collapsed": false
   },
   "id": "ae1f47ecb9a75946"
  },
  {
   "cell_type": "code",
   "execution_count": 7,
   "outputs": [
    {
     "name": "stdout",
     "output_type": "stream",
     "text": [
      "Estimated parameters for investment grade:  0.2696365259565405 -3.128836387266735\n"
     ]
    }
   ],
   "source": [
    "# MM for investment grade\n",
    "MM_params_inv = estimate_w_factor_loading(df[\"pd_inv\"], df[\"num_of_inv_grades\"], initial_guess=0.4)\n",
    "print(\"Estimated parameters for investment grade: \", MM_params_inv[0], norm.ppf(MM_params_inv[1]))"
   ],
   "metadata": {
    "collapsed": false,
    "ExecuteTime": {
     "end_time": "2024-04-29T19:37:22.645031600Z",
     "start_time": "2024-04-29T19:37:22.553448800Z"
    }
   },
   "id": "131e0ab36a7231d5"
  },
  {
   "cell_type": "code",
   "execution_count": 18,
   "outputs": [],
   "source": [
    "# Calculate the average\n",
    "pd_average = np.mean(df[\"pd_inv\"])\n",
    "\n",
    "# Calculate the expected value of 1/n_g\n",
    "expected_value_of_reciprocal_n_g = np.mean(1 / df[\"num_of_inv_grades\"])\n",
    "\n",
    "# Variance of default rate\n",
    "variance_of_p_d = (np.var(df[\"pd_inv\"]) - expected_value_of_reciprocal_n_g * pd_average * (1 - pd_average)) / (\n",
    "            1 - expected_value_of_reciprocal_n_g)\n",
    "\n",
    "# Define bounds for w_factor_loading\n",
    "bounds = [(0.2, 0.8)]\n",
    "\n",
    "# Define object function\n",
    "object_function = lambda w: abs(calc_variance_of_default_rate(w, pd_average) - variance_of_p_d)"
   ],
   "metadata": {
    "collapsed": false,
    "ExecuteTime": {
     "end_time": "2024-04-29T19:38:43.520722400Z",
     "start_time": "2024-04-29T19:38:43.478725300Z"
    }
   },
   "id": "3e0a74948163d3b5"
  },
  {
   "cell_type": "code",
   "execution_count": 19,
   "outputs": [
    {
     "data": {
      "text/plain": "(True, array([0.34998169]))"
     },
     "execution_count": 19,
     "metadata": {},
     "output_type": "execute_result"
    }
   ],
   "source": [
    "from scipy.optimize import minimize\n",
    "from scipy.optimize import minimize_scalar\n",
    "\n",
    "result = minimize(object_function, np.array([0.35]), bounds=bounds)\n",
    "\n",
    "result.success, result.x"
   ],
   "metadata": {
    "collapsed": false,
    "ExecuteTime": {
     "end_time": "2024-04-29T19:38:43.871441100Z",
     "start_time": "2024-04-29T19:38:43.819233900Z"
    }
   },
   "id": "45cbeebe59bec685"
  },
  {
   "cell_type": "code",
   "execution_count": 20,
   "outputs": [
    {
     "data": {
      "text/plain": "  message: CONVERGENCE: REL_REDUCTION_OF_F_<=_FACTR*EPSMCH\n  success: True\n   status: 0\n      fun: 1.071163106035374e-06\n        x: [ 3.500e-01]\n      nit: 1\n      jac: [ 1.830e-05]\n     nfev: 4\n     njev: 2\n hess_inv: <1x1 LbfgsInvHessProduct with dtype=float64>"
     },
     "execution_count": 20,
     "metadata": {},
     "output_type": "execute_result"
    }
   ],
   "source": [
    "result"
   ],
   "metadata": {
    "collapsed": false,
    "ExecuteTime": {
     "end_time": "2024-04-29T19:38:44.186097600Z",
     "start_time": "2024-04-29T19:38:44.148119400Z"
    }
   },
   "id": "9195b082255e021f"
  },
  {
   "cell_type": "code",
   "execution_count": 21,
   "outputs": [
    {
     "data": {
      "text/plain": "(True, 0.269636604604835)"
     },
     "execution_count": 21,
     "metadata": {},
     "output_type": "execute_result"
    }
   ],
   "source": [
    "from scipy.optimize import minimize\n",
    "from scipy.optimize import minimize_scalar\n",
    "\n",
    "# result = minimize_scalar(object_function, np.array([0.35]), bounds=(-0.999, 0.999), tol=1e-6)\n",
    "result = minimize_scalar(object_function, bounds=(0, 0.999))\n",
    "\n",
    "result.success, result.x"
   ],
   "metadata": {
    "collapsed": false,
    "ExecuteTime": {
     "end_time": "2024-04-29T19:38:44.779648200Z",
     "start_time": "2024-04-29T19:38:44.719641200Z"
    }
   },
   "id": "b50be7cdc0afc4e5"
  },
  {
   "cell_type": "code",
   "execution_count": 22,
   "outputs": [
    {
     "data": {
      "text/plain": "(True, array([0.26963651]))"
     },
     "execution_count": 22,
     "metadata": {},
     "output_type": "execute_result"
    }
   ],
   "source": [
    "from scipy.optimize import minimize\n",
    "\n",
    "result = minimize(object_function, np.array([0.35]), bounds=bounds, tol=1e-10)\n",
    "\n",
    "result.success, result.x"
   ],
   "metadata": {
    "collapsed": false,
    "ExecuteTime": {
     "end_time": "2024-04-29T19:38:45.568706600Z",
     "start_time": "2024-04-29T19:38:45.472698100Z"
    }
   },
   "id": "5244fd70d1a57df1"
  },
  {
   "cell_type": "code",
   "execution_count": 13,
   "outputs": [],
   "source": [
    "log_object_function = lambda w: np.log((calc_variance_of_default_rate(w, pd_average) - variance_of_p_d)**2)"
   ],
   "metadata": {
    "collapsed": false,
    "ExecuteTime": {
     "end_time": "2024-04-29T19:37:22.787043100Z",
     "start_time": "2024-04-29T19:37:22.698037800Z"
    }
   },
   "id": "bdc538bee78c255e"
  },
  {
   "cell_type": "code",
   "execution_count": 14,
   "outputs": [
    {
     "data": {
      "text/plain": "(False, array([0.26963652]))"
     },
     "execution_count": 14,
     "metadata": {},
     "output_type": "execute_result"
    }
   ],
   "source": [
    "result = minimize(log_object_function, np.array([0.35]), bounds=bounds)\n",
    "result.success, result.x"
   ],
   "metadata": {
    "collapsed": false,
    "ExecuteTime": {
     "end_time": "2024-04-29T19:37:22.900053Z",
     "start_time": "2024-04-29T19:37:22.716035700Z"
    }
   },
   "id": "fa7cbdad39e6ec0c"
  },
  {
   "cell_type": "code",
   "execution_count": 15,
   "outputs": [
    {
     "data": {
      "text/plain": "(True, 0.2696348684980971)"
     },
     "execution_count": 15,
     "metadata": {},
     "output_type": "execute_result"
    }
   ],
   "source": [
    "result = minimize_scalar(log_object_function, bounds=(0, 0.999))\n",
    "result.success, result.x"
   ],
   "metadata": {
    "collapsed": false,
    "ExecuteTime": {
     "end_time": "2024-04-29T19:37:22.902051400Z",
     "start_time": "2024-04-29T19:37:22.839048500Z"
    }
   },
   "id": "dcf1e876a81b8cf9"
  },
  {
   "cell_type": "code",
   "execution_count": 16,
   "outputs": [
    {
     "data": {
      "text/plain": "(False, array([0.26963652]))"
     },
     "execution_count": 16,
     "metadata": {},
     "output_type": "execute_result"
    }
   ],
   "source": [
    "result = minimize(log_object_function, np.array([0.35]), bounds=bounds, tol=1e-10)\n",
    "result.success, result.x"
   ],
   "metadata": {
    "collapsed": false,
    "ExecuteTime": {
     "end_time": "2024-04-29T19:37:23.014061500Z",
     "start_time": "2024-04-29T19:37:22.871053100Z"
    }
   },
   "id": "17ae49df11256ebe"
  },
  {
   "cell_type": "markdown",
   "source": [
    "# To-do monte carlo parameter estimation"
   ],
   "metadata": {
    "collapsed": false
   },
   "id": "a57c7ba3cf981cf1"
  },
  {
   "cell_type": "markdown",
   "source": [
    "# To-do monte carlo likelihood calculation and comparison with calculate_trapz_likelihood_arr "
   ],
   "metadata": {
    "collapsed": false
   },
   "id": "a63301debe0b2f41"
  },
  {
   "cell_type": "code",
   "execution_count": 16,
   "outputs": [],
   "source": [],
   "metadata": {
    "collapsed": false,
    "ExecuteTime": {
     "end_time": "2024-04-29T19:37:23.016060400Z",
     "start_time": "2024-04-29T19:37:22.983059800Z"
    }
   },
   "id": "77d9b3a4ad0333ef"
  }
 ],
 "metadata": {
  "kernelspec": {
   "name": "python3",
   "language": "python",
   "display_name": "Python 3 (ipykernel)"
  },
  "language_info": {
   "codemirror_mode": {
    "name": "ipython",
    "version": 2
   },
   "file_extension": ".py",
   "mimetype": "text/x-python",
   "name": "python",
   "nbconvert_exporter": "python",
   "pygments_lexer": "ipython2",
   "version": "2.7.6"
  }
 },
 "nbformat": 4,
 "nbformat_minor": 5
}
