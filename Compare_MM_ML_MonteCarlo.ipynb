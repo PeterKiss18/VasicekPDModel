{
 "cells": [
  {
   "cell_type": "code",
   "execution_count": 1,
   "outputs": [],
   "source": [
    "import pandas as pd\n",
    "import numpy as np\n",
    "from scipy.stats import norm"
   ],
   "metadata": {
    "collapsed": false,
    "ExecuteTime": {
     "end_time": "2024-03-16T19:36:37.974039600Z",
     "start_time": "2024-03-16T19:36:36.414907900Z"
    }
   },
   "id": "6abe2450acf61b47"
  },
  {
   "cell_type": "code",
   "execution_count": 2,
   "outputs": [],
   "source": [
    "from src.MM_estimation import calc_variance_of_default_rate\n",
    "from src.MM_estimation import estimate_w_factor_loading\n",
    "from src.ML_estimation import calculate_my_likelihood\n",
    "from src.ML_estimation import calculate_likelihood_ts\n",
    "from src.ML_estimation import maximum_likelihood_estimation\n",
    "from src.monte_carlo import monte_carlo_MLE\n",
    "from src.sucess_probability import p_g"
   ],
   "metadata": {
    "collapsed": false,
    "ExecuteTime": {
     "end_time": "2024-03-16T19:36:37.996039900Z",
     "start_time": "2024-03-16T19:36:37.961038600Z"
    }
   },
   "id": "initial_id"
  },
  {
   "cell_type": "code",
   "execution_count": 3,
   "outputs": [],
   "source": [
    "df = pd.read_csv('SP_historical_PD_data.csv', sep=';')\n",
    "df[\"pd_total\"] = df[\"Default rate (%)\"] / 100\n",
    "df[\"pd_inv\"] = df[\"Investment-grade default rate (%)\"] / 100\n",
    "df[\"pd_spec\"] = df[\"Speculative-grade default rate (%)\"] / 100\n",
    "# Calculate the number of obligors\n",
    "df['num_of_inv_grades'] = (df['Investment-grade defaults'] / (df[\"pd_inv\"])).round()\n",
    "df['num_of_spec_grades'] = (\n",
    "            df['Speculative-grade defaults'] / (df[\"pd_spec\"])).round().astype(int)\n",
    "df['num_of_total_grades'] = (df['Total defaults*'] / (df[\"pd_total\"])).round().astype(int)\n",
    "\n",
    "# Fill-out the missing values in num_of_inv_grades column with the difference between num_of_total_grades and num_of_spec_grades\n",
    "df['num_of_inv_grades'] = np.where(df['num_of_inv_grades'].isna(), df['num_of_total_grades'] - df['num_of_spec_grades'],\n",
    "                                   df['num_of_inv_grades']).astype(int)"
   ],
   "metadata": {
    "collapsed": false,
    "ExecuteTime": {
     "end_time": "2024-03-16T19:36:38.034044400Z",
     "start_time": "2024-03-16T19:36:37.999040500Z"
    }
   },
   "id": "348be9cfc40175da"
  },
  {
   "cell_type": "code",
   "execution_count": 4,
   "outputs": [
    {
     "name": "stdout",
     "output_type": "stream",
     "text": [
      "Estimated parameters for speculative grade:  (0.07602889962521624, 0.040069999999999995)\n"
     ]
    }
   ],
   "source": [
    "# MM for speculative grade\n",
    "MM_params = estimate_w_factor_loading(df[\"pd_spec\"], df[\"num_of_spec_grades\"], initial_guess=0.27)\n",
    "print(\"Estimated parameters for speculative grade: \", MM_params)"
   ],
   "metadata": {
    "collapsed": false,
    "ExecuteTime": {
     "end_time": "2024-03-16T19:36:38.137053800Z",
     "start_time": "2024-03-16T19:36:38.027042700Z"
    }
   },
   "id": "9dbf66527f6d6c68"
  },
  {
   "cell_type": "code",
   "execution_count": 9,
   "outputs": [
    {
     "name": "stdout",
     "output_type": "stream",
     "text": [
      "Estimated parameters for speculative grade:  (0.0, -1.78533136062324)\n"
     ]
    }
   ],
   "source": [
    "# ML for speculative grade\n",
    "ML_params = maximum_likelihood_estimation(df[\"Speculative-grade defaults\"], df[\"num_of_spec_grades\"], norm.pdf, p_g, 0.27, -2, [(0, 1), (-np.inf, np.inf)])\n",
    "print(\"Estimated parameters for speculative grade: \", ML_params)"
   ],
   "metadata": {
    "collapsed": false,
    "ExecuteTime": {
     "end_time": "2024-03-16T19:38:01.025002200Z",
     "start_time": "2024-03-16T19:37:56.959070300Z"
    }
   },
   "id": "26ca071a98705fa8"
  },
  {
   "cell_type": "code",
   "execution_count": 11,
   "outputs": [
    {
     "name": "stdout",
     "output_type": "stream",
     "text": [
      "Estimated parameters for speculative grade:  (0.0, -1.7853908061981196)\n"
     ]
    }
   ],
   "source": [
    "Monte_carlo_params = monte_carlo_MLE(df[\"Speculative-grade defaults\"].sum(), df[\"num_of_spec_grades\"].sum(), p_g, 0.27, -2, [(0, 1), (-np.inf, np.inf)], num_of_simulations=10000)\n",
    "print(\"Estimated parameters for speculative grade: \", Monte_carlo_params)"
   ],
   "metadata": {
    "collapsed": false,
    "ExecuteTime": {
     "end_time": "2024-03-16T19:38:46.263978200Z",
     "start_time": "2024-03-16T19:38:45.999956500Z"
    }
   },
   "id": "ebd8b817908247be"
  },
  {
   "cell_type": "code",
   "execution_count": null,
   "outputs": [],
   "source": [],
   "metadata": {
    "collapsed": false
   },
   "id": "d746901e0684728c"
  }
 ],
 "metadata": {
  "kernelspec": {
   "display_name": "Python 3",
   "language": "python",
   "name": "python3"
  },
  "language_info": {
   "codemirror_mode": {
    "name": "ipython",
    "version": 2
   },
   "file_extension": ".py",
   "mimetype": "text/x-python",
   "name": "python",
   "nbconvert_exporter": "python",
   "pygments_lexer": "ipython2",
   "version": "2.7.6"
  }
 },
 "nbformat": 4,
 "nbformat_minor": 5
}
