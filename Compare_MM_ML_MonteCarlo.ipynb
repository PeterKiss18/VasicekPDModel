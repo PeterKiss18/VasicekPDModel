{
 "cells": [
  {
   "cell_type": "code",
   "execution_count": 1,
   "outputs": [],
   "source": [
    "import pandas as pd\n",
    "import numpy as np\n",
    "from scipy.stats import norm, binom\n",
    "from scipy import stats"
   ],
   "metadata": {
    "collapsed": false,
    "ExecuteTime": {
     "end_time": "2024-03-27T20:30:11.413215400Z",
     "start_time": "2024-03-27T20:30:11.398999300Z"
    }
   },
   "id": "6abe2450acf61b47"
  },
  {
   "cell_type": "code",
   "execution_count": 2,
   "outputs": [],
   "source": [
    "from src.MM_estimation import calc_variance_of_default_rate\n",
    "from src.MM_estimation import estimate_w_factor_loading\n",
    "from src.ML_estimation import calculate_my_likelihood\n",
    "from src.ML_estimation import calculate_my_likelihood_arr\n",
    "from src.ML_estimation import maximum_likelihood_estimation\n",
    "from src.monte_carlo import monte_carlo_MLE, expected_value_of_function_monte_carlo, likelihood_mc\n",
    "from src.sucess_probability import p_g"
   ],
   "metadata": {
    "collapsed": false,
    "ExecuteTime": {
     "end_time": "2024-03-27T20:30:11.482221500Z",
     "start_time": "2024-03-27T20:30:11.416217600Z"
    }
   },
   "id": "initial_id"
  },
  {
   "cell_type": "code",
   "execution_count": 3,
   "outputs": [],
   "source": [
    "df = pd.read_csv('SP_historical_PD_data.csv', sep=';')\n",
    "df[\"pd_total\"] = df[\"Default rate (%)\"] / 100\n",
    "df[\"pd_inv\"] = df[\"Investment-grade default rate (%)\"] / 100\n",
    "df[\"pd_spec\"] = df[\"Speculative-grade default rate (%)\"] / 100\n",
    "# Calculate the number of obligors\n",
    "df['num_of_inv_grades'] = (df['Investment-grade defaults'] / (df[\"pd_inv\"])).round()\n",
    "df['num_of_spec_grades'] = (\n",
    "            df['Speculative-grade defaults'] / (df[\"pd_spec\"])).round().astype(int)\n",
    "df['num_of_total_grades'] = (df['Total defaults*'] / (df[\"pd_total\"])).round().astype(int)\n",
    "\n",
    "# Fill-out the missing values in num_of_inv_grades column with the difference between num_of_total_grades and num_of_spec_grades\n",
    "df['num_of_inv_grades'] = np.where(df['num_of_inv_grades'].isna(), df['num_of_total_grades'] - df['num_of_spec_grades'],\n",
    "                                   df['num_of_inv_grades']).astype(int)"
   ],
   "metadata": {
    "collapsed": false,
    "ExecuteTime": {
     "end_time": "2024-03-27T20:30:11.483221400Z",
     "start_time": "2024-03-27T20:30:11.450216900Z"
    }
   },
   "id": "348be9cfc40175da"
  },
  {
   "cell_type": "code",
   "execution_count": 4,
   "outputs": [
    {
     "name": "stdout",
     "output_type": "stream",
     "text": [
      "Estimated parameters for speculative grade:  0.07602889962521624 -1.7498743361043698\n"
     ]
    }
   ],
   "source": [
    "# MM for speculative grade\n",
    "MM_params = estimate_w_factor_loading(df[\"pd_spec\"], df[\"num_of_spec_grades\"], initial_guess=0.27)\n",
    "print(\"Estimated parameters for speculative grade: \", MM_params[0], norm.ppf(MM_params[1]))"
   ],
   "metadata": {
    "collapsed": false,
    "ExecuteTime": {
     "end_time": "2024-03-27T20:30:11.619627200Z",
     "start_time": "2024-03-27T20:30:11.480223200Z"
    }
   },
   "id": "9dbf66527f6d6c68"
  },
  {
   "cell_type": "code",
   "execution_count": 5,
   "outputs": [
    {
     "name": "stdout",
     "output_type": "stream",
     "text": [
      "Estimated parameters for speculative grade:  (0.0, -1.78533136062324)\n"
     ]
    }
   ],
   "source": [
    "# ML for speculative grade\n",
    "ML_params = maximum_likelihood_estimation(df[\"Speculative-grade defaults\"], df[\"num_of_spec_grades\"], norm.pdf, p_g, 0.27, -2, [(0, 1), (-np.inf, np.inf)])\n",
    "print(\"Estimated parameters for speculative grade: \", ML_params)"
   ],
   "metadata": {
    "collapsed": false,
    "ExecuteTime": {
     "end_time": "2024-03-27T20:30:15.120275200Z",
     "start_time": "2024-03-27T20:30:11.602630200Z"
    }
   },
   "id": "26ca071a98705fa8"
  },
  {
   "cell_type": "code",
   "execution_count": 6,
   "outputs": [
    {
     "name": "stdout",
     "output_type": "stream",
     "text": [
      "Estimated parameters for speculative grade:  [ 0.28771878 -1.72499994]\n"
     ]
    }
   ],
   "source": [
    "Monte_carlo_params = monte_carlo_MLE([df[\"Speculative-grade defaults\"].sum()], [df[\"num_of_spec_grades\"].sum()], p_g, [0.27], [-2], [(0, 1), (-np.inf, np.inf)], num_of_simulations=10000)\n",
    "print(\"Estimated parameters for speculative grade: \", Monte_carlo_params.x)"
   ],
   "metadata": {
    "collapsed": false,
    "ExecuteTime": {
     "end_time": "2024-03-27T20:30:16.579405200Z",
     "start_time": "2024-03-27T20:30:15.116277Z"
    }
   },
   "id": "ebd8b817908247be"
  },
  {
   "cell_type": "code",
   "execution_count": 7,
   "outputs": [
    {
     "data": {
      "text/plain": "0.0008893194009710714"
     },
     "execution_count": 7,
     "metadata": {},
     "output_type": "execute_result"
    }
   ],
   "source": [
    "# An example for the calculation of the integrand\n",
    "test_d_g_arr = np.array([5, 8])\n",
    "test_n_g_arr = np.array([50, 100])\n",
    "prob_dens_func = norm.pdf\n",
    "test_w_g_arr = np.array([0.9, 0.9])\n",
    "test_gamma_g_arr = np.array([-1.6449, -1.6449])\n",
    "\n",
    "calculate_my_likelihood_arr(test_d_g_arr, test_n_g_arr, p_g, prob_dens_func, test_w_g_arr, test_gamma_g_arr)"
   ],
   "metadata": {
    "collapsed": false,
    "ExecuteTime": {
     "end_time": "2024-03-27T20:30:16.695418200Z",
     "start_time": "2024-03-27T20:30:16.575404Z"
    }
   },
   "id": "d746901e0684728c"
  },
  {
   "cell_type": "code",
   "execution_count": 8,
   "outputs": [
    {
     "data": {
      "text/plain": "0.0008960398476656619"
     },
     "execution_count": 8,
     "metadata": {},
     "output_type": "execute_result"
    }
   ],
   "source": [
    "test_lamda_func = lambda x: np.prod([stats.binom.pmf(d, n, p_g(x, w_g, gamma_g)) for d, n, w_g, gamma_g in zip(test_d_g_arr, test_n_g_arr, test_w_g_arr, test_gamma_g_arr)], axis = 0)\n",
    "\n",
    "expected_value_of_function_monte_carlo(test_lamda_func, num_samples=1000000)"
   ],
   "metadata": {
    "collapsed": false,
    "ExecuteTime": {
     "end_time": "2024-03-27T20:30:17.444806900Z",
     "start_time": "2024-03-27T20:30:16.668415900Z"
    }
   },
   "id": "bb3ee7aa416ee32c"
  },
  {
   "cell_type": "code",
   "execution_count": 9,
   "outputs": [
    {
     "data": {
      "text/plain": "0.0008843317041947533"
     },
     "execution_count": 9,
     "metadata": {},
     "output_type": "execute_result"
    }
   ],
   "source": [
    "likelihood_mc(test_w_g_arr[0], test_gamma_g_arr, test_d_g_arr, test_n_g_arr, p_g, num_of_simulations=1000000)"
   ],
   "metadata": {
    "collapsed": false,
    "ExecuteTime": {
     "end_time": "2024-03-27T20:30:18.193846200Z",
     "start_time": "2024-03-27T20:30:17.430807900Z"
    }
   },
   "id": "3057decf464cec45"
  },
  {
   "cell_type": "code",
   "execution_count": 9,
   "outputs": [],
   "source": [],
   "metadata": {
    "collapsed": false,
    "ExecuteTime": {
     "end_time": "2024-03-27T20:30:18.241045Z",
     "start_time": "2024-03-27T20:30:18.175876100Z"
    }
   },
   "id": "2484a7b5c96c7f81"
  },
  {
   "cell_type": "code",
   "execution_count": 10,
   "outputs": [
    {
     "data": {
      "text/plain": "'\\nlist(zip(test_d_g_arr, test_n_g_arr, test_w_g_arr, test_gamma_g_arr))\\nlist(zip(test_d_g_arr, test_n_g_arr, test_w_g_arr, [-1.96]]))\\n'"
     },
     "execution_count": 10,
     "metadata": {},
     "output_type": "execute_result"
    }
   ],
   "source": [
    "#TO-DO fix this in likelihood_mc function:\n",
    "\"\"\"\n",
    "list(zip(test_d_g_arr, test_n_g_arr, test_w_g_arr, test_gamma_g_arr))\n",
    "list(zip(test_d_g_arr, test_n_g_arr, test_w_g_arr, [-1.96]]))\n",
    "\"\"\""
   ],
   "metadata": {
    "collapsed": false,
    "ExecuteTime": {
     "end_time": "2024-03-27T20:30:18.275046900Z",
     "start_time": "2024-03-27T20:30:18.188873500Z"
    }
   },
   "id": "131b49f642c93711"
  },
  {
   "cell_type": "code",
   "execution_count": 10,
   "outputs": [],
   "source": [],
   "metadata": {
    "collapsed": false,
    "ExecuteTime": {
     "end_time": "2024-03-27T20:30:18.276049400Z",
     "start_time": "2024-03-27T20:30:18.201850400Z"
    }
   },
   "id": "dc4d37d50296eca0"
  },
  {
   "cell_type": "code",
   "execution_count": 10,
   "outputs": [],
   "source": [],
   "metadata": {
    "collapsed": false,
    "ExecuteTime": {
     "end_time": "2024-03-27T20:30:18.299050300Z",
     "start_time": "2024-03-27T20:30:18.216852800Z"
    }
   },
   "id": "ef01dd670b14dead"
  },
  {
   "cell_type": "code",
   "execution_count": 11,
   "outputs": [],
   "source": [
    "from src.sucess_probability import p_g"
   ],
   "metadata": {
    "collapsed": false,
    "ExecuteTime": {
     "end_time": "2024-03-27T20:30:18.302048400Z",
     "start_time": "2024-03-27T20:30:18.231846100Z"
    }
   },
   "id": "715b28a152631b15"
  },
  {
   "cell_type": "code",
   "execution_count": 12,
   "outputs": [],
   "source": [
    "from src.data_generator import generate_default_buckets\n",
    "from scipy.optimize import minimize"
   ],
   "metadata": {
    "collapsed": false,
    "ExecuteTime": {
     "end_time": "2024-03-27T20:30:18.302048400Z",
     "start_time": "2024-03-27T20:30:18.248045900Z"
    }
   },
   "id": "2c93f97b1a0bad95"
  },
  {
   "cell_type": "code",
   "execution_count": 13,
   "outputs": [],
   "source": [
    "#np.random.seed(3123) # Fix the seed for reproducibility\n",
    "np.random.seed()\n",
    "time_horizon = 40\n",
    "factor_loading_list = [0.45, 0.45, 0.45]\n",
    "num_of_obligors_list = [3000, 3000, 3000]\n",
    "gamma_list = [-2.9, -2.3, -1.6]\n",
    "d_g_list = generate_default_buckets(factor_loading_list,num_of_obligors_list, gamma_list,time_horizon)\n",
    "# multiply all num_of_obligors with time_horizon\n",
    "n_g_list = [num_of_obligors_list[i] * time_horizon for i in range(len(num_of_obligors_list))]"
   ],
   "metadata": {
    "collapsed": false,
    "ExecuteTime": {
     "end_time": "2024-03-27T20:30:18.428059800Z",
     "start_time": "2024-03-27T20:30:18.263054Z"
    }
   },
   "id": "d7128d0ea0c7bba0"
  },
  {
   "cell_type": "code",
   "execution_count": 14,
   "outputs": [
    {
     "data": {
      "text/plain": "([198, 1136, 6194], [120000, 120000, 120000])"
     },
     "execution_count": 14,
     "metadata": {},
     "output_type": "execute_result"
    }
   ],
   "source": [
    "d_g_list, n_g_list"
   ],
   "metadata": {
    "collapsed": false,
    "ExecuteTime": {
     "end_time": "2024-03-27T20:30:18.469063800Z",
     "start_time": "2024-03-27T20:30:18.292051500Z"
    }
   },
   "id": "ba7b69c93d9ef317"
  },
  {
   "cell_type": "code",
   "execution_count": 15,
   "outputs": [],
   "source": [
    "#SP data\n",
    "# d_g_list = np.array([64, 234, 1027, 5030, 29903])\n",
    "# n_g_list = 40 * np.array([3000, 3000, 3000, 3000, 3000])\n",
    "# \n",
    "# d_g_list, n_g_list"
   ],
   "metadata": {
    "collapsed": false,
    "ExecuteTime": {
     "end_time": "2024-03-27T20:30:18.471070500Z",
     "start_time": "2024-03-27T20:30:18.310051Z"
    }
   },
   "id": "fb225b03162e88ce"
  },
  {
   "cell_type": "code",
   "execution_count": 16,
   "outputs": [],
   "source": [
    "from scipy.integrate import quad\n",
    "\n",
    "def calculate_my_likelihood_arr(d_g_arr, n_g_arr, p_g, prob_dens_func, w_g_arr, gamma_g_arr):\n",
    "    \"\"\"\n",
    "    Numerically calculates the value of L(d_g_arr) for multiple grades based on the given formula.\n",
    "\n",
    "    Parameters:\n",
    "        d_g_arr (numpy.array(int)): Values of d_g's by grades\n",
    "        n_g_arr (numpy.array(int)): Values of n_g's by grades\n",
    "        p_g (callable): The p_g function representing the probability density function.\n",
    "        prob_dens_func (callable): The pdf_g function representing the probability density function.\n",
    "        w_g_arr (numpy.array(float)): Parameter 'w_g's by grades\n",
    "        gamma_g_arr (numpy.array(float)): Parameter 'gamma_g's by grades.\n",
    "\n",
    "    Returns:\n",
    "        float: Numerical approximation of the integral.\n",
    "    \"\"\"\n",
    "\n",
    "    integrand = lambda x: np.prod(binom.pmf(d_g_arr, n_g_arr, p_g(x, w_g_arr, gamma_g_arr))) * prob_dens_func(x)\n",
    "\n",
    "    result, _ = quad(integrand, -3, 3) # , points=5, epsrel = 1e-012\n",
    "\n",
    "    return result"
   ],
   "metadata": {
    "collapsed": false,
    "ExecuteTime": {
     "end_time": "2024-03-27T20:30:18.472070200Z",
     "start_time": "2024-03-27T20:30:18.327060Z"
    }
   },
   "id": "c9e8855c987d4bea"
  },
  {
   "cell_type": "code",
   "execution_count": 17,
   "outputs": [],
   "source": [
    "def parameter_estimation(default_list, num_of_obligors_over_time, factor_loading_init, gamma_list_init):\n",
    "    initial_guess = gamma_list_init + factor_loading_init\n",
    "    \n",
    "    num_of_gamma = len(gamma_list_init)\n",
    "    num_of_factor_loading = len(factor_loading_init)\n",
    "    # bound = num_of_gamma * (-5, 5) + num_of_factor_loading * (-1, 1)\n",
    "    bounds = num_of_gamma * [(-5, 5)] + num_of_factor_loading * [(-1, 1)]\n",
    "    # print(bounds)\n",
    "    # print(initial_guess)\n",
    "    # Optimization\n",
    "    objective_function = lambda params: -np.log(calculate_my_likelihood_arr(\n",
    "        default_list, num_of_obligors_over_time, p_g, norm.pdf, params[num_of_gamma], params[0:num_of_gamma]\n",
    "    ))\n",
    "    \n",
    "    result = minimize(objective_function,\n",
    "                  initial_guess,\n",
    "                  method=\"Nelder-Mead\",\n",
    "                  bounds=bounds,\n",
    "                  options={\n",
    "                      'disp': True})\n",
    "    \n",
    "    return result"
   ],
   "metadata": {
    "collapsed": false,
    "ExecuteTime": {
     "end_time": "2024-03-27T20:30:18.472070200Z",
     "start_time": "2024-03-27T20:30:18.341055900Z"
    }
   },
   "id": "1389f986bc524333"
  },
  {
   "cell_type": "code",
   "execution_count": 18,
   "outputs": [
    {
     "name": "stdout",
     "output_type": "stream",
     "text": [
      "Optimization terminated successfully.\n",
      "         Current function value: 18.658806\n",
      "         Iterations: 78\n",
      "         Function evaluations: 182\n",
      "CPU times: total: 5.47 s\n",
      "Wall time: 5.6 s\n"
     ]
    }
   ],
   "source": [
    "%%time\n",
    "#factor_loading_init = [0.45]\n",
    "factor_loading_init = [0.44]\n",
    "# gamma_list_init = [-2.9, -2.3, -1.6]\n",
    "gamma_list_init = [-2.87, -2.3, -1.6]\n",
    "# gamma_list_init = [-2.05, -1.85, -1.6, -1.6, -1.6]\n",
    "ML_params = parameter_estimation(d_g_list, n_g_list, factor_loading_init, gamma_list_init)\n",
    "#print(\"Estimated parameters for speculative grade: \", ML_params)"
   ],
   "metadata": {
    "collapsed": false,
    "ExecuteTime": {
     "end_time": "2024-03-27T20:30:23.995334100Z",
     "start_time": "2024-03-27T20:30:18.360058800Z"
    }
   },
   "id": "15974eeb8c25caf6"
  },
  {
   "cell_type": "code",
   "execution_count": 19,
   "outputs": [
    {
     "data": {
      "text/plain": "'Optimization terminated successfully.'"
     },
     "execution_count": 19,
     "metadata": {},
     "output_type": "execute_result"
    }
   ],
   "source": [
    "ML_params.message"
   ],
   "metadata": {
    "collapsed": false,
    "ExecuteTime": {
     "end_time": "2024-03-27T20:30:23.996333900Z",
     "start_time": "2024-03-27T20:30:23.978329400Z"
    }
   },
   "id": "282a7baee957b98"
  },
  {
   "cell_type": "code",
   "execution_count": 20,
   "outputs": [],
   "source": [
    "#real gamma: [-2.0, -1.8, -1.3]"
   ],
   "metadata": {
    "collapsed": false,
    "ExecuteTime": {
     "end_time": "2024-03-27T20:30:24.111341900Z",
     "start_time": "2024-03-27T20:30:23.992330500Z"
    }
   },
   "id": "ad7d6751f58802af"
  },
  {
   "cell_type": "code",
   "execution_count": 21,
   "outputs": [
    {
     "data": {
      "text/plain": "array([-2.82753284, -2.29998685, -1.67407578,  0.43998897])"
     },
     "execution_count": 21,
     "metadata": {},
     "output_type": "execute_result"
    }
   ],
   "source": [
    "ML_params.x"
   ],
   "metadata": {
    "collapsed": false,
    "ExecuteTime": {
     "end_time": "2024-03-27T20:30:24.112341300Z",
     "start_time": "2024-03-27T20:30:24.007332300Z"
    }
   },
   "id": "7fa442fe75b07bd"
  },
  {
   "cell_type": "code",
   "execution_count": 22,
   "outputs": [
    {
     "data": {
      "text/plain": "18.65880578771864"
     },
     "execution_count": 22,
     "metadata": {},
     "output_type": "execute_result"
    }
   ],
   "source": [
    "-np.log(calculate_my_likelihood_arr(d_g_list, n_g_list, p_g, prob_dens_func, ML_params.x[3], ML_params.x[0:3]))"
   ],
   "metadata": {
    "collapsed": false,
    "ExecuteTime": {
     "end_time": "2024-03-27T20:30:24.141344Z",
     "start_time": "2024-03-27T20:30:24.024334600Z"
    }
   },
   "id": "7e6937494c2c9eb1"
  },
  {
   "cell_type": "code",
   "execution_count": 23,
   "outputs": [
    {
     "data": {
      "text/plain": "19.640462340924813"
     },
     "execution_count": 23,
     "metadata": {},
     "output_type": "execute_result"
    }
   ],
   "source": [
    "-np.log(likelihood_mc(ML_params.x[3], ML_params.x[0:3], d_g_list, n_g_list, p_g, num_of_simulations=1000000))"
   ],
   "metadata": {
    "collapsed": false,
    "ExecuteTime": {
     "end_time": "2024-03-27T20:30:25.025416300Z",
     "start_time": "2024-03-27T20:30:24.069340700Z"
    }
   },
   "id": "def2fc1d8b3c29bb"
  },
  {
   "cell_type": "code",
   "execution_count": 24,
   "outputs": [
    {
     "data": {
      "text/plain": "37.48633421546001"
     },
     "execution_count": 24,
     "metadata": {},
     "output_type": "execute_result"
    }
   ],
   "source": [
    "-np.log(likelihood_mc(factor_loading_init, gamma_list_init, d_g_list, n_g_list, p_g, num_of_simulations=1000000))"
   ],
   "metadata": {
    "collapsed": false,
    "ExecuteTime": {
     "end_time": "2024-03-27T20:30:25.953496700Z",
     "start_time": "2024-03-27T20:30:25.010419500Z"
    }
   },
   "id": "320afcd13905d54b"
  },
  {
   "cell_type": "code",
   "execution_count": 25,
   "outputs": [
    {
     "data": {
      "text/plain": "47.0720856257602"
     },
     "execution_count": 25,
     "metadata": {},
     "output_type": "execute_result"
    }
   ],
   "source": [
    "-np.log(likelihood_mc(factor_loading_list[0], gamma_list, d_g_list, n_g_list, p_g, num_of_simulations=1000000))"
   ],
   "metadata": {
    "collapsed": false,
    "ExecuteTime": {
     "end_time": "2024-03-27T20:30:27.069588400Z",
     "start_time": "2024-03-27T20:30:25.953496700Z"
    }
   },
   "id": "c0f030ecb86e338a"
  },
  {
   "cell_type": "code",
   "execution_count": 26,
   "outputs": [
    {
     "data": {
      "text/plain": "51.15128460268474"
     },
     "execution_count": 26,
     "metadata": {},
     "output_type": "execute_result"
    }
   ],
   "source": [
    "-np.log(calculate_my_likelihood_arr(d_g_list, n_g_list, p_g, prob_dens_func, factor_loading_list, gamma_list))"
   ],
   "metadata": {
    "collapsed": false,
    "ExecuteTime": {
     "end_time": "2024-03-27T20:30:27.134597Z",
     "start_time": "2024-03-27T20:30:27.066592900Z"
    }
   },
   "id": "b385b552ac23a404"
  },
  {
   "cell_type": "code",
   "execution_count": 27,
   "outputs": [],
   "source": [
    "def w_calc_func(a, b):\n",
    "    return -b/ np.sqrt(b**2 + 1)\n",
    "\n",
    "def gamma_calc_func(a, b):\n",
    "    return a * np.sqrt(1 - w_calc_func(a, b)**2)\n",
    "\n",
    "def a_calc_func(w, gamma):\n",
    "    return gamma / np.sqrt(1 - w**2)\n",
    "\n",
    "def b_calc_func(w, gamma):\n",
    "    return -w / np.sqrt(1 - w**2)\n",
    "\n",
    "def calculate_variable_changed_likelihood_arr(d_g_arr, n_g_arr, p_g, prob_dens_func, a, b):\n",
    "    integrand = lambda x: np.prod(binom.pmf(d_g_arr, n_g_arr, norm.cdf(a*x+b))) * prob_dens_func(x)\n",
    "\n",
    "    result, _ = quad(integrand, -3, 3)\n",
    "\n",
    "    return result"
   ],
   "metadata": {
    "collapsed": false,
    "ExecuteTime": {
     "end_time": "2024-03-27T20:30:27.135594900Z",
     "start_time": "2024-03-27T20:30:27.112595100Z"
    }
   },
   "id": "5faa476874dab988"
  },
  {
   "cell_type": "code",
   "execution_count": 28,
   "outputs": [
    {
     "data": {
      "text/plain": "([-3.2473765635439547, -2.5755055503969295, -1.7916560350587338],\n [-0.5039032598602688, -0.5039032598602688, -0.5039032598602688])"
     },
     "execution_count": 28,
     "metadata": {},
     "output_type": "execute_result"
    }
   ],
   "source": [
    "a = [a_calc_func(factor_loading_list[i], gamma_list[i]) for i in range(3)]\n",
    "b = [b_calc_func(factor_loading_list[i], gamma_list[i]) for i in range(3)]\n",
    "a, b"
   ],
   "metadata": {
    "collapsed": false,
    "ExecuteTime": {
     "end_time": "2024-03-27T20:30:27.177602900Z",
     "start_time": "2024-03-27T20:30:27.122594Z"
    }
   },
   "id": "a2138adf98b5c4bd"
  },
  {
   "cell_type": "code",
   "execution_count": 29,
   "outputs": [
    {
     "name": "stdout",
     "output_type": "stream",
     "text": [
      "Optimization terminated successfully.\n",
      "         Current function value: 18.658806\n",
      "         Iterations: 80\n",
      "         Function evaluations: 160\n",
      "The optimal weight parameter is [-3.21409413 -2.57187844 -1.87304655 -0.50822791]\n",
      "Optimization terminated successfully.\n",
      "CPU times: total: 4.52 s\n",
      "Wall time: 4.51 s\n"
     ]
    }
   ],
   "source": [
    "%%time\n",
    "# Different gamma and same factor loading parameter\n",
    "\n",
    "# MLE condition and initial guess\n",
    "initial_guess = np.array([-3.247, -2.576, -1.792, -0.50])\n",
    "bounds = [(-5, 5), (-5, 5), (-5, 5), (-5, 5)]\n",
    "\n",
    "# Function to be minimized in weight parameter\n",
    "objective_function = lambda params: -np.log(calculate_variable_changed_likelihood_arr(d_g_list, n_g_list, p_g, norm.pdf, \n",
    "                                                                 np.repeat(params[3], 3), \n",
    "                                                                 params[0:3]))\n",
    "\n",
    "result = minimize(objective_function,\n",
    "                  initial_guess,\n",
    "                  method=\"Nelder-Mead\",\n",
    "                  bounds=bounds,\n",
    "                  options={\n",
    "                      'disp': True})\n",
    "# Method can be Nelder-Mead or Powell\n",
    "\n",
    "# The optimal weight parameter\n",
    "optimal_weight = result.x\n",
    "print(f\"The optimal weight parameter is {optimal_weight}\")\n",
    "print(result.message)"
   ],
   "metadata": {
    "collapsed": false,
    "ExecuteTime": {
     "end_time": "2024-03-27T20:30:31.666948900Z",
     "start_time": "2024-03-27T20:30:27.141595600Z"
    }
   },
   "id": "7e5e68e7e9452fd5"
  },
  {
   "cell_type": "code",
   "execution_count": 30,
   "outputs": [
    {
     "data": {
      "text/plain": "array([-3.21409413, -2.57187844, -1.87304655, -0.50822791])"
     },
     "execution_count": 30,
     "metadata": {},
     "output_type": "execute_result"
    }
   ],
   "source": [
    "result.x"
   ],
   "metadata": {
    "collapsed": false,
    "ExecuteTime": {
     "end_time": "2024-03-27T20:30:31.780927400Z",
     "start_time": "2024-03-27T20:30:31.665920600Z"
    }
   },
   "id": "d1ab0897a4f732c5"
  },
  {
   "cell_type": "code",
   "execution_count": 31,
   "outputs": [
    {
     "data": {
      "text/plain": "([0.4530719424852357, 0.4530719424852357, 0.4530719424852357],\n [-2.8652812090681987, -2.2927626474283787, -1.6697722189139166])"
     },
     "execution_count": 31,
     "metadata": {},
     "output_type": "execute_result"
    }
   ],
   "source": [
    "b_result = result.x[3]\n",
    "a_result = [result.x[i] for i in range(3)]\n",
    "w_result = [w_calc_func(a_result[i], b_result) for i in range(3)]\n",
    "gamma_result = [gamma_calc_func(a_result[i], b_result) for i in range(3)]\n",
    "\n",
    "w_result, gamma_result"
   ],
   "metadata": {
    "collapsed": false,
    "ExecuteTime": {
     "end_time": "2024-03-27T20:30:31.790941600Z",
     "start_time": "2024-03-27T20:30:31.699922800Z"
    }
   },
   "id": "a5a7457a553c46dd"
  },
  {
   "cell_type": "code",
   "execution_count": 31,
   "outputs": [],
   "source": [],
   "metadata": {
    "collapsed": false,
    "ExecuteTime": {
     "end_time": "2024-03-27T20:30:31.791930400Z",
     "start_time": "2024-03-27T20:30:31.709923200Z"
    }
   },
   "id": "213ad902c95421ff"
  },
  {
   "cell_type": "code",
   "execution_count": 32,
   "outputs": [],
   "source": [
    "import random"
   ],
   "metadata": {
    "collapsed": false,
    "ExecuteTime": {
     "end_time": "2024-03-27T20:30:31.818930300Z",
     "start_time": "2024-03-27T20:30:31.725925900Z"
    }
   },
   "id": "670ce5c9bfa47ad0"
  },
  {
   "cell_type": "code",
   "execution_count": 33,
   "outputs": [],
   "source": [
    "def expected_value_of_function_monte_carlo(f, num_samples=100000):\n",
    "    \"\"\"\n",
    "    Calculates the expected value of a given function f(x) where x follows the standard normal distribution.\n",
    "\n",
    "    Parameters:\n",
    "        f (callable): The function f(x) to calculate the expected value.\n",
    "        num_samples (int): The number of samples to use in the Monte Carlo simulation.\n",
    "\n",
    "    Returns:\n",
    "        float: The estimated expected value of the function.\n",
    "    \"\"\"\n",
    "    # Generate random samples from the standard normal distribution\n",
    "    random_samples = np.random.normal(size=num_samples)\n",
    "\n",
    "    # Calculate the expected value using the Monte Carlo simulation\n",
    "    estimated_expected_value = np.mean(f(random_samples))\n",
    "\n",
    "    return estimated_expected_value"
   ],
   "metadata": {
    "collapsed": false,
    "ExecuteTime": {
     "end_time": "2024-03-27T20:30:31.818930300Z",
     "start_time": "2024-03-27T20:30:31.745927100Z"
    }
   },
   "id": "590273e81306d223"
  },
  {
   "cell_type": "code",
   "execution_count": 34,
   "outputs": [],
   "source": [
    "def likelihood_mc(w_g, gamma_g, d_g, n_g, p_g, num_of_simulations):\n",
    "    # likelihood function\n",
    "    likelihood_function = lambda x: np.prod([stats.binom.pmf(d, n, p_g(x, w_g=w_g, gamma_g=gamma)) for d, n, gamma in zip(d_g, n_g, gamma_g)], axis=0)\n",
    "\n",
    "    return expected_value_of_function_monte_carlo(likelihood_function, num_of_simulations)"
   ],
   "metadata": {
    "collapsed": false,
    "ExecuteTime": {
     "end_time": "2024-03-27T20:30:31.821931Z",
     "start_time": "2024-03-27T20:30:31.772928600Z"
    }
   },
   "id": "f23896a31e18577f"
  },
  {
   "cell_type": "code",
   "execution_count": 35,
   "outputs": [],
   "source": [
    "# Monte Carlo\n",
    "def monte_carlo_MLE(d_g, n_g, p_g, w_initial, gamma_initial, bounds, num_of_simulations, seed=None):\n",
    "    \"\"\"\n",
    "    Estimate w_g and gamma_g using the maximum likelihood estimation method.\n",
    "    Parameters:\n",
    "        d_g (list): number of defaults.\n",
    "        n_g (list): number of obligors.\n",
    "        p_g (callable): The p_g function representing the probability density function.\n",
    "        w_initial (float): Initial guess for w_g.\n",
    "        gamma_initial (float): Initial guess for gamma_g.\n",
    "        bounds (list): Bounds for the minimization algorithm.\n",
    "        num_of_simulations (int): Number of simulations for the Monte Carlo method.\n",
    "        seed (int): Seed for the random number generator.\n",
    "    Returns:\n",
    "        tuple: Estimated w_g and gamma_g.\n",
    "    \"\"\"\n",
    "    if seed is None:\n",
    "        seed = random.randint(1, 10000)\n",
    "\n",
    "    np.random.seed(seed)\n",
    "\n",
    "    # objective function\n",
    "    objective_function = lambda params: -np.log(likelihood_mc(params[0], params[1:], d_g, n_g, p_g, num_of_simulations))\n",
    "\n",
    "    initial_guess = w_initial + gamma_initial\n",
    "    print(initial_guess)\n",
    "    print(bounds)\n",
    "\n",
    "    result = minimize(objective_function, initial_guess, method='Nelder-Mead', bounds=bounds)\n",
    "    #result = minimize(objective_function, initial_guess, bounds=bounds)\n",
    "\n",
    "    # The found value of w_g and gamma_g\n",
    "    return result"
   ],
   "metadata": {
    "collapsed": false,
    "ExecuteTime": {
     "end_time": "2024-03-27T20:30:31.851933100Z",
     "start_time": "2024-03-27T20:30:31.785930Z"
    }
   },
   "id": "b28ba027daf75fcf"
  },
  {
   "cell_type": "code",
   "execution_count": 36,
   "outputs": [
    {
     "name": "stdout",
     "output_type": "stream",
     "text": [
      "[0.44, -2.87, -2.3, -1.6]\n",
      "[(-1, 1), (-5, 5), (-5, 5), (-5, 5)]\n",
      "CPU times: total: 7.89 s\n",
      "Wall time: 8.03 s\n"
     ]
    }
   ],
   "source": [
    "%%time\n",
    "Monte_carlo_params = monte_carlo_MLE(d_g_list, n_g_list, p_g, factor_loading_init, gamma_list_init,\n",
    "                                     [(-1, 1), (-5, 5), (-5, 5), (-5, 5)], num_of_simulations=10000)"
   ],
   "metadata": {
    "collapsed": false,
    "ExecuteTime": {
     "end_time": "2024-03-27T20:30:39.859606300Z",
     "start_time": "2024-03-27T20:30:31.803930400Z"
    }
   },
   "id": "e24383743a289d0e"
  },
  {
   "cell_type": "code",
   "execution_count": 37,
   "outputs": [
    {
     "data": {
      "text/plain": "       message: Maximum number of function evaluations has been exceeded.\n       success: False\n        status: 1\n           fun: 17.66211480811598\n             x: [ 4.453e-01 -2.824e+00 -2.296e+00 -1.654e+00]\n           nit: 307\n          nfev: 800\n final_simplex: (array([[ 4.453e-01, -2.824e+00, -2.296e+00, -1.654e+00],\n                       [ 4.453e-01, -2.824e+00, -2.296e+00, -1.654e+00],\n                       ...,\n                       [ 4.453e-01, -2.824e+00, -2.296e+00, -1.654e+00],\n                       [ 4.453e-01, -2.824e+00, -2.296e+00, -1.654e+00]]), array([ 1.766e+01,  1.778e+01,  1.785e+01,  1.786e+01,\n                        1.789e+01]))"
     },
     "execution_count": 37,
     "metadata": {},
     "output_type": "execute_result"
    }
   ],
   "source": [
    "Monte_carlo_params"
   ],
   "metadata": {
    "collapsed": false,
    "ExecuteTime": {
     "end_time": "2024-03-27T20:30:39.940647500Z",
     "start_time": "2024-03-27T20:30:39.857608Z"
    }
   },
   "id": "57660eddc0bad8e0"
  },
  {
   "cell_type": "code",
   "execution_count": 38,
   "outputs": [
    {
     "data": {
      "text/plain": "array([ 0.44530394, -2.82379343, -2.29586094, -1.65412611])"
     },
     "execution_count": 38,
     "metadata": {},
     "output_type": "execute_result"
    }
   ],
   "source": [
    "Monte_carlo_params.x"
   ],
   "metadata": {
    "collapsed": false,
    "ExecuteTime": {
     "end_time": "2024-03-27T20:30:39.968647800Z",
     "start_time": "2024-03-27T20:30:39.886607500Z"
    }
   },
   "id": "a0e01e5d86bc3a43"
  },
  {
   "cell_type": "code",
   "execution_count": 38,
   "outputs": [],
   "source": [],
   "metadata": {
    "collapsed": false,
    "ExecuteTime": {
     "end_time": "2024-03-27T20:30:39.969648200Z",
     "start_time": "2024-03-27T20:30:39.903608100Z"
    }
   },
   "id": "e004536b61d22e6e"
  }
 ],
 "metadata": {
  "kernelspec": {
   "name": "python3",
   "language": "python",
   "display_name": "Python 3 (ipykernel)"
  },
  "language_info": {
   "codemirror_mode": {
    "name": "ipython",
    "version": 2
   },
   "file_extension": ".py",
   "mimetype": "text/x-python",
   "name": "python",
   "nbconvert_exporter": "python",
   "pygments_lexer": "ipython2",
   "version": "2.7.6"
  }
 },
 "nbformat": 4,
 "nbformat_minor": 5
}
