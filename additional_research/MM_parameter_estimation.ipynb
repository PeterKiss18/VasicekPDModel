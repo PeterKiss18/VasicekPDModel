{
 "cells": [
  {
   "cell_type": "markdown",
   "source": [
    "# Method of moments parameter estimation in Vasicek model"
   ],
   "metadata": {
    "collapsed": false
   },
   "id": "de566590ae8fe6ce"
  },
  {
   "cell_type": "code",
   "execution_count": 1,
   "outputs": [],
   "source": [
    "import numpy as np\n",
    "import pandas as pd\n",
    "import scipy.stats as stats\n",
    "from scipy.optimize import minimize"
   ],
   "metadata": {
    "collapsed": false,
    "ExecuteTime": {
     "end_time": "2024-05-31T13:09:27.165059600Z",
     "start_time": "2024-05-31T13:09:19.756060900Z"
    }
   },
   "id": "initial_id"
  },
  {
   "cell_type": "code",
   "execution_count": 2,
   "outputs": [],
   "source": [
    "df = pd.read_csv('..\\data\\SP_historical_PD_data.csv', sep=';')"
   ],
   "metadata": {
    "collapsed": false,
    "ExecuteTime": {
     "end_time": "2024-05-31T13:09:27.166059100Z",
     "start_time": "2024-05-31T13:09:21.893239900Z"
    }
   },
   "id": "a50a6c52df6534b8"
  },
  {
   "cell_type": "code",
   "execution_count": 3,
   "outputs": [
    {
     "data": {
      "text/plain": "   Year  Total defaults*  Investment-grade defaults  \\\n0  1981                2                          0   \n1  1982               18                          2   \n2  1983               12                          1   \n3  1984               14                          2   \n4  1985               19                          0   \n\n   Speculative-grade defaults  Default rate (%)  \\\n0                           2              0.15   \n1                          15              1.22   \n2                          10              0.77   \n3                          12              0.93   \n4                          18              1.13   \n\n   Investment-grade default rate (%)  Speculative-grade default rate (%)  \\\n0                               0.00                                0.63   \n1                               0.19                                4.46   \n2                               0.09                                2.98   \n3                               0.17                                3.31   \n4                               0.00                                4.37   \n\n   Total debt outstanding (bil. $)  \n0                             0.06  \n1                             0.90  \n2                             0.37  \n3                             0.36  \n4                             0.31  ",
      "text/html": "<div>\n<style scoped>\n    .dataframe tbody tr th:only-of-type {\n        vertical-align: middle;\n    }\n\n    .dataframe tbody tr th {\n        vertical-align: top;\n    }\n\n    .dataframe thead th {\n        text-align: right;\n    }\n</style>\n<table border=\"1\" class=\"dataframe\">\n  <thead>\n    <tr style=\"text-align: right;\">\n      <th></th>\n      <th>Year</th>\n      <th>Total defaults*</th>\n      <th>Investment-grade defaults</th>\n      <th>Speculative-grade defaults</th>\n      <th>Default rate (%)</th>\n      <th>Investment-grade default rate (%)</th>\n      <th>Speculative-grade default rate (%)</th>\n      <th>Total debt outstanding (bil. $)</th>\n    </tr>\n  </thead>\n  <tbody>\n    <tr>\n      <th>0</th>\n      <td>1981</td>\n      <td>2</td>\n      <td>0</td>\n      <td>2</td>\n      <td>0.15</td>\n      <td>0.00</td>\n      <td>0.63</td>\n      <td>0.06</td>\n    </tr>\n    <tr>\n      <th>1</th>\n      <td>1982</td>\n      <td>18</td>\n      <td>2</td>\n      <td>15</td>\n      <td>1.22</td>\n      <td>0.19</td>\n      <td>4.46</td>\n      <td>0.90</td>\n    </tr>\n    <tr>\n      <th>2</th>\n      <td>1983</td>\n      <td>12</td>\n      <td>1</td>\n      <td>10</td>\n      <td>0.77</td>\n      <td>0.09</td>\n      <td>2.98</td>\n      <td>0.37</td>\n    </tr>\n    <tr>\n      <th>3</th>\n      <td>1984</td>\n      <td>14</td>\n      <td>2</td>\n      <td>12</td>\n      <td>0.93</td>\n      <td>0.17</td>\n      <td>3.31</td>\n      <td>0.36</td>\n    </tr>\n    <tr>\n      <th>4</th>\n      <td>1985</td>\n      <td>19</td>\n      <td>0</td>\n      <td>18</td>\n      <td>1.13</td>\n      <td>0.00</td>\n      <td>4.37</td>\n      <td>0.31</td>\n    </tr>\n  </tbody>\n</table>\n</div>"
     },
     "execution_count": 3,
     "metadata": {},
     "output_type": "execute_result"
    }
   ],
   "source": [
    "df.head()"
   ],
   "metadata": {
    "collapsed": false,
    "ExecuteTime": {
     "end_time": "2024-05-31T13:09:27.168057800Z",
     "start_time": "2024-05-31T13:09:21.920241900Z"
    }
   },
   "id": "515479d6224a7cd9"
  },
  {
   "cell_type": "code",
   "execution_count": 4,
   "outputs": [],
   "source": [
    "# Make pd columns\n",
    "df[\"pd_total\"] = df[\"Default rate (%)\"] / 100\n",
    "df[\"pd_inv\"] = df[\"Investment-grade default rate (%)\"] / 100\n",
    "df[\"pd_spec\"] = df[\"Speculative-grade default rate (%)\"] / 100"
   ],
   "metadata": {
    "collapsed": false,
    "ExecuteTime": {
     "end_time": "2024-05-31T13:09:27.169059300Z",
     "start_time": "2024-05-31T13:09:21.954424800Z"
    }
   },
   "id": "76008f90027fa94c"
  },
  {
   "cell_type": "code",
   "execution_count": 5,
   "outputs": [],
   "source": [
    "# Calculate the number of obligors\n",
    "df['num_of_inv_grades'] = (df['Investment-grade defaults'] / (df[\"pd_inv\"])).round()\n",
    "df['num_of_spec_grades'] = (\n",
    "            df['Speculative-grade defaults'] / (df[\"pd_spec\"])).round().astype(int)\n",
    "df['num_of_total_grades'] = (df['Total defaults*'] / (df[\"pd_total\"])).round().astype(int)\n",
    "\n",
    "# Fill-out the missing values in num_of_inv_grades column with the difference between num_of_total_grades and num_of_spec_grades\n",
    "df['num_of_inv_grades'] = np.where(df['num_of_inv_grades'].isna(), df['num_of_total_grades'] - df['num_of_spec_grades'],\n",
    "                                   df['num_of_inv_grades']).astype(int)"
   ],
   "metadata": {
    "collapsed": false,
    "ExecuteTime": {
     "end_time": "2024-05-31T13:09:27.169059300Z",
     "start_time": "2024-05-31T13:09:21.968418800Z"
    }
   },
   "id": "ee1ab74f7dfe7219"
  },
  {
   "cell_type": "code",
   "execution_count": 6,
   "outputs": [
    {
     "data": {
      "text/plain": "    Year  num_of_inv_grades  num_of_spec_grades  num_of_total_grades\n30  2011               3333                2378                 6625\n31  2012               4733                2548                 7281\n32  2013               4871                2771                 7642\n33  2014               5571                3125                 8696\n34  2015               4928                3381                 8309\n35  2016               3333                3373                 7799\n36  2017               4491                3360                 7851\n37  2018               4532                3429                 7961\n38  2019               3333                3622                 9077\n39  2020               4648                3600                 8248",
      "text/html": "<div>\n<style scoped>\n    .dataframe tbody tr th:only-of-type {\n        vertical-align: middle;\n    }\n\n    .dataframe tbody tr th {\n        vertical-align: top;\n    }\n\n    .dataframe thead th {\n        text-align: right;\n    }\n</style>\n<table border=\"1\" class=\"dataframe\">\n  <thead>\n    <tr style=\"text-align: right;\">\n      <th></th>\n      <th>Year</th>\n      <th>num_of_inv_grades</th>\n      <th>num_of_spec_grades</th>\n      <th>num_of_total_grades</th>\n    </tr>\n  </thead>\n  <tbody>\n    <tr>\n      <th>30</th>\n      <td>2011</td>\n      <td>3333</td>\n      <td>2378</td>\n      <td>6625</td>\n    </tr>\n    <tr>\n      <th>31</th>\n      <td>2012</td>\n      <td>4733</td>\n      <td>2548</td>\n      <td>7281</td>\n    </tr>\n    <tr>\n      <th>32</th>\n      <td>2013</td>\n      <td>4871</td>\n      <td>2771</td>\n      <td>7642</td>\n    </tr>\n    <tr>\n      <th>33</th>\n      <td>2014</td>\n      <td>5571</td>\n      <td>3125</td>\n      <td>8696</td>\n    </tr>\n    <tr>\n      <th>34</th>\n      <td>2015</td>\n      <td>4928</td>\n      <td>3381</td>\n      <td>8309</td>\n    </tr>\n    <tr>\n      <th>35</th>\n      <td>2016</td>\n      <td>3333</td>\n      <td>3373</td>\n      <td>7799</td>\n    </tr>\n    <tr>\n      <th>36</th>\n      <td>2017</td>\n      <td>4491</td>\n      <td>3360</td>\n      <td>7851</td>\n    </tr>\n    <tr>\n      <th>37</th>\n      <td>2018</td>\n      <td>4532</td>\n      <td>3429</td>\n      <td>7961</td>\n    </tr>\n    <tr>\n      <th>38</th>\n      <td>2019</td>\n      <td>3333</td>\n      <td>3622</td>\n      <td>9077</td>\n    </tr>\n    <tr>\n      <th>39</th>\n      <td>2020</td>\n      <td>4648</td>\n      <td>3600</td>\n      <td>8248</td>\n    </tr>\n  </tbody>\n</table>\n</div>"
     },
     "execution_count": 6,
     "metadata": {},
     "output_type": "execute_result"
    }
   ],
   "source": [
    "df[[\"Year\", \"num_of_inv_grades\", \"num_of_spec_grades\", \"num_of_total_grades\"]].iloc[-10:]"
   ],
   "metadata": {
    "collapsed": false,
    "ExecuteTime": {
     "end_time": "2024-05-31T13:09:27.170058500Z",
     "start_time": "2024-05-31T13:09:21.979419600Z"
    }
   },
   "id": "3c3102d1cb4d67a9"
  },
  {
   "cell_type": "code",
   "execution_count": 7,
   "outputs": [],
   "source": [
    "# Calculate the average\n",
    "p_total_average = np.mean(df[\"pd_total\"])"
   ],
   "metadata": {
    "collapsed": false,
    "ExecuteTime": {
     "end_time": "2024-05-31T13:09:27.170058500Z",
     "start_time": "2024-05-31T13:09:22.009425Z"
    }
   },
   "id": "a99f30340817578f"
  },
  {
   "cell_type": "code",
   "execution_count": 8,
   "outputs": [
    {
     "name": "stdout",
     "output_type": "stream",
     "text": [
      "0.0147675\n"
     ]
    }
   ],
   "source": [
    "print(p_total_average)"
   ],
   "metadata": {
    "collapsed": false,
    "ExecuteTime": {
     "end_time": "2024-05-31T13:09:27.171059Z",
     "start_time": "2024-05-31T13:09:22.024423800Z"
    }
   },
   "id": "a2e5e8033dafa72e"
  },
  {
   "cell_type": "code",
   "execution_count": 9,
   "outputs": [],
   "source": [
    "# Expected value of 1/n_g\n",
    "expected_value_of_reciprocal_n_g = np.mean(1 / df['num_of_total_grades'])"
   ],
   "metadata": {
    "collapsed": false,
    "ExecuteTime": {
     "end_time": "2024-05-31T13:09:27.171059Z",
     "start_time": "2024-05-31T13:09:22.041425900Z"
    }
   },
   "id": "bbe7abbd205f915f"
  },
  {
   "cell_type": "code",
   "execution_count": 10,
   "outputs": [
    {
     "name": "stdout",
     "output_type": "stream",
     "text": [
      "0.0002769531644134457\n"
     ]
    }
   ],
   "source": [
    "print(expected_value_of_reciprocal_n_g)"
   ],
   "metadata": {
    "collapsed": false,
    "ExecuteTime": {
     "end_time": "2024-05-31T13:09:27.172059900Z",
     "start_time": "2024-05-31T13:09:22.057426400Z"
    }
   },
   "id": "48484a0a15f6ce8c"
  },
  {
   "cell_type": "code",
   "execution_count": 11,
   "outputs": [],
   "source": [
    "# Normalized volatility\n",
    "normalized_volatility = np.sqrt(np.var(df[\"pd_total\"]))/p_total_average"
   ],
   "metadata": {
    "collapsed": false,
    "ExecuteTime": {
     "end_time": "2024-05-31T13:09:27.172059900Z",
     "start_time": "2024-05-31T13:09:22.073427600Z"
    }
   },
   "id": "29d43b0eb859ad44"
  },
  {
   "cell_type": "code",
   "execution_count": 12,
   "outputs": [
    {
     "name": "stdout",
     "output_type": "stream",
     "text": [
      "0.6558144744924091\n"
     ]
    }
   ],
   "source": [
    "print(normalized_volatility)"
   ],
   "metadata": {
    "collapsed": false,
    "ExecuteTime": {
     "end_time": "2024-05-31T13:09:27.172059900Z",
     "start_time": "2024-05-31T13:09:22.088429Z"
    }
   },
   "id": "bb2f1dd751783a36"
  },
  {
   "cell_type": "markdown",
   "source": [
    "$$\n",
    "\\mathrm{V}\\left[p_\\zeta(x)\\right]=\\frac{\\mathrm{V}\\left[\\hat{p}_\\zeta\\right]-\\mathrm{E}\\left[1 / \\hat{n}_\\zeta\\right] \\bar{p}_\\zeta\\left(1-\\bar{p}_\\zeta\\right)}{1-\\mathrm{E}\\left[1 / \\hat{n}_\\zeta\\right]}\n",
    "$$"
   ],
   "metadata": {
    "collapsed": false
   },
   "id": "d72789b7eb090854"
  },
  {
   "cell_type": "code",
   "execution_count": 13,
   "outputs": [],
   "source": [
    "variance_of_p_total = (np.var(df[\"pd_total\"]) - expected_value_of_reciprocal_n_g * p_total_average * (1 - p_total_average)) / (1 - expected_value_of_reciprocal_n_g)"
   ],
   "metadata": {
    "collapsed": false,
    "ExecuteTime": {
     "end_time": "2024-05-31T13:09:27.173059300Z",
     "start_time": "2024-05-31T13:09:22.106430500Z"
    }
   },
   "id": "6da78c2b5a1993cb"
  },
  {
   "cell_type": "code",
   "execution_count": 14,
   "outputs": [
    {
     "name": "stdout",
     "output_type": "stream",
     "text": [
      "8.9789553080102e-05\n"
     ]
    }
   ],
   "source": [
    "print(variance_of_p_total)"
   ],
   "metadata": {
    "collapsed": false,
    "ExecuteTime": {
     "end_time": "2024-05-31T13:09:27.173059300Z",
     "start_time": "2024-05-31T13:09:22.125431700Z"
    }
   },
   "id": "6bd164698fca19a4"
  },
  {
   "cell_type": "code",
   "execution_count": 15,
   "outputs": [],
   "source": [
    "normalized_varience = np.sqrt(variance_of_p_total) / p_total_average"
   ],
   "metadata": {
    "collapsed": false,
    "ExecuteTime": {
     "end_time": "2024-05-31T13:09:27.173059300Z",
     "start_time": "2024-05-31T13:09:22.136433400Z"
    }
   },
   "id": "874dd9c01577a07f"
  },
  {
   "cell_type": "code",
   "execution_count": 16,
   "outputs": [
    {
     "name": "stdout",
     "output_type": "stream",
     "text": [
      "0.6416614161184627\n"
     ]
    }
   ],
   "source": [
    "print(normalized_varience)"
   ],
   "metadata": {
    "collapsed": false,
    "ExecuteTime": {
     "end_time": "2024-05-31T13:09:27.195060300Z",
     "start_time": "2024-05-31T13:09:22.153436700Z"
    }
   },
   "id": "534284de593850e2"
  },
  {
   "cell_type": "code",
   "execution_count": 17,
   "outputs": [],
   "source": [
    "cut_off_value_total = stats.norm.ppf(p_total_average)"
   ],
   "metadata": {
    "collapsed": false,
    "ExecuteTime": {
     "end_time": "2024-05-31T13:09:27.196062100Z",
     "start_time": "2024-05-31T13:09:22.170434900Z"
    }
   },
   "id": "cbab0c1650dc8b95"
  },
  {
   "cell_type": "code",
   "execution_count": 18,
   "outputs": [
    {
     "name": "stdout",
     "output_type": "stream",
     "text": [
      "-2.1762710356300374\n"
     ]
    }
   ],
   "source": [
    "print(cut_off_value_total)"
   ],
   "metadata": {
    "collapsed": false,
    "ExecuteTime": {
     "end_time": "2024-05-31T13:09:27.196062100Z",
     "start_time": "2024-05-31T13:09:22.185437Z"
    }
   },
   "id": "9dae9e02a0d986a1"
  },
  {
   "cell_type": "markdown",
   "source": [
    "$$\n",
    "V_\\zeta \\equiv \\operatorname{Var}\\left[p_\\zeta(x)\\right]=\\operatorname{BIVNOR}\\left(C_\\zeta, C_\\zeta, w_\\zeta^2\\right)-\\bar{p}_\\zeta^2\n",
    "$$"
   ],
   "metadata": {
    "collapsed": false
   },
   "id": "74d4d2ca87fcad2c"
  },
  {
   "cell_type": "code",
   "execution_count": 19,
   "outputs": [],
   "source": [
    "def calc_variance_of_default_rate(w_factor_loading, pd_average = p_total_average):\n",
    "    \n",
    "    cut_off_value = stats.norm.ppf(pd_average)\n",
    "    \n",
    "    # if w_factor_loading is a np array, take the first element\n",
    "    if isinstance(w_factor_loading, np.ndarray):\n",
    "        w_factor_loading = w_factor_loading[0]\n",
    "    \n",
    "    # Bivariate normal cdf parameters\n",
    "    mean = [0, 0]\n",
    "    cov_matrix = [[1, w_factor_loading**2], [w_factor_loading**2, 1]]\n",
    "    \n",
    "     # Calculate BIVNOR value\n",
    "    bivnor_value = stats.multivariate_normal.cdf([cut_off_value, cut_off_value], mean=mean, cov=cov_matrix)\n",
    "    \n",
    "    result = bivnor_value - pd_average ** 2\n",
    "    \n",
    "    return result"
   ],
   "metadata": {
    "collapsed": false,
    "ExecuteTime": {
     "end_time": "2024-05-31T13:09:27.197062600Z",
     "start_time": "2024-05-31T13:09:22.204438700Z"
    }
   },
   "id": "81d9524123df25"
  },
  {
   "cell_type": "code",
   "execution_count": 20,
   "outputs": [
    {
     "data": {
      "text/plain": "0.0019267238820132938"
     },
     "execution_count": 20,
     "metadata": {},
     "output_type": "execute_result"
    }
   ],
   "source": [
    "# Test for calc_variance_of_default_rate\n",
    "calc_variance_of_default_rate(0.7)"
   ],
   "metadata": {
    "collapsed": false,
    "ExecuteTime": {
     "end_time": "2024-05-31T13:09:27.197062600Z",
     "start_time": "2024-05-31T13:09:22.215439700Z"
    }
   },
   "id": "cf3d9aaa4e993be7"
  },
  {
   "cell_type": "markdown",
   "source": [
    "## Method of moments parameter estimation for w_factor_loading"
   ],
   "metadata": {
    "collapsed": false
   },
   "id": "75177114fdd36304"
  },
  {
   "cell_type": "code",
   "execution_count": 21,
   "outputs": [
    {
     "name": "stdout",
     "output_type": "stream",
     "text": [
      "Found value of w_factor_loading: 0.23741460694825398\n"
     ]
    }
   ],
   "source": [
    "# Target value to achieve\n",
    "target_result = variance_of_p_total\n",
    "\n",
    "# Initial guess for the minimization algorithm\n",
    "initial_guess = 0.27\n",
    "\n",
    "# Define bounds for w_factor_loading\n",
    "bounds = [(-2, 2)]\n",
    "\n",
    "# Define object function\n",
    "object_function = lambda w: abs(calc_variance_of_default_rate(w) - target_result)\n",
    "\n",
    "# Minimization based on the objective function\n",
    "result = minimize(object_function, initial_guess, bounds=bounds)\n",
    "\n",
    "# The found value of w_factor_loading\n",
    "w_factor_loading_found = result.x[0]\n",
    "\n",
    "print(\"Found value of w_factor_loading:\", w_factor_loading_found)"
   ],
   "metadata": {
    "collapsed": false,
    "ExecuteTime": {
     "end_time": "2024-05-31T13:09:27.199062100Z",
     "start_time": "2024-05-31T13:09:22.235443Z"
    }
   },
   "id": "8d5506dd2b606949"
  },
  {
   "cell_type": "code",
   "execution_count": 21,
   "outputs": [],
   "source": [],
   "metadata": {
    "collapsed": false,
    "ExecuteTime": {
     "end_time": "2024-05-31T13:09:27.199062100Z",
     "start_time": "2024-05-31T13:09:22.294448300Z"
    }
   },
   "id": "bf03dd33d104324a"
  },
  {
   "cell_type": "markdown",
   "source": [
    "## Packaged function for parameter estimation"
   ],
   "metadata": {
    "collapsed": false
   },
   "id": "e7710c4b26813e29"
  },
  {
   "cell_type": "code",
   "execution_count": 22,
   "outputs": [],
   "source": [
    "def estimate_w_factor_loading(historical_pd, num_of_total_grades, initial_guess=0.27):\n",
    "    \"\"\"\n",
    "    Estimate w_factor_loading using the method of moments\n",
    "    :param historical_pd: pd series, list of historical default rates\n",
    "    :param num_of_total_grades: pd series, list of the number of total grades\n",
    "    :param initial_guess: float, initial guess for the minimization algorithm\n",
    "    :return: float, estimated w_factor_loading\n",
    "    \"\"\"\n",
    "    \n",
    "    # Calculate the average\n",
    "    pd_average = np.mean(historical_pd)\n",
    "    \n",
    "    if pd_average == 0:\n",
    "        return 0, pd_average\n",
    "    \n",
    "    # Calculate the expected value of 1/n_g\n",
    "    expected_value_of_reciprocal_n_g = np.mean(1 / num_of_total_grades)\n",
    "    \n",
    "    # Variance of default rate\n",
    "    variance_of_p_d = (np.var(historical_pd) - expected_value_of_reciprocal_n_g * pd_average * (1 - pd_average)) / (1 - expected_value_of_reciprocal_n_g)\n",
    "\n",
    "    # Define bounds for w_factor_loading\n",
    "    bounds = [(-5, 5)]\n",
    "\n",
    "    # Define object function\n",
    "    object_function = lambda w: abs(calc_variance_of_default_rate(w, pd_average) - variance_of_p_d)\n",
    "\n",
    "    # Minimization based on the objective function\n",
    "    result = minimize(object_function, initial_guess, bounds=bounds)\n",
    "\n",
    "    # The found value of w_factor_loading\n",
    "    w_factor_loading_found = result.x[0]\n",
    "\n",
    "    return w_factor_loading_found, pd_average"
   ],
   "metadata": {
    "collapsed": false,
    "ExecuteTime": {
     "end_time": "2024-05-31T13:09:27.199062100Z",
     "start_time": "2024-05-31T13:09:22.315447Z"
    }
   },
   "id": "81d256e2e7fa9db8"
  },
  {
   "cell_type": "code",
   "execution_count": 23,
   "outputs": [],
   "source": [
    "from scipy.optimize import minimize_scalar\n",
    "\n",
    "def estimate_w_factor_loading_2(historical_pd, num_of_total_grades):\n",
    "    \"\"\"\n",
    "    Estimate w_factor_loading using the method of moments\n",
    "    :param historical_pd: pd series, list of historical default rates\n",
    "    :param num_of_total_grades: pd series, list of the number of total grades\n",
    "    :param initial_guess: float, initial guess for the minimization algorithm\n",
    "    :return: float, estimated w_factor_loading\n",
    "    \"\"\"\n",
    "    \n",
    "    # Calculate the average\n",
    "    pd_average = np.mean(historical_pd)\n",
    "    \n",
    "    if pd_average == 0:\n",
    "        return 0, pd_average\n",
    "    \n",
    "    # Calculate the expected value of 1/n_g\n",
    "    expected_value_of_reciprocal_n_g = np.mean(1 / num_of_total_grades)\n",
    "    \n",
    "    # Variance of default rate\n",
    "    variance_of_p_d = (np.var(historical_pd) - expected_value_of_reciprocal_n_g * pd_average * (1 - pd_average)) / (1 - expected_value_of_reciprocal_n_g)\n",
    "\n",
    "    # Define object function\n",
    "    def object_function(w):\n",
    "        return abs(calc_variance_of_default_rate(w, pd_average) - variance_of_p_d)\n",
    "\n",
    "    # Minimization based on the objective function using minimize_scalar\n",
    "    result = minimize_scalar(object_function, bounds=(0.0001, 1), method='bounded')\n",
    "    #result = minimize_scalar(object_function, method='golden')\n",
    "    \n",
    "    # The found value of w_factor_loading\n",
    "    w_factor_loading_found = result.x\n",
    "\n",
    "    return w_factor_loading_found, pd_average"
   ],
   "metadata": {
    "collapsed": false,
    "ExecuteTime": {
     "end_time": "2024-05-31T13:09:27.200060600Z",
     "start_time": "2024-05-31T13:09:22.329448100Z"
    }
   },
   "id": "9ce9d7dca0b4d4aa"
  },
  {
   "cell_type": "code",
   "execution_count": 24,
   "outputs": [
    {
     "data": {
      "text/plain": "(0.23741460694825398, 0.0147675)"
     },
     "execution_count": 24,
     "metadata": {},
     "output_type": "execute_result"
    }
   ],
   "source": [
    "# Test for the packaged function\n",
    "estimate_w_factor_loading(df[\"pd_total\"], df[\"num_of_total_grades\"])"
   ],
   "metadata": {
    "collapsed": false,
    "ExecuteTime": {
     "end_time": "2024-05-31T13:09:27.201061900Z",
     "start_time": "2024-05-31T13:09:22.342449600Z"
    }
   },
   "id": "52f42c699a6b7ed7"
  },
  {
   "cell_type": "code",
   "execution_count": 25,
   "outputs": [
    {
     "data": {
      "text/plain": "(0.23741624678733297, 0.0147675)"
     },
     "execution_count": 25,
     "metadata": {},
     "output_type": "execute_result"
    }
   ],
   "source": [
    "estimate_w_factor_loading_2(df[\"pd_total\"], df[\"num_of_total_grades\"])"
   ],
   "metadata": {
    "collapsed": false,
    "ExecuteTime": {
     "end_time": "2024-05-31T13:09:27.201061900Z",
     "start_time": "2024-05-31T13:09:22.407457200Z"
    }
   },
   "id": "6c2f0fc333c08ae2"
  },
  {
   "cell_type": "code",
   "execution_count": 26,
   "outputs": [
    {
     "data": {
      "text/plain": "(0.27, 0.0008775)"
     },
     "execution_count": 26,
     "metadata": {},
     "output_type": "execute_result"
    }
   ],
   "source": [
    "estimate_w_factor_loading(df[\"pd_inv\"], df[\"num_of_inv_grades\"])"
   ],
   "metadata": {
    "collapsed": false,
    "ExecuteTime": {
     "end_time": "2024-05-31T13:09:27.202062300Z",
     "start_time": "2024-05-31T13:09:22.449459800Z"
    }
   },
   "id": "f25ccaffc62030d3"
  },
  {
   "cell_type": "code",
   "execution_count": 27,
   "outputs": [
    {
     "data": {
      "text/plain": "(0.26963546326126553, 0.0008775)"
     },
     "execution_count": 27,
     "metadata": {},
     "output_type": "execute_result"
    }
   ],
   "source": [
    "estimate_w_factor_loading_2(df[\"pd_inv\"], df[\"num_of_inv_grades\"])"
   ],
   "metadata": {
    "collapsed": false,
    "ExecuteTime": {
     "end_time": "2024-05-31T13:09:27.203062Z",
     "start_time": "2024-05-31T13:09:22.476462700Z"
    }
   },
   "id": "e31a1d57bb184a3b"
  },
  {
   "cell_type": "markdown",
   "source": [
    "# Using MM_estimation function from the package"
   ],
   "metadata": {
    "collapsed": false
   },
   "id": "bcd7979eeead5947"
  },
  {
   "cell_type": "code",
   "execution_count": 28,
   "outputs": [
    {
     "name": "stdout",
     "output_type": "stream",
     "text": [
      "Estimated w_factor_loading for total grades: 0.23740645892992832\n",
      "Estimated pd_average for total grades: -2.17626718586128\n"
     ]
    }
   ],
   "source": [
    "from src.MM_estimation import MM_estimation\n",
    "\n",
    "# Estimate w_factor_loading for total grades\n",
    "w_total, pd_total = MM_estimation(df[\"Total defaults*\"], df[\"num_of_total_grades\"])\n",
    "\n",
    "print(\"Estimated w_factor_loading for total grades:\", w_total)\n",
    "print(\"Estimated pd_average for total grades:\", pd_total)"
   ],
   "metadata": {
    "collapsed": false,
    "ExecuteTime": {
     "end_time": "2024-05-31T13:09:27.203062Z",
     "start_time": "2024-05-31T13:09:22.519466Z"
    }
   },
   "id": "2b9cb68a0fa18cb8"
  },
  {
   "cell_type": "code",
   "execution_count": 29,
   "outputs": [
    {
     "name": "stdout",
     "output_type": "stream",
     "text": [
      "0.23741460694825398 -2.1762710356300374\n"
     ]
    }
   ],
   "source": [
    "from src.MM_estimation import estimate_w_factor_loading\n",
    "from scipy.stats import norm\n",
    "\n",
    "param1, param2 = estimate_w_factor_loading(df[\"pd_total\"], df[\"num_of_total_grades\"])\n",
    "print(param1, norm.ppf(param2))"
   ],
   "metadata": {
    "collapsed": false,
    "ExecuteTime": {
     "end_time": "2024-05-31T13:09:27.204061100Z",
     "start_time": "2024-05-31T13:09:22.578469700Z"
    }
   },
   "id": "d596aff8556cc7c6"
  },
  {
   "cell_type": "markdown",
   "source": [
    "# Sensitivity analysis for the initial guess"
   ],
   "metadata": {
    "collapsed": false
   },
   "id": "5b32a77f69849207"
  },
  {
   "cell_type": "code",
   "execution_count": 33,
   "outputs": [],
   "source": [
    "import pandas as pd\n",
    "import numpy as np\n",
    "from matplotlib import pyplot as plt\n",
    "from scipy.stats import norm\n",
    "from scipy.optimize import minimize\n",
    "from src.MM_estimation import estimate_w_factor_loading, calc_variance_of_default_rate\n",
    "\n",
    "# Load the data\n",
    "grades_data = pd.read_csv('../data/grades_hist_pd.csv', sep=';', index_col=0)\n",
    "\n",
    "for col_name in grades_data.columns:\n",
    "    grades_data[col_name] = grades_data[col_name] / 100\n",
    "    \n",
    "grades_cols = grades_data.columns\n",
    "\n",
    "n_g_assumption = 3000\n",
    "num_of_rows = grades_data.shape[0]\n",
    "n_g_over_time = np.array([n_g_assumption] * num_of_rows)"
   ],
   "metadata": {
    "collapsed": false,
    "ExecuteTime": {
     "end_time": "2024-05-31T13:11:45.314592900Z",
     "start_time": "2024-05-31T13:11:45.200581400Z"
    }
   },
   "id": "7f25c923194f9a6a"
  },
  {
   "cell_type": "code",
   "execution_count": 34,
   "outputs": [
    {
     "name": "stdout",
     "output_type": "stream",
     "text": [
      "Estimated parameters with method of moments for grade A: 0.4499803380652506 -3.274097580352716 0.00053\n"
     ]
    }
   ],
   "source": [
    "MM_params_for_A_grade = estimate_w_factor_loading(grades_data[\"A\"], n_g_over_time, initial_guess=0.45, tolerance=1e-6)\n",
    "print(f\"Estimated parameters with method of moments for grade A:\", MM_params_for_A_grade[0], norm.ppf(MM_params_for_A_grade[1]), round(MM_params_for_A_grade[1], 6))"
   ],
   "metadata": {
    "collapsed": false,
    "ExecuteTime": {
     "end_time": "2024-05-31T13:11:46.268551400Z",
     "start_time": "2024-05-31T13:11:46.152545900Z"
    }
   },
   "id": "ab10998a5f410661"
  },
  {
   "cell_type": "code",
   "execution_count": 35,
   "outputs": [
    {
     "name": "stdout",
     "output_type": "stream",
     "text": [
      "Estimated parameters with method of moments for grade A: 0.34843028136649823 -3.274097580352716 0.00053\n"
     ]
    }
   ],
   "source": [
    "MM_params_for_A_grade = estimate_w_factor_loading(grades_data[\"A\"], n_g_over_time, initial_guess=0.45, tolerance=1e-20)\n",
    "print(f\"Estimated parameters with method of moments for grade A:\", MM_params_for_A_grade[0], norm.ppf(MM_params_for_A_grade[1]), round(MM_params_for_A_grade[1], 6))"
   ],
   "metadata": {
    "collapsed": false,
    "ExecuteTime": {
     "end_time": "2024-05-31T13:11:48.120870400Z",
     "start_time": "2024-05-31T13:11:47.991855600Z"
    }
   },
   "id": "9246584a0c6a8d6f"
  },
  {
   "cell_type": "code",
   "execution_count": 36,
   "outputs": [
    {
     "name": "stdout",
     "output_type": "stream",
     "text": [
      "Estimated parameters with method of moments for grade A: 0.3484300623921802 -3.274097580352716 0.00053\n"
     ]
    }
   ],
   "source": [
    "MM_params_for_A_grade_2 = estimate_w_factor_loading_2(grades_data[\"A\"], n_g_over_time)\n",
    "print(f\"Estimated parameters with method of moments for grade A:\", MM_params_for_A_grade_2[0],\n",
    "      norm.ppf(MM_params_for_A_grade_2[1]), round(MM_params_for_A_grade_2[1], 6))"
   ],
   "metadata": {
    "collapsed": false,
    "ExecuteTime": {
     "end_time": "2024-05-31T13:11:49.089010Z",
     "start_time": "2024-05-31T13:11:48.977001600Z"
    }
   },
   "id": "555a769e2cb9dad6"
  },
  {
   "cell_type": "code",
   "execution_count": 37,
   "outputs": [
    {
     "data": {
      "text/plain": "array([0.34843028])"
     },
     "execution_count": 37,
     "metadata": {},
     "output_type": "execute_result"
    }
   ],
   "source": [
    "historical_pd = grades_data[\"A\"]\n",
    "num_of_total_grades = n_g_over_time\n",
    "initial_guess = 0.2\n",
    "# Calculate the average\n",
    "pd_average = np.mean(historical_pd)\n",
    "\n",
    "# Calculate the expected value of 1/n_g\n",
    "expected_value_of_reciprocal_n_g = np.mean(1 / num_of_total_grades)\n",
    "\n",
    "# Variance of default rate\n",
    "variance_of_p_d = (np.var(historical_pd) - expected_value_of_reciprocal_n_g * pd_average * (1 - pd_average)) / (\n",
    "            1 - expected_value_of_reciprocal_n_g)\n",
    "\n",
    "# Define bounds for w_factor_loading\n",
    "bounds = [(-0.9999, 0.9999)]\n",
    "\n",
    "# Define object function\n",
    "object_function = lambda w: abs(calc_variance_of_default_rate(w, pd_average) - variance_of_p_d)\n",
    "\n",
    "# Minimization based on the objective function\n",
    "result = minimize(object_function, initial_guess, bounds=bounds, tol=1e-20)\n",
    "\n",
    "result.x"
   ],
   "metadata": {
    "collapsed": false,
    "ExecuteTime": {
     "end_time": "2024-05-31T13:12:04.512448100Z",
     "start_time": "2024-05-31T13:12:04.403442500Z"
    }
   },
   "id": "c7642101b47f57cf"
  },
  {
   "cell_type": "code",
   "execution_count": 38,
   "outputs": [
    {
     "data": {
      "text/plain": "<Figure size 640x480 with 1 Axes>",
      "image/png": "[encoded data removed]"
     },
     "metadata": {},
     "output_type": "display_data"
    }
   ],
   "source": [
    "# plot objective function for w\n",
    "w_values = np.linspace(0.2, 0.5, 100)\n",
    "objective_values = [object_function(w) for w in w_values]\n",
    "\n",
    "plt.plot(w_values, objective_values)\n",
    "plt.xlabel(\"w\")\n",
    "plt.ylabel(\"Objective function\")\n",
    "plt.title(\"Objective function for w\")\n",
    "plt.show()"
   ],
   "metadata": {
    "collapsed": false,
    "ExecuteTime": {
     "end_time": "2024-05-31T13:12:05.503313700Z",
     "start_time": "2024-05-31T13:12:05.085519400Z"
    }
   },
   "id": "15364dfac7b7441b"
  },
  {
   "cell_type": "code",
   "execution_count": 39,
   "outputs": [],
   "source": [
    "tol_list = [1e-6, 1e-8, 1e-10, 1e-12, 1e-14, 1e-16, 1e-18, 1e-20]\n",
    "init_list = [0.1, 0.15, 0.2, 0.25, 0.3, 0.35, 0.4, 0.45, 0.5]\n",
    "\n",
    "w_params_table = pd.DataFrame(columns=tol_list, index=init_list)\n",
    "for tol in tol_list:\n",
    "    for init in init_list:\n",
    "        MM_params_for_A_grade = estimate_w_factor_loading(grades_data[\"A\"], n_g_over_time, initial_guess=init, tolerance=tol)\n",
    "        w_params_table.loc[init, tol] = MM_params_for_A_grade[0]"
   ],
   "metadata": {
    "collapsed": false,
    "ExecuteTime": {
     "end_time": "2024-05-31T13:12:09.220705400Z",
     "start_time": "2024-05-31T13:12:05.842499600Z"
    }
   },
   "id": "3ed606a6412240e6"
  },
  {
   "cell_type": "code",
   "execution_count": 40,
   "outputs": [
    {
     "data": {
      "text/plain": "     1.000000e-06 1.000000e-08 1.000000e-10 1.000000e-12 1.000000e-14  \\\n0.10          0.1     0.100001     0.100001     0.100001      0.34843   \n0.15     0.150001     0.150001     0.150001      0.34843      0.34843   \n0.20     0.200002     0.200002     0.200002      0.34843      0.34843   \n0.25     0.250003     0.250003     0.250003      0.34843      0.34843   \n0.30     0.300005     0.300005     0.300005      0.34843      0.34843   \n0.35     0.349992     0.349992     0.349992      0.34843      0.34843   \n0.40     0.399987     0.399987      0.34843      0.34843      0.34843   \n0.45      0.44998      0.44998      0.34843      0.34843      0.34843   \n0.50     0.499969     0.499969      0.34843      0.34843      0.34843   \n\n     1.000000e-16 1.000000e-18 1.000000e-20  \n0.10      0.34843      0.34843      0.34843  \n0.15      0.34843      0.34843      0.34843  \n0.20      0.34843      0.34843      0.34843  \n0.25      0.34843      0.34843      0.34843  \n0.30      0.34843      0.34843      0.34843  \n0.35      0.34843      0.34843      0.34843  \n0.40      0.34843      0.34843      0.34843  \n0.45      0.34843      0.34843      0.34843  \n0.50      0.34843      0.34843      0.34843  ",
      "text/html": "<div>\n<style scoped>\n    .dataframe tbody tr th:only-of-type {\n        vertical-align: middle;\n    }\n\n    .dataframe tbody tr th {\n        vertical-align: top;\n    }\n\n    .dataframe thead th {\n        text-align: right;\n    }\n</style>\n<table border=\"1\" class=\"dataframe\">\n  <thead>\n    <tr style=\"text-align: right;\">\n      <th></th>\n      <th>1.000000e-06</th>\n      <th>1.000000e-08</th>\n      <th>1.000000e-10</th>\n      <th>1.000000e-12</th>\n      <th>1.000000e-14</th>\n      <th>1.000000e-16</th>\n      <th>1.000000e-18</th>\n      <th>1.000000e-20</th>\n    </tr>\n  </thead>\n  <tbody>\n    <tr>\n      <th>0.10</th>\n      <td>0.1</td>\n      <td>0.100001</td>\n      <td>0.100001</td>\n      <td>0.100001</td>\n      <td>0.34843</td>\n      <td>0.34843</td>\n      <td>0.34843</td>\n      <td>0.34843</td>\n    </tr>\n    <tr>\n      <th>0.15</th>\n      <td>0.150001</td>\n      <td>0.150001</td>\n      <td>0.150001</td>\n      <td>0.34843</td>\n      <td>0.34843</td>\n      <td>0.34843</td>\n      <td>0.34843</td>\n      <td>0.34843</td>\n    </tr>\n    <tr>\n      <th>0.20</th>\n      <td>0.200002</td>\n      <td>0.200002</td>\n      <td>0.200002</td>\n      <td>0.34843</td>\n      <td>0.34843</td>\n      <td>0.34843</td>\n      <td>0.34843</td>\n      <td>0.34843</td>\n    </tr>\n    <tr>\n      <th>0.25</th>\n      <td>0.250003</td>\n      <td>0.250003</td>\n      <td>0.250003</td>\n      <td>0.34843</td>\n      <td>0.34843</td>\n      <td>0.34843</td>\n      <td>0.34843</td>\n      <td>0.34843</td>\n    </tr>\n    <tr>\n      <th>0.30</th>\n      <td>0.300005</td>\n      <td>0.300005</td>\n      <td>0.300005</td>\n      <td>0.34843</td>\n      <td>0.34843</td>\n      <td>0.34843</td>\n      <td>0.34843</td>\n      <td>0.34843</td>\n    </tr>\n    <tr>\n      <th>0.35</th>\n      <td>0.349992</td>\n      <td>0.349992</td>\n      <td>0.349992</td>\n      <td>0.34843</td>\n      <td>0.34843</td>\n      <td>0.34843</td>\n      <td>0.34843</td>\n      <td>0.34843</td>\n    </tr>\n    <tr>\n      <th>0.40</th>\n      <td>0.399987</td>\n      <td>0.399987</td>\n      <td>0.34843</td>\n      <td>0.34843</td>\n      <td>0.34843</td>\n      <td>0.34843</td>\n      <td>0.34843</td>\n      <td>0.34843</td>\n    </tr>\n    <tr>\n      <th>0.45</th>\n      <td>0.44998</td>\n      <td>0.44998</td>\n      <td>0.34843</td>\n      <td>0.34843</td>\n      <td>0.34843</td>\n      <td>0.34843</td>\n      <td>0.34843</td>\n      <td>0.34843</td>\n    </tr>\n    <tr>\n      <th>0.50</th>\n      <td>0.499969</td>\n      <td>0.499969</td>\n      <td>0.34843</td>\n      <td>0.34843</td>\n      <td>0.34843</td>\n      <td>0.34843</td>\n      <td>0.34843</td>\n      <td>0.34843</td>\n    </tr>\n  </tbody>\n</table>\n</div>"
     },
     "execution_count": 40,
     "metadata": {},
     "output_type": "execute_result"
    }
   ],
   "source": [
    "w_params_table"
   ],
   "metadata": {
    "collapsed": false,
    "ExecuteTime": {
     "end_time": "2024-05-31T13:12:09.245704200Z",
     "start_time": "2024-05-31T13:12:09.222704500Z"
    }
   },
   "id": "b9feb42b6a10918e"
  },
  {
   "cell_type": "code",
   "execution_count": 41,
   "outputs": [],
   "source": [
    "# Compare time of execution for different tolerances\n",
    "import time\n",
    "\n",
    "tol_list = [1e-6, 1e-8, 1e-10, 1e-12, 1e-14, 1e-16, 1e-18, 1e-20]\n",
    "init = 0.30\n",
    "\n",
    "time_table = pd.DataFrame(columns=[\"Time (sec)\"], index=tol_list)\n",
    "for tol in tol_list:\n",
    "    start = time.time()\n",
    "    MM_params_for_A_grade = estimate_w_factor_loading(grades_data[\"A\"], n_g_over_time, initial_guess=init, tolerance=tol)\n",
    "    end = time.time()\n",
    "    time_table.loc[tol, \"Time (sec)\"] = end - start"
   ],
   "metadata": {
    "collapsed": false,
    "ExecuteTime": {
     "end_time": "2024-05-31T13:12:17.603188200Z",
     "start_time": "2024-05-31T13:12:17.375164900Z"
    }
   },
   "id": "7a8e46d6110b856d"
  },
  {
   "cell_type": "code",
   "execution_count": 42,
   "outputs": [
    {
     "data": {
      "text/plain": "             Time (sec)\n1.000000e-06   0.003999\n1.000000e-08   0.004003\n1.000000e-10   0.002997\n1.000000e-12   0.033005\n1.000000e-14   0.046003\n1.000000e-16   0.041003\n1.000000e-18   0.042004\n1.000000e-20      0.043",
      "text/html": "<div>\n<style scoped>\n    .dataframe tbody tr th:only-of-type {\n        vertical-align: middle;\n    }\n\n    .dataframe tbody tr th {\n        vertical-align: top;\n    }\n\n    .dataframe thead th {\n        text-align: right;\n    }\n</style>\n<table border=\"1\" class=\"dataframe\">\n  <thead>\n    <tr style=\"text-align: right;\">\n      <th></th>\n      <th>Time (sec)</th>\n    </tr>\n  </thead>\n  <tbody>\n    <tr>\n      <th>1.000000e-06</th>\n      <td>0.003999</td>\n    </tr>\n    <tr>\n      <th>1.000000e-08</th>\n      <td>0.004003</td>\n    </tr>\n    <tr>\n      <th>1.000000e-10</th>\n      <td>0.002997</td>\n    </tr>\n    <tr>\n      <th>1.000000e-12</th>\n      <td>0.033005</td>\n    </tr>\n    <tr>\n      <th>1.000000e-14</th>\n      <td>0.046003</td>\n    </tr>\n    <tr>\n      <th>1.000000e-16</th>\n      <td>0.041003</td>\n    </tr>\n    <tr>\n      <th>1.000000e-18</th>\n      <td>0.042004</td>\n    </tr>\n    <tr>\n      <th>1.000000e-20</th>\n      <td>0.043</td>\n    </tr>\n  </tbody>\n</table>\n</div>"
     },
     "execution_count": 42,
     "metadata": {},
     "output_type": "execute_result"
    }
   ],
   "source": [
    "time_table"
   ],
   "metadata": {
    "collapsed": false,
    "ExecuteTime": {
     "end_time": "2024-05-31T13:12:17.848876500Z",
     "start_time": "2024-05-31T13:12:17.771870400Z"
    }
   },
   "id": "e3ed4ddf5ff0aeb6"
  },
  {
   "cell_type": "markdown",
   "source": [
    "# if w = 1 the variance can not be calculated because the covariance matrix is singular"
   ],
   "metadata": {
    "collapsed": false
   },
   "id": "390acc0268ad1a8a"
  },
  {
   "cell_type": "code",
   "execution_count": 43,
   "outputs": [
    {
     "name": "stdout",
     "output_type": "stream",
     "text": [
      "When `allow_singular is False`, the input matrix must be symmetric positive definite.\n"
     ]
    }
   ],
   "source": [
    "historical_pd = grades_data[\"CCC/C\"]\n",
    "#historical_pd = grades_data[\"A\"]\n",
    "pd_average = np.mean(historical_pd)\n",
    "\n",
    "expected_value_of_reciprocal_n_g = np.mean(1 / n_g_over_time)\n",
    "\n",
    "variance_of_p_d = (np.var(historical_pd) - expected_value_of_reciprocal_n_g * pd_average * (1 - pd_average)) / (\n",
    "                1 - expected_value_of_reciprocal_n_g)\n",
    "\n",
    "try:\n",
    "    calc_variance_of_default_rate(1.0, pd_average)\n",
    "except ValueError as e:\n",
    "    print(e)"
   ],
   "metadata": {
    "collapsed": false,
    "ExecuteTime": {
     "end_time": "2024-05-31T13:12:23.755928100Z",
     "start_time": "2024-05-31T13:12:23.690926Z"
    }
   },
   "id": "d1470df9cdcd9a9d"
  },
  {
   "cell_type": "markdown",
   "source": [
    "# Generate default time series and make MM parameter estimation for them"
   ],
   "metadata": {
    "collapsed": false
   },
   "id": "5e557bf866b0379"
  },
  {
   "cell_type": "code",
   "execution_count": 44,
   "outputs": [],
   "source": [
    "from src.data_generator import generate_default_time_series\n",
    "import numpy as np\n",
    "\n",
    "np.random.seed(232345)\n",
    "\n",
    "time_points = 160\n",
    "num_of_obligors_list = [3000, 3000, 3000]\n",
    "factor_loading_list = [0.3, 0.3, 0.3]\n",
    "gamma_list = [-2.9, -2.3, -1.6]\n",
    "\n",
    "generated_ts_df = generate_default_time_series(factor_loading_list, num_of_obligors_list, gamma_list, time_points)"
   ],
   "metadata": {
    "collapsed": false,
    "ExecuteTime": {
     "end_time": "2024-05-31T13:12:28.248251800Z",
     "start_time": "2024-05-31T13:12:27.958228400Z"
    }
   },
   "id": "9f1256407d2afc2b"
  },
  {
   "cell_type": "code",
   "execution_count": 45,
   "outputs": [
    {
     "data": {
      "text/plain": "     d_g_0  d_g_1  d_g_2\n0        3     26    168\n1        5     28    145\n2        6     39    166\n3        6     48    207\n4        9     65    252\n..     ...    ...    ...\n155      0      4     36\n156      4     19    105\n157     15     53    296\n158     15     68    352\n159      1     10     79\n\n[160 rows x 3 columns]",
      "text/html": "<div>\n<style scoped>\n    .dataframe tbody tr th:only-of-type {\n        vertical-align: middle;\n    }\n\n    .dataframe tbody tr th {\n        vertical-align: top;\n    }\n\n    .dataframe thead th {\n        text-align: right;\n    }\n</style>\n<table border=\"1\" class=\"dataframe\">\n  <thead>\n    <tr style=\"text-align: right;\">\n      <th></th>\n      <th>d_g_0</th>\n      <th>d_g_1</th>\n      <th>d_g_2</th>\n    </tr>\n  </thead>\n  <tbody>\n    <tr>\n      <th>0</th>\n      <td>3</td>\n      <td>26</td>\n      <td>168</td>\n    </tr>\n    <tr>\n      <th>1</th>\n      <td>5</td>\n      <td>28</td>\n      <td>145</td>\n    </tr>\n    <tr>\n      <th>2</th>\n      <td>6</td>\n      <td>39</td>\n      <td>166</td>\n    </tr>\n    <tr>\n      <th>3</th>\n      <td>6</td>\n      <td>48</td>\n      <td>207</td>\n    </tr>\n    <tr>\n      <th>4</th>\n      <td>9</td>\n      <td>65</td>\n      <td>252</td>\n    </tr>\n    <tr>\n      <th>...</th>\n      <td>...</td>\n      <td>...</td>\n      <td>...</td>\n    </tr>\n    <tr>\n      <th>155</th>\n      <td>0</td>\n      <td>4</td>\n      <td>36</td>\n    </tr>\n    <tr>\n      <th>156</th>\n      <td>4</td>\n      <td>19</td>\n      <td>105</td>\n    </tr>\n    <tr>\n      <th>157</th>\n      <td>15</td>\n      <td>53</td>\n      <td>296</td>\n    </tr>\n    <tr>\n      <th>158</th>\n      <td>15</td>\n      <td>68</td>\n      <td>352</td>\n    </tr>\n    <tr>\n      <th>159</th>\n      <td>1</td>\n      <td>10</td>\n      <td>79</td>\n    </tr>\n  </tbody>\n</table>\n<p>160 rows × 3 columns</p>\n</div>"
     },
     "execution_count": 45,
     "metadata": {},
     "output_type": "execute_result"
    }
   ],
   "source": [
    "generated_ts_df"
   ],
   "metadata": {
    "collapsed": false,
    "ExecuteTime": {
     "end_time": "2024-05-31T13:12:28.885341300Z",
     "start_time": "2024-05-31T13:12:28.828336100Z"
    }
   },
   "id": "417c35ad637e29b0"
  },
  {
   "cell_type": "code",
   "execution_count": 46,
   "outputs": [],
   "source": [
    "num_of_obligors_table = num_of_obligors_list[0] * np.ones(generated_ts_df.shape)"
   ],
   "metadata": {
    "collapsed": false,
    "ExecuteTime": {
     "end_time": "2024-05-31T13:12:29.432400500Z",
     "start_time": "2024-05-31T13:12:29.335391500Z"
    }
   },
   "id": "42bbf534d0f6fad4"
  },
  {
   "cell_type": "code",
   "execution_count": 47,
   "outputs": [],
   "source": [
    "defaulted_all = np.array(generated_ts_df.sum(axis=0))"
   ],
   "metadata": {
    "collapsed": false,
    "ExecuteTime": {
     "end_time": "2024-05-31T13:12:30.050778200Z",
     "start_time": "2024-05-31T13:12:29.957770600Z"
    }
   },
   "id": "6bbab89b907df3d"
  },
  {
   "cell_type": "code",
   "execution_count": 48,
   "outputs": [],
   "source": [
    "pds = defaulted_all / (num_of_obligors_list[0] * time_points)"
   ],
   "metadata": {
    "collapsed": false,
    "ExecuteTime": {
     "end_time": "2024-05-31T13:12:30.530940900Z",
     "start_time": "2024-05-31T13:12:30.424932Z"
    }
   },
   "id": "e5a722e35477b606"
  },
  {
   "cell_type": "code",
   "execution_count": 49,
   "outputs": [
    {
     "data": {
      "text/plain": "array([-2.87262009, -2.28252551, -1.58197987])"
     },
     "execution_count": 49,
     "metadata": {},
     "output_type": "execute_result"
    }
   ],
   "source": [
    "from scipy.stats import norm\n",
    "\n",
    "norm.ppf(pds)"
   ],
   "metadata": {
    "collapsed": false,
    "ExecuteTime": {
     "end_time": "2024-05-31T13:12:30.952975600Z",
     "start_time": "2024-05-31T13:12:30.873971Z"
    }
   },
   "id": "9c1865ff4d288a9b"
  },
  {
   "cell_type": "code",
   "execution_count": 50,
   "outputs": [],
   "source": [
    "from src.MM_estimation import MM_estimation\n",
    "\n",
    "# Estimate w_factor_loading for total grades\n",
    "w_total, pd_total = MM_estimation(generated_ts_df[\"d_g_2\"], num_of_obligors_list[2])"
   ],
   "metadata": {
    "collapsed": false,
    "ExecuteTime": {
     "end_time": "2024-05-31T13:12:31.489023900Z",
     "start_time": "2024-05-31T13:12:31.331009Z"
    }
   },
   "id": "5ba8f8b22238c7ca"
  },
  {
   "cell_type": "code",
   "execution_count": 51,
   "outputs": [
    {
     "name": "stdout",
     "output_type": "stream",
     "text": [
      "0.29569017016513777 -1.5819798669506395\n"
     ]
    }
   ],
   "source": [
    "print(w_total, pd_total)"
   ],
   "metadata": {
    "collapsed": false,
    "ExecuteTime": {
     "end_time": "2024-05-31T13:12:31.977927300Z",
     "start_time": "2024-05-31T13:12:31.852916Z"
    }
   },
   "id": "de77f4c454df0976"
  },
  {
   "cell_type": "code",
   "execution_count": 52,
   "outputs": [
    {
     "name": "stdout",
     "output_type": "stream",
     "text": [
      "0.2742692602339231 -2.872620085589799\n",
      "0.28323121058277206 -2.28252550695468\n",
      "0.29569017016513777 -1.5819798669506395\n"
     ]
    }
   ],
   "source": [
    "# Make MM for every grade\n",
    "MM_params_w = []\n",
    "MM_params_gamma = []\n",
    "\n",
    "for i in range(3):\n",
    "    w_total, pd_total = MM_estimation(generated_ts_df[f'd_g_{i}'], num_of_obligors_list[i])\n",
    "    print(w_total, pd_total)\n",
    "    MM_params_w.append(w_total)\n",
    "    MM_params_gamma.append(pd_total)"
   ],
   "metadata": {
    "collapsed": false,
    "ExecuteTime": {
     "end_time": "2024-05-31T13:12:32.593908900Z",
     "start_time": "2024-05-31T13:12:32.410894Z"
    }
   },
   "id": "788096126637a285"
  },
  {
   "cell_type": "code",
   "execution_count": 53,
   "outputs": [
    {
     "data": {
      "text/plain": "[0.2742692602339231, 0.28323121058277206, 0.29569017016513777]"
     },
     "execution_count": 53,
     "metadata": {},
     "output_type": "execute_result"
    }
   ],
   "source": [
    "MM_params_w"
   ],
   "metadata": {
    "collapsed": false,
    "ExecuteTime": {
     "end_time": "2024-05-31T13:12:33.470883900Z",
     "start_time": "2024-05-31T13:12:33.296968700Z"
    }
   },
   "id": "cc8d3519c920bcf1"
  },
  {
   "cell_type": "markdown",
   "source": [
    "# Maximum likelihood estimation"
   ],
   "metadata": {
    "collapsed": false
   },
   "id": "2f325b254e4ce55e"
  },
  {
   "cell_type": "code",
   "execution_count": 54,
   "outputs": [],
   "source": [
    "from src.ML_estimation import mle_trapz_g_and_w\n",
    "\n",
    "mle_results = mle_trapz_g_and_w(generated_ts_df.values, num_of_obligors_table, MM_params_w, MM_params_gamma)"
   ],
   "metadata": {
    "collapsed": false,
    "ExecuteTime": {
     "end_time": "2024-05-31T13:13:53.546309200Z",
     "start_time": "2024-05-31T13:12:34.640330900Z"
    }
   },
   "id": "681e6550ce408d99"
  },
  {
   "cell_type": "code",
   "execution_count": 55,
   "outputs": [
    {
     "name": "stdout",
     "output_type": "stream",
     "text": [
      "[0.31861404 0.3213295  0.32156735]\n",
      "[-2.85975762 -2.27506712 -1.5795899 ]\n"
     ]
    }
   ],
   "source": [
    "print(mle_results[0])\n",
    "print(mle_results[1])"
   ],
   "metadata": {
    "collapsed": false,
    "ExecuteTime": {
     "end_time": "2024-05-31T13:13:53.578308800Z",
     "start_time": "2024-05-31T13:13:53.546309200Z"
    }
   },
   "id": "d2a7d956601ce653"
  },
  {
   "cell_type": "markdown",
   "source": [
    "# S&P historical data"
   ],
   "metadata": {
    "collapsed": false
   },
   "id": "18592306137df7e2"
  },
  {
   "cell_type": "code",
   "execution_count": 56,
   "outputs": [],
   "source": [
    "# Load the data\n",
    "grades_data = pd.read_csv('../data/grades_hist_pd.csv', sep=';', index_col=0)\n",
    "\n",
    "for col_name in grades_data.columns:\n",
    "    grades_data[col_name] = grades_data[col_name] / 100\n",
    "    \n",
    "grades_cols = grades_data.columns"
   ],
   "metadata": {
    "collapsed": false,
    "ExecuteTime": {
     "end_time": "2024-05-31T13:13:53.635566700Z",
     "start_time": "2024-05-31T13:13:53.564310Z"
    }
   },
   "id": "97b9950a64cb26c7"
  },
  {
   "cell_type": "code",
   "execution_count": 57,
   "outputs": [
    {
     "data": {
      "text/plain": "Index(['AAA', 'AA', 'A', 'BBB', 'BB', 'B', 'CCC/C'], dtype='object')"
     },
     "execution_count": 57,
     "metadata": {},
     "output_type": "execute_result"
    }
   ],
   "source": [
    "grades_cols"
   ],
   "metadata": {
    "collapsed": false,
    "ExecuteTime": {
     "end_time": "2024-05-31T13:13:53.682570600Z",
     "start_time": "2024-05-31T13:13:53.580315Z"
    }
   },
   "id": "566685adb371e9e8"
  },
  {
   "cell_type": "code",
   "execution_count": 58,
   "outputs": [],
   "source": [
    "expected_value_of_reciprocal_n = {\"AAA\": 0.0092, \"AA\": 0.0030, \"A\":0.0017, \"BBB\": 0.0026, \"BB\": 0.0038, \"B\": 0.0041, \"CCC/C\": 0.0360}"
   ],
   "metadata": {
    "collapsed": false,
    "ExecuteTime": {
     "end_time": "2024-05-31T13:13:53.683572900Z",
     "start_time": "2024-05-31T13:13:53.596311500Z"
    }
   },
   "id": "b011f38a87b8d9d8"
  },
  {
   "cell_type": "code",
   "execution_count": 59,
   "outputs": [],
   "source": [
    "num_of_obligors_dict = {}\n",
    "for grade in grades_cols:\n",
    "    num_of_obligors_dict[grade] = round(1 / expected_value_of_reciprocal_n[grade])"
   ],
   "metadata": {
    "collapsed": false,
    "ExecuteTime": {
     "end_time": "2024-05-31T13:13:53.683572900Z",
     "start_time": "2024-05-31T13:13:53.611315300Z"
    }
   },
   "id": "6cc9e360fa0739a3"
  },
  {
   "cell_type": "code",
   "execution_count": 60,
   "outputs": [
    {
     "data": {
      "text/plain": "{'AAA': 109, 'AA': 333, 'A': 588, 'BBB': 385, 'BB': 263, 'B': 244, 'CCC/C': 28}"
     },
     "execution_count": 60,
     "metadata": {},
     "output_type": "execute_result"
    }
   ],
   "source": [
    "num_of_obligors_dict"
   ],
   "metadata": {
    "collapsed": false,
    "ExecuteTime": {
     "end_time": "2024-05-31T13:13:53.705575Z",
     "start_time": "2024-05-31T13:13:53.623322100Z"
    }
   },
   "id": "d75a5ef6814bc453"
  },
  {
   "cell_type": "code",
   "execution_count": 61,
   "outputs": [
    {
     "name": "stderr",
     "output_type": "stream",
     "text": [
      "C:\\Users\\kissp\\PycharmProjects\\VasicekPDModell\\venv\\lib\\site-packages\\numpy\\core\\fromnumeric.py:3785: FutureWarning: The behavior of DataFrame.var with axis=None is deprecated, in a future version this will reduce over both axes and return a scalar. To retain the old behavior, pass axis=0 (or do not pass axis)\n",
      "  return var(axis=axis, dtype=dtype, out=out, ddof=ddof, **kwargs)\n"
     ]
    }
   ],
   "source": [
    "average_pd_dict = grades_data.mean().to_dict()\n",
    "realized_normalized_volatility_dict = np.sqrt(np.var(grades_data)).to_dict()"
   ],
   "metadata": {
    "collapsed": false,
    "ExecuteTime": {
     "end_time": "2024-05-31T13:13:53.778171200Z",
     "start_time": "2024-05-31T13:13:53.640570500Z"
    }
   },
   "id": "4ff9e9b4d89cde3f"
  },
  {
   "cell_type": "code",
   "execution_count": 62,
   "outputs": [
    {
     "name": "stderr",
     "output_type": "stream",
     "text": [
      "C:\\Users\\kissp\\AppData\\Local\\Temp\\ipykernel_29756\\3340296430.py:5: RuntimeWarning: invalid value encountered in scalar divide\n",
      "  normalized_unconditional_variance_dict[grade] = np.sqrt(unconditional_variance_dict[grade]) / average_pd_dict[grade]\n"
     ]
    }
   ],
   "source": [
    "unconditional_variance_dict = {}\n",
    "normalized_unconditional_variance_dict = {}\n",
    "for grade in grades_cols:\n",
    "    unconditional_variance_dict[grade] = (np.var(grades_data[grade]) - expected_value_of_reciprocal_n[grade] * average_pd_dict[grade] * (1 - average_pd_dict[grade])) / (1 - expected_value_of_reciprocal_n[grade])\n",
    "    normalized_unconditional_variance_dict[grade] = np.sqrt(unconditional_variance_dict[grade]) / average_pd_dict[grade]"
   ],
   "metadata": {
    "collapsed": false,
    "ExecuteTime": {
     "end_time": "2024-05-31T13:13:53.907690600Z",
     "start_time": "2024-05-31T13:13:53.673575100Z"
    }
   },
   "id": "3f3b246774d9410"
  },
  {
   "cell_type": "code",
   "execution_count": 63,
   "outputs": [],
   "source": [
    "# Make a pandas dataframe\n",
    "# Columns: average_pd, expected_value_of_reciprocal_n, realized_normalized_volatility, normalized_unconditional_variance\n",
    "# Rows: grades\n",
    "# Round the values to 4 decimal places\n",
    "df = pd.DataFrame([average_pd_dict, expected_value_of_reciprocal_n, realized_normalized_volatility_dict, normalized_unconditional_variance_dict],\n",
    "                  index=[\"average_pd\", \"expected_value_of_reciprocal_n\", \"realized_normalized_volatility\", \"normalized_unconditional_variance\"]).T\n",
    "df = df.round(6)"
   ],
   "metadata": {
    "collapsed": false,
    "ExecuteTime": {
     "end_time": "2024-05-31T13:13:53.908692Z",
     "start_time": "2024-05-31T13:13:53.690574500Z"
    }
   },
   "id": "ac8fc857789b24d9"
  },
  {
   "cell_type": "code",
   "execution_count": 64,
   "outputs": [
    {
     "data": {
      "text/plain": "       average_pd  expected_value_of_reciprocal_n  \\\nAAA      0.000000                          0.0092   \nAA       0.000137                          0.0030   \nA        0.000530                          0.0017   \nBBB      0.001948                          0.0026   \nBB       0.008558                          0.0038   \nB        0.041913                          0.0041   \nCCC/C    0.249192                          0.0360   \n\n       realized_normalized_volatility  normalized_unconditional_variance  \nAAA                          0.000000                                NaN  \nAA                           0.000644                           0.317527  \nA                            0.001002                           0.604811  \nBBB                          0.002512                           0.575950  \nBB                           0.009781                           0.932466  \nB                            0.032031                           0.701685  \nCCC/C                        0.116456                           0.337697  ",
      "text/html": "<div>\n<style scoped>\n    .dataframe tbody tr th:only-of-type {\n        vertical-align: middle;\n    }\n\n    .dataframe tbody tr th {\n        vertical-align: top;\n    }\n\n    .dataframe thead th {\n        text-align: right;\n    }\n</style>\n<table border=\"1\" class=\"dataframe\">\n  <thead>\n    <tr style=\"text-align: right;\">\n      <th></th>\n      <th>average_pd</th>\n      <th>expected_value_of_reciprocal_n</th>\n      <th>realized_normalized_volatility</th>\n      <th>normalized_unconditional_variance</th>\n    </tr>\n  </thead>\n  <tbody>\n    <tr>\n      <th>AAA</th>\n      <td>0.000000</td>\n      <td>0.0092</td>\n      <td>0.000000</td>\n      <td>NaN</td>\n    </tr>\n    <tr>\n      <th>AA</th>\n      <td>0.000137</td>\n      <td>0.0030</td>\n      <td>0.000644</td>\n      <td>0.317527</td>\n    </tr>\n    <tr>\n      <th>A</th>\n      <td>0.000530</td>\n      <td>0.0017</td>\n      <td>0.001002</td>\n      <td>0.604811</td>\n    </tr>\n    <tr>\n      <th>BBB</th>\n      <td>0.001948</td>\n      <td>0.0026</td>\n      <td>0.002512</td>\n      <td>0.575950</td>\n    </tr>\n    <tr>\n      <th>BB</th>\n      <td>0.008558</td>\n      <td>0.0038</td>\n      <td>0.009781</td>\n      <td>0.932466</td>\n    </tr>\n    <tr>\n      <th>B</th>\n      <td>0.041913</td>\n      <td>0.0041</td>\n      <td>0.032031</td>\n      <td>0.701685</td>\n    </tr>\n    <tr>\n      <th>CCC/C</th>\n      <td>0.249192</td>\n      <td>0.0360</td>\n      <td>0.116456</td>\n      <td>0.337697</td>\n    </tr>\n  </tbody>\n</table>\n</div>"
     },
     "execution_count": 64,
     "metadata": {},
     "output_type": "execute_result"
    }
   ],
   "source": [
    "df"
   ],
   "metadata": {
    "collapsed": false,
    "ExecuteTime": {
     "end_time": "2024-05-31T13:13:53.934695100Z",
     "start_time": "2024-05-31T13:13:53.703578Z"
    }
   },
   "id": "c855a1326e57c65a"
  },
  {
   "cell_type": "code",
   "execution_count": 65,
   "outputs": [
    {
     "name": "stdout",
     "output_type": "stream",
     "text": [
      "\\begin{tabular}{lrrrr}\n",
      "\\toprule\n",
      " & average_pd & expected_value_of_reciprocal_n & realized_normalized_volatility & normalized_unconditional_variance \\\\\n",
      "\\midrule\n",
      "AAA & 0.000000 & 0.009200 & 0.000000 & NaN \\\\\n",
      "AA & 0.000137 & 0.003000 & 0.000644 & 0.317527 \\\\\n",
      "A & 0.000530 & 0.001700 & 0.001002 & 0.604811 \\\\\n",
      "BBB & 0.001948 & 0.002600 & 0.002512 & 0.575950 \\\\\n",
      "BB & 0.008558 & 0.003800 & 0.009781 & 0.932466 \\\\\n",
      "B & 0.041913 & 0.004100 & 0.032031 & 0.701685 \\\\\n",
      "CCC/C & 0.249192 & 0.036000 & 0.116456 & 0.337697 \\\\\n",
      "\\bottomrule\n",
      "\\end{tabular}\n"
     ]
    }
   ],
   "source": [
    "print(df.to_latex())"
   ],
   "metadata": {
    "collapsed": false,
    "ExecuteTime": {
     "end_time": "2024-05-31T13:13:54.024700700Z",
     "start_time": "2024-05-31T13:13:53.719577200Z"
    }
   },
   "id": "20646859442e0297"
  },
  {
   "cell_type": "code",
   "execution_count": null,
   "outputs": [],
   "source": [],
   "metadata": {
    "collapsed": false,
    "ExecuteTime": {
     "start_time": "2024-05-31T13:09:26.231403500Z"
    }
   },
   "id": "d9a43fd5c87a43f"
  },
  {
   "cell_type": "code",
   "execution_count": 66,
   "outputs": [],
   "source": [
    "import pandas as pd\n",
    "import numpy as np\n",
    "import matplotlib.pyplot as plt\n",
    "from scipy.stats import norm\n",
    "from src.MM_estimation import gen_data_and_mm"
   ],
   "metadata": {
    "collapsed": false,
    "ExecuteTime": {
     "end_time": "2024-05-31T13:14:02.997605700Z",
     "start_time": "2024-05-31T13:14:02.937602500Z"
    }
   },
   "id": "ef0698a065ca29"
  },
  {
   "cell_type": "code",
   "execution_count": 67,
   "outputs": [
    {
     "data": {
      "text/plain": "  Grade  Factor Loading      PD     Gamma  Num of Obligors\n0     A            0.45  0.0015 -2.967738              400\n1     B            0.45  0.0100 -2.326348              250\n2     C            0.45  0.0500 -1.644854              100",
      "text/html": "<div>\n<style scoped>\n    .dataframe tbody tr th:only-of-type {\n        vertical-align: middle;\n    }\n\n    .dataframe tbody tr th {\n        vertical-align: top;\n    }\n\n    .dataframe thead th {\n        text-align: right;\n    }\n</style>\n<table border=\"1\" class=\"dataframe\">\n  <thead>\n    <tr style=\"text-align: right;\">\n      <th></th>\n      <th>Grade</th>\n      <th>Factor Loading</th>\n      <th>PD</th>\n      <th>Gamma</th>\n      <th>Num of Obligors</th>\n    </tr>\n  </thead>\n  <tbody>\n    <tr>\n      <th>0</th>\n      <td>A</td>\n      <td>0.45</td>\n      <td>0.0015</td>\n      <td>-2.967738</td>\n      <td>400</td>\n    </tr>\n    <tr>\n      <th>1</th>\n      <td>B</td>\n      <td>0.45</td>\n      <td>0.0100</td>\n      <td>-2.326348</td>\n      <td>250</td>\n    </tr>\n    <tr>\n      <th>2</th>\n      <td>C</td>\n      <td>0.45</td>\n      <td>0.0500</td>\n      <td>-1.644854</td>\n      <td>100</td>\n    </tr>\n  </tbody>\n</table>\n</div>"
     },
     "execution_count": 67,
     "metadata": {},
     "output_type": "execute_result"
    }
   ],
   "source": [
    "factor_loading_list = [0.45, 0.45, 0.45]\n",
    "pd_list = [0.0015, 0.0100, 0.0500]\n",
    "# pd_list2 = [0.005, 0.0100, 0.0500]\n",
    "gamma_list = norm.ppf(pd_list)\n",
    "num_of_obligors_list = [400, 250, 100]\n",
    "\n",
    "# Make a pandas dataframe with Grade, Factor Loading, PD, Gamma, Num of Obligors\n",
    "df = pd.DataFrame({'Grade': ['A', 'B', 'C'], 'Factor Loading': factor_loading_list, 'PD': pd_list, 'Gamma': gamma_list, 'Num of Obligors': num_of_obligors_list})\n",
    "df"
   ],
   "metadata": {
    "collapsed": false,
    "ExecuteTime": {
     "end_time": "2024-05-31T13:14:04.205617700Z",
     "start_time": "2024-05-31T13:14:04.115611400Z"
    }
   },
   "id": "3f4b5fd38c633f6d"
  },
  {
   "cell_type": "code",
   "execution_count": 68,
   "outputs": [],
   "source": [
    "params_df_160 = gen_data_and_mm(160, num_of_obligors_list, factor_loading_list, gamma_list, sims=500)"
   ],
   "metadata": {
    "collapsed": false,
    "ExecuteTime": {
     "end_time": "2024-05-31T13:15:25.489797800Z",
     "start_time": "2024-05-31T13:14:05.192650600Z"
    }
   },
   "id": "5b6924b0e23e186"
  },
  {
   "cell_type": "code",
   "execution_count": 75,
   "outputs": [],
   "source": [
    "import numpy as np\n",
    "import pandas as pd\n",
    "from scipy.optimize import minimize\n",
    "from scipy import stats\n",
    "from scipy.stats import norm\n",
    "from src.data_generator import generate_default_time_series\n",
    "\n",
    "def gen_data_and_mm_2(time_points, num_of_obligors_list, factor_loading_list, gamma_list, sims=100):\n",
    "    \"\"\"\n",
    "    Generate data and estimate parameters using the method of moments estimation method.\n",
    "    :param time_points: int, number of time points\n",
    "    :param num_of_obligors_list: list, number of obligors for each grade\n",
    "    :param factor_loading_list: list, factor loading for each grade\n",
    "    :param gamma_list: list, gamma for each grade\n",
    "    :param sims: int, number of simulations\n",
    "    \"\"\"\n",
    "    grade_num = len(gamma_list)\n",
    "\n",
    "    params_df = pd.DataFrame()\n",
    "\n",
    "    for sim in range(sims):\n",
    "        defaults_df = generate_default_time_series(factor_loading_list, num_of_obligors_list, gamma_list, time_points)\n",
    "        for i in range(grade_num):\n",
    "            n_g_list = np.array([num_of_obligors_list[i]] * time_points)\n",
    "            w_param, gamma_param = MM_estimation_2(defaults_df[\"d_g_\" + str(i)], n_g_list)\n",
    "            params_df.loc[sim, \"gamma_\" + str(i)] = gamma_param\n",
    "            params_df.loc[sim, \"w_\" + str(i)] = w_param\n",
    "\n",
    "    return params_df"
   ],
   "metadata": {
    "collapsed": false,
    "ExecuteTime": {
     "end_time": "2024-05-31T13:18:34.565975500Z",
     "start_time": "2024-05-31T13:18:34.428974400Z"
    }
   },
   "id": "60936041870ae2d5"
  },
  {
   "cell_type": "code",
   "execution_count": 77,
   "outputs": [],
   "source": [
    "def MM_estimation_2(default_series, num_of_obligors_series):\n",
    "    \"\"\"\n",
    "    Estimate w_g and gamma_g using the MM estimation method.\n",
    "\n",
    "    Returns:\n",
    "        tuple: Estimated w_g and gamma_g.\n",
    "    \"\"\"\n",
    "    historical_pd = default_series / num_of_obligors_series\n",
    "\n",
    "    # Estimate w_factor_loading\n",
    "    w_g, pd_average = estimate_w_factor_loading_2(historical_pd, num_of_obligors_series)\n",
    "\n",
    "    return w_g, norm.ppf(pd_average)"
   ],
   "metadata": {
    "collapsed": false,
    "ExecuteTime": {
     "end_time": "2024-05-31T13:18:41.816639Z",
     "start_time": "2024-05-31T13:18:41.752634300Z"
    }
   },
   "id": "74e3f9933ff89310"
  },
  {
   "cell_type": "code",
   "execution_count": 71,
   "outputs": [],
   "source": [
    "params_df_160 = gen_data_and_mm(160, num_of_obligors_list, factor_loading_list, gamma_list, sims=500)"
   ],
   "metadata": {
    "collapsed": false,
    "ExecuteTime": {
     "end_time": "2024-05-31T13:16:44.429679100Z",
     "start_time": "2024-05-31T13:15:25.524802300Z"
    }
   },
   "id": "b45b225531c62626"
  },
  {
   "cell_type": "code",
   "execution_count": 72,
   "outputs": [],
   "source": [
    "params_df_20 = gen_data_and_mm(20, num_of_obligors_list, factor_loading_list, gamma_list, sims=100)"
   ],
   "metadata": {
    "collapsed": false,
    "ExecuteTime": {
     "end_time": "2024-05-31T13:16:55.816238400Z",
     "start_time": "2024-05-31T13:16:44.430679200Z"
    }
   },
   "id": "4d0691ba73de0e42"
  },
  {
   "cell_type": "code",
   "execution_count": 78,
   "outputs": [],
   "source": [
    "params_df_20_2 = gen_data_and_mm_2(20, num_of_obligors_list, factor_loading_list, gamma_list, sims=100)"
   ],
   "metadata": {
    "collapsed": false,
    "ExecuteTime": {
     "end_time": "2024-05-31T13:18:48.694947400Z",
     "start_time": "2024-05-31T13:18:45.512262600Z"
    }
   },
   "id": "8174e3edff09fa3"
  },
  {
   "cell_type": "code",
   "execution_count": 79,
   "outputs": [],
   "source": [
    "params_df_160_2 = gen_data_and_mm_2(160, num_of_obligors_list, factor_loading_list, gamma_list, sims=500)"
   ],
   "metadata": {
    "collapsed": false,
    "ExecuteTime": {
     "end_time": "2024-05-31T13:19:15.884769400Z",
     "start_time": "2024-05-31T13:18:52.483214900Z"
    }
   },
   "id": "b651a575ecf0646c"
  },
  {
   "cell_type": "code",
   "execution_count": 80,
   "outputs": [
    {
     "data": {
      "text/plain": "          gamma_0         w_0     gamma_1           w_1     gamma_2  \\\ncount  100.000000  100.000000  100.000000  1.000000e+02  100.000000   \nmean    -3.001825    0.320252   -2.340365  3.768191e-01   -1.641522   \nstd      0.182208    0.094239    0.146119  9.750652e-02    0.125981   \nmin     -3.662260    0.000003   -2.820158  5.314797e-07   -1.995393   \n25%     -3.129675    0.269993   -2.411222  3.316930e-01   -1.712801   \n50%     -2.994384    0.295477   -2.337772  3.788216e-01   -1.635253   \n75%     -2.893386    0.378291   -2.263579  4.310218e-01   -1.567491   \nmax     -2.567279    0.662374   -1.933294  7.407272e-01   -1.298837   \n\n              w_2  \ncount  100.000000  \nmean     0.408198  \nstd      0.083768  \nmin      0.223695  \n25%      0.347663  \n50%      0.409056  \n75%      0.460149  \nmax      0.697684  ",
      "text/html": "<div>\n<style scoped>\n    .dataframe tbody tr th:only-of-type {\n        vertical-align: middle;\n    }\n\n    .dataframe tbody tr th {\n        vertical-align: top;\n    }\n\n    .dataframe thead th {\n        text-align: right;\n    }\n</style>\n<table border=\"1\" class=\"dataframe\">\n  <thead>\n    <tr style=\"text-align: right;\">\n      <th></th>\n      <th>gamma_0</th>\n      <th>w_0</th>\n      <th>gamma_1</th>\n      <th>w_1</th>\n      <th>gamma_2</th>\n      <th>w_2</th>\n    </tr>\n  </thead>\n  <tbody>\n    <tr>\n      <th>count</th>\n      <td>100.000000</td>\n      <td>100.000000</td>\n      <td>100.000000</td>\n      <td>1.000000e+02</td>\n      <td>100.000000</td>\n      <td>100.000000</td>\n    </tr>\n    <tr>\n      <th>mean</th>\n      <td>-3.001825</td>\n      <td>0.320252</td>\n      <td>-2.340365</td>\n      <td>3.768191e-01</td>\n      <td>-1.641522</td>\n      <td>0.408198</td>\n    </tr>\n    <tr>\n      <th>std</th>\n      <td>0.182208</td>\n      <td>0.094239</td>\n      <td>0.146119</td>\n      <td>9.750652e-02</td>\n      <td>0.125981</td>\n      <td>0.083768</td>\n    </tr>\n    <tr>\n      <th>min</th>\n      <td>-3.662260</td>\n      <td>0.000003</td>\n      <td>-2.820158</td>\n      <td>5.314797e-07</td>\n      <td>-1.995393</td>\n      <td>0.223695</td>\n    </tr>\n    <tr>\n      <th>25%</th>\n      <td>-3.129675</td>\n      <td>0.269993</td>\n      <td>-2.411222</td>\n      <td>3.316930e-01</td>\n      <td>-1.712801</td>\n      <td>0.347663</td>\n    </tr>\n    <tr>\n      <th>50%</th>\n      <td>-2.994384</td>\n      <td>0.295477</td>\n      <td>-2.337772</td>\n      <td>3.788216e-01</td>\n      <td>-1.635253</td>\n      <td>0.409056</td>\n    </tr>\n    <tr>\n      <th>75%</th>\n      <td>-2.893386</td>\n      <td>0.378291</td>\n      <td>-2.263579</td>\n      <td>4.310218e-01</td>\n      <td>-1.567491</td>\n      <td>0.460149</td>\n    </tr>\n    <tr>\n      <th>max</th>\n      <td>-2.567279</td>\n      <td>0.662374</td>\n      <td>-1.933294</td>\n      <td>7.407272e-01</td>\n      <td>-1.298837</td>\n      <td>0.697684</td>\n    </tr>\n  </tbody>\n</table>\n</div>"
     },
     "execution_count": 80,
     "metadata": {},
     "output_type": "execute_result"
    }
   ],
   "source": [
    "params_df_20.describe()"
   ],
   "metadata": {
    "collapsed": false,
    "ExecuteTime": {
     "end_time": "2024-05-31T13:19:15.953772700Z",
     "start_time": "2024-05-31T13:19:15.885767500Z"
    }
   },
   "id": "b84fcb1830eae75f"
  },
  {
   "cell_type": "code",
   "execution_count": 81,
   "outputs": [
    {
     "data": {
      "text/plain": "          gamma_0         w_0     gamma_1         w_1     gamma_2         w_2\ncount  100.000000  100.000000  100.000000  100.000000  100.000000  100.000000\nmean    -3.028009    0.292022   -2.354358    0.387725   -1.674470    0.411279\nstd      0.177400    0.164966    0.129590    0.105831    0.113578    0.094249\nmin     -3.480756    0.000103   -2.687449    0.056965   -1.968592    0.217658\n25%     -3.129675    0.221609   -2.447127    0.311185   -1.757991    0.346577\n50%     -3.023341    0.309846   -2.357469    0.381625   -1.674665    0.421356\n75%     -2.914636    0.421381   -2.263579    0.454158   -1.593714    0.457150\nmax     -2.534836    0.607579   -1.959964    0.756359   -1.368998    0.700950",
      "text/html": "<div>\n<style scoped>\n    .dataframe tbody tr th:only-of-type {\n        vertical-align: middle;\n    }\n\n    .dataframe tbody tr th {\n        vertical-align: top;\n    }\n\n    .dataframe thead th {\n        text-align: right;\n    }\n</style>\n<table border=\"1\" class=\"dataframe\">\n  <thead>\n    <tr style=\"text-align: right;\">\n      <th></th>\n      <th>gamma_0</th>\n      <th>w_0</th>\n      <th>gamma_1</th>\n      <th>w_1</th>\n      <th>gamma_2</th>\n      <th>w_2</th>\n    </tr>\n  </thead>\n  <tbody>\n    <tr>\n      <th>count</th>\n      <td>100.000000</td>\n      <td>100.000000</td>\n      <td>100.000000</td>\n      <td>100.000000</td>\n      <td>100.000000</td>\n      <td>100.000000</td>\n    </tr>\n    <tr>\n      <th>mean</th>\n      <td>-3.028009</td>\n      <td>0.292022</td>\n      <td>-2.354358</td>\n      <td>0.387725</td>\n      <td>-1.674470</td>\n      <td>0.411279</td>\n    </tr>\n    <tr>\n      <th>std</th>\n      <td>0.177400</td>\n      <td>0.164966</td>\n      <td>0.129590</td>\n      <td>0.105831</td>\n      <td>0.113578</td>\n      <td>0.094249</td>\n    </tr>\n    <tr>\n      <th>min</th>\n      <td>-3.480756</td>\n      <td>0.000103</td>\n      <td>-2.687449</td>\n      <td>0.056965</td>\n      <td>-1.968592</td>\n      <td>0.217658</td>\n    </tr>\n    <tr>\n      <th>25%</th>\n      <td>-3.129675</td>\n      <td>0.221609</td>\n      <td>-2.447127</td>\n      <td>0.311185</td>\n      <td>-1.757991</td>\n      <td>0.346577</td>\n    </tr>\n    <tr>\n      <th>50%</th>\n      <td>-3.023341</td>\n      <td>0.309846</td>\n      <td>-2.357469</td>\n      <td>0.381625</td>\n      <td>-1.674665</td>\n      <td>0.421356</td>\n    </tr>\n    <tr>\n      <th>75%</th>\n      <td>-2.914636</td>\n      <td>0.421381</td>\n      <td>-2.263579</td>\n      <td>0.454158</td>\n      <td>-1.593714</td>\n      <td>0.457150</td>\n    </tr>\n    <tr>\n      <th>max</th>\n      <td>-2.534836</td>\n      <td>0.607579</td>\n      <td>-1.959964</td>\n      <td>0.756359</td>\n      <td>-1.368998</td>\n      <td>0.700950</td>\n    </tr>\n  </tbody>\n</table>\n</div>"
     },
     "execution_count": 81,
     "metadata": {},
     "output_type": "execute_result"
    }
   ],
   "source": [
    "params_df_20_2.describe()"
   ],
   "metadata": {
    "collapsed": false,
    "ExecuteTime": {
     "end_time": "2024-05-31T13:19:16.048502Z",
     "start_time": "2024-05-31T13:19:15.914770200Z"
    }
   },
   "id": "e870de42663b247c"
  },
  {
   "cell_type": "code",
   "execution_count": 82,
   "outputs": [
    {
     "data": {
      "text/plain": "          gamma_0         w_0     gamma_1         w_1     gamma_2         w_2\ncount  500.000000  500.000000  500.000000  500.000000  500.000000  500.000000\nmean    -2.975659    0.418155   -2.330747    0.437204   -1.648949    0.444306\nstd      0.061947    0.062751    0.049260    0.047730    0.042565    0.036622\nmin     -3.157048    0.188595   -2.492073    0.312981   -1.773626    0.342890\n25%     -3.015862    0.377063   -2.360761    0.404532   -1.677377    0.419793\n50%     -2.974204    0.415394   -2.329171    0.434645   -1.650944    0.443337\n75%     -2.934231    0.455831   -2.298207    0.465582   -1.621082    0.467508\nmax     -2.783656    0.632561   -2.159002    0.612375   -1.509680    0.559142",
      "text/html": "<div>\n<style scoped>\n    .dataframe tbody tr th:only-of-type {\n        vertical-align: middle;\n    }\n\n    .dataframe tbody tr th {\n        vertical-align: top;\n    }\n\n    .dataframe thead th {\n        text-align: right;\n    }\n</style>\n<table border=\"1\" class=\"dataframe\">\n  <thead>\n    <tr style=\"text-align: right;\">\n      <th></th>\n      <th>gamma_0</th>\n      <th>w_0</th>\n      <th>gamma_1</th>\n      <th>w_1</th>\n      <th>gamma_2</th>\n      <th>w_2</th>\n    </tr>\n  </thead>\n  <tbody>\n    <tr>\n      <th>count</th>\n      <td>500.000000</td>\n      <td>500.000000</td>\n      <td>500.000000</td>\n      <td>500.000000</td>\n      <td>500.000000</td>\n      <td>500.000000</td>\n    </tr>\n    <tr>\n      <th>mean</th>\n      <td>-2.975659</td>\n      <td>0.418155</td>\n      <td>-2.330747</td>\n      <td>0.437204</td>\n      <td>-1.648949</td>\n      <td>0.444306</td>\n    </tr>\n    <tr>\n      <th>std</th>\n      <td>0.061947</td>\n      <td>0.062751</td>\n      <td>0.049260</td>\n      <td>0.047730</td>\n      <td>0.042565</td>\n      <td>0.036622</td>\n    </tr>\n    <tr>\n      <th>min</th>\n      <td>-3.157048</td>\n      <td>0.188595</td>\n      <td>-2.492073</td>\n      <td>0.312981</td>\n      <td>-1.773626</td>\n      <td>0.342890</td>\n    </tr>\n    <tr>\n      <th>25%</th>\n      <td>-3.015862</td>\n      <td>0.377063</td>\n      <td>-2.360761</td>\n      <td>0.404532</td>\n      <td>-1.677377</td>\n      <td>0.419793</td>\n    </tr>\n    <tr>\n      <th>50%</th>\n      <td>-2.974204</td>\n      <td>0.415394</td>\n      <td>-2.329171</td>\n      <td>0.434645</td>\n      <td>-1.650944</td>\n      <td>0.443337</td>\n    </tr>\n    <tr>\n      <th>75%</th>\n      <td>-2.934231</td>\n      <td>0.455831</td>\n      <td>-2.298207</td>\n      <td>0.465582</td>\n      <td>-1.621082</td>\n      <td>0.467508</td>\n    </tr>\n    <tr>\n      <th>max</th>\n      <td>-2.783656</td>\n      <td>0.632561</td>\n      <td>-2.159002</td>\n      <td>0.612375</td>\n      <td>-1.509680</td>\n      <td>0.559142</td>\n    </tr>\n  </tbody>\n</table>\n</div>"
     },
     "execution_count": 82,
     "metadata": {},
     "output_type": "execute_result"
    }
   ],
   "source": [
    "params_df_160.describe()"
   ],
   "metadata": {
    "collapsed": false,
    "ExecuteTime": {
     "end_time": "2024-05-31T13:19:16.125509100Z",
     "start_time": "2024-05-31T13:19:15.946772600Z"
    }
   },
   "id": "9b9e26723eec09e9"
  },
  {
   "cell_type": "code",
   "execution_count": 83,
   "outputs": [
    {
     "data": {
      "text/plain": "          gamma_0         w_0     gamma_1         w_1     gamma_2         w_2\ncount  500.000000  500.000000  500.000000  500.000000  500.000000  500.000000\nmean    -2.974909    0.417787   -2.329986    0.437640   -1.647110    0.443163\nstd      0.064943    0.058988    0.048681    0.045626    0.042639    0.036665\nmin     -3.174684    0.262933   -2.496290    0.319171   -1.785070    0.333891\n25%     -3.015862    0.377333   -2.362544    0.406081   -1.677377    0.418547\n50%     -2.974204    0.413275   -2.332489    0.434320   -1.647587    0.442544\n75%     -2.928479    0.454077   -2.298867    0.464465   -1.618755    0.466372\nmax     -2.785547    0.654074   -2.196586    0.667710   -1.533105    0.599632",
      "text/html": "<div>\n<style scoped>\n    .dataframe tbody tr th:only-of-type {\n        vertical-align: middle;\n    }\n\n    .dataframe tbody tr th {\n        vertical-align: top;\n    }\n\n    .dataframe thead th {\n        text-align: right;\n    }\n</style>\n<table border=\"1\" class=\"dataframe\">\n  <thead>\n    <tr style=\"text-align: right;\">\n      <th></th>\n      <th>gamma_0</th>\n      <th>w_0</th>\n      <th>gamma_1</th>\n      <th>w_1</th>\n      <th>gamma_2</th>\n      <th>w_2</th>\n    </tr>\n  </thead>\n  <tbody>\n    <tr>\n      <th>count</th>\n      <td>500.000000</td>\n      <td>500.000000</td>\n      <td>500.000000</td>\n      <td>500.000000</td>\n      <td>500.000000</td>\n      <td>500.000000</td>\n    </tr>\n    <tr>\n      <th>mean</th>\n      <td>-2.974909</td>\n      <td>0.417787</td>\n      <td>-2.329986</td>\n      <td>0.437640</td>\n      <td>-1.647110</td>\n      <td>0.443163</td>\n    </tr>\n    <tr>\n      <th>std</th>\n      <td>0.064943</td>\n      <td>0.058988</td>\n      <td>0.048681</td>\n      <td>0.045626</td>\n      <td>0.042639</td>\n      <td>0.036665</td>\n    </tr>\n    <tr>\n      <th>min</th>\n      <td>-3.174684</td>\n      <td>0.262933</td>\n      <td>-2.496290</td>\n      <td>0.319171</td>\n      <td>-1.785070</td>\n      <td>0.333891</td>\n    </tr>\n    <tr>\n      <th>25%</th>\n      <td>-3.015862</td>\n      <td>0.377333</td>\n      <td>-2.362544</td>\n      <td>0.406081</td>\n      <td>-1.677377</td>\n      <td>0.418547</td>\n    </tr>\n    <tr>\n      <th>50%</th>\n      <td>-2.974204</td>\n      <td>0.413275</td>\n      <td>-2.332489</td>\n      <td>0.434320</td>\n      <td>-1.647587</td>\n      <td>0.442544</td>\n    </tr>\n    <tr>\n      <th>75%</th>\n      <td>-2.928479</td>\n      <td>0.454077</td>\n      <td>-2.298867</td>\n      <td>0.464465</td>\n      <td>-1.618755</td>\n      <td>0.466372</td>\n    </tr>\n    <tr>\n      <th>max</th>\n      <td>-2.785547</td>\n      <td>0.654074</td>\n      <td>-2.196586</td>\n      <td>0.667710</td>\n      <td>-1.533105</td>\n      <td>0.599632</td>\n    </tr>\n  </tbody>\n</table>\n</div>"
     },
     "execution_count": 83,
     "metadata": {},
     "output_type": "execute_result"
    }
   ],
   "source": [
    "params_df_160_2.describe()"
   ],
   "metadata": {
    "collapsed": false,
    "ExecuteTime": {
     "end_time": "2024-05-31T13:19:16.171514Z",
     "start_time": "2024-05-31T13:19:15.978776500Z"
    }
   },
   "id": "6bf1c574b9d9f57e"
  },
  {
   "cell_type": "code",
   "execution_count": null,
   "outputs": [],
   "source": [],
   "metadata": {
    "collapsed": false,
    "ExecuteTime": {
     "start_time": "2024-05-31T13:09:26.315409100Z"
    }
   },
   "id": "292e813190cf1e21"
  }
 ],
 "metadata": {
  "kernelspec": {
   "name": "python3",
   "language": "python",
   "display_name": "Python 3 (ipykernel)"
  },
  "language_info": {
   "codemirror_mode": {
    "name": "ipython",
    "version": 2
   },
   "file_extension": ".py",
   "mimetype": "text/x-python",
   "name": "python",
   "nbconvert_exporter": "python",
   "pygments_lexer": "ipython2",
   "version": "2.7.6"
  }
 },
 "nbformat": 4,
 "nbformat_minor": 5
}
