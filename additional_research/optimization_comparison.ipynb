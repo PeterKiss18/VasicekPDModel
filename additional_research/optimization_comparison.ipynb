{
 "cells": [
  {
   "cell_type": "code",
   "execution_count": 1,
   "id": "initial_id",
   "metadata": {
    "collapsed": true,
    "ExecuteTime": {
     "end_time": "2024-05-31T12:47:29.748243600Z",
     "start_time": "2024-05-31T12:47:28.364118600Z"
    }
   },
   "outputs": [],
   "source": [
    "import pandas as pd\n",
    "import numpy as np\n",
    "import time\n",
    "from scipy.stats import norm\n",
    "from scipy.optimize import minimize\n",
    "from src.variable_change import a_calc_func, b_calc_func, w_calc_func, gamma_calc_func\n",
    "from src.ML_estimation import log_likehood_variable_changed_fast\n",
    "from src.sucess_probability import p_g"
   ]
  },
  {
   "cell_type": "code",
   "execution_count": 50,
   "outputs": [],
   "source": [
    "factor_loading_list = [0.45, 0.45, 0.45]\n",
    "pd_list = [0.0015, 0.0100, 0.0500]\n",
    "gamma_list = norm.ppf(pd_list)\n",
    "num_of_obligors_list = [400, 250, 100]"
   ],
   "metadata": {
    "collapsed": false,
    "ExecuteTime": {
     "end_time": "2024-04-27T13:19:50.043685200Z",
     "start_time": "2024-04-27T13:19:49.879673200Z"
    }
   },
   "id": "41efbe0efdd72426"
  },
  {
   "cell_type": "code",
   "execution_count": 51,
   "outputs": [],
   "source": [
    "def ml_param_estimation(\n",
    "        default_table, num_of_obligors_table, factor_loading_init, gamma_list_init):\n",
    "    # if len(factor_loading_init) == 1:\n",
    "    #     factor_loading_init = np.full_like(gamma_list_init, factor_loading_init[0])\n",
    "    # elif len(gamma_list_init) == 1:\n",
    "    #     gamma_list_init = gamma_list_init * len(factor_loading_init)\n",
    "\n",
    "    a_init = np.array(a_calc_func(np.array(factor_loading_init), np.array(gamma_list_init)))\n",
    "    b_init = np.array(b_calc_func(np.array(factor_loading_init), np.array(gamma_list_init)))\n",
    "\n",
    "    initial_guess = np.concatenate((a_init, b_init))\n",
    "\n",
    "    num_of_a = len(a_init)\n",
    "    bounds = [(-10, 10)] * len(initial_guess)\n",
    "\n",
    "    # Optimization\n",
    "    objective_function = lambda params: -log_likehood_variable_changed_fast(\n",
    "        default_table, num_of_obligors_table, p_g, norm.pdf, params[:num_of_a], params[num_of_a:len(initial_guess)]\n",
    "    )\n",
    "\n",
    "    result = minimize(objective_function,\n",
    "                      initial_guess,\n",
    "                      method=\"Nelder-Mead\",\n",
    "                      bounds=bounds,\n",
    "                      options={\n",
    "                          'disp': False})\n",
    "\n",
    "    factor_loading_result = np.array(w_calc_func(np.array(result.x[:num_of_a]), np.array(result.x[num_of_a:])))\n",
    "    gamma_result = np.array(gamma_calc_func(np.array(result.x[:num_of_a]), np.array(result.x[num_of_a:])))\n",
    "\n",
    "    return factor_loading_result, gamma_result, result"
   ],
   "metadata": {
    "collapsed": false,
    "ExecuteTime": {
     "end_time": "2024-04-27T13:19:50.485722900Z",
     "start_time": "2024-04-27T13:19:50.314711Z"
    }
   },
   "id": "c8f84fcd8e8c5b1b"
  },
  {
   "cell_type": "code",
   "execution_count": 52,
   "outputs": [],
   "source": [
    "from src.data_generator import generate_default_time_series\n",
    "years = 80\n",
    "defaults_df = generate_default_time_series(factor_loading_list, num_of_obligors_list, gamma_list, years)\n",
    "num_of_obligors_table = np.array([num_of_obligors_list] * len(defaults_df))"
   ],
   "metadata": {
    "collapsed": false,
    "ExecuteTime": {
     "end_time": "2024-04-27T13:19:54.438051400Z",
     "start_time": "2024-04-27T13:19:54.191033300Z"
    }
   },
   "id": "e53baf026d484de2"
  },
  {
   "cell_type": "code",
   "execution_count": 53,
   "outputs": [],
   "source": [
    "factor_loading_init = factor_loading_list\n",
    "gamma_list_init = gamma_list\n",
    "default_table = defaults_df.values"
   ],
   "metadata": {
    "collapsed": false,
    "ExecuteTime": {
     "end_time": "2024-04-27T13:19:55.624153Z",
     "start_time": "2024-04-27T13:19:55.436139100Z"
    }
   },
   "id": "543f2dc899d781f0"
  },
  {
   "cell_type": "code",
   "execution_count": 54,
   "outputs": [],
   "source": [
    "a_init = np.array(a_calc_func(np.array(factor_loading_init), np.array(gamma_list_init)))\n",
    "b_init = np.array(b_calc_func(np.array(factor_loading_init), np.array(gamma_list_init)))\n",
    "\n",
    "initial_guess = np.concatenate((a_init, b_init))\n",
    "\n",
    "num_of_a = len(a_init)\n",
    "bounds = [(-10, 10)] * len(initial_guess)"
   ],
   "metadata": {
    "collapsed": false,
    "ExecuteTime": {
     "end_time": "2024-04-27T13:19:56.401216500Z",
     "start_time": "2024-04-27T13:19:56.247205600Z"
    }
   },
   "id": "9f12aa1cbab6956e"
  },
  {
   "cell_type": "code",
   "execution_count": 55,
   "outputs": [],
   "source": [
    "# Optimization\n",
    "objective_function = lambda params: -log_likehood_variable_changed_fast(\n",
    "    default_table, num_of_obligors_table, p_g, norm.pdf, params[:num_of_a], params[num_of_a:len(initial_guess)]\n",
    ")\n",
    "\n",
    "start_time = time.time()\n",
    "\n",
    "result_nelder_mead = minimize(objective_function,\n",
    "                  initial_guess,\n",
    "                  method=\"Nelder-Mead\",\n",
    "                  bounds=bounds,\n",
    "                  options={\n",
    "                      'disp': False})\n",
    "\n",
    "end_time = time.time()\n",
    "time_nelder_mead = end_time - start_time"
   ],
   "metadata": {
    "collapsed": false,
    "ExecuteTime": {
     "end_time": "2024-04-27T13:21:00.906210500Z",
     "start_time": "2024-04-27T13:19:56.935263200Z"
    }
   },
   "id": "2766db2a4de2d17d"
  },
  {
   "cell_type": "code",
   "execution_count": 56,
   "outputs": [
    {
     "data": {
      "text/plain": "       message: Optimization terminated successfully.\n       success: True\n        status: 0\n           fun: 394.05198432619846\n             x: [-5.884e-01 -5.481e-01 -4.997e-01 -3.446e+00 -2.598e+00\n                 -1.838e+00]\n           nit: 218\n          nfev: 358\n final_simplex: (array([[-5.884e-01, -5.481e-01, ..., -2.598e+00,\n                        -1.838e+00],\n                       [-5.883e-01, -5.480e-01, ..., -2.598e+00,\n                        -1.838e+00],\n                       ...,\n                       [-5.884e-01, -5.480e-01, ..., -2.599e+00,\n                        -1.838e+00],\n                       [-5.883e-01, -5.480e-01, ..., -2.598e+00,\n                        -1.838e+00]]), array([ 3.941e+02,  3.941e+02,  3.941e+02,  3.941e+02,\n                        3.941e+02,  3.941e+02,  3.941e+02]))"
     },
     "execution_count": 56,
     "metadata": {},
     "output_type": "execute_result"
    }
   ],
   "source": [
    "result_nelder_mead"
   ],
   "metadata": {
    "collapsed": false,
    "ExecuteTime": {
     "end_time": "2024-04-27T13:21:00.907211300Z",
     "start_time": "2024-04-27T13:21:00.666201600Z"
    }
   },
   "id": "ff1da2121e3f5cf3"
  },
  {
   "cell_type": "code",
   "execution_count": 57,
   "outputs": [
    {
     "name": "stderr",
     "output_type": "stream",
     "text": [
      "C:\\Users\\kissp\\AppData\\Local\\Temp\\ipykernel_8912\\1320668608.py:3: RuntimeWarning: Method BFGS cannot handle bounds.\n",
      "  result_BFGS = minimize(objective_function,\n"
     ]
    }
   ],
   "source": [
    "start_time = time.time()\n",
    "\n",
    "result_BFGS = minimize(objective_function,\n",
    "                  initial_guess,\n",
    "                  method=\"BFGS\",\n",
    "                  bounds=bounds,\n",
    "                  options={\n",
    "                      'disp': False})\n",
    "\n",
    "end_time = time.time()\n",
    "time_BFGS = end_time - start_time"
   ],
   "metadata": {
    "collapsed": false,
    "ExecuteTime": {
     "end_time": "2024-04-27T13:21:52.600545300Z",
     "start_time": "2024-04-27T13:21:00.682194500Z"
    }
   },
   "id": "85ae2a04e870c8bd"
  },
  {
   "cell_type": "code",
   "execution_count": 58,
   "outputs": [
    {
     "data": {
      "text/plain": "  message: Desired error not necessarily achieved due to precision loss.\n  success: False\n   status: 2\n      fun: 394.05198412269755\n        x: [-5.884e-01 -5.480e-01 -4.997e-01 -3.446e+00 -2.598e+00\n            -1.838e+00]\n      nit: 14\n      jac: [ 4.196e-05  1.144e-05 -3.815e-05 -2.289e-05  3.815e-06\n             2.670e-05]\n hess_inv: [[ 3.315e-02  1.598e-02 ...  1.404e-02  1.060e-02]\n            [ 1.598e-02  9.444e-03 ...  8.159e-03  5.624e-03]\n            ...\n            [ 1.404e-02  8.159e-03 ...  8.873e-03  5.586e-03]\n            [ 1.060e-02  5.624e-03 ...  5.586e-03  5.319e-03]]\n     nfev: 308\n     njev: 44"
     },
     "execution_count": 58,
     "metadata": {},
     "output_type": "execute_result"
    }
   ],
   "source": [
    "result_BFGS"
   ],
   "metadata": {
    "collapsed": false,
    "ExecuteTime": {
     "end_time": "2024-04-27T13:21:52.601548200Z",
     "start_time": "2024-04-27T13:21:52.572548Z"
    }
   },
   "id": "8744871a7c24b4f5"
  },
  {
   "cell_type": "code",
   "execution_count": 72,
   "outputs": [
    {
     "name": "stdout",
     "output_type": "stream",
     "text": [
      "Error in function ibeta_derivative<d>(%1%,%1%,%1%): Overflow Error\n"
     ]
    }
   ],
   "source": [
    "try:\n",
    "    result_LBFGSB = minimize(objective_function,\n",
    "                      initial_guess,\n",
    "                      method=\"L-BFGS-B\",\n",
    "                      bounds=bounds,\n",
    "                      options={\n",
    "                          'disp': False})\n",
    "except Exception as e:\n",
    "    print(e)"
   ],
   "metadata": {
    "collapsed": false,
    "ExecuteTime": {
     "end_time": "2024-04-27T13:41:15.120561700Z",
     "start_time": "2024-04-27T13:41:14.841541100Z"
    }
   },
   "id": "5eccad9cfeb0119e"
  },
  {
   "cell_type": "code",
   "execution_count": 60,
   "outputs": [
    {
     "name": "stderr",
     "output_type": "stream",
     "text": [
      "C:\\Users\\kissp\\PycharmProjects\\VasicekPDModell\\src\\ML_estimation.py:348: RuntimeWarning: divide by zero encountered in log\n",
      "  return sum(np.log(calc_linear_likelihood(d_g_list, n_g_list, p_g, prob_dens_func, a, b)) for d_g_list, n_g_list in zip(d_g_array, n_g_array))\n",
      "C:\\Users\\kissp\\PycharmProjects\\VasicekPDModell\\venv\\lib\\site-packages\\scipy\\optimize\\_optimize.py:2394: RuntimeWarning: invalid value encountered in scalar multiply\n",
      "  q = (xf - fulc) * (fx - fnfc)\n"
     ]
    }
   ],
   "source": [
    "start_time = time.time()\n",
    "result_Powell = minimize(objective_function,\n",
    "                  initial_guess,\n",
    "                  method=\"Powell\",\n",
    "                  bounds=bounds,\n",
    "                  options={\n",
    "                      'disp': False})\n",
    "\n",
    "end_time = time.time()\n",
    "time_Powell = end_time - start_time"
   ],
   "metadata": {
    "collapsed": false,
    "ExecuteTime": {
     "end_time": "2024-04-27T13:22:45.596721200Z",
     "start_time": "2024-04-27T13:22:05.328558800Z"
    }
   },
   "id": "7b098fa8578459fc"
  },
  {
   "cell_type": "code",
   "execution_count": 61,
   "outputs": [
    {
     "data": {
      "text/plain": " message: Optimization terminated successfully.\n success: True\n  status: 0\n     fun: 394.0527316794114\n       x: [-5.873e-01 -5.465e-01 -4.992e-01 -3.446e+00 -2.599e+00\n           -1.840e+00]\n     nit: 3\n   direc: [[ 0.000e+00  0.000e+00 ...  0.000e+00  1.000e+00]\n           [ 0.000e+00  1.000e+00 ...  0.000e+00  0.000e+00]\n           ...\n           [ 0.000e+00  0.000e+00 ...  1.000e+00  0.000e+00]\n           [-6.848e-02 -1.606e-03 ...  7.019e-03  2.503e-04]]\n    nfev: 273"
     },
     "execution_count": 61,
     "metadata": {},
     "output_type": "execute_result"
    }
   ],
   "source": [
    "result_Powell"
   ],
   "metadata": {
    "collapsed": false,
    "ExecuteTime": {
     "end_time": "2024-04-27T13:22:45.642722400Z",
     "start_time": "2024-04-27T13:22:45.598722400Z"
    }
   },
   "id": "c03d4d6d6efeeaac"
  },
  {
   "cell_type": "code",
   "execution_count": 62,
   "outputs": [],
   "source": [
    "start_time = time.time()\n",
    "result_COBLYA = minimize(objective_function,\n",
    "                  initial_guess,\n",
    "                  method=\"COBYLA\",\n",
    "                  bounds=bounds,\n",
    "                  options={\n",
    "                      'disp': False})\n",
    "\n",
    "end_time = time.time()\n",
    "time_COBYLA = end_time - start_time"
   ],
   "metadata": {
    "collapsed": false,
    "ExecuteTime": {
     "end_time": "2024-04-27T13:23:43.590045700Z",
     "start_time": "2024-04-27T13:22:45.615724200Z"
    }
   },
   "id": "d41c85aed6f208bd"
  },
  {
   "cell_type": "code",
   "execution_count": 63,
   "outputs": [
    {
     "data": {
      "text/plain": " message: Optimization terminated successfully.\n success: True\n  status: 1\n     fun: 394.05217577162074\n       x: [-5.869e-01 -5.476e-01 -4.995e-01 -3.444e+00 -2.598e+00\n           -1.838e+00]\n    nfev: 431\n   maxcv: 0.0"
     },
     "execution_count": 63,
     "metadata": {},
     "output_type": "execute_result"
    }
   ],
   "source": [
    "result_COBLYA"
   ],
   "metadata": {
    "collapsed": false,
    "ExecuteTime": {
     "end_time": "2024-04-27T13:23:43.646052400Z",
     "start_time": "2024-04-27T13:23:43.581051200Z"
    }
   },
   "id": "44d6f17639e425e6"
  },
  {
   "cell_type": "code",
   "execution_count": 64,
   "outputs": [],
   "source": [
    "start_time = time.time()\n",
    "result_TNC = minimize(objective_function,\n",
    "                  initial_guess,\n",
    "                  method=\"TNC\",\n",
    "                  bounds=bounds,\n",
    "                  options={\n",
    "                      'disp': False})\n",
    "end_time = time.time()\n",
    "time_TNC = end_time - start_time"
   ],
   "metadata": {
    "collapsed": false,
    "ExecuteTime": {
     "end_time": "2024-04-27T13:25:11.749507800Z",
     "start_time": "2024-04-27T13:23:43.595049Z"
    }
   },
   "id": "8faa3aea508c78b5"
  },
  {
   "cell_type": "code",
   "execution_count": 65,
   "outputs": [
    {
     "data": {
      "text/plain": " message: Max. number of function evaluations reached\n success: False\n  status: 3\n     fun: 394.06895647385954\n       x: [-5.760e-01 -5.471e-01 -4.979e-01 -3.424e+00 -2.593e+00\n           -1.832e+00]\n     nit: 14\n     jac: [ 1.250e+00 -9.046e-01 -9.039e-02  6.553e-01 -1.933e-03\n            8.793e-01]\n    nfev: 707"
     },
     "execution_count": 65,
     "metadata": {},
     "output_type": "execute_result"
    }
   ],
   "source": [
    "result_TNC"
   ],
   "metadata": {
    "collapsed": false,
    "ExecuteTime": {
     "end_time": "2024-04-27T13:25:11.805510600Z",
     "start_time": "2024-04-27T13:25:11.752509700Z"
    }
   },
   "id": "10f8268a3326f93a"
  },
  {
   "cell_type": "code",
   "execution_count": 66,
   "outputs": [],
   "source": [
    "# Save the results to a dataframe\n",
    "# Columns: success, fun, nit, nfev, running_time, a0, a1, a2, b0, b1, b2\n",
    "results_df = pd.DataFrame(columns=['success', 'fun', 'nit', 'nfev', 'running_time', 'a0', 'a1', 'a2', 'b0', 'b1', 'b2'])\n",
    "\n",
    "results_df.loc['Nelder-Mead'] = [result_nelder_mead.success, result_nelder_mead.fun, result_nelder_mead.nit, result_nelder_mead.nfev, time_nelder_mead] + list(result_nelder_mead.x)\n",
    "results_df.loc['BFGS'] = [result_BFGS.success, result_BFGS.fun, result_BFGS.nit, result_BFGS.nfev, time_BFGS] + list(result_BFGS.x)\n",
    "#results_df.loc['L-BFGS-B'] = [result_LBFGSB.success, result_LBFGSB.fun, result_LBFGSB.nit, result_LBFGSB.nfev, time_BFGS] + list(result_LBFGSB.x)\n",
    "results_df.loc['Powell'] = [result_Powell.success, result_Powell.fun, result_Powell.nit, result_Powell.nfev, time_Powell] + list(result_Powell.x)\n",
    "results_df.loc['COBYLA'] = [result_COBLYA.success, result_COBLYA.fun, None, result_COBLYA.nfev, time_COBYLA] + list(result_COBLYA.x)\n",
    "results_df.loc['TNC'] = [result_TNC.success, result_TNC.fun, result_TNC.nit, result_TNC.nfev, time_TNC] + list(result_TNC.x)\n"
   ],
   "metadata": {
    "collapsed": false,
    "ExecuteTime": {
     "end_time": "2024-04-27T13:25:11.841513900Z",
     "start_time": "2024-04-27T13:25:11.766514600Z"
    }
   },
   "id": "bd8c30a0259bc5a"
  },
  {
   "cell_type": "code",
   "execution_count": 67,
   "outputs": [
    {
     "data": {
      "text/plain": "             success         fun   nit  nfev  running_time        a0  \\\nNelder-Mead     True  394.051984   218   358     63.706928 -0.588396   \nBFGS           False  394.051984    14   308     51.884348 -0.588375   \nPowell          True  394.052732     3   273     40.256153 -0.587327   \nCOBYLA          True  394.052176  None   431     57.950325 -0.586910   \nTNC            False  394.068956    14   707     88.142456 -0.576034   \n\n                   a1        a2        b0        b1        b2  \nNelder-Mead -0.548058 -0.499739 -3.445782 -2.598482 -1.838331  \nBFGS        -0.548029 -0.499718 -3.445768 -2.598484 -1.838329  \nPowell      -0.546506 -0.499202 -3.446437 -2.599097 -1.840031  \nCOBYLA      -0.547602 -0.499507 -3.443587 -2.597629 -1.837777  \nTNC         -0.547098 -0.497858 -3.423949 -2.593108 -1.832005  ",
      "text/html": "<div>\n<style scoped>\n    .dataframe tbody tr th:only-of-type {\n        vertical-align: middle;\n    }\n\n    .dataframe tbody tr th {\n        vertical-align: top;\n    }\n\n    .dataframe thead th {\n        text-align: right;\n    }\n</style>\n<table border=\"1\" class=\"dataframe\">\n  <thead>\n    <tr style=\"text-align: right;\">\n      <th></th>\n      <th>success</th>\n      <th>fun</th>\n      <th>nit</th>\n      <th>nfev</th>\n      <th>running_time</th>\n      <th>a0</th>\n      <th>a1</th>\n      <th>a2</th>\n      <th>b0</th>\n      <th>b1</th>\n      <th>b2</th>\n    </tr>\n  </thead>\n  <tbody>\n    <tr>\n      <th>Nelder-Mead</th>\n      <td>True</td>\n      <td>394.051984</td>\n      <td>218</td>\n      <td>358</td>\n      <td>63.706928</td>\n      <td>-0.588396</td>\n      <td>-0.548058</td>\n      <td>-0.499739</td>\n      <td>-3.445782</td>\n      <td>-2.598482</td>\n      <td>-1.838331</td>\n    </tr>\n    <tr>\n      <th>BFGS</th>\n      <td>False</td>\n      <td>394.051984</td>\n      <td>14</td>\n      <td>308</td>\n      <td>51.884348</td>\n      <td>-0.588375</td>\n      <td>-0.548029</td>\n      <td>-0.499718</td>\n      <td>-3.445768</td>\n      <td>-2.598484</td>\n      <td>-1.838329</td>\n    </tr>\n    <tr>\n      <th>Powell</th>\n      <td>True</td>\n      <td>394.052732</td>\n      <td>3</td>\n      <td>273</td>\n      <td>40.256153</td>\n      <td>-0.587327</td>\n      <td>-0.546506</td>\n      <td>-0.499202</td>\n      <td>-3.446437</td>\n      <td>-2.599097</td>\n      <td>-1.840031</td>\n    </tr>\n    <tr>\n      <th>COBYLA</th>\n      <td>True</td>\n      <td>394.052176</td>\n      <td>None</td>\n      <td>431</td>\n      <td>57.950325</td>\n      <td>-0.586910</td>\n      <td>-0.547602</td>\n      <td>-0.499507</td>\n      <td>-3.443587</td>\n      <td>-2.597629</td>\n      <td>-1.837777</td>\n    </tr>\n    <tr>\n      <th>TNC</th>\n      <td>False</td>\n      <td>394.068956</td>\n      <td>14</td>\n      <td>707</td>\n      <td>88.142456</td>\n      <td>-0.576034</td>\n      <td>-0.547098</td>\n      <td>-0.497858</td>\n      <td>-3.423949</td>\n      <td>-2.593108</td>\n      <td>-1.832005</td>\n    </tr>\n  </tbody>\n</table>\n</div>"
     },
     "execution_count": 67,
     "metadata": {},
     "output_type": "execute_result"
    }
   ],
   "source": [
    "results_df"
   ],
   "metadata": {
    "collapsed": false,
    "ExecuteTime": {
     "end_time": "2024-04-27T13:27:42.173636800Z",
     "start_time": "2024-04-27T13:27:41.891614800Z"
    }
   },
   "id": "6b1a60280636e1b8"
  },
  {
   "cell_type": "code",
   "execution_count": 68,
   "outputs": [],
   "source": [
    "years2 = 20\n",
    "defaults_df2 = generate_default_time_series(factor_loading_list, num_of_obligors_list, gamma_list, years2)\n",
    "num_of_obligors_table2 = np.array([num_of_obligors_list] * len(defaults_df2))\n",
    "\n",
    "factor_loading_init = factor_loading_list\n",
    "gamma_list_init = gamma_list\n",
    "default_table = defaults_df2.values\n",
    "\n",
    "a_init = np.array(a_calc_func(np.array(factor_loading_init), np.array(gamma_list_init)))\n",
    "b_init = np.array(b_calc_func(np.array(factor_loading_init), np.array(gamma_list_init)))\n",
    "\n",
    "initial_guess = np.concatenate((a_init, b_init))\n",
    "\n",
    "num_of_a = len(a_init)\n",
    "bounds = [(-10, 10)] * len(initial_guess)"
   ],
   "metadata": {
    "collapsed": false,
    "ExecuteTime": {
     "end_time": "2024-04-27T13:33:05.772962500Z",
     "start_time": "2024-04-27T13:33:05.633954100Z"
    }
   },
   "id": "8cae9551c706c1c7"
  },
  {
   "cell_type": "code",
   "execution_count": 70,
   "outputs": [
    {
     "name": "stderr",
     "output_type": "stream",
     "text": [
      "C:\\Users\\kissp\\AppData\\Local\\Temp\\ipykernel_8912\\4219541889.py:12: RuntimeWarning: Method BFGS cannot handle bounds.\n",
      "  result_BFGS2 = minimize(objective_function,\n",
      "C:\\Users\\kissp\\PycharmProjects\\VasicekPDModell\\src\\ML_estimation.py:348: RuntimeWarning: divide by zero encountered in log\n",
      "  return sum(np.log(calc_linear_likelihood(d_g_list, n_g_list, p_g, prob_dens_func, a, b)) for d_g_list, n_g_list in zip(d_g_array, n_g_array))\n",
      "C:\\Users\\kissp\\PycharmProjects\\VasicekPDModell\\venv\\lib\\site-packages\\scipy\\optimize\\_optimize.py:2394: RuntimeWarning: invalid value encountered in scalar multiply\n",
      "  q = (xf - fulc) * (fx - fnfc)\n",
      "C:\\Users\\kissp\\PycharmProjects\\VasicekPDModell\\venv\\lib\\site-packages\\scipy\\optimize\\_optimize.py:2395: RuntimeWarning: invalid value encountered in scalar subtract\n",
      "  p = (xf - fulc) * q - (xf - nfc) * r\n",
      "C:\\Users\\kissp\\PycharmProjects\\VasicekPDModell\\venv\\lib\\site-packages\\scipy\\optimize\\_optimize.py:2396: RuntimeWarning: invalid value encountered in scalar subtract\n",
      "  q = 2.0 * (q - r)\n"
     ]
    }
   ],
   "source": [
    "start_time = time.time()\n",
    "result_nelder_mead2 = minimize(objective_function,\n",
    "                               initial_guess,\n",
    "                              method=\"Nelder-Mead\",\n",
    "                              bounds=bounds,\n",
    "                              options={\n",
    "                                  'disp': False})\n",
    "end_time = time.time()\n",
    "time_nelder_mead2 = end_time - start_time\n",
    "\n",
    "start_time = time.time()\n",
    "result_BFGS2 = minimize(objective_function,\n",
    "                        initial_guess,\n",
    "                        method=\"BFGS\",\n",
    "                        bounds=bounds,\n",
    "                        options={\n",
    "                            'disp': False})\n",
    "end_time = time.time()\n",
    "time_BFGS2 = end_time - start_time\n",
    "\n",
    "start_time = time.time()\n",
    "result_Powell2 = minimize(objective_function,\n",
    "                            initial_guess,\n",
    "                            method=\"Powell\",\n",
    "                            bounds=bounds,\n",
    "                            options={\n",
    "                                'disp': False})\n",
    "end_time = time.time()\n",
    "time_Powell2 = end_time - start_time\n",
    "\n",
    "start_time = time.time()\n",
    "result_COBLYA2 = minimize(objective_function,\n",
    "                            initial_guess,\n",
    "                            method=\"COBYLA\",\n",
    "                            bounds=bounds,\n",
    "                            options={\n",
    "                                'disp': False})\n",
    "end_time = time.time()\n",
    "time_COBYLA2 = end_time - start_time\n",
    "\n",
    "start_time = time.time()\n",
    "result_TNC2 = minimize(objective_function,\n",
    "                        initial_guess,\n",
    "                        method=\"TNC\",\n",
    "                        bounds=bounds,\n",
    "                        options={\n",
    "                            'disp': False})\n",
    "end_time = time.time()\n",
    "time_TNC2 = end_time - start_time\n",
    "\n",
    "# Save the results to a dataframe\n",
    "# Columns: success, fun, nit, nfev, running_time, a0, a1, a2, b0, b1, b2\n",
    "results_df2 = pd.DataFrame(columns=['success', 'fun', 'nit', 'nfev', 'running_time', 'a0', 'a1', 'a2', 'b0', 'b1', 'b2'])\n",
    "\n",
    "results_df2.loc['Nelder-Mead'] = [result_nelder_mead2.success, result_nelder_mead2.fun, result_nelder_mead2.nit, result_nelder_mead2.nfev, time_nelder_mead2] + list(result_nelder_mead2.x)\n",
    "results_df2.loc['BFGS'] = [result_BFGS2.success, result_BFGS2.fun, result_BFGS2.nit, result_BFGS2.nfev, time_BFGS2] + list(result_BFGS2.x)\n",
    "results_df2.loc['Powell'] = [result_Powell2.success, result_Powell2.fun, result_Powell2.nit, result_Powell2.nfev, time_Powell2] + list(result_Powell2.x)\n",
    "results_df2.loc['COBYLA'] = [result_COBLYA2.success, result_COBLYA2.fun, None, result_COBLYA2.nfev, time_COBYLA2] + list(result_COBLYA2.x)\n",
    "results_df2.loc['TNC'] = [result_TNC2.success, result_TNC2.fun, result_TNC2.nit, result_TNC2.nfev, time_TNC2] + list(result_TNC2.x)"
   ],
   "metadata": {
    "collapsed": false,
    "ExecuteTime": {
     "end_time": "2024-04-27T13:39:20.687816800Z",
     "start_time": "2024-04-27T13:38:06.777750100Z"
    }
   },
   "id": "ab657e60249ff527"
  },
  {
   "cell_type": "code",
   "execution_count": 71,
   "outputs": [
    {
     "data": {
      "text/plain": "             success        fun   nit  nfev  running_time        a0        a1  \\\nNelder-Mead     True  89.133810   230   357     13.166096 -0.479960 -0.667493   \nBFGS            True  89.133810    14   140      4.538379 -0.479963 -0.667500   \nPowell          True  89.141944     6   532     16.938418 -0.458966 -0.659624   \nCOBYLA          True  89.133859  None   507     16.644754 -0.481421 -0.668247   \nTNC            False  89.136094    15   700     22.579412 -0.473681 -0.662060   \n\n                   a2        b0        b1        b2  \nNelder-Mead -0.492014 -3.377281 -2.807194 -1.978689  \nBFGS        -0.492028 -3.377245 -2.807212 -1.978695  \nPowell      -0.485254 -3.357195 -2.802342 -1.973534  \nCOBYLA      -0.492427 -3.379167 -2.808410 -1.979234  \nTNC         -0.490537 -3.365148 -2.796606 -1.972487  ",
      "text/html": "<div>\n<style scoped>\n    .dataframe tbody tr th:only-of-type {\n        vertical-align: middle;\n    }\n\n    .dataframe tbody tr th {\n        vertical-align: top;\n    }\n\n    .dataframe thead th {\n        text-align: right;\n    }\n</style>\n<table border=\"1\" class=\"dataframe\">\n  <thead>\n    <tr style=\"text-align: right;\">\n      <th></th>\n      <th>success</th>\n      <th>fun</th>\n      <th>nit</th>\n      <th>nfev</th>\n      <th>running_time</th>\n      <th>a0</th>\n      <th>a1</th>\n      <th>a2</th>\n      <th>b0</th>\n      <th>b1</th>\n      <th>b2</th>\n    </tr>\n  </thead>\n  <tbody>\n    <tr>\n      <th>Nelder-Mead</th>\n      <td>True</td>\n      <td>89.133810</td>\n      <td>230</td>\n      <td>357</td>\n      <td>13.166096</td>\n      <td>-0.479960</td>\n      <td>-0.667493</td>\n      <td>-0.492014</td>\n      <td>-3.377281</td>\n      <td>-2.807194</td>\n      <td>-1.978689</td>\n    </tr>\n    <tr>\n      <th>BFGS</th>\n      <td>True</td>\n      <td>89.133810</td>\n      <td>14</td>\n      <td>140</td>\n      <td>4.538379</td>\n      <td>-0.479963</td>\n      <td>-0.667500</td>\n      <td>-0.492028</td>\n      <td>-3.377245</td>\n      <td>-2.807212</td>\n      <td>-1.978695</td>\n    </tr>\n    <tr>\n      <th>Powell</th>\n      <td>True</td>\n      <td>89.141944</td>\n      <td>6</td>\n      <td>532</td>\n      <td>16.938418</td>\n      <td>-0.458966</td>\n      <td>-0.659624</td>\n      <td>-0.485254</td>\n      <td>-3.357195</td>\n      <td>-2.802342</td>\n      <td>-1.973534</td>\n    </tr>\n    <tr>\n      <th>COBYLA</th>\n      <td>True</td>\n      <td>89.133859</td>\n      <td>None</td>\n      <td>507</td>\n      <td>16.644754</td>\n      <td>-0.481421</td>\n      <td>-0.668247</td>\n      <td>-0.492427</td>\n      <td>-3.379167</td>\n      <td>-2.808410</td>\n      <td>-1.979234</td>\n    </tr>\n    <tr>\n      <th>TNC</th>\n      <td>False</td>\n      <td>89.136094</td>\n      <td>15</td>\n      <td>700</td>\n      <td>22.579412</td>\n      <td>-0.473681</td>\n      <td>-0.662060</td>\n      <td>-0.490537</td>\n      <td>-3.365148</td>\n      <td>-2.796606</td>\n      <td>-1.972487</td>\n    </tr>\n  </tbody>\n</table>\n</div>"
     },
     "execution_count": 71,
     "metadata": {},
     "output_type": "execute_result"
    }
   ],
   "source": [
    "results_df2"
   ],
   "metadata": {
    "collapsed": false,
    "ExecuteTime": {
     "end_time": "2024-04-27T13:39:20.788821200Z",
     "start_time": "2024-04-27T13:39:20.698816800Z"
    }
   },
   "id": "bd2c37f396dd7a8b"
  },
  {
   "cell_type": "code",
   "execution_count": null,
   "outputs": [],
   "source": [],
   "metadata": {
    "collapsed": false
   },
   "id": "993d9ae8280866bb"
  }
 ],
 "metadata": {
  "kernelspec": {
   "display_name": "Python 3",
   "language": "python",
   "name": "python3"
  },
  "language_info": {
   "codemirror_mode": {
    "name": "ipython",
    "version": 2
   },
   "file_extension": ".py",
   "mimetype": "text/x-python",
   "name": "python",
   "nbconvert_exporter": "python",
   "pygments_lexer": "ipython2",
   "version": "2.7.6"
  }
 },
 "nbformat": 4,
 "nbformat_minor": 5
}
