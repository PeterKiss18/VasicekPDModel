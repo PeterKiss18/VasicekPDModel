{
 "cells": [
  {
   "cell_type": "markdown",
   "source": [
    "## This notebook is an example for synthetic data generation"
   ],
   "metadata": {
    "collapsed": false
   },
   "id": "9982241d3e6347d"
  },
  {
   "cell_type": "code",
   "execution_count": 1,
   "outputs": [],
   "source": [
    "import numpy as np\n",
    "import pandas as pd\n",
    "from scipy.stats import norm"
   ],
   "metadata": {
    "collapsed": false,
    "ExecuteTime": {
     "end_time": "2024-05-04T18:46:02.041093100Z",
     "start_time": "2024-05-04T18:46:00.339953500Z"
    }
   },
   "id": "5fb88855f26bf85"
  },
  {
   "cell_type": "code",
   "execution_count": 2,
   "outputs": [],
   "source": [
    "# Define the parameters\n",
    "factor_loading = 0.25\n",
    "gamma = -2.15\n",
    "np.random.seed(42)"
   ],
   "metadata": {
    "collapsed": false,
    "ExecuteTime": {
     "end_time": "2024-05-04T18:46:02.055094600Z",
     "start_time": "2024-05-04T18:46:02.036094100Z"
    }
   },
   "id": "4c9e0422e5a2d969"
  },
  {
   "cell_type": "code",
   "execution_count": 3,
   "outputs": [],
   "source": [
    "# Generate normalized return on obligors’ assets (Y) for only 1 bucket\n",
    "def generate_y(factor_loading, num_of_obligors):\n",
    "    x = np.random.normal()\n",
    "    epsilon = np.random.normal(0, 1, num_of_obligors)\n",
    "    y = factor_loading * x + epsilon * (1 - factor_loading**2)**0.5\n",
    "    return y"
   ],
   "metadata": {
    "collapsed": false,
    "ExecuteTime": {
     "end_time": "2024-05-04T18:46:02.070096900Z",
     "start_time": "2024-05-04T18:46:02.049095400Z"
    }
   },
   "id": "3fae25e0d7b11911"
  },
  {
   "cell_type": "code",
   "execution_count": 4,
   "outputs": [
    {
     "data": {
      "text/plain": "array([-0.0096953 ,  0.75130027,  1.59884586, -0.10253949, -0.1025236 ])"
     },
     "execution_count": 4,
     "metadata": {},
     "output_type": "execute_result"
    }
   ],
   "source": [
    "generate_y(factor_loading, 5)"
   ],
   "metadata": {
    "collapsed": false,
    "ExecuteTime": {
     "end_time": "2024-05-04T18:46:02.115097400Z",
     "start_time": "2024-05-04T18:46:02.066097500Z"
    }
   },
   "id": "7c3de1404644b6cb"
  },
  {
   "cell_type": "code",
   "execution_count": 5,
   "outputs": [],
   "source": [
    "def generate_default(num_of_obligors, factor_loading, gamma):\n",
    "    y = generate_y(factor_loading, num_of_obligors)\n",
    "    default = (y < gamma).sum()\n",
    "    return default"
   ],
   "metadata": {
    "collapsed": false,
    "ExecuteTime": {
     "end_time": "2024-05-04T18:46:02.116097400Z",
     "start_time": "2024-05-04T18:46:02.083095700Z"
    }
   },
   "id": "11403a2e11094b1f"
  },
  {
   "cell_type": "code",
   "execution_count": 6,
   "outputs": [
    {
     "name": "stdout",
     "output_type": "stream",
     "text": [
      "Number of defaults:  3.95\n"
     ]
    }
   ],
   "source": [
    "n_g = 250\n",
    "d_g_list = []\n",
    "for i in range(20):\n",
    "    d_g_list.append(generate_default(n_g, factor_loading, gamma))\n",
    "#d_g = generate_default(n_g, factor_loading, gamma)\n",
    "print(\"Number of defaults: \", np.mean(d_g_list))"
   ],
   "metadata": {
    "collapsed": false,
    "ExecuteTime": {
     "end_time": "2024-05-04T18:46:02.116097400Z",
     "start_time": "2024-05-04T18:46:02.097098300Z"
    }
   },
   "id": "2e8de8a0d73123ad"
  },
  {
   "cell_type": "code",
   "execution_count": 7,
   "outputs": [
    {
     "data": {
      "text/plain": "[0, 5, 3, 1, 2, 2, 7, 8, 4, 0, 3, 3, 3, 4, 1, 3, 15, 9, 4, 2]"
     },
     "execution_count": 7,
     "metadata": {},
     "output_type": "execute_result"
    }
   ],
   "source": [
    "d_g_list"
   ],
   "metadata": {
    "collapsed": false,
    "ExecuteTime": {
     "end_time": "2024-05-04T18:46:02.152100600Z",
     "start_time": "2024-05-04T18:46:02.110099700Z"
    }
   },
   "id": "fc08d54a339e71d2"
  },
  {
   "cell_type": "code",
   "execution_count": 8,
   "outputs": [
    {
     "data": {
      "text/plain": "3.944401847772625"
     },
     "execution_count": 8,
     "metadata": {},
     "output_type": "execute_result"
    }
   ],
   "source": [
    "norm.cdf(gamma) * n_g"
   ],
   "metadata": {
    "collapsed": false,
    "ExecuteTime": {
     "end_time": "2024-05-04T18:46:02.262282500Z",
     "start_time": "2024-05-04T18:46:02.127098500Z"
    }
   },
   "id": "5925f723bc19dad3"
  },
  {
   "cell_type": "code",
   "execution_count": 9,
   "outputs": [],
   "source": [
    "# Generate normalized return on obligors’ assets (Y) for more buckets\n",
    "def generate_default_buckets(factor_loading_list, num_of_obligors_list, gamma_list):\n",
    "    x = np.random.normal(0, 1, 160)\n",
    "    defaults_list = []\n",
    "    \n",
    "    for index, num_of_obligors in enumerate(num_of_obligors_list):\n",
    "        d_g = 0\n",
    "        for i in range(160):\n",
    "            epsilon = np.random.normal(0, 1, num_of_obligors)\n",
    "            y = factor_loading_list[index] * x[i] + epsilon * (1 - factor_loading_list[index]**2)**0.5\n",
    "            d_g += (y < gamma_list[index]).sum()\n",
    "        defaults_list.append(d_g)\n",
    "\n",
    "    return defaults_list"
   ],
   "metadata": {
    "collapsed": false,
    "ExecuteTime": {
     "end_time": "2024-05-04T18:46:02.270287500Z",
     "start_time": "2024-05-04T18:46:02.140102700Z"
    }
   },
   "id": "42f74f6a126d4f4a"
  },
  {
   "cell_type": "code",
   "execution_count": 10,
   "outputs": [
    {
     "name": "stdout",
     "output_type": "stream",
     "text": [
      "Number of defaults:  [67, 397, 2048]\n"
     ]
    }
   ],
   "source": [
    "factor_loading_list = [0.45, 0.45, 0.45]\n",
    "num_of_obligors_list = [250, 250, 250]\n",
    "gamma_list = [-2.9, -2.3, -1.6]\n",
    "d_g_list = generate_default_buckets(factor_loading_list,num_of_obligors_list, gamma_list)\n",
    "print(\"Number of defaults: \", d_g_list)"
   ],
   "metadata": {
    "collapsed": false,
    "ExecuteTime": {
     "end_time": "2024-05-04T18:46:02.273284400Z",
     "start_time": "2024-05-04T18:46:02.156103700Z"
    }
   },
   "id": "3cb5624e7752bef7"
  },
  {
   "cell_type": "code",
   "execution_count": 11,
   "outputs": [],
   "source": [
    "def generate_default_time_series(factor_loading_list, num_of_obligors_list, gamma_list, time_points=160):\n",
    "    # Generate time series of defaults for more grades\n",
    "    if len(factor_loading_list) == 1:\n",
    "        # if factor_loading_list's length is 1, then make it a list of the same length as num_of_obligors_list\n",
    "        factor_loading_list = [factor_loading_list[0]] * len(num_of_obligors_list)\n",
    "    x = np.random.normal(0, 1, time_points)\n",
    "    defaults_df = pd.DataFrame()\n",
    "\n",
    "    for index, num_of_obligors in enumerate(num_of_obligors_list):\n",
    "        d_g = []\n",
    "        for i in range(time_points):\n",
    "            epsilon = np.random.normal(0, 1, num_of_obligors)\n",
    "            y = factor_loading_list[index] * x[i] + epsilon * (1 - factor_loading_list[index] ** 2) ** 0.5\n",
    "            d_g.append((y < gamma_list[index]).sum())\n",
    "        defaults_df[\"d_g_\" + str(index)] = d_g\n",
    "\n",
    "    return defaults_df"
   ],
   "metadata": {
    "collapsed": false,
    "ExecuteTime": {
     "end_time": "2024-05-04T18:46:02.274286500Z",
     "start_time": "2024-05-04T18:46:02.194104800Z"
    }
   },
   "id": "ed2bb1b33803c67b"
  },
  {
   "cell_type": "code",
   "execution_count": 12,
   "outputs": [
    {
     "data": {
      "text/plain": "    d_g_0  d_g_1  d_g_2\n0       0      1      8\n1       0      3      9\n2       0      3     27\n3       0      0      4\n4       0      1      1\n5       1      6     26\n6       0      0     11\n7       0      1     13\n8       0      5      6\n9       2      8     22\n10      0      0      5\n11      2      9     39\n12      0      0      1\n13      0      0      1\n14      0      0      7\n15      0      1     15\n16      1      7     34\n17      0      1     17\n18      3      6     40\n19      0      1      3",
      "text/html": "<div>\n<style scoped>\n    .dataframe tbody tr th:only-of-type {\n        vertical-align: middle;\n    }\n\n    .dataframe tbody tr th {\n        vertical-align: top;\n    }\n\n    .dataframe thead th {\n        text-align: right;\n    }\n</style>\n<table border=\"1\" class=\"dataframe\">\n  <thead>\n    <tr style=\"text-align: right;\">\n      <th></th>\n      <th>d_g_0</th>\n      <th>d_g_1</th>\n      <th>d_g_2</th>\n    </tr>\n  </thead>\n  <tbody>\n    <tr>\n      <th>0</th>\n      <td>0</td>\n      <td>1</td>\n      <td>8</td>\n    </tr>\n    <tr>\n      <th>1</th>\n      <td>0</td>\n      <td>3</td>\n      <td>9</td>\n    </tr>\n    <tr>\n      <th>2</th>\n      <td>0</td>\n      <td>3</td>\n      <td>27</td>\n    </tr>\n    <tr>\n      <th>3</th>\n      <td>0</td>\n      <td>0</td>\n      <td>4</td>\n    </tr>\n    <tr>\n      <th>4</th>\n      <td>0</td>\n      <td>1</td>\n      <td>1</td>\n    </tr>\n    <tr>\n      <th>5</th>\n      <td>1</td>\n      <td>6</td>\n      <td>26</td>\n    </tr>\n    <tr>\n      <th>6</th>\n      <td>0</td>\n      <td>0</td>\n      <td>11</td>\n    </tr>\n    <tr>\n      <th>7</th>\n      <td>0</td>\n      <td>1</td>\n      <td>13</td>\n    </tr>\n    <tr>\n      <th>8</th>\n      <td>0</td>\n      <td>5</td>\n      <td>6</td>\n    </tr>\n    <tr>\n      <th>9</th>\n      <td>2</td>\n      <td>8</td>\n      <td>22</td>\n    </tr>\n    <tr>\n      <th>10</th>\n      <td>0</td>\n      <td>0</td>\n      <td>5</td>\n    </tr>\n    <tr>\n      <th>11</th>\n      <td>2</td>\n      <td>9</td>\n      <td>39</td>\n    </tr>\n    <tr>\n      <th>12</th>\n      <td>0</td>\n      <td>0</td>\n      <td>1</td>\n    </tr>\n    <tr>\n      <th>13</th>\n      <td>0</td>\n      <td>0</td>\n      <td>1</td>\n    </tr>\n    <tr>\n      <th>14</th>\n      <td>0</td>\n      <td>0</td>\n      <td>7</td>\n    </tr>\n    <tr>\n      <th>15</th>\n      <td>0</td>\n      <td>1</td>\n      <td>15</td>\n    </tr>\n    <tr>\n      <th>16</th>\n      <td>1</td>\n      <td>7</td>\n      <td>34</td>\n    </tr>\n    <tr>\n      <th>17</th>\n      <td>0</td>\n      <td>1</td>\n      <td>17</td>\n    </tr>\n    <tr>\n      <th>18</th>\n      <td>3</td>\n      <td>6</td>\n      <td>40</td>\n    </tr>\n    <tr>\n      <th>19</th>\n      <td>0</td>\n      <td>1</td>\n      <td>3</td>\n    </tr>\n  </tbody>\n</table>\n</div>"
     },
     "execution_count": 12,
     "metadata": {},
     "output_type": "execute_result"
    }
   ],
   "source": [
    "factor_loading_list = [0.45, 0.45, 0.45]\n",
    "num_of_obligors_list = [250, 250, 250]\n",
    "gamma_list = [-2.9, -2.3, -1.6]\n",
    "default_table = generate_default_time_series(factor_loading_list,num_of_obligors_list, gamma_list, time_points=20)\n",
    "default_table"
   ],
   "metadata": {
    "collapsed": false,
    "ExecuteTime": {
     "end_time": "2024-05-04T18:46:02.288288Z",
     "start_time": "2024-05-04T18:46:02.210282500Z"
    }
   },
   "id": "9fda088b23d073dc"
  },
  {
   "cell_type": "code",
   "execution_count": 12,
   "outputs": [],
   "source": [],
   "metadata": {
    "collapsed": false,
    "ExecuteTime": {
     "end_time": "2024-05-04T18:46:02.290286500Z",
     "start_time": "2024-05-04T18:46:02.251283100Z"
    }
   },
   "id": "928c41f5de8550b9"
  }
 ],
 "metadata": {
  "kernelspec": {
   "display_name": "Python 3",
   "language": "python",
   "name": "python3"
  },
  "language_info": {
   "codemirror_mode": {
    "name": "ipython",
    "version": 2
   },
   "file_extension": ".py",
   "mimetype": "text/x-python",
   "name": "python",
   "nbconvert_exporter": "python",
   "pygments_lexer": "ipython2",
   "version": "2.7.6"
  }
 },
 "nbformat": 4,
 "nbformat_minor": 5
}
