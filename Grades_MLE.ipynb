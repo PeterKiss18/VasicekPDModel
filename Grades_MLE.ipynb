{
 "cells": [
  {
   "cell_type": "code",
   "execution_count": 1,
   "id": "initial_id",
   "metadata": {
    "collapsed": true,
    "ExecuteTime": {
     "end_time": "2024-04-23T09:09:12.751810600Z",
     "start_time": "2024-04-23T09:09:09.515722700Z"
    }
   },
   "outputs": [],
   "source": [
    "import pandas as pd\n",
    "import numpy as np\n",
    "import matplotlib.pyplot as plt\n",
    "from scipy.stats import norm\n",
    "from src.MM_estimation import estimate_w_factor_loading\n",
    "from src.ML_estimation import mle_trapz_g_and_w"
   ]
  },
  {
   "cell_type": "markdown",
   "source": [
    "# Data"
   ],
   "metadata": {
    "collapsed": false
   },
   "id": "6e78568266a45531"
  },
  {
   "cell_type": "code",
   "execution_count": 2,
   "outputs": [],
   "source": [
    "# Load the data\n",
    "grades_data = pd.read_csv('data/grades_hist_pd.csv', sep=';', index_col=0)\n",
    "\n",
    "for col_name in grades_data.columns:\n",
    "    grades_data[col_name] = grades_data[col_name] / 100\n",
    "    \n",
    "grades_cols = grades_data.columns"
   ],
   "metadata": {
    "collapsed": false,
    "ExecuteTime": {
     "end_time": "2024-04-23T09:09:12.765813600Z",
     "start_time": "2024-04-23T09:09:12.743812600Z"
    }
   },
   "id": "174c6076efdfee0b"
  },
  {
   "cell_type": "code",
   "execution_count": 3,
   "outputs": [
    {
     "data": {
      "text/plain": "      AAA   AA       A     BBB      BB       B   CCC/C\nYear                                                  \n1981  0.0  0.0  0.0000  0.0000  0.0000  0.0233  0.0000\n1982  0.0  0.0  0.0021  0.0035  0.0424  0.0318  0.2143\n1983  0.0  0.0  0.0000  0.0034  0.0116  0.0470  0.0667\n1984  0.0  0.0  0.0000  0.0068  0.0114  0.0349  0.2500\n1985  0.0  0.0  0.0000  0.0000  0.0150  0.0653  0.1538",
      "text/html": "<div>\n<style scoped>\n    .dataframe tbody tr th:only-of-type {\n        vertical-align: middle;\n    }\n\n    .dataframe tbody tr th {\n        vertical-align: top;\n    }\n\n    .dataframe thead th {\n        text-align: right;\n    }\n</style>\n<table border=\"1\" class=\"dataframe\">\n  <thead>\n    <tr style=\"text-align: right;\">\n      <th></th>\n      <th>AAA</th>\n      <th>AA</th>\n      <th>A</th>\n      <th>BBB</th>\n      <th>BB</th>\n      <th>B</th>\n      <th>CCC/C</th>\n    </tr>\n    <tr>\n      <th>Year</th>\n      <th></th>\n      <th></th>\n      <th></th>\n      <th></th>\n      <th></th>\n      <th></th>\n      <th></th>\n    </tr>\n  </thead>\n  <tbody>\n    <tr>\n      <th>1981</th>\n      <td>0.0</td>\n      <td>0.0</td>\n      <td>0.0000</td>\n      <td>0.0000</td>\n      <td>0.0000</td>\n      <td>0.0233</td>\n      <td>0.0000</td>\n    </tr>\n    <tr>\n      <th>1982</th>\n      <td>0.0</td>\n      <td>0.0</td>\n      <td>0.0021</td>\n      <td>0.0035</td>\n      <td>0.0424</td>\n      <td>0.0318</td>\n      <td>0.2143</td>\n    </tr>\n    <tr>\n      <th>1983</th>\n      <td>0.0</td>\n      <td>0.0</td>\n      <td>0.0000</td>\n      <td>0.0034</td>\n      <td>0.0116</td>\n      <td>0.0470</td>\n      <td>0.0667</td>\n    </tr>\n    <tr>\n      <th>1984</th>\n      <td>0.0</td>\n      <td>0.0</td>\n      <td>0.0000</td>\n      <td>0.0068</td>\n      <td>0.0114</td>\n      <td>0.0349</td>\n      <td>0.2500</td>\n    </tr>\n    <tr>\n      <th>1985</th>\n      <td>0.0</td>\n      <td>0.0</td>\n      <td>0.0000</td>\n      <td>0.0000</td>\n      <td>0.0150</td>\n      <td>0.0653</td>\n      <td>0.1538</td>\n    </tr>\n  </tbody>\n</table>\n</div>"
     },
     "execution_count": 3,
     "metadata": {},
     "output_type": "execute_result"
    }
   ],
   "source": [
    "grades_data.head()"
   ],
   "metadata": {
    "collapsed": false,
    "ExecuteTime": {
     "end_time": "2024-04-23T09:09:12.847821400Z",
     "start_time": "2024-04-23T09:09:12.756812500Z"
    }
   },
   "id": "5d9648dee7151bd4"
  },
  {
   "cell_type": "code",
   "execution_count": 4,
   "outputs": [
    {
     "data": {
      "text/plain": "AAA      0.000000\nAA       0.000137\nA        0.000530\nBBB      0.001948\nBB       0.008557\nB        0.041913\nCCC/C    0.249193\ndtype: float64"
     },
     "execution_count": 4,
     "metadata": {},
     "output_type": "execute_result"
    }
   ],
   "source": [
    "grades_data.mean()"
   ],
   "metadata": {
    "collapsed": false,
    "ExecuteTime": {
     "end_time": "2024-04-23T09:09:12.874822100Z",
     "start_time": "2024-04-23T09:09:12.787817Z"
    }
   },
   "id": "58864b86458b163e"
  },
  {
   "cell_type": "code",
   "execution_count": 5,
   "outputs": [],
   "source": [
    "# Assumption every grade has 10000 obligors\n",
    "n_g_assumption = 3000"
   ],
   "metadata": {
    "collapsed": false,
    "ExecuteTime": {
     "end_time": "2024-04-23T09:09:12.908831Z",
     "start_time": "2024-04-23T09:09:12.802817700Z"
    }
   },
   "id": "621487d90fec2072"
  },
  {
   "cell_type": "code",
   "execution_count": 24,
   "outputs": [],
   "source": [
    "for col_name in grades_cols:\n",
    "    grades_data[str(col_name) + \" defaults\"] = round(n_g_assumption * grades_data[col_name])"
   ],
   "metadata": {
    "collapsed": false,
    "ExecuteTime": {
     "end_time": "2024-04-23T09:39:41.848776800Z",
     "start_time": "2024-04-23T09:39:41.726770500Z"
    }
   },
   "id": "ddd163cf4d8568b2"
  },
  {
   "cell_type": "code",
   "execution_count": 25,
   "outputs": [
    {
     "data": {
      "text/plain": "      AAA      AA       A     BBB      BB       B   CCC/C  AAA defaults  \\\nYear                                                                      \n1981  0.0  0.0000  0.0000  0.0000  0.0000  0.0233  0.0000           0.0   \n1982  0.0  0.0000  0.0021  0.0035  0.0424  0.0318  0.2143           0.0   \n1983  0.0  0.0000  0.0000  0.0034  0.0116  0.0470  0.0667           0.0   \n1984  0.0  0.0000  0.0000  0.0068  0.0114  0.0349  0.2500           0.0   \n1985  0.0  0.0000  0.0000  0.0000  0.0150  0.0653  0.1538           0.0   \n1986  0.0  0.0000  0.0018  0.0034  0.0133  0.0845  0.2308           0.0   \n1987  0.0  0.0000  0.0000  0.0000  0.0038  0.0313  0.1228           0.0   \n1988  0.0  0.0000  0.0000  0.0000  0.0105  0.0368  0.2037           0.0   \n1989  0.0  0.0000  0.0018  0.0061  0.0073  0.0340  0.3333           0.0   \n1990  0.0  0.0000  0.0000  0.0058  0.0357  0.0856  0.3125           0.0   \n1991  0.0  0.0000  0.0000  0.0055  0.0169  0.1384  0.3387           0.0   \n1992  0.0  0.0000  0.0000  0.0000  0.0000  0.0699  0.3019           0.0   \n1993  0.0  0.0000  0.0000  0.0000  0.0070  0.0262  0.1333           0.0   \n1994  0.0  0.0000  0.0014  0.0000  0.0028  0.0309  0.1667           0.0   \n1995  0.0  0.0000  0.0000  0.0017  0.0099  0.0459  0.2800           0.0   \n1996  0.0  0.0000  0.0000  0.0000  0.0045  0.0291  0.0800           0.0   \n1997  0.0  0.0000  0.0000  0.0025  0.0019  0.0352  0.1200           0.0   \n1998  0.0  0.0000  0.0000  0.0041  0.0082  0.0464  0.4286           0.0   \n1999  0.0  0.0017  0.0018  0.0020  0.0095  0.0731  0.3382           0.0   \n2000  0.0  0.0000  0.0027  0.0037  0.0116  0.0771  0.3596           0.0   \n2001  0.0  0.0000  0.0027  0.0034  0.0298  0.1156  0.4545           0.0   \n2002  0.0  0.0000  0.0000  0.0102  0.0290  0.0820  0.4444           0.0   \n2003  0.0  0.0000  0.0000  0.0023  0.0059  0.0407  0.3293           0.0   \n2004  0.0  0.0000  0.0008  0.0000  0.0044  0.0145  0.1630           0.0   \n2005  0.0  0.0000  0.0000  0.0007  0.0031  0.0175  0.0909           0.0   \n2006  0.0  0.0000  0.0000  0.0000  0.0030  0.0082  0.1333           0.0   \n2007  0.0  0.0000  0.0000  0.0000  0.0020  0.0025  0.1524           0.0   \n2008  0.0  0.0038  0.0039  0.0049  0.0081  0.0411  0.2727           0.0   \n2009  0.0  0.0000  0.0022  0.0055  0.0075  0.1103  0.4946           0.0   \n2010  0.0  0.0000  0.0000  0.0000  0.0058  0.0087  0.2283           0.0   \n2011  0.0  0.0000  0.0000  0.0007  0.0000  0.0168  0.1642           0.0   \n2012  0.0  0.0000  0.0000  0.0000  0.0030  0.0158  0.2752           0.0   \n2013  0.0  0.0000  0.0000  0.0000  0.0010  0.0165  0.2467           0.0   \n2014  0.0  0.0000  0.0000  0.0000  0.0000  0.0078  0.1751           0.0   \n2015  0.0  0.0000  0.0000  0.0000  0.0016  0.0242  0.2667           0.0   \n2016  0.0  0.0000  0.0000  0.0006  0.0047  0.0376  0.3317           0.0   \n2017  0.0  0.0000  0.0000  0.0000  0.0008  0.0100  0.2656           0.0   \n2018  0.0  0.0000  0.0000  0.0000  0.0000  0.0099  0.2718           0.0   \n2019  0.0  0.0000  0.0000  0.0011  0.0000  0.0149  0.2976           0.0   \n2020  0.0  0.0000  0.0000  0.0000  0.0093  0.0352  0.4748           0.0   \n\n      AA defaults  A defaults  BBB defaults  BB defaults  B defaults  \\\nYear                                                                   \n1981          0.0         0.0           0.0          0.0        70.0   \n1982          0.0         6.0          10.0        127.0        95.0   \n1983          0.0         0.0          10.0         35.0       141.0   \n1984          0.0         0.0          20.0         34.0       105.0   \n1985          0.0         0.0           0.0         45.0       196.0   \n1986          0.0         5.0          10.0         40.0       253.0   \n1987          0.0         0.0           0.0         11.0        94.0   \n1988          0.0         0.0           0.0         32.0       110.0   \n1989          0.0         5.0          18.0         22.0       102.0   \n1990          0.0         0.0          17.0        107.0       257.0   \n1991          0.0         0.0          16.0         51.0       415.0   \n1992          0.0         0.0           0.0          0.0       210.0   \n1993          0.0         0.0           0.0         21.0        79.0   \n1994          0.0         4.0           0.0          8.0        93.0   \n1995          0.0         0.0           5.0         30.0       138.0   \n1996          0.0         0.0           0.0         14.0        87.0   \n1997          0.0         0.0           8.0          6.0       106.0   \n1998          0.0         0.0          12.0         25.0       139.0   \n1999          5.0         5.0           6.0         28.0       219.0   \n2000          0.0         8.0          11.0         35.0       231.0   \n2001          0.0         8.0          10.0         89.0       347.0   \n2002          0.0         0.0          31.0         87.0       246.0   \n2003          0.0         0.0           7.0         18.0       122.0   \n2004          0.0         2.0           0.0         13.0        44.0   \n2005          0.0         0.0           2.0          9.0        53.0   \n2006          0.0         0.0           0.0          9.0        25.0   \n2007          0.0         0.0           0.0          6.0         8.0   \n2008         11.0        12.0          15.0         24.0       123.0   \n2009          0.0         7.0          16.0         22.0       331.0   \n2010          0.0         0.0           0.0         17.0        26.0   \n2011          0.0         0.0           2.0          0.0        50.0   \n2012          0.0         0.0           0.0          9.0        47.0   \n2013          0.0         0.0           0.0          3.0        50.0   \n2014          0.0         0.0           0.0          0.0        23.0   \n2015          0.0         0.0           0.0          5.0        73.0   \n2016          0.0         0.0           2.0         14.0       113.0   \n2017          0.0         0.0           0.0          2.0        30.0   \n2018          0.0         0.0           0.0          0.0        30.0   \n2019          0.0         0.0           3.0          0.0        45.0   \n2020          0.0         0.0           0.0         28.0       106.0   \n\n      CCC/C defaults  \nYear                  \n1981             0.0  \n1982           643.0  \n1983           200.0  \n1984           750.0  \n1985           461.0  \n1986           692.0  \n1987           368.0  \n1988           611.0  \n1989          1000.0  \n1990           938.0  \n1991          1016.0  \n1992           906.0  \n1993           400.0  \n1994           500.0  \n1995           840.0  \n1996           240.0  \n1997           360.0  \n1998          1286.0  \n1999          1015.0  \n2000          1079.0  \n2001          1364.0  \n2002          1333.0  \n2003           988.0  \n2004           489.0  \n2005           273.0  \n2006           400.0  \n2007           457.0  \n2008           818.0  \n2009          1484.0  \n2010           685.0  \n2011           493.0  \n2012           826.0  \n2013           740.0  \n2014           525.0  \n2015           800.0  \n2016           995.0  \n2017           797.0  \n2018           815.0  \n2019           893.0  \n2020          1424.0  ",
      "text/html": "<div>\n<style scoped>\n    .dataframe tbody tr th:only-of-type {\n        vertical-align: middle;\n    }\n\n    .dataframe tbody tr th {\n        vertical-align: top;\n    }\n\n    .dataframe thead th {\n        text-align: right;\n    }\n</style>\n<table border=\"1\" class=\"dataframe\">\n  <thead>\n    <tr style=\"text-align: right;\">\n      <th></th>\n      <th>AAA</th>\n      <th>AA</th>\n      <th>A</th>\n      <th>BBB</th>\n      <th>BB</th>\n      <th>B</th>\n      <th>CCC/C</th>\n      <th>AAA defaults</th>\n      <th>AA defaults</th>\n      <th>A defaults</th>\n      <th>BBB defaults</th>\n      <th>BB defaults</th>\n      <th>B defaults</th>\n      <th>CCC/C defaults</th>\n    </tr>\n    <tr>\n      <th>Year</th>\n      <th></th>\n      <th></th>\n      <th></th>\n      <th></th>\n      <th></th>\n      <th></th>\n      <th></th>\n      <th></th>\n      <th></th>\n      <th></th>\n      <th></th>\n      <th></th>\n      <th></th>\n      <th></th>\n    </tr>\n  </thead>\n  <tbody>\n    <tr>\n      <th>1981</th>\n      <td>0.0</td>\n      <td>0.0000</td>\n      <td>0.0000</td>\n      <td>0.0000</td>\n      <td>0.0000</td>\n      <td>0.0233</td>\n      <td>0.0000</td>\n      <td>0.0</td>\n      <td>0.0</td>\n      <td>0.0</td>\n      <td>0.0</td>\n      <td>0.0</td>\n      <td>70.0</td>\n      <td>0.0</td>\n    </tr>\n    <tr>\n      <th>1982</th>\n      <td>0.0</td>\n      <td>0.0000</td>\n      <td>0.0021</td>\n      <td>0.0035</td>\n      <td>0.0424</td>\n      <td>0.0318</td>\n      <td>0.2143</td>\n      <td>0.0</td>\n      <td>0.0</td>\n      <td>6.0</td>\n      <td>10.0</td>\n      <td>127.0</td>\n      <td>95.0</td>\n      <td>643.0</td>\n    </tr>\n    <tr>\n      <th>1983</th>\n      <td>0.0</td>\n      <td>0.0000</td>\n      <td>0.0000</td>\n      <td>0.0034</td>\n      <td>0.0116</td>\n      <td>0.0470</td>\n      <td>0.0667</td>\n      <td>0.0</td>\n      <td>0.0</td>\n      <td>0.0</td>\n      <td>10.0</td>\n      <td>35.0</td>\n      <td>141.0</td>\n      <td>200.0</td>\n    </tr>\n    <tr>\n      <th>1984</th>\n      <td>0.0</td>\n      <td>0.0000</td>\n      <td>0.0000</td>\n      <td>0.0068</td>\n      <td>0.0114</td>\n      <td>0.0349</td>\n      <td>0.2500</td>\n      <td>0.0</td>\n      <td>0.0</td>\n      <td>0.0</td>\n      <td>20.0</td>\n      <td>34.0</td>\n      <td>105.0</td>\n      <td>750.0</td>\n    </tr>\n    <tr>\n      <th>1985</th>\n      <td>0.0</td>\n      <td>0.0000</td>\n      <td>0.0000</td>\n      <td>0.0000</td>\n      <td>0.0150</td>\n      <td>0.0653</td>\n      <td>0.1538</td>\n      <td>0.0</td>\n      <td>0.0</td>\n      <td>0.0</td>\n      <td>0.0</td>\n      <td>45.0</td>\n      <td>196.0</td>\n      <td>461.0</td>\n    </tr>\n    <tr>\n      <th>1986</th>\n      <td>0.0</td>\n      <td>0.0000</td>\n      <td>0.0018</td>\n      <td>0.0034</td>\n      <td>0.0133</td>\n      <td>0.0845</td>\n      <td>0.2308</td>\n      <td>0.0</td>\n      <td>0.0</td>\n      <td>5.0</td>\n      <td>10.0</td>\n      <td>40.0</td>\n      <td>253.0</td>\n      <td>692.0</td>\n    </tr>\n    <tr>\n      <th>1987</th>\n      <td>0.0</td>\n      <td>0.0000</td>\n      <td>0.0000</td>\n      <td>0.0000</td>\n      <td>0.0038</td>\n      <td>0.0313</td>\n      <td>0.1228</td>\n      <td>0.0</td>\n      <td>0.0</td>\n      <td>0.0</td>\n      <td>0.0</td>\n      <td>11.0</td>\n      <td>94.0</td>\n      <td>368.0</td>\n    </tr>\n    <tr>\n      <th>1988</th>\n      <td>0.0</td>\n      <td>0.0000</td>\n      <td>0.0000</td>\n      <td>0.0000</td>\n      <td>0.0105</td>\n      <td>0.0368</td>\n      <td>0.2037</td>\n      <td>0.0</td>\n      <td>0.0</td>\n      <td>0.0</td>\n      <td>0.0</td>\n      <td>32.0</td>\n      <td>110.0</td>\n      <td>611.0</td>\n    </tr>\n    <tr>\n      <th>1989</th>\n      <td>0.0</td>\n      <td>0.0000</td>\n      <td>0.0018</td>\n      <td>0.0061</td>\n      <td>0.0073</td>\n      <td>0.0340</td>\n      <td>0.3333</td>\n      <td>0.0</td>\n      <td>0.0</td>\n      <td>5.0</td>\n      <td>18.0</td>\n      <td>22.0</td>\n      <td>102.0</td>\n      <td>1000.0</td>\n    </tr>\n    <tr>\n      <th>1990</th>\n      <td>0.0</td>\n      <td>0.0000</td>\n      <td>0.0000</td>\n      <td>0.0058</td>\n      <td>0.0357</td>\n      <td>0.0856</td>\n      <td>0.3125</td>\n      <td>0.0</td>\n      <td>0.0</td>\n      <td>0.0</td>\n      <td>17.0</td>\n      <td>107.0</td>\n      <td>257.0</td>\n      <td>938.0</td>\n    </tr>\n    <tr>\n      <th>1991</th>\n      <td>0.0</td>\n      <td>0.0000</td>\n      <td>0.0000</td>\n      <td>0.0055</td>\n      <td>0.0169</td>\n      <td>0.1384</td>\n      <td>0.3387</td>\n      <td>0.0</td>\n      <td>0.0</td>\n      <td>0.0</td>\n      <td>16.0</td>\n      <td>51.0</td>\n      <td>415.0</td>\n      <td>1016.0</td>\n    </tr>\n    <tr>\n      <th>1992</th>\n      <td>0.0</td>\n      <td>0.0000</td>\n      <td>0.0000</td>\n      <td>0.0000</td>\n      <td>0.0000</td>\n      <td>0.0699</td>\n      <td>0.3019</td>\n      <td>0.0</td>\n      <td>0.0</td>\n      <td>0.0</td>\n      <td>0.0</td>\n      <td>0.0</td>\n      <td>210.0</td>\n      <td>906.0</td>\n    </tr>\n    <tr>\n      <th>1993</th>\n      <td>0.0</td>\n      <td>0.0000</td>\n      <td>0.0000</td>\n      <td>0.0000</td>\n      <td>0.0070</td>\n      <td>0.0262</td>\n      <td>0.1333</td>\n      <td>0.0</td>\n      <td>0.0</td>\n      <td>0.0</td>\n      <td>0.0</td>\n      <td>21.0</td>\n      <td>79.0</td>\n      <td>400.0</td>\n    </tr>\n    <tr>\n      <th>1994</th>\n      <td>0.0</td>\n      <td>0.0000</td>\n      <td>0.0014</td>\n      <td>0.0000</td>\n      <td>0.0028</td>\n      <td>0.0309</td>\n      <td>0.1667</td>\n      <td>0.0</td>\n      <td>0.0</td>\n      <td>4.0</td>\n      <td>0.0</td>\n      <td>8.0</td>\n      <td>93.0</td>\n      <td>500.0</td>\n    </tr>\n    <tr>\n      <th>1995</th>\n      <td>0.0</td>\n      <td>0.0000</td>\n      <td>0.0000</td>\n      <td>0.0017</td>\n      <td>0.0099</td>\n      <td>0.0459</td>\n      <td>0.2800</td>\n      <td>0.0</td>\n      <td>0.0</td>\n      <td>0.0</td>\n      <td>5.0</td>\n      <td>30.0</td>\n      <td>138.0</td>\n      <td>840.0</td>\n    </tr>\n    <tr>\n      <th>1996</th>\n      <td>0.0</td>\n      <td>0.0000</td>\n      <td>0.0000</td>\n      <td>0.0000</td>\n      <td>0.0045</td>\n      <td>0.0291</td>\n      <td>0.0800</td>\n      <td>0.0</td>\n      <td>0.0</td>\n      <td>0.0</td>\n      <td>0.0</td>\n      <td>14.0</td>\n      <td>87.0</td>\n      <td>240.0</td>\n    </tr>\n    <tr>\n      <th>1997</th>\n      <td>0.0</td>\n      <td>0.0000</td>\n      <td>0.0000</td>\n      <td>0.0025</td>\n      <td>0.0019</td>\n      <td>0.0352</td>\n      <td>0.1200</td>\n      <td>0.0</td>\n      <td>0.0</td>\n      <td>0.0</td>\n      <td>8.0</td>\n      <td>6.0</td>\n      <td>106.0</td>\n      <td>360.0</td>\n    </tr>\n    <tr>\n      <th>1998</th>\n      <td>0.0</td>\n      <td>0.0000</td>\n      <td>0.0000</td>\n      <td>0.0041</td>\n      <td>0.0082</td>\n      <td>0.0464</td>\n      <td>0.4286</td>\n      <td>0.0</td>\n      <td>0.0</td>\n      <td>0.0</td>\n      <td>12.0</td>\n      <td>25.0</td>\n      <td>139.0</td>\n      <td>1286.0</td>\n    </tr>\n    <tr>\n      <th>1999</th>\n      <td>0.0</td>\n      <td>0.0017</td>\n      <td>0.0018</td>\n      <td>0.0020</td>\n      <td>0.0095</td>\n      <td>0.0731</td>\n      <td>0.3382</td>\n      <td>0.0</td>\n      <td>5.0</td>\n      <td>5.0</td>\n      <td>6.0</td>\n      <td>28.0</td>\n      <td>219.0</td>\n      <td>1015.0</td>\n    </tr>\n    <tr>\n      <th>2000</th>\n      <td>0.0</td>\n      <td>0.0000</td>\n      <td>0.0027</td>\n      <td>0.0037</td>\n      <td>0.0116</td>\n      <td>0.0771</td>\n      <td>0.3596</td>\n      <td>0.0</td>\n      <td>0.0</td>\n      <td>8.0</td>\n      <td>11.0</td>\n      <td>35.0</td>\n      <td>231.0</td>\n      <td>1079.0</td>\n    </tr>\n    <tr>\n      <th>2001</th>\n      <td>0.0</td>\n      <td>0.0000</td>\n      <td>0.0027</td>\n      <td>0.0034</td>\n      <td>0.0298</td>\n      <td>0.1156</td>\n      <td>0.4545</td>\n      <td>0.0</td>\n      <td>0.0</td>\n      <td>8.0</td>\n      <td>10.0</td>\n      <td>89.0</td>\n      <td>347.0</td>\n      <td>1364.0</td>\n    </tr>\n    <tr>\n      <th>2002</th>\n      <td>0.0</td>\n      <td>0.0000</td>\n      <td>0.0000</td>\n      <td>0.0102</td>\n      <td>0.0290</td>\n      <td>0.0820</td>\n      <td>0.4444</td>\n      <td>0.0</td>\n      <td>0.0</td>\n      <td>0.0</td>\n      <td>31.0</td>\n      <td>87.0</td>\n      <td>246.0</td>\n      <td>1333.0</td>\n    </tr>\n    <tr>\n      <th>2003</th>\n      <td>0.0</td>\n      <td>0.0000</td>\n      <td>0.0000</td>\n      <td>0.0023</td>\n      <td>0.0059</td>\n      <td>0.0407</td>\n      <td>0.3293</td>\n      <td>0.0</td>\n      <td>0.0</td>\n      <td>0.0</td>\n      <td>7.0</td>\n      <td>18.0</td>\n      <td>122.0</td>\n      <td>988.0</td>\n    </tr>\n    <tr>\n      <th>2004</th>\n      <td>0.0</td>\n      <td>0.0000</td>\n      <td>0.0008</td>\n      <td>0.0000</td>\n      <td>0.0044</td>\n      <td>0.0145</td>\n      <td>0.1630</td>\n      <td>0.0</td>\n      <td>0.0</td>\n      <td>2.0</td>\n      <td>0.0</td>\n      <td>13.0</td>\n      <td>44.0</td>\n      <td>489.0</td>\n    </tr>\n    <tr>\n      <th>2005</th>\n      <td>0.0</td>\n      <td>0.0000</td>\n      <td>0.0000</td>\n      <td>0.0007</td>\n      <td>0.0031</td>\n      <td>0.0175</td>\n      <td>0.0909</td>\n      <td>0.0</td>\n      <td>0.0</td>\n      <td>0.0</td>\n      <td>2.0</td>\n      <td>9.0</td>\n      <td>53.0</td>\n      <td>273.0</td>\n    </tr>\n    <tr>\n      <th>2006</th>\n      <td>0.0</td>\n      <td>0.0000</td>\n      <td>0.0000</td>\n      <td>0.0000</td>\n      <td>0.0030</td>\n      <td>0.0082</td>\n      <td>0.1333</td>\n      <td>0.0</td>\n      <td>0.0</td>\n      <td>0.0</td>\n      <td>0.0</td>\n      <td>9.0</td>\n      <td>25.0</td>\n      <td>400.0</td>\n    </tr>\n    <tr>\n      <th>2007</th>\n      <td>0.0</td>\n      <td>0.0000</td>\n      <td>0.0000</td>\n      <td>0.0000</td>\n      <td>0.0020</td>\n      <td>0.0025</td>\n      <td>0.1524</td>\n      <td>0.0</td>\n      <td>0.0</td>\n      <td>0.0</td>\n      <td>0.0</td>\n      <td>6.0</td>\n      <td>8.0</td>\n      <td>457.0</td>\n    </tr>\n    <tr>\n      <th>2008</th>\n      <td>0.0</td>\n      <td>0.0038</td>\n      <td>0.0039</td>\n      <td>0.0049</td>\n      <td>0.0081</td>\n      <td>0.0411</td>\n      <td>0.2727</td>\n      <td>0.0</td>\n      <td>11.0</td>\n      <td>12.0</td>\n      <td>15.0</td>\n      <td>24.0</td>\n      <td>123.0</td>\n      <td>818.0</td>\n    </tr>\n    <tr>\n      <th>2009</th>\n      <td>0.0</td>\n      <td>0.0000</td>\n      <td>0.0022</td>\n      <td>0.0055</td>\n      <td>0.0075</td>\n      <td>0.1103</td>\n      <td>0.4946</td>\n      <td>0.0</td>\n      <td>0.0</td>\n      <td>7.0</td>\n      <td>16.0</td>\n      <td>22.0</td>\n      <td>331.0</td>\n      <td>1484.0</td>\n    </tr>\n    <tr>\n      <th>2010</th>\n      <td>0.0</td>\n      <td>0.0000</td>\n      <td>0.0000</td>\n      <td>0.0000</td>\n      <td>0.0058</td>\n      <td>0.0087</td>\n      <td>0.2283</td>\n      <td>0.0</td>\n      <td>0.0</td>\n      <td>0.0</td>\n      <td>0.0</td>\n      <td>17.0</td>\n      <td>26.0</td>\n      <td>685.0</td>\n    </tr>\n    <tr>\n      <th>2011</th>\n      <td>0.0</td>\n      <td>0.0000</td>\n      <td>0.0000</td>\n      <td>0.0007</td>\n      <td>0.0000</td>\n      <td>0.0168</td>\n      <td>0.1642</td>\n      <td>0.0</td>\n      <td>0.0</td>\n      <td>0.0</td>\n      <td>2.0</td>\n      <td>0.0</td>\n      <td>50.0</td>\n      <td>493.0</td>\n    </tr>\n    <tr>\n      <th>2012</th>\n      <td>0.0</td>\n      <td>0.0000</td>\n      <td>0.0000</td>\n      <td>0.0000</td>\n      <td>0.0030</td>\n      <td>0.0158</td>\n      <td>0.2752</td>\n      <td>0.0</td>\n      <td>0.0</td>\n      <td>0.0</td>\n      <td>0.0</td>\n      <td>9.0</td>\n      <td>47.0</td>\n      <td>826.0</td>\n    </tr>\n    <tr>\n      <th>2013</th>\n      <td>0.0</td>\n      <td>0.0000</td>\n      <td>0.0000</td>\n      <td>0.0000</td>\n      <td>0.0010</td>\n      <td>0.0165</td>\n      <td>0.2467</td>\n      <td>0.0</td>\n      <td>0.0</td>\n      <td>0.0</td>\n      <td>0.0</td>\n      <td>3.0</td>\n      <td>50.0</td>\n      <td>740.0</td>\n    </tr>\n    <tr>\n      <th>2014</th>\n      <td>0.0</td>\n      <td>0.0000</td>\n      <td>0.0000</td>\n      <td>0.0000</td>\n      <td>0.0000</td>\n      <td>0.0078</td>\n      <td>0.1751</td>\n      <td>0.0</td>\n      <td>0.0</td>\n      <td>0.0</td>\n      <td>0.0</td>\n      <td>0.0</td>\n      <td>23.0</td>\n      <td>525.0</td>\n    </tr>\n    <tr>\n      <th>2015</th>\n      <td>0.0</td>\n      <td>0.0000</td>\n      <td>0.0000</td>\n      <td>0.0000</td>\n      <td>0.0016</td>\n      <td>0.0242</td>\n      <td>0.2667</td>\n      <td>0.0</td>\n      <td>0.0</td>\n      <td>0.0</td>\n      <td>0.0</td>\n      <td>5.0</td>\n      <td>73.0</td>\n      <td>800.0</td>\n    </tr>\n    <tr>\n      <th>2016</th>\n      <td>0.0</td>\n      <td>0.0000</td>\n      <td>0.0000</td>\n      <td>0.0006</td>\n      <td>0.0047</td>\n      <td>0.0376</td>\n      <td>0.3317</td>\n      <td>0.0</td>\n      <td>0.0</td>\n      <td>0.0</td>\n      <td>2.0</td>\n      <td>14.0</td>\n      <td>113.0</td>\n      <td>995.0</td>\n    </tr>\n    <tr>\n      <th>2017</th>\n      <td>0.0</td>\n      <td>0.0000</td>\n      <td>0.0000</td>\n      <td>0.0000</td>\n      <td>0.0008</td>\n      <td>0.0100</td>\n      <td>0.2656</td>\n      <td>0.0</td>\n      <td>0.0</td>\n      <td>0.0</td>\n      <td>0.0</td>\n      <td>2.0</td>\n      <td>30.0</td>\n      <td>797.0</td>\n    </tr>\n    <tr>\n      <th>2018</th>\n      <td>0.0</td>\n      <td>0.0000</td>\n      <td>0.0000</td>\n      <td>0.0000</td>\n      <td>0.0000</td>\n      <td>0.0099</td>\n      <td>0.2718</td>\n      <td>0.0</td>\n      <td>0.0</td>\n      <td>0.0</td>\n      <td>0.0</td>\n      <td>0.0</td>\n      <td>30.0</td>\n      <td>815.0</td>\n    </tr>\n    <tr>\n      <th>2019</th>\n      <td>0.0</td>\n      <td>0.0000</td>\n      <td>0.0000</td>\n      <td>0.0011</td>\n      <td>0.0000</td>\n      <td>0.0149</td>\n      <td>0.2976</td>\n      <td>0.0</td>\n      <td>0.0</td>\n      <td>0.0</td>\n      <td>3.0</td>\n      <td>0.0</td>\n      <td>45.0</td>\n      <td>893.0</td>\n    </tr>\n    <tr>\n      <th>2020</th>\n      <td>0.0</td>\n      <td>0.0000</td>\n      <td>0.0000</td>\n      <td>0.0000</td>\n      <td>0.0093</td>\n      <td>0.0352</td>\n      <td>0.4748</td>\n      <td>0.0</td>\n      <td>0.0</td>\n      <td>0.0</td>\n      <td>0.0</td>\n      <td>28.0</td>\n      <td>106.0</td>\n      <td>1424.0</td>\n    </tr>\n  </tbody>\n</table>\n</div>"
     },
     "execution_count": 25,
     "metadata": {},
     "output_type": "execute_result"
    }
   ],
   "source": [
    "grades_data"
   ],
   "metadata": {
    "collapsed": false,
    "ExecuteTime": {
     "end_time": "2024-04-23T09:39:42.343818Z",
     "start_time": "2024-04-23T09:39:42.105801900Z"
    }
   },
   "id": "efdee26b794fecb1"
  },
  {
   "cell_type": "code",
   "execution_count": 26,
   "outputs": [
    {
     "data": {
      "text/plain": "A defaults           62.0\nBBB defaults        231.0\nBB defaults        1026.0\nB defaults         5032.0\nCCC/C defaults    29904.0\ndtype: float64"
     },
     "execution_count": 26,
     "metadata": {},
     "output_type": "execute_result"
    }
   ],
   "source": [
    "grades_data.iloc[:, -5:].sum(axis=0)"
   ],
   "metadata": {
    "collapsed": false,
    "ExecuteTime": {
     "end_time": "2024-04-23T09:39:51.131044400Z",
     "start_time": "2024-04-23T09:39:51.017035Z"
    }
   },
   "id": "80dd0b642bd4548e"
  },
  {
   "cell_type": "markdown",
   "source": [
    "# Method of moments estimation"
   ],
   "metadata": {
    "collapsed": false
   },
   "id": "ff4f74865e5b9196"
  },
  {
   "cell_type": "code",
   "execution_count": 28,
   "outputs": [
    {
     "name": "stdout",
     "output_type": "stream",
     "text": [
      "Estimated parameters with method of moments for grade A: 0.34843028136649823 -3.274097580352716\n",
      "Estimated parameters with method of moments for grade BBB: 0.31338509068844034 -2.8865426119490847\n",
      "Estimated parameters with method of moments for grade BB: 0.34959246867789995 -2.3842278912651227\n",
      "Estimated parameters with method of moments for grade B: 0.3288445137084037 -1.728911139866942\n",
      "Estimated parameters with method of moments for grade CCC/C: 0.36077988602478867 -0.6770330266259245\n"
     ]
    }
   ],
   "source": [
    "# MM for A, BBB, BB, B, CCC/C\n",
    "grades_list = [\"A\", \"BBB\", \"BB\", \"B\", \"CCC/C\"]\n",
    "# Call estimate_w_factor_loading function for each grade\n",
    "num_of_rows = grades_data.shape[0]\n",
    "n_g_over_time = np.array([n_g_assumption] * num_of_rows)\n",
    "\n",
    "MM_params = {}\n",
    "for grade in grades_list:\n",
    "    MM_params[grade] = estimate_w_factor_loading(grades_data[grade], n_g_over_time, initial_guess=0.45, tolerance=1e-20)\n",
    "    print(f\"Estimated parameters with method of moments for grade {grade}:\", MM_params[grade][0], norm.ppf(MM_params[grade][1]))"
   ],
   "metadata": {
    "collapsed": false,
    "ExecuteTime": {
     "end_time": "2024-04-23T09:41:10.926004200Z",
     "start_time": "2024-04-23T09:41:10.517973600Z"
    }
   },
   "id": "aeaa31e8333f147a"
  },
  {
   "cell_type": "code",
   "execution_count": 20,
   "outputs": [
    {
     "data": {
      "text/plain": "{'A': (0.34843028136649823, 0.0005299999999999999),\n 'BBB': (0.31338509068844034, 0.0019475),\n 'BB': (0.34959246867789995, 0.0085575),\n 'B': (0.3288445137084037, 0.041912500000000005),\n 'CCC/C': (0.36077988602478867, 0.2491925)}"
     },
     "execution_count": 20,
     "metadata": {},
     "output_type": "execute_result"
    }
   ],
   "source": [
    "MM_params"
   ],
   "metadata": {
    "collapsed": false,
    "ExecuteTime": {
     "end_time": "2024-04-23T09:26:57.722227100Z",
     "start_time": "2024-04-23T09:26:57.591216400Z"
    }
   },
   "id": "f130146f5d291396"
  },
  {
   "cell_type": "markdown",
   "source": [
    "# Maximum likelihood estimation"
   ],
   "metadata": {
    "collapsed": false
   },
   "id": "6ca0352dc931fb"
  },
  {
   "cell_type": "code",
   "execution_count": 32,
   "outputs": [],
   "source": [
    "default_table = grades_data[[grade + \" defaults\" for grade in grades_list]]\n",
    "num_of_obligors_table = np.full_like(default_table, n_g_assumption)"
   ],
   "metadata": {
    "collapsed": false,
    "ExecuteTime": {
     "end_time": "2024-04-23T09:43:26.829014900Z",
     "start_time": "2024-04-23T09:43:26.721006700Z"
    }
   },
   "id": "e953b4ebe809053d"
  },
  {
   "cell_type": "code",
   "execution_count": 35,
   "outputs": [],
   "source": [
    "# Choose defaults cols from grades_data which is in grades_list\n",
    "default_table = grades_data[[grade + \" defaults\" for grade in grades_list]]\n",
    "num_of_obligors_table = np.full_like(default_table, n_g_assumption)\n",
    "\n",
    "gamma_init = [norm.ppf(MM_params[grade][1]) for grade in grades_list]\n",
    "w_init = [MM_params[grade][0] for grade in grades_list]\n",
    "\n",
    "ml_results = mle_trapz_g_and_w(default_table.values, num_of_obligors_table, w_init, gamma_init)"
   ],
   "metadata": {
    "collapsed": false,
    "ExecuteTime": {
     "end_time": "2024-04-23T09:47:04.900426Z",
     "start_time": "2024-04-23T09:44:55.840718900Z"
    }
   },
   "id": "f4a81849fff24209"
  },
  {
   "cell_type": "code",
   "execution_count": 36,
   "outputs": [
    {
     "name": "stdout",
     "output_type": "stream",
     "text": [
      "Estimated factor loading parameters with maximum likelihood method: [0.27608867 0.30129721 0.23455488 0.25864731 0.43168721]\n",
      "Estimated gamma parameters with maximum likelihood method: [-3.25689612 -2.86605719 -2.37977899 -1.72890077 -0.69089898]\n"
     ]
    }
   ],
   "source": [
    "print(\"Estimated factor loading parameters with maximum likelihood method:\", ml_results[0])\n",
    "print(\"Estimated gamma parameters with maximum likelihood method:\", ml_results[1])"
   ],
   "metadata": {
    "collapsed": false,
    "ExecuteTime": {
     "end_time": "2024-04-23T09:47:04.902425700Z",
     "start_time": "2024-04-23T09:47:04.883424800Z"
    }
   },
   "id": "28fbf94cd179fcba"
  },
  {
   "cell_type": "markdown",
   "source": [
    "## Fixed w case"
   ],
   "metadata": {
    "collapsed": false
   },
   "id": "67621991250952a0"
  },
  {
   "cell_type": "code",
   "execution_count": 42,
   "outputs": [],
   "source": [
    "ml_fixed_w_results = mle_trapz_g_and_w(default_table.values, num_of_obligors_table, w_init, gamma_init, fixed_w=True)"
   ],
   "metadata": {
    "collapsed": false,
    "ExecuteTime": {
     "end_time": "2024-04-23T10:04:15.466213900Z",
     "start_time": "2024-04-23T10:03:57.385287900Z"
    }
   },
   "id": "facdee286d06bd9b"
  },
  {
   "cell_type": "code",
   "execution_count": 43,
   "outputs": [
    {
     "name": "stdout",
     "output_type": "stream",
     "text": [
      "Estimated factor loading parameters with maximum likelihood method: [0.34843028 0.31338509 0.34959247 0.32884451 0.36077989]\n",
      "Estimated gamma parameters with maximum likelihood method: [-3.24102731 -2.8700579  -2.35949171 -1.71975599 -0.68755833]\n"
     ]
    }
   ],
   "source": [
    "print(\"Estimated factor loading parameters with maximum likelihood method:\", ml_fixed_w_results[0])\n",
    "print(\"Estimated gamma parameters with maximum likelihood method:\", ml_fixed_w_results[1])"
   ],
   "metadata": {
    "collapsed": false,
    "ExecuteTime": {
     "end_time": "2024-04-23T10:04:18.388643400Z",
     "start_time": "2024-04-23T10:04:18.335641200Z"
    }
   },
   "id": "8a09e1541d52492"
  },
  {
   "cell_type": "markdown",
   "source": [
    "## Fixed gamma case"
   ],
   "metadata": {
    "collapsed": false
   },
   "id": "e862b58a55bc7bdc"
  },
  {
   "cell_type": "code",
   "execution_count": 44,
   "outputs": [],
   "source": [
    "ml_fixed_gamma_results = mle_trapz_g_and_w(default_table.values, num_of_obligors_table, w_init, gamma_init, fixed_g=True)"
   ],
   "metadata": {
    "collapsed": false,
    "ExecuteTime": {
     "end_time": "2024-04-23T10:05:14.256969500Z",
     "start_time": "2024-04-23T10:04:40.426773700Z"
    }
   },
   "id": "9abc965c69ff5933"
  },
  {
   "cell_type": "code",
   "execution_count": 45,
   "outputs": [
    {
     "name": "stdout",
     "output_type": "stream",
     "text": [
      "Estimated factor loading parameters with maximum likelihood method: [0.34469652 0.3264662  0.2912969  0.27989679 0.41588174]\n",
      "Estimated gamma parameters with maximum likelihood method: [-3.27891608 -2.87311566 -2.43443891 -1.75755476 -0.66016817]\n"
     ]
    }
   ],
   "source": [
    "print(\"Estimated factor loading parameters with maximum likelihood method:\", ml_fixed_gamma_results[0])\n",
    "print(\"Estimated gamma parameters with maximum likelihood method:\", ml_fixed_gamma_results[1])"
   ],
   "metadata": {
    "collapsed": false,
    "ExecuteTime": {
     "end_time": "2024-04-23T10:05:14.286972100Z",
     "start_time": "2024-04-23T10:05:14.257970Z"
    }
   },
   "id": "31fa2107654d350a"
  },
  {
   "cell_type": "code",
   "execution_count": 46,
   "outputs": [
    {
     "data": {
      "text/plain": "2281.0898132475477"
     },
     "execution_count": 46,
     "metadata": {},
     "output_type": "execute_result"
    }
   ],
   "source": [
    "ml_fixed_gamma_results[2].fun"
   ],
   "metadata": {
    "collapsed": false,
    "ExecuteTime": {
     "end_time": "2024-04-23T10:05:14.318973400Z",
     "start_time": "2024-04-23T10:05:14.271970Z"
    }
   },
   "id": "e61bd14b260decc3"
  },
  {
   "cell_type": "markdown",
   "source": [
    "## 1 w case"
   ],
   "metadata": {
    "collapsed": false
   },
   "id": "69a459ef58a39958"
  },
  {
   "cell_type": "code",
   "execution_count": 55,
   "outputs": [],
   "source": [
    "w_1 = [0.3]\n",
    "ml_1w_results = mle_trapz_g_and_w(default_table.values, num_of_obligors_table, w_1, gamma_init)"
   ],
   "metadata": {
    "collapsed": false,
    "ExecuteTime": {
     "end_time": "2024-04-23T10:20:59.783558Z",
     "start_time": "2024-04-23T10:20:37.328012100Z"
    }
   },
   "id": "5b8d28b3557693da"
  },
  {
   "cell_type": "code",
   "execution_count": 56,
   "outputs": [
    {
     "name": "stdout",
     "output_type": "stream",
     "text": [
      "Estimated factor loading parameters with maximum likelihood method: [0.34571905]\n",
      "Estimated gamma parameters with maximum likelihood method: [-3.24083215 -2.85936038 -2.35850189 -1.71412007 -0.68367919]\n"
     ]
    }
   ],
   "source": [
    "print(\"Estimated factor loading parameters with maximum likelihood method:\", ml_1w_results[0])\n",
    "print(\"Estimated gamma parameters with maximum likelihood method:\", ml_1w_results[1])"
   ],
   "metadata": {
    "collapsed": false,
    "ExecuteTime": {
     "end_time": "2024-04-23T10:20:59.808560Z",
     "start_time": "2024-04-23T10:20:59.783558Z"
    }
   },
   "id": "58a7ff1ad1fc5873"
  },
  {
   "cell_type": "markdown",
   "source": [
    "# Sensitivity analysis for w initial guess"
   ],
   "metadata": {
    "collapsed": false
   },
   "id": "cc9b0b0c5e8dc9f4"
  },
  {
   "cell_type": "code",
   "execution_count": 67,
   "outputs": [],
   "source": [
    "# Change the initial guess for w from 0.05 to 0.25 with step 0.005\n",
    "w_values = np.round(np.arange(0.15, 0.55, 0.05), 2)\n",
    "ML_params_for_w = []\n",
    "for w in w_values:\n",
    "    temp_res = mle_trapz_g_and_w(default_table.values, num_of_obligors_table, w_1, gamma_init)\n",
    "    ML_params_for_w.append(temp_res[0][0])"
   ],
   "metadata": {
    "collapsed": false,
    "ExecuteTime": {
     "end_time": "2024-04-23T10:28:43.592786Z",
     "start_time": "2024-04-23T10:26:03.640049Z"
    }
   },
   "id": "c65aaee2b80a0a9"
  },
  {
   "cell_type": "code",
   "execution_count": 68,
   "outputs": [
    {
     "data": {
      "text/plain": "<Figure size 640x480 with 1 Axes>",
      "image/png": "[encoded data removed]"
     },
     "metadata": {},
     "output_type": "display_data"
    }
   ],
   "source": [
    "# Plot the results\n",
    "plt.plot(w_values, ML_params_for_w)\n",
    "plt.xlabel(\"w\")\n",
    "plt.ylabel(\"Estimated w\")\n",
    "plt.title(\"Estimated w for different initial guesses\")\n",
    "plt.show()"
   ],
   "metadata": {
    "collapsed": false,
    "ExecuteTime": {
     "end_time": "2024-04-23T10:28:43.783801900Z",
     "start_time": "2024-04-23T10:28:43.604788500Z"
    }
   },
   "id": "4ec8db02c8dd334d"
  },
  {
   "cell_type": "code",
   "execution_count": null,
   "outputs": [],
   "source": [],
   "metadata": {
    "collapsed": false
   },
   "id": "8332f86b546b7536"
  }
 ],
 "metadata": {
  "kernelspec": {
   "name": "python3",
   "language": "python",
   "display_name": "Python 3 (ipykernel)"
  },
  "language_info": {
   "codemirror_mode": {
    "name": "ipython",
    "version": 2
   },
   "file_extension": ".py",
   "mimetype": "text/x-python",
   "name": "python",
   "nbconvert_exporter": "python",
   "pygments_lexer": "ipython2",
   "version": "2.7.6"
  }
 },
 "nbformat": 4,
 "nbformat_minor": 5
}
