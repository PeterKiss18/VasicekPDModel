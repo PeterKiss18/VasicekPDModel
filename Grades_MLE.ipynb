{
 "cells": [
  {
   "cell_type": "code",
   "execution_count": 1,
   "id": "initial_id",
   "metadata": {
    "collapsed": true,
    "ExecuteTime": {
     "end_time": "2024-04-08T19:30:10.296794800Z",
     "start_time": "2024-04-08T19:30:07.855391400Z"
    }
   },
   "outputs": [],
   "source": [
    "import pandas as pd\n",
    "import numpy as np\n",
    "from scipy.stats import norm\n",
    "from src.MM_estimation import estimate_w_factor_loading, calc_variance_of_default_rate"
   ]
  },
  {
   "cell_type": "code",
   "execution_count": 2,
   "outputs": [],
   "source": [
    "# Load the data\n",
    "grades_data = pd.read_csv('data/grades_hist_pd.csv', sep=';', index_col=0)\n",
    "\n",
    "for col_name in grades_data.columns:\n",
    "    grades_data[col_name] = grades_data[col_name] / 100\n",
    "    \n",
    "grades_cols = grades_data.columns"
   ],
   "metadata": {
    "collapsed": false,
    "ExecuteTime": {
     "end_time": "2024-04-08T19:30:10.339796600Z",
     "start_time": "2024-04-08T19:30:10.294794Z"
    }
   },
   "id": "174c6076efdfee0b"
  },
  {
   "cell_type": "code",
   "execution_count": 3,
   "outputs": [
    {
     "data": {
      "text/plain": "      AAA   AA       A     BBB      BB       B   CCC/C\nYear                                                  \n1981  0.0  0.0  0.0000  0.0000  0.0000  0.0233  0.0000\n1982  0.0  0.0  0.0021  0.0035  0.0424  0.0318  0.2143\n1983  0.0  0.0  0.0000  0.0034  0.0116  0.0470  0.0667\n1984  0.0  0.0  0.0000  0.0068  0.0114  0.0349  0.2500\n1985  0.0  0.0  0.0000  0.0000  0.0150  0.0653  0.1538",
      "text/html": "<div>\n<style scoped>\n    .dataframe tbody tr th:only-of-type {\n        vertical-align: middle;\n    }\n\n    .dataframe tbody tr th {\n        vertical-align: top;\n    }\n\n    .dataframe thead th {\n        text-align: right;\n    }\n</style>\n<table border=\"1\" class=\"dataframe\">\n  <thead>\n    <tr style=\"text-align: right;\">\n      <th></th>\n      <th>AAA</th>\n      <th>AA</th>\n      <th>A</th>\n      <th>BBB</th>\n      <th>BB</th>\n      <th>B</th>\n      <th>CCC/C</th>\n    </tr>\n    <tr>\n      <th>Year</th>\n      <th></th>\n      <th></th>\n      <th></th>\n      <th></th>\n      <th></th>\n      <th></th>\n      <th></th>\n    </tr>\n  </thead>\n  <tbody>\n    <tr>\n      <th>1981</th>\n      <td>0.0</td>\n      <td>0.0</td>\n      <td>0.0000</td>\n      <td>0.0000</td>\n      <td>0.0000</td>\n      <td>0.0233</td>\n      <td>0.0000</td>\n    </tr>\n    <tr>\n      <th>1982</th>\n      <td>0.0</td>\n      <td>0.0</td>\n      <td>0.0021</td>\n      <td>0.0035</td>\n      <td>0.0424</td>\n      <td>0.0318</td>\n      <td>0.2143</td>\n    </tr>\n    <tr>\n      <th>1983</th>\n      <td>0.0</td>\n      <td>0.0</td>\n      <td>0.0000</td>\n      <td>0.0034</td>\n      <td>0.0116</td>\n      <td>0.0470</td>\n      <td>0.0667</td>\n    </tr>\n    <tr>\n      <th>1984</th>\n      <td>0.0</td>\n      <td>0.0</td>\n      <td>0.0000</td>\n      <td>0.0068</td>\n      <td>0.0114</td>\n      <td>0.0349</td>\n      <td>0.2500</td>\n    </tr>\n    <tr>\n      <th>1985</th>\n      <td>0.0</td>\n      <td>0.0</td>\n      <td>0.0000</td>\n      <td>0.0000</td>\n      <td>0.0150</td>\n      <td>0.0653</td>\n      <td>0.1538</td>\n    </tr>\n  </tbody>\n</table>\n</div>"
     },
     "execution_count": 3,
     "metadata": {},
     "output_type": "execute_result"
    }
   ],
   "source": [
    "grades_data.head()"
   ],
   "metadata": {
    "collapsed": false,
    "ExecuteTime": {
     "end_time": "2024-04-08T19:30:10.360798400Z",
     "start_time": "2024-04-08T19:30:10.325801200Z"
    }
   },
   "id": "5d9648dee7151bd4"
  },
  {
   "cell_type": "code",
   "execution_count": 4,
   "outputs": [],
   "source": [
    "# Assumption every grade has 10000 obligors\n",
    "n_g_assumption = 3000"
   ],
   "metadata": {
    "collapsed": false,
    "ExecuteTime": {
     "end_time": "2024-04-08T19:30:10.420808100Z",
     "start_time": "2024-04-08T19:30:10.356798300Z"
    }
   },
   "id": "621487d90fec2072"
  },
  {
   "cell_type": "code",
   "execution_count": 5,
   "outputs": [],
   "source": [
    "for col_name in grades_cols:\n",
    "    grades_data[str(col_name) + \" defaults\"] = (n_g_assumption * grades_data[col_name])"
   ],
   "metadata": {
    "collapsed": false,
    "ExecuteTime": {
     "end_time": "2024-04-08T19:30:10.421808300Z",
     "start_time": "2024-04-08T19:30:10.373800800Z"
    }
   },
   "id": "ddd163cf4d8568b2"
  },
  {
   "cell_type": "code",
   "execution_count": 6,
   "outputs": [
    {
     "data": {
      "text/plain": "      AAA      AA       A     BBB      BB       B   CCC/C  AAA defaults  \\\nYear                                                                      \n1981  0.0  0.0000  0.0000  0.0000  0.0000  0.0233  0.0000           0.0   \n1982  0.0  0.0000  0.0021  0.0035  0.0424  0.0318  0.2143           0.0   \n1983  0.0  0.0000  0.0000  0.0034  0.0116  0.0470  0.0667           0.0   \n1984  0.0  0.0000  0.0000  0.0068  0.0114  0.0349  0.2500           0.0   \n1985  0.0  0.0000  0.0000  0.0000  0.0150  0.0653  0.1538           0.0   \n1986  0.0  0.0000  0.0018  0.0034  0.0133  0.0845  0.2308           0.0   \n1987  0.0  0.0000  0.0000  0.0000  0.0038  0.0313  0.1228           0.0   \n1988  0.0  0.0000  0.0000  0.0000  0.0105  0.0368  0.2037           0.0   \n1989  0.0  0.0000  0.0018  0.0061  0.0073  0.0340  0.3333           0.0   \n1990  0.0  0.0000  0.0000  0.0058  0.0357  0.0856  0.3125           0.0   \n1991  0.0  0.0000  0.0000  0.0055  0.0169  0.1384  0.3387           0.0   \n1992  0.0  0.0000  0.0000  0.0000  0.0000  0.0699  0.3019           0.0   \n1993  0.0  0.0000  0.0000  0.0000  0.0070  0.0262  0.1333           0.0   \n1994  0.0  0.0000  0.0014  0.0000  0.0028  0.0309  0.1667           0.0   \n1995  0.0  0.0000  0.0000  0.0017  0.0099  0.0459  0.2800           0.0   \n1996  0.0  0.0000  0.0000  0.0000  0.0045  0.0291  0.0800           0.0   \n1997  0.0  0.0000  0.0000  0.0025  0.0019  0.0352  0.1200           0.0   \n1998  0.0  0.0000  0.0000  0.0041  0.0082  0.0464  0.4286           0.0   \n1999  0.0  0.0017  0.0018  0.0020  0.0095  0.0731  0.3382           0.0   \n2000  0.0  0.0000  0.0027  0.0037  0.0116  0.0771  0.3596           0.0   \n2001  0.0  0.0000  0.0027  0.0034  0.0298  0.1156  0.4545           0.0   \n2002  0.0  0.0000  0.0000  0.0102  0.0290  0.0820  0.4444           0.0   \n2003  0.0  0.0000  0.0000  0.0023  0.0059  0.0407  0.3293           0.0   \n2004  0.0  0.0000  0.0008  0.0000  0.0044  0.0145  0.1630           0.0   \n2005  0.0  0.0000  0.0000  0.0007  0.0031  0.0175  0.0909           0.0   \n2006  0.0  0.0000  0.0000  0.0000  0.0030  0.0082  0.1333           0.0   \n2007  0.0  0.0000  0.0000  0.0000  0.0020  0.0025  0.1524           0.0   \n2008  0.0  0.0038  0.0039  0.0049  0.0081  0.0411  0.2727           0.0   \n2009  0.0  0.0000  0.0022  0.0055  0.0075  0.1103  0.4946           0.0   \n2010  0.0  0.0000  0.0000  0.0000  0.0058  0.0087  0.2283           0.0   \n2011  0.0  0.0000  0.0000  0.0007  0.0000  0.0168  0.1642           0.0   \n2012  0.0  0.0000  0.0000  0.0000  0.0030  0.0158  0.2752           0.0   \n2013  0.0  0.0000  0.0000  0.0000  0.0010  0.0165  0.2467           0.0   \n2014  0.0  0.0000  0.0000  0.0000  0.0000  0.0078  0.1751           0.0   \n2015  0.0  0.0000  0.0000  0.0000  0.0016  0.0242  0.2667           0.0   \n2016  0.0  0.0000  0.0000  0.0006  0.0047  0.0376  0.3317           0.0   \n2017  0.0  0.0000  0.0000  0.0000  0.0008  0.0100  0.2656           0.0   \n2018  0.0  0.0000  0.0000  0.0000  0.0000  0.0099  0.2718           0.0   \n2019  0.0  0.0000  0.0000  0.0011  0.0000  0.0149  0.2976           0.0   \n2020  0.0  0.0000  0.0000  0.0000  0.0093  0.0352  0.4748           0.0   \n\n      AA defaults  A defaults  BBB defaults  BB defaults  B defaults  \\\nYear                                                                   \n1981          0.0         0.0           0.0          0.0        69.9   \n1982          0.0         6.3          10.5        127.2        95.4   \n1983          0.0         0.0          10.2         34.8       141.0   \n1984          0.0         0.0          20.4         34.2       104.7   \n1985          0.0         0.0           0.0         45.0       195.9   \n1986          0.0         5.4          10.2         39.9       253.5   \n1987          0.0         0.0           0.0         11.4        93.9   \n1988          0.0         0.0           0.0         31.5       110.4   \n1989          0.0         5.4          18.3         21.9       102.0   \n1990          0.0         0.0          17.4        107.1       256.8   \n1991          0.0         0.0          16.5         50.7       415.2   \n1992          0.0         0.0           0.0          0.0       209.7   \n1993          0.0         0.0           0.0         21.0        78.6   \n1994          0.0         4.2           0.0          8.4        92.7   \n1995          0.0         0.0           5.1         29.7       137.7   \n1996          0.0         0.0           0.0         13.5        87.3   \n1997          0.0         0.0           7.5          5.7       105.6   \n1998          0.0         0.0          12.3         24.6       139.2   \n1999          5.1         5.4           6.0         28.5       219.3   \n2000          0.0         8.1          11.1         34.8       231.3   \n2001          0.0         8.1          10.2         89.4       346.8   \n2002          0.0         0.0          30.6         87.0       246.0   \n2003          0.0         0.0           6.9         17.7       122.1   \n2004          0.0         2.4           0.0         13.2        43.5   \n2005          0.0         0.0           2.1          9.3        52.5   \n2006          0.0         0.0           0.0          9.0        24.6   \n2007          0.0         0.0           0.0          6.0         7.5   \n2008         11.4        11.7          14.7         24.3       123.3   \n2009          0.0         6.6          16.5         22.5       330.9   \n2010          0.0         0.0           0.0         17.4        26.1   \n2011          0.0         0.0           2.1          0.0        50.4   \n2012          0.0         0.0           0.0          9.0        47.4   \n2013          0.0         0.0           0.0          3.0        49.5   \n2014          0.0         0.0           0.0          0.0        23.4   \n2015          0.0         0.0           0.0          4.8        72.6   \n2016          0.0         0.0           1.8         14.1       112.8   \n2017          0.0         0.0           0.0          2.4        30.0   \n2018          0.0         0.0           0.0          0.0        29.7   \n2019          0.0         0.0           3.3          0.0        44.7   \n2020          0.0         0.0           0.0         27.9       105.6   \n\n      CCC/C defaults  \nYear                  \n1981             0.0  \n1982           642.9  \n1983           200.1  \n1984           750.0  \n1985           461.4  \n1986           692.4  \n1987           368.4  \n1988           611.1  \n1989           999.9  \n1990           937.5  \n1991          1016.1  \n1992           905.7  \n1993           399.9  \n1994           500.1  \n1995           840.0  \n1996           240.0  \n1997           360.0  \n1998          1285.8  \n1999          1014.6  \n2000          1078.8  \n2001          1363.5  \n2002          1333.2  \n2003           987.9  \n2004           489.0  \n2005           272.7  \n2006           399.9  \n2007           457.2  \n2008           818.1  \n2009          1483.8  \n2010           684.9  \n2011           492.6  \n2012           825.6  \n2013           740.1  \n2014           525.3  \n2015           800.1  \n2016           995.1  \n2017           796.8  \n2018           815.4  \n2019           892.8  \n2020          1424.4  ",
      "text/html": "<div>\n<style scoped>\n    .dataframe tbody tr th:only-of-type {\n        vertical-align: middle;\n    }\n\n    .dataframe tbody tr th {\n        vertical-align: top;\n    }\n\n    .dataframe thead th {\n        text-align: right;\n    }\n</style>\n<table border=\"1\" class=\"dataframe\">\n  <thead>\n    <tr style=\"text-align: right;\">\n      <th></th>\n      <th>AAA</th>\n      <th>AA</th>\n      <th>A</th>\n      <th>BBB</th>\n      <th>BB</th>\n      <th>B</th>\n      <th>CCC/C</th>\n      <th>AAA defaults</th>\n      <th>AA defaults</th>\n      <th>A defaults</th>\n      <th>BBB defaults</th>\n      <th>BB defaults</th>\n      <th>B defaults</th>\n      <th>CCC/C defaults</th>\n    </tr>\n    <tr>\n      <th>Year</th>\n      <th></th>\n      <th></th>\n      <th></th>\n      <th></th>\n      <th></th>\n      <th></th>\n      <th></th>\n      <th></th>\n      <th></th>\n      <th></th>\n      <th></th>\n      <th></th>\n      <th></th>\n      <th></th>\n    </tr>\n  </thead>\n  <tbody>\n    <tr>\n      <th>1981</th>\n      <td>0.0</td>\n      <td>0.0000</td>\n      <td>0.0000</td>\n      <td>0.0000</td>\n      <td>0.0000</td>\n      <td>0.0233</td>\n      <td>0.0000</td>\n      <td>0.0</td>\n      <td>0.0</td>\n      <td>0.0</td>\n      <td>0.0</td>\n      <td>0.0</td>\n      <td>69.9</td>\n      <td>0.0</td>\n    </tr>\n    <tr>\n      <th>1982</th>\n      <td>0.0</td>\n      <td>0.0000</td>\n      <td>0.0021</td>\n      <td>0.0035</td>\n      <td>0.0424</td>\n      <td>0.0318</td>\n      <td>0.2143</td>\n      <td>0.0</td>\n      <td>0.0</td>\n      <td>6.3</td>\n      <td>10.5</td>\n      <td>127.2</td>\n      <td>95.4</td>\n      <td>642.9</td>\n    </tr>\n    <tr>\n      <th>1983</th>\n      <td>0.0</td>\n      <td>0.0000</td>\n      <td>0.0000</td>\n      <td>0.0034</td>\n      <td>0.0116</td>\n      <td>0.0470</td>\n      <td>0.0667</td>\n      <td>0.0</td>\n      <td>0.0</td>\n      <td>0.0</td>\n      <td>10.2</td>\n      <td>34.8</td>\n      <td>141.0</td>\n      <td>200.1</td>\n    </tr>\n    <tr>\n      <th>1984</th>\n      <td>0.0</td>\n      <td>0.0000</td>\n      <td>0.0000</td>\n      <td>0.0068</td>\n      <td>0.0114</td>\n      <td>0.0349</td>\n      <td>0.2500</td>\n      <td>0.0</td>\n      <td>0.0</td>\n      <td>0.0</td>\n      <td>20.4</td>\n      <td>34.2</td>\n      <td>104.7</td>\n      <td>750.0</td>\n    </tr>\n    <tr>\n      <th>1985</th>\n      <td>0.0</td>\n      <td>0.0000</td>\n      <td>0.0000</td>\n      <td>0.0000</td>\n      <td>0.0150</td>\n      <td>0.0653</td>\n      <td>0.1538</td>\n      <td>0.0</td>\n      <td>0.0</td>\n      <td>0.0</td>\n      <td>0.0</td>\n      <td>45.0</td>\n      <td>195.9</td>\n      <td>461.4</td>\n    </tr>\n    <tr>\n      <th>1986</th>\n      <td>0.0</td>\n      <td>0.0000</td>\n      <td>0.0018</td>\n      <td>0.0034</td>\n      <td>0.0133</td>\n      <td>0.0845</td>\n      <td>0.2308</td>\n      <td>0.0</td>\n      <td>0.0</td>\n      <td>5.4</td>\n      <td>10.2</td>\n      <td>39.9</td>\n      <td>253.5</td>\n      <td>692.4</td>\n    </tr>\n    <tr>\n      <th>1987</th>\n      <td>0.0</td>\n      <td>0.0000</td>\n      <td>0.0000</td>\n      <td>0.0000</td>\n      <td>0.0038</td>\n      <td>0.0313</td>\n      <td>0.1228</td>\n      <td>0.0</td>\n      <td>0.0</td>\n      <td>0.0</td>\n      <td>0.0</td>\n      <td>11.4</td>\n      <td>93.9</td>\n      <td>368.4</td>\n    </tr>\n    <tr>\n      <th>1988</th>\n      <td>0.0</td>\n      <td>0.0000</td>\n      <td>0.0000</td>\n      <td>0.0000</td>\n      <td>0.0105</td>\n      <td>0.0368</td>\n      <td>0.2037</td>\n      <td>0.0</td>\n      <td>0.0</td>\n      <td>0.0</td>\n      <td>0.0</td>\n      <td>31.5</td>\n      <td>110.4</td>\n      <td>611.1</td>\n    </tr>\n    <tr>\n      <th>1989</th>\n      <td>0.0</td>\n      <td>0.0000</td>\n      <td>0.0018</td>\n      <td>0.0061</td>\n      <td>0.0073</td>\n      <td>0.0340</td>\n      <td>0.3333</td>\n      <td>0.0</td>\n      <td>0.0</td>\n      <td>5.4</td>\n      <td>18.3</td>\n      <td>21.9</td>\n      <td>102.0</td>\n      <td>999.9</td>\n    </tr>\n    <tr>\n      <th>1990</th>\n      <td>0.0</td>\n      <td>0.0000</td>\n      <td>0.0000</td>\n      <td>0.0058</td>\n      <td>0.0357</td>\n      <td>0.0856</td>\n      <td>0.3125</td>\n      <td>0.0</td>\n      <td>0.0</td>\n      <td>0.0</td>\n      <td>17.4</td>\n      <td>107.1</td>\n      <td>256.8</td>\n      <td>937.5</td>\n    </tr>\n    <tr>\n      <th>1991</th>\n      <td>0.0</td>\n      <td>0.0000</td>\n      <td>0.0000</td>\n      <td>0.0055</td>\n      <td>0.0169</td>\n      <td>0.1384</td>\n      <td>0.3387</td>\n      <td>0.0</td>\n      <td>0.0</td>\n      <td>0.0</td>\n      <td>16.5</td>\n      <td>50.7</td>\n      <td>415.2</td>\n      <td>1016.1</td>\n    </tr>\n    <tr>\n      <th>1992</th>\n      <td>0.0</td>\n      <td>0.0000</td>\n      <td>0.0000</td>\n      <td>0.0000</td>\n      <td>0.0000</td>\n      <td>0.0699</td>\n      <td>0.3019</td>\n      <td>0.0</td>\n      <td>0.0</td>\n      <td>0.0</td>\n      <td>0.0</td>\n      <td>0.0</td>\n      <td>209.7</td>\n      <td>905.7</td>\n    </tr>\n    <tr>\n      <th>1993</th>\n      <td>0.0</td>\n      <td>0.0000</td>\n      <td>0.0000</td>\n      <td>0.0000</td>\n      <td>0.0070</td>\n      <td>0.0262</td>\n      <td>0.1333</td>\n      <td>0.0</td>\n      <td>0.0</td>\n      <td>0.0</td>\n      <td>0.0</td>\n      <td>21.0</td>\n      <td>78.6</td>\n      <td>399.9</td>\n    </tr>\n    <tr>\n      <th>1994</th>\n      <td>0.0</td>\n      <td>0.0000</td>\n      <td>0.0014</td>\n      <td>0.0000</td>\n      <td>0.0028</td>\n      <td>0.0309</td>\n      <td>0.1667</td>\n      <td>0.0</td>\n      <td>0.0</td>\n      <td>4.2</td>\n      <td>0.0</td>\n      <td>8.4</td>\n      <td>92.7</td>\n      <td>500.1</td>\n    </tr>\n    <tr>\n      <th>1995</th>\n      <td>0.0</td>\n      <td>0.0000</td>\n      <td>0.0000</td>\n      <td>0.0017</td>\n      <td>0.0099</td>\n      <td>0.0459</td>\n      <td>0.2800</td>\n      <td>0.0</td>\n      <td>0.0</td>\n      <td>0.0</td>\n      <td>5.1</td>\n      <td>29.7</td>\n      <td>137.7</td>\n      <td>840.0</td>\n    </tr>\n    <tr>\n      <th>1996</th>\n      <td>0.0</td>\n      <td>0.0000</td>\n      <td>0.0000</td>\n      <td>0.0000</td>\n      <td>0.0045</td>\n      <td>0.0291</td>\n      <td>0.0800</td>\n      <td>0.0</td>\n      <td>0.0</td>\n      <td>0.0</td>\n      <td>0.0</td>\n      <td>13.5</td>\n      <td>87.3</td>\n      <td>240.0</td>\n    </tr>\n    <tr>\n      <th>1997</th>\n      <td>0.0</td>\n      <td>0.0000</td>\n      <td>0.0000</td>\n      <td>0.0025</td>\n      <td>0.0019</td>\n      <td>0.0352</td>\n      <td>0.1200</td>\n      <td>0.0</td>\n      <td>0.0</td>\n      <td>0.0</td>\n      <td>7.5</td>\n      <td>5.7</td>\n      <td>105.6</td>\n      <td>360.0</td>\n    </tr>\n    <tr>\n      <th>1998</th>\n      <td>0.0</td>\n      <td>0.0000</td>\n      <td>0.0000</td>\n      <td>0.0041</td>\n      <td>0.0082</td>\n      <td>0.0464</td>\n      <td>0.4286</td>\n      <td>0.0</td>\n      <td>0.0</td>\n      <td>0.0</td>\n      <td>12.3</td>\n      <td>24.6</td>\n      <td>139.2</td>\n      <td>1285.8</td>\n    </tr>\n    <tr>\n      <th>1999</th>\n      <td>0.0</td>\n      <td>0.0017</td>\n      <td>0.0018</td>\n      <td>0.0020</td>\n      <td>0.0095</td>\n      <td>0.0731</td>\n      <td>0.3382</td>\n      <td>0.0</td>\n      <td>5.1</td>\n      <td>5.4</td>\n      <td>6.0</td>\n      <td>28.5</td>\n      <td>219.3</td>\n      <td>1014.6</td>\n    </tr>\n    <tr>\n      <th>2000</th>\n      <td>0.0</td>\n      <td>0.0000</td>\n      <td>0.0027</td>\n      <td>0.0037</td>\n      <td>0.0116</td>\n      <td>0.0771</td>\n      <td>0.3596</td>\n      <td>0.0</td>\n      <td>0.0</td>\n      <td>8.1</td>\n      <td>11.1</td>\n      <td>34.8</td>\n      <td>231.3</td>\n      <td>1078.8</td>\n    </tr>\n    <tr>\n      <th>2001</th>\n      <td>0.0</td>\n      <td>0.0000</td>\n      <td>0.0027</td>\n      <td>0.0034</td>\n      <td>0.0298</td>\n      <td>0.1156</td>\n      <td>0.4545</td>\n      <td>0.0</td>\n      <td>0.0</td>\n      <td>8.1</td>\n      <td>10.2</td>\n      <td>89.4</td>\n      <td>346.8</td>\n      <td>1363.5</td>\n    </tr>\n    <tr>\n      <th>2002</th>\n      <td>0.0</td>\n      <td>0.0000</td>\n      <td>0.0000</td>\n      <td>0.0102</td>\n      <td>0.0290</td>\n      <td>0.0820</td>\n      <td>0.4444</td>\n      <td>0.0</td>\n      <td>0.0</td>\n      <td>0.0</td>\n      <td>30.6</td>\n      <td>87.0</td>\n      <td>246.0</td>\n      <td>1333.2</td>\n    </tr>\n    <tr>\n      <th>2003</th>\n      <td>0.0</td>\n      <td>0.0000</td>\n      <td>0.0000</td>\n      <td>0.0023</td>\n      <td>0.0059</td>\n      <td>0.0407</td>\n      <td>0.3293</td>\n      <td>0.0</td>\n      <td>0.0</td>\n      <td>0.0</td>\n      <td>6.9</td>\n      <td>17.7</td>\n      <td>122.1</td>\n      <td>987.9</td>\n    </tr>\n    <tr>\n      <th>2004</th>\n      <td>0.0</td>\n      <td>0.0000</td>\n      <td>0.0008</td>\n      <td>0.0000</td>\n      <td>0.0044</td>\n      <td>0.0145</td>\n      <td>0.1630</td>\n      <td>0.0</td>\n      <td>0.0</td>\n      <td>2.4</td>\n      <td>0.0</td>\n      <td>13.2</td>\n      <td>43.5</td>\n      <td>489.0</td>\n    </tr>\n    <tr>\n      <th>2005</th>\n      <td>0.0</td>\n      <td>0.0000</td>\n      <td>0.0000</td>\n      <td>0.0007</td>\n      <td>0.0031</td>\n      <td>0.0175</td>\n      <td>0.0909</td>\n      <td>0.0</td>\n      <td>0.0</td>\n      <td>0.0</td>\n      <td>2.1</td>\n      <td>9.3</td>\n      <td>52.5</td>\n      <td>272.7</td>\n    </tr>\n    <tr>\n      <th>2006</th>\n      <td>0.0</td>\n      <td>0.0000</td>\n      <td>0.0000</td>\n      <td>0.0000</td>\n      <td>0.0030</td>\n      <td>0.0082</td>\n      <td>0.1333</td>\n      <td>0.0</td>\n      <td>0.0</td>\n      <td>0.0</td>\n      <td>0.0</td>\n      <td>9.0</td>\n      <td>24.6</td>\n      <td>399.9</td>\n    </tr>\n    <tr>\n      <th>2007</th>\n      <td>0.0</td>\n      <td>0.0000</td>\n      <td>0.0000</td>\n      <td>0.0000</td>\n      <td>0.0020</td>\n      <td>0.0025</td>\n      <td>0.1524</td>\n      <td>0.0</td>\n      <td>0.0</td>\n      <td>0.0</td>\n      <td>0.0</td>\n      <td>6.0</td>\n      <td>7.5</td>\n      <td>457.2</td>\n    </tr>\n    <tr>\n      <th>2008</th>\n      <td>0.0</td>\n      <td>0.0038</td>\n      <td>0.0039</td>\n      <td>0.0049</td>\n      <td>0.0081</td>\n      <td>0.0411</td>\n      <td>0.2727</td>\n      <td>0.0</td>\n      <td>11.4</td>\n      <td>11.7</td>\n      <td>14.7</td>\n      <td>24.3</td>\n      <td>123.3</td>\n      <td>818.1</td>\n    </tr>\n    <tr>\n      <th>2009</th>\n      <td>0.0</td>\n      <td>0.0000</td>\n      <td>0.0022</td>\n      <td>0.0055</td>\n      <td>0.0075</td>\n      <td>0.1103</td>\n      <td>0.4946</td>\n      <td>0.0</td>\n      <td>0.0</td>\n      <td>6.6</td>\n      <td>16.5</td>\n      <td>22.5</td>\n      <td>330.9</td>\n      <td>1483.8</td>\n    </tr>\n    <tr>\n      <th>2010</th>\n      <td>0.0</td>\n      <td>0.0000</td>\n      <td>0.0000</td>\n      <td>0.0000</td>\n      <td>0.0058</td>\n      <td>0.0087</td>\n      <td>0.2283</td>\n      <td>0.0</td>\n      <td>0.0</td>\n      <td>0.0</td>\n      <td>0.0</td>\n      <td>17.4</td>\n      <td>26.1</td>\n      <td>684.9</td>\n    </tr>\n    <tr>\n      <th>2011</th>\n      <td>0.0</td>\n      <td>0.0000</td>\n      <td>0.0000</td>\n      <td>0.0007</td>\n      <td>0.0000</td>\n      <td>0.0168</td>\n      <td>0.1642</td>\n      <td>0.0</td>\n      <td>0.0</td>\n      <td>0.0</td>\n      <td>2.1</td>\n      <td>0.0</td>\n      <td>50.4</td>\n      <td>492.6</td>\n    </tr>\n    <tr>\n      <th>2012</th>\n      <td>0.0</td>\n      <td>0.0000</td>\n      <td>0.0000</td>\n      <td>0.0000</td>\n      <td>0.0030</td>\n      <td>0.0158</td>\n      <td>0.2752</td>\n      <td>0.0</td>\n      <td>0.0</td>\n      <td>0.0</td>\n      <td>0.0</td>\n      <td>9.0</td>\n      <td>47.4</td>\n      <td>825.6</td>\n    </tr>\n    <tr>\n      <th>2013</th>\n      <td>0.0</td>\n      <td>0.0000</td>\n      <td>0.0000</td>\n      <td>0.0000</td>\n      <td>0.0010</td>\n      <td>0.0165</td>\n      <td>0.2467</td>\n      <td>0.0</td>\n      <td>0.0</td>\n      <td>0.0</td>\n      <td>0.0</td>\n      <td>3.0</td>\n      <td>49.5</td>\n      <td>740.1</td>\n    </tr>\n    <tr>\n      <th>2014</th>\n      <td>0.0</td>\n      <td>0.0000</td>\n      <td>0.0000</td>\n      <td>0.0000</td>\n      <td>0.0000</td>\n      <td>0.0078</td>\n      <td>0.1751</td>\n      <td>0.0</td>\n      <td>0.0</td>\n      <td>0.0</td>\n      <td>0.0</td>\n      <td>0.0</td>\n      <td>23.4</td>\n      <td>525.3</td>\n    </tr>\n    <tr>\n      <th>2015</th>\n      <td>0.0</td>\n      <td>0.0000</td>\n      <td>0.0000</td>\n      <td>0.0000</td>\n      <td>0.0016</td>\n      <td>0.0242</td>\n      <td>0.2667</td>\n      <td>0.0</td>\n      <td>0.0</td>\n      <td>0.0</td>\n      <td>0.0</td>\n      <td>4.8</td>\n      <td>72.6</td>\n      <td>800.1</td>\n    </tr>\n    <tr>\n      <th>2016</th>\n      <td>0.0</td>\n      <td>0.0000</td>\n      <td>0.0000</td>\n      <td>0.0006</td>\n      <td>0.0047</td>\n      <td>0.0376</td>\n      <td>0.3317</td>\n      <td>0.0</td>\n      <td>0.0</td>\n      <td>0.0</td>\n      <td>1.8</td>\n      <td>14.1</td>\n      <td>112.8</td>\n      <td>995.1</td>\n    </tr>\n    <tr>\n      <th>2017</th>\n      <td>0.0</td>\n      <td>0.0000</td>\n      <td>0.0000</td>\n      <td>0.0000</td>\n      <td>0.0008</td>\n      <td>0.0100</td>\n      <td>0.2656</td>\n      <td>0.0</td>\n      <td>0.0</td>\n      <td>0.0</td>\n      <td>0.0</td>\n      <td>2.4</td>\n      <td>30.0</td>\n      <td>796.8</td>\n    </tr>\n    <tr>\n      <th>2018</th>\n      <td>0.0</td>\n      <td>0.0000</td>\n      <td>0.0000</td>\n      <td>0.0000</td>\n      <td>0.0000</td>\n      <td>0.0099</td>\n      <td>0.2718</td>\n      <td>0.0</td>\n      <td>0.0</td>\n      <td>0.0</td>\n      <td>0.0</td>\n      <td>0.0</td>\n      <td>29.7</td>\n      <td>815.4</td>\n    </tr>\n    <tr>\n      <th>2019</th>\n      <td>0.0</td>\n      <td>0.0000</td>\n      <td>0.0000</td>\n      <td>0.0011</td>\n      <td>0.0000</td>\n      <td>0.0149</td>\n      <td>0.2976</td>\n      <td>0.0</td>\n      <td>0.0</td>\n      <td>0.0</td>\n      <td>3.3</td>\n      <td>0.0</td>\n      <td>44.7</td>\n      <td>892.8</td>\n    </tr>\n    <tr>\n      <th>2020</th>\n      <td>0.0</td>\n      <td>0.0000</td>\n      <td>0.0000</td>\n      <td>0.0000</td>\n      <td>0.0093</td>\n      <td>0.0352</td>\n      <td>0.4748</td>\n      <td>0.0</td>\n      <td>0.0</td>\n      <td>0.0</td>\n      <td>0.0</td>\n      <td>27.9</td>\n      <td>105.6</td>\n      <td>1424.4</td>\n    </tr>\n  </tbody>\n</table>\n</div>"
     },
     "execution_count": 6,
     "metadata": {},
     "output_type": "execute_result"
    }
   ],
   "source": [
    "grades_data"
   ],
   "metadata": {
    "collapsed": false,
    "ExecuteTime": {
     "end_time": "2024-04-08T19:30:10.622557500Z",
     "start_time": "2024-04-08T19:30:10.388806300Z"
    }
   },
   "id": "efdee26b794fecb1"
  },
  {
   "cell_type": "code",
   "execution_count": 7,
   "outputs": [
    {
     "data": {
      "text/plain": "A defaults           63.6\nBBB defaults        233.7\nBB defaults        1026.9\nB defaults         5029.5\nCCC/C defaults    29903.1\ndtype: float64"
     },
     "execution_count": 7,
     "metadata": {},
     "output_type": "execute_result"
    }
   ],
   "source": [
    "grades_data.iloc[:, -5:].sum(axis=0)"
   ],
   "metadata": {
    "collapsed": false,
    "ExecuteTime": {
     "end_time": "2024-04-08T19:30:10.624556700Z",
     "start_time": "2024-04-08T19:30:10.449811600Z"
    }
   },
   "id": "80dd0b642bd4548e"
  },
  {
   "cell_type": "code",
   "execution_count": 8,
   "outputs": [],
   "source": [
    "num_of_rows = grades_data.shape[0]\n",
    "n_g_over_time = [n_g_assumption] * grades_data.shape[0]"
   ],
   "metadata": {
    "collapsed": false,
    "ExecuteTime": {
     "end_time": "2024-04-08T19:30:10.625557200Z",
     "start_time": "2024-04-08T19:30:10.465547900Z"
    }
   },
   "id": "428a21e00ad2de35"
  },
  {
   "cell_type": "code",
   "execution_count": 9,
   "outputs": [],
   "source": [
    "# Choose last four columns and calculate the sum of defaults\n",
    "d_g = grades_data.iloc[:, -5:].sum(axis=0).tolist()\n",
    "d_g = [int(round(x)) for x in d_g]\n",
    "n_g = [n_g_assumption * grades_data.shape[0]] * len(d_g)"
   ],
   "metadata": {
    "collapsed": false,
    "ExecuteTime": {
     "end_time": "2024-04-08T19:30:10.626557900Z",
     "start_time": "2024-04-08T19:30:10.477545900Z"
    }
   },
   "id": "2057f5d3719df0ee"
  },
  {
   "cell_type": "code",
   "execution_count": 10,
   "outputs": [
    {
     "data": {
      "text/plain": "([64, 234, 1027, 5030, 29903], [120000, 120000, 120000, 120000, 120000])"
     },
     "execution_count": 10,
     "metadata": {},
     "output_type": "execute_result"
    }
   ],
   "source": [
    "d_g, n_g"
   ],
   "metadata": {
    "collapsed": false,
    "ExecuteTime": {
     "end_time": "2024-04-08T19:30:10.676560600Z",
     "start_time": "2024-04-08T19:30:10.497548600Z"
    }
   },
   "id": "7e0a8ee4ee8388c2"
  },
  {
   "cell_type": "code",
   "execution_count": 11,
   "outputs": [
    {
     "name": "stdout",
     "output_type": "stream",
     "text": [
      "Estimated parameters with method of moments for grade A: 0.08840467326136718 -3.274097580352716\n",
      "Estimated parameters with method of moments for grade BBB: 0.09821019378284787 -2.8865426119490847\n",
      "Estimated parameters with method of moments for grade BB: 0.12221489166349328 -2.3842278912651227\n",
      "Estimated parameters with method of moments for grade B: 0.10813871371837049 -1.728911139866942\n",
      "Estimated parameters with method of moments for grade CCC/C: 0.13016212757270598 -0.6770330266259245\n"
     ]
    }
   ],
   "source": [
    "# MM for A, BBB, BB, B, CCC/C\n",
    "# Call estimate_w_factor_loading function for each grade\n",
    "num_of_rows = grades_data.shape[0]\n",
    "n_g_over_time = np.array([n_g_assumption] * num_of_rows)\n",
    "\n",
    "MM_params = {}\n",
    "for grade in [\"A\", \"BBB\", \"BB\", \"B\", \"CCC/C\"]:\n",
    "    MM_params[grade] = estimate_w_factor_loading(grades_data[grade], n_g_over_time, initial_guess=0.45)\n",
    "    print(f\"Estimated parameters with method of moments for grade {grade}:\", MM_params[grade][0], norm.ppf(MM_params[grade][1]))"
   ],
   "metadata": {
    "collapsed": false,
    "ExecuteTime": {
     "end_time": "2024-04-08T19:30:10.927059200Z",
     "start_time": "2024-04-08T19:30:10.508549600Z"
    }
   },
   "id": "aeaa31e8333f147a"
  },
  {
   "cell_type": "code",
   "execution_count": 12,
   "outputs": [
    {
     "name": "stdout",
     "output_type": "stream",
     "text": [
      "Estimated parameters with method of moments for grade A: 0.08840467326136718 -3.274097580352716 0.0005299999999999999\n"
     ]
    }
   ],
   "source": [
    "MM_params_for_A_grade = estimate_w_factor_loading(grades_data[\"A\"], n_g_over_time, initial_guess=0.45)\n",
    "print(f\"Estimated parameters with method of moments for grade A:\", MM_params_for_A_grade[0], norm.ppf(MM_params_for_A_grade[1]), MM_params_for_A_grade[1])"
   ],
   "metadata": {
    "collapsed": false,
    "ExecuteTime": {
     "end_time": "2024-04-08T19:30:10.928058900Z",
     "start_time": "2024-04-08T19:30:10.732578700Z"
    }
   },
   "id": "f0956282aec679af"
  },
  {
   "cell_type": "code",
   "execution_count": 13,
   "outputs": [
    {
     "name": "stdout",
     "output_type": "stream",
     "text": [
      "Estimated parameters with method of moments for grade A: 0.1 -3.274097580352716 0.0005299999999999999\n"
     ]
    }
   ],
   "source": [
    "MM_params_for_A_grade = estimate_w_factor_loading(grades_data[\"A\"], n_g_over_time, initial_guess=0.1)\n",
    "print(f\"Estimated parameters with method of moments for grade A:\", MM_params_for_A_grade[0], norm.ppf(MM_params_for_A_grade[1]), MM_params_for_A_grade[1])"
   ],
   "metadata": {
    "collapsed": false,
    "ExecuteTime": {
     "end_time": "2024-04-08T19:30:10.929058400Z",
     "start_time": "2024-04-08T19:30:10.762569700Z"
    }
   },
   "id": "94f37924993d3615"
  },
  {
   "cell_type": "code",
   "execution_count": 14,
   "outputs": [
    {
     "data": {
      "text/plain": "{'A': (0.08840467326136718, 0.0005299999999999999),\n 'BBB': (0.09821019378284787, 0.0019475),\n 'BB': (0.12221489166349328, 0.0085575),\n 'B': (0.10813871371837049, 0.041912500000000005),\n 'CCC/C': (0.13016212757270598, 0.2491925)}"
     },
     "execution_count": 14,
     "metadata": {},
     "output_type": "execute_result"
    }
   ],
   "source": [
    "MM_params"
   ],
   "metadata": {
    "collapsed": false,
    "ExecuteTime": {
     "end_time": "2024-04-08T19:30:10.930061500Z",
     "start_time": "2024-04-08T19:30:10.782049600Z"
    }
   },
   "id": "f130146f5d291396"
  },
  {
   "cell_type": "code",
   "execution_count": 15,
   "outputs": [
    {
     "name": "stdout",
     "output_type": "stream",
     "text": [
      "When `allow_singular is False`, the input matrix must be symmetric positive definite.\n"
     ]
    }
   ],
   "source": [
    "historical_pd = grades_data[\"CCC/C\"]\n",
    "pd_average = np.mean(historical_pd)\n",
    "\n",
    "expected_value_of_reciprocal_n_g = np.mean(1 / n_g_over_time)\n",
    "\n",
    "variance_of_p_d = (np.var(historical_pd) - expected_value_of_reciprocal_n_g * pd_average * (1 - pd_average)) / (\n",
    "                1 - expected_value_of_reciprocal_n_g)\n",
    "\n",
    "try:\n",
    "    calc_variance_of_default_rate(1.0, pd_average)\n",
    "except ValueError as e:\n",
    "    print(e)"
   ],
   "metadata": {
    "collapsed": false,
    "ExecuteTime": {
     "end_time": "2024-04-08T19:30:10.931060900Z",
     "start_time": "2024-04-08T19:30:10.795050900Z"
    }
   },
   "id": "beb337db8b65cf9f"
  },
  {
   "cell_type": "code",
   "execution_count": 16,
   "outputs": [
    {
     "data": {
      "text/plain": "<Figure size 640x480 with 1 Axes>",
      "image/png": "[encoded data removed]"
     },
     "metadata": {},
     "output_type": "display_data"
    }
   ],
   "source": [
    "object_function = lambda w: abs(calc_variance_of_default_rate(w, pd_average) - variance_of_p_d)\n",
    "\n",
    "# Plot the objective function from -0.99 to 0.99\n",
    "w_values = np.linspace(-0.99, 0.99, 100)\n",
    "objective_values = [object_function(w) for w in w_values]\n",
    "\n",
    "import matplotlib.pyplot as plt\n",
    "\n",
    "plt.plot(w_values, objective_values)\n",
    "plt.xlabel(\"w\")\n",
    "plt.ylabel(\"Objective function\")\n",
    "plt.title(\"Objective function for w\")\n",
    "plt.show()"
   ],
   "metadata": {
    "collapsed": false,
    "ExecuteTime": {
     "end_time": "2024-04-08T19:30:12.243791200Z",
     "start_time": "2024-04-08T19:30:10.814052900Z"
    }
   },
   "id": "e0b82b954ac4da0d"
  },
  {
   "cell_type": "code",
   "execution_count": 17,
   "outputs": [],
   "source": [
    "from src.ML_estimation import parameter_estimation\n",
    "\n",
    "# gamma init euqals to norm.ppf(MM_params values[1])\n",
    "gamma_init = [norm.ppf(MM_params[grade][1]) for grade in [\"A\", \"BBB\", \"BB\", \"B\", \"CCC/C\"]]\n",
    "#w_init = [MM_params[grade][0] for grade in [\"A\", \"BBB\", \"BB\", \"B\", \"CCC/C\"]]\n",
    "w_init = [0.1, 0.1, 0.1, 0.1, 0.1]\n",
    "\n",
    "ML_estimation = parameter_estimation(d_g, n_g, w_init, gamma_init)\n",
    "ML_params = ML_estimation.x"
   ],
   "metadata": {
    "collapsed": false,
    "ExecuteTime": {
     "end_time": "2024-04-08T19:30:27.136591700Z",
     "start_time": "2024-04-08T19:30:12.244788700Z"
    }
   },
   "id": "8b049323900d30f3"
  },
  {
   "cell_type": "code",
   "execution_count": 18,
   "outputs": [
    {
     "data": {
      "text/plain": "array([-3.27235190e+00, -2.88614321e+00, -2.38420155e+00, -1.72885781e+00,\n       -6.77042817e-01,  2.38315079e-06,  8.25326902e-02,  1.15730247e-01,\n        1.57876672e-01,  1.35188120e-01])"
     },
     "execution_count": 18,
     "metadata": {},
     "output_type": "execute_result"
    }
   ],
   "source": [
    "ML_params"
   ],
   "metadata": {
    "collapsed": false,
    "ExecuteTime": {
     "end_time": "2024-04-08T19:30:27.154589300Z",
     "start_time": "2024-04-08T19:30:27.141585600Z"
    }
   },
   "id": "8c1190acab30d2e0"
  },
  {
   "cell_type": "code",
   "execution_count": 19,
   "outputs": [
    {
     "data": {
      "text/plain": "array([-3.27235190e+00, -2.88614321e+00, -2.38420155e+00, -1.72885781e+00,\n       -6.77042817e-01,  2.38315079e-06,  8.25326902e-02,  1.15730247e-01,\n        1.57876672e-01,  1.35188120e-01])"
     },
     "execution_count": 19,
     "metadata": {},
     "output_type": "execute_result"
    }
   ],
   "source": [
    "w_init = [0.1, 0.1, 0.1, 0.1, 0.1]\n",
    "\n",
    "ML_estimation = parameter_estimation(d_g, n_g, w_init, gamma_init)\n",
    "ML_estimation.x"
   ],
   "metadata": {
    "collapsed": false,
    "ExecuteTime": {
     "end_time": "2024-04-08T19:30:40.571648500Z",
     "start_time": "2024-04-08T19:30:27.156587200Z"
    }
   },
   "id": "3a3ccd01777f0fe1"
  },
  {
   "cell_type": "code",
   "execution_count": 20,
   "outputs": [
    {
     "data": {
      "text/plain": "([-3.274097580352716,\n  -2.8865426119490847,\n  -2.3842278912651227,\n  -1.728911139866942,\n  -0.6770330266259245],\n [0.1, 0.1, 0.1, 0.1, 0.1])"
     },
     "execution_count": 20,
     "metadata": {},
     "output_type": "execute_result"
    }
   ],
   "source": [
    "gamma_init, w_init"
   ],
   "metadata": {
    "collapsed": false,
    "ExecuteTime": {
     "end_time": "2024-04-08T19:30:40.622651500Z",
     "start_time": "2024-04-08T19:30:40.574649800Z"
    }
   },
   "id": "a5a514dcd2ff0238"
  },
  {
   "cell_type": "code",
   "execution_count": 21,
   "outputs": [],
   "source": [
    "gamma_init = [norm.ppf(MM_params[grade][1]) for grade in [\"A\", \"BBB\", \"BB\", \"B\", \"CCC/C\"]]\n",
    "w_init = [0.13]\n",
    "\n",
    "ML_estimation2 = parameter_estimation(d_g, n_g, w_init, gamma_init)\n",
    "ML_params2 = ML_estimation2.x"
   ],
   "metadata": {
    "collapsed": false,
    "ExecuteTime": {
     "end_time": "2024-04-08T19:30:45.672043100Z",
     "start_time": "2024-04-08T19:30:40.589653600Z"
    }
   },
   "id": "de49c2cfdfb233da"
  },
  {
   "cell_type": "code",
   "execution_count": 22,
   "outputs": [
    {
     "data": {
      "text/plain": "array([-3.2576914 , -2.87455514, -2.37697176, -1.72741468, -0.684804  ,\n        0.13191732])"
     },
     "execution_count": 22,
     "metadata": {},
     "output_type": "execute_result"
    }
   ],
   "source": [
    "ML_params2"
   ],
   "metadata": {
    "collapsed": false,
    "ExecuteTime": {
     "end_time": "2024-04-08T19:30:45.691039900Z",
     "start_time": "2024-04-08T19:30:45.676042200Z"
    }
   },
   "id": "fe27035768935bcd"
  },
  {
   "cell_type": "code",
   "execution_count": 23,
   "outputs": [],
   "source": [
    "# Change the initial guess for w from 0.05 to 0.25 with step 0.005\n",
    "w_values = np.linspace(0.05, 0.25, 41)\n",
    "ML_params_for_w = []\n",
    "for w in w_values:\n",
    "    ML_estimation_w = parameter_estimation(d_g, n_g, [w], gamma_init)\n",
    "    ML_params_for_w.append(ML_estimation_w.x)"
   ],
   "metadata": {
    "collapsed": false,
    "ExecuteTime": {
     "end_time": "2024-04-08T19:35:21.281577800Z",
     "start_time": "2024-04-08T19:30:45.686043800Z"
    }
   },
   "id": "c65aaee2b80a0a9"
  },
  {
   "cell_type": "code",
   "execution_count": 24,
   "outputs": [
    {
     "data": {
      "text/plain": "<Figure size 640x480 with 1 Axes>",
      "image/png": "[encoded data removed]"
     },
     "metadata": {},
     "output_type": "display_data"
    }
   ],
   "source": [
    "# Plot the results\n",
    "plt.plot(w_values, [x[5] for x in ML_params_for_w])\n",
    "# add f(x) = x line\n",
    "plt.plot(w_values, w_values, linestyle='dashed')\n",
    "plt.xlabel(\"w\")\n",
    "plt.ylabel(\"Estimated w\")\n",
    "plt.title(\"Estimated w for different initial guesses\")\n",
    "plt.show()"
   ],
   "metadata": {
    "collapsed": false,
    "ExecuteTime": {
     "end_time": "2024-04-08T19:35:21.612601Z",
     "start_time": "2024-04-08T19:35:21.285581300Z"
    }
   },
   "id": "4ec8db02c8dd334d"
  },
  {
   "cell_type": "code",
   "execution_count": 25,
   "outputs": [
    {
     "name": "stderr",
     "output_type": "stream",
     "text": [
      "C:\\Users\\kissp\\PycharmProjects\\VasicekPDModell\\src\\ML_estimation.py:185: RuntimeWarning: divide by zero encountered in log\n",
      "  objective_function = lambda params: -np.log(calculate_my_likelihood_arr(\n"
     ]
    }
   ],
   "source": [
    "ML_estimation_w = parameter_estimation(d_g, n_g, [0.5], gamma_init)"
   ],
   "metadata": {
    "collapsed": false,
    "ExecuteTime": {
     "end_time": "2024-04-08T19:35:28.091726100Z",
     "start_time": "2024-04-08T19:35:21.605613500Z"
    }
   },
   "id": "e7dea6a2870c0e46"
  },
  {
   "cell_type": "code",
   "execution_count": 26,
   "outputs": [
    {
     "data": {
      "text/plain": "       message: Optimization terminated successfully.\n       success: True\n        status: 0\n           fun: 25.056272359217225\n             x: [-3.002e+00 -2.667e+00 -2.232e+00 -1.663e+00 -7.509e-01\n                  4.976e-01]\n           nit: 151\n          nfev: 256\n final_simplex: (array([[-3.002e+00, -2.667e+00, ..., -7.509e-01,\n                         4.976e-01],\n                       [-3.002e+00, -2.667e+00, ..., -7.509e-01,\n                         4.976e-01],\n                       ...,\n                       [-3.002e+00, -2.667e+00, ..., -7.509e-01,\n                         4.976e-01],\n                       [-3.002e+00, -2.667e+00, ..., -7.509e-01,\n                         4.976e-01]]), array([ 2.506e+01,  2.506e+01,  2.506e+01,  2.506e+01,\n                        2.506e+01,  2.506e+01,  2.506e+01]))"
     },
     "execution_count": 26,
     "metadata": {},
     "output_type": "execute_result"
    }
   ],
   "source": [
    "ML_estimation_w"
   ],
   "metadata": {
    "collapsed": false,
    "ExecuteTime": {
     "end_time": "2024-04-08T19:35:28.112727Z",
     "start_time": "2024-04-08T19:35:28.093726700Z"
    }
   },
   "id": "19806e1eab30c5ee"
  },
  {
   "cell_type": "code",
   "execution_count": 26,
   "outputs": [],
   "source": [],
   "metadata": {
    "collapsed": false,
    "ExecuteTime": {
     "end_time": "2024-04-08T19:35:28.168739200Z",
     "start_time": "2024-04-08T19:35:28.109730400Z"
    }
   },
   "id": "6d024d9a41e5d445"
  },
  {
   "cell_type": "code",
   "execution_count": 26,
   "outputs": [],
   "source": [],
   "metadata": {
    "collapsed": false,
    "ExecuteTime": {
     "end_time": "2024-04-08T19:35:28.190788800Z",
     "start_time": "2024-04-08T19:35:28.124734100Z"
    }
   },
   "id": "2ac0b898a2dc5e2a"
  }
 ],
 "metadata": {
  "kernelspec": {
   "name": "python3",
   "language": "python",
   "display_name": "Python 3 (ipykernel)"
  },
  "language_info": {
   "codemirror_mode": {
    "name": "ipython",
    "version": 2
   },
   "file_extension": ".py",
   "mimetype": "text/x-python",
   "name": "python",
   "nbconvert_exporter": "python",
   "pygments_lexer": "ipython2",
   "version": "2.7.6"
  }
 },
 "nbformat": 4,
 "nbformat_minor": 5
}
