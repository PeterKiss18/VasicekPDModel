{
 "cells": [
  {
   "cell_type": "code",
   "execution_count": 1,
   "id": "initial_id",
   "metadata": {
    "collapsed": true,
    "ExecuteTime": {
     "end_time": "2024-04-10T13:55:10.857596600Z",
     "start_time": "2024-04-10T13:55:07.313086600Z"
    }
   },
   "outputs": [],
   "source": [
    "import pandas as pd\n",
    "import numpy as np\n",
    "import matplotlib.pyplot as plt\n",
    "from scipy.stats import norm\n",
    "from src.MM_estimation import estimate_w_factor_loading, calc_variance_of_default_rate\n",
    "from src.ML_estimation import calculate_my_likelihood_arr\n",
    "from src.ML_estimation import ml_estimation_linear_with_w_and_g\n",
    "from src.ML_estimation import parameter_estimation\n",
    "from src.variable_change import a_calc_func, b_calc_func, w_calc_func, gamma_calc_func\n",
    "from src.ML_estimation import calculate_variable_changed_likelihood_arr\n",
    "from src.sucess_probability import p_g\n",
    "from scipy.optimize import minimize"
   ]
  },
  {
   "cell_type": "code",
   "execution_count": 2,
   "outputs": [],
   "source": [
    "# Load the data\n",
    "grades_data = pd.read_csv('data/grades_hist_pd.csv', sep=';', index_col=0)\n",
    "\n",
    "for col_name in grades_data.columns:\n",
    "    grades_data[col_name] = grades_data[col_name] / 100\n",
    "    \n",
    "grades_cols = grades_data.columns"
   ],
   "metadata": {
    "collapsed": false,
    "ExecuteTime": {
     "end_time": "2024-04-10T13:55:10.919601800Z",
     "start_time": "2024-04-10T13:55:10.860597400Z"
    }
   },
   "id": "174c6076efdfee0b"
  },
  {
   "cell_type": "code",
   "execution_count": 3,
   "outputs": [
    {
     "data": {
      "text/plain": "      AAA   AA       A     BBB      BB       B   CCC/C\nYear                                                  \n1981  0.0  0.0  0.0000  0.0000  0.0000  0.0233  0.0000\n1982  0.0  0.0  0.0021  0.0035  0.0424  0.0318  0.2143\n1983  0.0  0.0  0.0000  0.0034  0.0116  0.0470  0.0667\n1984  0.0  0.0  0.0000  0.0068  0.0114  0.0349  0.2500\n1985  0.0  0.0  0.0000  0.0000  0.0150  0.0653  0.1538",
      "text/html": "<div>\n<style scoped>\n    .dataframe tbody tr th:only-of-type {\n        vertical-align: middle;\n    }\n\n    .dataframe tbody tr th {\n        vertical-align: top;\n    }\n\n    .dataframe thead th {\n        text-align: right;\n    }\n</style>\n<table border=\"1\" class=\"dataframe\">\n  <thead>\n    <tr style=\"text-align: right;\">\n      <th></th>\n      <th>AAA</th>\n      <th>AA</th>\n      <th>A</th>\n      <th>BBB</th>\n      <th>BB</th>\n      <th>B</th>\n      <th>CCC/C</th>\n    </tr>\n    <tr>\n      <th>Year</th>\n      <th></th>\n      <th></th>\n      <th></th>\n      <th></th>\n      <th></th>\n      <th></th>\n      <th></th>\n    </tr>\n  </thead>\n  <tbody>\n    <tr>\n      <th>1981</th>\n      <td>0.0</td>\n      <td>0.0</td>\n      <td>0.0000</td>\n      <td>0.0000</td>\n      <td>0.0000</td>\n      <td>0.0233</td>\n      <td>0.0000</td>\n    </tr>\n    <tr>\n      <th>1982</th>\n      <td>0.0</td>\n      <td>0.0</td>\n      <td>0.0021</td>\n      <td>0.0035</td>\n      <td>0.0424</td>\n      <td>0.0318</td>\n      <td>0.2143</td>\n    </tr>\n    <tr>\n      <th>1983</th>\n      <td>0.0</td>\n      <td>0.0</td>\n      <td>0.0000</td>\n      <td>0.0034</td>\n      <td>0.0116</td>\n      <td>0.0470</td>\n      <td>0.0667</td>\n    </tr>\n    <tr>\n      <th>1984</th>\n      <td>0.0</td>\n      <td>0.0</td>\n      <td>0.0000</td>\n      <td>0.0068</td>\n      <td>0.0114</td>\n      <td>0.0349</td>\n      <td>0.2500</td>\n    </tr>\n    <tr>\n      <th>1985</th>\n      <td>0.0</td>\n      <td>0.0</td>\n      <td>0.0000</td>\n      <td>0.0000</td>\n      <td>0.0150</td>\n      <td>0.0653</td>\n      <td>0.1538</td>\n    </tr>\n  </tbody>\n</table>\n</div>"
     },
     "execution_count": 3,
     "metadata": {},
     "output_type": "execute_result"
    }
   ],
   "source": [
    "grades_data.head()"
   ],
   "metadata": {
    "collapsed": false,
    "ExecuteTime": {
     "end_time": "2024-04-10T13:55:10.946603800Z",
     "start_time": "2024-04-10T13:55:10.891598900Z"
    }
   },
   "id": "5d9648dee7151bd4"
  },
  {
   "cell_type": "code",
   "execution_count": 4,
   "outputs": [],
   "source": [
    "# Assumption every grade has 10000 obligors\n",
    "n_g_assumption = 3000"
   ],
   "metadata": {
    "collapsed": false,
    "ExecuteTime": {
     "end_time": "2024-04-10T13:55:10.947603900Z",
     "start_time": "2024-04-10T13:55:10.917601600Z"
    }
   },
   "id": "621487d90fec2072"
  },
  {
   "cell_type": "code",
   "execution_count": 5,
   "outputs": [],
   "source": [
    "for col_name in grades_cols:\n",
    "    grades_data[str(col_name) + \" defaults\"] = (n_g_assumption * grades_data[col_name])"
   ],
   "metadata": {
    "collapsed": false,
    "ExecuteTime": {
     "end_time": "2024-04-10T13:55:11.016608Z",
     "start_time": "2024-04-10T13:55:10.934604900Z"
    }
   },
   "id": "ddd163cf4d8568b2"
  },
  {
   "cell_type": "code",
   "execution_count": 6,
   "outputs": [
    {
     "data": {
      "text/plain": "      AAA      AA       A     BBB      BB       B   CCC/C  AAA defaults  \\\nYear                                                                      \n1981  0.0  0.0000  0.0000  0.0000  0.0000  0.0233  0.0000           0.0   \n1982  0.0  0.0000  0.0021  0.0035  0.0424  0.0318  0.2143           0.0   \n1983  0.0  0.0000  0.0000  0.0034  0.0116  0.0470  0.0667           0.0   \n1984  0.0  0.0000  0.0000  0.0068  0.0114  0.0349  0.2500           0.0   \n1985  0.0  0.0000  0.0000  0.0000  0.0150  0.0653  0.1538           0.0   \n1986  0.0  0.0000  0.0018  0.0034  0.0133  0.0845  0.2308           0.0   \n1987  0.0  0.0000  0.0000  0.0000  0.0038  0.0313  0.1228           0.0   \n1988  0.0  0.0000  0.0000  0.0000  0.0105  0.0368  0.2037           0.0   \n1989  0.0  0.0000  0.0018  0.0061  0.0073  0.0340  0.3333           0.0   \n1990  0.0  0.0000  0.0000  0.0058  0.0357  0.0856  0.3125           0.0   \n1991  0.0  0.0000  0.0000  0.0055  0.0169  0.1384  0.3387           0.0   \n1992  0.0  0.0000  0.0000  0.0000  0.0000  0.0699  0.3019           0.0   \n1993  0.0  0.0000  0.0000  0.0000  0.0070  0.0262  0.1333           0.0   \n1994  0.0  0.0000  0.0014  0.0000  0.0028  0.0309  0.1667           0.0   \n1995  0.0  0.0000  0.0000  0.0017  0.0099  0.0459  0.2800           0.0   \n1996  0.0  0.0000  0.0000  0.0000  0.0045  0.0291  0.0800           0.0   \n1997  0.0  0.0000  0.0000  0.0025  0.0019  0.0352  0.1200           0.0   \n1998  0.0  0.0000  0.0000  0.0041  0.0082  0.0464  0.4286           0.0   \n1999  0.0  0.0017  0.0018  0.0020  0.0095  0.0731  0.3382           0.0   \n2000  0.0  0.0000  0.0027  0.0037  0.0116  0.0771  0.3596           0.0   \n2001  0.0  0.0000  0.0027  0.0034  0.0298  0.1156  0.4545           0.0   \n2002  0.0  0.0000  0.0000  0.0102  0.0290  0.0820  0.4444           0.0   \n2003  0.0  0.0000  0.0000  0.0023  0.0059  0.0407  0.3293           0.0   \n2004  0.0  0.0000  0.0008  0.0000  0.0044  0.0145  0.1630           0.0   \n2005  0.0  0.0000  0.0000  0.0007  0.0031  0.0175  0.0909           0.0   \n2006  0.0  0.0000  0.0000  0.0000  0.0030  0.0082  0.1333           0.0   \n2007  0.0  0.0000  0.0000  0.0000  0.0020  0.0025  0.1524           0.0   \n2008  0.0  0.0038  0.0039  0.0049  0.0081  0.0411  0.2727           0.0   \n2009  0.0  0.0000  0.0022  0.0055  0.0075  0.1103  0.4946           0.0   \n2010  0.0  0.0000  0.0000  0.0000  0.0058  0.0087  0.2283           0.0   \n2011  0.0  0.0000  0.0000  0.0007  0.0000  0.0168  0.1642           0.0   \n2012  0.0  0.0000  0.0000  0.0000  0.0030  0.0158  0.2752           0.0   \n2013  0.0  0.0000  0.0000  0.0000  0.0010  0.0165  0.2467           0.0   \n2014  0.0  0.0000  0.0000  0.0000  0.0000  0.0078  0.1751           0.0   \n2015  0.0  0.0000  0.0000  0.0000  0.0016  0.0242  0.2667           0.0   \n2016  0.0  0.0000  0.0000  0.0006  0.0047  0.0376  0.3317           0.0   \n2017  0.0  0.0000  0.0000  0.0000  0.0008  0.0100  0.2656           0.0   \n2018  0.0  0.0000  0.0000  0.0000  0.0000  0.0099  0.2718           0.0   \n2019  0.0  0.0000  0.0000  0.0011  0.0000  0.0149  0.2976           0.0   \n2020  0.0  0.0000  0.0000  0.0000  0.0093  0.0352  0.4748           0.0   \n\n      AA defaults  A defaults  BBB defaults  BB defaults  B defaults  \\\nYear                                                                   \n1981          0.0         0.0           0.0          0.0        69.9   \n1982          0.0         6.3          10.5        127.2        95.4   \n1983          0.0         0.0          10.2         34.8       141.0   \n1984          0.0         0.0          20.4         34.2       104.7   \n1985          0.0         0.0           0.0         45.0       195.9   \n1986          0.0         5.4          10.2         39.9       253.5   \n1987          0.0         0.0           0.0         11.4        93.9   \n1988          0.0         0.0           0.0         31.5       110.4   \n1989          0.0         5.4          18.3         21.9       102.0   \n1990          0.0         0.0          17.4        107.1       256.8   \n1991          0.0         0.0          16.5         50.7       415.2   \n1992          0.0         0.0           0.0          0.0       209.7   \n1993          0.0         0.0           0.0         21.0        78.6   \n1994          0.0         4.2           0.0          8.4        92.7   \n1995          0.0         0.0           5.1         29.7       137.7   \n1996          0.0         0.0           0.0         13.5        87.3   \n1997          0.0         0.0           7.5          5.7       105.6   \n1998          0.0         0.0          12.3         24.6       139.2   \n1999          5.1         5.4           6.0         28.5       219.3   \n2000          0.0         8.1          11.1         34.8       231.3   \n2001          0.0         8.1          10.2         89.4       346.8   \n2002          0.0         0.0          30.6         87.0       246.0   \n2003          0.0         0.0           6.9         17.7       122.1   \n2004          0.0         2.4           0.0         13.2        43.5   \n2005          0.0         0.0           2.1          9.3        52.5   \n2006          0.0         0.0           0.0          9.0        24.6   \n2007          0.0         0.0           0.0          6.0         7.5   \n2008         11.4        11.7          14.7         24.3       123.3   \n2009          0.0         6.6          16.5         22.5       330.9   \n2010          0.0         0.0           0.0         17.4        26.1   \n2011          0.0         0.0           2.1          0.0        50.4   \n2012          0.0         0.0           0.0          9.0        47.4   \n2013          0.0         0.0           0.0          3.0        49.5   \n2014          0.0         0.0           0.0          0.0        23.4   \n2015          0.0         0.0           0.0          4.8        72.6   \n2016          0.0         0.0           1.8         14.1       112.8   \n2017          0.0         0.0           0.0          2.4        30.0   \n2018          0.0         0.0           0.0          0.0        29.7   \n2019          0.0         0.0           3.3          0.0        44.7   \n2020          0.0         0.0           0.0         27.9       105.6   \n\n      CCC/C defaults  \nYear                  \n1981             0.0  \n1982           642.9  \n1983           200.1  \n1984           750.0  \n1985           461.4  \n1986           692.4  \n1987           368.4  \n1988           611.1  \n1989           999.9  \n1990           937.5  \n1991          1016.1  \n1992           905.7  \n1993           399.9  \n1994           500.1  \n1995           840.0  \n1996           240.0  \n1997           360.0  \n1998          1285.8  \n1999          1014.6  \n2000          1078.8  \n2001          1363.5  \n2002          1333.2  \n2003           987.9  \n2004           489.0  \n2005           272.7  \n2006           399.9  \n2007           457.2  \n2008           818.1  \n2009          1483.8  \n2010           684.9  \n2011           492.6  \n2012           825.6  \n2013           740.1  \n2014           525.3  \n2015           800.1  \n2016           995.1  \n2017           796.8  \n2018           815.4  \n2019           892.8  \n2020          1424.4  ",
      "text/html": "<div>\n<style scoped>\n    .dataframe tbody tr th:only-of-type {\n        vertical-align: middle;\n    }\n\n    .dataframe tbody tr th {\n        vertical-align: top;\n    }\n\n    .dataframe thead th {\n        text-align: right;\n    }\n</style>\n<table border=\"1\" class=\"dataframe\">\n  <thead>\n    <tr style=\"text-align: right;\">\n      <th></th>\n      <th>AAA</th>\n      <th>AA</th>\n      <th>A</th>\n      <th>BBB</th>\n      <th>BB</th>\n      <th>B</th>\n      <th>CCC/C</th>\n      <th>AAA defaults</th>\n      <th>AA defaults</th>\n      <th>A defaults</th>\n      <th>BBB defaults</th>\n      <th>BB defaults</th>\n      <th>B defaults</th>\n      <th>CCC/C defaults</th>\n    </tr>\n    <tr>\n      <th>Year</th>\n      <th></th>\n      <th></th>\n      <th></th>\n      <th></th>\n      <th></th>\n      <th></th>\n      <th></th>\n      <th></th>\n      <th></th>\n      <th></th>\n      <th></th>\n      <th></th>\n      <th></th>\n      <th></th>\n    </tr>\n  </thead>\n  <tbody>\n    <tr>\n      <th>1981</th>\n      <td>0.0</td>\n      <td>0.0000</td>\n      <td>0.0000</td>\n      <td>0.0000</td>\n      <td>0.0000</td>\n      <td>0.0233</td>\n      <td>0.0000</td>\n      <td>0.0</td>\n      <td>0.0</td>\n      <td>0.0</td>\n      <td>0.0</td>\n      <td>0.0</td>\n      <td>69.9</td>\n      <td>0.0</td>\n    </tr>\n    <tr>\n      <th>1982</th>\n      <td>0.0</td>\n      <td>0.0000</td>\n      <td>0.0021</td>\n      <td>0.0035</td>\n      <td>0.0424</td>\n      <td>0.0318</td>\n      <td>0.2143</td>\n      <td>0.0</td>\n      <td>0.0</td>\n      <td>6.3</td>\n      <td>10.5</td>\n      <td>127.2</td>\n      <td>95.4</td>\n      <td>642.9</td>\n    </tr>\n    <tr>\n      <th>1983</th>\n      <td>0.0</td>\n      <td>0.0000</td>\n      <td>0.0000</td>\n      <td>0.0034</td>\n      <td>0.0116</td>\n      <td>0.0470</td>\n      <td>0.0667</td>\n      <td>0.0</td>\n      <td>0.0</td>\n      <td>0.0</td>\n      <td>10.2</td>\n      <td>34.8</td>\n      <td>141.0</td>\n      <td>200.1</td>\n    </tr>\n    <tr>\n      <th>1984</th>\n      <td>0.0</td>\n      <td>0.0000</td>\n      <td>0.0000</td>\n      <td>0.0068</td>\n      <td>0.0114</td>\n      <td>0.0349</td>\n      <td>0.2500</td>\n      <td>0.0</td>\n      <td>0.0</td>\n      <td>0.0</td>\n      <td>20.4</td>\n      <td>34.2</td>\n      <td>104.7</td>\n      <td>750.0</td>\n    </tr>\n    <tr>\n      <th>1985</th>\n      <td>0.0</td>\n      <td>0.0000</td>\n      <td>0.0000</td>\n      <td>0.0000</td>\n      <td>0.0150</td>\n      <td>0.0653</td>\n      <td>0.1538</td>\n      <td>0.0</td>\n      <td>0.0</td>\n      <td>0.0</td>\n      <td>0.0</td>\n      <td>45.0</td>\n      <td>195.9</td>\n      <td>461.4</td>\n    </tr>\n    <tr>\n      <th>1986</th>\n      <td>0.0</td>\n      <td>0.0000</td>\n      <td>0.0018</td>\n      <td>0.0034</td>\n      <td>0.0133</td>\n      <td>0.0845</td>\n      <td>0.2308</td>\n      <td>0.0</td>\n      <td>0.0</td>\n      <td>5.4</td>\n      <td>10.2</td>\n      <td>39.9</td>\n      <td>253.5</td>\n      <td>692.4</td>\n    </tr>\n    <tr>\n      <th>1987</th>\n      <td>0.0</td>\n      <td>0.0000</td>\n      <td>0.0000</td>\n      <td>0.0000</td>\n      <td>0.0038</td>\n      <td>0.0313</td>\n      <td>0.1228</td>\n      <td>0.0</td>\n      <td>0.0</td>\n      <td>0.0</td>\n      <td>0.0</td>\n      <td>11.4</td>\n      <td>93.9</td>\n      <td>368.4</td>\n    </tr>\n    <tr>\n      <th>1988</th>\n      <td>0.0</td>\n      <td>0.0000</td>\n      <td>0.0000</td>\n      <td>0.0000</td>\n      <td>0.0105</td>\n      <td>0.0368</td>\n      <td>0.2037</td>\n      <td>0.0</td>\n      <td>0.0</td>\n      <td>0.0</td>\n      <td>0.0</td>\n      <td>31.5</td>\n      <td>110.4</td>\n      <td>611.1</td>\n    </tr>\n    <tr>\n      <th>1989</th>\n      <td>0.0</td>\n      <td>0.0000</td>\n      <td>0.0018</td>\n      <td>0.0061</td>\n      <td>0.0073</td>\n      <td>0.0340</td>\n      <td>0.3333</td>\n      <td>0.0</td>\n      <td>0.0</td>\n      <td>5.4</td>\n      <td>18.3</td>\n      <td>21.9</td>\n      <td>102.0</td>\n      <td>999.9</td>\n    </tr>\n    <tr>\n      <th>1990</th>\n      <td>0.0</td>\n      <td>0.0000</td>\n      <td>0.0000</td>\n      <td>0.0058</td>\n      <td>0.0357</td>\n      <td>0.0856</td>\n      <td>0.3125</td>\n      <td>0.0</td>\n      <td>0.0</td>\n      <td>0.0</td>\n      <td>17.4</td>\n      <td>107.1</td>\n      <td>256.8</td>\n      <td>937.5</td>\n    </tr>\n    <tr>\n      <th>1991</th>\n      <td>0.0</td>\n      <td>0.0000</td>\n      <td>0.0000</td>\n      <td>0.0055</td>\n      <td>0.0169</td>\n      <td>0.1384</td>\n      <td>0.3387</td>\n      <td>0.0</td>\n      <td>0.0</td>\n      <td>0.0</td>\n      <td>16.5</td>\n      <td>50.7</td>\n      <td>415.2</td>\n      <td>1016.1</td>\n    </tr>\n    <tr>\n      <th>1992</th>\n      <td>0.0</td>\n      <td>0.0000</td>\n      <td>0.0000</td>\n      <td>0.0000</td>\n      <td>0.0000</td>\n      <td>0.0699</td>\n      <td>0.3019</td>\n      <td>0.0</td>\n      <td>0.0</td>\n      <td>0.0</td>\n      <td>0.0</td>\n      <td>0.0</td>\n      <td>209.7</td>\n      <td>905.7</td>\n    </tr>\n    <tr>\n      <th>1993</th>\n      <td>0.0</td>\n      <td>0.0000</td>\n      <td>0.0000</td>\n      <td>0.0000</td>\n      <td>0.0070</td>\n      <td>0.0262</td>\n      <td>0.1333</td>\n      <td>0.0</td>\n      <td>0.0</td>\n      <td>0.0</td>\n      <td>0.0</td>\n      <td>21.0</td>\n      <td>78.6</td>\n      <td>399.9</td>\n    </tr>\n    <tr>\n      <th>1994</th>\n      <td>0.0</td>\n      <td>0.0000</td>\n      <td>0.0014</td>\n      <td>0.0000</td>\n      <td>0.0028</td>\n      <td>0.0309</td>\n      <td>0.1667</td>\n      <td>0.0</td>\n      <td>0.0</td>\n      <td>4.2</td>\n      <td>0.0</td>\n      <td>8.4</td>\n      <td>92.7</td>\n      <td>500.1</td>\n    </tr>\n    <tr>\n      <th>1995</th>\n      <td>0.0</td>\n      <td>0.0000</td>\n      <td>0.0000</td>\n      <td>0.0017</td>\n      <td>0.0099</td>\n      <td>0.0459</td>\n      <td>0.2800</td>\n      <td>0.0</td>\n      <td>0.0</td>\n      <td>0.0</td>\n      <td>5.1</td>\n      <td>29.7</td>\n      <td>137.7</td>\n      <td>840.0</td>\n    </tr>\n    <tr>\n      <th>1996</th>\n      <td>0.0</td>\n      <td>0.0000</td>\n      <td>0.0000</td>\n      <td>0.0000</td>\n      <td>0.0045</td>\n      <td>0.0291</td>\n      <td>0.0800</td>\n      <td>0.0</td>\n      <td>0.0</td>\n      <td>0.0</td>\n      <td>0.0</td>\n      <td>13.5</td>\n      <td>87.3</td>\n      <td>240.0</td>\n    </tr>\n    <tr>\n      <th>1997</th>\n      <td>0.0</td>\n      <td>0.0000</td>\n      <td>0.0000</td>\n      <td>0.0025</td>\n      <td>0.0019</td>\n      <td>0.0352</td>\n      <td>0.1200</td>\n      <td>0.0</td>\n      <td>0.0</td>\n      <td>0.0</td>\n      <td>7.5</td>\n      <td>5.7</td>\n      <td>105.6</td>\n      <td>360.0</td>\n    </tr>\n    <tr>\n      <th>1998</th>\n      <td>0.0</td>\n      <td>0.0000</td>\n      <td>0.0000</td>\n      <td>0.0041</td>\n      <td>0.0082</td>\n      <td>0.0464</td>\n      <td>0.4286</td>\n      <td>0.0</td>\n      <td>0.0</td>\n      <td>0.0</td>\n      <td>12.3</td>\n      <td>24.6</td>\n      <td>139.2</td>\n      <td>1285.8</td>\n    </tr>\n    <tr>\n      <th>1999</th>\n      <td>0.0</td>\n      <td>0.0017</td>\n      <td>0.0018</td>\n      <td>0.0020</td>\n      <td>0.0095</td>\n      <td>0.0731</td>\n      <td>0.3382</td>\n      <td>0.0</td>\n      <td>5.1</td>\n      <td>5.4</td>\n      <td>6.0</td>\n      <td>28.5</td>\n      <td>219.3</td>\n      <td>1014.6</td>\n    </tr>\n    <tr>\n      <th>2000</th>\n      <td>0.0</td>\n      <td>0.0000</td>\n      <td>0.0027</td>\n      <td>0.0037</td>\n      <td>0.0116</td>\n      <td>0.0771</td>\n      <td>0.3596</td>\n      <td>0.0</td>\n      <td>0.0</td>\n      <td>8.1</td>\n      <td>11.1</td>\n      <td>34.8</td>\n      <td>231.3</td>\n      <td>1078.8</td>\n    </tr>\n    <tr>\n      <th>2001</th>\n      <td>0.0</td>\n      <td>0.0000</td>\n      <td>0.0027</td>\n      <td>0.0034</td>\n      <td>0.0298</td>\n      <td>0.1156</td>\n      <td>0.4545</td>\n      <td>0.0</td>\n      <td>0.0</td>\n      <td>8.1</td>\n      <td>10.2</td>\n      <td>89.4</td>\n      <td>346.8</td>\n      <td>1363.5</td>\n    </tr>\n    <tr>\n      <th>2002</th>\n      <td>0.0</td>\n      <td>0.0000</td>\n      <td>0.0000</td>\n      <td>0.0102</td>\n      <td>0.0290</td>\n      <td>0.0820</td>\n      <td>0.4444</td>\n      <td>0.0</td>\n      <td>0.0</td>\n      <td>0.0</td>\n      <td>30.6</td>\n      <td>87.0</td>\n      <td>246.0</td>\n      <td>1333.2</td>\n    </tr>\n    <tr>\n      <th>2003</th>\n      <td>0.0</td>\n      <td>0.0000</td>\n      <td>0.0000</td>\n      <td>0.0023</td>\n      <td>0.0059</td>\n      <td>0.0407</td>\n      <td>0.3293</td>\n      <td>0.0</td>\n      <td>0.0</td>\n      <td>0.0</td>\n      <td>6.9</td>\n      <td>17.7</td>\n      <td>122.1</td>\n      <td>987.9</td>\n    </tr>\n    <tr>\n      <th>2004</th>\n      <td>0.0</td>\n      <td>0.0000</td>\n      <td>0.0008</td>\n      <td>0.0000</td>\n      <td>0.0044</td>\n      <td>0.0145</td>\n      <td>0.1630</td>\n      <td>0.0</td>\n      <td>0.0</td>\n      <td>2.4</td>\n      <td>0.0</td>\n      <td>13.2</td>\n      <td>43.5</td>\n      <td>489.0</td>\n    </tr>\n    <tr>\n      <th>2005</th>\n      <td>0.0</td>\n      <td>0.0000</td>\n      <td>0.0000</td>\n      <td>0.0007</td>\n      <td>0.0031</td>\n      <td>0.0175</td>\n      <td>0.0909</td>\n      <td>0.0</td>\n      <td>0.0</td>\n      <td>0.0</td>\n      <td>2.1</td>\n      <td>9.3</td>\n      <td>52.5</td>\n      <td>272.7</td>\n    </tr>\n    <tr>\n      <th>2006</th>\n      <td>0.0</td>\n      <td>0.0000</td>\n      <td>0.0000</td>\n      <td>0.0000</td>\n      <td>0.0030</td>\n      <td>0.0082</td>\n      <td>0.1333</td>\n      <td>0.0</td>\n      <td>0.0</td>\n      <td>0.0</td>\n      <td>0.0</td>\n      <td>9.0</td>\n      <td>24.6</td>\n      <td>399.9</td>\n    </tr>\n    <tr>\n      <th>2007</th>\n      <td>0.0</td>\n      <td>0.0000</td>\n      <td>0.0000</td>\n      <td>0.0000</td>\n      <td>0.0020</td>\n      <td>0.0025</td>\n      <td>0.1524</td>\n      <td>0.0</td>\n      <td>0.0</td>\n      <td>0.0</td>\n      <td>0.0</td>\n      <td>6.0</td>\n      <td>7.5</td>\n      <td>457.2</td>\n    </tr>\n    <tr>\n      <th>2008</th>\n      <td>0.0</td>\n      <td>0.0038</td>\n      <td>0.0039</td>\n      <td>0.0049</td>\n      <td>0.0081</td>\n      <td>0.0411</td>\n      <td>0.2727</td>\n      <td>0.0</td>\n      <td>11.4</td>\n      <td>11.7</td>\n      <td>14.7</td>\n      <td>24.3</td>\n      <td>123.3</td>\n      <td>818.1</td>\n    </tr>\n    <tr>\n      <th>2009</th>\n      <td>0.0</td>\n      <td>0.0000</td>\n      <td>0.0022</td>\n      <td>0.0055</td>\n      <td>0.0075</td>\n      <td>0.1103</td>\n      <td>0.4946</td>\n      <td>0.0</td>\n      <td>0.0</td>\n      <td>6.6</td>\n      <td>16.5</td>\n      <td>22.5</td>\n      <td>330.9</td>\n      <td>1483.8</td>\n    </tr>\n    <tr>\n      <th>2010</th>\n      <td>0.0</td>\n      <td>0.0000</td>\n      <td>0.0000</td>\n      <td>0.0000</td>\n      <td>0.0058</td>\n      <td>0.0087</td>\n      <td>0.2283</td>\n      <td>0.0</td>\n      <td>0.0</td>\n      <td>0.0</td>\n      <td>0.0</td>\n      <td>17.4</td>\n      <td>26.1</td>\n      <td>684.9</td>\n    </tr>\n    <tr>\n      <th>2011</th>\n      <td>0.0</td>\n      <td>0.0000</td>\n      <td>0.0000</td>\n      <td>0.0007</td>\n      <td>0.0000</td>\n      <td>0.0168</td>\n      <td>0.1642</td>\n      <td>0.0</td>\n      <td>0.0</td>\n      <td>0.0</td>\n      <td>2.1</td>\n      <td>0.0</td>\n      <td>50.4</td>\n      <td>492.6</td>\n    </tr>\n    <tr>\n      <th>2012</th>\n      <td>0.0</td>\n      <td>0.0000</td>\n      <td>0.0000</td>\n      <td>0.0000</td>\n      <td>0.0030</td>\n      <td>0.0158</td>\n      <td>0.2752</td>\n      <td>0.0</td>\n      <td>0.0</td>\n      <td>0.0</td>\n      <td>0.0</td>\n      <td>9.0</td>\n      <td>47.4</td>\n      <td>825.6</td>\n    </tr>\n    <tr>\n      <th>2013</th>\n      <td>0.0</td>\n      <td>0.0000</td>\n      <td>0.0000</td>\n      <td>0.0000</td>\n      <td>0.0010</td>\n      <td>0.0165</td>\n      <td>0.2467</td>\n      <td>0.0</td>\n      <td>0.0</td>\n      <td>0.0</td>\n      <td>0.0</td>\n      <td>3.0</td>\n      <td>49.5</td>\n      <td>740.1</td>\n    </tr>\n    <tr>\n      <th>2014</th>\n      <td>0.0</td>\n      <td>0.0000</td>\n      <td>0.0000</td>\n      <td>0.0000</td>\n      <td>0.0000</td>\n      <td>0.0078</td>\n      <td>0.1751</td>\n      <td>0.0</td>\n      <td>0.0</td>\n      <td>0.0</td>\n      <td>0.0</td>\n      <td>0.0</td>\n      <td>23.4</td>\n      <td>525.3</td>\n    </tr>\n    <tr>\n      <th>2015</th>\n      <td>0.0</td>\n      <td>0.0000</td>\n      <td>0.0000</td>\n      <td>0.0000</td>\n      <td>0.0016</td>\n      <td>0.0242</td>\n      <td>0.2667</td>\n      <td>0.0</td>\n      <td>0.0</td>\n      <td>0.0</td>\n      <td>0.0</td>\n      <td>4.8</td>\n      <td>72.6</td>\n      <td>800.1</td>\n    </tr>\n    <tr>\n      <th>2016</th>\n      <td>0.0</td>\n      <td>0.0000</td>\n      <td>0.0000</td>\n      <td>0.0006</td>\n      <td>0.0047</td>\n      <td>0.0376</td>\n      <td>0.3317</td>\n      <td>0.0</td>\n      <td>0.0</td>\n      <td>0.0</td>\n      <td>1.8</td>\n      <td>14.1</td>\n      <td>112.8</td>\n      <td>995.1</td>\n    </tr>\n    <tr>\n      <th>2017</th>\n      <td>0.0</td>\n      <td>0.0000</td>\n      <td>0.0000</td>\n      <td>0.0000</td>\n      <td>0.0008</td>\n      <td>0.0100</td>\n      <td>0.2656</td>\n      <td>0.0</td>\n      <td>0.0</td>\n      <td>0.0</td>\n      <td>0.0</td>\n      <td>2.4</td>\n      <td>30.0</td>\n      <td>796.8</td>\n    </tr>\n    <tr>\n      <th>2018</th>\n      <td>0.0</td>\n      <td>0.0000</td>\n      <td>0.0000</td>\n      <td>0.0000</td>\n      <td>0.0000</td>\n      <td>0.0099</td>\n      <td>0.2718</td>\n      <td>0.0</td>\n      <td>0.0</td>\n      <td>0.0</td>\n      <td>0.0</td>\n      <td>0.0</td>\n      <td>29.7</td>\n      <td>815.4</td>\n    </tr>\n    <tr>\n      <th>2019</th>\n      <td>0.0</td>\n      <td>0.0000</td>\n      <td>0.0000</td>\n      <td>0.0011</td>\n      <td>0.0000</td>\n      <td>0.0149</td>\n      <td>0.2976</td>\n      <td>0.0</td>\n      <td>0.0</td>\n      <td>0.0</td>\n      <td>3.3</td>\n      <td>0.0</td>\n      <td>44.7</td>\n      <td>892.8</td>\n    </tr>\n    <tr>\n      <th>2020</th>\n      <td>0.0</td>\n      <td>0.0000</td>\n      <td>0.0000</td>\n      <td>0.0000</td>\n      <td>0.0093</td>\n      <td>0.0352</td>\n      <td>0.4748</td>\n      <td>0.0</td>\n      <td>0.0</td>\n      <td>0.0</td>\n      <td>0.0</td>\n      <td>27.9</td>\n      <td>105.6</td>\n      <td>1424.4</td>\n    </tr>\n  </tbody>\n</table>\n</div>"
     },
     "execution_count": 6,
     "metadata": {},
     "output_type": "execute_result"
    }
   ],
   "source": [
    "grades_data"
   ],
   "metadata": {
    "collapsed": false,
    "ExecuteTime": {
     "end_time": "2024-04-10T13:55:11.094134800Z",
     "start_time": "2024-04-10T13:55:10.952604500Z"
    }
   },
   "id": "efdee26b794fecb1"
  },
  {
   "cell_type": "code",
   "execution_count": 7,
   "outputs": [
    {
     "data": {
      "text/plain": "A defaults           63.6\nBBB defaults        233.7\nBB defaults        1026.9\nB defaults         5029.5\nCCC/C defaults    29903.1\ndtype: float64"
     },
     "execution_count": 7,
     "metadata": {},
     "output_type": "execute_result"
    }
   ],
   "source": [
    "grades_data.iloc[:, -5:].sum(axis=0)"
   ],
   "metadata": {
    "collapsed": false,
    "ExecuteTime": {
     "end_time": "2024-04-10T13:55:11.150137900Z",
     "start_time": "2024-04-10T13:55:11.013613200Z"
    }
   },
   "id": "80dd0b642bd4548e"
  },
  {
   "cell_type": "code",
   "execution_count": 8,
   "outputs": [],
   "source": [
    "num_of_rows = grades_data.shape[0]\n",
    "n_g_over_time = [n_g_assumption] * grades_data.shape[0]"
   ],
   "metadata": {
    "collapsed": false,
    "ExecuteTime": {
     "end_time": "2024-04-10T13:55:11.259145600Z",
     "start_time": "2024-04-10T13:55:11.027611Z"
    }
   },
   "id": "428a21e00ad2de35"
  },
  {
   "cell_type": "code",
   "execution_count": 9,
   "outputs": [],
   "source": [
    "# Choose last four columns and calculate the sum of defaults\n",
    "d_g = grades_data.iloc[:, -5:].sum(axis=0).tolist()\n",
    "d_g = [int(round(x)) for x in d_g]\n",
    "n_g = [n_g_assumption * grades_data.shape[0]] * len(d_g)"
   ],
   "metadata": {
    "collapsed": false,
    "ExecuteTime": {
     "end_time": "2024-04-10T13:55:11.313149600Z",
     "start_time": "2024-04-10T13:55:11.044610700Z"
    }
   },
   "id": "2057f5d3719df0ee"
  },
  {
   "cell_type": "code",
   "execution_count": 10,
   "outputs": [
    {
     "data": {
      "text/plain": "([64, 234, 1027, 5030, 29903], [120000, 120000, 120000, 120000, 120000])"
     },
     "execution_count": 10,
     "metadata": {},
     "output_type": "execute_result"
    }
   ],
   "source": [
    "d_g, n_g"
   ],
   "metadata": {
    "collapsed": false,
    "ExecuteTime": {
     "end_time": "2024-04-10T13:55:11.313149600Z",
     "start_time": "2024-04-10T13:55:11.061133200Z"
    }
   },
   "id": "7e0a8ee4ee8388c2"
  },
  {
   "cell_type": "code",
   "execution_count": 11,
   "outputs": [
    {
     "name": "stdout",
     "output_type": "stream",
     "text": [
      "Estimated parameters with method of moments for grade A: 0.08840467326136718 -3.274097580352716\n",
      "Estimated parameters with method of moments for grade BBB: 0.09821019378284787 -2.8865426119490847\n",
      "Estimated parameters with method of moments for grade BB: 0.12221489166349328 -2.3842278912651227\n",
      "Estimated parameters with method of moments for grade B: 0.10813871371837049 -1.728911139866942\n",
      "Estimated parameters with method of moments for grade CCC/C: 0.13016212757270598 -0.6770330266259245\n"
     ]
    }
   ],
   "source": [
    "# MM for A, BBB, BB, B, CCC/C\n",
    "# Call estimate_w_factor_loading function for each grade\n",
    "num_of_rows = grades_data.shape[0]\n",
    "n_g_over_time = np.array([n_g_assumption] * num_of_rows)\n",
    "\n",
    "MM_params = {}\n",
    "for grade in [\"A\", \"BBB\", \"BB\", \"B\", \"CCC/C\"]:\n",
    "    MM_params[grade] = estimate_w_factor_loading(grades_data[grade], n_g_over_time, initial_guess=0.45)\n",
    "    print(f\"Estimated parameters with method of moments for grade {grade}:\", MM_params[grade][0], norm.ppf(MM_params[grade][1]))"
   ],
   "metadata": {
    "collapsed": false,
    "ExecuteTime": {
     "end_time": "2024-04-10T13:55:11.445215300Z",
     "start_time": "2024-04-10T13:55:11.077136200Z"
    }
   },
   "id": "aeaa31e8333f147a"
  },
  {
   "cell_type": "code",
   "execution_count": 12,
   "outputs": [
    {
     "name": "stdout",
     "output_type": "stream",
     "text": [
      "Estimated parameters with method of moments for grade A: 0.08840467326136718 -3.274097580352716 0.0005299999999999999\n"
     ]
    }
   ],
   "source": [
    "MM_params_for_A_grade = estimate_w_factor_loading(grades_data[\"A\"], n_g_over_time, initial_guess=0.45)\n",
    "print(f\"Estimated parameters with method of moments for grade A:\", MM_params_for_A_grade[0], norm.ppf(MM_params_for_A_grade[1]), MM_params_for_A_grade[1])"
   ],
   "metadata": {
    "collapsed": false,
    "ExecuteTime": {
     "end_time": "2024-04-10T13:55:13.763132100Z",
     "start_time": "2024-04-10T13:55:13.729131200Z"
    }
   },
   "id": "f0956282aec679af"
  },
  {
   "cell_type": "code",
   "execution_count": 13,
   "outputs": [
    {
     "name": "stdout",
     "output_type": "stream",
     "text": [
      "Estimated parameters with method of moments for grade A: 0.1 -3.274097580352716 0.0005299999999999999\n"
     ]
    }
   ],
   "source": [
    "MM_params_for_A_grade = estimate_w_factor_loading(grades_data[\"A\"], n_g_over_time, initial_guess=0.1)\n",
    "print(f\"Estimated parameters with method of moments for grade A:\", MM_params_for_A_grade[0], norm.ppf(MM_params_for_A_grade[1]), MM_params_for_A_grade[1])"
   ],
   "metadata": {
    "collapsed": false,
    "ExecuteTime": {
     "end_time": "2024-04-10T13:55:15.275132700Z",
     "start_time": "2024-04-10T13:55:15.206128100Z"
    }
   },
   "id": "94f37924993d3615"
  },
  {
   "cell_type": "code",
   "execution_count": 14,
   "outputs": [
    {
     "data": {
      "text/plain": "{'A': (0.08840467326136718, 0.0005299999999999999),\n 'BBB': (0.09821019378284787, 0.0019475),\n 'BB': (0.12221489166349328, 0.0085575),\n 'B': (0.10813871371837049, 0.041912500000000005),\n 'CCC/C': (0.13016212757270598, 0.2491925)}"
     },
     "execution_count": 14,
     "metadata": {},
     "output_type": "execute_result"
    }
   ],
   "source": [
    "MM_params"
   ],
   "metadata": {
    "collapsed": false,
    "ExecuteTime": {
     "end_time": "2024-04-10T13:55:15.639034500Z",
     "start_time": "2024-04-10T13:55:15.600032800Z"
    }
   },
   "id": "f130146f5d291396"
  },
  {
   "cell_type": "code",
   "execution_count": 15,
   "outputs": [
    {
     "name": "stdout",
     "output_type": "stream",
     "text": [
      "When `allow_singular is False`, the input matrix must be symmetric positive definite.\n"
     ]
    }
   ],
   "source": [
    "historical_pd = grades_data[\"CCC/C\"]\n",
    "#historical_pd = grades_data[\"A\"]\n",
    "pd_average = np.mean(historical_pd)\n",
    "\n",
    "expected_value_of_reciprocal_n_g = np.mean(1 / n_g_over_time)\n",
    "\n",
    "variance_of_p_d = (np.var(historical_pd) - expected_value_of_reciprocal_n_g * pd_average * (1 - pd_average)) / (\n",
    "                1 - expected_value_of_reciprocal_n_g)\n",
    "\n",
    "try:\n",
    "    calc_variance_of_default_rate(1.0, pd_average)\n",
    "except ValueError as e:\n",
    "    print(e)"
   ],
   "metadata": {
    "collapsed": false,
    "ExecuteTime": {
     "end_time": "2024-04-10T13:55:17.342132800Z",
     "start_time": "2024-04-10T13:55:17.297129700Z"
    }
   },
   "id": "beb337db8b65cf9f"
  },
  {
   "cell_type": "code",
   "execution_count": 16,
   "outputs": [
    {
     "data": {
      "text/plain": "<Figure size 640x480 with 1 Axes>",
      "image/png": "[encoded data removed]"
     },
     "metadata": {},
     "output_type": "display_data"
    }
   ],
   "source": [
    "object_function = lambda w: abs(calc_variance_of_default_rate(w, pd_average) - variance_of_p_d)\n",
    "\n",
    "# Plot the objective function from -0.99 to 0.99\n",
    "w_values = np.linspace(-0.99, 0.99, 100)\n",
    "objective_values = [object_function(w) for w in w_values]\n",
    "\n",
    "plt.plot(w_values, objective_values)\n",
    "plt.xlabel(\"w\")\n",
    "plt.ylabel(\"Objective function\")\n",
    "plt.title(\"Objective function for w\")\n",
    "plt.show()"
   ],
   "metadata": {
    "collapsed": false,
    "ExecuteTime": {
     "end_time": "2024-04-10T13:55:17.895096900Z",
     "start_time": "2024-04-10T13:55:17.551061Z"
    }
   },
   "id": "e0b82b954ac4da0d"
  },
  {
   "cell_type": "code",
   "execution_count": 17,
   "outputs": [
    {
     "name": "stdout",
     "output_type": "stream",
     "text": [
      "Estimated parameters with maximum likelihood method: [-3.24886659 -2.85224204 -2.38067939 -1.72887898 -0.67760216  0.14853165\n",
      "  0.1837158  -0.02977168  0.1006333   0.00677108]\n",
      "Current function value: 25.057460665352874\n"
     ]
    }
   ],
   "source": [
    "# gamma init equals to norm.ppf(MM_params values[1])\n",
    "gamma_init = [norm.ppf(MM_params[grade][1]) for grade in [\"A\", \"BBB\", \"BB\", \"B\", \"CCC/C\"]]\n",
    "w_init = [MM_params[grade][0] for grade in [\"A\", \"BBB\", \"BB\", \"B\", \"CCC/C\"]]\n",
    "#w_init = [0.1, 0.1, 0.1, 0.1, 0.1]\n",
    "\n",
    "ML_estimation = parameter_estimation(d_g, n_g, w_init, gamma_init)\n",
    "ML_params = ML_estimation.x\n",
    "print(\"Estimated parameters with maximum likelihood method:\", ML_params)\n",
    "print(\"Current function value:\", ML_estimation.fun)"
   ],
   "metadata": {
    "collapsed": false,
    "ExecuteTime": {
     "end_time": "2024-04-10T13:58:51.706527400Z",
     "start_time": "2024-04-10T13:55:25.850022Z"
    }
   },
   "id": "8b049323900d30f3"
  },
  {
   "cell_type": "code",
   "execution_count": null,
   "outputs": [],
   "source": [
    "# gamma init equals to norm.ppf(MM_params values[1])\n",
    "gamma_init = [norm.ppf(MM_params[grade][1]) for grade in [\"A\", \"BBB\", \"BB\", \"B\", \"CCC/C\"]]\n",
    "w_init = [MM_params[grade][0] for grade in [\"A\", \"BBB\", \"BB\", \"B\", \"CCC/C\"]]\n",
    "#w_init = [0.1, 0.1, 0.1, 0.1, 0.1]\n",
    "\n",
    "ML_estimation = parameter_estimation(d_g, n_g, w_init, gamma_init)\n",
    "ML_params = ML_estimation.x\n",
    "print(\"Estimated parameters with maximum likelihood method:\", ML_params)\n",
    "print(\"Current function value:\", ML_estimation.fun)"
   ],
   "metadata": {
    "collapsed": false
   },
   "id": "772c364e1fbd7dc8"
  },
  {
   "cell_type": "code",
   "execution_count": 59,
   "outputs": [
    {
     "data": {
      "text/plain": "[-3.274097580352716,\n -2.8865426119490847,\n -2.3842278912651227,\n -1.728911139866942,\n -0.6770330266259245]"
     },
     "execution_count": 59,
     "metadata": {},
     "output_type": "execute_result"
    }
   ],
   "source": [
    "gamma_init"
   ],
   "metadata": {
    "collapsed": false,
    "ExecuteTime": {
     "end_time": "2024-04-10T15:13:14.166118700Z",
     "start_time": "2024-04-10T15:13:13.923770200Z"
    }
   },
   "id": "b4b5ee95c775da28"
  },
  {
   "cell_type": "code",
   "execution_count": 60,
   "outputs": [
    {
     "data": {
      "text/plain": "[0.08840467326136718,\n 0.09821019378284787,\n 0.12221489166349328,\n 0.10813871371837049,\n 0.13016212757270598]"
     },
     "execution_count": 60,
     "metadata": {},
     "output_type": "execute_result"
    }
   ],
   "source": [
    "[MM_params[grade][0] for grade in [\"A\", \"BBB\", \"BB\", \"B\", \"CCC/C\"]]"
   ],
   "metadata": {
    "collapsed": false,
    "ExecuteTime": {
     "end_time": "2024-04-10T15:13:30.651253300Z",
     "start_time": "2024-04-10T15:13:30.441611400Z"
    }
   },
   "id": "15be7b8c4842422a"
  },
  {
   "cell_type": "code",
   "execution_count": 66,
   "outputs": [
    {
     "name": "stdout",
     "output_type": "stream",
     "text": [
      "Estimated parameters with maximum likelihood method: [ 0.19944905  0.06233111  0.02654434 -0.008197   -0.00035492] [-3.31982403 -2.91518947 -2.39704222 -1.72447598 -0.67705091]\n",
      "Current function value: 24.232818680568467\n"
     ]
    }
   ],
   "source": [
    "ML_linear_estimation = ml_estimation_linear_with_w_and_g(d_g, n_g, np.array([0.1]), gamma_init)\n",
    "print(\"Estimated parameters with maximum likelihood method:\", ML_linear_estimation[0], ML_linear_estimation[1])\n",
    "print(\"Current function value:\", ML_linear_estimation[2].fun)"
   ],
   "metadata": {
    "collapsed": false,
    "ExecuteTime": {
     "end_time": "2024-04-10T15:30:56.441908200Z",
     "start_time": "2024-04-10T15:26:14.332876600Z"
    }
   },
   "id": "c390663032312cb5"
  },
  {
   "cell_type": "code",
   "execution_count": 67,
   "outputs": [
    {
     "name": "stdout",
     "output_type": "stream",
     "text": [
      "Estimated parameters with maximum likelihood method: [ 0.4735079   0.09477068  0.21911748  0.10681962 -0.00521984] [-3.02343138 -2.90145228 -2.391375   -1.7507569  -0.67546745]\n",
      "Current function value: 25.570135659458256\n"
     ]
    }
   ],
   "source": [
    "ML_linear_estimation = ml_estimation_linear_with_w_and_g(d_g, n_g, np.array([0.2]), gamma_init)\n",
    "print(\"Estimated parameters with maximum likelihood method:\", ML_linear_estimation[0], ML_linear_estimation[1])\n",
    "print(\"Current function value:\", ML_linear_estimation[2].fun)"
   ],
   "metadata": {
    "collapsed": false,
    "ExecuteTime": {
     "end_time": "2024-04-10T15:37:31.554574400Z",
     "start_time": "2024-04-10T15:30:56.424908800Z"
    }
   },
   "id": "4456936765868b12"
  },
  {
   "cell_type": "code",
   "execution_count": null,
   "outputs": [],
   "source": [
    "ML_linear_estimation = ml_estimation_linear_with_w_and_g(d_g, n_g, np.array([0.2]), gamma_init)\n",
    "print(\"Estimated parameters with maximum likelihood method:\", ML_linear_estimation[0], ML_linear_estimation[1])\n",
    "print(\"Current function value:\", ML_linear_estimation[2].fun)"
   ],
   "metadata": {
    "collapsed": false
   },
   "id": "a75038f6e196b9ca"
  },
  {
   "cell_type": "code",
   "execution_count": 52,
   "outputs": [
    {
     "name": "stdout",
     "output_type": "stream",
     "text": [
      "Log likelihood for MM estimation: 26.785673282153493\n"
     ]
    }
   ],
   "source": [
    "log_likelihood_MM = -np.log(calculate_my_likelihood_arr(\n",
    "    d_g, n_g, p_g, norm.pdf, w_init, gamma_init\n",
    "))\n",
    "print(\"Log likelihood for MM estimation:\", log_likelihood_MM)"
   ],
   "metadata": {
    "collapsed": false,
    "ExecuteTime": {
     "end_time": "2024-04-10T13:44:24.142586200Z",
     "start_time": "2024-04-10T13:44:24.049577200Z"
    }
   },
   "id": "9cbb0be3e5f82ad4"
  },
  {
   "cell_type": "code",
   "execution_count": 53,
   "outputs": [
    {
     "name": "stdout",
     "output_type": "stream",
     "text": [
      "Estimated parameters with maximum likelihood method: [0.01362295 0.01343891 0.01682429 0.00957589 0.00543081] [-3.28666221 -2.90030289 -2.40189585 -1.73902986 -0.68283208]\n",
      "Current function value: 23.64380847029618\n"
     ]
    }
   ],
   "source": [
    "ML_linear_estimation_fixed_gamma = ml_estimation_linear_with_w_and_g(d_g, n_g, w_init, gamma_init, fixed_g=True)\n",
    "print(\"Estimated parameters with maximum likelihood method:\", ML_linear_estimation_fixed_gamma[0], ML_linear_estimation_fixed_gamma[1])\n",
    "print(\"Current function value:\", ML_linear_estimation_fixed_gamma[2].fun)"
   ],
   "metadata": {
    "collapsed": false,
    "ExecuteTime": {
     "end_time": "2024-04-10T13:44:33.621096100Z",
     "start_time": "2024-04-10T13:44:24.093582100Z"
    }
   },
   "id": "95d75cd88d1384ea"
  },
  {
   "cell_type": "code",
   "execution_count": 62,
   "outputs": [
    {
     "data": {
      "text/plain": "[-3.274097580352716,\n -2.8865426119490847,\n -2.3842278912651227,\n -1.728911139866942,\n -0.6770330266259245]"
     },
     "execution_count": 62,
     "metadata": {},
     "output_type": "execute_result"
    }
   ],
   "source": [
    "gamma_init"
   ],
   "metadata": {
    "collapsed": false,
    "ExecuteTime": {
     "end_time": "2024-04-10T15:23:09.278516200Z",
     "start_time": "2024-04-10T15:23:08.919904Z"
    }
   },
   "id": "c96b5e1d20a2c630"
  },
  {
   "cell_type": "code",
   "execution_count": 63,
   "outputs": [
    {
     "data": {
      "text/plain": "[-2.274097580352716,\n -1.8865426119490847,\n -1.3842278912651227,\n -0.7289111398669419,\n 0.32296697337407554]"
     },
     "execution_count": 63,
     "metadata": {},
     "output_type": "execute_result"
    }
   ],
   "source": [
    "[gamma + 1 for gamma in gamma_init]"
   ],
   "metadata": {
    "collapsed": false,
    "ExecuteTime": {
     "end_time": "2024-04-10T15:23:31.448781800Z",
     "start_time": "2024-04-10T15:23:31.322450900Z"
    }
   },
   "id": "6d57362e7791f31"
  },
  {
   "cell_type": "code",
   "execution_count": 64,
   "outputs": [
    {
     "name": "stderr",
     "output_type": "stream",
     "text": [
      "C:\\Users\\kissp\\AppData\\Local\\Temp\\ipykernel_21476\\3934191927.py:7: RuntimeWarning: divide by zero encountered in log\n",
      "  log_likelihood_values.append(-np.log(calculate_my_likelihood_arr(d_g, n_g, p_g, norm.pdf, [w], gamma_init2)))\n"
     ]
    },
    {
     "data": {
      "text/plain": "<Figure size 640x480 with 1 Axes>",
      "image/png": "[encoded data removed]"
     },
     "metadata": {},
     "output_type": "display_data"
    }
   ],
   "source": [
    "# Plot log likelihood for different w values if gamma is fixed\n",
    "w_values = np.linspace(0.01, 0.6, 100)\n",
    "log_likelihood_values = []\n",
    "gamma_init2 = [gamma + 1 for gamma in gamma_init]\n",
    "\n",
    "for w in w_values:\n",
    "    log_likelihood_values.append(-np.log(calculate_my_likelihood_arr(d_g, n_g, p_g, norm.pdf, [w], gamma_init2)))\n",
    "\n",
    "plt.plot(w_values, log_likelihood_values)\n",
    "plt.xlabel(\"w\")\n",
    "plt.ylabel(\"Log likelihood\")\n",
    "plt.title(\"Log likelihood for different w values\")\n",
    "plt.show()"
   ],
   "metadata": {
    "collapsed": false,
    "ExecuteTime": {
     "end_time": "2024-04-10T15:23:44.935858100Z",
     "start_time": "2024-04-10T15:23:39.848120200Z"
    }
   },
   "id": "b0c53ffb192b77f5"
  },
  {
   "cell_type": "code",
   "execution_count": 19,
   "outputs": [
    {
     "data": {
      "text/plain": "<Figure size 640x480 with 1 Axes>",
      "image/png": "[encoded data removed]"
     },
     "metadata": {},
     "output_type": "display_data"
    }
   ],
   "source": [
    "# Plot log likelihood for different w values if gamma is fixed\n",
    "w_values = np.linspace(0.001, 0.1, 100)\n",
    "log_likelihood_values = []\n",
    "\n",
    "for w in w_values:\n",
    "    log_likelihood_values.append(-np.log(calculate_my_likelihood_arr(d_g, n_g, p_g, norm.pdf, [w], gamma_init)))\n",
    "\n",
    "plt.plot(w_values, log_likelihood_values)\n",
    "plt.xlabel(\"w\")\n",
    "plt.ylabel(\"Log likelihood\")\n",
    "plt.title(\"Log likelihood for different w values\")\n",
    "plt.show()"
   ],
   "metadata": {
    "collapsed": false,
    "ExecuteTime": {
     "end_time": "2024-04-10T14:00:43.366076400Z",
     "start_time": "2024-04-10T14:00:32.307933200Z"
    }
   },
   "id": "e02dcc8535f74363"
  },
  {
   "cell_type": "code",
   "execution_count": 20,
   "outputs": [
    {
     "name": "stderr",
     "output_type": "stream",
     "text": [
      "C:\\Users\\kissp\\AppData\\Local\\Temp\\ipykernel_21476\\547271247.py:14: RuntimeWarning: divide by zero encountered in log\n",
      "  z_values[i, j] = -np.log(calculate_my_likelihood_arr(d_g2, n_g2, p_g, norm.pdf, w_fixed, [x, y]))\n"
     ]
    },
    {
     "data": {
      "text/plain": "<Figure size 640x480 with 2 Axes>",
      "image/png": "[encoded data removed]"
     },
     "metadata": {},
     "output_type": "display_data"
    }
   ],
   "source": [
    "# Choose 2 grades: B and BB\n",
    "d_g2 = [d_g[2], d_g[3]]\n",
    "n_g2 = [n_g[2], n_g[3]]\n",
    "\n",
    "# Make a 2D plot conjecturing the log likelihood function in gamma direction for fixed w\n",
    "# where fixed w come from MM estimation\n",
    "w_fixed = [MM_params[grade][0] for grade in [\"BB\", \"B\"]]\n",
    "x_gamma_values = np.linspace(-3, 3, 100)\n",
    "y_gamma_values = np.linspace(-3, 3, 100)\n",
    "z_values = np.zeros((len(x_gamma_values), len(y_gamma_values)))\n",
    "\n",
    "for i, x in enumerate(x_gamma_values):\n",
    "    for j, y in enumerate(y_gamma_values):\n",
    "        z_values[i, j] = -np.log(calculate_my_likelihood_arr(d_g2, n_g2, p_g, norm.pdf, w_fixed, [x, y]))\n",
    "\n",
    "plt.contourf(x_gamma_values, y_gamma_values, z_values, 20, cmap='RdGy')\n",
    "plt.colorbar()\n",
    "plt.xlabel(\"gamma for grade BB\")\n",
    "plt.ylabel(\"gamma for grade B\")\n",
    "plt.title(\"Log likelihood for different gamma values\")\n",
    "plt.show()"
   ],
   "metadata": {
    "collapsed": false,
    "ExecuteTime": {
     "end_time": "2024-04-10T14:06:32.973580800Z",
     "start_time": "2024-04-10T14:05:20.585709400Z"
    }
   },
   "id": "3a823e621b6be531"
  },
  {
   "cell_type": "code",
   "execution_count": 21,
   "outputs": [
    {
     "data": {
      "text/plain": "           -3.000000  -2.939394  -2.878788  -2.818182  -2.757576  -2.696970  \\\n-3.000000        inf        inf        inf        inf        inf        inf   \n-2.939394        inf        inf        inf        inf        inf        inf   \n-2.878788        inf        inf        inf        inf        inf        inf   \n-2.818182        inf        inf        inf        inf        inf        inf   \n-2.757576        inf        inf        inf        inf        inf        inf   \n...              ...        ...        ...        ...        ...        ...   \n 2.757576        inf        inf        inf        inf        inf        inf   \n 2.818182        inf        inf        inf        inf        inf        inf   \n 2.878788        inf        inf        inf        inf        inf        inf   \n 2.939394        inf        inf        inf        inf        inf        inf   \n 3.000000        inf        inf        inf        inf        inf        inf   \n\n           -2.636364  -2.575758  -2.515152  -2.454545  ...   2.454545  \\\n-3.000000        inf        inf        inf        inf  ...        inf   \n-2.939394        inf        inf        inf        inf  ...        inf   \n-2.878788        inf        inf        inf        inf  ...        inf   \n-2.818182        inf        inf        inf        inf  ...        inf   \n-2.757576        inf        inf        inf        inf  ...        inf   \n...              ...        ...        ...        ...  ...        ...   \n 2.757576        inf        inf        inf        inf  ...        inf   \n 2.818182        inf        inf        inf        inf  ...        inf   \n 2.878788        inf        inf        inf        inf  ...        inf   \n 2.939394        inf        inf        inf        inf  ...        inf   \n 3.000000        inf        inf        inf        inf  ...        inf   \n\n            2.515152   2.575758   2.636364   2.696970   2.757576   2.818182  \\\n-3.000000        inf        inf        inf        inf        inf        inf   \n-2.939394        inf        inf        inf        inf        inf        inf   \n-2.878788        inf        inf        inf        inf        inf        inf   \n-2.818182        inf        inf        inf        inf        inf        inf   \n-2.757576        inf        inf        inf        inf        inf        inf   \n...              ...        ...        ...        ...        ...        ...   \n 2.757576        inf        inf        inf        inf        inf        inf   \n 2.818182        inf        inf        inf        inf        inf        inf   \n 2.878788        inf        inf        inf        inf        inf        inf   \n 2.939394        inf        inf        inf        inf        inf        inf   \n 3.000000        inf        inf        inf        inf        inf        inf   \n\n            2.878788   2.939394   3.000000  \n-3.000000        inf        inf        inf  \n-2.939394        inf        inf        inf  \n-2.878788        inf        inf        inf  \n-2.818182        inf        inf        inf  \n-2.757576        inf        inf        inf  \n...              ...        ...        ...  \n 2.757576        inf        inf        inf  \n 2.818182        inf        inf        inf  \n 2.878788        inf        inf        inf  \n 2.939394        inf        inf        inf  \n 3.000000        inf        inf        inf  \n\n[100 rows x 100 columns]",
      "text/html": "<div>\n<style scoped>\n    .dataframe tbody tr th:only-of-type {\n        vertical-align: middle;\n    }\n\n    .dataframe tbody tr th {\n        vertical-align: top;\n    }\n\n    .dataframe thead th {\n        text-align: right;\n    }\n</style>\n<table border=\"1\" class=\"dataframe\">\n  <thead>\n    <tr style=\"text-align: right;\">\n      <th></th>\n      <th>-3.000000</th>\n      <th>-2.939394</th>\n      <th>-2.878788</th>\n      <th>-2.818182</th>\n      <th>-2.757576</th>\n      <th>-2.696970</th>\n      <th>-2.636364</th>\n      <th>-2.575758</th>\n      <th>-2.515152</th>\n      <th>-2.454545</th>\n      <th>...</th>\n      <th>2.454545</th>\n      <th>2.515152</th>\n      <th>2.575758</th>\n      <th>2.636364</th>\n      <th>2.696970</th>\n      <th>2.757576</th>\n      <th>2.818182</th>\n      <th>2.878788</th>\n      <th>2.939394</th>\n      <th>3.000000</th>\n    </tr>\n  </thead>\n  <tbody>\n    <tr>\n      <th>-3.000000</th>\n      <td>inf</td>\n      <td>inf</td>\n      <td>inf</td>\n      <td>inf</td>\n      <td>inf</td>\n      <td>inf</td>\n      <td>inf</td>\n      <td>inf</td>\n      <td>inf</td>\n      <td>inf</td>\n      <td>...</td>\n      <td>inf</td>\n      <td>inf</td>\n      <td>inf</td>\n      <td>inf</td>\n      <td>inf</td>\n      <td>inf</td>\n      <td>inf</td>\n      <td>inf</td>\n      <td>inf</td>\n      <td>inf</td>\n    </tr>\n    <tr>\n      <th>-2.939394</th>\n      <td>inf</td>\n      <td>inf</td>\n      <td>inf</td>\n      <td>inf</td>\n      <td>inf</td>\n      <td>inf</td>\n      <td>inf</td>\n      <td>inf</td>\n      <td>inf</td>\n      <td>inf</td>\n      <td>...</td>\n      <td>inf</td>\n      <td>inf</td>\n      <td>inf</td>\n      <td>inf</td>\n      <td>inf</td>\n      <td>inf</td>\n      <td>inf</td>\n      <td>inf</td>\n      <td>inf</td>\n      <td>inf</td>\n    </tr>\n    <tr>\n      <th>-2.878788</th>\n      <td>inf</td>\n      <td>inf</td>\n      <td>inf</td>\n      <td>inf</td>\n      <td>inf</td>\n      <td>inf</td>\n      <td>inf</td>\n      <td>inf</td>\n      <td>inf</td>\n      <td>inf</td>\n      <td>...</td>\n      <td>inf</td>\n      <td>inf</td>\n      <td>inf</td>\n      <td>inf</td>\n      <td>inf</td>\n      <td>inf</td>\n      <td>inf</td>\n      <td>inf</td>\n      <td>inf</td>\n      <td>inf</td>\n    </tr>\n    <tr>\n      <th>-2.818182</th>\n      <td>inf</td>\n      <td>inf</td>\n      <td>inf</td>\n      <td>inf</td>\n      <td>inf</td>\n      <td>inf</td>\n      <td>inf</td>\n      <td>inf</td>\n      <td>inf</td>\n      <td>inf</td>\n      <td>...</td>\n      <td>inf</td>\n      <td>inf</td>\n      <td>inf</td>\n      <td>inf</td>\n      <td>inf</td>\n      <td>inf</td>\n      <td>inf</td>\n      <td>inf</td>\n      <td>inf</td>\n      <td>inf</td>\n    </tr>\n    <tr>\n      <th>-2.757576</th>\n      <td>inf</td>\n      <td>inf</td>\n      <td>inf</td>\n      <td>inf</td>\n      <td>inf</td>\n      <td>inf</td>\n      <td>inf</td>\n      <td>inf</td>\n      <td>inf</td>\n      <td>inf</td>\n      <td>...</td>\n      <td>inf</td>\n      <td>inf</td>\n      <td>inf</td>\n      <td>inf</td>\n      <td>inf</td>\n      <td>inf</td>\n      <td>inf</td>\n      <td>inf</td>\n      <td>inf</td>\n      <td>inf</td>\n    </tr>\n    <tr>\n      <th>...</th>\n      <td>...</td>\n      <td>...</td>\n      <td>...</td>\n      <td>...</td>\n      <td>...</td>\n      <td>...</td>\n      <td>...</td>\n      <td>...</td>\n      <td>...</td>\n      <td>...</td>\n      <td>...</td>\n      <td>...</td>\n      <td>...</td>\n      <td>...</td>\n      <td>...</td>\n      <td>...</td>\n      <td>...</td>\n      <td>...</td>\n      <td>...</td>\n      <td>...</td>\n      <td>...</td>\n    </tr>\n    <tr>\n      <th>2.757576</th>\n      <td>inf</td>\n      <td>inf</td>\n      <td>inf</td>\n      <td>inf</td>\n      <td>inf</td>\n      <td>inf</td>\n      <td>inf</td>\n      <td>inf</td>\n      <td>inf</td>\n      <td>inf</td>\n      <td>...</td>\n      <td>inf</td>\n      <td>inf</td>\n      <td>inf</td>\n      <td>inf</td>\n      <td>inf</td>\n      <td>inf</td>\n      <td>inf</td>\n      <td>inf</td>\n      <td>inf</td>\n      <td>inf</td>\n    </tr>\n    <tr>\n      <th>2.818182</th>\n      <td>inf</td>\n      <td>inf</td>\n      <td>inf</td>\n      <td>inf</td>\n      <td>inf</td>\n      <td>inf</td>\n      <td>inf</td>\n      <td>inf</td>\n      <td>inf</td>\n      <td>inf</td>\n      <td>...</td>\n      <td>inf</td>\n      <td>inf</td>\n      <td>inf</td>\n      <td>inf</td>\n      <td>inf</td>\n      <td>inf</td>\n      <td>inf</td>\n      <td>inf</td>\n      <td>inf</td>\n      <td>inf</td>\n    </tr>\n    <tr>\n      <th>2.878788</th>\n      <td>inf</td>\n      <td>inf</td>\n      <td>inf</td>\n      <td>inf</td>\n      <td>inf</td>\n      <td>inf</td>\n      <td>inf</td>\n      <td>inf</td>\n      <td>inf</td>\n      <td>inf</td>\n      <td>...</td>\n      <td>inf</td>\n      <td>inf</td>\n      <td>inf</td>\n      <td>inf</td>\n      <td>inf</td>\n      <td>inf</td>\n      <td>inf</td>\n      <td>inf</td>\n      <td>inf</td>\n      <td>inf</td>\n    </tr>\n    <tr>\n      <th>2.939394</th>\n      <td>inf</td>\n      <td>inf</td>\n      <td>inf</td>\n      <td>inf</td>\n      <td>inf</td>\n      <td>inf</td>\n      <td>inf</td>\n      <td>inf</td>\n      <td>inf</td>\n      <td>inf</td>\n      <td>...</td>\n      <td>inf</td>\n      <td>inf</td>\n      <td>inf</td>\n      <td>inf</td>\n      <td>inf</td>\n      <td>inf</td>\n      <td>inf</td>\n      <td>inf</td>\n      <td>inf</td>\n      <td>inf</td>\n    </tr>\n    <tr>\n      <th>3.000000</th>\n      <td>inf</td>\n      <td>inf</td>\n      <td>inf</td>\n      <td>inf</td>\n      <td>inf</td>\n      <td>inf</td>\n      <td>inf</td>\n      <td>inf</td>\n      <td>inf</td>\n      <td>inf</td>\n      <td>...</td>\n      <td>inf</td>\n      <td>inf</td>\n      <td>inf</td>\n      <td>inf</td>\n      <td>inf</td>\n      <td>inf</td>\n      <td>inf</td>\n      <td>inf</td>\n      <td>inf</td>\n      <td>inf</td>\n    </tr>\n  </tbody>\n</table>\n<p>100 rows × 100 columns</p>\n</div>"
     },
     "execution_count": 21,
     "metadata": {},
     "output_type": "execute_result"
    }
   ],
   "source": [
    "# Make a dataframe from z_values\n",
    "z_values_df = pd.DataFrame(z_values, index=x_gamma_values, columns=y_gamma_values)\n",
    "z_values_df"
   ],
   "metadata": {
    "collapsed": false,
    "ExecuteTime": {
     "end_time": "2024-04-10T14:07:21.503325100Z",
     "start_time": "2024-04-10T14:07:21.320373Z"
    }
   },
   "id": "3d0f2caaf590c16f"
  },
  {
   "cell_type": "code",
   "execution_count": 24,
   "outputs": [
    {
     "name": "stderr",
     "output_type": "stream",
     "text": [
      "C:\\Users\\kissp\\AppData\\Local\\Temp\\ipykernel_21476\\3647041123.py:14: RuntimeWarning: divide by zero encountered in log\n",
      "  z_values[i, j] = -np.log(calculate_my_likelihood_arr(d_g2, n_g2, p_g, norm.pdf, w_fixed, [x, y]))\n"
     ]
    },
    {
     "data": {
      "text/plain": "<Figure size 640x480 with 2 Axes>",
      "image/png": "[encoded data removed]"
     },
     "metadata": {},
     "output_type": "display_data"
    }
   ],
   "source": [
    "# Choose 2 grades: B and BB\n",
    "d_g2 = [d_g[2], d_g[3]]\n",
    "n_g2 = [n_g[2], n_g[3]]\n",
    "\n",
    "# Make a 2D plot conjecturing the log likelihood function in gamma direction for fixed w\n",
    "# where fixed w come from MM estimation\n",
    "w_fixed = [MM_params[grade][0] for grade in [\"BB\", \"B\"]]\n",
    "x_gamma_values = np.linspace(-2.5, -1, 100)\n",
    "y_gamma_values = np.linspace(-3.2, -1.5, 100)\n",
    "z_values = np.zeros((len(x_gamma_values), len(y_gamma_values)))\n",
    "\n",
    "for i, x in enumerate(x_gamma_values):\n",
    "    for j, y in enumerate(y_gamma_values):\n",
    "        z_values[i, j] = -np.log(calculate_my_likelihood_arr(d_g2, n_g2, p_g, norm.pdf, w_fixed, [x, y]))\n",
    "\n",
    "plt.contourf(x_gamma_values, y_gamma_values, z_values, 20, cmap='RdGy')\n",
    "plt.colorbar()\n",
    "plt.xlabel(\"gamma for grade BB\")\n",
    "plt.ylabel(\"gamma for grade B\")\n",
    "plt.title(\"Log likelihood for different gamma values\")\n",
    "plt.show()"
   ],
   "metadata": {
    "collapsed": false,
    "ExecuteTime": {
     "end_time": "2024-04-10T14:14:58.838436200Z",
     "start_time": "2024-04-10T14:12:53.115482800Z"
    }
   },
   "id": "4c1365247eb1db03"
  },
  {
   "cell_type": "code",
   "execution_count": 25,
   "outputs": [
    {
     "name": "stderr",
     "output_type": "stream",
     "text": [
      "C:\\Users\\kissp\\AppData\\Local\\Temp\\ipykernel_21476\\814709574.py:14: RuntimeWarning: divide by zero encountered in log\n",
      "  z_values[i, j] = -np.log(calculate_my_likelihood_arr(d_g2, n_g2, p_g, norm.pdf, w_fixed, [x, y]))\n"
     ]
    },
    {
     "data": {
      "text/plain": "<Figure size 640x480 with 2 Axes>",
      "image/png": "[encoded data removed]"
     },
     "metadata": {},
     "output_type": "display_data"
    }
   ],
   "source": [
    "# Choose 2 grades: B and BB\n",
    "d_g2 = [d_g[2], d_g[3]]\n",
    "n_g2 = [n_g[2], n_g[3]]\n",
    "\n",
    "# Make a 2D plot conjecturing the log likelihood function in gamma direction for fixed w\n",
    "# where fixed w come from MM estimation\n",
    "w_fixed = [MM_params[grade][0] for grade in [\"BB\", \"B\"]]\n",
    "x_gamma_values = np.linspace(-2, 0, 100)\n",
    "y_gamma_values = np.linspace(-3.5, -2.2, 100)\n",
    "z_values = np.zeros((len(x_gamma_values), len(y_gamma_values)))\n",
    "\n",
    "for i, x in enumerate(x_gamma_values):\n",
    "    for j, y in enumerate(y_gamma_values):\n",
    "        z_values[i, j] = -np.log(calculate_my_likelihood_arr(d_g2, n_g2, p_g, norm.pdf, w_fixed, [x, y]))\n",
    "\n",
    "plt.contourf(x_gamma_values, y_gamma_values, z_values, 20, cmap='RdGy')\n",
    "plt.colorbar()\n",
    "plt.xlabel(\"gamma for grade BB\")\n",
    "plt.ylabel(\"gamma for grade B\")\n",
    "plt.title(\"Log likelihood for different gamma values\")\n",
    "plt.show()"
   ],
   "metadata": {
    "collapsed": false,
    "ExecuteTime": {
     "end_time": "2024-04-10T14:16:09.969995500Z",
     "start_time": "2024-04-10T14:14:58.837436300Z"
    }
   },
   "id": "adeb1a05843b0271"
  },
  {
   "cell_type": "code",
   "execution_count": 70,
   "outputs": [
    {
     "data": {
      "text/plain": "[-2.3842278912651227, -1.728911139866942]"
     },
     "execution_count": 70,
     "metadata": {},
     "output_type": "execute_result"
    }
   ],
   "source": [
    "[norm.ppf(MM_params[grade][1]) for grade in [\"BB\", \"B\"]]"
   ],
   "metadata": {
    "collapsed": false,
    "ExecuteTime": {
     "end_time": "2024-04-10T15:45:57.960512Z",
     "start_time": "2024-04-10T15:45:57.404671300Z"
    }
   },
   "id": "df4524b11f133819"
  },
  {
   "cell_type": "code",
   "execution_count": 74,
   "outputs": [
    {
     "data": {
      "text/plain": "<Figure size 640x480 with 2 Axes>",
      "image/png": "[encoded data removed]"
     },
     "metadata": {},
     "output_type": "display_data"
    }
   ],
   "source": [
    "# Choose 2 grades: B and BB\n",
    "d_g2 = [d_g[2], d_g[3]]\n",
    "n_g2 = [n_g[2], n_g[3]]\n",
    "\n",
    "# Fixed gamma\n",
    "#gamma_fixed = [norm.ppf(MM_params[grade][1]) for grade in [\"BB\", \"B\"]]\n",
    "gamma_fixed = [-2.5, -1.9]\n",
    "\n",
    "# Make a 2D plot conjecturing the log likelihood function in a1, a2 direction for fixed gamma\n",
    "a1 = np.linspace(0, 1, 20)\n",
    "w1 = w_calc_func(a1, gamma_fixed[0])\n",
    "a2 = np.linspace(0, 1, 20)\n",
    "w2 = w_calc_func(a2, gamma_fixed[1])\n",
    "\n",
    "b1 = gamma_fixed[0] / np.sqrt(1 - w1 ** 2)\n",
    "b2 = gamma_fixed[1] / np.sqrt(1 - w2 ** 2)\n",
    "\n",
    "z_values = np.zeros((len(a1), len(a2)))\n",
    "\n",
    "for i, x in enumerate(a1):\n",
    "    for j, y in enumerate(a2):\n",
    "        z_values[i, j] = -np.log(calculate_variable_changed_likelihood_arr(d_g2, n_g2, p_g, norm.pdf, np.array([a1[i], a2[j]]), np.array([b1[i], b2[j]])))\n",
    "\n",
    "plt.contourf(a1, a2, z_values, 20, cmap='RdGy')\n",
    "plt.colorbar()\n",
    "plt.xlabel(\"a1\")\n",
    "plt.ylabel(\"a2\")\n",
    "plt.title(\"Log likelihood for different a values\")\n",
    "plt.show()"
   ],
   "metadata": {
    "collapsed": false,
    "ExecuteTime": {
     "end_time": "2024-04-10T15:49:42.190571600Z",
     "start_time": "2024-04-10T15:48:49.100427100Z"
    }
   },
   "id": "e9285159d6a7d4be"
  },
  {
   "cell_type": "code",
   "execution_count": 77,
   "outputs": [
    {
     "data": {
      "text/plain": "-0.6770330266259245"
     },
     "execution_count": 77,
     "metadata": {},
     "output_type": "execute_result"
    }
   ],
   "source": [
    "norm.ppf(MM_params[grade][1])"
   ],
   "metadata": {
    "collapsed": false,
    "ExecuteTime": {
     "end_time": "2024-04-10T15:55:48.819708100Z",
     "start_time": "2024-04-10T15:55:48.633103200Z"
    }
   },
   "id": "c9b6a611b9e52d23"
  },
  {
   "cell_type": "code",
   "execution_count": 80,
   "outputs": [
    {
     "data": {
      "text/plain": "0.13016212757270598"
     },
     "execution_count": 80,
     "metadata": {},
     "output_type": "execute_result"
    }
   ],
   "source": [
    "MM_params[grade][0]"
   ],
   "metadata": {
    "collapsed": false,
    "ExecuteTime": {
     "end_time": "2024-04-10T15:59:34.949764300Z",
     "start_time": "2024-04-10T15:59:34.769510300Z"
    }
   },
   "id": "e28b8f8ecf5dea3"
  },
  {
   "cell_type": "code",
   "execution_count": null,
   "outputs": [],
   "source": [],
   "metadata": {
    "collapsed": false
   },
   "id": "335444c4f401cffd"
  },
  {
   "cell_type": "code",
   "execution_count": 82,
   "outputs": [
    {
     "name": "stderr",
     "output_type": "stream",
     "text": [
      "C:\\Users\\kissp\\AppData\\Local\\Temp\\ipykernel_21476\\4120952430.py:26: RuntimeWarning: divide by zero encountered in log\n",
      "  z_values[i, j] = -np.log(calculate_variable_changed_likelihood_arr(d_g2, n_g2, p_g, norm.pdf, np.array([a[i], a[i]]), np.array([b1, b2[j]])))\n"
     ]
    },
    {
     "data": {
      "text/plain": "<Figure size 640x480 with 2 Axes>",
      "image/png": "[encoded data removed]"
     },
     "metadata": {},
     "output_type": "display_data"
    }
   ],
   "source": [
    "# 1 w and 2 gamma\n",
    "# Choose 2 grades: B and BB\n",
    "d_g2 = [d_g[2], d_g[3]]\n",
    "n_g2 = [n_g[2], n_g[3]]\n",
    "\n",
    "# Fixed b1\n",
    "\n",
    "gamma_fixed = [-2.5, -1.9]\n",
    "#b1 = norm.ppf(MM_params[grade][1])\n",
    "b1 = b_calc_func(MM_params[grade][0], norm.ppf(MM_params[grade][1]))\n",
    "\n",
    "# Make a 2D plot conjecturing the log likelihood function in a1, a2 direction for fixed gamma\n",
    "a = np.linspace(-3, -3, 20)\n",
    "#w = w_calc_func(a1, gamma_fixed[0])\n",
    "b2 = np.linspace(-3, -3, 20)\n",
    "# a2 = np.linspace(0, 1, 20)\n",
    "# w2 = w_calc_func(a2, gamma_fixed[1])\n",
    "\n",
    "# b1 = gamma_fixed[0] / np.sqrt(1 - w1 ** 2)\n",
    "# b2 = gamma_fixed[1] / np.sqrt(1 - w2 ** 2)\n",
    "\n",
    "z_values = np.zeros((len(a), len(b2)))\n",
    "\n",
    "for i, x in enumerate(a):\n",
    "    for j, y in enumerate(b2):\n",
    "        z_values[i, j] = -np.log(calculate_variable_changed_likelihood_arr(d_g2, n_g2, p_g, norm.pdf, np.array([a[i], a[i]]), np.array([b1, b2[j]])))\n",
    "\n",
    "plt.contourf(a, b2, z_values, 20, cmap='RdGy')\n",
    "plt.colorbar()\n",
    "plt.xlabel(\"a\")\n",
    "plt.ylabel(\"b2\")\n",
    "plt.title(\"Log likelihood for different a values\")\n",
    "plt.show()"
   ],
   "metadata": {
    "collapsed": false,
    "ExecuteTime": {
     "end_time": "2024-04-10T16:00:32.010817300Z",
     "start_time": "2024-04-10T16:00:23.681950Z"
    }
   },
   "id": "dbd19fdc67977102"
  },
  {
   "cell_type": "code",
   "execution_count": null,
   "outputs": [],
   "source": [],
   "metadata": {
    "collapsed": false
   },
   "id": "56051a2ab9faed10"
  },
  {
   "cell_type": "code",
   "execution_count": 73,
   "outputs": [
    {
     "data": {
      "text/plain": "array([[         inf,          inf,          inf,          inf,\n                 inf,          inf,          inf,          inf,\n                 inf, 474.50131082,          inf,          inf,\n                 inf,          inf,          inf,          inf,\n                 inf,          inf,          inf,          inf],\n       [         inf,          inf,          inf,          inf,\n                 inf,          inf,          inf,          inf,\n                 inf, 167.3432678 ,          inf,          inf,\n                 inf,          inf,          inf,          inf,\n                 inf,          inf,          inf,          inf],\n       [         inf,          inf,          inf,          inf,\n                 inf,          inf,          inf,          inf,\n                 inf,  93.08789122,          inf,          inf,\n                 inf,          inf,          inf,          inf,\n                 inf,          inf,          inf,          inf],\n       [         inf,          inf,          inf,          inf,\n                 inf,          inf,          inf,          inf,\n                 inf, 234.16868841,          inf,          inf,\n                 inf,          inf,          inf,          inf,\n                 inf,          inf,          inf,          inf],\n       [         inf,          inf, 719.25837628, 521.88839705,\n                 inf,          inf,          inf,          inf,\n                 inf,  38.70700557,          inf,          inf,\n                 inf,          inf,          inf,          inf,\n                 inf,          inf,          inf,          inf],\n       [         inf,          inf, 286.2455591 ,  88.87557987,\n        328.51821378,          inf,          inf,          inf,\n                 inf,  87.931647  ,          inf,          inf,\n                 inf,          inf,          inf,          inf,\n                 inf,          inf,          inf,          inf],\n       [         inf,          inf, 230.64008188,  30.45329913,\n        272.91273656,          inf, 169.89020921, 375.85209883,\n        320.28131608,  14.98042123,          inf,          inf,\n                 inf,          inf,          inf,          inf,\n                 inf,          inf,          inf,          inf],\n       [         inf,          inf, 396.93935275, 199.56937352,\n        439.21200743,          inf,  71.84880963,  77.56001768,\n         82.5971577 ,  26.91839044,          inf,          inf,\n                 inf,          inf,          inf,          inf,\n                 inf,          inf,          inf,          inf],\n       [         inf,          inf, 428.23698978, 230.86701055,\n        470.50964446,          inf, 125.564043  ,  18.57873599,\n         14.50084002,  53.8324954 ,          inf,          inf,\n                 inf,          inf,          inf,          inf,\n                 inf,          inf,          inf,          inf],\n       [         inf,          inf, 223.53400885,  27.57452017,\n        265.80666353,          inf,  68.77916403,  15.00287188,\n         15.97862201,  20.29724964, 312.32086052, 266.15469526,\n        274.71545866, 382.2858275 ,          inf,          inf,\n        395.15287013, 592.52284936,          inf,          inf],\n       [         inf,          inf, 592.52284936, 395.15287013,\n                 inf,          inf, 382.2858275 , 274.71545866,\n        266.15469526, 312.32086052,  20.29724964,  15.97862201,\n         15.00287188,  68.77916403,          inf, 265.80666353,\n         27.57452017, 223.53400885,          inf,          inf],\n       [         inf,          inf,          inf,          inf,\n                 inf,          inf,          inf,          inf,\n                 inf,          inf,  53.8324954 ,  14.50084002,\n         18.57873599, 125.564043  ,          inf, 470.50964446,\n        230.86701055, 428.23698978,          inf,          inf],\n       [         inf,          inf,          inf,          inf,\n                 inf,          inf,          inf,          inf,\n                 inf,          inf,  26.91839044,  82.5971577 ,\n         77.56001768,  71.84880963,          inf, 439.21200743,\n        199.56937352, 396.93935275,          inf,          inf],\n       [         inf,          inf,          inf,          inf,\n                 inf,          inf,          inf,          inf,\n                 inf,          inf,  14.98042123, 320.28131608,\n        375.85209883, 169.89020921,          inf, 272.91273656,\n         30.45329913, 230.64008188,          inf,          inf],\n       [         inf,          inf,          inf,          inf,\n                 inf,          inf,          inf,          inf,\n                 inf,          inf,  87.931647  ,          inf,\n                 inf,          inf,          inf, 328.51821378,\n         88.87557987, 286.2455591 ,          inf,          inf],\n       [         inf,          inf,          inf,          inf,\n                 inf,          inf,          inf,          inf,\n                 inf,          inf,  38.70700557,          inf,\n                 inf,          inf,          inf,          inf,\n        521.88839705, 719.25837628,          inf,          inf],\n       [         inf,          inf,          inf,          inf,\n                 inf,          inf,          inf,          inf,\n                 inf,          inf, 234.16868841,          inf,\n                 inf,          inf,          inf,          inf,\n                 inf,          inf,          inf,          inf],\n       [         inf,          inf,          inf,          inf,\n                 inf,          inf,          inf,          inf,\n                 inf,          inf,  93.08789122,          inf,\n                 inf,          inf,          inf,          inf,\n                 inf,          inf,          inf,          inf],\n       [         inf,          inf,          inf,          inf,\n                 inf,          inf,          inf,          inf,\n                 inf,          inf, 167.3432678 ,          inf,\n                 inf,          inf,          inf,          inf,\n                 inf,          inf,          inf,          inf],\n       [         inf,          inf,          inf,          inf,\n                 inf,          inf,          inf,          inf,\n                 inf,          inf, 474.50131082,          inf,\n                 inf,          inf,          inf,          inf,\n                 inf,          inf,          inf,          inf]])"
     },
     "execution_count": 73,
     "metadata": {},
     "output_type": "execute_result"
    }
   ],
   "source": [
    "z_values"
   ],
   "metadata": {
    "collapsed": false,
    "ExecuteTime": {
     "end_time": "2024-04-10T15:48:05.038375200Z",
     "start_time": "2024-04-10T15:48:04.837303100Z"
    }
   },
   "id": "ba4c57cfdd530acd"
  },
  {
   "cell_type": "code",
   "execution_count": 54,
   "outputs": [
    {
     "data": {
      "text/plain": "(2.328787704727134e-12, 4.428034568118371e-12)"
     },
     "execution_count": 54,
     "metadata": {},
     "output_type": "execute_result"
    }
   ],
   "source": [
    "from scipy.stats import binom\n",
    "from scipy.integrate import quad\n",
    "\n",
    "prob_dens_func = lambda x: norm.pdf(x)\n",
    "\n",
    "integrand = lambda x: np.prod(binom.pmf(d_g, n_g, p_g(x, w_init, gamma_init))) * prob_dens_func(x)\n",
    "\n",
    "quad(integrand, -3, 3)"
   ],
   "metadata": {
    "collapsed": false,
    "ExecuteTime": {
     "end_time": "2024-04-10T15:03:04.251655100Z",
     "start_time": "2024-04-10T15:03:04.109633500Z"
    }
   },
   "id": "c7c1029ba458934b"
  },
  {
   "cell_type": "code",
   "execution_count": 55,
   "outputs": [
    {
     "data": {
      "text/plain": "(2.328787704727134e-12, 4.428034568118371e-12)"
     },
     "execution_count": 55,
     "metadata": {},
     "output_type": "execute_result"
    }
   ],
   "source": [
    "quad(integrand, -3, 3, epsrel=1.49e-24)"
   ],
   "metadata": {
    "collapsed": false,
    "ExecuteTime": {
     "end_time": "2024-04-10T15:03:04.754574300Z",
     "start_time": "2024-04-10T15:03:04.528144800Z"
    }
   },
   "id": "b944d49e0632d619"
  },
  {
   "cell_type": "code",
   "execution_count": 56,
   "outputs": [
    {
     "data": {
      "text/plain": "(2.7100952743182037e-12, 6.429944793199329e-23)"
     },
     "execution_count": 56,
     "metadata": {},
     "output_type": "execute_result"
    }
   ],
   "source": [
    "quad(integrand, -3, 3, epsabs=1.49e-28)"
   ],
   "metadata": {
    "collapsed": false,
    "ExecuteTime": {
     "end_time": "2024-04-10T15:03:05.676149900Z",
     "start_time": "2024-04-10T15:03:04.890283600Z"
    }
   },
   "id": "4beb2e15b1d2ec2a"
  },
  {
   "cell_type": "code",
   "execution_count": 57,
   "outputs": [
    {
     "data": {
      "text/plain": "(3.6119107723598606e-12, 7.063795862818002e-12)"
     },
     "execution_count": 57,
     "metadata": {},
     "output_type": "execute_result"
    }
   ],
   "source": [
    "quad(integrand, -5, 5)"
   ],
   "metadata": {
    "collapsed": false,
    "ExecuteTime": {
     "end_time": "2024-04-10T15:03:06.349687700Z",
     "start_time": "2024-04-10T15:03:05.886682400Z"
    }
   },
   "id": "45391ff16ceefe91"
  },
  {
   "cell_type": "code",
   "execution_count": 58,
   "outputs": [
    {
     "data": {
      "text/plain": "(2.7100952743203997e-12, 3.449782153040557e-21)"
     },
     "execution_count": 58,
     "metadata": {},
     "output_type": "execute_result"
    }
   ],
   "source": [
    "quad(integrand, -5, 5, epsabs=1.49e-28)"
   ],
   "metadata": {
    "collapsed": false,
    "ExecuteTime": {
     "end_time": "2024-04-10T15:03:08.002662Z",
     "start_time": "2024-04-10T15:03:07.454968800Z"
    }
   },
   "id": "7992060c1c8f047a"
  },
  {
   "cell_type": "code",
   "execution_count": 34,
   "outputs": [
    {
     "data": {
      "text/plain": "25.816785608467388"
     },
     "execution_count": 34,
     "metadata": {},
     "output_type": "execute_result"
    }
   ],
   "source": [
    "-np.log(calculate_my_likelihood_arr(d_g, n_g, p_g, norm.pdf, w_init[0], gamma_init))"
   ],
   "metadata": {
    "collapsed": false,
    "ExecuteTime": {
     "end_time": "2024-04-10T14:27:56.008138900Z",
     "start_time": "2024-04-10T14:27:55.816614800Z"
    }
   },
   "id": "2cb61765e09f0f78"
  },
  {
   "cell_type": "code",
   "execution_count": 35,
   "outputs": [
    {
     "data": {
      "text/plain": "22.11912730829603"
     },
     "execution_count": 35,
     "metadata": {},
     "output_type": "execute_result"
    }
   ],
   "source": [
    "-np.log(calculate_my_likelihood_arr(d_g, n_g, p_g, norm.pdf, [0], gamma_init))"
   ],
   "metadata": {
    "collapsed": false,
    "ExecuteTime": {
     "end_time": "2024-04-10T14:27:57.220410300Z",
     "start_time": "2024-04-10T14:27:57.111403900Z"
    }
   },
   "id": "1635b9aecbe0cfb6"
  },
  {
   "cell_type": "markdown",
   "source": [
    "## Fixed w case"
   ],
   "metadata": {
    "collapsed": false
   },
   "id": "67621991250952a0"
  },
  {
   "cell_type": "code",
   "execution_count": 36,
   "outputs": [],
   "source": [
    "# Init comes from MM all grdades\n",
    "w_fixed_init = [MM_params[grade][0] for grade in [\"A\", \"BBB\", \"BB\", \"B\", \"CCC/C\"]]\n",
    "gamma_init = [norm.ppf(MM_params[grade][1]) for grade in [\"A\", \"BBB\", \"BB\", \"B\", \"CCC/C\"]]\n",
    "\n",
    "ML_linear_estimation_fixed_w = ml_estimation_linear_with_w_and_g(d_g, n_g, w_fixed_init, gamma_init, fixed_w=True)"
   ],
   "metadata": {
    "collapsed": false,
    "ExecuteTime": {
     "end_time": "2024-04-10T14:42:15.443395Z",
     "start_time": "2024-04-10T14:41:29.476202500Z"
    }
   },
   "id": "facdee286d06bd9b"
  },
  {
   "cell_type": "code",
   "execution_count": 38,
   "outputs": [
    {
     "data": {
      "text/plain": "(array([0.08840467, 0.09821019, 0.12221489, 0.10813871, 0.13016213]),\n array([-3.25948922, -2.8721767 , -2.36630475, -1.71870883, -0.67125024]))"
     },
     "execution_count": 38,
     "metadata": {},
     "output_type": "execute_result"
    }
   ],
   "source": [
    "ML_linear_estimation_fixed_w[0], ML_linear_estimation_fixed_w[1]"
   ],
   "metadata": {
    "collapsed": false,
    "ExecuteTime": {
     "end_time": "2024-04-10T14:42:29.833762200Z",
     "start_time": "2024-04-10T14:42:29.765757500Z"
    }
   },
   "id": "8a09e1541d52492"
  },
  {
   "cell_type": "code",
   "execution_count": 42,
   "outputs": [
    {
     "data": {
      "text/plain": "25.785366136088353"
     },
     "execution_count": 42,
     "metadata": {},
     "output_type": "execute_result"
    }
   ],
   "source": [
    "ML_linear_estimation_fixed_w[2].fun"
   ],
   "metadata": {
    "collapsed": false,
    "ExecuteTime": {
     "end_time": "2024-04-10T14:44:49.718307200Z",
     "start_time": "2024-04-10T14:44:49.629906700Z"
    }
   },
   "id": "e61bd14b260decc3"
  },
  {
   "cell_type": "code",
   "execution_count": 40,
   "outputs": [
    {
     "data": {
      "text/plain": "[-3.274097580352716,\n -2.8865426119490847,\n -2.3842278912651227,\n -1.728911139866942,\n -0.6770330266259245]"
     },
     "execution_count": 40,
     "metadata": {},
     "output_type": "execute_result"
    }
   ],
   "source": [
    "gamma_init"
   ],
   "metadata": {
    "collapsed": false,
    "ExecuteTime": {
     "end_time": "2024-04-10T14:43:22.270981400Z",
     "start_time": "2024-04-10T14:43:22.139974100Z"
    }
   },
   "id": "2b7077f117359384"
  },
  {
   "cell_type": "code",
   "execution_count": 45,
   "outputs": [
    {
     "data": {
      "text/plain": "(array([0.08840467, 0.09821019, 0.12221489, 0.10813871, 0.13016213]),\n array([-3.24685305, -2.85847304, -2.34920324, -1.70351501, -0.6530101 ]))"
     },
     "execution_count": 45,
     "metadata": {},
     "output_type": "execute_result"
    }
   ],
   "source": [
    "# Init comes from MM all grades\n",
    "w_fixed_init = [MM_params[grade][0] for grade in [\"A\", \"BBB\", \"BB\", \"B\", \"CCC/C\"]]\n",
    "gamma_init2 = np.array([-3, -2.7, -2.3, -1.7, -0.7])\n",
    "\n",
    "ML_linear_estimation_fixed_w2 = ml_estimation_linear_with_w_and_g(d_g, n_g, w_fixed_init, gamma_init2, fixed_w=True)\n",
    "\n",
    "ML_linear_estimation_fixed_w2[0], ML_linear_estimation_fixed_w2[1]"
   ],
   "metadata": {
    "collapsed": false,
    "ExecuteTime": {
     "end_time": "2024-04-10T14:46:12.519223600Z",
     "start_time": "2024-04-10T14:45:44.268828700Z"
    }
   },
   "id": "3b65c1ff3fbd22d7"
  },
  {
   "cell_type": "code",
   "execution_count": 46,
   "outputs": [
    {
     "data": {
      "text/plain": "25.795266213895015"
     },
     "execution_count": 46,
     "metadata": {},
     "output_type": "execute_result"
    }
   ],
   "source": [
    "ML_linear_estimation_fixed_w2[2].fun"
   ],
   "metadata": {
    "collapsed": false,
    "ExecuteTime": {
     "end_time": "2024-04-10T14:46:12.520226400Z",
     "start_time": "2024-04-10T14:46:12.505227800Z"
    }
   },
   "id": "8c1f264b5ea05cb4"
  },
  {
   "cell_type": "code",
   "execution_count": 51,
   "outputs": [
    {
     "name": "stdout",
     "output_type": "stream",
     "text": [
      "Estimated parameters with maximum likelihood method: [0.08840467 0.09821019 0.12221489 0.10813871 0.13016213] [-3.25947637 -2.87216739 -2.3662951  -1.7187032  -0.6712467 ]\n",
      "Current function value: 25.785366298301344\n"
     ]
    }
   ],
   "source": [
    "# Init comes from MM all grades\n",
    "w_fixed_init = [MM_params[grade][0] for grade in [\"A\", \"BBB\", \"BB\", \"B\", \"CCC/C\"]]\n",
    "gamma_init3 = np.array([-3.01, -2.7, -2.3, -1.7, -0.7])\n",
    "\n",
    "ML_linear_estimation_fixed_w3 = ml_estimation_linear_with_w_and_g(d_g, n_g, w_fixed_init, gamma_init3, fixed_w=True)\n",
    "\n",
    "print(\"Estimated parameters with maximum likelihood method:\", ML_linear_estimation_fixed_w3[0], ML_linear_estimation_fixed_w3[1])\n",
    "print(\"Current function value:\", ML_linear_estimation_fixed_w3[2].fun)"
   ],
   "metadata": {
    "collapsed": false,
    "ExecuteTime": {
     "end_time": "2024-04-10T14:52:44.252970100Z",
     "start_time": "2024-04-10T14:52:13.782703800Z"
    }
   },
   "id": "6f5546e8651c5940"
  },
  {
   "cell_type": "code",
   "execution_count": 61,
   "outputs": [
    {
     "name": "stderr",
     "output_type": "stream",
     "text": [
      "C:\\Users\\kissp\\PycharmProjects\\VasicekPDModell\\src\\ML_estimation.py:271: RuntimeWarning: divide by zero encountered in log\n",
      "  objective_function = lambda params: -np.log(calculate_variable_changed_likelihood_arr(\n",
      "C:\\Users\\kissp\\PycharmProjects\\VasicekPDModell\\venv\\lib\\site-packages\\scipy\\optimize\\_optimize.py:941: RuntimeWarning: invalid value encountered in subtract\n",
      "  np.max(np.abs(fsim[0] - fsim[1:])) <= fatol):\n"
     ]
    },
    {
     "name": "stdout",
     "output_type": "stream",
     "text": [
      "Estimated parameters with maximum likelihood method: [0.08840467 0.09821019 0.12221489 0.10813871 0.13016213] [0. 0. 0. 0. 0.]\n",
      "Current function value: inf\n"
     ]
    }
   ],
   "source": [
    "w_fixed_init = [MM_params[grade][0] for grade in [\"A\", \"BBB\", \"BB\", \"B\", \"CCC/C\"]]\n",
    "#gamma_init4 = np.array([-1.5, -1.5, -1.5, -1.5, -1.5])\n",
    "gamma_init4 = np.array([0, 0, 0, 0, 0])\n",
    "\n",
    "ML_linear_estimation_fixed_w4 = ml_estimation_linear_with_w_and_g(d_g, n_g, w_fixed_init, gamma_init4, fixed_w=True)\n",
    "\n",
    "print(\"Estimated parameters with maximum likelihood method:\", ML_linear_estimation_fixed_w4[0], ML_linear_estimation_fixed_w4[1])\n",
    "print(\"Current function value:\", ML_linear_estimation_fixed_w4[2].fun)"
   ],
   "metadata": {
    "collapsed": false,
    "ExecuteTime": {
     "end_time": "2024-04-10T15:16:18.232938200Z",
     "start_time": "2024-04-10T15:16:05.916200700Z"
    }
   },
   "id": "5eb3e33266a2f2a8"
  },
  {
   "cell_type": "code",
   "execution_count": null,
   "outputs": [],
   "source": [],
   "metadata": {
    "collapsed": false
   },
   "id": "552b3df7a997218a"
  },
  {
   "cell_type": "code",
   "execution_count": null,
   "outputs": [],
   "source": [],
   "metadata": {
    "collapsed": false
   },
   "id": "2418f2df1289f769"
  },
  {
   "cell_type": "markdown",
   "source": [
    "## Fixed gamma case"
   ],
   "metadata": {
    "collapsed": false
   },
   "id": "69a459ef58a39958"
  },
  {
   "cell_type": "code",
   "execution_count": 68,
   "outputs": [
    {
     "data": {
      "text/plain": "[0.08840467326136718,\n 0.09821019378284787,\n 0.12221489166349328,\n 0.10813871371837049,\n 0.13016212757270598]"
     },
     "execution_count": 68,
     "metadata": {},
     "output_type": "execute_result"
    }
   ],
   "source": [
    "w_init"
   ],
   "metadata": {
    "collapsed": false,
    "ExecuteTime": {
     "end_time": "2024-04-10T15:41:16.412360400Z",
     "start_time": "2024-04-10T15:41:16.118677900Z"
    }
   },
   "id": "c7d92a8033d8b670"
  },
  {
   "cell_type": "code",
   "execution_count": 52,
   "outputs": [],
   "source": [
    "# Init comes from MM all grades\n",
    "w_init = [MM_params[grade][0] for grade in [\"A\", \"BBB\", \"BB\", \"B\", \"CCC/C\"]]\n",
    "gamma_fixed = [norm.ppf(MM_params[grade][1]) for grade in [\"A\", \"BBB\", \"BB\", \"B\", \"CCC/C\"]]\n",
    "\n",
    "ML_linear_estimation_fixed_gamma = ml_estimation_linear_with_w_and_g(d_g, n_g, w_init, gamma_fixed, fixed_g=True)"
   ],
   "metadata": {
    "collapsed": false,
    "ExecuteTime": {
     "end_time": "2024-04-10T14:59:49.030661800Z",
     "start_time": "2024-04-10T14:58:59.681101300Z"
    }
   },
   "id": "84dd76827650a89f"
  },
  {
   "cell_type": "code",
   "execution_count": 53,
   "outputs": [
    {
     "name": "stdout",
     "output_type": "stream",
     "text": [
      "Estimated parameters with maximum likelihood method: [0.01356762 0.01345452 0.0167972  0.00953749 0.0054181 ] [-3.28666469 -2.90030228 -2.40189695 -1.7390305  -0.68283213]\n",
      "Current function value: 23.643810895248325\n"
     ]
    }
   ],
   "source": [
    "print(\"Estimated parameters with maximum likelihood method:\", ML_linear_estimation_fixed_gamma[0], ML_linear_estimation_fixed_gamma[1])\n",
    "print(\"Current function value:\", ML_linear_estimation_fixed_gamma[2].fun)"
   ],
   "metadata": {
    "collapsed": false,
    "ExecuteTime": {
     "end_time": "2024-04-10T15:00:01.895858100Z",
     "start_time": "2024-04-10T15:00:01.780855500Z"
    }
   },
   "id": "c01f8995fcf15eae"
  },
  {
   "cell_type": "code",
   "execution_count": null,
   "outputs": [],
   "source": [
    "# Init comes from MM all grades\n",
    "w_init = [MM_params[grade][0] for grade in [\"A\", \"BBB\", \"BB\", \"B\", \"CCC/C\"]]\n",
    "gamma_fixed = [norm.ppf(MM_params[grade][1]) for grade in [\"A\", \"BBB\", \"BB\", \"B\", \"CCC/C\"]]\n",
    "\n",
    "ML_linear_estimation_fixed_gamma = ml_estimation_linear_with_w_and_g(d_g, n_g, w_init, gamma_fixed, fixed_g=True)"
   ],
   "metadata": {
    "collapsed": false
   },
   "id": "918c904a002a6f3b"
  },
  {
   "cell_type": "code",
   "execution_count": null,
   "outputs": [],
   "source": [],
   "metadata": {
    "collapsed": false
   },
   "id": "8df8611bd8004edf"
  },
  {
   "cell_type": "code",
   "execution_count": 125,
   "outputs": [
    {
     "data": {
      "text/plain": "array([0.13])"
     },
     "execution_count": 125,
     "metadata": {},
     "output_type": "execute_result"
    }
   ],
   "source": [
    "w_init"
   ],
   "metadata": {
    "collapsed": false,
    "ExecuteTime": {
     "end_time": "2024-04-10T12:16:29.281123900Z",
     "start_time": "2024-04-10T12:16:29.239120800Z"
    }
   },
   "id": "c40c888b9414b69f"
  },
  {
   "cell_type": "code",
   "execution_count": 31,
   "outputs": [
    {
     "data": {
      "text/plain": "array([-3.17998169e+00, -2.80911069e+00, -2.35565584e+00, -1.73165322e+00,\n       -6.77125930e-01,  1.54954326e-01,  1.43551223e-01,  6.89628218e-02,\n       -6.89517068e-03,  3.50823784e-04])"
     },
     "execution_count": 31,
     "metadata": {},
     "output_type": "execute_result"
    }
   ],
   "source": [
    "w_init = [0.1, 0.1, 0.1, 0.1, 0.1]\n",
    "\n",
    "ML_estimation2 = parameter_estimation(d_g, n_g, w_init, gamma_init)\n",
    "ML_estimation2.x"
   ],
   "metadata": {
    "collapsed": false,
    "ExecuteTime": {
     "end_time": "2024-04-10T12:47:34.733671Z",
     "start_time": "2024-04-10T12:46:51.000642200Z"
    }
   },
   "id": "3a3ccd01777f0fe1"
  },
  {
   "cell_type": "code",
   "execution_count": 33,
   "outputs": [
    {
     "data": {
      "text/plain": "24.519007807071002"
     },
     "execution_count": 33,
     "metadata": {},
     "output_type": "execute_result"
    }
   ],
   "source": [
    "ML_estimation2.fun"
   ],
   "metadata": {
    "collapsed": false,
    "ExecuteTime": {
     "end_time": "2024-04-10T12:47:54.946521Z",
     "start_time": "2024-04-10T12:47:54.863601400Z"
    }
   },
   "id": "3f77360a424b1eb3"
  },
  {
   "cell_type": "code",
   "execution_count": null,
   "outputs": [],
   "source": [],
   "metadata": {
    "collapsed": false
   },
   "id": "277b85da768c522e"
  },
  {
   "cell_type": "code",
   "execution_count": 34,
   "outputs": [
    {
     "name": "stdout",
     "output_type": "stream",
     "text": [
      "Estimated parameters with maximum likelihood method: [0.35230813 0.02622566 0.04965887 0.00652571 0.01386929] [-3.11502559 -2.88823288 -2.38888556 -1.72942717 -0.67913314]\n",
      "Current function value: 24.62834464573233\n"
     ]
    }
   ],
   "source": [
    "gamma_init = [norm.ppf(MM_params[grade][1]) for grade in [\"A\", \"BBB\", \"BB\", \"B\", \"CCC/C\"]]\n",
    "w_init = [0.1, 0.1, 0.1, 0.1, 0.1]\n",
    "\n",
    "ML_estimation2 = ml_estimation_linear_with_w_and_g(d_g, n_g, w_init, gamma_init)\n",
    "print(\"Estimated parameters with maximum likelihood method:\", ML_estimation2[0], ML_estimation2[1])\n",
    "print(\"Current function value:\", ML_estimation2[2].fun)"
   ],
   "metadata": {
    "collapsed": false,
    "ExecuteTime": {
     "end_time": "2024-04-10T12:48:36.276674400Z",
     "start_time": "2024-04-10T12:47:58.414504100Z"
    }
   },
   "id": "de49c2cfdfb233da"
  },
  {
   "cell_type": "code",
   "execution_count": 36,
   "outputs": [
    {
     "data": {
      "text/plain": "24.62834464573233"
     },
     "execution_count": 36,
     "metadata": {},
     "output_type": "execute_result"
    }
   ],
   "source": [
    "-np.log(calculate_my_likelihood_arr(d_g, n_g, p_g, norm.pdf, ML_estimation2[0], ML_estimation2[1]))"
   ],
   "metadata": {
    "collapsed": false,
    "ExecuteTime": {
     "end_time": "2024-04-10T12:51:08.027511600Z",
     "start_time": "2024-04-10T12:51:07.942506200Z"
    }
   },
   "id": "f2e388f708477c68"
  },
  {
   "cell_type": "code",
   "execution_count": 23,
   "outputs": [],
   "source": [
    "# Change the initial guess for w from 0.05 to 0.25 with step 0.005\n",
    "w_values = np.linspace(0.05, 0.25, 41)\n",
    "ML_params_for_w = []\n",
    "for w in w_values:\n",
    "    ML_estimation_w = parameter_estimation(d_g, n_g, [w], gamma_init)\n",
    "    ML_params_for_w.append(ML_estimation_w.x)"
   ],
   "metadata": {
    "collapsed": false,
    "ExecuteTime": {
     "end_time": "2024-04-08T19:35:21.281577800Z",
     "start_time": "2024-04-08T19:30:45.686043800Z"
    }
   },
   "id": "c65aaee2b80a0a9"
  },
  {
   "cell_type": "code",
   "execution_count": 24,
   "outputs": [
    {
     "data": {
      "text/plain": "<Figure size 640x480 with 1 Axes>",
      "image/png": "[encoded data removed]"
     },
     "metadata": {},
     "output_type": "display_data"
    }
   ],
   "source": [
    "# Plot the results\n",
    "plt.plot(w_values, [x[5] for x in ML_params_for_w])\n",
    "# add f(x) = x line\n",
    "plt.plot(w_values, w_values, linestyle='dashed')\n",
    "plt.xlabel(\"w\")\n",
    "plt.ylabel(\"Estimated w\")\n",
    "plt.title(\"Estimated w for different initial guesses\")\n",
    "plt.show()"
   ],
   "metadata": {
    "collapsed": false,
    "ExecuteTime": {
     "end_time": "2024-04-08T19:35:21.612601Z",
     "start_time": "2024-04-08T19:35:21.285581300Z"
    }
   },
   "id": "4ec8db02c8dd334d"
  },
  {
   "cell_type": "code",
   "execution_count": 53,
   "outputs": [
    {
     "name": "stderr",
     "output_type": "stream",
     "text": [
      "C:\\Users\\kissp\\PycharmProjects\\VasicekPDModell\\src\\ML_estimation.py:251: RuntimeWarning: divide by zero encountered in log\n",
      "  objective_function = lambda params: -np.log(calculate_variable_changed_likelihood_arr(\n",
      "C:\\Users\\kissp\\PycharmProjects\\VasicekPDModell\\venv\\lib\\site-packages\\scipy\\optimize\\_optimize.py:941: RuntimeWarning: invalid value encountered in subtract\n",
      "  np.max(np.abs(fsim[0] - fsim[1:])) <= fatol):\n"
     ]
    }
   ],
   "source": [
    "w_value = 0.13\n",
    "ML_estimation_w = ml_estimation_linear_with_w_and_g(d_g, n_g, [w_value], gamma_init)"
   ],
   "metadata": {
    "collapsed": false,
    "ExecuteTime": {
     "end_time": "2024-04-10T11:32:09.167745900Z",
     "start_time": "2024-04-10T11:32:04.993579100Z"
    }
   },
   "id": "69a5df2624242a0a"
  },
  {
   "cell_type": "code",
   "execution_count": 75,
   "outputs": [],
   "source": [],
   "metadata": {
    "collapsed": false,
    "ExecuteTime": {
     "end_time": "2024-04-10T11:46:17.882147800Z",
     "start_time": "2024-04-10T11:46:17.854149Z"
    }
   },
   "id": "b00ec55fb4fe787d"
  },
  {
   "cell_type": "code",
   "execution_count": 92,
   "outputs": [
    {
     "data": {
      "text/plain": "array([-0.13111262, -0.13111262, -0.13111262, -0.13111262, -0.13111262,\n       -3.30211939, -2.91124748, -2.40463363, -1.74370826, -0.68282751])"
     },
     "execution_count": 92,
     "metadata": {},
     "output_type": "execute_result"
    }
   ],
   "source": [
    "w_init = np.array([0.13])\n",
    "\n",
    "if len(w_init) == 1:\n",
    "    w_init = np.full_like(gamma_init, w_init[0])\n",
    "elif len(gamma_init) == 1:\n",
    "    gamma_list_init = np.full_like(w_init, gamma_init[0])\n",
    "\n",
    "a_init = np.array(a_calc_func(w_init, gamma_init))\n",
    "b_init = np.array(b_calc_func(w_init, gamma_init))\n",
    "\n",
    "initial_guess = np.concatenate((a_init, b_init))\n",
    "\n",
    "initial_guess"
   ],
   "metadata": {
    "collapsed": false,
    "ExecuteTime": {
     "end_time": "2024-04-10T11:54:40.718566700Z",
     "start_time": "2024-04-10T11:54:40.635561100Z"
    }
   },
   "id": "2e4ddca06cfc8ca1"
  },
  {
   "cell_type": "code",
   "execution_count": 97,
   "outputs": [
    {
     "data": {
      "text/plain": "array([-3.27409758, -2.88654261, -2.38422789, -1.72891114, -0.67703303])"
     },
     "execution_count": 97,
     "metadata": {},
     "output_type": "execute_result"
    }
   ],
   "source": [
    "np.array(gamma_init)"
   ],
   "metadata": {
    "collapsed": false,
    "ExecuteTime": {
     "end_time": "2024-04-10T11:57:06.805958200Z",
     "start_time": "2024-04-10T11:57:06.749477200Z"
    }
   },
   "id": "2546cfe8654e1dc8"
  },
  {
   "cell_type": "code",
   "execution_count": 99,
   "outputs": [],
   "source": [
    "w_init = np.array([0.13])\n",
    "gamma_init = np.array(gamma_init)"
   ],
   "metadata": {
    "collapsed": false,
    "ExecuteTime": {
     "end_time": "2024-04-10T12:01:41.225033100Z",
     "start_time": "2024-04-10T12:01:41.194032100Z"
    }
   },
   "id": "aa44ce421afae934"
  },
  {
   "cell_type": "code",
   "execution_count": 103,
   "outputs": [
    {
     "data": {
      "text/plain": "(array([-0.13111262]),\n array([-3.30211939, -2.91124748, -2.40463363, -1.74370826, -0.68282751]))"
     },
     "execution_count": 103,
     "metadata": {},
     "output_type": "execute_result"
    }
   ],
   "source": [
    "a_init = np.array(a_calc_func(w_init, gamma_init))\n",
    "b_init = np.array(b_calc_func(w_init, gamma_init))\n",
    "a_init, b_init"
   ],
   "metadata": {
    "collapsed": false,
    "ExecuteTime": {
     "end_time": "2024-04-10T12:02:21.379707500Z",
     "start_time": "2024-04-10T12:02:21.281700500Z"
    }
   },
   "id": "8704a980f134d651"
  },
  {
   "cell_type": "code",
   "execution_count": 105,
   "outputs": [
    {
     "data": {
      "text/plain": "(array([0.13]),\n array([-3.27409758, -2.88654261, -2.38422789, -1.72891114, -0.67703303]))"
     },
     "execution_count": 105,
     "metadata": {},
     "output_type": "execute_result"
    }
   ],
   "source": [
    "w_calc_func(a_init, b_init), gamma_calc_func(a_init, b_init)"
   ],
   "metadata": {
    "collapsed": false,
    "ExecuteTime": {
     "end_time": "2024-04-10T12:02:51.658343400Z",
     "start_time": "2024-04-10T12:02:51.601340600Z"
    }
   },
   "id": "558d61e632c08225"
  },
  {
   "cell_type": "code",
   "execution_count": 106,
   "outputs": [
    {
     "name": "stdout",
     "output_type": "stream",
     "text": [
      "Optimization terminated successfully.\n",
      "         Current function value: 22.248767\n",
      "         Iterations: 468\n",
      "         Function evaluations: 744\n"
     ]
    }
   ],
   "source": [
    "w_init = np.array([0.13])\n",
    "gamma_init = np.array(gamma_init)\n",
    "\n",
    "\n",
    "a_init = np.array(a_calc_func(w_init, gamma_init))\n",
    "b_init = np.array(b_calc_func(w_init, gamma_init))\n",
    "\n",
    "initial_guess = np.concatenate((a_init, b_init))\n",
    "\n",
    "num_of_a = len(a_init)\n",
    "bounds = [(-10, 10)] * len(initial_guess)\n",
    "\n",
    "objective_function = lambda params: -np.log(calculate_variable_changed_likelihood_arr(\n",
    "    d_g, n_g, p_g, norm.pdf, params[:num_of_a], params[num_of_a:len(initial_guess)]\n",
    "))\n",
    "\n",
    "result = minimize(objective_function,\n",
    "                  initial_guess,\n",
    "                  method=\"Nelder-Mead\",\n",
    "                  bounds=bounds,\n",
    "                  options={\n",
    "                      'disp': True})\n",
    "\n",
    "factor_loading_result = np.array(w_calc_func(np.array(result.x[:num_of_a]), np.array(result.x[num_of_a:])))\n",
    "gamma_result = np.array(gamma_calc_func(np.array(result.x[:num_of_a]), np.array(result.x[num_of_a:])))"
   ],
   "metadata": {
    "collapsed": false,
    "ExecuteTime": {
     "end_time": "2024-04-10T12:04:24.197662100Z",
     "start_time": "2024-04-10T12:04:12.120212700Z"
    }
   },
   "id": "9cecbef7809f3e5b"
  },
  {
   "cell_type": "code",
   "execution_count": 109,
   "outputs": [
    {
     "data": {
      "text/plain": "22.24876681795912"
     },
     "execution_count": 109,
     "metadata": {},
     "output_type": "execute_result"
    }
   ],
   "source": [
    "log_likelihood_opt = -np.log(calculate_variable_changed_likelihood_arr(\n",
    "    d_g, n_g, p_g, norm.pdf, result.x[:num_of_a], result.x[num_of_a:len(initial_guess)]\n",
    "))\n",
    "\n",
    "log_likelihood_opt"
   ],
   "metadata": {
    "collapsed": false,
    "ExecuteTime": {
     "end_time": "2024-04-10T12:07:15.909212900Z",
     "start_time": "2024-04-10T12:07:15.792364500Z"
    }
   },
   "id": "cfba48ea1942d431"
  },
  {
   "cell_type": "code",
   "execution_count": 110,
   "outputs": [
    {
     "data": {
      "text/plain": "25.834429903883596"
     },
     "execution_count": 110,
     "metadata": {},
     "output_type": "execute_result"
    }
   ],
   "source": [
    "# log likelihood for MM estimation\n",
    "log_likelihood_MM = -np.log(calculate_variable_changed_likelihood_arr(\n",
    "    d_g, n_g, p_g, norm.pdf, w_init, gamma_init\n",
    "))\n",
    "\n",
    "log_likelihood_MM"
   ],
   "metadata": {
    "collapsed": false,
    "ExecuteTime": {
     "end_time": "2024-04-10T12:07:35.075971900Z",
     "start_time": "2024-04-10T12:07:34.965966300Z"
    }
   },
   "id": "59e494a56e15f454"
  },
  {
   "cell_type": "code",
   "execution_count": 107,
   "outputs": [
    {
     "data": {
      "text/plain": "(array([-2.65868207e-05]),\n array([-3.26904506, -2.88453358, -2.3854112 , -1.73187698, -0.67649236]))"
     },
     "execution_count": 107,
     "metadata": {},
     "output_type": "execute_result"
    }
   ],
   "source": [
    "factor_loading_result, gamma_result"
   ],
   "metadata": {
    "collapsed": false,
    "ExecuteTime": {
     "end_time": "2024-04-10T12:04:24.257098400Z",
     "start_time": "2024-04-10T12:04:24.201660800Z"
    }
   },
   "id": "5a9655ab9ad39a32"
  },
  {
   "cell_type": "code",
   "execution_count": 119,
   "outputs": [
    {
     "name": "stdout",
     "output_type": "stream",
     "text": [
      "Optimization terminated successfully.\n",
      "         Current function value: 22.248767\n",
      "         Iterations: 468\n",
      "         Function evaluations: 744\n"
     ]
    }
   ],
   "source": [
    "# w_init = np.array([0.13])\n",
    "gamma_init = np.array(gamma_init)\n",
    "\n",
    "a_init = np.array(a_calc_func(w_init, gamma_init))\n",
    "b_init = np.array(b_calc_func(w_init, gamma_init))\n",
    "\n",
    "initial_guess = np.concatenate((a_init, b_init))\n",
    "\n",
    "num_of_a = len(a_init)\n",
    "bounds = [(-10, 10)] * len(initial_guess)\n",
    "\n",
    "objective_function = lambda params: -np.log(calculate_variable_changed_likelihood_arr(\n",
    "    d_g, n_g, p_g, norm.pdf, params[:num_of_a], params[num_of_a:len(initial_guess)]\n",
    "))\n",
    "\n",
    "result = minimize(objective_function,\n",
    "                  initial_guess,\n",
    "                  method=\"Nelder-Mead\",\n",
    "                  bounds=bounds,\n",
    "                  options={\n",
    "                      'disp': True})\n",
    "\n",
    "factor_loading_result = np.array(w_calc_func(np.array(result.x[:num_of_a]), np.array(result.x[num_of_a:])))\n",
    "gamma_result = np.array(gamma_calc_func(np.array(result.x[:num_of_a]), np.array(result.x[num_of_a:])))"
   ],
   "metadata": {
    "collapsed": false,
    "ExecuteTime": {
     "end_time": "2024-04-10T12:13:02.281714900Z",
     "start_time": "2024-04-10T12:12:47.840665400Z"
    }
   },
   "id": "734de837125d9bed"
  },
  {
   "cell_type": "code",
   "execution_count": 120,
   "outputs": [
    {
     "data": {
      "text/plain": "(array([-2.65868207e-05]),\n array([-3.26904506, -2.88453358, -2.3854112 , -1.73187698, -0.67649236]))"
     },
     "execution_count": 120,
     "metadata": {},
     "output_type": "execute_result"
    }
   ],
   "source": [
    "factor_loading_result, gamma_result"
   ],
   "metadata": {
    "collapsed": false,
    "ExecuteTime": {
     "end_time": "2024-04-10T12:13:02.282714400Z",
     "start_time": "2024-04-10T12:13:02.264712400Z"
    }
   },
   "id": "2b52d300a913d477"
  },
  {
   "cell_type": "code",
   "execution_count": 118,
   "outputs": [
    {
     "data": {
      "text/plain": "(array([2.45880548e-06]),\n array([-3.27227494, -2.88610652, -2.38419769, -1.72887816, -0.67703511]))"
     },
     "execution_count": 118,
     "metadata": {},
     "output_type": "execute_result"
    }
   ],
   "source": [
    "factor_loading_result, gamma_result"
   ],
   "metadata": {
    "collapsed": false,
    "ExecuteTime": {
     "end_time": "2024-04-10T12:12:26.413028700Z",
     "start_time": "2024-04-10T12:12:26.356306600Z"
    }
   },
   "id": "e760ee3172eef6b4"
  },
  {
   "cell_type": "code",
   "execution_count": 98,
   "outputs": [
    {
     "data": {
      "text/plain": "(array([0.13435077, 0.30390894, 0.0510222 , 0.04665423, 0.0006417 ]),\n array([-3.26750789, -2.80524197, -2.39025314, -1.73546621, -0.67714038]))"
     },
     "execution_count": 98,
     "metadata": {},
     "output_type": "execute_result"
    }
   ],
   "source": [
    "factor_loading_result, gamma_result"
   ],
   "metadata": {
    "collapsed": false,
    "ExecuteTime": {
     "end_time": "2024-04-10T11:57:46.750665600Z",
     "start_time": "2024-04-10T11:57:46.693662500Z"
    }
   },
   "id": "a674853132a2ead3"
  },
  {
   "cell_type": "code",
   "execution_count": 84,
   "outputs": [
    {
     "data": {
      "text/plain": "array([ 2.65868207e-05, -3.26904506e+00, -2.88453358e+00, -2.38541120e+00,\n       -1.73187698e+00, -6.76492360e-01])"
     },
     "execution_count": 84,
     "metadata": {},
     "output_type": "execute_result"
    }
   ],
   "source": [
    "result.x"
   ],
   "metadata": {
    "collapsed": false,
    "ExecuteTime": {
     "end_time": "2024-04-10T11:48:21.398794800Z",
     "start_time": "2024-04-10T11:48:21.351792900Z"
    }
   },
   "id": "8ae29b95e241cc1f"
  },
  {
   "cell_type": "code",
   "execution_count": 85,
   "outputs": [
    {
     "data": {
      "text/plain": "array([-3.26904506, -2.88453358, -2.3854112 , -1.73187698, -0.67649236])"
     },
     "execution_count": 85,
     "metadata": {},
     "output_type": "execute_result"
    }
   ],
   "source": [
    "result.x[num_of_a:]"
   ],
   "metadata": {
    "collapsed": false,
    "ExecuteTime": {
     "end_time": "2024-04-10T11:48:30.097812200Z",
     "start_time": "2024-04-10T11:48:30.042810900Z"
    }
   },
   "id": "8325830dafa52410"
  },
  {
   "cell_type": "code",
   "execution_count": 83,
   "outputs": [
    {
     "data": {
      "text/plain": "[(2.658682067754436e-05, -3.2690450607546784)]"
     },
     "execution_count": 83,
     "metadata": {},
     "output_type": "execute_result"
    }
   ],
   "source": [
    "zip(result.x[:num_of_a], result.x[num_of_a:])"
   ],
   "metadata": {
    "collapsed": false,
    "ExecuteTime": {
     "end_time": "2024-04-10T11:48:09.070907900Z",
     "start_time": "2024-04-10T11:48:09.021903900Z"
    }
   },
   "id": "c9a690bb27bd29e1"
  },
  {
   "cell_type": "code",
   "execution_count": 79,
   "outputs": [
    {
     "data": {
      "text/plain": "1"
     },
     "execution_count": 79,
     "metadata": {},
     "output_type": "execute_result"
    }
   ],
   "source": [
    "num_of_a"
   ],
   "metadata": {
    "collapsed": false,
    "ExecuteTime": {
     "end_time": "2024-04-10T11:47:02.099235300Z",
     "start_time": "2024-04-10T11:47:02.041230200Z"
    }
   },
   "id": "979a1379a657177a"
  },
  {
   "cell_type": "code",
   "execution_count": 78,
   "outputs": [
    {
     "data": {
      "text/plain": "(array([-2.65868207e-05]), array([-3.26904506]))"
     },
     "execution_count": 78,
     "metadata": {},
     "output_type": "execute_result"
    }
   ],
   "source": [
    "factor_loading_result, gamma_result"
   ],
   "metadata": {
    "collapsed": false,
    "ExecuteTime": {
     "end_time": "2024-04-10T11:46:47.788626900Z",
     "start_time": "2024-04-10T11:46:47.739623300Z"
    }
   },
   "id": "c8aeddda3766b60a"
  },
  {
   "cell_type": "code",
   "execution_count": null,
   "outputs": [],
   "source": [
    "a_init = np.array(a_calc_func(w, gamma_init))\n",
    "b_init = np.array(b_calc_func(w, gamma_init))\n",
    "\n",
    "initial_guess = np.concatenate((a_init, b_init))\n",
    "\n",
    "num_of_a = len(a_init)\n",
    "bounds = [(-10, 10)] * len(initial_guess)"
   ],
   "metadata": {
    "collapsed": false
   },
   "id": "ff3aa9630813ac7e"
  },
  {
   "cell_type": "code",
   "execution_count": 55,
   "outputs": [
    {
     "data": {
      "text/plain": "0.13"
     },
     "execution_count": 55,
     "metadata": {},
     "output_type": "execute_result"
    }
   ],
   "source": [
    "ML_estimation_w[0][0]"
   ],
   "metadata": {
    "collapsed": false,
    "ExecuteTime": {
     "end_time": "2024-04-10T11:32:43.336685700Z",
     "start_time": "2024-04-10T11:32:43.252679900Z"
    }
   },
   "id": "63b4bcd475a5d8be"
  },
  {
   "cell_type": "code",
   "execution_count": 111,
   "outputs": [
    {
     "name": "stderr",
     "output_type": "stream",
     "text": [
      "C:\\Users\\kissp\\PycharmProjects\\VasicekPDModell\\src\\ML_estimation.py:251: RuntimeWarning: divide by zero encountered in log\n",
      "  objective_function = lambda params: -np.log(calculate_variable_changed_likelihood_arr(\n",
      "C:\\Users\\kissp\\PycharmProjects\\VasicekPDModell\\venv\\lib\\site-packages\\scipy\\optimize\\_optimize.py:941: RuntimeWarning: invalid value encountered in subtract\n",
      "  np.max(np.abs(fsim[0] - fsim[1:])) <= fatol):\n"
     ]
    },
    {
     "ename": "KeyboardInterrupt",
     "evalue": "",
     "output_type": "error",
     "traceback": [
      "\u001B[1;31m---------------------------------------------------------------------------\u001B[0m",
      "\u001B[1;31mKeyboardInterrupt\u001B[0m                         Traceback (most recent call last)",
      "Cell \u001B[1;32mIn[111], line 4\u001B[0m\n\u001B[0;32m      2\u001B[0m ML_params_for_w \u001B[38;5;241m=\u001B[39m []\n\u001B[0;32m      3\u001B[0m \u001B[38;5;28;01mfor\u001B[39;00m w \u001B[38;5;129;01min\u001B[39;00m w_values:\n\u001B[1;32m----> 4\u001B[0m     ML_estimation_w \u001B[38;5;241m=\u001B[39m \u001B[43mml_estimation_linear_with_w_and_g\u001B[49m\u001B[43m(\u001B[49m\u001B[43md_g\u001B[49m\u001B[43m,\u001B[49m\u001B[43m \u001B[49m\u001B[43mn_g\u001B[49m\u001B[43m,\u001B[49m\u001B[43m \u001B[49m\u001B[43m[\u001B[49m\u001B[43mw\u001B[49m\u001B[43m]\u001B[49m\u001B[43m,\u001B[49m\u001B[43m \u001B[49m\u001B[43mgamma_init\u001B[49m\u001B[43m)\u001B[49m\n\u001B[0;32m      5\u001B[0m     ML_params_for_w\u001B[38;5;241m.\u001B[39mappend(ML_estimation_w[\u001B[38;5;241m0\u001B[39m][\u001B[38;5;241m0\u001B[39m])\n",
      "File \u001B[1;32m~\\PycharmProjects\\VasicekPDModell\\src\\ML_estimation.py:255\u001B[0m, in \u001B[0;36mml_estimation_linear_with_w_and_g\u001B[1;34m(default_list, num_of_obligors_over_time, factor_loading_init, gamma_list_init, fixed_w, fixed_g)\u001B[0m\n\u001B[0;32m    252\u001B[0m bounds \u001B[38;5;241m=\u001B[39m [(\u001B[38;5;241m-\u001B[39m\u001B[38;5;241m10\u001B[39m, \u001B[38;5;241m10\u001B[39m)] \u001B[38;5;241m*\u001B[39m \u001B[38;5;28mlen\u001B[39m(initial_guess)\n\u001B[0;32m    254\u001B[0m \u001B[38;5;66;03m# Optimization\u001B[39;00m\n\u001B[1;32m--> 255\u001B[0m \u001B[38;5;28;01mif\u001B[39;00m \u001B[38;5;129;01mnot\u001B[39;00m fixed_w \u001B[38;5;129;01mand\u001B[39;00m \u001B[38;5;129;01mnot\u001B[39;00m fixed_g:\n\u001B[0;32m    256\u001B[0m     objective_function \u001B[38;5;241m=\u001B[39m \u001B[38;5;28;01mlambda\u001B[39;00m params: \u001B[38;5;241m-\u001B[39mnp\u001B[38;5;241m.\u001B[39mlog(calculate_variable_changed_likelihood_arr(\n\u001B[0;32m    257\u001B[0m         default_list, num_of_obligors_over_time, p_g, norm\u001B[38;5;241m.\u001B[39mpdf, params[:num_of_a], params[num_of_a:\u001B[38;5;28mlen\u001B[39m(initial_guess)]\n\u001B[0;32m    258\u001B[0m     ))\n\u001B[0;32m    260\u001B[0m     result \u001B[38;5;241m=\u001B[39m minimize(objective_function,\n\u001B[0;32m    261\u001B[0m                       initial_guess,\n\u001B[0;32m    262\u001B[0m                       method\u001B[38;5;241m=\u001B[39m\u001B[38;5;124m\"\u001B[39m\u001B[38;5;124mNelder-Mead\u001B[39m\u001B[38;5;124m\"\u001B[39m,\n\u001B[0;32m    263\u001B[0m                       bounds\u001B[38;5;241m=\u001B[39mbounds,\n\u001B[0;32m    264\u001B[0m                       options\u001B[38;5;241m=\u001B[39m{\n\u001B[0;32m    265\u001B[0m                           \u001B[38;5;124m'\u001B[39m\u001B[38;5;124mdisp\u001B[39m\u001B[38;5;124m'\u001B[39m: \u001B[38;5;28;01mFalse\u001B[39;00m})\n",
      "File \u001B[1;32m~\\PycharmProjects\\VasicekPDModell\\venv\\lib\\site-packages\\scipy\\optimize\\_minimize.py:701\u001B[0m, in \u001B[0;36mminimize\u001B[1;34m(fun, x0, args, method, jac, hess, hessp, bounds, constraints, tol, callback, options)\u001B[0m\n\u001B[0;32m    698\u001B[0m callback \u001B[38;5;241m=\u001B[39m _wrap_callback(callback, meth)\n\u001B[0;32m    700\u001B[0m \u001B[38;5;28;01mif\u001B[39;00m meth \u001B[38;5;241m==\u001B[39m \u001B[38;5;124m'\u001B[39m\u001B[38;5;124mnelder-mead\u001B[39m\u001B[38;5;124m'\u001B[39m:\n\u001B[1;32m--> 701\u001B[0m     res \u001B[38;5;241m=\u001B[39m _minimize_neldermead(fun, x0, args, callback, bounds\u001B[38;5;241m=\u001B[39mbounds,\n\u001B[0;32m    702\u001B[0m                                \u001B[38;5;241m*\u001B[39m\u001B[38;5;241m*\u001B[39moptions)\n\u001B[0;32m    703\u001B[0m \u001B[38;5;28;01melif\u001B[39;00m meth \u001B[38;5;241m==\u001B[39m \u001B[38;5;124m'\u001B[39m\u001B[38;5;124mpowell\u001B[39m\u001B[38;5;124m'\u001B[39m:\n\u001B[0;32m    704\u001B[0m     res \u001B[38;5;241m=\u001B[39m _minimize_powell(fun, x0, args, callback, bounds, \u001B[38;5;241m*\u001B[39m\u001B[38;5;241m*\u001B[39moptions)\n",
      "File \u001B[1;32m~\\PycharmProjects\\VasicekPDModell\\venv\\lib\\site-packages\\scipy\\optimize\\_optimize.py:999\u001B[0m, in \u001B[0;36m_minimize_neldermead\u001B[1;34m(func, x0, args, callback, maxiter, maxfev, disp, return_all, initial_simplex, xatol, fatol, adaptive, bounds, **unknown_options)\u001B[0m\n\u001B[0;32m    996\u001B[0m                     \u001B[38;5;28;01mif\u001B[39;00m bounds \u001B[38;5;129;01mis\u001B[39;00m \u001B[38;5;129;01mnot\u001B[39;00m \u001B[38;5;28;01mNone\u001B[39;00m:\n\u001B[0;32m    997\u001B[0m                         sim[j] \u001B[38;5;241m=\u001B[39m np\u001B[38;5;241m.\u001B[39mclip(\n\u001B[0;32m    998\u001B[0m                             sim[j], lower_bound, upper_bound)\n\u001B[1;32m--> 999\u001B[0m                     fsim[j] \u001B[38;5;241m=\u001B[39m \u001B[43mfunc\u001B[49m\u001B[43m(\u001B[49m\u001B[43msim\u001B[49m\u001B[43m[\u001B[49m\u001B[43mj\u001B[49m\u001B[43m]\u001B[49m\u001B[43m)\u001B[49m\n\u001B[0;32m   1000\u001B[0m     iterations \u001B[38;5;241m+\u001B[39m\u001B[38;5;241m=\u001B[39m \u001B[38;5;241m1\u001B[39m\n\u001B[0;32m   1001\u001B[0m \u001B[38;5;28;01mexcept\u001B[39;00m _MaxFuncCallError:\n",
      "File \u001B[1;32m~\\PycharmProjects\\VasicekPDModell\\venv\\lib\\site-packages\\scipy\\optimize\\_optimize.py:640\u001B[0m, in \u001B[0;36m_wrap_scalar_function_maxfun_validation.<locals>.function_wrapper\u001B[1;34m(x, *wrapper_args)\u001B[0m\n\u001B[0;32m    638\u001B[0m ncalls[\u001B[38;5;241m0\u001B[39m] \u001B[38;5;241m+\u001B[39m\u001B[38;5;241m=\u001B[39m \u001B[38;5;241m1\u001B[39m\n\u001B[0;32m    639\u001B[0m \u001B[38;5;66;03m# A copy of x is sent to the user function (gh13740)\u001B[39;00m\n\u001B[1;32m--> 640\u001B[0m fx \u001B[38;5;241m=\u001B[39m \u001B[43mfunction\u001B[49m\u001B[43m(\u001B[49m\u001B[43mnp\u001B[49m\u001B[38;5;241;43m.\u001B[39;49m\u001B[43mcopy\u001B[49m\u001B[43m(\u001B[49m\u001B[43mx\u001B[49m\u001B[43m)\u001B[49m\u001B[43m,\u001B[49m\u001B[43m \u001B[49m\u001B[38;5;241;43m*\u001B[39;49m\u001B[43m(\u001B[49m\u001B[43mwrapper_args\u001B[49m\u001B[43m \u001B[49m\u001B[38;5;241;43m+\u001B[39;49m\u001B[43m \u001B[49m\u001B[43margs\u001B[49m\u001B[43m)\u001B[49m\u001B[43m)\u001B[49m\n\u001B[0;32m    641\u001B[0m \u001B[38;5;66;03m# Ideally, we'd like to a have a true scalar returned from f(x). For\u001B[39;00m\n\u001B[0;32m    642\u001B[0m \u001B[38;5;66;03m# backwards-compatibility, also allow np.array([1.3]),\u001B[39;00m\n\u001B[0;32m    643\u001B[0m \u001B[38;5;66;03m# np.array([[1.3]]) etc.\u001B[39;00m\n\u001B[0;32m    644\u001B[0m \u001B[38;5;28;01mif\u001B[39;00m \u001B[38;5;129;01mnot\u001B[39;00m np\u001B[38;5;241m.\u001B[39misscalar(fx):\n",
      "File \u001B[1;32m~\\PycharmProjects\\VasicekPDModell\\src\\ML_estimation.py:251\u001B[0m, in \u001B[0;36m<lambda>\u001B[1;34m(params)\u001B[0m\n\u001B[0;32m    247\u001B[0m b_init \u001B[38;5;241m=\u001B[39m np\u001B[38;5;241m.\u001B[39marray([b_calc_func(w, gamma) \u001B[38;5;28;01mfor\u001B[39;00m w, gamma \u001B[38;5;129;01min\u001B[39;00m \u001B[38;5;28mzip\u001B[39m(factor_loading_init, gamma_list_init)])\n\u001B[0;32m    249\u001B[0m initial_guess \u001B[38;5;241m=\u001B[39m np\u001B[38;5;241m.\u001B[39mconcatenate((a_init, b_init))\n\u001B[1;32m--> 251\u001B[0m num_of_a \u001B[38;5;241m=\u001B[39m \u001B[38;5;28mlen\u001B[39m(a_init)\n\u001B[0;32m    252\u001B[0m bounds \u001B[38;5;241m=\u001B[39m [(\u001B[38;5;241m-\u001B[39m\u001B[38;5;241m10\u001B[39m, \u001B[38;5;241m10\u001B[39m)] \u001B[38;5;241m*\u001B[39m \u001B[38;5;28mlen\u001B[39m(initial_guess)\n\u001B[0;32m    254\u001B[0m \u001B[38;5;66;03m# Optimization\u001B[39;00m\n",
      "File \u001B[1;32m~\\PycharmProjects\\VasicekPDModell\\src\\ML_estimation.py:213\u001B[0m, in \u001B[0;36mcalculate_variable_changed_likelihood_arr\u001B[1;34m(d_g_arr, n_g_arr, p_g, prob_dens_func, a, b)\u001B[0m\n\u001B[0;32m    210\u001B[0m \u001B[38;5;28;01mdef\u001B[39;00m \u001B[38;5;21mcalculate_variable_changed_likelihood_arr\u001B[39m(d_g_arr, n_g_arr, p_g, prob_dens_func, a, b):\n\u001B[0;32m    211\u001B[0m     integrand \u001B[38;5;241m=\u001B[39m \u001B[38;5;28;01mlambda\u001B[39;00m x: np\u001B[38;5;241m.\u001B[39mprod(binom\u001B[38;5;241m.\u001B[39mpmf(d_g_arr, n_g_arr, norm\u001B[38;5;241m.\u001B[39mcdf(a\u001B[38;5;241m*\u001B[39mx\u001B[38;5;241m+\u001B[39mb))) \u001B[38;5;241m*\u001B[39m prob_dens_func(x)\n\u001B[1;32m--> 213\u001B[0m     result, _ \u001B[38;5;241m=\u001B[39m \u001B[43mquad\u001B[49m\u001B[43m(\u001B[49m\u001B[43mintegrand\u001B[49m\u001B[43m,\u001B[49m\u001B[43m \u001B[49m\u001B[38;5;241;43m-\u001B[39;49m\u001B[38;5;241;43m3\u001B[39;49m\u001B[43m,\u001B[49m\u001B[43m \u001B[49m\u001B[38;5;241;43m3\u001B[39;49m\u001B[43m)\u001B[49m\n\u001B[0;32m    215\u001B[0m     \u001B[38;5;28;01mreturn\u001B[39;00m result\n",
      "File \u001B[1;32m~\\PycharmProjects\\VasicekPDModell\\venv\\lib\\site-packages\\scipy\\integrate\\_quadpack_py.py:464\u001B[0m, in \u001B[0;36mquad\u001B[1;34m(func, a, b, args, full_output, epsabs, epsrel, limit, points, weight, wvar, wopts, maxp1, limlst, complex_func)\u001B[0m\n\u001B[0;32m    461\u001B[0m     \u001B[38;5;28;01mreturn\u001B[39;00m retval\n\u001B[0;32m    463\u001B[0m \u001B[38;5;28;01mif\u001B[39;00m weight \u001B[38;5;129;01mis\u001B[39;00m \u001B[38;5;28;01mNone\u001B[39;00m:\n\u001B[1;32m--> 464\u001B[0m     retval \u001B[38;5;241m=\u001B[39m \u001B[43m_quad\u001B[49m\u001B[43m(\u001B[49m\u001B[43mfunc\u001B[49m\u001B[43m,\u001B[49m\u001B[43m \u001B[49m\u001B[43ma\u001B[49m\u001B[43m,\u001B[49m\u001B[43m \u001B[49m\u001B[43mb\u001B[49m\u001B[43m,\u001B[49m\u001B[43m \u001B[49m\u001B[43margs\u001B[49m\u001B[43m,\u001B[49m\u001B[43m \u001B[49m\u001B[43mfull_output\u001B[49m\u001B[43m,\u001B[49m\u001B[43m \u001B[49m\u001B[43mepsabs\u001B[49m\u001B[43m,\u001B[49m\u001B[43m \u001B[49m\u001B[43mepsrel\u001B[49m\u001B[43m,\u001B[49m\u001B[43m \u001B[49m\u001B[43mlimit\u001B[49m\u001B[43m,\u001B[49m\n\u001B[0;32m    465\u001B[0m \u001B[43m                   \u001B[49m\u001B[43mpoints\u001B[49m\u001B[43m)\u001B[49m\n\u001B[0;32m    466\u001B[0m \u001B[38;5;28;01melse\u001B[39;00m:\n\u001B[0;32m    467\u001B[0m     \u001B[38;5;28;01mif\u001B[39;00m points \u001B[38;5;129;01mis\u001B[39;00m \u001B[38;5;129;01mnot\u001B[39;00m \u001B[38;5;28;01mNone\u001B[39;00m:\n",
      "File \u001B[1;32m~\\PycharmProjects\\VasicekPDModell\\venv\\lib\\site-packages\\scipy\\integrate\\_quadpack_py.py:611\u001B[0m, in \u001B[0;36m_quad\u001B[1;34m(func, a, b, args, full_output, epsabs, epsrel, limit, points)\u001B[0m\n\u001B[0;32m    609\u001B[0m \u001B[38;5;28;01mif\u001B[39;00m points \u001B[38;5;129;01mis\u001B[39;00m \u001B[38;5;28;01mNone\u001B[39;00m:\n\u001B[0;32m    610\u001B[0m     \u001B[38;5;28;01mif\u001B[39;00m infbounds \u001B[38;5;241m==\u001B[39m \u001B[38;5;241m0\u001B[39m:\n\u001B[1;32m--> 611\u001B[0m         \u001B[38;5;28;01mreturn\u001B[39;00m \u001B[43m_quadpack\u001B[49m\u001B[38;5;241;43m.\u001B[39;49m\u001B[43m_qagse\u001B[49m\u001B[43m(\u001B[49m\u001B[43mfunc\u001B[49m\u001B[43m,\u001B[49m\u001B[43ma\u001B[49m\u001B[43m,\u001B[49m\u001B[43mb\u001B[49m\u001B[43m,\u001B[49m\u001B[43margs\u001B[49m\u001B[43m,\u001B[49m\u001B[43mfull_output\u001B[49m\u001B[43m,\u001B[49m\u001B[43mepsabs\u001B[49m\u001B[43m,\u001B[49m\u001B[43mepsrel\u001B[49m\u001B[43m,\u001B[49m\u001B[43mlimit\u001B[49m\u001B[43m)\u001B[49m\n\u001B[0;32m    612\u001B[0m     \u001B[38;5;28;01melse\u001B[39;00m:\n\u001B[0;32m    613\u001B[0m         \u001B[38;5;28;01mreturn\u001B[39;00m _quadpack\u001B[38;5;241m.\u001B[39m_qagie(func, bound, infbounds, args, full_output, \n\u001B[0;32m    614\u001B[0m                                 epsabs, epsrel, limit)\n",
      "File \u001B[1;32m~\\PycharmProjects\\VasicekPDModell\\src\\ML_estimation.py:211\u001B[0m, in \u001B[0;36mcalculate_variable_changed_likelihood_arr.<locals>.<lambda>\u001B[1;34m(x)\u001B[0m\n\u001B[0;32m    210\u001B[0m \u001B[38;5;28;01mdef\u001B[39;00m \u001B[38;5;21mcalculate_variable_changed_likelihood_arr\u001B[39m(d_g_arr, n_g_arr, p_g, prob_dens_func, a, b):\n\u001B[1;32m--> 211\u001B[0m     integrand \u001B[38;5;241m=\u001B[39m \u001B[38;5;28;01mlambda\u001B[39;00m x: np\u001B[38;5;241m.\u001B[39mprod(\u001B[43mbinom\u001B[49m\u001B[38;5;241;43m.\u001B[39;49m\u001B[43mpmf\u001B[49m\u001B[43m(\u001B[49m\u001B[43md_g_arr\u001B[49m\u001B[43m,\u001B[49m\u001B[43m \u001B[49m\u001B[43mn_g_arr\u001B[49m\u001B[43m,\u001B[49m\u001B[43m \u001B[49m\u001B[43mnorm\u001B[49m\u001B[38;5;241;43m.\u001B[39;49m\u001B[43mcdf\u001B[49m\u001B[43m(\u001B[49m\u001B[43ma\u001B[49m\u001B[38;5;241;43m*\u001B[39;49m\u001B[43mx\u001B[49m\u001B[38;5;241;43m+\u001B[39;49m\u001B[43mb\u001B[49m\u001B[43m)\u001B[49m\u001B[43m)\u001B[49m) \u001B[38;5;241m*\u001B[39m prob_dens_func(x)\n\u001B[0;32m    213\u001B[0m     result, _ \u001B[38;5;241m=\u001B[39m quad(integrand, \u001B[38;5;241m-\u001B[39m\u001B[38;5;241m3\u001B[39m, \u001B[38;5;241m3\u001B[39m)\n\u001B[0;32m    215\u001B[0m     \u001B[38;5;28;01mreturn\u001B[39;00m result\n",
      "File \u001B[1;32m~\\PycharmProjects\\VasicekPDModell\\venv\\lib\\site-packages\\scipy\\stats\\_distn_infrastructure.py:3378\u001B[0m, in \u001B[0;36mrv_discrete.pmf\u001B[1;34m(self, k, *args, **kwds)\u001B[0m\n\u001B[0;32m   3376\u001B[0m cond1 \u001B[38;5;241m=\u001B[39m (k \u001B[38;5;241m>\u001B[39m\u001B[38;5;241m=\u001B[39m _a) \u001B[38;5;241m&\u001B[39m (k \u001B[38;5;241m<\u001B[39m\u001B[38;5;241m=\u001B[39m _b)\n\u001B[0;32m   3377\u001B[0m \u001B[38;5;28;01mif\u001B[39;00m \u001B[38;5;129;01mnot\u001B[39;00m \u001B[38;5;28misinstance\u001B[39m(\u001B[38;5;28mself\u001B[39m, rv_sample):\n\u001B[1;32m-> 3378\u001B[0m     cond1 \u001B[38;5;241m=\u001B[39m cond1 \u001B[38;5;241m&\u001B[39m \u001B[38;5;28;43mself\u001B[39;49m\u001B[38;5;241;43m.\u001B[39;49m\u001B[43m_nonzero\u001B[49m\u001B[43m(\u001B[49m\u001B[43mk\u001B[49m\u001B[43m,\u001B[49m\u001B[43m \u001B[49m\u001B[38;5;241;43m*\u001B[39;49m\u001B[43margs\u001B[49m\u001B[43m)\u001B[49m\n\u001B[0;32m   3379\u001B[0m cond \u001B[38;5;241m=\u001B[39m cond0 \u001B[38;5;241m&\u001B[39m cond1\n\u001B[0;32m   3380\u001B[0m output \u001B[38;5;241m=\u001B[39m zeros(shape(cond), \u001B[38;5;124m'\u001B[39m\u001B[38;5;124md\u001B[39m\u001B[38;5;124m'\u001B[39m)\n",
      "File \u001B[1;32m~\\PycharmProjects\\VasicekPDModell\\venv\\lib\\site-packages\\scipy\\stats\\_distn_infrastructure.py:3285\u001B[0m, in \u001B[0;36mrv_discrete._nonzero\u001B[1;34m(self, k, *args)\u001B[0m\n\u001B[0;32m   3284\u001B[0m \u001B[38;5;28;01mdef\u001B[39;00m \u001B[38;5;21m_nonzero\u001B[39m(\u001B[38;5;28mself\u001B[39m, k, \u001B[38;5;241m*\u001B[39margs):\n\u001B[1;32m-> 3285\u001B[0m     \u001B[38;5;28;01mreturn\u001B[39;00m \u001B[43mfloor\u001B[49m\u001B[43m(\u001B[49m\u001B[43mk\u001B[49m\u001B[43m)\u001B[49m\u001B[43m \u001B[49m\u001B[38;5;241;43m==\u001B[39;49m\u001B[43m \u001B[49m\u001B[43mk\u001B[49m\n",
      "\u001B[1;31mKeyboardInterrupt\u001B[0m: "
     ]
    }
   ],
   "source": [
    "w_values = np.linspace(0.05, 0.25, 41)\n",
    "ML_params_for_w = []\n",
    "for w in w_values:\n",
    "    ML_estimation_w = ml_estimation_linear_with_w_and_g(d_g, n_g, [w], gamma_init)\n",
    "    ML_params_for_w.append(ML_estimation_w[0][0])"
   ],
   "metadata": {
    "collapsed": false,
    "ExecuteTime": {
     "end_time": "2024-04-10T12:10:29.538399100Z",
     "start_time": "2024-04-10T12:09:17.464023900Z"
    }
   },
   "id": "965e5ba24c7004cf"
  },
  {
   "cell_type": "code",
   "execution_count": null,
   "outputs": [],
   "source": [
    "# Plot the results\n",
    "plt.plot(w_values, ML_params_for_w)\n",
    "# add f(x) = x line\n",
    "plt.plot(w_values, w_values, linestyle='dashed')\n",
    "plt.xlabel(\"w\")\n",
    "plt.ylabel(\"Estimated w\")\n",
    "plt.title(\"Estimated w for different initial guesses\")\n",
    "plt.show()"
   ],
   "metadata": {
    "collapsed": false,
    "ExecuteTime": {
     "start_time": "2024-04-10T12:10:29.538399100Z"
    }
   },
   "id": "3a5deabe49c8ed2c"
  },
  {
   "cell_type": "code",
   "execution_count": 25,
   "outputs": [
    {
     "name": "stderr",
     "output_type": "stream",
     "text": [
      "C:\\Users\\kissp\\PycharmProjects\\VasicekPDModell\\src\\ML_estimation.py:185: RuntimeWarning: divide by zero encountered in log\n",
      "  objective_function = lambda params: -np.log(calculate_my_likelihood_arr(\n"
     ]
    }
   ],
   "source": [
    "ML_estimation_w = parameter_estimation(d_g, n_g, [0.5], gamma_init)"
   ],
   "metadata": {
    "collapsed": false,
    "ExecuteTime": {
     "end_time": "2024-04-08T19:35:28.091726100Z",
     "start_time": "2024-04-08T19:35:21.605613500Z"
    }
   },
   "id": "e7dea6a2870c0e46"
  },
  {
   "cell_type": "code",
   "execution_count": 26,
   "outputs": [
    {
     "data": {
      "text/plain": "       message: Optimization terminated successfully.\n       success: True\n        status: 0\n           fun: 25.056272359217225\n             x: [-3.002e+00 -2.667e+00 -2.232e+00 -1.663e+00 -7.509e-01\n                  4.976e-01]\n           nit: 151\n          nfev: 256\n final_simplex: (array([[-3.002e+00, -2.667e+00, ..., -7.509e-01,\n                         4.976e-01],\n                       [-3.002e+00, -2.667e+00, ..., -7.509e-01,\n                         4.976e-01],\n                       ...,\n                       [-3.002e+00, -2.667e+00, ..., -7.509e-01,\n                         4.976e-01],\n                       [-3.002e+00, -2.667e+00, ..., -7.509e-01,\n                         4.976e-01]]), array([ 2.506e+01,  2.506e+01,  2.506e+01,  2.506e+01,\n                        2.506e+01,  2.506e+01,  2.506e+01]))"
     },
     "execution_count": 26,
     "metadata": {},
     "output_type": "execute_result"
    }
   ],
   "source": [
    "ML_estimation_w"
   ],
   "metadata": {
    "collapsed": false,
    "ExecuteTime": {
     "end_time": "2024-04-08T19:35:28.112727Z",
     "start_time": "2024-04-08T19:35:28.093726700Z"
    }
   },
   "id": "19806e1eab30c5ee"
  },
  {
   "cell_type": "code",
   "execution_count": 26,
   "outputs": [],
   "source": [],
   "metadata": {
    "collapsed": false,
    "ExecuteTime": {
     "end_time": "2024-04-08T19:35:28.168739200Z",
     "start_time": "2024-04-08T19:35:28.109730400Z"
    }
   },
   "id": "6d024d9a41e5d445"
  },
  {
   "cell_type": "code",
   "execution_count": 26,
   "outputs": [],
   "source": [],
   "metadata": {
    "collapsed": false,
    "ExecuteTime": {
     "end_time": "2024-04-08T19:35:28.190788800Z",
     "start_time": "2024-04-08T19:35:28.124734100Z"
    }
   },
   "id": "2ac0b898a2dc5e2a"
  }
 ],
 "metadata": {
  "kernelspec": {
   "name": "python3",
   "language": "python",
   "display_name": "Python 3 (ipykernel)"
  },
  "language_info": {
   "codemirror_mode": {
    "name": "ipython",
    "version": 2
   },
   "file_extension": ".py",
   "mimetype": "text/x-python",
   "name": "python",
   "nbconvert_exporter": "python",
   "pygments_lexer": "ipython2",
   "version": "2.7.6"
  }
 },
 "nbformat": 4,
 "nbformat_minor": 5
}
