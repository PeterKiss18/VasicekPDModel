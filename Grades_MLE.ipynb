{
 "cells": [
  {
   "cell_type": "code",
   "execution_count": 1,
   "id": "initial_id",
   "metadata": {
    "collapsed": true,
    "ExecuteTime": {
     "end_time": "2024-03-18T19:46:11.915032900Z",
     "start_time": "2024-03-18T19:46:10.167885100Z"
    }
   },
   "outputs": [],
   "source": [
    "import pandas as pd\n",
    "import numpy as np\n",
    "from scipy.stats import norm\n",
    "from scipy.optimize import minimize\n",
    "from src.sucess_probability import p_g\n",
    "from src.ML_estimation import multivariate_ml_estimation, calculate_my_likelihood_arr"
   ]
  },
  {
   "cell_type": "code",
   "execution_count": 2,
   "outputs": [],
   "source": [
    "# Load the data\n",
    "grades_data = pd.read_csv('data/grades_hist_pd.csv', sep=';', index_col=0)\n",
    "\n",
    "for col_name in grades_data.columns:\n",
    "    grades_data[col_name] = grades_data[col_name] / 100\n",
    "    \n",
    "grades_cols = grades_data.columns"
   ],
   "metadata": {
    "collapsed": false,
    "ExecuteTime": {
     "end_time": "2024-03-18T19:46:11.957039600Z",
     "start_time": "2024-03-18T19:46:11.918033400Z"
    }
   },
   "id": "174c6076efdfee0b"
  },
  {
   "cell_type": "code",
   "execution_count": 3,
   "outputs": [
    {
     "data": {
      "text/plain": "      AAA   AA       A     BBB      BB       B   CCC/C\nYear                                                  \n1981  0.0  0.0  0.0000  0.0000  0.0000  0.0233  0.0000\n1982  0.0  0.0  0.0021  0.0035  0.0424  0.0318  0.2143\n1983  0.0  0.0  0.0000  0.0034  0.0116  0.0470  0.0667\n1984  0.0  0.0  0.0000  0.0068  0.0114  0.0349  0.2500\n1985  0.0  0.0  0.0000  0.0000  0.0150  0.0653  0.1538",
      "text/html": "<div>\n<style scoped>\n    .dataframe tbody tr th:only-of-type {\n        vertical-align: middle;\n    }\n\n    .dataframe tbody tr th {\n        vertical-align: top;\n    }\n\n    .dataframe thead th {\n        text-align: right;\n    }\n</style>\n<table border=\"1\" class=\"dataframe\">\n  <thead>\n    <tr style=\"text-align: right;\">\n      <th></th>\n      <th>AAA</th>\n      <th>AA</th>\n      <th>A</th>\n      <th>BBB</th>\n      <th>BB</th>\n      <th>B</th>\n      <th>CCC/C</th>\n    </tr>\n    <tr>\n      <th>Year</th>\n      <th></th>\n      <th></th>\n      <th></th>\n      <th></th>\n      <th></th>\n      <th></th>\n      <th></th>\n    </tr>\n  </thead>\n  <tbody>\n    <tr>\n      <th>1981</th>\n      <td>0.0</td>\n      <td>0.0</td>\n      <td>0.0000</td>\n      <td>0.0000</td>\n      <td>0.0000</td>\n      <td>0.0233</td>\n      <td>0.0000</td>\n    </tr>\n    <tr>\n      <th>1982</th>\n      <td>0.0</td>\n      <td>0.0</td>\n      <td>0.0021</td>\n      <td>0.0035</td>\n      <td>0.0424</td>\n      <td>0.0318</td>\n      <td>0.2143</td>\n    </tr>\n    <tr>\n      <th>1983</th>\n      <td>0.0</td>\n      <td>0.0</td>\n      <td>0.0000</td>\n      <td>0.0034</td>\n      <td>0.0116</td>\n      <td>0.0470</td>\n      <td>0.0667</td>\n    </tr>\n    <tr>\n      <th>1984</th>\n      <td>0.0</td>\n      <td>0.0</td>\n      <td>0.0000</td>\n      <td>0.0068</td>\n      <td>0.0114</td>\n      <td>0.0349</td>\n      <td>0.2500</td>\n    </tr>\n    <tr>\n      <th>1985</th>\n      <td>0.0</td>\n      <td>0.0</td>\n      <td>0.0000</td>\n      <td>0.0000</td>\n      <td>0.0150</td>\n      <td>0.0653</td>\n      <td>0.1538</td>\n    </tr>\n  </tbody>\n</table>\n</div>"
     },
     "execution_count": 3,
     "metadata": {},
     "output_type": "execute_result"
    }
   ],
   "source": [
    "grades_data.head()"
   ],
   "metadata": {
    "collapsed": false,
    "ExecuteTime": {
     "end_time": "2024-03-18T19:46:11.975040Z",
     "start_time": "2024-03-18T19:46:11.947035Z"
    }
   },
   "id": "5d9648dee7151bd4"
  },
  {
   "cell_type": "code",
   "execution_count": 4,
   "outputs": [],
   "source": [
    "# Assumption every grade has 10000 obligors\n",
    "n_g_assumption = 10000"
   ],
   "metadata": {
    "collapsed": false,
    "ExecuteTime": {
     "end_time": "2024-03-18T19:46:12.014040700Z",
     "start_time": "2024-03-18T19:46:11.978038300Z"
    }
   },
   "id": "621487d90fec2072"
  },
  {
   "cell_type": "code",
   "execution_count": 5,
   "outputs": [],
   "source": [
    "for col_name in grades_cols:\n",
    "    grades_data[str(col_name) + \" defaults\"] = (n_g_assumption * grades_data[col_name]).astype(int)"
   ],
   "metadata": {
    "collapsed": false,
    "ExecuteTime": {
     "end_time": "2024-03-18T19:46:12.082045600Z",
     "start_time": "2024-03-18T19:46:11.992039100Z"
    }
   },
   "id": "ddd163cf4d8568b2"
  },
  {
   "cell_type": "code",
   "execution_count": 6,
   "outputs": [
    {
     "data": {
      "text/plain": "      AAA      AA       A     BBB      BB       B   CCC/C  AAA defaults  \\\nYear                                                                      \n1981  0.0  0.0000  0.0000  0.0000  0.0000  0.0233  0.0000             0   \n1982  0.0  0.0000  0.0021  0.0035  0.0424  0.0318  0.2143             0   \n1983  0.0  0.0000  0.0000  0.0034  0.0116  0.0470  0.0667             0   \n1984  0.0  0.0000  0.0000  0.0068  0.0114  0.0349  0.2500             0   \n1985  0.0  0.0000  0.0000  0.0000  0.0150  0.0653  0.1538             0   \n1986  0.0  0.0000  0.0018  0.0034  0.0133  0.0845  0.2308             0   \n1987  0.0  0.0000  0.0000  0.0000  0.0038  0.0313  0.1228             0   \n1988  0.0  0.0000  0.0000  0.0000  0.0105  0.0368  0.2037             0   \n1989  0.0  0.0000  0.0018  0.0061  0.0073  0.0340  0.3333             0   \n1990  0.0  0.0000  0.0000  0.0058  0.0357  0.0856  0.3125             0   \n1991  0.0  0.0000  0.0000  0.0055  0.0169  0.1384  0.3387             0   \n1992  0.0  0.0000  0.0000  0.0000  0.0000  0.0699  0.3019             0   \n1993  0.0  0.0000  0.0000  0.0000  0.0070  0.0262  0.1333             0   \n1994  0.0  0.0000  0.0014  0.0000  0.0028  0.0309  0.1667             0   \n1995  0.0  0.0000  0.0000  0.0017  0.0099  0.0459  0.2800             0   \n1996  0.0  0.0000  0.0000  0.0000  0.0045  0.0291  0.0800             0   \n1997  0.0  0.0000  0.0000  0.0025  0.0019  0.0352  0.1200             0   \n1998  0.0  0.0000  0.0000  0.0041  0.0082  0.0464  0.4286             0   \n1999  0.0  0.0017  0.0018  0.0020  0.0095  0.0731  0.3382             0   \n2000  0.0  0.0000  0.0027  0.0037  0.0116  0.0771  0.3596             0   \n2001  0.0  0.0000  0.0027  0.0034  0.0298  0.1156  0.4545             0   \n2002  0.0  0.0000  0.0000  0.0102  0.0290  0.0820  0.4444             0   \n2003  0.0  0.0000  0.0000  0.0023  0.0059  0.0407  0.3293             0   \n2004  0.0  0.0000  0.0008  0.0000  0.0044  0.0145  0.1630             0   \n2005  0.0  0.0000  0.0000  0.0007  0.0031  0.0175  0.0909             0   \n2006  0.0  0.0000  0.0000  0.0000  0.0030  0.0082  0.1333             0   \n2007  0.0  0.0000  0.0000  0.0000  0.0020  0.0025  0.1524             0   \n2008  0.0  0.0038  0.0039  0.0049  0.0081  0.0411  0.2727             0   \n2009  0.0  0.0000  0.0022  0.0055  0.0075  0.1103  0.4946             0   \n2010  0.0  0.0000  0.0000  0.0000  0.0058  0.0087  0.2283             0   \n2011  0.0  0.0000  0.0000  0.0007  0.0000  0.0168  0.1642             0   \n2012  0.0  0.0000  0.0000  0.0000  0.0030  0.0158  0.2752             0   \n2013  0.0  0.0000  0.0000  0.0000  0.0010  0.0165  0.2467             0   \n2014  0.0  0.0000  0.0000  0.0000  0.0000  0.0078  0.1751             0   \n2015  0.0  0.0000  0.0000  0.0000  0.0016  0.0242  0.2667             0   \n2016  0.0  0.0000  0.0000  0.0006  0.0047  0.0376  0.3317             0   \n2017  0.0  0.0000  0.0000  0.0000  0.0008  0.0100  0.2656             0   \n2018  0.0  0.0000  0.0000  0.0000  0.0000  0.0099  0.2718             0   \n2019  0.0  0.0000  0.0000  0.0011  0.0000  0.0149  0.2976             0   \n2020  0.0  0.0000  0.0000  0.0000  0.0093  0.0352  0.4748             0   \n\n      AA defaults  A defaults  BBB defaults  BB defaults  B defaults  \\\nYear                                                                   \n1981            0           0             0            0         233   \n1982            0          21            34          424         318   \n1983            0           0            34          115         470   \n1984            0           0            68          113         349   \n1985            0           0             0          150         653   \n1986            0          18            34          133         844   \n1987            0           0             0           38         313   \n1988            0           0             0          105         368   \n1989            0          18            60           73         340   \n1990            0           0            57          356         856   \n1991            0           0            55          168        1384   \n1992            0           0             0            0         699   \n1993            0           0             0           69         262   \n1994            0          14             0           28         308   \n1995            0           0            17           98         458   \n1996            0           0             0           45         291   \n1997            0           0            25           19         352   \n1998            0           0            40           81         463   \n1999           17          18            20           95         731   \n2000            0          27            37          115         771   \n2001            0          27            34          298        1156   \n2002            0           0           102          290         819   \n2003            0           0            23           59         407   \n2004            0           8             0           44         145   \n2005            0           0             7           31         175   \n2006            0           0             0           30          81   \n2007            0           0             0           20          25   \n2008           38          39            49           81         411   \n2009            0          22            55           75        1103   \n2010            0           0             0           57          87   \n2011            0           0             7            0         168   \n2012            0           0             0           30         158   \n2013            0           0             0           10         165   \n2014            0           0             0            0          78   \n2015            0           0             0           16         242   \n2016            0           0             5           46         375   \n2017            0           0             0            8         100   \n2018            0           0             0            0          98   \n2019            0           0            11            0         149   \n2020            0           0             0           93         352   \n\n      CCC/C defaults  \nYear                  \n1981               0  \n1982            2143  \n1983             667  \n1984            2500  \n1985            1538  \n1986            2308  \n1987            1228  \n1988            2037  \n1989            3333  \n1990            3125  \n1991            3387  \n1992            3019  \n1993            1333  \n1994            1667  \n1995            2800  \n1996             800  \n1997            1200  \n1998            4286  \n1999            3382  \n2000            3596  \n2001            4545  \n2002            4444  \n2003            3293  \n2004            1630  \n2005             909  \n2006            1333  \n2007            1524  \n2008            2727  \n2009            4946  \n2010            2282  \n2011            1642  \n2012            2752  \n2013            2467  \n2014            1751  \n2015            2667  \n2016            3317  \n2017            2656  \n2018            2718  \n2019            2976  \n2020            4747  ",
      "text/html": "<div>\n<style scoped>\n    .dataframe tbody tr th:only-of-type {\n        vertical-align: middle;\n    }\n\n    .dataframe tbody tr th {\n        vertical-align: top;\n    }\n\n    .dataframe thead th {\n        text-align: right;\n    }\n</style>\n<table border=\"1\" class=\"dataframe\">\n  <thead>\n    <tr style=\"text-align: right;\">\n      <th></th>\n      <th>AAA</th>\n      <th>AA</th>\n      <th>A</th>\n      <th>BBB</th>\n      <th>BB</th>\n      <th>B</th>\n      <th>CCC/C</th>\n      <th>AAA defaults</th>\n      <th>AA defaults</th>\n      <th>A defaults</th>\n      <th>BBB defaults</th>\n      <th>BB defaults</th>\n      <th>B defaults</th>\n      <th>CCC/C defaults</th>\n    </tr>\n    <tr>\n      <th>Year</th>\n      <th></th>\n      <th></th>\n      <th></th>\n      <th></th>\n      <th></th>\n      <th></th>\n      <th></th>\n      <th></th>\n      <th></th>\n      <th></th>\n      <th></th>\n      <th></th>\n      <th></th>\n      <th></th>\n    </tr>\n  </thead>\n  <tbody>\n    <tr>\n      <th>1981</th>\n      <td>0.0</td>\n      <td>0.0000</td>\n      <td>0.0000</td>\n      <td>0.0000</td>\n      <td>0.0000</td>\n      <td>0.0233</td>\n      <td>0.0000</td>\n      <td>0</td>\n      <td>0</td>\n      <td>0</td>\n      <td>0</td>\n      <td>0</td>\n      <td>233</td>\n      <td>0</td>\n    </tr>\n    <tr>\n      <th>1982</th>\n      <td>0.0</td>\n      <td>0.0000</td>\n      <td>0.0021</td>\n      <td>0.0035</td>\n      <td>0.0424</td>\n      <td>0.0318</td>\n      <td>0.2143</td>\n      <td>0</td>\n      <td>0</td>\n      <td>21</td>\n      <td>34</td>\n      <td>424</td>\n      <td>318</td>\n      <td>2143</td>\n    </tr>\n    <tr>\n      <th>1983</th>\n      <td>0.0</td>\n      <td>0.0000</td>\n      <td>0.0000</td>\n      <td>0.0034</td>\n      <td>0.0116</td>\n      <td>0.0470</td>\n      <td>0.0667</td>\n      <td>0</td>\n      <td>0</td>\n      <td>0</td>\n      <td>34</td>\n      <td>115</td>\n      <td>470</td>\n      <td>667</td>\n    </tr>\n    <tr>\n      <th>1984</th>\n      <td>0.0</td>\n      <td>0.0000</td>\n      <td>0.0000</td>\n      <td>0.0068</td>\n      <td>0.0114</td>\n      <td>0.0349</td>\n      <td>0.2500</td>\n      <td>0</td>\n      <td>0</td>\n      <td>0</td>\n      <td>68</td>\n      <td>113</td>\n      <td>349</td>\n      <td>2500</td>\n    </tr>\n    <tr>\n      <th>1985</th>\n      <td>0.0</td>\n      <td>0.0000</td>\n      <td>0.0000</td>\n      <td>0.0000</td>\n      <td>0.0150</td>\n      <td>0.0653</td>\n      <td>0.1538</td>\n      <td>0</td>\n      <td>0</td>\n      <td>0</td>\n      <td>0</td>\n      <td>150</td>\n      <td>653</td>\n      <td>1538</td>\n    </tr>\n    <tr>\n      <th>1986</th>\n      <td>0.0</td>\n      <td>0.0000</td>\n      <td>0.0018</td>\n      <td>0.0034</td>\n      <td>0.0133</td>\n      <td>0.0845</td>\n      <td>0.2308</td>\n      <td>0</td>\n      <td>0</td>\n      <td>18</td>\n      <td>34</td>\n      <td>133</td>\n      <td>844</td>\n      <td>2308</td>\n    </tr>\n    <tr>\n      <th>1987</th>\n      <td>0.0</td>\n      <td>0.0000</td>\n      <td>0.0000</td>\n      <td>0.0000</td>\n      <td>0.0038</td>\n      <td>0.0313</td>\n      <td>0.1228</td>\n      <td>0</td>\n      <td>0</td>\n      <td>0</td>\n      <td>0</td>\n      <td>38</td>\n      <td>313</td>\n      <td>1228</td>\n    </tr>\n    <tr>\n      <th>1988</th>\n      <td>0.0</td>\n      <td>0.0000</td>\n      <td>0.0000</td>\n      <td>0.0000</td>\n      <td>0.0105</td>\n      <td>0.0368</td>\n      <td>0.2037</td>\n      <td>0</td>\n      <td>0</td>\n      <td>0</td>\n      <td>0</td>\n      <td>105</td>\n      <td>368</td>\n      <td>2037</td>\n    </tr>\n    <tr>\n      <th>1989</th>\n      <td>0.0</td>\n      <td>0.0000</td>\n      <td>0.0018</td>\n      <td>0.0061</td>\n      <td>0.0073</td>\n      <td>0.0340</td>\n      <td>0.3333</td>\n      <td>0</td>\n      <td>0</td>\n      <td>18</td>\n      <td>60</td>\n      <td>73</td>\n      <td>340</td>\n      <td>3333</td>\n    </tr>\n    <tr>\n      <th>1990</th>\n      <td>0.0</td>\n      <td>0.0000</td>\n      <td>0.0000</td>\n      <td>0.0058</td>\n      <td>0.0357</td>\n      <td>0.0856</td>\n      <td>0.3125</td>\n      <td>0</td>\n      <td>0</td>\n      <td>0</td>\n      <td>57</td>\n      <td>356</td>\n      <td>856</td>\n      <td>3125</td>\n    </tr>\n    <tr>\n      <th>1991</th>\n      <td>0.0</td>\n      <td>0.0000</td>\n      <td>0.0000</td>\n      <td>0.0055</td>\n      <td>0.0169</td>\n      <td>0.1384</td>\n      <td>0.3387</td>\n      <td>0</td>\n      <td>0</td>\n      <td>0</td>\n      <td>55</td>\n      <td>168</td>\n      <td>1384</td>\n      <td>3387</td>\n    </tr>\n    <tr>\n      <th>1992</th>\n      <td>0.0</td>\n      <td>0.0000</td>\n      <td>0.0000</td>\n      <td>0.0000</td>\n      <td>0.0000</td>\n      <td>0.0699</td>\n      <td>0.3019</td>\n      <td>0</td>\n      <td>0</td>\n      <td>0</td>\n      <td>0</td>\n      <td>0</td>\n      <td>699</td>\n      <td>3019</td>\n    </tr>\n    <tr>\n      <th>1993</th>\n      <td>0.0</td>\n      <td>0.0000</td>\n      <td>0.0000</td>\n      <td>0.0000</td>\n      <td>0.0070</td>\n      <td>0.0262</td>\n      <td>0.1333</td>\n      <td>0</td>\n      <td>0</td>\n      <td>0</td>\n      <td>0</td>\n      <td>69</td>\n      <td>262</td>\n      <td>1333</td>\n    </tr>\n    <tr>\n      <th>1994</th>\n      <td>0.0</td>\n      <td>0.0000</td>\n      <td>0.0014</td>\n      <td>0.0000</td>\n      <td>0.0028</td>\n      <td>0.0309</td>\n      <td>0.1667</td>\n      <td>0</td>\n      <td>0</td>\n      <td>14</td>\n      <td>0</td>\n      <td>28</td>\n      <td>308</td>\n      <td>1667</td>\n    </tr>\n    <tr>\n      <th>1995</th>\n      <td>0.0</td>\n      <td>0.0000</td>\n      <td>0.0000</td>\n      <td>0.0017</td>\n      <td>0.0099</td>\n      <td>0.0459</td>\n      <td>0.2800</td>\n      <td>0</td>\n      <td>0</td>\n      <td>0</td>\n      <td>17</td>\n      <td>98</td>\n      <td>458</td>\n      <td>2800</td>\n    </tr>\n    <tr>\n      <th>1996</th>\n      <td>0.0</td>\n      <td>0.0000</td>\n      <td>0.0000</td>\n      <td>0.0000</td>\n      <td>0.0045</td>\n      <td>0.0291</td>\n      <td>0.0800</td>\n      <td>0</td>\n      <td>0</td>\n      <td>0</td>\n      <td>0</td>\n      <td>45</td>\n      <td>291</td>\n      <td>800</td>\n    </tr>\n    <tr>\n      <th>1997</th>\n      <td>0.0</td>\n      <td>0.0000</td>\n      <td>0.0000</td>\n      <td>0.0025</td>\n      <td>0.0019</td>\n      <td>0.0352</td>\n      <td>0.1200</td>\n      <td>0</td>\n      <td>0</td>\n      <td>0</td>\n      <td>25</td>\n      <td>19</td>\n      <td>352</td>\n      <td>1200</td>\n    </tr>\n    <tr>\n      <th>1998</th>\n      <td>0.0</td>\n      <td>0.0000</td>\n      <td>0.0000</td>\n      <td>0.0041</td>\n      <td>0.0082</td>\n      <td>0.0464</td>\n      <td>0.4286</td>\n      <td>0</td>\n      <td>0</td>\n      <td>0</td>\n      <td>40</td>\n      <td>81</td>\n      <td>463</td>\n      <td>4286</td>\n    </tr>\n    <tr>\n      <th>1999</th>\n      <td>0.0</td>\n      <td>0.0017</td>\n      <td>0.0018</td>\n      <td>0.0020</td>\n      <td>0.0095</td>\n      <td>0.0731</td>\n      <td>0.3382</td>\n      <td>0</td>\n      <td>17</td>\n      <td>18</td>\n      <td>20</td>\n      <td>95</td>\n      <td>731</td>\n      <td>3382</td>\n    </tr>\n    <tr>\n      <th>2000</th>\n      <td>0.0</td>\n      <td>0.0000</td>\n      <td>0.0027</td>\n      <td>0.0037</td>\n      <td>0.0116</td>\n      <td>0.0771</td>\n      <td>0.3596</td>\n      <td>0</td>\n      <td>0</td>\n      <td>27</td>\n      <td>37</td>\n      <td>115</td>\n      <td>771</td>\n      <td>3596</td>\n    </tr>\n    <tr>\n      <th>2001</th>\n      <td>0.0</td>\n      <td>0.0000</td>\n      <td>0.0027</td>\n      <td>0.0034</td>\n      <td>0.0298</td>\n      <td>0.1156</td>\n      <td>0.4545</td>\n      <td>0</td>\n      <td>0</td>\n      <td>27</td>\n      <td>34</td>\n      <td>298</td>\n      <td>1156</td>\n      <td>4545</td>\n    </tr>\n    <tr>\n      <th>2002</th>\n      <td>0.0</td>\n      <td>0.0000</td>\n      <td>0.0000</td>\n      <td>0.0102</td>\n      <td>0.0290</td>\n      <td>0.0820</td>\n      <td>0.4444</td>\n      <td>0</td>\n      <td>0</td>\n      <td>0</td>\n      <td>102</td>\n      <td>290</td>\n      <td>819</td>\n      <td>4444</td>\n    </tr>\n    <tr>\n      <th>2003</th>\n      <td>0.0</td>\n      <td>0.0000</td>\n      <td>0.0000</td>\n      <td>0.0023</td>\n      <td>0.0059</td>\n      <td>0.0407</td>\n      <td>0.3293</td>\n      <td>0</td>\n      <td>0</td>\n      <td>0</td>\n      <td>23</td>\n      <td>59</td>\n      <td>407</td>\n      <td>3293</td>\n    </tr>\n    <tr>\n      <th>2004</th>\n      <td>0.0</td>\n      <td>0.0000</td>\n      <td>0.0008</td>\n      <td>0.0000</td>\n      <td>0.0044</td>\n      <td>0.0145</td>\n      <td>0.1630</td>\n      <td>0</td>\n      <td>0</td>\n      <td>8</td>\n      <td>0</td>\n      <td>44</td>\n      <td>145</td>\n      <td>1630</td>\n    </tr>\n    <tr>\n      <th>2005</th>\n      <td>0.0</td>\n      <td>0.0000</td>\n      <td>0.0000</td>\n      <td>0.0007</td>\n      <td>0.0031</td>\n      <td>0.0175</td>\n      <td>0.0909</td>\n      <td>0</td>\n      <td>0</td>\n      <td>0</td>\n      <td>7</td>\n      <td>31</td>\n      <td>175</td>\n      <td>909</td>\n    </tr>\n    <tr>\n      <th>2006</th>\n      <td>0.0</td>\n      <td>0.0000</td>\n      <td>0.0000</td>\n      <td>0.0000</td>\n      <td>0.0030</td>\n      <td>0.0082</td>\n      <td>0.1333</td>\n      <td>0</td>\n      <td>0</td>\n      <td>0</td>\n      <td>0</td>\n      <td>30</td>\n      <td>81</td>\n      <td>1333</td>\n    </tr>\n    <tr>\n      <th>2007</th>\n      <td>0.0</td>\n      <td>0.0000</td>\n      <td>0.0000</td>\n      <td>0.0000</td>\n      <td>0.0020</td>\n      <td>0.0025</td>\n      <td>0.1524</td>\n      <td>0</td>\n      <td>0</td>\n      <td>0</td>\n      <td>0</td>\n      <td>20</td>\n      <td>25</td>\n      <td>1524</td>\n    </tr>\n    <tr>\n      <th>2008</th>\n      <td>0.0</td>\n      <td>0.0038</td>\n      <td>0.0039</td>\n      <td>0.0049</td>\n      <td>0.0081</td>\n      <td>0.0411</td>\n      <td>0.2727</td>\n      <td>0</td>\n      <td>38</td>\n      <td>39</td>\n      <td>49</td>\n      <td>81</td>\n      <td>411</td>\n      <td>2727</td>\n    </tr>\n    <tr>\n      <th>2009</th>\n      <td>0.0</td>\n      <td>0.0000</td>\n      <td>0.0022</td>\n      <td>0.0055</td>\n      <td>0.0075</td>\n      <td>0.1103</td>\n      <td>0.4946</td>\n      <td>0</td>\n      <td>0</td>\n      <td>22</td>\n      <td>55</td>\n      <td>75</td>\n      <td>1103</td>\n      <td>4946</td>\n    </tr>\n    <tr>\n      <th>2010</th>\n      <td>0.0</td>\n      <td>0.0000</td>\n      <td>0.0000</td>\n      <td>0.0000</td>\n      <td>0.0058</td>\n      <td>0.0087</td>\n      <td>0.2283</td>\n      <td>0</td>\n      <td>0</td>\n      <td>0</td>\n      <td>0</td>\n      <td>57</td>\n      <td>87</td>\n      <td>2282</td>\n    </tr>\n    <tr>\n      <th>2011</th>\n      <td>0.0</td>\n      <td>0.0000</td>\n      <td>0.0000</td>\n      <td>0.0007</td>\n      <td>0.0000</td>\n      <td>0.0168</td>\n      <td>0.1642</td>\n      <td>0</td>\n      <td>0</td>\n      <td>0</td>\n      <td>7</td>\n      <td>0</td>\n      <td>168</td>\n      <td>1642</td>\n    </tr>\n    <tr>\n      <th>2012</th>\n      <td>0.0</td>\n      <td>0.0000</td>\n      <td>0.0000</td>\n      <td>0.0000</td>\n      <td>0.0030</td>\n      <td>0.0158</td>\n      <td>0.2752</td>\n      <td>0</td>\n      <td>0</td>\n      <td>0</td>\n      <td>0</td>\n      <td>30</td>\n      <td>158</td>\n      <td>2752</td>\n    </tr>\n    <tr>\n      <th>2013</th>\n      <td>0.0</td>\n      <td>0.0000</td>\n      <td>0.0000</td>\n      <td>0.0000</td>\n      <td>0.0010</td>\n      <td>0.0165</td>\n      <td>0.2467</td>\n      <td>0</td>\n      <td>0</td>\n      <td>0</td>\n      <td>0</td>\n      <td>10</td>\n      <td>165</td>\n      <td>2467</td>\n    </tr>\n    <tr>\n      <th>2014</th>\n      <td>0.0</td>\n      <td>0.0000</td>\n      <td>0.0000</td>\n      <td>0.0000</td>\n      <td>0.0000</td>\n      <td>0.0078</td>\n      <td>0.1751</td>\n      <td>0</td>\n      <td>0</td>\n      <td>0</td>\n      <td>0</td>\n      <td>0</td>\n      <td>78</td>\n      <td>1751</td>\n    </tr>\n    <tr>\n      <th>2015</th>\n      <td>0.0</td>\n      <td>0.0000</td>\n      <td>0.0000</td>\n      <td>0.0000</td>\n      <td>0.0016</td>\n      <td>0.0242</td>\n      <td>0.2667</td>\n      <td>0</td>\n      <td>0</td>\n      <td>0</td>\n      <td>0</td>\n      <td>16</td>\n      <td>242</td>\n      <td>2667</td>\n    </tr>\n    <tr>\n      <th>2016</th>\n      <td>0.0</td>\n      <td>0.0000</td>\n      <td>0.0000</td>\n      <td>0.0006</td>\n      <td>0.0047</td>\n      <td>0.0376</td>\n      <td>0.3317</td>\n      <td>0</td>\n      <td>0</td>\n      <td>0</td>\n      <td>5</td>\n      <td>46</td>\n      <td>375</td>\n      <td>3317</td>\n    </tr>\n    <tr>\n      <th>2017</th>\n      <td>0.0</td>\n      <td>0.0000</td>\n      <td>0.0000</td>\n      <td>0.0000</td>\n      <td>0.0008</td>\n      <td>0.0100</td>\n      <td>0.2656</td>\n      <td>0</td>\n      <td>0</td>\n      <td>0</td>\n      <td>0</td>\n      <td>8</td>\n      <td>100</td>\n      <td>2656</td>\n    </tr>\n    <tr>\n      <th>2018</th>\n      <td>0.0</td>\n      <td>0.0000</td>\n      <td>0.0000</td>\n      <td>0.0000</td>\n      <td>0.0000</td>\n      <td>0.0099</td>\n      <td>0.2718</td>\n      <td>0</td>\n      <td>0</td>\n      <td>0</td>\n      <td>0</td>\n      <td>0</td>\n      <td>98</td>\n      <td>2718</td>\n    </tr>\n    <tr>\n      <th>2019</th>\n      <td>0.0</td>\n      <td>0.0000</td>\n      <td>0.0000</td>\n      <td>0.0011</td>\n      <td>0.0000</td>\n      <td>0.0149</td>\n      <td>0.2976</td>\n      <td>0</td>\n      <td>0</td>\n      <td>0</td>\n      <td>11</td>\n      <td>0</td>\n      <td>149</td>\n      <td>2976</td>\n    </tr>\n    <tr>\n      <th>2020</th>\n      <td>0.0</td>\n      <td>0.0000</td>\n      <td>0.0000</td>\n      <td>0.0000</td>\n      <td>0.0093</td>\n      <td>0.0352</td>\n      <td>0.4748</td>\n      <td>0</td>\n      <td>0</td>\n      <td>0</td>\n      <td>0</td>\n      <td>93</td>\n      <td>352</td>\n      <td>4747</td>\n    </tr>\n  </tbody>\n</table>\n</div>"
     },
     "execution_count": 6,
     "metadata": {},
     "output_type": "execute_result"
    }
   ],
   "source": [
    "grades_data"
   ],
   "metadata": {
    "collapsed": false,
    "ExecuteTime": {
     "end_time": "2024-03-18T19:46:12.248062600Z",
     "start_time": "2024-03-18T19:46:12.012042Z"
    }
   },
   "id": "efdee26b794fecb1"
  },
  {
   "cell_type": "code",
   "execution_count": 7,
   "outputs": [
    {
     "data": {
      "text/plain": "BBB defaults        774\nBB defaults        3413\nB defaults        16757\nCCC/C defaults    99675\ndtype: int64"
     },
     "execution_count": 7,
     "metadata": {},
     "output_type": "execute_result"
    }
   ],
   "source": [
    "grades_data.iloc[:, -4:].sum(axis=0)"
   ],
   "metadata": {
    "collapsed": false,
    "ExecuteTime": {
     "end_time": "2024-03-18T19:46:12.272063200Z",
     "start_time": "2024-03-18T19:46:12.060044900Z"
    }
   },
   "id": "80dd0b642bd4548e"
  },
  {
   "cell_type": "code",
   "execution_count": 8,
   "outputs": [],
   "source": [
    "# Choose last four columns and calculate the sum of defaults\n",
    "d_g = grades_data.iloc[:, -4:].sum(axis=0).tolist()\n",
    "n_g = [n_g_assumption * grades_data.shape[0]] * len(d_g)"
   ],
   "metadata": {
    "collapsed": false,
    "ExecuteTime": {
     "end_time": "2024-03-18T19:46:12.273065Z",
     "start_time": "2024-03-18T19:46:12.073046600Z"
    }
   },
   "id": "2057f5d3719df0ee"
  },
  {
   "cell_type": "code",
   "execution_count": 9,
   "outputs": [
    {
     "data": {
      "text/plain": "([774, 3413, 16757, 99675], [400000, 400000, 400000, 400000])"
     },
     "execution_count": 9,
     "metadata": {},
     "output_type": "execute_result"
    }
   ],
   "source": [
    "d_g, n_g"
   ],
   "metadata": {
    "collapsed": false,
    "ExecuteTime": {
     "end_time": "2024-03-18T19:46:12.274064300Z",
     "start_time": "2024-03-18T19:46:12.088047100Z"
    }
   },
   "id": "7e0a8ee4ee8388c2"
  },
  {
   "cell_type": "code",
   "execution_count": 10,
   "outputs": [
    {
     "data": {
      "text/plain": "array([ 0.09, -1.  , -1.  , -1.  , -1.  ])"
     },
     "execution_count": 10,
     "metadata": {},
     "output_type": "execute_result"
    }
   ],
   "source": [
    "# Make MLE estimation\n",
    "w_init = 0.09\n",
    "gamma_init = [-1] * len(d_g)\n",
    "bounds = [(0, 1)] + [(-10, 10)] * len(d_g)\n",
    "multivariate_ml_estimation(d_g, n_g, norm.pdf, p_g, w_init, gamma_init, bounds)"
   ],
   "metadata": {
    "collapsed": false,
    "ExecuteTime": {
     "end_time": "2024-03-18T19:46:12.836111900Z",
     "start_time": "2024-03-18T19:46:12.105049600Z"
    }
   },
   "id": "70e4c1b588008c82"
  },
  {
   "cell_type": "code",
   "execution_count": 11,
   "outputs": [
    {
     "name": "stderr",
     "output_type": "stream",
     "text": [
      "C:\\Users\\kissp\\AppData\\Local\\Temp\\ipykernel_8836\\1631688118.py:12: RuntimeWarning: divide by zero encountered in log\n",
      "  objective_function = lambda params: -np.log(calculate_my_likelihood_arr(d_g_arr, n_g_arr, p_g, norm.pdf, np.repeat(params, 4), gamma_g))\n"
     ]
    },
    {
     "name": "stdout",
     "output_type": "stream",
     "text": [
      "Optimization terminated successfully.\n",
      "         Current function value: 21.520225\n",
      "         Iterations: 18\n",
      "         Function evaluations: 36\n",
      "The optimal weight parameter is [-8.32667268e-16]\n",
      "Optimization terminated successfully.\n"
     ]
    }
   ],
   "source": [
    "# Different gamma and same factor loading parameter\n",
    "\n",
    "d_g_arr = np.array(d_g)\n",
    "n_g_arr = np.array(n_g)\n",
    "gamma_g = norm.ppf(d_g_arr / n_g_arr)\n",
    "\n",
    "# MLE condition and initial guess\n",
    "initial_guess = np.array([0.30])\n",
    "bounds = [(-1, 1)]\n",
    "\n",
    "# Function to be minimized in weight parameter\n",
    "objective_function = lambda params: -np.log(calculate_my_likelihood_arr(d_g_arr, n_g_arr, p_g, norm.pdf, np.repeat(params, 4), gamma_g))\n",
    "\n",
    "\n",
    "result = minimize(objective_function,\n",
    "                  initial_guess,\n",
    "                  method=\"Nelder-Mead\",\n",
    "                  bounds=bounds,\n",
    "                  options={\n",
    "                      'disp': True})\n",
    "# Method can be Nelder-Mead or Powell\n",
    "\n",
    "# The optimal weight parameter\n",
    "optimal_weight = result.x\n",
    "print(f\"The optimal weight parameter is {optimal_weight}\")\n",
    "print(result.message)"
   ],
   "metadata": {
    "collapsed": false,
    "ExecuteTime": {
     "end_time": "2024-03-18T19:46:14.094479300Z",
     "start_time": "2024-03-18T19:46:12.842111200Z"
    }
   },
   "id": "72a748ab639c2fe8"
  },
  {
   "cell_type": "code",
   "execution_count": 12,
   "outputs": [
    {
     "data": {
      "text/plain": "array([-2.88856828, -2.38530428, -1.72913464, -0.67704879])"
     },
     "execution_count": 12,
     "metadata": {},
     "output_type": "execute_result"
    }
   ],
   "source": [
    "gamma_g"
   ],
   "metadata": {
    "collapsed": false,
    "ExecuteTime": {
     "end_time": "2024-03-18T19:46:14.184490100Z",
     "start_time": "2024-03-18T19:46:13.389419800Z"
    }
   },
   "id": "65d4463f42d01d1d"
  },
  {
   "cell_type": "code",
   "execution_count": 13,
   "outputs": [
    {
     "name": "stderr",
     "output_type": "stream",
     "text": [
      "C:\\Users\\kissp\\AppData\\Local\\Temp\\ipykernel_8836\\4013642670.py:12: RuntimeWarning: divide by zero encountered in log\n",
      "  objective_function = lambda params: -np.log(calculate_my_likelihood_arr(d_g_arr, n_g_arr, p_g, norm.pdf,\n"
     ]
    },
    {
     "name": "stdout",
     "output_type": "stream",
     "text": [
      "Optimization terminated successfully.\n",
      "         Current function value: 25.456491\n",
      "         Iterations: 109\n",
      "         Function evaluations: 186\n",
      "The optimal weight parameter is [-2.79115976 -2.30320575 -1.66699612 -0.6468825   0.24471236]\n",
      "Optimization terminated successfully.\n"
     ]
    }
   ],
   "source": [
    "# Different gamma and same factor loading parameter\n",
    "\n",
    "d_g_arr = np.array(d_g)\n",
    "n_g_arr = np.array(n_g)\n",
    "gamma_g = norm.ppf(d_g_arr / n_g_arr)\n",
    "\n",
    "# MLE condition and initial guess\n",
    "initial_guess = np.array([-2.85, -2.4, -1.7, -0.6, 0.25])\n",
    "bounds = [(-5, 5), (-5, 5), (-5, 5), (-5, 5), (-1, 1)]\n",
    "\n",
    "# Function to be minimized in weight parameter\n",
    "objective_function = lambda params: -np.log(calculate_my_likelihood_arr(d_g_arr, n_g_arr, p_g, norm.pdf, \n",
    "                                                                 np.repeat(params[4], 4), \n",
    "                                                                 params[0:4]))\n",
    "\n",
    "result = minimize(objective_function,\n",
    "                  initial_guess,\n",
    "                  method=\"Nelder-Mead\",\n",
    "                  bounds=bounds,\n",
    "                  options={\n",
    "                      'disp': True})\n",
    "# Method can be Nelder-Mead or Powell\n",
    "\n",
    "# The optimal weight parameter\n",
    "optimal_weight = result.x\n",
    "print(f\"The optimal weight parameter is {optimal_weight}\")\n",
    "print(result.message)"
   ],
   "metadata": {
    "collapsed": false,
    "ExecuteTime": {
     "end_time": "2024-03-18T19:46:18.046526400Z",
     "start_time": "2024-03-18T19:46:13.407420500Z"
    }
   },
   "id": "4be22fcb0f116dce"
  },
  {
   "cell_type": "code",
   "execution_count": 13,
   "outputs": [],
   "source": [],
   "metadata": {
    "collapsed": false,
    "ExecuteTime": {
     "end_time": "2024-03-18T19:46:18.088528800Z",
     "start_time": "2024-03-18T19:46:18.050524800Z"
    }
   },
   "id": "9a9c6fe8a529c58c"
  }
 ],
 "metadata": {
  "kernelspec": {
   "display_name": "Python 3",
   "language": "python",
   "name": "python3"
  },
  "language_info": {
   "codemirror_mode": {
    "name": "ipython",
    "version": 2
   },
   "file_extension": ".py",
   "mimetype": "text/x-python",
   "name": "python",
   "nbconvert_exporter": "python",
   "pygments_lexer": "ipython2",
   "version": "2.7.6"
  }
 },
 "nbformat": 4,
 "nbformat_minor": 5
}
