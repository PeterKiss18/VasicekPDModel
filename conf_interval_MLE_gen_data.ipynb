{
 "cells": [
  {
   "cell_type": "markdown",
   "source": [
    "# Make confidence interval for the ML parameter estimation of the generated data"
   ],
   "metadata": {
    "collapsed": false
   },
   "id": "a65a98f275658dbb"
  },
  {
   "cell_type": "code",
   "execution_count": 1,
   "outputs": [],
   "source": [
    "import pandas as pd\n",
    "import numpy as np\n",
    "from src.data_generator import generate_default_buckets\n",
    "from scipy.stats import norm"
   ],
   "metadata": {
    "collapsed": false,
    "ExecuteTime": {
     "end_time": "2024-04-02T16:57:48.027898800Z",
     "start_time": "2024-04-02T16:57:48.000556800Z"
    }
   },
   "id": "77629a0ac7683038"
  },
  {
   "cell_type": "code",
   "execution_count": 2,
   "outputs": [],
   "source": [
    "# Fix seed for reproducibility\n",
    "seed = 2523\n",
    "np.random.seed(seed)"
   ],
   "metadata": {
    "collapsed": false,
    "ExecuteTime": {
     "end_time": "2024-04-02T16:57:48.044901Z",
     "start_time": "2024-04-02T16:57:48.029899100Z"
    }
   },
   "id": "4d7211fdbea089c9"
  },
  {
   "cell_type": "code",
   "execution_count": 3,
   "outputs": [
    {
     "data": {
      "text/plain": "  Grade  Factor Loading      PD     Gamma  Num of Obligors\n0     A            0.45  0.0015 -2.967738              400\n1     B            0.45  0.0100 -2.326348              250\n2     C            0.45  0.0500 -1.644854              100",
      "text/html": "<div>\n<style scoped>\n    .dataframe tbody tr th:only-of-type {\n        vertical-align: middle;\n    }\n\n    .dataframe tbody tr th {\n        vertical-align: top;\n    }\n\n    .dataframe thead th {\n        text-align: right;\n    }\n</style>\n<table border=\"1\" class=\"dataframe\">\n  <thead>\n    <tr style=\"text-align: right;\">\n      <th></th>\n      <th>Grade</th>\n      <th>Factor Loading</th>\n      <th>PD</th>\n      <th>Gamma</th>\n      <th>Num of Obligors</th>\n    </tr>\n  </thead>\n  <tbody>\n    <tr>\n      <th>0</th>\n      <td>A</td>\n      <td>0.45</td>\n      <td>0.0015</td>\n      <td>-2.967738</td>\n      <td>400</td>\n    </tr>\n    <tr>\n      <th>1</th>\n      <td>B</td>\n      <td>0.45</td>\n      <td>0.0100</td>\n      <td>-2.326348</td>\n      <td>250</td>\n    </tr>\n    <tr>\n      <th>2</th>\n      <td>C</td>\n      <td>0.45</td>\n      <td>0.0500</td>\n      <td>-1.644854</td>\n      <td>100</td>\n    </tr>\n  </tbody>\n</table>\n</div>"
     },
     "execution_count": 3,
     "metadata": {},
     "output_type": "execute_result"
    }
   ],
   "source": [
    "factor_loading_list = [0.45, 0.45, 0.45]\n",
    "pd_list = [0.0015, 0.0100, 0.0500]\n",
    "gamma_list = norm.ppf(pd_list)\n",
    "#num_of_obligors_list = [250, 250, 250]\n",
    "num_of_obligors_list = [400, 250, 100]\n",
    "\n",
    "# Make a pandas dataframe with Grade, Factor Loading, PD, Gamma, Num of Obligors\n",
    "df = pd.DataFrame({'Grade': ['A', 'B', 'C'], 'Factor Loading': factor_loading_list, 'PD': pd_list, 'Gamma': gamma_list, 'Num of Obligors': num_of_obligors_list})\n",
    "df"
   ],
   "metadata": {
    "collapsed": false,
    "ExecuteTime": {
     "end_time": "2024-04-02T16:57:48.097904800Z",
     "start_time": "2024-04-02T16:57:48.048901700Z"
    }
   },
   "id": "25ac43a7cd9db38"
  },
  {
   "cell_type": "code",
   "execution_count": 4,
   "outputs": [
    {
     "name": "stdout",
     "output_type": "stream",
     "text": [
      "Number of defaults:  [23, 99, 260]\n",
      "Number of obligors over time:  [32000, 20000, 8000]\n"
     ]
    }
   ],
   "source": [
    "length_of_time_series = 80\n",
    "default_list = generate_default_buckets(factor_loading_list,num_of_obligors_list, gamma_list, time_points=length_of_time_series)\n",
    "print(\"Number of defaults: \", default_list)\n",
    "num_of_obligors_over_time = [x * length_of_time_series for x in num_of_obligors_list]\n",
    "print(\"Number of obligors over time: \", num_of_obligors_over_time)"
   ],
   "metadata": {
    "collapsed": false,
    "ExecuteTime": {
     "end_time": "2024-04-02T16:57:48.195910300Z",
     "start_time": "2024-04-02T16:57:48.093904800Z"
    }
   },
   "id": "618ff9fcdb107947"
  },
  {
   "cell_type": "code",
   "execution_count": 11,
   "outputs": [
    {
     "name": "stdout",
     "output_type": "stream",
     "text": [
      "Empirical PD:  [0.00303125, 0.01635, 0.060625]\n"
     ]
    }
   ],
   "source": [
    "# Empirical PD\n",
    "empirical_pd_list = [x/y for x, y in zip(default_list, num_of_obligors_over_time)]\n",
    "print(\"Empirical PD: \", empirical_pd_list)"
   ],
   "metadata": {
    "collapsed": false,
    "ExecuteTime": {
     "end_time": "2024-03-27T12:22:54.131926800Z",
     "start_time": "2024-03-27T12:22:54.089923800Z"
    }
   },
   "id": "fdb3281e9cd97674"
  },
  {
   "cell_type": "code",
   "execution_count": null,
   "outputs": [],
   "source": [],
   "metadata": {
    "collapsed": false
   },
   "id": "2c8a9db8bea11f4e"
  },
  {
   "cell_type": "code",
   "execution_count": 6,
   "outputs": [
    {
     "data": {
      "text/plain": "array([0.00186581, 0.01072411, 0.05479929])"
     },
     "execution_count": 6,
     "metadata": {},
     "output_type": "execute_result"
    }
   ],
   "source": [
    "gamma_list = [-2.9, -2.3, -1.6]\n",
    "norm.cdf(gamma_list)"
   ],
   "metadata": {
    "collapsed": false,
    "ExecuteTime": {
     "end_time": "2024-03-27T12:21:54.551373Z",
     "start_time": "2024-03-27T12:21:54.409712600Z"
    }
   },
   "id": "9405583f1c00a92f"
  },
  {
   "cell_type": "code",
   "execution_count": 5,
   "outputs": [],
   "source": [
    "from src.ML_estimation import calculate_my_likelihood_arr\n",
    "from src.sucess_probability import p_g\n",
    "from scipy.optimize import minimize\n",
    "\n",
    "def parameter_estimation(default_list, num_of_obligors_over_time, factor_loading_init, gamma_list_init):\n",
    "    initial_guess = gamma_list_init + factor_loading_init\n",
    "    \n",
    "    num_of_gamma = len(gamma_list_init)\n",
    "    num_of_factor_loading = len(factor_loading_init)\n",
    "    # bound = num_of_gamma * (-5, 5) + num_of_factor_loading * (-1, 1)\n",
    "    bounds = num_of_gamma * [(-5, 5)] + num_of_factor_loading * [(-1, 1)]\n",
    "    print(bounds)\n",
    "    print(initial_guess)\n",
    "    # Optimization\n",
    "    objective_function = lambda params: -np.log(calculate_my_likelihood_arr(\n",
    "        default_list, num_of_obligors_over_time, p_g, norm.pdf, np.repeat(params[3], 3), params[0:3]\n",
    "    ))\n",
    "    \n",
    "    result = minimize(objective_function,\n",
    "                  initial_guess,\n",
    "                  method=\"Nelder-Mead\",\n",
    "                  bounds=bounds,\n",
    "                  options={\n",
    "                      'disp': True})\n",
    "    \n",
    "    return result"
   ],
   "metadata": {
    "collapsed": false,
    "ExecuteTime": {
     "end_time": "2024-04-02T16:58:17.244057200Z",
     "start_time": "2024-04-02T16:58:17.229057100Z"
    }
   },
   "id": "e085dc20feb17daa"
  },
  {
   "cell_type": "code",
   "execution_count": 8,
   "outputs": [
    {
     "name": "stdout",
     "output_type": "stream",
     "text": [
      "[(-5, 5), (-5, 5), (-5, 5), (-1, 1)]\n",
      "[-2.9, -2.2, -1.6, 0.4]\n",
      "Optimization terminated successfully.\n",
      "         Current function value: 11.014011\n",
      "         Iterations: 249\n",
      "         Function evaluations: 424\n"
     ]
    }
   ],
   "source": [
    "# Test the parameter estimation\n",
    "factor_loading_init = [0.40]\n",
    "gamma_list_init = [-2.9, -2.2, -1.6]\n",
    "result = parameter_estimation(default_list, num_of_obligors_over_time, factor_loading_init, gamma_list_init)"
   ],
   "metadata": {
    "collapsed": false,
    "ExecuteTime": {
     "end_time": "2024-03-27T12:22:33.364478900Z",
     "start_time": "2024-03-27T12:22:18.118594500Z"
    }
   },
   "id": "87318127d40fa081"
  },
  {
   "cell_type": "code",
   "execution_count": 9,
   "outputs": [
    {
     "data": {
      "text/plain": "1.1522589899534333e-05"
     },
     "execution_count": 9,
     "metadata": {},
     "output_type": "execute_result"
    }
   ],
   "source": [
    "result.x[3]"
   ],
   "metadata": {
    "collapsed": false,
    "ExecuteTime": {
     "end_time": "2024-03-27T12:22:33.405481900Z",
     "start_time": "2024-03-27T12:22:33.347868400Z"
    }
   },
   "id": "ee252f0cb7ee9f51"
  },
  {
   "cell_type": "code",
   "execution_count": 10,
   "outputs": [
    {
     "ename": "KeyboardInterrupt",
     "evalue": "",
     "output_type": "error",
     "traceback": [
      "\u001B[1;31m---------------------------------------------------------------------------\u001B[0m",
      "\u001B[1;31mKeyboardInterrupt\u001B[0m                         Traceback (most recent call last)",
      "Cell \u001B[1;32mIn[10], line 21\u001B[0m\n\u001B[0;32m     17\u001B[0m bounds \u001B[38;5;241m=\u001B[39m [(\u001B[38;5;241m-\u001B[39m\u001B[38;5;241m5\u001B[39m, \u001B[38;5;241m5\u001B[39m), (\u001B[38;5;241m-\u001B[39m\u001B[38;5;241m5\u001B[39m, \u001B[38;5;241m5\u001B[39m), (\u001B[38;5;241m-\u001B[39m\u001B[38;5;241m5\u001B[39m, \u001B[38;5;241m5\u001B[39m), (\u001B[38;5;241m-\u001B[39m\u001B[38;5;241m1\u001B[39m, \u001B[38;5;241m1\u001B[39m)]\n\u001B[0;32m     18\u001B[0m objective_function \u001B[38;5;241m=\u001B[39m \u001B[38;5;28;01mlambda\u001B[39;00m params: \u001B[38;5;241m-\u001B[39mnp\u001B[38;5;241m.\u001B[39mlog(calculate_my_likelihood_arr(d_g_arr, n_g_arr, p_g, norm\u001B[38;5;241m.\u001B[39mpdf, \n\u001B[0;32m     19\u001B[0m                                                          np\u001B[38;5;241m.\u001B[39mrepeat(params[\u001B[38;5;241m3\u001B[39m], \u001B[38;5;241m3\u001B[39m), \n\u001B[0;32m     20\u001B[0m                                                          params[\u001B[38;5;241m0\u001B[39m:\u001B[38;5;241m3\u001B[39m]))\n\u001B[1;32m---> 21\u001B[0m result \u001B[38;5;241m=\u001B[39m \u001B[43mminimize\u001B[49m\u001B[43m(\u001B[49m\u001B[43mobjective_function\u001B[49m\u001B[43m,\u001B[49m\n\u001B[0;32m     22\u001B[0m \u001B[43m          \u001B[49m\u001B[43minitial_guess\u001B[49m\u001B[43m,\u001B[49m\n\u001B[0;32m     23\u001B[0m \u001B[43m          \u001B[49m\u001B[43mmethod\u001B[49m\u001B[38;5;241;43m=\u001B[39;49m\u001B[38;5;124;43m\"\u001B[39;49m\u001B[38;5;124;43mNelder-Mead\u001B[39;49m\u001B[38;5;124;43m\"\u001B[39;49m\u001B[43m,\u001B[49m\n\u001B[0;32m     24\u001B[0m \u001B[43m          \u001B[49m\u001B[43mbounds\u001B[49m\u001B[38;5;241;43m=\u001B[39;49m\u001B[43mbounds\u001B[49m\u001B[43m,\u001B[49m\n\u001B[0;32m     25\u001B[0m \u001B[43m          \u001B[49m\u001B[43moptions\u001B[49m\u001B[38;5;241;43m=\u001B[39;49m\u001B[43m{\u001B[49m\n\u001B[0;32m     26\u001B[0m \u001B[43m              \u001B[49m\u001B[38;5;124;43m'\u001B[39;49m\u001B[38;5;124;43mdisp\u001B[39;49m\u001B[38;5;124;43m'\u001B[39;49m\u001B[43m:\u001B[49m\u001B[43m \u001B[49m\u001B[38;5;28;43;01mFalse\u001B[39;49;00m\u001B[43m}\u001B[49m\u001B[43m)\u001B[49m\n\u001B[0;32m     27\u001B[0m results[len_ts]\u001B[38;5;241m.\u001B[39mappend(result\u001B[38;5;241m.\u001B[39mx[\u001B[38;5;241m3\u001B[39m])\n",
      "File \u001B[1;32m~\\PycharmProjects\\VasicekPDModell\\venv\\lib\\site-packages\\scipy\\optimize\\_minimize.py:701\u001B[0m, in \u001B[0;36mminimize\u001B[1;34m(fun, x0, args, method, jac, hess, hessp, bounds, constraints, tol, callback, options)\u001B[0m\n\u001B[0;32m    698\u001B[0m callback \u001B[38;5;241m=\u001B[39m _wrap_callback(callback, meth)\n\u001B[0;32m    700\u001B[0m \u001B[38;5;28;01mif\u001B[39;00m meth \u001B[38;5;241m==\u001B[39m \u001B[38;5;124m'\u001B[39m\u001B[38;5;124mnelder-mead\u001B[39m\u001B[38;5;124m'\u001B[39m:\n\u001B[1;32m--> 701\u001B[0m     res \u001B[38;5;241m=\u001B[39m _minimize_neldermead(fun, x0, args, callback, bounds\u001B[38;5;241m=\u001B[39mbounds,\n\u001B[0;32m    702\u001B[0m                                \u001B[38;5;241m*\u001B[39m\u001B[38;5;241m*\u001B[39moptions)\n\u001B[0;32m    703\u001B[0m \u001B[38;5;28;01melif\u001B[39;00m meth \u001B[38;5;241m==\u001B[39m \u001B[38;5;124m'\u001B[39m\u001B[38;5;124mpowell\u001B[39m\u001B[38;5;124m'\u001B[39m:\n\u001B[0;32m    704\u001B[0m     res \u001B[38;5;241m=\u001B[39m _minimize_powell(fun, x0, args, callback, bounds, \u001B[38;5;241m*\u001B[39m\u001B[38;5;241m*\u001B[39moptions)\n",
      "File \u001B[1;32m~\\PycharmProjects\\VasicekPDModell\\venv\\lib\\site-packages\\scipy\\optimize\\_optimize.py:948\u001B[0m, in \u001B[0;36m_minimize_neldermead\u001B[1;34m(func, x0, args, callback, maxiter, maxfev, disp, return_all, initial_simplex, xatol, fatol, adaptive, bounds, **unknown_options)\u001B[0m\n\u001B[0;32m    946\u001B[0m \u001B[38;5;28;01mif\u001B[39;00m bounds \u001B[38;5;129;01mis\u001B[39;00m \u001B[38;5;129;01mnot\u001B[39;00m \u001B[38;5;28;01mNone\u001B[39;00m:\n\u001B[0;32m    947\u001B[0m     xr \u001B[38;5;241m=\u001B[39m np\u001B[38;5;241m.\u001B[39mclip(xr, lower_bound, upper_bound)\n\u001B[1;32m--> 948\u001B[0m fxr \u001B[38;5;241m=\u001B[39m \u001B[43mfunc\u001B[49m\u001B[43m(\u001B[49m\u001B[43mxr\u001B[49m\u001B[43m)\u001B[49m\n\u001B[0;32m    949\u001B[0m doshrink \u001B[38;5;241m=\u001B[39m \u001B[38;5;241m0\u001B[39m\n\u001B[0;32m    951\u001B[0m \u001B[38;5;28;01mif\u001B[39;00m fxr \u001B[38;5;241m<\u001B[39m fsim[\u001B[38;5;241m0\u001B[39m]:\n",
      "File \u001B[1;32m~\\PycharmProjects\\VasicekPDModell\\venv\\lib\\site-packages\\scipy\\optimize\\_optimize.py:640\u001B[0m, in \u001B[0;36m_wrap_scalar_function_maxfun_validation.<locals>.function_wrapper\u001B[1;34m(x, *wrapper_args)\u001B[0m\n\u001B[0;32m    638\u001B[0m ncalls[\u001B[38;5;241m0\u001B[39m] \u001B[38;5;241m+\u001B[39m\u001B[38;5;241m=\u001B[39m \u001B[38;5;241m1\u001B[39m\n\u001B[0;32m    639\u001B[0m \u001B[38;5;66;03m# A copy of x is sent to the user function (gh13740)\u001B[39;00m\n\u001B[1;32m--> 640\u001B[0m fx \u001B[38;5;241m=\u001B[39m \u001B[43mfunction\u001B[49m\u001B[43m(\u001B[49m\u001B[43mnp\u001B[49m\u001B[38;5;241;43m.\u001B[39;49m\u001B[43mcopy\u001B[49m\u001B[43m(\u001B[49m\u001B[43mx\u001B[49m\u001B[43m)\u001B[49m\u001B[43m,\u001B[49m\u001B[43m \u001B[49m\u001B[38;5;241;43m*\u001B[39;49m\u001B[43m(\u001B[49m\u001B[43mwrapper_args\u001B[49m\u001B[43m \u001B[49m\u001B[38;5;241;43m+\u001B[39;49m\u001B[43m \u001B[49m\u001B[43margs\u001B[49m\u001B[43m)\u001B[49m\u001B[43m)\u001B[49m\n\u001B[0;32m    641\u001B[0m \u001B[38;5;66;03m# Ideally, we'd like to a have a true scalar returned from f(x). For\u001B[39;00m\n\u001B[0;32m    642\u001B[0m \u001B[38;5;66;03m# backwards-compatibility, also allow np.array([1.3]),\u001B[39;00m\n\u001B[0;32m    643\u001B[0m \u001B[38;5;66;03m# np.array([[1.3]]) etc.\u001B[39;00m\n\u001B[0;32m    644\u001B[0m \u001B[38;5;28;01mif\u001B[39;00m \u001B[38;5;129;01mnot\u001B[39;00m np\u001B[38;5;241m.\u001B[39misscalar(fx):\n",
      "Cell \u001B[1;32mIn[10], line 18\u001B[0m, in \u001B[0;36m<lambda>\u001B[1;34m(params)\u001B[0m\n\u001B[0;32m     16\u001B[0m initial_guess \u001B[38;5;241m=\u001B[39m np\u001B[38;5;241m.\u001B[39mappend(initial_guess, \u001B[38;5;241m0.45\u001B[39m)\n\u001B[0;32m     17\u001B[0m bounds \u001B[38;5;241m=\u001B[39m [(\u001B[38;5;241m-\u001B[39m\u001B[38;5;241m5\u001B[39m, \u001B[38;5;241m5\u001B[39m), (\u001B[38;5;241m-\u001B[39m\u001B[38;5;241m5\u001B[39m, \u001B[38;5;241m5\u001B[39m), (\u001B[38;5;241m-\u001B[39m\u001B[38;5;241m5\u001B[39m, \u001B[38;5;241m5\u001B[39m), (\u001B[38;5;241m-\u001B[39m\u001B[38;5;241m1\u001B[39m, \u001B[38;5;241m1\u001B[39m)]\n\u001B[1;32m---> 18\u001B[0m objective_function \u001B[38;5;241m=\u001B[39m \u001B[38;5;28;01mlambda\u001B[39;00m params: \u001B[38;5;241m-\u001B[39mnp\u001B[38;5;241m.\u001B[39mlog(\u001B[43mcalculate_my_likelihood_arr\u001B[49m\u001B[43m(\u001B[49m\u001B[43md_g_arr\u001B[49m\u001B[43m,\u001B[49m\u001B[43m \u001B[49m\u001B[43mn_g_arr\u001B[49m\u001B[43m,\u001B[49m\u001B[43m \u001B[49m\u001B[43mp_g\u001B[49m\u001B[43m,\u001B[49m\u001B[43m \u001B[49m\u001B[43mnorm\u001B[49m\u001B[38;5;241;43m.\u001B[39;49m\u001B[43mpdf\u001B[49m\u001B[43m,\u001B[49m\u001B[43m \u001B[49m\n\u001B[0;32m     19\u001B[0m \u001B[43m                                                         \u001B[49m\u001B[43mnp\u001B[49m\u001B[38;5;241;43m.\u001B[39;49m\u001B[43mrepeat\u001B[49m\u001B[43m(\u001B[49m\u001B[43mparams\u001B[49m\u001B[43m[\u001B[49m\u001B[38;5;241;43m3\u001B[39;49m\u001B[43m]\u001B[49m\u001B[43m,\u001B[49m\u001B[43m \u001B[49m\u001B[38;5;241;43m3\u001B[39;49m\u001B[43m)\u001B[49m\u001B[43m,\u001B[49m\u001B[43m \u001B[49m\n\u001B[0;32m     20\u001B[0m \u001B[43m                                                         \u001B[49m\u001B[43mparams\u001B[49m\u001B[43m[\u001B[49m\u001B[38;5;241;43m0\u001B[39;49m\u001B[43m:\u001B[49m\u001B[38;5;241;43m3\u001B[39;49m\u001B[43m]\u001B[49m\u001B[43m)\u001B[49m)\n\u001B[0;32m     21\u001B[0m result \u001B[38;5;241m=\u001B[39m minimize(objective_function,\n\u001B[0;32m     22\u001B[0m           initial_guess,\n\u001B[0;32m     23\u001B[0m           method\u001B[38;5;241m=\u001B[39m\u001B[38;5;124m\"\u001B[39m\u001B[38;5;124mNelder-Mead\u001B[39m\u001B[38;5;124m\"\u001B[39m,\n\u001B[0;32m     24\u001B[0m           bounds\u001B[38;5;241m=\u001B[39mbounds,\n\u001B[0;32m     25\u001B[0m           options\u001B[38;5;241m=\u001B[39m{\n\u001B[0;32m     26\u001B[0m               \u001B[38;5;124m'\u001B[39m\u001B[38;5;124mdisp\u001B[39m\u001B[38;5;124m'\u001B[39m: \u001B[38;5;28;01mFalse\u001B[39;00m})\n\u001B[0;32m     27\u001B[0m results[len_ts]\u001B[38;5;241m.\u001B[39mappend(result\u001B[38;5;241m.\u001B[39mx[\u001B[38;5;241m3\u001B[39m])\n",
      "File \u001B[1;32m~\\PycharmProjects\\VasicekPDModell\\src\\ML_estimation.py:71\u001B[0m, in \u001B[0;36mcalculate_my_likelihood_arr\u001B[1;34m(d_g_arr, n_g_arr, p_g, prob_dens_func, w_g_arr, gamma_g_arr)\u001B[0m\n\u001B[0;32m     54\u001B[0m \u001B[38;5;250m\u001B[39m\u001B[38;5;124;03m\"\"\"\u001B[39;00m\n\u001B[0;32m     55\u001B[0m \u001B[38;5;124;03mNumerically calculates the value of L(d_g_arr) for multiple grades based on the given formula.\u001B[39;00m\n\u001B[0;32m     56\u001B[0m \n\u001B[1;32m   (...)\u001B[0m\n\u001B[0;32m     66\u001B[0m \u001B[38;5;124;03m    float: Numerical approximation of the integral.\u001B[39;00m\n\u001B[0;32m     67\u001B[0m \u001B[38;5;124;03m\"\"\"\u001B[39;00m\n\u001B[0;32m     69\u001B[0m integrand \u001B[38;5;241m=\u001B[39m \u001B[38;5;28;01mlambda\u001B[39;00m x: np\u001B[38;5;241m.\u001B[39mprod(binom\u001B[38;5;241m.\u001B[39mpmf(d_g_arr, n_g_arr, p_g(x, w_g_arr, gamma_g_arr))) \u001B[38;5;241m*\u001B[39m prob_dens_func(x)\n\u001B[1;32m---> 71\u001B[0m result, _ \u001B[38;5;241m=\u001B[39m \u001B[43mquad\u001B[49m\u001B[43m(\u001B[49m\u001B[43mintegrand\u001B[49m\u001B[43m,\u001B[49m\u001B[43m \u001B[49m\u001B[38;5;241;43m-\u001B[39;49m\u001B[38;5;241;43m3\u001B[39;49m\u001B[43m,\u001B[49m\u001B[43m \u001B[49m\u001B[38;5;241;43m3\u001B[39;49m\u001B[43m)\u001B[49m\n\u001B[0;32m     73\u001B[0m \u001B[38;5;28;01mreturn\u001B[39;00m result\n",
      "File \u001B[1;32m~\\PycharmProjects\\VasicekPDModell\\venv\\lib\\site-packages\\scipy\\integrate\\_quadpack_py.py:464\u001B[0m, in \u001B[0;36mquad\u001B[1;34m(func, a, b, args, full_output, epsabs, epsrel, limit, points, weight, wvar, wopts, maxp1, limlst, complex_func)\u001B[0m\n\u001B[0;32m    461\u001B[0m     \u001B[38;5;28;01mreturn\u001B[39;00m retval\n\u001B[0;32m    463\u001B[0m \u001B[38;5;28;01mif\u001B[39;00m weight \u001B[38;5;129;01mis\u001B[39;00m \u001B[38;5;28;01mNone\u001B[39;00m:\n\u001B[1;32m--> 464\u001B[0m     retval \u001B[38;5;241m=\u001B[39m \u001B[43m_quad\u001B[49m\u001B[43m(\u001B[49m\u001B[43mfunc\u001B[49m\u001B[43m,\u001B[49m\u001B[43m \u001B[49m\u001B[43ma\u001B[49m\u001B[43m,\u001B[49m\u001B[43m \u001B[49m\u001B[43mb\u001B[49m\u001B[43m,\u001B[49m\u001B[43m \u001B[49m\u001B[43margs\u001B[49m\u001B[43m,\u001B[49m\u001B[43m \u001B[49m\u001B[43mfull_output\u001B[49m\u001B[43m,\u001B[49m\u001B[43m \u001B[49m\u001B[43mepsabs\u001B[49m\u001B[43m,\u001B[49m\u001B[43m \u001B[49m\u001B[43mepsrel\u001B[49m\u001B[43m,\u001B[49m\u001B[43m \u001B[49m\u001B[43mlimit\u001B[49m\u001B[43m,\u001B[49m\n\u001B[0;32m    465\u001B[0m \u001B[43m                   \u001B[49m\u001B[43mpoints\u001B[49m\u001B[43m)\u001B[49m\n\u001B[0;32m    466\u001B[0m \u001B[38;5;28;01melse\u001B[39;00m:\n\u001B[0;32m    467\u001B[0m     \u001B[38;5;28;01mif\u001B[39;00m points \u001B[38;5;129;01mis\u001B[39;00m \u001B[38;5;129;01mnot\u001B[39;00m \u001B[38;5;28;01mNone\u001B[39;00m:\n",
      "File \u001B[1;32m~\\PycharmProjects\\VasicekPDModell\\venv\\lib\\site-packages\\scipy\\integrate\\_quadpack_py.py:611\u001B[0m, in \u001B[0;36m_quad\u001B[1;34m(func, a, b, args, full_output, epsabs, epsrel, limit, points)\u001B[0m\n\u001B[0;32m    609\u001B[0m \u001B[38;5;28;01mif\u001B[39;00m points \u001B[38;5;129;01mis\u001B[39;00m \u001B[38;5;28;01mNone\u001B[39;00m:\n\u001B[0;32m    610\u001B[0m     \u001B[38;5;28;01mif\u001B[39;00m infbounds \u001B[38;5;241m==\u001B[39m \u001B[38;5;241m0\u001B[39m:\n\u001B[1;32m--> 611\u001B[0m         \u001B[38;5;28;01mreturn\u001B[39;00m \u001B[43m_quadpack\u001B[49m\u001B[38;5;241;43m.\u001B[39;49m\u001B[43m_qagse\u001B[49m\u001B[43m(\u001B[49m\u001B[43mfunc\u001B[49m\u001B[43m,\u001B[49m\u001B[43ma\u001B[49m\u001B[43m,\u001B[49m\u001B[43mb\u001B[49m\u001B[43m,\u001B[49m\u001B[43margs\u001B[49m\u001B[43m,\u001B[49m\u001B[43mfull_output\u001B[49m\u001B[43m,\u001B[49m\u001B[43mepsabs\u001B[49m\u001B[43m,\u001B[49m\u001B[43mepsrel\u001B[49m\u001B[43m,\u001B[49m\u001B[43mlimit\u001B[49m\u001B[43m)\u001B[49m\n\u001B[0;32m    612\u001B[0m     \u001B[38;5;28;01melse\u001B[39;00m:\n\u001B[0;32m    613\u001B[0m         \u001B[38;5;28;01mreturn\u001B[39;00m _quadpack\u001B[38;5;241m.\u001B[39m_qagie(func, bound, infbounds, args, full_output, \n\u001B[0;32m    614\u001B[0m                                 epsabs, epsrel, limit)\n",
      "File \u001B[1;32m~\\PycharmProjects\\VasicekPDModell\\src\\ML_estimation.py:69\u001B[0m, in \u001B[0;36mcalculate_my_likelihood_arr.<locals>.<lambda>\u001B[1;34m(x)\u001B[0m\n\u001B[0;32m     53\u001B[0m \u001B[38;5;28;01mdef\u001B[39;00m \u001B[38;5;21mcalculate_my_likelihood_arr\u001B[39m(d_g_arr, n_g_arr, p_g, prob_dens_func, w_g_arr, gamma_g_arr):\n\u001B[0;32m     54\u001B[0m \u001B[38;5;250m    \u001B[39m\u001B[38;5;124;03m\"\"\"\u001B[39;00m\n\u001B[0;32m     55\u001B[0m \u001B[38;5;124;03m    Numerically calculates the value of L(d_g_arr) for multiple grades based on the given formula.\u001B[39;00m\n\u001B[0;32m     56\u001B[0m \n\u001B[1;32m   (...)\u001B[0m\n\u001B[0;32m     66\u001B[0m \u001B[38;5;124;03m        float: Numerical approximation of the integral.\u001B[39;00m\n\u001B[0;32m     67\u001B[0m \u001B[38;5;124;03m    \"\"\"\u001B[39;00m\n\u001B[1;32m---> 69\u001B[0m     integrand \u001B[38;5;241m=\u001B[39m \u001B[38;5;28;01mlambda\u001B[39;00m x: np\u001B[38;5;241m.\u001B[39mprod(\u001B[43mbinom\u001B[49m\u001B[38;5;241;43m.\u001B[39;49m\u001B[43mpmf\u001B[49m\u001B[43m(\u001B[49m\u001B[43md_g_arr\u001B[49m\u001B[43m,\u001B[49m\u001B[43m \u001B[49m\u001B[43mn_g_arr\u001B[49m\u001B[43m,\u001B[49m\u001B[43m \u001B[49m\u001B[43mp_g\u001B[49m\u001B[43m(\u001B[49m\u001B[43mx\u001B[49m\u001B[43m,\u001B[49m\u001B[43m \u001B[49m\u001B[43mw_g_arr\u001B[49m\u001B[43m,\u001B[49m\u001B[43m \u001B[49m\u001B[43mgamma_g_arr\u001B[49m\u001B[43m)\u001B[49m\u001B[43m)\u001B[49m) \u001B[38;5;241m*\u001B[39m prob_dens_func(x)\n\u001B[0;32m     71\u001B[0m     result, _ \u001B[38;5;241m=\u001B[39m quad(integrand, \u001B[38;5;241m-\u001B[39m\u001B[38;5;241m3\u001B[39m, \u001B[38;5;241m3\u001B[39m)\n\u001B[0;32m     73\u001B[0m     \u001B[38;5;28;01mreturn\u001B[39;00m result\n",
      "File \u001B[1;32m~\\PycharmProjects\\VasicekPDModell\\venv\\lib\\site-packages\\scipy\\stats\\_distn_infrastructure.py:3378\u001B[0m, in \u001B[0;36mrv_discrete.pmf\u001B[1;34m(self, k, *args, **kwds)\u001B[0m\n\u001B[0;32m   3376\u001B[0m cond1 \u001B[38;5;241m=\u001B[39m (k \u001B[38;5;241m>\u001B[39m\u001B[38;5;241m=\u001B[39m _a) \u001B[38;5;241m&\u001B[39m (k \u001B[38;5;241m<\u001B[39m\u001B[38;5;241m=\u001B[39m _b)\n\u001B[0;32m   3377\u001B[0m \u001B[38;5;28;01mif\u001B[39;00m \u001B[38;5;129;01mnot\u001B[39;00m \u001B[38;5;28misinstance\u001B[39m(\u001B[38;5;28mself\u001B[39m, rv_sample):\n\u001B[1;32m-> 3378\u001B[0m     cond1 \u001B[38;5;241m=\u001B[39m cond1 \u001B[38;5;241m&\u001B[39m \u001B[38;5;28;43mself\u001B[39;49m\u001B[38;5;241;43m.\u001B[39;49m\u001B[43m_nonzero\u001B[49m\u001B[43m(\u001B[49m\u001B[43mk\u001B[49m\u001B[43m,\u001B[49m\u001B[43m \u001B[49m\u001B[38;5;241;43m*\u001B[39;49m\u001B[43margs\u001B[49m\u001B[43m)\u001B[49m\n\u001B[0;32m   3379\u001B[0m cond \u001B[38;5;241m=\u001B[39m cond0 \u001B[38;5;241m&\u001B[39m cond1\n\u001B[0;32m   3380\u001B[0m output \u001B[38;5;241m=\u001B[39m zeros(shape(cond), \u001B[38;5;124m'\u001B[39m\u001B[38;5;124md\u001B[39m\u001B[38;5;124m'\u001B[39m)\n",
      "File \u001B[1;32m~\\PycharmProjects\\VasicekPDModell\\venv\\lib\\site-packages\\scipy\\stats\\_distn_infrastructure.py:3285\u001B[0m, in \u001B[0;36mrv_discrete._nonzero\u001B[1;34m(self, k, *args)\u001B[0m\n\u001B[0;32m   3284\u001B[0m \u001B[38;5;28;01mdef\u001B[39;00m \u001B[38;5;21m_nonzero\u001B[39m(\u001B[38;5;28mself\u001B[39m, k, \u001B[38;5;241m*\u001B[39margs):\n\u001B[1;32m-> 3285\u001B[0m     \u001B[38;5;28;01mreturn\u001B[39;00m \u001B[43mfloor\u001B[49m\u001B[43m(\u001B[49m\u001B[43mk\u001B[49m\u001B[43m)\u001B[49m\u001B[43m \u001B[49m\u001B[38;5;241;43m==\u001B[39;49m\u001B[43m \u001B[49m\u001B[43mk\u001B[49m\n",
      "\u001B[1;31mKeyboardInterrupt\u001B[0m: "
     ]
    }
   ],
   "source": [
    "# Confidence interval for the ML parameter estimation\n",
    "list_of_len_ts = [20, 30, 80, 160]\n",
    "num_of_simulations = 100\n",
    "\n",
    "# Create a dictionary to store the results\n",
    "# make the keys of the dictionary the length of the time series\n",
    "results = {key: [] for key in list_of_len_ts}\n",
    "for _ in range(num_of_simulations):\n",
    "    for len_ts in list_of_len_ts:\n",
    "        default_list = generate_default_buckets(factor_loading_list,num_of_obligors_list, gamma_list, time_points=len_ts)\n",
    "        num_of_obligors_over_time = [x * len_ts for x in num_of_obligors_list]\n",
    "        d_g_arr = np.array(default_list)\n",
    "        n_g_arr = np.array(num_of_obligors_over_time)\n",
    "        gamma_g = norm.ppf(d_g_arr / n_g_arr)\n",
    "        initial_guess = np.array(gamma_g)\n",
    "        initial_guess = np.append(initial_guess, 0.45)\n",
    "        bounds = [(-5, 5), (-5, 5), (-5, 5), (-1, 1)]\n",
    "        objective_function = lambda params: -np.log(calculate_my_likelihood_arr(d_g_arr, n_g_arr, p_g, norm.pdf, \n",
    "                                                                 np.repeat(params[3], 3), \n",
    "                                                                 params[0:3]))\n",
    "        result = minimize(objective_function,\n",
    "                  initial_guess,\n",
    "                  method=\"Nelder-Mead\",\n",
    "                  bounds=bounds,\n",
    "                  options={\n",
    "                      'disp': False})\n",
    "        results[len_ts].append(result.x[3])"
   ],
   "metadata": {
    "collapsed": false,
    "ExecuteTime": {
     "end_time": "2024-03-23T21:09:14.330096500Z",
     "start_time": "2024-03-23T20:05:22.190449700Z"
    }
   },
   "id": "4021db6e36045a69"
  },
  {
   "cell_type": "code",
   "execution_count": 18,
   "outputs": [],
   "source": [
    "import csv\n",
    "\n",
    "# Fájl neve, amibe kiírod\n",
    "fajl_nev = \"adatok.csv\"\n",
    "\n",
    "# Kiírás CSV-be\n",
    "with open(fajl_nev, \"w\", newline=\"\") as csvfile:\n",
    "    csv_writer = csv.writer(csvfile)\n",
    "    for kulcs, ertek in results.items():\n",
    "        csv_writer.writerow([kulcs, ertek])"
   ],
   "metadata": {
    "collapsed": false,
    "ExecuteTime": {
     "end_time": "2024-03-25T14:44:21.568436100Z",
     "start_time": "2024-03-25T14:44:21.512433500Z"
    }
   },
   "id": "e1aefffc4dcde0f0"
  },
  {
   "cell_type": "code",
   "execution_count": 35,
   "outputs": [],
   "source": [
    "import csv\n",
    "file_name = \"data_variable_change.csv\"\n",
    "\n",
    "return_data = {}\n",
    "with open(file_name, \"r\", newline=\"\") as csvfile:\n",
    "    csv_reader = csv.reader(csvfile)\n",
    "    for row in csv_reader:\n",
    "        return_data[row[0]] = row[1]\n",
    "\n",
    "results = return_data"
   ],
   "metadata": {
    "collapsed": false,
    "ExecuteTime": {
     "end_time": "2024-03-25T14:46:12.255541500Z",
     "start_time": "2024-03-25T14:46:12.229540600Z"
    }
   },
   "id": "aca9a8b122384ad7"
  },
  {
   "cell_type": "code",
   "execution_count": 36,
   "outputs": [
    {
     "name": "stdout",
     "output_type": "stream",
     "text": [
      "<class 'dict'>\n",
      "dict_keys(['100', '200', '300', '500'])\n"
     ]
    }
   ],
   "source": [
    "print(type(results))\n",
    "print(results.keys())"
   ],
   "metadata": {
    "collapsed": false,
    "ExecuteTime": {
     "end_time": "2024-03-25T14:46:12.996552500Z",
     "start_time": "2024-03-25T14:46:12.945548900Z"
    }
   },
   "id": "ed91a4ce8a50fbb5"
  },
  {
   "cell_type": "code",
   "execution_count": 37,
   "outputs": [
    {
     "data": {
      "text/plain": "{'100': '[-3.954741676226937e-06, -4.169729787865443e-06, -2.2561185562170657e-05, 8.472309165690303e-06, -3.878210393467119e-05, 5.15501922976395e-06, 7.147475223844656e-06, 1.6333932857067317e-05, 2.4238871395438084e-05, -2.430668682814424e-06]',\n '200': '[0.2596942429758074, -1.9984866692475695e-05, -3.661882514874846e-05, 1.4336196733970221e-05, -1.173912710743653e-05, 0.46293277796209376, -4.1410029609961255e-06, -0.03478601988220862, 0.45471911255550934, -0.018755188533190692]',\n '300': '[0.44770750990613767, 0.46105002822318286, 0.038636172212812514, 0.44878729199229284, 0.4527353288824286, 0.3778998767705431, 0.4467530597305152, 0.45317294122015234, 0.45158992427371086, -7.511229378146125e-06]',\n '500': '[0.4525865380784997, 0.473848617511862, 0.46350575090299184, -0.0030051004515318177, -4.774504982658473e-06, 0.45142113909798204, 0.45260120468632203, 0.4377342192663827, 0.44703355663224165, 1.227431946423175e-05]'}"
     },
     "execution_count": 37,
     "metadata": {},
     "output_type": "execute_result"
    }
   ],
   "source": [
    "results"
   ],
   "metadata": {
    "collapsed": false,
    "ExecuteTime": {
     "end_time": "2024-03-25T14:46:14.782723300Z",
     "start_time": "2024-03-25T14:46:14.754724200Z"
    }
   },
   "id": "8d6dc0f1d16b2fbe"
  },
  {
   "cell_type": "code",
   "execution_count": 38,
   "outputs": [
    {
     "data": {
      "text/plain": "[-1.0550821771944338e-06,\n 0.11237467774528354,\n 0.3578324621982398,\n 0.3175733425539232]"
     },
     "execution_count": 38,
     "metadata": {},
     "output_type": "execute_result"
    }
   ],
   "source": [
    "# A dictionary értékeinek átalakítása listákká\n",
    "for key, value in results.items():\n",
    "    # Eltávolítjuk a '[' és ']' karaktereket, majd szóközök mentén szétválasztjuk az elemeket\n",
    "    value_list = value.strip('[]').split(', ')\n",
    "    # Az így kapott stringeket int számmá alakítjuk\n",
    "    value_list = [float(num_str) for num_str in value_list]\n",
    "    # Az eredményt frissítjük az új listával\n",
    "    results[key] = value_list\n",
    "\n",
    "x = list(results.keys())\n",
    "y_mean = [np.mean(results[key]) for key in x]\n",
    "\n",
    "y_mean"
   ],
   "metadata": {
    "collapsed": false,
    "ExecuteTime": {
     "end_time": "2024-03-25T14:46:15.776659100Z",
     "start_time": "2024-03-25T14:46:15.701655Z"
    }
   },
   "id": "d1272a76e879f9db"
  },
  {
   "cell_type": "code",
   "execution_count": null,
   "outputs": [],
   "source": [
    "# To-do: make a module for optimization which gives back 2 list of parameters: one for the factor_loading and one for the gamma\n",
    "# Then use these parameters to make the confidence interval, dict['len_ts']['grade']['factor_loading'] = list of factor_loadings\n",
    "# Make it with MM and 3 type ML"
   ],
   "metadata": {
    "collapsed": false,
    "ExecuteTime": {
     "start_time": "2024-03-23T21:09:14.326104Z"
    }
   },
   "id": "22f3799987507776"
  },
  {
   "cell_type": "code",
   "execution_count": 6,
   "outputs": [],
   "source": [
    "import numpy as np\n",
    "from src.ML_estimation import gen_data_and_mle"
   ],
   "metadata": {
    "collapsed": false,
    "ExecuteTime": {
     "end_time": "2024-04-02T16:59:27.841541300Z",
     "start_time": "2024-04-02T16:59:27.807540600Z"
    }
   },
   "id": "37c943a24e32bd8b"
  },
  {
   "cell_type": "code",
   "execution_count": 7,
   "outputs": [],
   "source": [
    "#np.random.seed(42)\n",
    "np.random.seed(8496315)\n",
    "time_horizon = 40\n",
    "factor_loading_list = [0.45, 0.45, 0.45]\n",
    "num_of_obligors_list = [3000, 3000, 3000]\n",
    "gamma_list = [-2.9, -2.3, -1.6]\n",
    "factor_loading_init = [0.447]\n",
    "gamma_list_init = [-2.91, -2.29, -1.603]"
   ],
   "metadata": {
    "collapsed": false,
    "ExecuteTime": {
     "end_time": "2024-04-02T16:59:28.384462900Z",
     "start_time": "2024-04-02T16:59:28.340462300Z"
    }
   },
   "id": "d23cccd8a7226fa"
  },
  {
   "cell_type": "code",
   "execution_count": 22,
   "outputs": [
    {
     "name": "stderr",
     "output_type": "stream",
     "text": [
      "C:\\Users\\kissp\\PycharmProjects\\VasicekPDModell\\src\\ML_estimation.py:73: IntegrationWarning: The integral is probably divergent, or slowly convergent.\n",
      "  result, _ = quad(integrand, -3, 3)\n"
     ]
    }
   ],
   "source": [
    "results_20 = {}\n",
    "\n",
    "for i in range(100):\n",
    "    temp_result_20 = gen_data_and_mle(time_horizon, num_of_obligors_list, factor_loading_list, gamma_list, factor_loading_init, gamma_list_init)\n",
    "    results_20[i] = temp_result_20"
   ],
   "metadata": {
    "collapsed": false,
    "ExecuteTime": {
     "end_time": "2024-04-02T19:03:20.820374700Z",
     "start_time": "2024-04-02T18:50:09.164396300Z"
    }
   },
   "id": "ad3f722dd9128e9e"
  },
  {
   "cell_type": "code",
   "execution_count": 23,
   "outputs": [],
   "source": [
    "results_30 = {}\n",
    "\n",
    "for i in range(100):\n",
    "    temp_result_30 = gen_data_and_mle(time_horizon, num_of_obligors_list, factor_loading_list, gamma_list, factor_loading_init, gamma_list_init)\n",
    "    results_30[i] = temp_result_30"
   ],
   "metadata": {
    "collapsed": false,
    "ExecuteTime": {
     "end_time": "2024-04-02T19:18:22.424180100Z",
     "start_time": "2024-04-02T19:03:20.824376Z"
    }
   },
   "id": "3b3e5e015ceb415b"
  },
  {
   "cell_type": "code",
   "execution_count": 24,
   "outputs": [],
   "source": [
    "results_80 = {}\n",
    "\n",
    "for j in range(100):\n",
    "    temp_result_80 = gen_data_and_mle(time_horizon, num_of_obligors_list, factor_loading_list, gamma_list, factor_loading_init, gamma_list_init)\n",
    "    results_80[j] = temp_result_80"
   ],
   "metadata": {
    "collapsed": false,
    "ExecuteTime": {
     "end_time": "2024-04-02T19:31:38.261022700Z",
     "start_time": "2024-04-02T19:18:22.429183400Z"
    }
   },
   "id": "9de3f14d3745e2c6"
  },
  {
   "cell_type": "code",
   "execution_count": 25,
   "outputs": [],
   "source": [
    "results_160 = {}\n",
    "\n",
    "for k in range(100):\n",
    "    temp_result_160 = gen_data_and_mle(time_horizon, num_of_obligors_list, factor_loading_list, gamma_list, factor_loading_init, gamma_list_init)\n",
    "    results_160[k] = temp_result_160"
   ],
   "metadata": {
    "collapsed": false,
    "ExecuteTime": {
     "end_time": "2024-04-02T19:45:27.707356Z",
     "start_time": "2024-04-02T19:31:38.265020900Z"
    }
   },
   "id": "2e033230c967f73c"
  },
  {
   "cell_type": "code",
   "execution_count": 26,
   "outputs": [
    {
     "data": {
      "text/plain": "     n_1   n_2   n_3     d_1     d_2     d_3   gamma_1   gamma_2   gamma_3  \\\n190  216  1320  6698  120000  120000  120000 -2.797646 -2.249678 -1.643216   \n191  223  1377  6640  120000  120000  120000 -2.823872 -2.246843 -1.644241   \n192  164   988  5660  120000  120000  120000 -2.811062 -2.276968 -1.629751   \n193  203  1164  6205  120000  120000  120000 -2.842005 -2.296124 -1.682964   \n194  239  1384  7326  120000  120000  120000 -2.879473 -2.272323 -1.546028   \n195  162  1014  5760  120000  120000  120000 -2.863681 -2.308688 -1.647753   \n196  270  1566  7728  120000  120000  120000 -2.826945 -2.283652 -1.648820   \n197  337  1937  9239  120000  120000  120000 -2.876994 -2.302514 -1.654026   \n198  231  1275  6088  120000  120000  120000 -2.827986 -2.261398 -1.683086   \n199  105   653  4091  120000  120000  120000 -2.796668 -2.273428 -1.626133   \n\n     factor_loading  \n190        0.465721  \n191        0.461544  \n192        0.453023  \n193        0.442837  \n194        0.000012  \n195        0.405646  \n196        0.454415  \n197        0.453651  \n198        0.449559  \n199        0.445532  ",
      "text/html": "<div>\n<style scoped>\n    .dataframe tbody tr th:only-of-type {\n        vertical-align: middle;\n    }\n\n    .dataframe tbody tr th {\n        vertical-align: top;\n    }\n\n    .dataframe thead th {\n        text-align: right;\n    }\n</style>\n<table border=\"1\" class=\"dataframe\">\n  <thead>\n    <tr style=\"text-align: right;\">\n      <th></th>\n      <th>n_1</th>\n      <th>n_2</th>\n      <th>n_3</th>\n      <th>d_1</th>\n      <th>d_2</th>\n      <th>d_3</th>\n      <th>gamma_1</th>\n      <th>gamma_2</th>\n      <th>gamma_3</th>\n      <th>factor_loading</th>\n    </tr>\n  </thead>\n  <tbody>\n    <tr>\n      <th>190</th>\n      <td>216</td>\n      <td>1320</td>\n      <td>6698</td>\n      <td>120000</td>\n      <td>120000</td>\n      <td>120000</td>\n      <td>-2.797646</td>\n      <td>-2.249678</td>\n      <td>-1.643216</td>\n      <td>0.465721</td>\n    </tr>\n    <tr>\n      <th>191</th>\n      <td>223</td>\n      <td>1377</td>\n      <td>6640</td>\n      <td>120000</td>\n      <td>120000</td>\n      <td>120000</td>\n      <td>-2.823872</td>\n      <td>-2.246843</td>\n      <td>-1.644241</td>\n      <td>0.461544</td>\n    </tr>\n    <tr>\n      <th>192</th>\n      <td>164</td>\n      <td>988</td>\n      <td>5660</td>\n      <td>120000</td>\n      <td>120000</td>\n      <td>120000</td>\n      <td>-2.811062</td>\n      <td>-2.276968</td>\n      <td>-1.629751</td>\n      <td>0.453023</td>\n    </tr>\n    <tr>\n      <th>193</th>\n      <td>203</td>\n      <td>1164</td>\n      <td>6205</td>\n      <td>120000</td>\n      <td>120000</td>\n      <td>120000</td>\n      <td>-2.842005</td>\n      <td>-2.296124</td>\n      <td>-1.682964</td>\n      <td>0.442837</td>\n    </tr>\n    <tr>\n      <th>194</th>\n      <td>239</td>\n      <td>1384</td>\n      <td>7326</td>\n      <td>120000</td>\n      <td>120000</td>\n      <td>120000</td>\n      <td>-2.879473</td>\n      <td>-2.272323</td>\n      <td>-1.546028</td>\n      <td>0.000012</td>\n    </tr>\n    <tr>\n      <th>195</th>\n      <td>162</td>\n      <td>1014</td>\n      <td>5760</td>\n      <td>120000</td>\n      <td>120000</td>\n      <td>120000</td>\n      <td>-2.863681</td>\n      <td>-2.308688</td>\n      <td>-1.647753</td>\n      <td>0.405646</td>\n    </tr>\n    <tr>\n      <th>196</th>\n      <td>270</td>\n      <td>1566</td>\n      <td>7728</td>\n      <td>120000</td>\n      <td>120000</td>\n      <td>120000</td>\n      <td>-2.826945</td>\n      <td>-2.283652</td>\n      <td>-1.648820</td>\n      <td>0.454415</td>\n    </tr>\n    <tr>\n      <th>197</th>\n      <td>337</td>\n      <td>1937</td>\n      <td>9239</td>\n      <td>120000</td>\n      <td>120000</td>\n      <td>120000</td>\n      <td>-2.876994</td>\n      <td>-2.302514</td>\n      <td>-1.654026</td>\n      <td>0.453651</td>\n    </tr>\n    <tr>\n      <th>198</th>\n      <td>231</td>\n      <td>1275</td>\n      <td>6088</td>\n      <td>120000</td>\n      <td>120000</td>\n      <td>120000</td>\n      <td>-2.827986</td>\n      <td>-2.261398</td>\n      <td>-1.683086</td>\n      <td>0.449559</td>\n    </tr>\n    <tr>\n      <th>199</th>\n      <td>105</td>\n      <td>653</td>\n      <td>4091</td>\n      <td>120000</td>\n      <td>120000</td>\n      <td>120000</td>\n      <td>-2.796668</td>\n      <td>-2.273428</td>\n      <td>-1.626133</td>\n      <td>0.445532</td>\n    </tr>\n  </tbody>\n</table>\n</div>"
     },
     "execution_count": 26,
     "metadata": {},
     "output_type": "execute_result"
    }
   ],
   "source": [
    "existing_20_df = pd.read_csv(\"data\\conf_interval_data_20_same_w.csv\", index_col=0)\n",
    "existing_20_df.tail(10)"
   ],
   "metadata": {
    "collapsed": false,
    "ExecuteTime": {
     "end_time": "2024-04-02T19:49:23.970931700Z",
     "start_time": "2024-04-02T19:49:23.901926500Z"
    }
   },
   "id": "126bf3ab50f85c77"
  },
  {
   "cell_type": "code",
   "execution_count": 29,
   "outputs": [
    {
     "data": {
      "text/plain": "     n_1   n_2   n_3     d_1     d_2     d_3   gamma_1   gamma_2   gamma_3  \\\n290  174  1042  5962  120000  120000  120000 -2.862432 -2.326395 -1.684176   \n291  282  1430  7034  120000  120000  120000 -2.836134  -2.32367 -1.697073   \n292  153  1031  5833  120000  120000  120000 -2.842248  -2.27233   -1.6239   \n293  213  1172  6107  120000  120000  120000 -2.836808 -2.321579 -1.672712   \n294  261  1462  7611  120000  120000  120000 -2.842269 -2.323563 -1.653459   \n295  210  1340  6901  120000  120000  120000 -2.838517 -2.268544 -1.627792   \n296  209  1244  6451  120000  120000  120000 -2.858128 -2.287541 -1.651912   \n297  157  1146  5841  120000  120000  120000  -2.88964  -2.29149 -1.693916   \n298  103   695  4635  120000  120000  120000 -2.893025  -2.33821 -1.651857   \n299  262  1500  7845  120000  120000  120000 -2.847402 -2.293668 -1.634097   \n\n    factor_loading  \n290       0.444175  \n291        0.42803  \n292       0.444437  \n293       0.447233  \n294       0.446527  \n295       0.454844  \n296       0.455726  \n297       0.446877  \n298       0.421015  \n299       0.455534  ",
      "text/html": "<div>\n<style scoped>\n    .dataframe tbody tr th:only-of-type {\n        vertical-align: middle;\n    }\n\n    .dataframe tbody tr th {\n        vertical-align: top;\n    }\n\n    .dataframe thead th {\n        text-align: right;\n    }\n</style>\n<table border=\"1\" class=\"dataframe\">\n  <thead>\n    <tr style=\"text-align: right;\">\n      <th></th>\n      <th>n_1</th>\n      <th>n_2</th>\n      <th>n_3</th>\n      <th>d_1</th>\n      <th>d_2</th>\n      <th>d_3</th>\n      <th>gamma_1</th>\n      <th>gamma_2</th>\n      <th>gamma_3</th>\n      <th>factor_loading</th>\n    </tr>\n  </thead>\n  <tbody>\n    <tr>\n      <th>290</th>\n      <td>174</td>\n      <td>1042</td>\n      <td>5962</td>\n      <td>120000</td>\n      <td>120000</td>\n      <td>120000</td>\n      <td>-2.862432</td>\n      <td>-2.326395</td>\n      <td>-1.684176</td>\n      <td>0.444175</td>\n    </tr>\n    <tr>\n      <th>291</th>\n      <td>282</td>\n      <td>1430</td>\n      <td>7034</td>\n      <td>120000</td>\n      <td>120000</td>\n      <td>120000</td>\n      <td>-2.836134</td>\n      <td>-2.32367</td>\n      <td>-1.697073</td>\n      <td>0.42803</td>\n    </tr>\n    <tr>\n      <th>292</th>\n      <td>153</td>\n      <td>1031</td>\n      <td>5833</td>\n      <td>120000</td>\n      <td>120000</td>\n      <td>120000</td>\n      <td>-2.842248</td>\n      <td>-2.27233</td>\n      <td>-1.6239</td>\n      <td>0.444437</td>\n    </tr>\n    <tr>\n      <th>293</th>\n      <td>213</td>\n      <td>1172</td>\n      <td>6107</td>\n      <td>120000</td>\n      <td>120000</td>\n      <td>120000</td>\n      <td>-2.836808</td>\n      <td>-2.321579</td>\n      <td>-1.672712</td>\n      <td>0.447233</td>\n    </tr>\n    <tr>\n      <th>294</th>\n      <td>261</td>\n      <td>1462</td>\n      <td>7611</td>\n      <td>120000</td>\n      <td>120000</td>\n      <td>120000</td>\n      <td>-2.842269</td>\n      <td>-2.323563</td>\n      <td>-1.653459</td>\n      <td>0.446527</td>\n    </tr>\n    <tr>\n      <th>295</th>\n      <td>210</td>\n      <td>1340</td>\n      <td>6901</td>\n      <td>120000</td>\n      <td>120000</td>\n      <td>120000</td>\n      <td>-2.838517</td>\n      <td>-2.268544</td>\n      <td>-1.627792</td>\n      <td>0.454844</td>\n    </tr>\n    <tr>\n      <th>296</th>\n      <td>209</td>\n      <td>1244</td>\n      <td>6451</td>\n      <td>120000</td>\n      <td>120000</td>\n      <td>120000</td>\n      <td>-2.858128</td>\n      <td>-2.287541</td>\n      <td>-1.651912</td>\n      <td>0.455726</td>\n    </tr>\n    <tr>\n      <th>297</th>\n      <td>157</td>\n      <td>1146</td>\n      <td>5841</td>\n      <td>120000</td>\n      <td>120000</td>\n      <td>120000</td>\n      <td>-2.88964</td>\n      <td>-2.29149</td>\n      <td>-1.693916</td>\n      <td>0.446877</td>\n    </tr>\n    <tr>\n      <th>298</th>\n      <td>103</td>\n      <td>695</td>\n      <td>4635</td>\n      <td>120000</td>\n      <td>120000</td>\n      <td>120000</td>\n      <td>-2.893025</td>\n      <td>-2.33821</td>\n      <td>-1.651857</td>\n      <td>0.421015</td>\n    </tr>\n    <tr>\n      <th>299</th>\n      <td>262</td>\n      <td>1500</td>\n      <td>7845</td>\n      <td>120000</td>\n      <td>120000</td>\n      <td>120000</td>\n      <td>-2.847402</td>\n      <td>-2.293668</td>\n      <td>-1.634097</td>\n      <td>0.455534</td>\n    </tr>\n  </tbody>\n</table>\n</div>"
     },
     "execution_count": 29,
     "metadata": {},
     "output_type": "execute_result"
    }
   ],
   "source": [
    "import pandas as pd\n",
    "existing_df = pd.read_csv(\"data\\conf_interval_data_20_same_w.csv\", index_col=0)\n",
    "df_20 = pd.DataFrame(columns=[\"n_1\", \"n_2\", \"n_3\", \"d_1\", \"d_2\", \"d_3\", \"gamma_1\", \"gamma_2\", \"gamma_3\", \"factor_loading\"],\n",
    "                  index=range(100))\n",
    "\n",
    "for i in range(100):\n",
    "    df_20.loc[i, \"n_1\"] = list(results_20.values())[i][0][0]\n",
    "    df_20.loc[i, \"n_2\"] = list(results_20.values())[i][0][1]\n",
    "    df_20.loc[i, \"n_3\"] = list(results_20.values())[i][0][2]\n",
    "    df_20.loc[i, \"d_1\"] = list(results_20.values())[i][1][0]\n",
    "    df_20.loc[i, \"d_2\"] = list(results_20.values())[i][1][1]\n",
    "    df_20.loc[i, \"d_3\"] = list(results_20.values())[i][1][2]\n",
    "    df_20.loc[i, \"gamma_1\"] = list(results_20.values())[i][2][0]\n",
    "    df_20.loc[i, \"gamma_2\"] = list(results_20.values())[i][2][1]\n",
    "    df_20.loc[i, \"gamma_3\"] = list(results_20.values())[i][2][2]\n",
    "    df_20.loc[i, \"factor_loading\"] = list(results_20.values())[i][2][3]\n",
    "\n",
    "extended_df = pd.concat([existing_df, df_20], ignore_index=True)\n",
    "extended_df.to_csv(\"data\\conf_interval_data_20_same_w.csv\")\n",
    "\n",
    "extended_df.tail(10)"
   ],
   "metadata": {
    "collapsed": false,
    "ExecuteTime": {
     "end_time": "2024-04-02T19:50:20.492706800Z",
     "start_time": "2024-04-02T19:50:20.392698500Z"
    }
   },
   "id": "b0ffe9450ff35ee9"
  },
  {
   "cell_type": "code",
   "execution_count": 31,
   "outputs": [
    {
     "data": {
      "text/plain": "     n_1   n_2   n_3     d_1     d_2     d_3   gamma_1   gamma_2   gamma_3  \\\n290  173  1224  6008  120000  120000  120000 -2.845505 -2.296881 -1.683069   \n291  207  1275  6618  120000  120000  120000 -2.851988 -2.269011 -1.647063   \n292  213  1206  6469  120000  120000  120000 -2.817576 -2.285108 -1.660826   \n293  104   849  4761  120000  120000  120000  -3.13255 -2.453427 -1.754477   \n294  210  1388  6978  120000  120000  120000 -2.988355 -2.367988  -1.69789   \n295  176  1052  5766  120000  120000  120000 -2.852741 -2.305079 -1.656998   \n296  192  1072  6119  120000  120000  120000 -2.900978 -2.329295 -1.685799   \n297  249  1301  6487  120000  120000  120000 -2.804006 -2.257535 -1.647701   \n298  249  1321  6410  120000  120000  120000 -2.781491 -2.266393  -1.64475   \n299  269  1575  6998  120000  120000  120000 -2.838565 -2.267956 -1.697356   \n\n    factor_loading  \n290       0.439687  \n291        0.45872  \n292       0.459595  \n293       -0.00001  \n294         0.2955  \n295       0.410956  \n296       0.430066  \n297        0.46163  \n298       0.454648  \n299       0.446497  ",
      "text/html": "<div>\n<style scoped>\n    .dataframe tbody tr th:only-of-type {\n        vertical-align: middle;\n    }\n\n    .dataframe tbody tr th {\n        vertical-align: top;\n    }\n\n    .dataframe thead th {\n        text-align: right;\n    }\n</style>\n<table border=\"1\" class=\"dataframe\">\n  <thead>\n    <tr style=\"text-align: right;\">\n      <th></th>\n      <th>n_1</th>\n      <th>n_2</th>\n      <th>n_3</th>\n      <th>d_1</th>\n      <th>d_2</th>\n      <th>d_3</th>\n      <th>gamma_1</th>\n      <th>gamma_2</th>\n      <th>gamma_3</th>\n      <th>factor_loading</th>\n    </tr>\n  </thead>\n  <tbody>\n    <tr>\n      <th>290</th>\n      <td>173</td>\n      <td>1224</td>\n      <td>6008</td>\n      <td>120000</td>\n      <td>120000</td>\n      <td>120000</td>\n      <td>-2.845505</td>\n      <td>-2.296881</td>\n      <td>-1.683069</td>\n      <td>0.439687</td>\n    </tr>\n    <tr>\n      <th>291</th>\n      <td>207</td>\n      <td>1275</td>\n      <td>6618</td>\n      <td>120000</td>\n      <td>120000</td>\n      <td>120000</td>\n      <td>-2.851988</td>\n      <td>-2.269011</td>\n      <td>-1.647063</td>\n      <td>0.45872</td>\n    </tr>\n    <tr>\n      <th>292</th>\n      <td>213</td>\n      <td>1206</td>\n      <td>6469</td>\n      <td>120000</td>\n      <td>120000</td>\n      <td>120000</td>\n      <td>-2.817576</td>\n      <td>-2.285108</td>\n      <td>-1.660826</td>\n      <td>0.459595</td>\n    </tr>\n    <tr>\n      <th>293</th>\n      <td>104</td>\n      <td>849</td>\n      <td>4761</td>\n      <td>120000</td>\n      <td>120000</td>\n      <td>120000</td>\n      <td>-3.13255</td>\n      <td>-2.453427</td>\n      <td>-1.754477</td>\n      <td>-0.00001</td>\n    </tr>\n    <tr>\n      <th>294</th>\n      <td>210</td>\n      <td>1388</td>\n      <td>6978</td>\n      <td>120000</td>\n      <td>120000</td>\n      <td>120000</td>\n      <td>-2.988355</td>\n      <td>-2.367988</td>\n      <td>-1.69789</td>\n      <td>0.2955</td>\n    </tr>\n    <tr>\n      <th>295</th>\n      <td>176</td>\n      <td>1052</td>\n      <td>5766</td>\n      <td>120000</td>\n      <td>120000</td>\n      <td>120000</td>\n      <td>-2.852741</td>\n      <td>-2.305079</td>\n      <td>-1.656998</td>\n      <td>0.410956</td>\n    </tr>\n    <tr>\n      <th>296</th>\n      <td>192</td>\n      <td>1072</td>\n      <td>6119</td>\n      <td>120000</td>\n      <td>120000</td>\n      <td>120000</td>\n      <td>-2.900978</td>\n      <td>-2.329295</td>\n      <td>-1.685799</td>\n      <td>0.430066</td>\n    </tr>\n    <tr>\n      <th>297</th>\n      <td>249</td>\n      <td>1301</td>\n      <td>6487</td>\n      <td>120000</td>\n      <td>120000</td>\n      <td>120000</td>\n      <td>-2.804006</td>\n      <td>-2.257535</td>\n      <td>-1.647701</td>\n      <td>0.46163</td>\n    </tr>\n    <tr>\n      <th>298</th>\n      <td>249</td>\n      <td>1321</td>\n      <td>6410</td>\n      <td>120000</td>\n      <td>120000</td>\n      <td>120000</td>\n      <td>-2.781491</td>\n      <td>-2.266393</td>\n      <td>-1.64475</td>\n      <td>0.454648</td>\n    </tr>\n    <tr>\n      <th>299</th>\n      <td>269</td>\n      <td>1575</td>\n      <td>6998</td>\n      <td>120000</td>\n      <td>120000</td>\n      <td>120000</td>\n      <td>-2.838565</td>\n      <td>-2.267956</td>\n      <td>-1.697356</td>\n      <td>0.446497</td>\n    </tr>\n  </tbody>\n</table>\n</div>"
     },
     "execution_count": 31,
     "metadata": {},
     "output_type": "execute_result"
    }
   ],
   "source": [
    "existing_30_df = pd.read_csv(\"data\\conf_interval_data_30_same_w.csv\", index_col=0)\n",
    "\n",
    "df_30 = pd.DataFrame(columns=[\"n_1\", \"n_2\", \"n_3\", \"d_1\", \"d_2\", \"d_3\", \"gamma_1\", \"gamma_2\", \"gamma_3\", \"factor_loading\"],\n",
    "                  index=range(100))\n",
    "\n",
    "for i in range(100):\n",
    "    df_30.loc[i, \"n_1\"] = list(results_30.values())[i][0][0]\n",
    "    df_30.loc[i, \"n_2\"] = list(results_30.values())[i][0][1]\n",
    "    df_30.loc[i, \"n_3\"] = list(results_30.values())[i][0][2]\n",
    "    df_30.loc[i, \"d_1\"] = list(results_30.values())[i][1][0]\n",
    "    df_30.loc[i, \"d_2\"] = list(results_30.values())[i][1][1]\n",
    "    df_30.loc[i, \"d_3\"] = list(results_30.values())[i][1][2]\n",
    "    df_30.loc[i, \"gamma_1\"] = list(results_30.values())[i][2][0]\n",
    "    df_30.loc[i, \"gamma_2\"] = list(results_30.values())[i][2][1]\n",
    "    df_30.loc[i, \"gamma_3\"] = list(results_30.values())[i][2][2]\n",
    "    df_30.loc[i, \"factor_loading\"] = list(results_30.values())[i][2][3]\n",
    "\n",
    "extended_df = pd.concat([existing_30_df, df_30], ignore_index=True)\n",
    "extended_df.to_csv(\"data\\conf_interval_data_30_same_w.csv\")\n",
    "\n",
    "extended_df.tail(10)"
   ],
   "metadata": {
    "collapsed": false,
    "ExecuteTime": {
     "end_time": "2024-04-02T19:51:45.824029200Z",
     "start_time": "2024-04-02T19:51:45.694017700Z"
    }
   },
   "id": "f0e9dac26b2982be"
  },
  {
   "cell_type": "code",
   "execution_count": 32,
   "outputs": [],
   "source": [
    "existing_80_df = pd.read_csv(\"data\\conf_interval_data_80_same_w.csv\", index_col=0)\n",
    "\n",
    "df_80 = pd.DataFrame(columns=[\"n_1\", \"n_2\", \"n_3\", \"d_1\", \"d_2\", \"d_3\", \"gamma_1\", \"gamma_2\", \"gamma_3\", \"factor_loading\"],\n",
    "                  index=range(100))\n",
    "\n",
    "for i in range(100):\n",
    "    df_80.loc[i, \"n_1\"] = list(results_80.values())[i][0][0]\n",
    "    df_80.loc[i, \"n_2\"] = list(results_80.values())[i][0][1]\n",
    "    df_80.loc[i, \"n_3\"] = list(results_80.values())[i][0][2]\n",
    "    df_80.loc[i, \"d_1\"] = list(results_80.values())[i][1][0]\n",
    "    df_80.loc[i, \"d_2\"] = list(results_80.values())[i][1][1]\n",
    "    df_80.loc[i, \"d_3\"] = list(results_80.values())[i][1][2]\n",
    "    df_80.loc[i, \"gamma_1\"] = list(results_80.values())[i][2][0]\n",
    "    df_80.loc[i, \"gamma_2\"] = list(results_80.values())[i][2][1]\n",
    "    df_80.loc[i, \"gamma_3\"] = list(results_80.values())[i][2][2]\n",
    "    df_80.loc[i, \"factor_loading\"] = list(results_80.values())[i][2][3]\n",
    "\n",
    "extended_df = pd.concat([existing_80_df, df_80], ignore_index=True)\n",
    "extended_df.to_csv(\"data\\conf_interval_data_80_same_w.csv\")"
   ],
   "metadata": {
    "collapsed": false,
    "ExecuteTime": {
     "end_time": "2024-04-02T19:51:46.942855500Z",
     "start_time": "2024-04-02T19:51:46.846844600Z"
    }
   },
   "id": "a6d64fb7449e612f"
  },
  {
   "cell_type": "code",
   "execution_count": 33,
   "outputs": [],
   "source": [
    "existing_160_df = pd.read_csv(\"data\\conf_interval_data_160_same_w.csv\", index_col=0)\n",
    "\n",
    "df_160 = pd.DataFrame(columns=[\"n_1\", \"n_2\", \"n_3\", \"d_1\", \"d_2\", \"d_3\", \"gamma_1\", \"gamma_2\", \"gamma_3\", \"factor_loading\"],\n",
    "                  index=range(100))\n",
    "\n",
    "for i in range(100):\n",
    "    df_160.loc[i, \"n_1\"] = list(results_160.values())[i][0][0]\n",
    "    df_160.loc[i, \"n_2\"] = list(results_160.values())[i][0][1]\n",
    "    df_160.loc[i, \"n_3\"] = list(results_160.values())[i][0][2]\n",
    "    df_160.loc[i, \"d_1\"] = list(results_160.values())[i][1][0]\n",
    "    df_160.loc[i, \"d_2\"] = list(results_160.values())[i][1][1]\n",
    "    df_160.loc[i, \"d_3\"] = list(results_160.values())[i][1][2]\n",
    "    df_160.loc[i, \"gamma_1\"] = list(results_160.values())[i][2][0]\n",
    "    df_160.loc[i, \"gamma_2\"] = list(results_160.values())[i][2][1]\n",
    "    df_160.loc[i, \"gamma_3\"] = list(results_160.values())[i][2][2]\n",
    "    df_160.loc[i, \"factor_loading\"] = list(results_160.values())[i][2][3]\n",
    "\n",
    "extended_df = pd.concat([existing_160_df, df_160], ignore_index=True)\n",
    "extended_df.to_csv(\"data\\conf_interval_data_160_same_w.csv\")"
   ],
   "metadata": {
    "collapsed": false,
    "ExecuteTime": {
     "end_time": "2024-04-02T19:51:47.727997400Z",
     "start_time": "2024-04-02T19:51:47.632987300Z"
    }
   },
   "id": "96631b67805555e8"
  },
  {
   "cell_type": "code",
   "execution_count": 34,
   "outputs": [
    {
     "data": {
      "text/plain": "     n_1   n_2   n_3     d_1     d_2     d_3   gamma_1   gamma_2   gamma_3  \\\n290  253  1326  6543  120000  120000  120000 -2.748469 -2.253055 -1.630937   \n291   99   833  5226  120000  120000  120000 -3.021904 -2.379143 -1.678434   \n292  282  1535  7445  120000  120000  120000 -2.811173  -2.28102 -1.661384   \n293  189  1156  5996  120000  120000  120000 -2.865464 -2.287224 -1.681881   \n294  327  1453  6431  120000  120000  120000 -2.840548 -2.345633 -1.740361   \n295  424  1866  8163  120000  120000  120000 -2.799922 -2.297619  -1.71861   \n296  203  1145  5968  120000  120000  120000 -2.845962 -2.324693 -1.706906   \n297  230  1348  6826  120000  120000  120000 -2.829324 -2.241411 -1.628126   \n298  264  1612  7732  120000  120000  120000 -2.846367   -2.2843  -1.65884   \n299  273  1621  8196  120000  120000  120000 -2.831008 -2.271387 -1.632412   \n\n    factor_loading  \n290       0.466389  \n291       0.353716  \n292       0.452165  \n293       0.448581  \n294       0.334897  \n295       0.444854  \n296       0.428543  \n297       0.451796  \n298       0.449111  \n299       0.460042  ",
      "text/html": "<div>\n<style scoped>\n    .dataframe tbody tr th:only-of-type {\n        vertical-align: middle;\n    }\n\n    .dataframe tbody tr th {\n        vertical-align: top;\n    }\n\n    .dataframe thead th {\n        text-align: right;\n    }\n</style>\n<table border=\"1\" class=\"dataframe\">\n  <thead>\n    <tr style=\"text-align: right;\">\n      <th></th>\n      <th>n_1</th>\n      <th>n_2</th>\n      <th>n_3</th>\n      <th>d_1</th>\n      <th>d_2</th>\n      <th>d_3</th>\n      <th>gamma_1</th>\n      <th>gamma_2</th>\n      <th>gamma_3</th>\n      <th>factor_loading</th>\n    </tr>\n  </thead>\n  <tbody>\n    <tr>\n      <th>290</th>\n      <td>253</td>\n      <td>1326</td>\n      <td>6543</td>\n      <td>120000</td>\n      <td>120000</td>\n      <td>120000</td>\n      <td>-2.748469</td>\n      <td>-2.253055</td>\n      <td>-1.630937</td>\n      <td>0.466389</td>\n    </tr>\n    <tr>\n      <th>291</th>\n      <td>99</td>\n      <td>833</td>\n      <td>5226</td>\n      <td>120000</td>\n      <td>120000</td>\n      <td>120000</td>\n      <td>-3.021904</td>\n      <td>-2.379143</td>\n      <td>-1.678434</td>\n      <td>0.353716</td>\n    </tr>\n    <tr>\n      <th>292</th>\n      <td>282</td>\n      <td>1535</td>\n      <td>7445</td>\n      <td>120000</td>\n      <td>120000</td>\n      <td>120000</td>\n      <td>-2.811173</td>\n      <td>-2.28102</td>\n      <td>-1.661384</td>\n      <td>0.452165</td>\n    </tr>\n    <tr>\n      <th>293</th>\n      <td>189</td>\n      <td>1156</td>\n      <td>5996</td>\n      <td>120000</td>\n      <td>120000</td>\n      <td>120000</td>\n      <td>-2.865464</td>\n      <td>-2.287224</td>\n      <td>-1.681881</td>\n      <td>0.448581</td>\n    </tr>\n    <tr>\n      <th>294</th>\n      <td>327</td>\n      <td>1453</td>\n      <td>6431</td>\n      <td>120000</td>\n      <td>120000</td>\n      <td>120000</td>\n      <td>-2.840548</td>\n      <td>-2.345633</td>\n      <td>-1.740361</td>\n      <td>0.334897</td>\n    </tr>\n    <tr>\n      <th>295</th>\n      <td>424</td>\n      <td>1866</td>\n      <td>8163</td>\n      <td>120000</td>\n      <td>120000</td>\n      <td>120000</td>\n      <td>-2.799922</td>\n      <td>-2.297619</td>\n      <td>-1.71861</td>\n      <td>0.444854</td>\n    </tr>\n    <tr>\n      <th>296</th>\n      <td>203</td>\n      <td>1145</td>\n      <td>5968</td>\n      <td>120000</td>\n      <td>120000</td>\n      <td>120000</td>\n      <td>-2.845962</td>\n      <td>-2.324693</td>\n      <td>-1.706906</td>\n      <td>0.428543</td>\n    </tr>\n    <tr>\n      <th>297</th>\n      <td>230</td>\n      <td>1348</td>\n      <td>6826</td>\n      <td>120000</td>\n      <td>120000</td>\n      <td>120000</td>\n      <td>-2.829324</td>\n      <td>-2.241411</td>\n      <td>-1.628126</td>\n      <td>0.451796</td>\n    </tr>\n    <tr>\n      <th>298</th>\n      <td>264</td>\n      <td>1612</td>\n      <td>7732</td>\n      <td>120000</td>\n      <td>120000</td>\n      <td>120000</td>\n      <td>-2.846367</td>\n      <td>-2.2843</td>\n      <td>-1.65884</td>\n      <td>0.449111</td>\n    </tr>\n    <tr>\n      <th>299</th>\n      <td>273</td>\n      <td>1621</td>\n      <td>8196</td>\n      <td>120000</td>\n      <td>120000</td>\n      <td>120000</td>\n      <td>-2.831008</td>\n      <td>-2.271387</td>\n      <td>-1.632412</td>\n      <td>0.460042</td>\n    </tr>\n  </tbody>\n</table>\n</div>"
     },
     "execution_count": 34,
     "metadata": {},
     "output_type": "execute_result"
    }
   ],
   "source": [
    "extended_df.tail(10)"
   ],
   "metadata": {
    "collapsed": false,
    "ExecuteTime": {
     "end_time": "2024-04-02T19:51:55.088100700Z",
     "start_time": "2024-04-02T19:51:55.058098600Z"
    }
   },
   "id": "565a14e75d96c996"
  },
  {
   "cell_type": "code",
   "execution_count": 37,
   "outputs": [],
   "source": [
    "results = {20: [value[2][3] for value in list(results_20.values())],\n",
    "           30: [value[2][3] for value in list(results_30.values())],\n",
    "           80: [value[2][3] for value in list(results_80.values())],\n",
    "           160: [value[2][3] for value in list(results_160.values())]}"
   ],
   "metadata": {
    "collapsed": false,
    "ExecuteTime": {
     "end_time": "2024-03-29T11:17:35.640197100Z",
     "start_time": "2024-03-29T11:17:35.581191800Z"
    }
   },
   "id": "bfe04c5f676cc89"
  },
  {
   "cell_type": "code",
   "execution_count": 38,
   "outputs": [
    {
     "data": {
      "text/plain": "{20: [0.439793506588386,\n  0.44428889461709153,\n  0.4034438878579114,\n  2.4705012819735963e-05,\n  0.4535506333484097,\n  0.4358467126506459,\n  0.44559408975339226,\n  0.45074402109102363,\n  0.30470014117562744,\n  0.44926204467541386,\n  0.45708440964449004,\n  0.35589583196893915,\n  0.2088096182082098,\n  0.33662903093364116,\n  0.45629205284481217,\n  0.42600410488267715,\n  0.44697862481957434,\n  0.4640576220295411,\n  0.4440822630873029,\n  0.14240612987378826,\n  0.41600101799795464,\n  0.44922692483831306,\n  0.4179490679767993,\n  0.45919627448981715,\n  0.4560340797634846,\n  -2.237709777935266e-06,\n  0.4351252588412706,\n  0.45268431090116834,\n  0.4470947904776913,\n  0.4275583535591716,\n  0.45222118695306307,\n  0.42058460039321455,\n  0.3438943023940006,\n  0.44185530698323466,\n  0.4484239840783999,\n  0.45248540793206693,\n  0.42950320780969586,\n  0.45660088046974756,\n  0.42377009053898856,\n  0.43783053983542347,\n  0.4627095342018967,\n  0.4470540135396209,\n  0.4461457867587041,\n  0.42187043975797944,\n  0.430148807898999,\n  0.23303778087741978,\n  0.450851282737218,\n  0.46312041347608,\n  0.47022433296671895,\n  0.4421888770878487,\n  0.4401041062798486,\n  0.4188795187958445,\n  0.44187515547592876,\n  0.1939808621878828,\n  0.4250082087778582,\n  0.42388271601803784,\n  0.4746291559012671,\n  0.446352172147215,\n  0.26711649384225106,\n  0.4494135789870032,\n  0.4412926502456254,\n  0.35687925856061065,\n  0.4454684899622337,\n  0.46141345948528467,\n  0.44270771639835194,\n  0.4647012469269621,\n  0.44261549906585645,\n  0.4480599321216304,\n  0.44160348109512715,\n  0.3358613865396278,\n  0.44825213402019515,\n  0.46264507257828336,\n  0.4658147942289035,\n  0.347721516410872,\n  0.4582906810670138,\n  0.4450729300929671,\n  0.4197315859311802,\n  0.3627676146248431,\n  -1.3656511315029463e-07,\n  0.43094830921098515,\n  0.4494047242630183,\n  0.459093056677925,\n  0.45091862324591725,\n  0.4517577070784486,\n  0.4490431115773989,\n  0.42606490245774264,\n  0.45321549605008615,\n  0.45041137170955414,\n  0.4518384728825172,\n  0.46864143866235314,\n  0.4476529702886636,\n  0.44915282795569345,\n  0.41263672514538285,\n  0.449370789390506,\n  0.44836959757192396,\n  0.34929710930602165,\n  0.45085849734196765,\n  0.3715154904734007,\n  0.4458311701771874,\n  0.44292453267818516],\n 30: [0.4621263884401931,\n  0.4494870544299524,\n  0.4344722920710431,\n  0.4613030971990343,\n  0.45005656255241655,\n  0.44700218494929644,\n  0.39952805539657943,\n  0.4478672424795027,\n  0.4616448691259958,\n  0.41165434337856666,\n  0.4504249109300916,\n  0.4521747435281872,\n  0.4507953123373968,\n  0.45214068859279927,\n  0.33504259420352467,\n  0.4431260087852682,\n  0.44209895733233934,\n  0.4620622130644356,\n  0.4521598182592528,\n  0.3148489572032272,\n  0.4466002830615886,\n  0.446166721384875,\n  0.4630489208388805,\n  0.45377110861120656,\n  0.44412216053969655,\n  -5.455715252674395e-07,\n  0.4487431569430411,\n  0.4294282011435684,\n  0.4539827362931357,\n  0.4673380286072542,\n  0.46133179796518964,\n  0.46624214291687205,\n  0.4433186192536577,\n  0.4682804893243844,\n  0.387084686970309,\n  0.453643176385782,\n  0.44827522222491767,\n  0.45582965788902763,\n  0.43763154584757524,\n  0.4246678532149798,\n  0.44740604185612587,\n  0.45151049999848064,\n  0.33077226967585105,\n  0.40691052041328235,\n  0.47065632870073976,\n  0.45868467042571937,\n  0.44621753897212335,\n  0.4563970922587161,\n  0.4440992780207977,\n  0.46079571596843316,\n  1.8723491513352727e-05,\n  0.4451581417676771,\n  0.44437583646160617,\n  0.45079206038950337,\n  0.4460043104676191,\n  0.36688882630100805,\n  0.45367741648258136,\n  0.35297684451922196,\n  0.4549389261791153,\n  0.4081362649979786,\n  0.291115186028699,\n  0.2718534261679897,\n  0.4452518907541564,\n  0.45725666614986105,\n  0.44858482504010033,\n  0.22033155046098435,\n  0.44945861792565617,\n  0.4351653485359242,\n  0.429105572599438,\n  0.4606676460820993,\n  0.38827949938012374,\n  0.4300852450785183,\n  0.45195281204992616,\n  0.37952007824545475,\n  1.4957727130263169e-05,\n  0.45577810833229215,\n  0.4547754105464003,\n  0.44723343064797916,\n  0.44446551753734076,\n  0.45637471164769583,\n  0.4362217661878892,\n  0.4405773396152146,\n  0.4516960241578438,\n  0.45090728023644655,\n  0.45542258669373203,\n  0.4604483892696675,\n  0.44394357794567846,\n  0.44448617333463913,\n  0.4393665129857599,\n  0.4587009720185592,\n  0.3957766779283569,\n  0.4699553832309523,\n  0.46153683613603547,\n  0.4349090669839041,\n  0.45008256326668566,\n  0.3570933735659849,\n  0.44402354107624253,\n  0.4614547934729999,\n  0.4551999864874564,\n  0.4400884588652661],\n 80: [0.3011759907334044,\n  0.4840256880760623,\n  0.44617082004071973,\n  0.472404513193663,\n  0.4254802803859876,\n  0.43865380814733207,\n  0.44891114476723426,\n  0.39248466655216674,\n  0.4457450646228839,\n  0.32243386944744357,\n  0.4611751575651523,\n  0.3486524923644208,\n  0.4531907534344422,\n  0.45199093087427716,\n  0.3026198341909617,\n  0.44973818526678205,\n  0.45126416805169456,\n  0.4603179065011967,\n  0.27012534557034595,\n  0.461066950589455,\n  0.46030026158291354,\n  0.45061238175464546,\n  0.441351786296262,\n  0.4509801950597294,\n  0.44198223551723215,\n  0.44610338007076017,\n  0.4446943908112868,\n  0.4599020955089713,\n  0.42758281679732557,\n  0.44983722001522447,\n  0.4174977135127017,\n  0.45608127556951406,\n  0.4419110500269871,\n  0.4690742967091198,\n  0.3386944622758932,\n  0.45085117574253364,\n  0.32187646809695103,\n  0.4471680133554896,\n  0.43917803180839277,\n  0.44591751953179215,\n  0.453467591507006,\n  0.4471223172467137,\n  0.44875386118368465,\n  0.44604842708336373,\n  0.421882005368948,\n  0.3462929882677192,\n  0.4238982323659952,\n  0.43196699065186916,\n  0.4525580890535379,\n  0.4524608902702917,\n  0.4757747595011428,\n  0.4496334436638219,\n  0.4457421458263118,\n  0.44575736634954805,\n  0.45760405702158197,\n  0.39597222360156104,\n  0.45905464054442247,\n  0.4405292421310517,\n  0.46367693254117315,\n  0.44283192923653525,\n  0.3500654543484033,\n  0.41416462077895944,\n  0.44863961005306774,\n  0.45664920268913517,\n  0.35443783506048687,\n  0.4490497103139298,\n  0.44379321724321663,\n  0.45039279348814654,\n  0.44343554174320804,\n  0.4475361459374869,\n  0.4509180874391719,\n  0.44895605155535484,\n  0.44702928786680685,\n  0.4742571291858922,\n  0.3112097191133255,\n  0.4325294068522414,\n  0.4270971918646195,\n  0.4259864923091022,\n  0.4456466291519087,\n  0.4525536430870607,\n  0.44518955355766143,\n  0.46620315037024446,\n  0.4582416118273396,\n  0.44345905211746195,\n  0.4370032685386567,\n  0.45151907320826695,\n  0.4631857031045196,\n  0.4547435527018727,\n  0.4614271425997074,\n  0.4488036568262186,\n  0.4592461508458818,\n  0.4211354317051905,\n  0.451755179582303,\n  0.4432035898190542,\n  0.4246922697447155,\n  0.444556656162958,\n  0.4586012197145788,\n  0.43752761058890466,\n  0.4476053257109985,\n  0.4285468094910916],\n 160: [0.3189851955823665,\n  0.396031758702159,\n  0.44855825746501765,\n  0.453078756408706,\n  0.45686216177785954,\n  0.46231648772861467,\n  0.4358990921701922,\n  0.44133985321728686,\n  0.4490165486942068,\n  0.45536356760094543,\n  0.4382156172922138,\n  0.4612376833784046,\n  0.44920460443657706,\n  0.46974198666973377,\n  0.22252961268294508,\n  0.4599599358386617,\n  0.4557373230186128,\n  0.4602607263365258,\n  0.45922300257675597,\n  0.4843684356196775,\n  0.43872494424191366,\n  0.3435499525984881,\n  0.4524845359958518,\n  0.4572467498862861,\n  0.4567057260271058,\n  0.45729363466547424,\n  0.46704336983281924,\n  0.4591069468483907,\n  0.4490810607060935,\n  0.30914459713291836,\n  0.44382492420682573,\n  0.3646002250958661,\n  0.4594414867638599,\n  0.41174143342863556,\n  0.4536127500422604,\n  0.43170753758280456,\n  0.46793442934882956,\n  0.4587118349566695,\n  0.4411528889226247,\n  0.39194711123032266,\n  0.44762633200472157,\n  0.3809402174697598,\n  0.4446665499209902,\n  0.3270479739632888,\n  0.44243313483290614,\n  0.45927304313547046,\n  0.44598916259060273,\n  0.4404557667532657,\n  0.3444175333119285,\n  0.45474035190430045,\n  0.4280549727710305,\n  0.4491464614506289,\n  0.00020270856184117185,\n  0.21921627488262374,\n  0.44718790313351464,\n  0.4625715153792256,\n  0.3925680090143379,\n  0.451265750145762,\n  0.45205526640709603,\n  0.43875615102281484,\n  0.4533947547988053,\n  0.46293581641431947,\n  0.4540012392483338,\n  0.44520242397242515,\n  0.46435714889646934,\n  0.44473392875660656,\n  0.4436551949564296,\n  0.4420689504895964,\n  0.4572878842310336,\n  0.4435847631094062,\n  0.35268612058868914,\n  0.44361254152323176,\n  0.2980475903441283,\n  0.4340954369590222,\n  0.45324875307619417,\n  0.4333904589977987,\n  0.30353627006079653,\n  0.4613583451152975,\n  0.44556256420257223,\n  0.475918087272023,\n  0.44388760668610466,\n  0.44125784037309523,\n  0.4604959704745104,\n  0.4356674346544101,\n  0.4463431526701365,\n  0.4465867037943423,\n  0.416642238119676,\n  0.45126843101777375,\n  0.4448001436926949,\n  0.44683974738630583,\n  0.4429734341556564,\n  0.44397430276569516,\n  0.46557409558319773,\n  0.456866496251651,\n  0.4595144920300518,\n  0.45696603391214624,\n  0.45222936390345386,\n  0.4348260508547469,\n  0.2930233797130972,\n  0.45547031674831634]}"
     },
     "execution_count": 38,
     "metadata": {},
     "output_type": "execute_result"
    }
   ],
   "source": [
    "results"
   ],
   "metadata": {
    "collapsed": false,
    "ExecuteTime": {
     "end_time": "2024-03-29T11:17:39.926778700Z",
     "start_time": "2024-03-29T11:17:39.867774Z"
    }
   },
   "id": "e642b7656115bac6"
  },
  {
   "cell_type": "code",
   "execution_count": 43,
   "outputs": [
    {
     "data": {
      "text/plain": "<Figure size 1000x600 with 1 Axes>",
      "image/png": "[encoded data removed]"
     },
     "metadata": {},
     "output_type": "display_data"
    }
   ],
   "source": [
    "import matplotlib.pyplot as plt\n",
    "import numpy as np\n",
    "\n",
    "# Calculating averages\n",
    "x = list(results.keys())\n",
    "y_mean = [np.median(results[key]) for key in x]\n",
    "\n",
    "# Calculating percentiles\n",
    "y_5th = [np.percentile(results[key], 5) for key in x]\n",
    "y_95th = [np.percentile(results[key], 95) for key in x]\n",
    "\n",
    "# Creating the plot\n",
    "plt.figure(figsize=(10, 6))\n",
    "\n",
    "# Plotting means\n",
    "plt.plot(x, y_mean, marker='o', linestyle='-')\n",
    "\n",
    "# Plotting 5th and 95th percentiles\n",
    "for i in range(len(x)):\n",
    "    plt.vlines(x[i], y_5th[i], y_95th[i], colors='r', linestyles='solid', linewidth=2)\n",
    "\n",
    "# Formatting the plot\n",
    "plt.title('Estimation Means and Percentiles')\n",
    "plt.xlabel('Sample Size')\n",
    "plt.ylabel('Estimated Value (w)')\n",
    "plt.grid(True)\n",
    "plt.xticks(x)\n",
    "plt.legend(['Median', '5th and 95th Percentiles'], loc='lower right')\n",
    "\n",
    "# Displaying the plot\n",
    "plt.show()"
   ],
   "metadata": {
    "collapsed": false,
    "ExecuteTime": {
     "end_time": "2024-03-29T11:20:01.936776900Z",
     "start_time": "2024-03-29T11:20:01.647753700Z"
    }
   },
   "id": "332b3b8138cfc5b7"
  },
  {
   "cell_type": "code",
   "execution_count": null,
   "outputs": [],
   "source": [],
   "metadata": {
    "collapsed": false
   },
   "id": "f2507ebee78d28af"
  }
 ],
 "metadata": {
  "kernelspec": {
   "name": "python3",
   "language": "python",
   "display_name": "Python 3 (ipykernel)"
  },
  "language_info": {
   "codemirror_mode": {
    "name": "ipython",
    "version": 2
   },
   "file_extension": ".py",
   "mimetype": "text/x-python",
   "name": "python",
   "nbconvert_exporter": "python",
   "pygments_lexer": "ipython2",
   "version": "2.7.6"
  }
 },
 "nbformat": 4,
 "nbformat_minor": 5
}
