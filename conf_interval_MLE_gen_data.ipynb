{
 "cells": [
  {
   "cell_type": "markdown",
   "source": [
    "# Make confidence interval for the ML parameter estimation of the generated data"
   ],
   "metadata": {
    "collapsed": false
   },
   "id": "a65a98f275658dbb"
  },
  {
   "cell_type": "code",
   "execution_count": 1,
   "outputs": [],
   "source": [
    "import pandas as pd\n",
    "import numpy as np\n",
    "from src.data_generator import generate_default_buckets\n",
    "from scipy.stats import norm"
   ],
   "metadata": {
    "collapsed": false,
    "ExecuteTime": {
     "end_time": "2024-03-29T09:12:58.468858100Z",
     "start_time": "2024-03-29T09:12:58.427593600Z"
    }
   },
   "id": "77629a0ac7683038"
  },
  {
   "cell_type": "code",
   "execution_count": 2,
   "outputs": [],
   "source": [
    "# Fix seed for reproducibility\n",
    "seed = 2523\n",
    "np.random.seed(seed)"
   ],
   "metadata": {
    "collapsed": false,
    "ExecuteTime": {
     "end_time": "2024-03-29T09:12:58.491859900Z",
     "start_time": "2024-03-29T09:12:58.464859400Z"
    }
   },
   "id": "4d7211fdbea089c9"
  },
  {
   "cell_type": "code",
   "execution_count": 3,
   "outputs": [
    {
     "data": {
      "text/plain": "  Grade  Factor Loading      PD     Gamma  Num of Obligors\n0     A            0.45  0.0015 -2.967738              400\n1     B            0.45  0.0100 -2.326348              250\n2     C            0.45  0.0500 -1.644854              100",
      "text/html": "<div>\n<style scoped>\n    .dataframe tbody tr th:only-of-type {\n        vertical-align: middle;\n    }\n\n    .dataframe tbody tr th {\n        vertical-align: top;\n    }\n\n    .dataframe thead th {\n        text-align: right;\n    }\n</style>\n<table border=\"1\" class=\"dataframe\">\n  <thead>\n    <tr style=\"text-align: right;\">\n      <th></th>\n      <th>Grade</th>\n      <th>Factor Loading</th>\n      <th>PD</th>\n      <th>Gamma</th>\n      <th>Num of Obligors</th>\n    </tr>\n  </thead>\n  <tbody>\n    <tr>\n      <th>0</th>\n      <td>A</td>\n      <td>0.45</td>\n      <td>0.0015</td>\n      <td>-2.967738</td>\n      <td>400</td>\n    </tr>\n    <tr>\n      <th>1</th>\n      <td>B</td>\n      <td>0.45</td>\n      <td>0.0100</td>\n      <td>-2.326348</td>\n      <td>250</td>\n    </tr>\n    <tr>\n      <th>2</th>\n      <td>C</td>\n      <td>0.45</td>\n      <td>0.0500</td>\n      <td>-1.644854</td>\n      <td>100</td>\n    </tr>\n  </tbody>\n</table>\n</div>"
     },
     "execution_count": 3,
     "metadata": {},
     "output_type": "execute_result"
    }
   ],
   "source": [
    "factor_loading_list = [0.45, 0.45, 0.45]\n",
    "pd_list = [0.0015, 0.0100, 0.0500]\n",
    "gamma_list = norm.ppf(pd_list)\n",
    "#num_of_obligors_list = [250, 250, 250]\n",
    "num_of_obligors_list = [400, 250, 100]\n",
    "\n",
    "# Make a pandas dataframe with Grade, Factor Loading, PD, Gamma, Num of Obligors\n",
    "df = pd.DataFrame({'Grade': ['A', 'B', 'C'], 'Factor Loading': factor_loading_list, 'PD': pd_list, 'Gamma': gamma_list, 'Num of Obligors': num_of_obligors_list})\n",
    "df"
   ],
   "metadata": {
    "collapsed": false,
    "ExecuteTime": {
     "end_time": "2024-03-27T12:21:54.377710700Z",
     "start_time": "2024-03-27T12:21:54.333705700Z"
    }
   },
   "id": "25ac43a7cd9db38"
  },
  {
   "cell_type": "code",
   "execution_count": 10,
   "outputs": [
    {
     "name": "stdout",
     "output_type": "stream",
     "text": [
      "Number of defaults:  [97, 327, 485]\n",
      "Number of obligors over time:  [32000, 20000, 8000]\n"
     ]
    }
   ],
   "source": [
    "length_of_time_series = 80\n",
    "default_list = generate_default_buckets(factor_loading_list,num_of_obligors_list, gamma_list, time_points=length_of_time_series)\n",
    "print(\"Number of defaults: \", default_list)\n",
    "num_of_obligors_over_time = [x * length_of_time_series for x in num_of_obligors_list]\n",
    "print(\"Number of obligors over time: \", num_of_obligors_over_time)"
   ],
   "metadata": {
    "collapsed": false,
    "ExecuteTime": {
     "end_time": "2024-03-27T12:22:53.756896Z",
     "start_time": "2024-03-27T12:22:53.676891800Z"
    }
   },
   "id": "618ff9fcdb107947"
  },
  {
   "cell_type": "code",
   "execution_count": 11,
   "outputs": [
    {
     "name": "stdout",
     "output_type": "stream",
     "text": [
      "Empirical PD:  [0.00303125, 0.01635, 0.060625]\n"
     ]
    }
   ],
   "source": [
    "# Empirical PD\n",
    "empirical_pd_list = [x/y for x, y in zip(default_list, num_of_obligors_over_time)]\n",
    "print(\"Empirical PD: \", empirical_pd_list)"
   ],
   "metadata": {
    "collapsed": false,
    "ExecuteTime": {
     "end_time": "2024-03-27T12:22:54.131926800Z",
     "start_time": "2024-03-27T12:22:54.089923800Z"
    }
   },
   "id": "fdb3281e9cd97674"
  },
  {
   "cell_type": "code",
   "execution_count": null,
   "outputs": [],
   "source": [],
   "metadata": {
    "collapsed": false
   },
   "id": "2c8a9db8bea11f4e"
  },
  {
   "cell_type": "code",
   "execution_count": 6,
   "outputs": [
    {
     "data": {
      "text/plain": "array([0.00186581, 0.01072411, 0.05479929])"
     },
     "execution_count": 6,
     "metadata": {},
     "output_type": "execute_result"
    }
   ],
   "source": [
    "gamma_list = [-2.9, -2.3, -1.6]\n",
    "norm.cdf(gamma_list)"
   ],
   "metadata": {
    "collapsed": false,
    "ExecuteTime": {
     "end_time": "2024-03-27T12:21:54.551373Z",
     "start_time": "2024-03-27T12:21:54.409712600Z"
    }
   },
   "id": "9405583f1c00a92f"
  },
  {
   "cell_type": "code",
   "execution_count": 7,
   "outputs": [],
   "source": [
    "from src.ML_estimation import calculate_my_likelihood_arr\n",
    "from src.sucess_probability import p_g\n",
    "from scipy.optimize import minimize\n",
    "\n",
    "def parameter_estimation(default_list, num_of_obligors_over_time, factor_loading_init, gamma_list_init):\n",
    "    initial_guess = gamma_list_init + factor_loading_init\n",
    "    \n",
    "    num_of_gamma = len(gamma_list_init)\n",
    "    num_of_factor_loading = len(factor_loading_init)\n",
    "    # bound = num_of_gamma * (-5, 5) + num_of_factor_loading * (-1, 1)\n",
    "    bounds = num_of_gamma * [(-5, 5)] + num_of_factor_loading * [(-1, 1)]\n",
    "    print(bounds)\n",
    "    print(initial_guess)\n",
    "    # Optimization\n",
    "    objective_function = lambda params: -np.log(calculate_my_likelihood_arr(\n",
    "        default_list, num_of_obligors_over_time, p_g, norm.pdf, np.repeat(params[3], 3), params[0:3]\n",
    "    ))\n",
    "    \n",
    "    result = minimize(objective_function,\n",
    "                  initial_guess,\n",
    "                  method=\"Nelder-Mead\",\n",
    "                  bounds=bounds,\n",
    "                  options={\n",
    "                      'disp': True})\n",
    "    \n",
    "    return result"
   ],
   "metadata": {
    "collapsed": false,
    "ExecuteTime": {
     "end_time": "2024-03-27T12:22:10.020446400Z",
     "start_time": "2024-03-27T12:22:09.998445400Z"
    }
   },
   "id": "e085dc20feb17daa"
  },
  {
   "cell_type": "code",
   "execution_count": 8,
   "outputs": [
    {
     "name": "stdout",
     "output_type": "stream",
     "text": [
      "[(-5, 5), (-5, 5), (-5, 5), (-1, 1)]\n",
      "[-2.9, -2.2, -1.6, 0.4]\n",
      "Optimization terminated successfully.\n",
      "         Current function value: 11.014011\n",
      "         Iterations: 249\n",
      "         Function evaluations: 424\n"
     ]
    }
   ],
   "source": [
    "# Test the parameter estimation\n",
    "factor_loading_init = [0.40]\n",
    "gamma_list_init = [-2.9, -2.2, -1.6]\n",
    "result = parameter_estimation(default_list, num_of_obligors_over_time, factor_loading_init, gamma_list_init)"
   ],
   "metadata": {
    "collapsed": false,
    "ExecuteTime": {
     "end_time": "2024-03-27T12:22:33.364478900Z",
     "start_time": "2024-03-27T12:22:18.118594500Z"
    }
   },
   "id": "87318127d40fa081"
  },
  {
   "cell_type": "code",
   "execution_count": 9,
   "outputs": [
    {
     "data": {
      "text/plain": "1.1522589899534333e-05"
     },
     "execution_count": 9,
     "metadata": {},
     "output_type": "execute_result"
    }
   ],
   "source": [
    "result.x[3]"
   ],
   "metadata": {
    "collapsed": false,
    "ExecuteTime": {
     "end_time": "2024-03-27T12:22:33.405481900Z",
     "start_time": "2024-03-27T12:22:33.347868400Z"
    }
   },
   "id": "ee252f0cb7ee9f51"
  },
  {
   "cell_type": "code",
   "execution_count": 10,
   "outputs": [
    {
     "ename": "KeyboardInterrupt",
     "evalue": "",
     "output_type": "error",
     "traceback": [
      "\u001B[1;31m---------------------------------------------------------------------------\u001B[0m",
      "\u001B[1;31mKeyboardInterrupt\u001B[0m                         Traceback (most recent call last)",
      "Cell \u001B[1;32mIn[10], line 21\u001B[0m\n\u001B[0;32m     17\u001B[0m bounds \u001B[38;5;241m=\u001B[39m [(\u001B[38;5;241m-\u001B[39m\u001B[38;5;241m5\u001B[39m, \u001B[38;5;241m5\u001B[39m), (\u001B[38;5;241m-\u001B[39m\u001B[38;5;241m5\u001B[39m, \u001B[38;5;241m5\u001B[39m), (\u001B[38;5;241m-\u001B[39m\u001B[38;5;241m5\u001B[39m, \u001B[38;5;241m5\u001B[39m), (\u001B[38;5;241m-\u001B[39m\u001B[38;5;241m1\u001B[39m, \u001B[38;5;241m1\u001B[39m)]\n\u001B[0;32m     18\u001B[0m objective_function \u001B[38;5;241m=\u001B[39m \u001B[38;5;28;01mlambda\u001B[39;00m params: \u001B[38;5;241m-\u001B[39mnp\u001B[38;5;241m.\u001B[39mlog(calculate_my_likelihood_arr(d_g_arr, n_g_arr, p_g, norm\u001B[38;5;241m.\u001B[39mpdf, \n\u001B[0;32m     19\u001B[0m                                                          np\u001B[38;5;241m.\u001B[39mrepeat(params[\u001B[38;5;241m3\u001B[39m], \u001B[38;5;241m3\u001B[39m), \n\u001B[0;32m     20\u001B[0m                                                          params[\u001B[38;5;241m0\u001B[39m:\u001B[38;5;241m3\u001B[39m]))\n\u001B[1;32m---> 21\u001B[0m result \u001B[38;5;241m=\u001B[39m \u001B[43mminimize\u001B[49m\u001B[43m(\u001B[49m\u001B[43mobjective_function\u001B[49m\u001B[43m,\u001B[49m\n\u001B[0;32m     22\u001B[0m \u001B[43m          \u001B[49m\u001B[43minitial_guess\u001B[49m\u001B[43m,\u001B[49m\n\u001B[0;32m     23\u001B[0m \u001B[43m          \u001B[49m\u001B[43mmethod\u001B[49m\u001B[38;5;241;43m=\u001B[39;49m\u001B[38;5;124;43m\"\u001B[39;49m\u001B[38;5;124;43mNelder-Mead\u001B[39;49m\u001B[38;5;124;43m\"\u001B[39;49m\u001B[43m,\u001B[49m\n\u001B[0;32m     24\u001B[0m \u001B[43m          \u001B[49m\u001B[43mbounds\u001B[49m\u001B[38;5;241;43m=\u001B[39;49m\u001B[43mbounds\u001B[49m\u001B[43m,\u001B[49m\n\u001B[0;32m     25\u001B[0m \u001B[43m          \u001B[49m\u001B[43moptions\u001B[49m\u001B[38;5;241;43m=\u001B[39;49m\u001B[43m{\u001B[49m\n\u001B[0;32m     26\u001B[0m \u001B[43m              \u001B[49m\u001B[38;5;124;43m'\u001B[39;49m\u001B[38;5;124;43mdisp\u001B[39;49m\u001B[38;5;124;43m'\u001B[39;49m\u001B[43m:\u001B[49m\u001B[43m \u001B[49m\u001B[38;5;28;43;01mFalse\u001B[39;49;00m\u001B[43m}\u001B[49m\u001B[43m)\u001B[49m\n\u001B[0;32m     27\u001B[0m results[len_ts]\u001B[38;5;241m.\u001B[39mappend(result\u001B[38;5;241m.\u001B[39mx[\u001B[38;5;241m3\u001B[39m])\n",
      "File \u001B[1;32m~\\PycharmProjects\\VasicekPDModell\\venv\\lib\\site-packages\\scipy\\optimize\\_minimize.py:701\u001B[0m, in \u001B[0;36mminimize\u001B[1;34m(fun, x0, args, method, jac, hess, hessp, bounds, constraints, tol, callback, options)\u001B[0m\n\u001B[0;32m    698\u001B[0m callback \u001B[38;5;241m=\u001B[39m _wrap_callback(callback, meth)\n\u001B[0;32m    700\u001B[0m \u001B[38;5;28;01mif\u001B[39;00m meth \u001B[38;5;241m==\u001B[39m \u001B[38;5;124m'\u001B[39m\u001B[38;5;124mnelder-mead\u001B[39m\u001B[38;5;124m'\u001B[39m:\n\u001B[1;32m--> 701\u001B[0m     res \u001B[38;5;241m=\u001B[39m _minimize_neldermead(fun, x0, args, callback, bounds\u001B[38;5;241m=\u001B[39mbounds,\n\u001B[0;32m    702\u001B[0m                                \u001B[38;5;241m*\u001B[39m\u001B[38;5;241m*\u001B[39moptions)\n\u001B[0;32m    703\u001B[0m \u001B[38;5;28;01melif\u001B[39;00m meth \u001B[38;5;241m==\u001B[39m \u001B[38;5;124m'\u001B[39m\u001B[38;5;124mpowell\u001B[39m\u001B[38;5;124m'\u001B[39m:\n\u001B[0;32m    704\u001B[0m     res \u001B[38;5;241m=\u001B[39m _minimize_powell(fun, x0, args, callback, bounds, \u001B[38;5;241m*\u001B[39m\u001B[38;5;241m*\u001B[39moptions)\n",
      "File \u001B[1;32m~\\PycharmProjects\\VasicekPDModell\\venv\\lib\\site-packages\\scipy\\optimize\\_optimize.py:948\u001B[0m, in \u001B[0;36m_minimize_neldermead\u001B[1;34m(func, x0, args, callback, maxiter, maxfev, disp, return_all, initial_simplex, xatol, fatol, adaptive, bounds, **unknown_options)\u001B[0m\n\u001B[0;32m    946\u001B[0m \u001B[38;5;28;01mif\u001B[39;00m bounds \u001B[38;5;129;01mis\u001B[39;00m \u001B[38;5;129;01mnot\u001B[39;00m \u001B[38;5;28;01mNone\u001B[39;00m:\n\u001B[0;32m    947\u001B[0m     xr \u001B[38;5;241m=\u001B[39m np\u001B[38;5;241m.\u001B[39mclip(xr, lower_bound, upper_bound)\n\u001B[1;32m--> 948\u001B[0m fxr \u001B[38;5;241m=\u001B[39m \u001B[43mfunc\u001B[49m\u001B[43m(\u001B[49m\u001B[43mxr\u001B[49m\u001B[43m)\u001B[49m\n\u001B[0;32m    949\u001B[0m doshrink \u001B[38;5;241m=\u001B[39m \u001B[38;5;241m0\u001B[39m\n\u001B[0;32m    951\u001B[0m \u001B[38;5;28;01mif\u001B[39;00m fxr \u001B[38;5;241m<\u001B[39m fsim[\u001B[38;5;241m0\u001B[39m]:\n",
      "File \u001B[1;32m~\\PycharmProjects\\VasicekPDModell\\venv\\lib\\site-packages\\scipy\\optimize\\_optimize.py:640\u001B[0m, in \u001B[0;36m_wrap_scalar_function_maxfun_validation.<locals>.function_wrapper\u001B[1;34m(x, *wrapper_args)\u001B[0m\n\u001B[0;32m    638\u001B[0m ncalls[\u001B[38;5;241m0\u001B[39m] \u001B[38;5;241m+\u001B[39m\u001B[38;5;241m=\u001B[39m \u001B[38;5;241m1\u001B[39m\n\u001B[0;32m    639\u001B[0m \u001B[38;5;66;03m# A copy of x is sent to the user function (gh13740)\u001B[39;00m\n\u001B[1;32m--> 640\u001B[0m fx \u001B[38;5;241m=\u001B[39m \u001B[43mfunction\u001B[49m\u001B[43m(\u001B[49m\u001B[43mnp\u001B[49m\u001B[38;5;241;43m.\u001B[39;49m\u001B[43mcopy\u001B[49m\u001B[43m(\u001B[49m\u001B[43mx\u001B[49m\u001B[43m)\u001B[49m\u001B[43m,\u001B[49m\u001B[43m \u001B[49m\u001B[38;5;241;43m*\u001B[39;49m\u001B[43m(\u001B[49m\u001B[43mwrapper_args\u001B[49m\u001B[43m \u001B[49m\u001B[38;5;241;43m+\u001B[39;49m\u001B[43m \u001B[49m\u001B[43margs\u001B[49m\u001B[43m)\u001B[49m\u001B[43m)\u001B[49m\n\u001B[0;32m    641\u001B[0m \u001B[38;5;66;03m# Ideally, we'd like to a have a true scalar returned from f(x). For\u001B[39;00m\n\u001B[0;32m    642\u001B[0m \u001B[38;5;66;03m# backwards-compatibility, also allow np.array([1.3]),\u001B[39;00m\n\u001B[0;32m    643\u001B[0m \u001B[38;5;66;03m# np.array([[1.3]]) etc.\u001B[39;00m\n\u001B[0;32m    644\u001B[0m \u001B[38;5;28;01mif\u001B[39;00m \u001B[38;5;129;01mnot\u001B[39;00m np\u001B[38;5;241m.\u001B[39misscalar(fx):\n",
      "Cell \u001B[1;32mIn[10], line 18\u001B[0m, in \u001B[0;36m<lambda>\u001B[1;34m(params)\u001B[0m\n\u001B[0;32m     16\u001B[0m initial_guess \u001B[38;5;241m=\u001B[39m np\u001B[38;5;241m.\u001B[39mappend(initial_guess, \u001B[38;5;241m0.45\u001B[39m)\n\u001B[0;32m     17\u001B[0m bounds \u001B[38;5;241m=\u001B[39m [(\u001B[38;5;241m-\u001B[39m\u001B[38;5;241m5\u001B[39m, \u001B[38;5;241m5\u001B[39m), (\u001B[38;5;241m-\u001B[39m\u001B[38;5;241m5\u001B[39m, \u001B[38;5;241m5\u001B[39m), (\u001B[38;5;241m-\u001B[39m\u001B[38;5;241m5\u001B[39m, \u001B[38;5;241m5\u001B[39m), (\u001B[38;5;241m-\u001B[39m\u001B[38;5;241m1\u001B[39m, \u001B[38;5;241m1\u001B[39m)]\n\u001B[1;32m---> 18\u001B[0m objective_function \u001B[38;5;241m=\u001B[39m \u001B[38;5;28;01mlambda\u001B[39;00m params: \u001B[38;5;241m-\u001B[39mnp\u001B[38;5;241m.\u001B[39mlog(\u001B[43mcalculate_my_likelihood_arr\u001B[49m\u001B[43m(\u001B[49m\u001B[43md_g_arr\u001B[49m\u001B[43m,\u001B[49m\u001B[43m \u001B[49m\u001B[43mn_g_arr\u001B[49m\u001B[43m,\u001B[49m\u001B[43m \u001B[49m\u001B[43mp_g\u001B[49m\u001B[43m,\u001B[49m\u001B[43m \u001B[49m\u001B[43mnorm\u001B[49m\u001B[38;5;241;43m.\u001B[39;49m\u001B[43mpdf\u001B[49m\u001B[43m,\u001B[49m\u001B[43m \u001B[49m\n\u001B[0;32m     19\u001B[0m \u001B[43m                                                         \u001B[49m\u001B[43mnp\u001B[49m\u001B[38;5;241;43m.\u001B[39;49m\u001B[43mrepeat\u001B[49m\u001B[43m(\u001B[49m\u001B[43mparams\u001B[49m\u001B[43m[\u001B[49m\u001B[38;5;241;43m3\u001B[39;49m\u001B[43m]\u001B[49m\u001B[43m,\u001B[49m\u001B[43m \u001B[49m\u001B[38;5;241;43m3\u001B[39;49m\u001B[43m)\u001B[49m\u001B[43m,\u001B[49m\u001B[43m \u001B[49m\n\u001B[0;32m     20\u001B[0m \u001B[43m                                                         \u001B[49m\u001B[43mparams\u001B[49m\u001B[43m[\u001B[49m\u001B[38;5;241;43m0\u001B[39;49m\u001B[43m:\u001B[49m\u001B[38;5;241;43m3\u001B[39;49m\u001B[43m]\u001B[49m\u001B[43m)\u001B[49m)\n\u001B[0;32m     21\u001B[0m result \u001B[38;5;241m=\u001B[39m minimize(objective_function,\n\u001B[0;32m     22\u001B[0m           initial_guess,\n\u001B[0;32m     23\u001B[0m           method\u001B[38;5;241m=\u001B[39m\u001B[38;5;124m\"\u001B[39m\u001B[38;5;124mNelder-Mead\u001B[39m\u001B[38;5;124m\"\u001B[39m,\n\u001B[0;32m     24\u001B[0m           bounds\u001B[38;5;241m=\u001B[39mbounds,\n\u001B[0;32m     25\u001B[0m           options\u001B[38;5;241m=\u001B[39m{\n\u001B[0;32m     26\u001B[0m               \u001B[38;5;124m'\u001B[39m\u001B[38;5;124mdisp\u001B[39m\u001B[38;5;124m'\u001B[39m: \u001B[38;5;28;01mFalse\u001B[39;00m})\n\u001B[0;32m     27\u001B[0m results[len_ts]\u001B[38;5;241m.\u001B[39mappend(result\u001B[38;5;241m.\u001B[39mx[\u001B[38;5;241m3\u001B[39m])\n",
      "File \u001B[1;32m~\\PycharmProjects\\VasicekPDModell\\src\\ML_estimation.py:71\u001B[0m, in \u001B[0;36mcalculate_my_likelihood_arr\u001B[1;34m(d_g_arr, n_g_arr, p_g, prob_dens_func, w_g_arr, gamma_g_arr)\u001B[0m\n\u001B[0;32m     54\u001B[0m \u001B[38;5;250m\u001B[39m\u001B[38;5;124;03m\"\"\"\u001B[39;00m\n\u001B[0;32m     55\u001B[0m \u001B[38;5;124;03mNumerically calculates the value of L(d_g_arr) for multiple grades based on the given formula.\u001B[39;00m\n\u001B[0;32m     56\u001B[0m \n\u001B[1;32m   (...)\u001B[0m\n\u001B[0;32m     66\u001B[0m \u001B[38;5;124;03m    float: Numerical approximation of the integral.\u001B[39;00m\n\u001B[0;32m     67\u001B[0m \u001B[38;5;124;03m\"\"\"\u001B[39;00m\n\u001B[0;32m     69\u001B[0m integrand \u001B[38;5;241m=\u001B[39m \u001B[38;5;28;01mlambda\u001B[39;00m x: np\u001B[38;5;241m.\u001B[39mprod(binom\u001B[38;5;241m.\u001B[39mpmf(d_g_arr, n_g_arr, p_g(x, w_g_arr, gamma_g_arr))) \u001B[38;5;241m*\u001B[39m prob_dens_func(x)\n\u001B[1;32m---> 71\u001B[0m result, _ \u001B[38;5;241m=\u001B[39m \u001B[43mquad\u001B[49m\u001B[43m(\u001B[49m\u001B[43mintegrand\u001B[49m\u001B[43m,\u001B[49m\u001B[43m \u001B[49m\u001B[38;5;241;43m-\u001B[39;49m\u001B[38;5;241;43m3\u001B[39;49m\u001B[43m,\u001B[49m\u001B[43m \u001B[49m\u001B[38;5;241;43m3\u001B[39;49m\u001B[43m)\u001B[49m\n\u001B[0;32m     73\u001B[0m \u001B[38;5;28;01mreturn\u001B[39;00m result\n",
      "File \u001B[1;32m~\\PycharmProjects\\VasicekPDModell\\venv\\lib\\site-packages\\scipy\\integrate\\_quadpack_py.py:464\u001B[0m, in \u001B[0;36mquad\u001B[1;34m(func, a, b, args, full_output, epsabs, epsrel, limit, points, weight, wvar, wopts, maxp1, limlst, complex_func)\u001B[0m\n\u001B[0;32m    461\u001B[0m     \u001B[38;5;28;01mreturn\u001B[39;00m retval\n\u001B[0;32m    463\u001B[0m \u001B[38;5;28;01mif\u001B[39;00m weight \u001B[38;5;129;01mis\u001B[39;00m \u001B[38;5;28;01mNone\u001B[39;00m:\n\u001B[1;32m--> 464\u001B[0m     retval \u001B[38;5;241m=\u001B[39m \u001B[43m_quad\u001B[49m\u001B[43m(\u001B[49m\u001B[43mfunc\u001B[49m\u001B[43m,\u001B[49m\u001B[43m \u001B[49m\u001B[43ma\u001B[49m\u001B[43m,\u001B[49m\u001B[43m \u001B[49m\u001B[43mb\u001B[49m\u001B[43m,\u001B[49m\u001B[43m \u001B[49m\u001B[43margs\u001B[49m\u001B[43m,\u001B[49m\u001B[43m \u001B[49m\u001B[43mfull_output\u001B[49m\u001B[43m,\u001B[49m\u001B[43m \u001B[49m\u001B[43mepsabs\u001B[49m\u001B[43m,\u001B[49m\u001B[43m \u001B[49m\u001B[43mepsrel\u001B[49m\u001B[43m,\u001B[49m\u001B[43m \u001B[49m\u001B[43mlimit\u001B[49m\u001B[43m,\u001B[49m\n\u001B[0;32m    465\u001B[0m \u001B[43m                   \u001B[49m\u001B[43mpoints\u001B[49m\u001B[43m)\u001B[49m\n\u001B[0;32m    466\u001B[0m \u001B[38;5;28;01melse\u001B[39;00m:\n\u001B[0;32m    467\u001B[0m     \u001B[38;5;28;01mif\u001B[39;00m points \u001B[38;5;129;01mis\u001B[39;00m \u001B[38;5;129;01mnot\u001B[39;00m \u001B[38;5;28;01mNone\u001B[39;00m:\n",
      "File \u001B[1;32m~\\PycharmProjects\\VasicekPDModell\\venv\\lib\\site-packages\\scipy\\integrate\\_quadpack_py.py:611\u001B[0m, in \u001B[0;36m_quad\u001B[1;34m(func, a, b, args, full_output, epsabs, epsrel, limit, points)\u001B[0m\n\u001B[0;32m    609\u001B[0m \u001B[38;5;28;01mif\u001B[39;00m points \u001B[38;5;129;01mis\u001B[39;00m \u001B[38;5;28;01mNone\u001B[39;00m:\n\u001B[0;32m    610\u001B[0m     \u001B[38;5;28;01mif\u001B[39;00m infbounds \u001B[38;5;241m==\u001B[39m \u001B[38;5;241m0\u001B[39m:\n\u001B[1;32m--> 611\u001B[0m         \u001B[38;5;28;01mreturn\u001B[39;00m \u001B[43m_quadpack\u001B[49m\u001B[38;5;241;43m.\u001B[39;49m\u001B[43m_qagse\u001B[49m\u001B[43m(\u001B[49m\u001B[43mfunc\u001B[49m\u001B[43m,\u001B[49m\u001B[43ma\u001B[49m\u001B[43m,\u001B[49m\u001B[43mb\u001B[49m\u001B[43m,\u001B[49m\u001B[43margs\u001B[49m\u001B[43m,\u001B[49m\u001B[43mfull_output\u001B[49m\u001B[43m,\u001B[49m\u001B[43mepsabs\u001B[49m\u001B[43m,\u001B[49m\u001B[43mepsrel\u001B[49m\u001B[43m,\u001B[49m\u001B[43mlimit\u001B[49m\u001B[43m)\u001B[49m\n\u001B[0;32m    612\u001B[0m     \u001B[38;5;28;01melse\u001B[39;00m:\n\u001B[0;32m    613\u001B[0m         \u001B[38;5;28;01mreturn\u001B[39;00m _quadpack\u001B[38;5;241m.\u001B[39m_qagie(func, bound, infbounds, args, full_output, \n\u001B[0;32m    614\u001B[0m                                 epsabs, epsrel, limit)\n",
      "File \u001B[1;32m~\\PycharmProjects\\VasicekPDModell\\src\\ML_estimation.py:69\u001B[0m, in \u001B[0;36mcalculate_my_likelihood_arr.<locals>.<lambda>\u001B[1;34m(x)\u001B[0m\n\u001B[0;32m     53\u001B[0m \u001B[38;5;28;01mdef\u001B[39;00m \u001B[38;5;21mcalculate_my_likelihood_arr\u001B[39m(d_g_arr, n_g_arr, p_g, prob_dens_func, w_g_arr, gamma_g_arr):\n\u001B[0;32m     54\u001B[0m \u001B[38;5;250m    \u001B[39m\u001B[38;5;124;03m\"\"\"\u001B[39;00m\n\u001B[0;32m     55\u001B[0m \u001B[38;5;124;03m    Numerically calculates the value of L(d_g_arr) for multiple grades based on the given formula.\u001B[39;00m\n\u001B[0;32m     56\u001B[0m \n\u001B[1;32m   (...)\u001B[0m\n\u001B[0;32m     66\u001B[0m \u001B[38;5;124;03m        float: Numerical approximation of the integral.\u001B[39;00m\n\u001B[0;32m     67\u001B[0m \u001B[38;5;124;03m    \"\"\"\u001B[39;00m\n\u001B[1;32m---> 69\u001B[0m     integrand \u001B[38;5;241m=\u001B[39m \u001B[38;5;28;01mlambda\u001B[39;00m x: np\u001B[38;5;241m.\u001B[39mprod(\u001B[43mbinom\u001B[49m\u001B[38;5;241;43m.\u001B[39;49m\u001B[43mpmf\u001B[49m\u001B[43m(\u001B[49m\u001B[43md_g_arr\u001B[49m\u001B[43m,\u001B[49m\u001B[43m \u001B[49m\u001B[43mn_g_arr\u001B[49m\u001B[43m,\u001B[49m\u001B[43m \u001B[49m\u001B[43mp_g\u001B[49m\u001B[43m(\u001B[49m\u001B[43mx\u001B[49m\u001B[43m,\u001B[49m\u001B[43m \u001B[49m\u001B[43mw_g_arr\u001B[49m\u001B[43m,\u001B[49m\u001B[43m \u001B[49m\u001B[43mgamma_g_arr\u001B[49m\u001B[43m)\u001B[49m\u001B[43m)\u001B[49m) \u001B[38;5;241m*\u001B[39m prob_dens_func(x)\n\u001B[0;32m     71\u001B[0m     result, _ \u001B[38;5;241m=\u001B[39m quad(integrand, \u001B[38;5;241m-\u001B[39m\u001B[38;5;241m3\u001B[39m, \u001B[38;5;241m3\u001B[39m)\n\u001B[0;32m     73\u001B[0m     \u001B[38;5;28;01mreturn\u001B[39;00m result\n",
      "File \u001B[1;32m~\\PycharmProjects\\VasicekPDModell\\venv\\lib\\site-packages\\scipy\\stats\\_distn_infrastructure.py:3378\u001B[0m, in \u001B[0;36mrv_discrete.pmf\u001B[1;34m(self, k, *args, **kwds)\u001B[0m\n\u001B[0;32m   3376\u001B[0m cond1 \u001B[38;5;241m=\u001B[39m (k \u001B[38;5;241m>\u001B[39m\u001B[38;5;241m=\u001B[39m _a) \u001B[38;5;241m&\u001B[39m (k \u001B[38;5;241m<\u001B[39m\u001B[38;5;241m=\u001B[39m _b)\n\u001B[0;32m   3377\u001B[0m \u001B[38;5;28;01mif\u001B[39;00m \u001B[38;5;129;01mnot\u001B[39;00m \u001B[38;5;28misinstance\u001B[39m(\u001B[38;5;28mself\u001B[39m, rv_sample):\n\u001B[1;32m-> 3378\u001B[0m     cond1 \u001B[38;5;241m=\u001B[39m cond1 \u001B[38;5;241m&\u001B[39m \u001B[38;5;28;43mself\u001B[39;49m\u001B[38;5;241;43m.\u001B[39;49m\u001B[43m_nonzero\u001B[49m\u001B[43m(\u001B[49m\u001B[43mk\u001B[49m\u001B[43m,\u001B[49m\u001B[43m \u001B[49m\u001B[38;5;241;43m*\u001B[39;49m\u001B[43margs\u001B[49m\u001B[43m)\u001B[49m\n\u001B[0;32m   3379\u001B[0m cond \u001B[38;5;241m=\u001B[39m cond0 \u001B[38;5;241m&\u001B[39m cond1\n\u001B[0;32m   3380\u001B[0m output \u001B[38;5;241m=\u001B[39m zeros(shape(cond), \u001B[38;5;124m'\u001B[39m\u001B[38;5;124md\u001B[39m\u001B[38;5;124m'\u001B[39m)\n",
      "File \u001B[1;32m~\\PycharmProjects\\VasicekPDModell\\venv\\lib\\site-packages\\scipy\\stats\\_distn_infrastructure.py:3285\u001B[0m, in \u001B[0;36mrv_discrete._nonzero\u001B[1;34m(self, k, *args)\u001B[0m\n\u001B[0;32m   3284\u001B[0m \u001B[38;5;28;01mdef\u001B[39;00m \u001B[38;5;21m_nonzero\u001B[39m(\u001B[38;5;28mself\u001B[39m, k, \u001B[38;5;241m*\u001B[39margs):\n\u001B[1;32m-> 3285\u001B[0m     \u001B[38;5;28;01mreturn\u001B[39;00m \u001B[43mfloor\u001B[49m\u001B[43m(\u001B[49m\u001B[43mk\u001B[49m\u001B[43m)\u001B[49m\u001B[43m \u001B[49m\u001B[38;5;241;43m==\u001B[39;49m\u001B[43m \u001B[49m\u001B[43mk\u001B[49m\n",
      "\u001B[1;31mKeyboardInterrupt\u001B[0m: "
     ]
    }
   ],
   "source": [
    "# Confidence interval for the ML parameter estimation\n",
    "list_of_len_ts = [20, 30, 80, 160]\n",
    "num_of_simulations = 100\n",
    "\n",
    "# Create a dictionary to store the results\n",
    "# make the keys of the dictionary the length of the time series\n",
    "results = {key: [] for key in list_of_len_ts}\n",
    "for _ in range(num_of_simulations):\n",
    "    for len_ts in list_of_len_ts:\n",
    "        default_list = generate_default_buckets(factor_loading_list,num_of_obligors_list, gamma_list, time_points=len_ts)\n",
    "        num_of_obligors_over_time = [x * len_ts for x in num_of_obligors_list]\n",
    "        d_g_arr = np.array(default_list)\n",
    "        n_g_arr = np.array(num_of_obligors_over_time)\n",
    "        gamma_g = norm.ppf(d_g_arr / n_g_arr)\n",
    "        initial_guess = np.array(gamma_g)\n",
    "        initial_guess = np.append(initial_guess, 0.45)\n",
    "        bounds = [(-5, 5), (-5, 5), (-5, 5), (-1, 1)]\n",
    "        objective_function = lambda params: -np.log(calculate_my_likelihood_arr(d_g_arr, n_g_arr, p_g, norm.pdf, \n",
    "                                                                 np.repeat(params[3], 3), \n",
    "                                                                 params[0:3]))\n",
    "        result = minimize(objective_function,\n",
    "                  initial_guess,\n",
    "                  method=\"Nelder-Mead\",\n",
    "                  bounds=bounds,\n",
    "                  options={\n",
    "                      'disp': False})\n",
    "        results[len_ts].append(result.x[3])"
   ],
   "metadata": {
    "collapsed": false,
    "ExecuteTime": {
     "end_time": "2024-03-23T21:09:14.330096500Z",
     "start_time": "2024-03-23T20:05:22.190449700Z"
    }
   },
   "id": "4021db6e36045a69"
  },
  {
   "cell_type": "code",
   "execution_count": 18,
   "outputs": [],
   "source": [
    "import csv\n",
    "\n",
    "# Fájl neve, amibe kiírod\n",
    "fajl_nev = \"adatok.csv\"\n",
    "\n",
    "# Kiírás CSV-be\n",
    "with open(fajl_nev, \"w\", newline=\"\") as csvfile:\n",
    "    csv_writer = csv.writer(csvfile)\n",
    "    for kulcs, ertek in results.items():\n",
    "        csv_writer.writerow([kulcs, ertek])"
   ],
   "metadata": {
    "collapsed": false,
    "ExecuteTime": {
     "end_time": "2024-03-25T14:44:21.568436100Z",
     "start_time": "2024-03-25T14:44:21.512433500Z"
    }
   },
   "id": "e1aefffc4dcde0f0"
  },
  {
   "cell_type": "code",
   "execution_count": 35,
   "outputs": [],
   "source": [
    "import csv\n",
    "file_name = \"data_variable_change.csv\"\n",
    "\n",
    "return_data = {}\n",
    "with open(file_name, \"r\", newline=\"\") as csvfile:\n",
    "    csv_reader = csv.reader(csvfile)\n",
    "    for row in csv_reader:\n",
    "        return_data[row[0]] = row[1]\n",
    "\n",
    "results = return_data"
   ],
   "metadata": {
    "collapsed": false,
    "ExecuteTime": {
     "end_time": "2024-03-25T14:46:12.255541500Z",
     "start_time": "2024-03-25T14:46:12.229540600Z"
    }
   },
   "id": "aca9a8b122384ad7"
  },
  {
   "cell_type": "code",
   "execution_count": 36,
   "outputs": [
    {
     "name": "stdout",
     "output_type": "stream",
     "text": [
      "<class 'dict'>\n",
      "dict_keys(['100', '200', '300', '500'])\n"
     ]
    }
   ],
   "source": [
    "print(type(results))\n",
    "print(results.keys())"
   ],
   "metadata": {
    "collapsed": false,
    "ExecuteTime": {
     "end_time": "2024-03-25T14:46:12.996552500Z",
     "start_time": "2024-03-25T14:46:12.945548900Z"
    }
   },
   "id": "ed91a4ce8a50fbb5"
  },
  {
   "cell_type": "code",
   "execution_count": 37,
   "outputs": [
    {
     "data": {
      "text/plain": "{'100': '[-3.954741676226937e-06, -4.169729787865443e-06, -2.2561185562170657e-05, 8.472309165690303e-06, -3.878210393467119e-05, 5.15501922976395e-06, 7.147475223844656e-06, 1.6333932857067317e-05, 2.4238871395438084e-05, -2.430668682814424e-06]',\n '200': '[0.2596942429758074, -1.9984866692475695e-05, -3.661882514874846e-05, 1.4336196733970221e-05, -1.173912710743653e-05, 0.46293277796209376, -4.1410029609961255e-06, -0.03478601988220862, 0.45471911255550934, -0.018755188533190692]',\n '300': '[0.44770750990613767, 0.46105002822318286, 0.038636172212812514, 0.44878729199229284, 0.4527353288824286, 0.3778998767705431, 0.4467530597305152, 0.45317294122015234, 0.45158992427371086, -7.511229378146125e-06]',\n '500': '[0.4525865380784997, 0.473848617511862, 0.46350575090299184, -0.0030051004515318177, -4.774504982658473e-06, 0.45142113909798204, 0.45260120468632203, 0.4377342192663827, 0.44703355663224165, 1.227431946423175e-05]'}"
     },
     "execution_count": 37,
     "metadata": {},
     "output_type": "execute_result"
    }
   ],
   "source": [
    "results"
   ],
   "metadata": {
    "collapsed": false,
    "ExecuteTime": {
     "end_time": "2024-03-25T14:46:14.782723300Z",
     "start_time": "2024-03-25T14:46:14.754724200Z"
    }
   },
   "id": "8d6dc0f1d16b2fbe"
  },
  {
   "cell_type": "code",
   "execution_count": 38,
   "outputs": [
    {
     "data": {
      "text/plain": "[-1.0550821771944338e-06,\n 0.11237467774528354,\n 0.3578324621982398,\n 0.3175733425539232]"
     },
     "execution_count": 38,
     "metadata": {},
     "output_type": "execute_result"
    }
   ],
   "source": [
    "# A dictionary értékeinek átalakítása listákká\n",
    "for key, value in results.items():\n",
    "    # Eltávolítjuk a '[' és ']' karaktereket, majd szóközök mentén szétválasztjuk az elemeket\n",
    "    value_list = value.strip('[]').split(', ')\n",
    "    # Az így kapott stringeket int számmá alakítjuk\n",
    "    value_list = [float(num_str) for num_str in value_list]\n",
    "    # Az eredményt frissítjük az új listával\n",
    "    results[key] = value_list\n",
    "\n",
    "x = list(results.keys())\n",
    "y_mean = [np.mean(results[key]) for key in x]\n",
    "\n",
    "y_mean"
   ],
   "metadata": {
    "collapsed": false,
    "ExecuteTime": {
     "end_time": "2024-03-25T14:46:15.776659100Z",
     "start_time": "2024-03-25T14:46:15.701655Z"
    }
   },
   "id": "d1272a76e879f9db"
  },
  {
   "cell_type": "code",
   "execution_count": null,
   "outputs": [],
   "source": [
    "# To-do: make a module for optimization which gives back 2 list of parameters: one for the factor_loading and one for the gamma\n",
    "# Then use these parameters to make the confidence interval, dict['len_ts']['grade']['factor_loading'] = list of factor_loadings\n",
    "# Make it with MM and 3 type ML"
   ],
   "metadata": {
    "collapsed": false,
    "ExecuteTime": {
     "start_time": "2024-03-23T21:09:14.326104Z"
    }
   },
   "id": "22f3799987507776"
  },
  {
   "cell_type": "code",
   "execution_count": 3,
   "outputs": [],
   "source": [
    "import numpy as np\n",
    "from src.ML_estimation import gen_data_and_mle"
   ],
   "metadata": {
    "collapsed": false,
    "ExecuteTime": {
     "end_time": "2024-03-29T09:16:45.712821400Z",
     "start_time": "2024-03-29T09:16:45.668819Z"
    }
   },
   "id": "37c943a24e32bd8b"
  },
  {
   "cell_type": "code",
   "execution_count": 16,
   "outputs": [],
   "source": [
    "np.random.seed(42)\n",
    "time_horizon = 40\n",
    "factor_loading_list = [0.45, 0.45, 0.45]\n",
    "num_of_obligors_list = [3000, 3000, 3000]\n",
    "gamma_list = [-2.9, -2.3, -1.6]\n",
    "factor_loading_init = [0.447]\n",
    "gamma_list_init = [-2.91, -2.29, -1.603]"
   ],
   "metadata": {
    "collapsed": false,
    "ExecuteTime": {
     "end_time": "2024-03-29T09:24:14.110009700Z",
     "start_time": "2024-03-29T09:24:14.049006800Z"
    }
   },
   "id": "d23cccd8a7226fa"
  },
  {
   "cell_type": "code",
   "execution_count": 17,
   "outputs": [],
   "source": [
    "results_20 = {}\n",
    "\n",
    "for i in range(100):\n",
    "    temp_result_20 = gen_data_and_mle(time_horizon, num_of_obligors_list, factor_loading_list, gamma_list, factor_loading_init, gamma_list_init)\n",
    "    results_20[i] = temp_result_20"
   ],
   "metadata": {
    "collapsed": false,
    "ExecuteTime": {
     "end_time": "2024-03-29T09:41:55.179258800Z",
     "start_time": "2024-03-29T09:24:14.435039900Z"
    }
   },
   "id": "ad3f722dd9128e9e"
  },
  {
   "cell_type": "code",
   "execution_count": 18,
   "outputs": [],
   "source": [
    "results_30 = {}\n",
    "\n",
    "for i in range(100):\n",
    "    temp_result_30 = gen_data_and_mle(time_horizon, num_of_obligors_list, factor_loading_list, gamma_list, factor_loading_init, gamma_list_init)\n",
    "    results_30[i] = temp_result_30"
   ],
   "metadata": {
    "collapsed": false,
    "ExecuteTime": {
     "end_time": "2024-03-29T09:56:32.750405600Z",
     "start_time": "2024-03-29T09:41:55.186492400Z"
    }
   },
   "id": "3b3e5e015ceb415b"
  },
  {
   "cell_type": "code",
   "execution_count": 19,
   "outputs": [],
   "source": [
    "results_80 = {}\n",
    "\n",
    "for j in range(100):\n",
    "    temp_result_80 = gen_data_and_mle(time_horizon, num_of_obligors_list, factor_loading_list, gamma_list, factor_loading_init, gamma_list_init)\n",
    "    results_80[j] = temp_result_80"
   ],
   "metadata": {
    "collapsed": false,
    "ExecuteTime": {
     "end_time": "2024-03-29T10:11:25.530995300Z",
     "start_time": "2024-03-29T09:56:32.759836200Z"
    }
   },
   "id": "9de3f14d3745e2c6"
  },
  {
   "cell_type": "code",
   "execution_count": 20,
   "outputs": [
    {
     "name": "stderr",
     "output_type": "stream",
     "text": [
      "C:\\Users\\kissp\\PycharmProjects\\VasicekPDModell\\src\\ML_estimation.py:185: RuntimeWarning: divide by zero encountered in log\n",
      "  objective_function = lambda params: -np.log(calculate_my_likelihood_arr(\n"
     ]
    }
   ],
   "source": [
    "results_160 = {}\n",
    "\n",
    "for k in range(100):\n",
    "    temp_result_160 = gen_data_and_mle(time_horizon, num_of_obligors_list, factor_loading_list, gamma_list, factor_loading_init, gamma_list_init)\n",
    "    results_160[k] = temp_result_160"
   ],
   "metadata": {
    "collapsed": false,
    "ExecuteTime": {
     "end_time": "2024-03-29T10:25:08.546545Z",
     "start_time": "2024-03-29T10:11:25.537992200Z"
    }
   },
   "id": "2e033230c967f73c"
  },
  {
   "cell_type": "code",
   "execution_count": 33,
   "outputs": [
    {
     "data": {
      "text/plain": "    n_1   n_2   n_3     d_1     d_2     d_3   gamma_1   gamma_2   gamma_3  \\\n0   229  1463  7658  120000  120000  120000 -2.887546 -2.310271 -1.657103   \n1   190  1254  6033  120000  120000  120000 -2.833405 -2.268432 -1.691011   \n2   145   863  4745  120000  120000  120000 -2.853263 -2.316683 -1.684086   \n3    96   793  4842  120000  120000  120000 -3.155902 -2.477885 -1.746632   \n4   189  1173  6364  120000  120000  120000 -2.805871 -2.302503 -1.658749   \n..  ...   ...   ...     ...     ...     ...       ...       ...       ...   \n95  312  1473  6621  120000  120000  120000 -2.852491 -2.338523 -1.726982   \n96  145   935  5319  120000  120000  120000 -2.848695 -2.298218 -1.660059   \n97  230  1488  7106  120000  120000  120000  -2.92894 -2.329483 -1.695454   \n98  228  1177  6272  120000  120000  120000 -2.816055 -2.308758  -1.67856   \n99  237  1508  7157  120000  120000  120000 -2.868495 -2.292157 -1.681108   \n\n   factor_loading  \n0        0.439794  \n1        0.444289  \n2        0.403444  \n3        0.000025  \n4        0.453551  \n..            ...  \n95       0.349297  \n96       0.450858  \n97       0.371515  \n98       0.445831  \n99       0.442925  \n\n[100 rows x 10 columns]",
      "text/html": "<div>\n<style scoped>\n    .dataframe tbody tr th:only-of-type {\n        vertical-align: middle;\n    }\n\n    .dataframe tbody tr th {\n        vertical-align: top;\n    }\n\n    .dataframe thead th {\n        text-align: right;\n    }\n</style>\n<table border=\"1\" class=\"dataframe\">\n  <thead>\n    <tr style=\"text-align: right;\">\n      <th></th>\n      <th>n_1</th>\n      <th>n_2</th>\n      <th>n_3</th>\n      <th>d_1</th>\n      <th>d_2</th>\n      <th>d_3</th>\n      <th>gamma_1</th>\n      <th>gamma_2</th>\n      <th>gamma_3</th>\n      <th>factor_loading</th>\n    </tr>\n  </thead>\n  <tbody>\n    <tr>\n      <th>0</th>\n      <td>229</td>\n      <td>1463</td>\n      <td>7658</td>\n      <td>120000</td>\n      <td>120000</td>\n      <td>120000</td>\n      <td>-2.887546</td>\n      <td>-2.310271</td>\n      <td>-1.657103</td>\n      <td>0.439794</td>\n    </tr>\n    <tr>\n      <th>1</th>\n      <td>190</td>\n      <td>1254</td>\n      <td>6033</td>\n      <td>120000</td>\n      <td>120000</td>\n      <td>120000</td>\n      <td>-2.833405</td>\n      <td>-2.268432</td>\n      <td>-1.691011</td>\n      <td>0.444289</td>\n    </tr>\n    <tr>\n      <th>2</th>\n      <td>145</td>\n      <td>863</td>\n      <td>4745</td>\n      <td>120000</td>\n      <td>120000</td>\n      <td>120000</td>\n      <td>-2.853263</td>\n      <td>-2.316683</td>\n      <td>-1.684086</td>\n      <td>0.403444</td>\n    </tr>\n    <tr>\n      <th>3</th>\n      <td>96</td>\n      <td>793</td>\n      <td>4842</td>\n      <td>120000</td>\n      <td>120000</td>\n      <td>120000</td>\n      <td>-3.155902</td>\n      <td>-2.477885</td>\n      <td>-1.746632</td>\n      <td>0.000025</td>\n    </tr>\n    <tr>\n      <th>4</th>\n      <td>189</td>\n      <td>1173</td>\n      <td>6364</td>\n      <td>120000</td>\n      <td>120000</td>\n      <td>120000</td>\n      <td>-2.805871</td>\n      <td>-2.302503</td>\n      <td>-1.658749</td>\n      <td>0.453551</td>\n    </tr>\n    <tr>\n      <th>...</th>\n      <td>...</td>\n      <td>...</td>\n      <td>...</td>\n      <td>...</td>\n      <td>...</td>\n      <td>...</td>\n      <td>...</td>\n      <td>...</td>\n      <td>...</td>\n      <td>...</td>\n    </tr>\n    <tr>\n      <th>95</th>\n      <td>312</td>\n      <td>1473</td>\n      <td>6621</td>\n      <td>120000</td>\n      <td>120000</td>\n      <td>120000</td>\n      <td>-2.852491</td>\n      <td>-2.338523</td>\n      <td>-1.726982</td>\n      <td>0.349297</td>\n    </tr>\n    <tr>\n      <th>96</th>\n      <td>145</td>\n      <td>935</td>\n      <td>5319</td>\n      <td>120000</td>\n      <td>120000</td>\n      <td>120000</td>\n      <td>-2.848695</td>\n      <td>-2.298218</td>\n      <td>-1.660059</td>\n      <td>0.450858</td>\n    </tr>\n    <tr>\n      <th>97</th>\n      <td>230</td>\n      <td>1488</td>\n      <td>7106</td>\n      <td>120000</td>\n      <td>120000</td>\n      <td>120000</td>\n      <td>-2.92894</td>\n      <td>-2.329483</td>\n      <td>-1.695454</td>\n      <td>0.371515</td>\n    </tr>\n    <tr>\n      <th>98</th>\n      <td>228</td>\n      <td>1177</td>\n      <td>6272</td>\n      <td>120000</td>\n      <td>120000</td>\n      <td>120000</td>\n      <td>-2.816055</td>\n      <td>-2.308758</td>\n      <td>-1.67856</td>\n      <td>0.445831</td>\n    </tr>\n    <tr>\n      <th>99</th>\n      <td>237</td>\n      <td>1508</td>\n      <td>7157</td>\n      <td>120000</td>\n      <td>120000</td>\n      <td>120000</td>\n      <td>-2.868495</td>\n      <td>-2.292157</td>\n      <td>-1.681108</td>\n      <td>0.442925</td>\n    </tr>\n  </tbody>\n</table>\n<p>100 rows × 10 columns</p>\n</div>"
     },
     "execution_count": 33,
     "metadata": {},
     "output_type": "execute_result"
    }
   ],
   "source": [
    "import pandas as pd\n",
    "df_20 = pd.DataFrame(columns=[\"n_1\", \"n_2\", \"n_3\", \"d_1\", \"d_2\", \"d_3\", \"gamma_1\", \"gamma_2\", \"gamma_3\", \"factor_loading\"],\n",
    "                  index=range(100))\n",
    "\n",
    "for i in range(100):\n",
    "    df_20.loc[i, \"n_1\"] = list(results_20.values())[i][0][0]\n",
    "    df_20.loc[i, \"n_2\"] = list(results_20.values())[i][0][1]\n",
    "    df_20.loc[i, \"n_3\"] = list(results_20.values())[i][0][2]\n",
    "    df_20.loc[i, \"d_1\"] = list(results_20.values())[i][1][0]\n",
    "    df_20.loc[i, \"d_2\"] = list(results_20.values())[i][1][1]\n",
    "    df_20.loc[i, \"d_3\"] = list(results_20.values())[i][1][2]\n",
    "    df_20.loc[i, \"gamma_1\"] = list(results_20.values())[i][2][0]\n",
    "    df_20.loc[i, \"gamma_2\"] = list(results_20.values())[i][2][1]\n",
    "    df_20.loc[i, \"gamma_3\"] = list(results_20.values())[i][2][2]\n",
    "    df_20.loc[i, \"factor_loading\"] = list(results_20.values())[i][2][3]\n",
    "    \n",
    "df_20.to_csv(\"data\\conf_interval_data_20_same_w.csv\")\n",
    "\n",
    "df_20"
   ],
   "metadata": {
    "collapsed": false,
    "ExecuteTime": {
     "end_time": "2024-03-29T11:12:56.416528800Z",
     "start_time": "2024-03-29T11:12:56.240512300Z"
    }
   },
   "id": "b0ffe9450ff35ee9"
  },
  {
   "cell_type": "code",
   "execution_count": 34,
   "outputs": [
    {
     "data": {
      "text/plain": "    n_1   n_2   n_3     d_1     d_2     d_3   gamma_1   gamma_2   gamma_3  \\\n0   246  1270  6370  120000  120000  120000 -2.805073 -2.273137 -1.655536   \n1   437  2134  9214  120000  120000  120000 -2.782218 -2.270427 -1.662151   \n2   201  1288  7095  120000  120000  120000 -2.894009 -2.285426 -1.615283   \n3   225  1241  6097  120000  120000  120000 -2.833907 -2.279439 -1.672823   \n4   306  1593  7699  120000  120000  120000 -2.805631 -2.278673 -1.649088   \n..  ...   ...   ...     ...     ...     ...       ...       ...       ...   \n95  123   803  5052  120000  120000  120000 -2.964792 -2.395311 -1.697616   \n96  124   958  5408  120000  120000  120000 -2.897782 -2.297013 -1.656601   \n97  383  1719  7399  120000  120000  120000 -2.728007 -2.227864 -1.670403   \n98  208  1217  6605  120000  120000  120000 -2.850059 -2.298735 -1.646592   \n99  249  1458  7211  120000  120000  120000 -2.893811 -2.321313 -1.687115   \n\n   factor_loading  \n0        0.462126  \n1        0.449487  \n2        0.434472  \n3        0.461303  \n4        0.450057  \n..            ...  \n95       0.357093  \n96       0.444024  \n97       0.461455  \n98         0.4552  \n99       0.440088  \n\n[100 rows x 10 columns]",
      "text/html": "<div>\n<style scoped>\n    .dataframe tbody tr th:only-of-type {\n        vertical-align: middle;\n    }\n\n    .dataframe tbody tr th {\n        vertical-align: top;\n    }\n\n    .dataframe thead th {\n        text-align: right;\n    }\n</style>\n<table border=\"1\" class=\"dataframe\">\n  <thead>\n    <tr style=\"text-align: right;\">\n      <th></th>\n      <th>n_1</th>\n      <th>n_2</th>\n      <th>n_3</th>\n      <th>d_1</th>\n      <th>d_2</th>\n      <th>d_3</th>\n      <th>gamma_1</th>\n      <th>gamma_2</th>\n      <th>gamma_3</th>\n      <th>factor_loading</th>\n    </tr>\n  </thead>\n  <tbody>\n    <tr>\n      <th>0</th>\n      <td>246</td>\n      <td>1270</td>\n      <td>6370</td>\n      <td>120000</td>\n      <td>120000</td>\n      <td>120000</td>\n      <td>-2.805073</td>\n      <td>-2.273137</td>\n      <td>-1.655536</td>\n      <td>0.462126</td>\n    </tr>\n    <tr>\n      <th>1</th>\n      <td>437</td>\n      <td>2134</td>\n      <td>9214</td>\n      <td>120000</td>\n      <td>120000</td>\n      <td>120000</td>\n      <td>-2.782218</td>\n      <td>-2.270427</td>\n      <td>-1.662151</td>\n      <td>0.449487</td>\n    </tr>\n    <tr>\n      <th>2</th>\n      <td>201</td>\n      <td>1288</td>\n      <td>7095</td>\n      <td>120000</td>\n      <td>120000</td>\n      <td>120000</td>\n      <td>-2.894009</td>\n      <td>-2.285426</td>\n      <td>-1.615283</td>\n      <td>0.434472</td>\n    </tr>\n    <tr>\n      <th>3</th>\n      <td>225</td>\n      <td>1241</td>\n      <td>6097</td>\n      <td>120000</td>\n      <td>120000</td>\n      <td>120000</td>\n      <td>-2.833907</td>\n      <td>-2.279439</td>\n      <td>-1.672823</td>\n      <td>0.461303</td>\n    </tr>\n    <tr>\n      <th>4</th>\n      <td>306</td>\n      <td>1593</td>\n      <td>7699</td>\n      <td>120000</td>\n      <td>120000</td>\n      <td>120000</td>\n      <td>-2.805631</td>\n      <td>-2.278673</td>\n      <td>-1.649088</td>\n      <td>0.450057</td>\n    </tr>\n    <tr>\n      <th>...</th>\n      <td>...</td>\n      <td>...</td>\n      <td>...</td>\n      <td>...</td>\n      <td>...</td>\n      <td>...</td>\n      <td>...</td>\n      <td>...</td>\n      <td>...</td>\n      <td>...</td>\n    </tr>\n    <tr>\n      <th>95</th>\n      <td>123</td>\n      <td>803</td>\n      <td>5052</td>\n      <td>120000</td>\n      <td>120000</td>\n      <td>120000</td>\n      <td>-2.964792</td>\n      <td>-2.395311</td>\n      <td>-1.697616</td>\n      <td>0.357093</td>\n    </tr>\n    <tr>\n      <th>96</th>\n      <td>124</td>\n      <td>958</td>\n      <td>5408</td>\n      <td>120000</td>\n      <td>120000</td>\n      <td>120000</td>\n      <td>-2.897782</td>\n      <td>-2.297013</td>\n      <td>-1.656601</td>\n      <td>0.444024</td>\n    </tr>\n    <tr>\n      <th>97</th>\n      <td>383</td>\n      <td>1719</td>\n      <td>7399</td>\n      <td>120000</td>\n      <td>120000</td>\n      <td>120000</td>\n      <td>-2.728007</td>\n      <td>-2.227864</td>\n      <td>-1.670403</td>\n      <td>0.461455</td>\n    </tr>\n    <tr>\n      <th>98</th>\n      <td>208</td>\n      <td>1217</td>\n      <td>6605</td>\n      <td>120000</td>\n      <td>120000</td>\n      <td>120000</td>\n      <td>-2.850059</td>\n      <td>-2.298735</td>\n      <td>-1.646592</td>\n      <td>0.4552</td>\n    </tr>\n    <tr>\n      <th>99</th>\n      <td>249</td>\n      <td>1458</td>\n      <td>7211</td>\n      <td>120000</td>\n      <td>120000</td>\n      <td>120000</td>\n      <td>-2.893811</td>\n      <td>-2.321313</td>\n      <td>-1.687115</td>\n      <td>0.440088</td>\n    </tr>\n  </tbody>\n</table>\n<p>100 rows × 10 columns</p>\n</div>"
     },
     "execution_count": 34,
     "metadata": {},
     "output_type": "execute_result"
    }
   ],
   "source": [
    "df_30 = pd.DataFrame(columns=[\"n_1\", \"n_2\", \"n_3\", \"d_1\", \"d_2\", \"d_3\", \"gamma_1\", \"gamma_2\", \"gamma_3\", \"factor_loading\"],\n",
    "                  index=range(100))\n",
    "\n",
    "for i in range(100):\n",
    "    df_30.loc[i, \"n_1\"] = list(results_30.values())[i][0][0]\n",
    "    df_30.loc[i, \"n_2\"] = list(results_30.values())[i][0][1]\n",
    "    df_30.loc[i, \"n_3\"] = list(results_30.values())[i][0][2]\n",
    "    df_30.loc[i, \"d_1\"] = list(results_30.values())[i][1][0]\n",
    "    df_30.loc[i, \"d_2\"] = list(results_30.values())[i][1][1]\n",
    "    df_30.loc[i, \"d_3\"] = list(results_30.values())[i][1][2]\n",
    "    df_30.loc[i, \"gamma_1\"] = list(results_30.values())[i][2][0]\n",
    "    df_30.loc[i, \"gamma_2\"] = list(results_30.values())[i][2][1]\n",
    "    df_30.loc[i, \"gamma_3\"] = list(results_30.values())[i][2][2]\n",
    "    df_30.loc[i, \"factor_loading\"] = list(results_30.values())[i][2][3]\n",
    "    \n",
    "df_30.to_csv(\"data\\conf_interval_data_30_same_w.csv\")\n",
    "\n",
    "df_30"
   ],
   "metadata": {
    "collapsed": false,
    "ExecuteTime": {
     "end_time": "2024-03-29T11:13:10.093367Z",
     "start_time": "2024-03-29T11:13:09.979358100Z"
    }
   },
   "id": "f0e9dac26b2982be"
  },
  {
   "cell_type": "code",
   "execution_count": 35,
   "outputs": [
    {
     "data": {
      "text/plain": "    n_1   n_2   n_3     d_1     d_2     d_3   gamma_1   gamma_2   gamma_3  \\\n0   257  1350  7005  120000  120000  120000 -2.923418 -2.377426 -1.696822   \n1   248  1359  7066  120000  120000  120000 -2.822823 -2.296848 -1.692903   \n2   148  1102  5989  120000  120000  120000 -2.899024 -2.305122 -1.689689   \n3   331  1776  7976  120000  120000  120000 -2.755831 -2.211928 -1.630843   \n4   148   953  5275  120000  120000  120000 -2.872904 -2.314335 -1.676439   \n..  ...   ...   ...     ...     ...     ...       ...       ...       ...   \n95  175  1174  6478  120000  120000  120000 -2.876449 -2.289899 -1.662436   \n96  286  1592  7955  120000  120000  120000 -2.790381 -2.267463 -1.637327   \n97  151  1014  5533  120000  120000  120000 -2.852891 -2.283943 -1.650181   \n98  179  1166  6308  120000  120000  120000 -2.888353 -2.302411 -1.653115   \n99  192  1045  5593  120000  120000  120000 -2.797998 -2.281444 -1.649854   \n\n   factor_loading  \n0        0.301176  \n1        0.484026  \n2        0.446171  \n3        0.472405  \n4         0.42548  \n..            ...  \n95       0.444557  \n96       0.458601  \n97       0.437528  \n98       0.447605  \n99       0.428547  \n\n[100 rows x 10 columns]",
      "text/html": "<div>\n<style scoped>\n    .dataframe tbody tr th:only-of-type {\n        vertical-align: middle;\n    }\n\n    .dataframe tbody tr th {\n        vertical-align: top;\n    }\n\n    .dataframe thead th {\n        text-align: right;\n    }\n</style>\n<table border=\"1\" class=\"dataframe\">\n  <thead>\n    <tr style=\"text-align: right;\">\n      <th></th>\n      <th>n_1</th>\n      <th>n_2</th>\n      <th>n_3</th>\n      <th>d_1</th>\n      <th>d_2</th>\n      <th>d_3</th>\n      <th>gamma_1</th>\n      <th>gamma_2</th>\n      <th>gamma_3</th>\n      <th>factor_loading</th>\n    </tr>\n  </thead>\n  <tbody>\n    <tr>\n      <th>0</th>\n      <td>257</td>\n      <td>1350</td>\n      <td>7005</td>\n      <td>120000</td>\n      <td>120000</td>\n      <td>120000</td>\n      <td>-2.923418</td>\n      <td>-2.377426</td>\n      <td>-1.696822</td>\n      <td>0.301176</td>\n    </tr>\n    <tr>\n      <th>1</th>\n      <td>248</td>\n      <td>1359</td>\n      <td>7066</td>\n      <td>120000</td>\n      <td>120000</td>\n      <td>120000</td>\n      <td>-2.822823</td>\n      <td>-2.296848</td>\n      <td>-1.692903</td>\n      <td>0.484026</td>\n    </tr>\n    <tr>\n      <th>2</th>\n      <td>148</td>\n      <td>1102</td>\n      <td>5989</td>\n      <td>120000</td>\n      <td>120000</td>\n      <td>120000</td>\n      <td>-2.899024</td>\n      <td>-2.305122</td>\n      <td>-1.689689</td>\n      <td>0.446171</td>\n    </tr>\n    <tr>\n      <th>3</th>\n      <td>331</td>\n      <td>1776</td>\n      <td>7976</td>\n      <td>120000</td>\n      <td>120000</td>\n      <td>120000</td>\n      <td>-2.755831</td>\n      <td>-2.211928</td>\n      <td>-1.630843</td>\n      <td>0.472405</td>\n    </tr>\n    <tr>\n      <th>4</th>\n      <td>148</td>\n      <td>953</td>\n      <td>5275</td>\n      <td>120000</td>\n      <td>120000</td>\n      <td>120000</td>\n      <td>-2.872904</td>\n      <td>-2.314335</td>\n      <td>-1.676439</td>\n      <td>0.42548</td>\n    </tr>\n    <tr>\n      <th>...</th>\n      <td>...</td>\n      <td>...</td>\n      <td>...</td>\n      <td>...</td>\n      <td>...</td>\n      <td>...</td>\n      <td>...</td>\n      <td>...</td>\n      <td>...</td>\n      <td>...</td>\n    </tr>\n    <tr>\n      <th>95</th>\n      <td>175</td>\n      <td>1174</td>\n      <td>6478</td>\n      <td>120000</td>\n      <td>120000</td>\n      <td>120000</td>\n      <td>-2.876449</td>\n      <td>-2.289899</td>\n      <td>-1.662436</td>\n      <td>0.444557</td>\n    </tr>\n    <tr>\n      <th>96</th>\n      <td>286</td>\n      <td>1592</td>\n      <td>7955</td>\n      <td>120000</td>\n      <td>120000</td>\n      <td>120000</td>\n      <td>-2.790381</td>\n      <td>-2.267463</td>\n      <td>-1.637327</td>\n      <td>0.458601</td>\n    </tr>\n    <tr>\n      <th>97</th>\n      <td>151</td>\n      <td>1014</td>\n      <td>5533</td>\n      <td>120000</td>\n      <td>120000</td>\n      <td>120000</td>\n      <td>-2.852891</td>\n      <td>-2.283943</td>\n      <td>-1.650181</td>\n      <td>0.437528</td>\n    </tr>\n    <tr>\n      <th>98</th>\n      <td>179</td>\n      <td>1166</td>\n      <td>6308</td>\n      <td>120000</td>\n      <td>120000</td>\n      <td>120000</td>\n      <td>-2.888353</td>\n      <td>-2.302411</td>\n      <td>-1.653115</td>\n      <td>0.447605</td>\n    </tr>\n    <tr>\n      <th>99</th>\n      <td>192</td>\n      <td>1045</td>\n      <td>5593</td>\n      <td>120000</td>\n      <td>120000</td>\n      <td>120000</td>\n      <td>-2.797998</td>\n      <td>-2.281444</td>\n      <td>-1.649854</td>\n      <td>0.428547</td>\n    </tr>\n  </tbody>\n</table>\n<p>100 rows × 10 columns</p>\n</div>"
     },
     "execution_count": 35,
     "metadata": {},
     "output_type": "execute_result"
    }
   ],
   "source": [
    "df_80 = pd.DataFrame(columns=[\"n_1\", \"n_2\", \"n_3\", \"d_1\", \"d_2\", \"d_3\", \"gamma_1\", \"gamma_2\", \"gamma_3\", \"factor_loading\"],\n",
    "                  index=range(100))\n",
    "\n",
    "for i in range(100):\n",
    "    df_80.loc[i, \"n_1\"] = list(results_80.values())[i][0][0]\n",
    "    df_80.loc[i, \"n_2\"] = list(results_80.values())[i][0][1]\n",
    "    df_80.loc[i, \"n_3\"] = list(results_80.values())[i][0][2]\n",
    "    df_80.loc[i, \"d_1\"] = list(results_80.values())[i][1][0]\n",
    "    df_80.loc[i, \"d_2\"] = list(results_80.values())[i][1][1]\n",
    "    df_80.loc[i, \"d_3\"] = list(results_80.values())[i][1][2]\n",
    "    df_80.loc[i, \"gamma_1\"] = list(results_80.values())[i][2][0]\n",
    "    df_80.loc[i, \"gamma_2\"] = list(results_80.values())[i][2][1]\n",
    "    df_80.loc[i, \"gamma_3\"] = list(results_80.values())[i][2][2]\n",
    "    df_80.loc[i, \"factor_loading\"] = list(results_80.values())[i][2][3]\n",
    "\n",
    "df_80.to_csv(\"data\\conf_interval_data_80_same_w.csv\")\n",
    "\n",
    "df_80"
   ],
   "metadata": {
    "collapsed": false,
    "ExecuteTime": {
     "end_time": "2024-03-29T11:13:41.590656700Z",
     "start_time": "2024-03-29T11:13:41.488223800Z"
    }
   },
   "id": "a6d64fb7449e612f"
  },
  {
   "cell_type": "code",
   "execution_count": 36,
   "outputs": [
    {
     "data": {
      "text/plain": "    n_1   n_2   n_3     d_1     d_2     d_3   gamma_1   gamma_2   gamma_3  \\\n0   256  1510  7273  120000  120000  120000 -2.920166 -2.334042 -1.680831   \n1   236  1336  7082  120000  120000  120000 -2.943749 -2.354543 -1.700049   \n2   425  2056  9054  120000  120000  120000 -2.778483 -2.277189 -1.665475   \n3   267  1560  7770  120000  120000  120000 -2.865096 -2.276609 -1.644755   \n4   319  1676  7778  120000  120000  120000 -2.790409 -2.267502 -1.641809   \n..  ...   ...   ...     ...     ...     ...       ...       ...       ...   \n95  330  1556  6910  120000  120000  120000 -2.786366 -2.280067 -1.693771   \n96  201  1118  6334  120000  120000  120000 -2.840749 -2.294222 -1.659374   \n97  186  1155  5870  120000  120000  120000  -2.89092 -2.304397 -1.709123   \n98  237  1384  7285  120000  120000  120000 -2.952817 -2.368516 -1.676613   \n99  371  1953  9149  120000  120000  120000 -2.819722 -2.285635 -1.668866   \n\n   factor_loading  \n0        0.318985  \n1        0.396032  \n2        0.448558  \n3        0.453079  \n4        0.456862  \n..            ...  \n95       0.456966  \n96       0.452229  \n97       0.434826  \n98       0.293023  \n99        0.45547  \n\n[100 rows x 10 columns]",
      "text/html": "<div>\n<style scoped>\n    .dataframe tbody tr th:only-of-type {\n        vertical-align: middle;\n    }\n\n    .dataframe tbody tr th {\n        vertical-align: top;\n    }\n\n    .dataframe thead th {\n        text-align: right;\n    }\n</style>\n<table border=\"1\" class=\"dataframe\">\n  <thead>\n    <tr style=\"text-align: right;\">\n      <th></th>\n      <th>n_1</th>\n      <th>n_2</th>\n      <th>n_3</th>\n      <th>d_1</th>\n      <th>d_2</th>\n      <th>d_3</th>\n      <th>gamma_1</th>\n      <th>gamma_2</th>\n      <th>gamma_3</th>\n      <th>factor_loading</th>\n    </tr>\n  </thead>\n  <tbody>\n    <tr>\n      <th>0</th>\n      <td>256</td>\n      <td>1510</td>\n      <td>7273</td>\n      <td>120000</td>\n      <td>120000</td>\n      <td>120000</td>\n      <td>-2.920166</td>\n      <td>-2.334042</td>\n      <td>-1.680831</td>\n      <td>0.318985</td>\n    </tr>\n    <tr>\n      <th>1</th>\n      <td>236</td>\n      <td>1336</td>\n      <td>7082</td>\n      <td>120000</td>\n      <td>120000</td>\n      <td>120000</td>\n      <td>-2.943749</td>\n      <td>-2.354543</td>\n      <td>-1.700049</td>\n      <td>0.396032</td>\n    </tr>\n    <tr>\n      <th>2</th>\n      <td>425</td>\n      <td>2056</td>\n      <td>9054</td>\n      <td>120000</td>\n      <td>120000</td>\n      <td>120000</td>\n      <td>-2.778483</td>\n      <td>-2.277189</td>\n      <td>-1.665475</td>\n      <td>0.448558</td>\n    </tr>\n    <tr>\n      <th>3</th>\n      <td>267</td>\n      <td>1560</td>\n      <td>7770</td>\n      <td>120000</td>\n      <td>120000</td>\n      <td>120000</td>\n      <td>-2.865096</td>\n      <td>-2.276609</td>\n      <td>-1.644755</td>\n      <td>0.453079</td>\n    </tr>\n    <tr>\n      <th>4</th>\n      <td>319</td>\n      <td>1676</td>\n      <td>7778</td>\n      <td>120000</td>\n      <td>120000</td>\n      <td>120000</td>\n      <td>-2.790409</td>\n      <td>-2.267502</td>\n      <td>-1.641809</td>\n      <td>0.456862</td>\n    </tr>\n    <tr>\n      <th>...</th>\n      <td>...</td>\n      <td>...</td>\n      <td>...</td>\n      <td>...</td>\n      <td>...</td>\n      <td>...</td>\n      <td>...</td>\n      <td>...</td>\n      <td>...</td>\n      <td>...</td>\n    </tr>\n    <tr>\n      <th>95</th>\n      <td>330</td>\n      <td>1556</td>\n      <td>6910</td>\n      <td>120000</td>\n      <td>120000</td>\n      <td>120000</td>\n      <td>-2.786366</td>\n      <td>-2.280067</td>\n      <td>-1.693771</td>\n      <td>0.456966</td>\n    </tr>\n    <tr>\n      <th>96</th>\n      <td>201</td>\n      <td>1118</td>\n      <td>6334</td>\n      <td>120000</td>\n      <td>120000</td>\n      <td>120000</td>\n      <td>-2.840749</td>\n      <td>-2.294222</td>\n      <td>-1.659374</td>\n      <td>0.452229</td>\n    </tr>\n    <tr>\n      <th>97</th>\n      <td>186</td>\n      <td>1155</td>\n      <td>5870</td>\n      <td>120000</td>\n      <td>120000</td>\n      <td>120000</td>\n      <td>-2.89092</td>\n      <td>-2.304397</td>\n      <td>-1.709123</td>\n      <td>0.434826</td>\n    </tr>\n    <tr>\n      <th>98</th>\n      <td>237</td>\n      <td>1384</td>\n      <td>7285</td>\n      <td>120000</td>\n      <td>120000</td>\n      <td>120000</td>\n      <td>-2.952817</td>\n      <td>-2.368516</td>\n      <td>-1.676613</td>\n      <td>0.293023</td>\n    </tr>\n    <tr>\n      <th>99</th>\n      <td>371</td>\n      <td>1953</td>\n      <td>9149</td>\n      <td>120000</td>\n      <td>120000</td>\n      <td>120000</td>\n      <td>-2.819722</td>\n      <td>-2.285635</td>\n      <td>-1.668866</td>\n      <td>0.45547</td>\n    </tr>\n  </tbody>\n</table>\n<p>100 rows × 10 columns</p>\n</div>"
     },
     "execution_count": 36,
     "metadata": {},
     "output_type": "execute_result"
    }
   ],
   "source": [
    "df_160 = pd.DataFrame(columns=[\"n_1\", \"n_2\", \"n_3\", \"d_1\", \"d_2\", \"d_3\", \"gamma_1\", \"gamma_2\", \"gamma_3\", \"factor_loading\"],\n",
    "                  index=range(100))\n",
    "\n",
    "for i in range(100):\n",
    "    df_160.loc[i, \"n_1\"] = list(results_160.values())[i][0][0]\n",
    "    df_160.loc[i, \"n_2\"] = list(results_160.values())[i][0][1]\n",
    "    df_160.loc[i, \"n_3\"] = list(results_160.values())[i][0][2]\n",
    "    df_160.loc[i, \"d_1\"] = list(results_160.values())[i][1][0]\n",
    "    df_160.loc[i, \"d_2\"] = list(results_160.values())[i][1][1]\n",
    "    df_160.loc[i, \"d_3\"] = list(results_160.values())[i][1][2]\n",
    "    df_160.loc[i, \"gamma_1\"] = list(results_160.values())[i][2][0]\n",
    "    df_160.loc[i, \"gamma_2\"] = list(results_160.values())[i][2][1]\n",
    "    df_160.loc[i, \"gamma_3\"] = list(results_160.values())[i][2][2]\n",
    "    df_160.loc[i, \"factor_loading\"] = list(results_160.values())[i][2][3]\n",
    "    \n",
    "df_160.to_csv(\"data\\conf_interval_data_160_same_w.csv\")\n",
    "\n",
    "df_160"
   ],
   "metadata": {
    "collapsed": false,
    "ExecuteTime": {
     "end_time": "2024-03-29T11:13:59.798251900Z",
     "start_time": "2024-03-29T11:13:59.600235800Z"
    }
   },
   "id": "96631b67805555e8"
  },
  {
   "cell_type": "code",
   "execution_count": 37,
   "outputs": [],
   "source": [
    "results = {20: [value[2][3] for value in list(results_20.values())],\n",
    "           30: [value[2][3] for value in list(results_30.values())],\n",
    "           80: [value[2][3] for value in list(results_80.values())],\n",
    "           160: [value[2][3] for value in list(results_160.values())]}"
   ],
   "metadata": {
    "collapsed": false,
    "ExecuteTime": {
     "end_time": "2024-03-29T11:17:35.640197100Z",
     "start_time": "2024-03-29T11:17:35.581191800Z"
    }
   },
   "id": "bfe04c5f676cc89"
  },
  {
   "cell_type": "code",
   "execution_count": 38,
   "outputs": [
    {
     "data": {
      "text/plain": "{20: [0.439793506588386,\n  0.44428889461709153,\n  0.4034438878579114,\n  2.4705012819735963e-05,\n  0.4535506333484097,\n  0.4358467126506459,\n  0.44559408975339226,\n  0.45074402109102363,\n  0.30470014117562744,\n  0.44926204467541386,\n  0.45708440964449004,\n  0.35589583196893915,\n  0.2088096182082098,\n  0.33662903093364116,\n  0.45629205284481217,\n  0.42600410488267715,\n  0.44697862481957434,\n  0.4640576220295411,\n  0.4440822630873029,\n  0.14240612987378826,\n  0.41600101799795464,\n  0.44922692483831306,\n  0.4179490679767993,\n  0.45919627448981715,\n  0.4560340797634846,\n  -2.237709777935266e-06,\n  0.4351252588412706,\n  0.45268431090116834,\n  0.4470947904776913,\n  0.4275583535591716,\n  0.45222118695306307,\n  0.42058460039321455,\n  0.3438943023940006,\n  0.44185530698323466,\n  0.4484239840783999,\n  0.45248540793206693,\n  0.42950320780969586,\n  0.45660088046974756,\n  0.42377009053898856,\n  0.43783053983542347,\n  0.4627095342018967,\n  0.4470540135396209,\n  0.4461457867587041,\n  0.42187043975797944,\n  0.430148807898999,\n  0.23303778087741978,\n  0.450851282737218,\n  0.46312041347608,\n  0.47022433296671895,\n  0.4421888770878487,\n  0.4401041062798486,\n  0.4188795187958445,\n  0.44187515547592876,\n  0.1939808621878828,\n  0.4250082087778582,\n  0.42388271601803784,\n  0.4746291559012671,\n  0.446352172147215,\n  0.26711649384225106,\n  0.4494135789870032,\n  0.4412926502456254,\n  0.35687925856061065,\n  0.4454684899622337,\n  0.46141345948528467,\n  0.44270771639835194,\n  0.4647012469269621,\n  0.44261549906585645,\n  0.4480599321216304,\n  0.44160348109512715,\n  0.3358613865396278,\n  0.44825213402019515,\n  0.46264507257828336,\n  0.4658147942289035,\n  0.347721516410872,\n  0.4582906810670138,\n  0.4450729300929671,\n  0.4197315859311802,\n  0.3627676146248431,\n  -1.3656511315029463e-07,\n  0.43094830921098515,\n  0.4494047242630183,\n  0.459093056677925,\n  0.45091862324591725,\n  0.4517577070784486,\n  0.4490431115773989,\n  0.42606490245774264,\n  0.45321549605008615,\n  0.45041137170955414,\n  0.4518384728825172,\n  0.46864143866235314,\n  0.4476529702886636,\n  0.44915282795569345,\n  0.41263672514538285,\n  0.449370789390506,\n  0.44836959757192396,\n  0.34929710930602165,\n  0.45085849734196765,\n  0.3715154904734007,\n  0.4458311701771874,\n  0.44292453267818516],\n 30: [0.4621263884401931,\n  0.4494870544299524,\n  0.4344722920710431,\n  0.4613030971990343,\n  0.45005656255241655,\n  0.44700218494929644,\n  0.39952805539657943,\n  0.4478672424795027,\n  0.4616448691259958,\n  0.41165434337856666,\n  0.4504249109300916,\n  0.4521747435281872,\n  0.4507953123373968,\n  0.45214068859279927,\n  0.33504259420352467,\n  0.4431260087852682,\n  0.44209895733233934,\n  0.4620622130644356,\n  0.4521598182592528,\n  0.3148489572032272,\n  0.4466002830615886,\n  0.446166721384875,\n  0.4630489208388805,\n  0.45377110861120656,\n  0.44412216053969655,\n  -5.455715252674395e-07,\n  0.4487431569430411,\n  0.4294282011435684,\n  0.4539827362931357,\n  0.4673380286072542,\n  0.46133179796518964,\n  0.46624214291687205,\n  0.4433186192536577,\n  0.4682804893243844,\n  0.387084686970309,\n  0.453643176385782,\n  0.44827522222491767,\n  0.45582965788902763,\n  0.43763154584757524,\n  0.4246678532149798,\n  0.44740604185612587,\n  0.45151049999848064,\n  0.33077226967585105,\n  0.40691052041328235,\n  0.47065632870073976,\n  0.45868467042571937,\n  0.44621753897212335,\n  0.4563970922587161,\n  0.4440992780207977,\n  0.46079571596843316,\n  1.8723491513352727e-05,\n  0.4451581417676771,\n  0.44437583646160617,\n  0.45079206038950337,\n  0.4460043104676191,\n  0.36688882630100805,\n  0.45367741648258136,\n  0.35297684451922196,\n  0.4549389261791153,\n  0.4081362649979786,\n  0.291115186028699,\n  0.2718534261679897,\n  0.4452518907541564,\n  0.45725666614986105,\n  0.44858482504010033,\n  0.22033155046098435,\n  0.44945861792565617,\n  0.4351653485359242,\n  0.429105572599438,\n  0.4606676460820993,\n  0.38827949938012374,\n  0.4300852450785183,\n  0.45195281204992616,\n  0.37952007824545475,\n  1.4957727130263169e-05,\n  0.45577810833229215,\n  0.4547754105464003,\n  0.44723343064797916,\n  0.44446551753734076,\n  0.45637471164769583,\n  0.4362217661878892,\n  0.4405773396152146,\n  0.4516960241578438,\n  0.45090728023644655,\n  0.45542258669373203,\n  0.4604483892696675,\n  0.44394357794567846,\n  0.44448617333463913,\n  0.4393665129857599,\n  0.4587009720185592,\n  0.3957766779283569,\n  0.4699553832309523,\n  0.46153683613603547,\n  0.4349090669839041,\n  0.45008256326668566,\n  0.3570933735659849,\n  0.44402354107624253,\n  0.4614547934729999,\n  0.4551999864874564,\n  0.4400884588652661],\n 80: [0.3011759907334044,\n  0.4840256880760623,\n  0.44617082004071973,\n  0.472404513193663,\n  0.4254802803859876,\n  0.43865380814733207,\n  0.44891114476723426,\n  0.39248466655216674,\n  0.4457450646228839,\n  0.32243386944744357,\n  0.4611751575651523,\n  0.3486524923644208,\n  0.4531907534344422,\n  0.45199093087427716,\n  0.3026198341909617,\n  0.44973818526678205,\n  0.45126416805169456,\n  0.4603179065011967,\n  0.27012534557034595,\n  0.461066950589455,\n  0.46030026158291354,\n  0.45061238175464546,\n  0.441351786296262,\n  0.4509801950597294,\n  0.44198223551723215,\n  0.44610338007076017,\n  0.4446943908112868,\n  0.4599020955089713,\n  0.42758281679732557,\n  0.44983722001522447,\n  0.4174977135127017,\n  0.45608127556951406,\n  0.4419110500269871,\n  0.4690742967091198,\n  0.3386944622758932,\n  0.45085117574253364,\n  0.32187646809695103,\n  0.4471680133554896,\n  0.43917803180839277,\n  0.44591751953179215,\n  0.453467591507006,\n  0.4471223172467137,\n  0.44875386118368465,\n  0.44604842708336373,\n  0.421882005368948,\n  0.3462929882677192,\n  0.4238982323659952,\n  0.43196699065186916,\n  0.4525580890535379,\n  0.4524608902702917,\n  0.4757747595011428,\n  0.4496334436638219,\n  0.4457421458263118,\n  0.44575736634954805,\n  0.45760405702158197,\n  0.39597222360156104,\n  0.45905464054442247,\n  0.4405292421310517,\n  0.46367693254117315,\n  0.44283192923653525,\n  0.3500654543484033,\n  0.41416462077895944,\n  0.44863961005306774,\n  0.45664920268913517,\n  0.35443783506048687,\n  0.4490497103139298,\n  0.44379321724321663,\n  0.45039279348814654,\n  0.44343554174320804,\n  0.4475361459374869,\n  0.4509180874391719,\n  0.44895605155535484,\n  0.44702928786680685,\n  0.4742571291858922,\n  0.3112097191133255,\n  0.4325294068522414,\n  0.4270971918646195,\n  0.4259864923091022,\n  0.4456466291519087,\n  0.4525536430870607,\n  0.44518955355766143,\n  0.46620315037024446,\n  0.4582416118273396,\n  0.44345905211746195,\n  0.4370032685386567,\n  0.45151907320826695,\n  0.4631857031045196,\n  0.4547435527018727,\n  0.4614271425997074,\n  0.4488036568262186,\n  0.4592461508458818,\n  0.4211354317051905,\n  0.451755179582303,\n  0.4432035898190542,\n  0.4246922697447155,\n  0.444556656162958,\n  0.4586012197145788,\n  0.43752761058890466,\n  0.4476053257109985,\n  0.4285468094910916],\n 160: [0.3189851955823665,\n  0.396031758702159,\n  0.44855825746501765,\n  0.453078756408706,\n  0.45686216177785954,\n  0.46231648772861467,\n  0.4358990921701922,\n  0.44133985321728686,\n  0.4490165486942068,\n  0.45536356760094543,\n  0.4382156172922138,\n  0.4612376833784046,\n  0.44920460443657706,\n  0.46974198666973377,\n  0.22252961268294508,\n  0.4599599358386617,\n  0.4557373230186128,\n  0.4602607263365258,\n  0.45922300257675597,\n  0.4843684356196775,\n  0.43872494424191366,\n  0.3435499525984881,\n  0.4524845359958518,\n  0.4572467498862861,\n  0.4567057260271058,\n  0.45729363466547424,\n  0.46704336983281924,\n  0.4591069468483907,\n  0.4490810607060935,\n  0.30914459713291836,\n  0.44382492420682573,\n  0.3646002250958661,\n  0.4594414867638599,\n  0.41174143342863556,\n  0.4536127500422604,\n  0.43170753758280456,\n  0.46793442934882956,\n  0.4587118349566695,\n  0.4411528889226247,\n  0.39194711123032266,\n  0.44762633200472157,\n  0.3809402174697598,\n  0.4446665499209902,\n  0.3270479739632888,\n  0.44243313483290614,\n  0.45927304313547046,\n  0.44598916259060273,\n  0.4404557667532657,\n  0.3444175333119285,\n  0.45474035190430045,\n  0.4280549727710305,\n  0.4491464614506289,\n  0.00020270856184117185,\n  0.21921627488262374,\n  0.44718790313351464,\n  0.4625715153792256,\n  0.3925680090143379,\n  0.451265750145762,\n  0.45205526640709603,\n  0.43875615102281484,\n  0.4533947547988053,\n  0.46293581641431947,\n  0.4540012392483338,\n  0.44520242397242515,\n  0.46435714889646934,\n  0.44473392875660656,\n  0.4436551949564296,\n  0.4420689504895964,\n  0.4572878842310336,\n  0.4435847631094062,\n  0.35268612058868914,\n  0.44361254152323176,\n  0.2980475903441283,\n  0.4340954369590222,\n  0.45324875307619417,\n  0.4333904589977987,\n  0.30353627006079653,\n  0.4613583451152975,\n  0.44556256420257223,\n  0.475918087272023,\n  0.44388760668610466,\n  0.44125784037309523,\n  0.4604959704745104,\n  0.4356674346544101,\n  0.4463431526701365,\n  0.4465867037943423,\n  0.416642238119676,\n  0.45126843101777375,\n  0.4448001436926949,\n  0.44683974738630583,\n  0.4429734341556564,\n  0.44397430276569516,\n  0.46557409558319773,\n  0.456866496251651,\n  0.4595144920300518,\n  0.45696603391214624,\n  0.45222936390345386,\n  0.4348260508547469,\n  0.2930233797130972,\n  0.45547031674831634]}"
     },
     "execution_count": 38,
     "metadata": {},
     "output_type": "execute_result"
    }
   ],
   "source": [
    "results"
   ],
   "metadata": {
    "collapsed": false,
    "ExecuteTime": {
     "end_time": "2024-03-29T11:17:39.926778700Z",
     "start_time": "2024-03-29T11:17:39.867774Z"
    }
   },
   "id": "e642b7656115bac6"
  },
  {
   "cell_type": "code",
   "execution_count": 43,
   "outputs": [
    {
     "data": {
      "text/plain": "<Figure size 1000x600 with 1 Axes>",
      "image/png": "[encoded data removed]"
     },
     "metadata": {},
     "output_type": "display_data"
    }
   ],
   "source": [
    "import matplotlib.pyplot as plt\n",
    "import numpy as np\n",
    "\n",
    "# Calculating averages\n",
    "x = list(results.keys())\n",
    "y_mean = [np.median(results[key]) for key in x]\n",
    "\n",
    "# Calculating percentiles\n",
    "y_5th = [np.percentile(results[key], 5) for key in x]\n",
    "y_95th = [np.percentile(results[key], 95) for key in x]\n",
    "\n",
    "# Creating the plot\n",
    "plt.figure(figsize=(10, 6))\n",
    "\n",
    "# Plotting means\n",
    "plt.plot(x, y_mean, marker='o', linestyle='-')\n",
    "\n",
    "# Plotting 5th and 95th percentiles\n",
    "for i in range(len(x)):\n",
    "    plt.vlines(x[i], y_5th[i], y_95th[i], colors='r', linestyles='solid', linewidth=2)\n",
    "\n",
    "# Formatting the plot\n",
    "plt.title('Estimation Means and Percentiles')\n",
    "plt.xlabel('Sample Size')\n",
    "plt.ylabel('Estimated Value (w)')\n",
    "plt.grid(True)\n",
    "plt.xticks(x)\n",
    "plt.legend(['Median', '5th and 95th Percentiles'], loc='lower right')\n",
    "\n",
    "# Displaying the plot\n",
    "plt.show()"
   ],
   "metadata": {
    "collapsed": false,
    "ExecuteTime": {
     "end_time": "2024-03-29T11:20:01.936776900Z",
     "start_time": "2024-03-29T11:20:01.647753700Z"
    }
   },
   "id": "332b3b8138cfc5b7"
  },
  {
   "cell_type": "code",
   "execution_count": null,
   "outputs": [],
   "source": [],
   "metadata": {
    "collapsed": false
   },
   "id": "f2507ebee78d28af"
  }
 ],
 "metadata": {
  "kernelspec": {
   "name": "python3",
   "language": "python",
   "display_name": "Python 3 (ipykernel)"
  },
  "language_info": {
   "codemirror_mode": {
    "name": "ipython",
    "version": 2
   },
   "file_extension": ".py",
   "mimetype": "text/x-python",
   "name": "python",
   "nbconvert_exporter": "python",
   "pygments_lexer": "ipython2",
   "version": "2.7.6"
  }
 },
 "nbformat": 4,
 "nbformat_minor": 5
}
