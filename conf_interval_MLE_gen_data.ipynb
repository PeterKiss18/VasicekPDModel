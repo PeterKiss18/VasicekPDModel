{
 "cells": [
  {
   "cell_type": "markdown",
   "source": [
    "# Make confidence interval for the ML parameter estimation of the generated data"
   ],
   "metadata": {
    "collapsed": false
   },
   "id": "a65a98f275658dbb"
  },
  {
   "cell_type": "code",
   "execution_count": 1,
   "outputs": [],
   "source": [
    "import pandas as pd\n",
    "import numpy as np\n",
    "from src.data_generator import generate_default_buckets\n",
    "from scipy.stats import norm"
   ],
   "metadata": {
    "collapsed": false,
    "ExecuteTime": {
     "end_time": "2024-03-20T16:26:46.671515300Z",
     "start_time": "2024-03-20T16:26:35.575260Z"
    }
   },
   "id": "77629a0ac7683038"
  },
  {
   "cell_type": "code",
   "execution_count": 2,
   "outputs": [],
   "source": [
    "# Fix seed for reproducibility\n",
    "seed = 42\n",
    "np.random.seed(seed)"
   ],
   "metadata": {
    "collapsed": false,
    "ExecuteTime": {
     "end_time": "2024-03-20T16:26:46.703524Z",
     "start_time": "2024-03-20T16:26:46.655511800Z"
    }
   },
   "id": "4d7211fdbea089c9"
  },
  {
   "cell_type": "code",
   "execution_count": 3,
   "outputs": [
    {
     "data": {
      "text/plain": "  Grade  Factor Loading      PD     Gamma  Num of Obligors\n0     A            0.45  0.0015 -2.967738              400\n1     B            0.45  0.0100 -2.326348              250\n2     C            0.45  0.0500 -1.644854              100",
      "text/html": "<div>\n<style scoped>\n    .dataframe tbody tr th:only-of-type {\n        vertical-align: middle;\n    }\n\n    .dataframe tbody tr th {\n        vertical-align: top;\n    }\n\n    .dataframe thead th {\n        text-align: right;\n    }\n</style>\n<table border=\"1\" class=\"dataframe\">\n  <thead>\n    <tr style=\"text-align: right;\">\n      <th></th>\n      <th>Grade</th>\n      <th>Factor Loading</th>\n      <th>PD</th>\n      <th>Gamma</th>\n      <th>Num of Obligors</th>\n    </tr>\n  </thead>\n  <tbody>\n    <tr>\n      <th>0</th>\n      <td>A</td>\n      <td>0.45</td>\n      <td>0.0015</td>\n      <td>-2.967738</td>\n      <td>400</td>\n    </tr>\n    <tr>\n      <th>1</th>\n      <td>B</td>\n      <td>0.45</td>\n      <td>0.0100</td>\n      <td>-2.326348</td>\n      <td>250</td>\n    </tr>\n    <tr>\n      <th>2</th>\n      <td>C</td>\n      <td>0.45</td>\n      <td>0.0500</td>\n      <td>-1.644854</td>\n      <td>100</td>\n    </tr>\n  </tbody>\n</table>\n</div>"
     },
     "execution_count": 3,
     "metadata": {},
     "output_type": "execute_result"
    }
   ],
   "source": [
    "factor_loading_list = [0.45, 0.45, 0.45]\n",
    "pd_list = [0.0015, 0.0100, 0.0500]\n",
    "gamma_list = norm.ppf(pd_list)\n",
    "num_of_obligors_list = [400, 250, 100]\n",
    "\n",
    "# Make a pandas dataframe with Grade, Factor Loading, PD, Gamma, Num of Obligors\n",
    "df = pd.DataFrame({'Grade': ['A', 'B', 'C'], 'Factor Loading': factor_loading_list, 'PD': pd_list, 'Gamma': gamma_list, 'Num of Obligors': num_of_obligors_list})\n",
    "df"
   ],
   "metadata": {
    "collapsed": false,
    "ExecuteTime": {
     "end_time": "2024-03-20T16:26:46.842779700Z",
     "start_time": "2024-03-20T16:26:46.679519900Z"
    }
   },
   "id": "25ac43a7cd9db38"
  },
  {
   "cell_type": "code",
   "execution_count": 4,
   "outputs": [
    {
     "name": "stdout",
     "output_type": "stream",
     "text": [
      "Number of defaults:  [110, 374, 771]\n",
      "Number of obligors over time:  [64000, 40000, 16000]\n"
     ]
    }
   ],
   "source": [
    "length_of_time_series = 160\n",
    "default_list = generate_default_buckets(factor_loading_list,num_of_obligors_list, gamma_list, time_points=length_of_time_series)\n",
    "print(\"Number of defaults: \", default_list)\n",
    "num_of_obligors_over_time = [x * length_of_time_series for x in num_of_obligors_list]\n",
    "print(\"Number of obligors over time: \", num_of_obligors_over_time)"
   ],
   "metadata": {
    "collapsed": false,
    "ExecuteTime": {
     "end_time": "2024-03-20T16:26:46.877779700Z",
     "start_time": "2024-03-20T16:26:46.751537900Z"
    }
   },
   "id": "618ff9fcdb107947"
  },
  {
   "cell_type": "code",
   "execution_count": 5,
   "outputs": [
    {
     "name": "stdout",
     "output_type": "stream",
     "text": [
      "Empirical PD:  [0.00171875, 0.00935, 0.0481875]\n"
     ]
    }
   ],
   "source": [
    "# Empirical PD\n",
    "empirical_pd_list = [x/y for x, y in zip(default_list, num_of_obligors_over_time)]\n",
    "print(\"Empirical PD: \", empirical_pd_list)"
   ],
   "metadata": {
    "collapsed": false,
    "ExecuteTime": {
     "end_time": "2024-03-20T16:26:47.011788400Z",
     "start_time": "2024-03-20T16:26:46.837776600Z"
    }
   },
   "id": "fdb3281e9cd97674"
  },
  {
   "cell_type": "code",
   "execution_count": 6,
   "outputs": [
    {
     "data": {
      "text/plain": "array([0.00186581, 0.01072411, 0.05479929])"
     },
     "execution_count": 6,
     "metadata": {},
     "output_type": "execute_result"
    }
   ],
   "source": [
    "gamma_list = [-2.9, -2.3, -1.6]\n",
    "norm.cdf(gamma_list)"
   ],
   "metadata": {
    "collapsed": false,
    "ExecuteTime": {
     "end_time": "2024-03-20T16:26:47.058792800Z",
     "start_time": "2024-03-20T16:26:46.873780700Z"
    }
   },
   "id": "9405583f1c00a92f"
  },
  {
   "cell_type": "code",
   "execution_count": 7,
   "outputs": [],
   "source": [
    "from src.ML_estimation import calculate_my_likelihood_arr\n",
    "from src.sucess_probability import p_g\n",
    "from scipy.optimize import minimize\n",
    "\n",
    "def parameter_estimation(default_list, num_of_obligors_over_time, factor_loading_init, gamma_list_init):\n",
    "    initial_guess = gamma_list_init + factor_loading_init\n",
    "    \n",
    "    num_of_gamma = len(gamma_list_init)\n",
    "    num_of_factor_loading = len(factor_loading_init)\n",
    "    # bound = num_of_gamma * (-5, 5) + num_of_factor_loading * (-1, 1)\n",
    "    bounds = num_of_gamma * [(-5, 5)] + num_of_factor_loading * [(-1, 1)]\n",
    "    # Optimization\n",
    "    objective_function = lambda params: -np.log(calculate_my_likelihood_arr(\n",
    "        default_list, num_of_obligors_over_time, p_g, norm.pdf, np.repeat(params[3], 3), params[0:3]\n",
    "    ))\n",
    "    \n",
    "    result = minimize(objective_function,\n",
    "                  initial_guess,\n",
    "                  method=\"Nelder-Mead\",\n",
    "                  bounds=bounds,\n",
    "                  options={\n",
    "                      'disp': True})\n",
    "    \n",
    "    return result"
   ],
   "metadata": {
    "collapsed": false,
    "ExecuteTime": {
     "end_time": "2024-03-20T16:26:47.063792800Z",
     "start_time": "2024-03-20T16:26:46.904781700Z"
    }
   },
   "id": "e085dc20feb17daa"
  },
  {
   "cell_type": "code",
   "execution_count": 12,
   "outputs": [
    {
     "name": "stdout",
     "output_type": "stream",
     "text": [
      "Optimization terminated successfully.\n",
      "         Current function value: 11.366573\n",
      "         Iterations: 217\n",
      "         Function evaluations: 366\n"
     ]
    }
   ],
   "source": [
    "# Test the parameter estimation\n",
    "factor_loading_init = [0.40]\n",
    "gamma_list_init = [-2.9, -2.2, -1.6]\n",
    "result = parameter_estimation(default_list, num_of_obligors_over_time, factor_loading_init, gamma_list_init)"
   ],
   "metadata": {
    "collapsed": false,
    "ExecuteTime": {
     "end_time": "2024-03-20T16:28:38.290453100Z",
     "start_time": "2024-03-20T16:28:03.985229500Z"
    }
   },
   "id": "87318127d40fa081"
  },
  {
   "cell_type": "code",
   "execution_count": 13,
   "outputs": [
    {
     "data": {
      "text/plain": "array([-2.92566941e+00, -2.35144527e+00, -1.66264753e+00,  2.07984790e-06])"
     },
     "execution_count": 13,
     "metadata": {},
     "output_type": "execute_result"
    }
   ],
   "source": [
    "result.x"
   ],
   "metadata": {
    "collapsed": false,
    "ExecuteTime": {
     "end_time": "2024-03-20T16:28:38.350455200Z",
     "start_time": "2024-03-20T16:28:38.277450Z"
    }
   },
   "id": "ee252f0cb7ee9f51"
  },
  {
   "cell_type": "code",
   "execution_count": 9,
   "outputs": [],
   "source": [
    "# Confidence interval for the ML parameter estimation\n",
    "list_of_len_ts = [20, 30, 80, 160]\n",
    "num_of_simulations = 100\n",
    "\n",
    "# Create a dictionary to store the results\n",
    "# make the keys of the dictionary the length of the time series\n",
    "results = {key: [] for key in list_of_len_ts}"
   ],
   "metadata": {
    "collapsed": false,
    "ExecuteTime": {
     "end_time": "2024-03-20T16:27:12.101790200Z",
     "start_time": "2024-03-20T16:27:12.019782200Z"
    }
   },
   "id": "4021db6e36045a69"
  },
  {
   "cell_type": "code",
   "execution_count": 10,
   "outputs": [],
   "source": [
    "# To-do: make a module for optimization wich gives back 2 list of parameters: one for the factor_loading and one for the gamma\n",
    "# Then use these parameters to make the confidence interval, dict['len_ts']['grade']['factor_loading'] = list of factor_loadings\n",
    "# Make it with MM and 3 type ML"
   ],
   "metadata": {
    "collapsed": false,
    "ExecuteTime": {
     "end_time": "2024-03-20T16:27:12.104791400Z",
     "start_time": "2024-03-20T16:27:12.051785900Z"
    }
   },
   "id": "22f3799987507776"
  }
 ],
 "metadata": {
  "kernelspec": {
   "display_name": "Python 3",
   "language": "python",
   "name": "python3"
  },
  "language_info": {
   "codemirror_mode": {
    "name": "ipython",
    "version": 2
   },
   "file_extension": ".py",
   "mimetype": "text/x-python",
   "name": "python",
   "nbconvert_exporter": "python",
   "pygments_lexer": "ipython2",
   "version": "2.7.6"
  }
 },
 "nbformat": 4,
 "nbformat_minor": 5
}
