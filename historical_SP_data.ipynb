{
 "cells": [
  {
   "cell_type": "code",
   "execution_count": 1,
   "id": "initial_id",
   "metadata": {
    "collapsed": true,
    "ExecuteTime": {
     "end_time": "2024-05-31T12:06:01.607599500Z",
     "start_time": "2024-05-31T12:05:59.324245Z"
    }
   },
   "outputs": [],
   "source": [
    "import pandas as pd\n",
    "import numpy as np\n",
    "from scipy.stats import norm\n",
    "from src.MM_estimation import estimate_w_factor_loading\n",
    "from src.ML_estimation import mle_trapz_g_and_w"
   ]
  },
  {
   "cell_type": "markdown",
   "source": [
    "# Data"
   ],
   "metadata": {
    "collapsed": false
   },
   "id": "6e78568266a45531"
  },
  {
   "cell_type": "code",
   "execution_count": 2,
   "outputs": [],
   "source": [
    "# Load the data\n",
    "grades_data = pd.read_csv('data/grades_hist_pd.csv', sep=';', index_col=0)\n",
    "\n",
    "for col_name in grades_data.columns:\n",
    "    grades_data[col_name] = grades_data[col_name] / 100\n",
    "    \n",
    "grades_cols = grades_data.columns"
   ],
   "metadata": {
    "collapsed": false,
    "ExecuteTime": {
     "end_time": "2024-05-31T12:06:01.654115800Z",
     "start_time": "2024-05-31T12:06:01.611597700Z"
    }
   },
   "id": "174c6076efdfee0b"
  },
  {
   "cell_type": "code",
   "execution_count": 3,
   "outputs": [
    {
     "data": {
      "text/plain": "      AAA   AA       A     BBB      BB       B   CCC/C\nYear                                                  \n1981  0.0  0.0  0.0000  0.0000  0.0000  0.0233  0.0000\n1982  0.0  0.0  0.0021  0.0035  0.0424  0.0318  0.2143\n1983  0.0  0.0  0.0000  0.0034  0.0116  0.0470  0.0667\n1984  0.0  0.0  0.0000  0.0068  0.0114  0.0349  0.2500\n1985  0.0  0.0  0.0000  0.0000  0.0150  0.0653  0.1538",
      "text/html": "<div>\n<style scoped>\n    .dataframe tbody tr th:only-of-type {\n        vertical-align: middle;\n    }\n\n    .dataframe tbody tr th {\n        vertical-align: top;\n    }\n\n    .dataframe thead th {\n        text-align: right;\n    }\n</style>\n<table border=\"1\" class=\"dataframe\">\n  <thead>\n    <tr style=\"text-align: right;\">\n      <th></th>\n      <th>AAA</th>\n      <th>AA</th>\n      <th>A</th>\n      <th>BBB</th>\n      <th>BB</th>\n      <th>B</th>\n      <th>CCC/C</th>\n    </tr>\n    <tr>\n      <th>Year</th>\n      <th></th>\n      <th></th>\n      <th></th>\n      <th></th>\n      <th></th>\n      <th></th>\n      <th></th>\n    </tr>\n  </thead>\n  <tbody>\n    <tr>\n      <th>1981</th>\n      <td>0.0</td>\n      <td>0.0</td>\n      <td>0.0000</td>\n      <td>0.0000</td>\n      <td>0.0000</td>\n      <td>0.0233</td>\n      <td>0.0000</td>\n    </tr>\n    <tr>\n      <th>1982</th>\n      <td>0.0</td>\n      <td>0.0</td>\n      <td>0.0021</td>\n      <td>0.0035</td>\n      <td>0.0424</td>\n      <td>0.0318</td>\n      <td>0.2143</td>\n    </tr>\n    <tr>\n      <th>1983</th>\n      <td>0.0</td>\n      <td>0.0</td>\n      <td>0.0000</td>\n      <td>0.0034</td>\n      <td>0.0116</td>\n      <td>0.0470</td>\n      <td>0.0667</td>\n    </tr>\n    <tr>\n      <th>1984</th>\n      <td>0.0</td>\n      <td>0.0</td>\n      <td>0.0000</td>\n      <td>0.0068</td>\n      <td>0.0114</td>\n      <td>0.0349</td>\n      <td>0.2500</td>\n    </tr>\n    <tr>\n      <th>1985</th>\n      <td>0.0</td>\n      <td>0.0</td>\n      <td>0.0000</td>\n      <td>0.0000</td>\n      <td>0.0150</td>\n      <td>0.0653</td>\n      <td>0.1538</td>\n    </tr>\n  </tbody>\n</table>\n</div>"
     },
     "execution_count": 3,
     "metadata": {},
     "output_type": "execute_result"
    }
   ],
   "source": [
    "grades_data.head()"
   ],
   "metadata": {
    "collapsed": false,
    "ExecuteTime": {
     "end_time": "2024-05-31T12:06:01.673117900Z",
     "start_time": "2024-05-31T12:06:01.641118100Z"
    }
   },
   "id": "5d9648dee7151bd4"
  },
  {
   "cell_type": "code",
   "execution_count": 4,
   "outputs": [
    {
     "data": {
      "text/plain": "AAA      0.000000\nAA       0.000137\nA        0.000530\nBBB      0.001948\nBB       0.008557\nB        0.041913\nCCC/C    0.249193\ndtype: float64"
     },
     "execution_count": 4,
     "metadata": {},
     "output_type": "execute_result"
    }
   ],
   "source": [
    "grades_data.mean()"
   ],
   "metadata": {
    "collapsed": false,
    "ExecuteTime": {
     "end_time": "2024-05-31T12:06:01.710717100Z",
     "start_time": "2024-05-31T12:06:01.671119Z"
    }
   },
   "id": "58864b86458b163e"
  },
  {
   "cell_type": "code",
   "execution_count": 5,
   "outputs": [],
   "source": [
    "num_of_obligors_data = {\n",
    "    \"AAA\": 8,\n",
    "    \"AA\": 322,\n",
    "    \"A\": 1432,\n",
    "    \"BBB\": 1855,\n",
    "    \"BB\": 1289,\n",
    "    \"B\": 2078,\n",
    "    \"CCC/C\": 238\n",
    "}"
   ],
   "metadata": {
    "collapsed": false,
    "ExecuteTime": {
     "end_time": "2024-05-31T12:06:01.759720100Z",
     "start_time": "2024-05-31T12:06:01.689120100Z"
    }
   },
   "id": "34f31605c6788b9d"
  },
  {
   "cell_type": "code",
   "execution_count": 6,
   "outputs": [],
   "source": [
    "for col_name in grades_cols:\n",
    "    grades_data[str(col_name) + \" defaults\"] = round(num_of_obligors_data[col_name] * grades_data[col_name])"
   ],
   "metadata": {
    "collapsed": false,
    "ExecuteTime": {
     "end_time": "2024-05-31T12:06:01.798722500Z",
     "start_time": "2024-05-31T12:06:01.702124400Z"
    }
   },
   "id": "ddd163cf4d8568b2"
  },
  {
   "cell_type": "code",
   "execution_count": 7,
   "outputs": [
    {
     "data": {
      "text/plain": "      AAA      AA       A     BBB      BB       B   CCC/C  AAA defaults  \\\nYear                                                                      \n1981  0.0  0.0000  0.0000  0.0000  0.0000  0.0233  0.0000           0.0   \n1982  0.0  0.0000  0.0021  0.0035  0.0424  0.0318  0.2143           0.0   \n1983  0.0  0.0000  0.0000  0.0034  0.0116  0.0470  0.0667           0.0   \n1984  0.0  0.0000  0.0000  0.0068  0.0114  0.0349  0.2500           0.0   \n1985  0.0  0.0000  0.0000  0.0000  0.0150  0.0653  0.1538           0.0   \n1986  0.0  0.0000  0.0018  0.0034  0.0133  0.0845  0.2308           0.0   \n1987  0.0  0.0000  0.0000  0.0000  0.0038  0.0313  0.1228           0.0   \n1988  0.0  0.0000  0.0000  0.0000  0.0105  0.0368  0.2037           0.0   \n1989  0.0  0.0000  0.0018  0.0061  0.0073  0.0340  0.3333           0.0   \n1990  0.0  0.0000  0.0000  0.0058  0.0357  0.0856  0.3125           0.0   \n1991  0.0  0.0000  0.0000  0.0055  0.0169  0.1384  0.3387           0.0   \n1992  0.0  0.0000  0.0000  0.0000  0.0000  0.0699  0.3019           0.0   \n1993  0.0  0.0000  0.0000  0.0000  0.0070  0.0262  0.1333           0.0   \n1994  0.0  0.0000  0.0014  0.0000  0.0028  0.0309  0.1667           0.0   \n1995  0.0  0.0000  0.0000  0.0017  0.0099  0.0459  0.2800           0.0   \n1996  0.0  0.0000  0.0000  0.0000  0.0045  0.0291  0.0800           0.0   \n1997  0.0  0.0000  0.0000  0.0025  0.0019  0.0352  0.1200           0.0   \n1998  0.0  0.0000  0.0000  0.0041  0.0082  0.0464  0.4286           0.0   \n1999  0.0  0.0017  0.0018  0.0020  0.0095  0.0731  0.3382           0.0   \n2000  0.0  0.0000  0.0027  0.0037  0.0116  0.0771  0.3596           0.0   \n2001  0.0  0.0000  0.0027  0.0034  0.0298  0.1156  0.4545           0.0   \n2002  0.0  0.0000  0.0000  0.0102  0.0290  0.0820  0.4444           0.0   \n2003  0.0  0.0000  0.0000  0.0023  0.0059  0.0407  0.3293           0.0   \n2004  0.0  0.0000  0.0008  0.0000  0.0044  0.0145  0.1630           0.0   \n2005  0.0  0.0000  0.0000  0.0007  0.0031  0.0175  0.0909           0.0   \n2006  0.0  0.0000  0.0000  0.0000  0.0030  0.0082  0.1333           0.0   \n2007  0.0  0.0000  0.0000  0.0000  0.0020  0.0025  0.1524           0.0   \n2008  0.0  0.0038  0.0039  0.0049  0.0081  0.0411  0.2727           0.0   \n2009  0.0  0.0000  0.0022  0.0055  0.0075  0.1103  0.4946           0.0   \n2010  0.0  0.0000  0.0000  0.0000  0.0058  0.0087  0.2283           0.0   \n2011  0.0  0.0000  0.0000  0.0007  0.0000  0.0168  0.1642           0.0   \n2012  0.0  0.0000  0.0000  0.0000  0.0030  0.0158  0.2752           0.0   \n2013  0.0  0.0000  0.0000  0.0000  0.0010  0.0165  0.2467           0.0   \n2014  0.0  0.0000  0.0000  0.0000  0.0000  0.0078  0.1751           0.0   \n2015  0.0  0.0000  0.0000  0.0000  0.0016  0.0242  0.2667           0.0   \n2016  0.0  0.0000  0.0000  0.0006  0.0047  0.0376  0.3317           0.0   \n2017  0.0  0.0000  0.0000  0.0000  0.0008  0.0100  0.2656           0.0   \n2018  0.0  0.0000  0.0000  0.0000  0.0000  0.0099  0.2718           0.0   \n2019  0.0  0.0000  0.0000  0.0011  0.0000  0.0149  0.2976           0.0   \n2020  0.0  0.0000  0.0000  0.0000  0.0093  0.0352  0.4748           0.0   \n\n      AA defaults  A defaults  BBB defaults  BB defaults  B defaults  \\\nYear                                                                   \n1981          0.0         0.0           0.0          0.0        48.0   \n1982          0.0         3.0           6.0         55.0        66.0   \n1983          0.0         0.0           6.0         15.0        98.0   \n1984          0.0         0.0          13.0         15.0        73.0   \n1985          0.0         0.0           0.0         19.0       136.0   \n1986          0.0         3.0           6.0         17.0       176.0   \n1987          0.0         0.0           0.0          5.0        65.0   \n1988          0.0         0.0           0.0         14.0        76.0   \n1989          0.0         3.0          11.0          9.0        71.0   \n1990          0.0         0.0          11.0         46.0       178.0   \n1991          0.0         0.0          10.0         22.0       288.0   \n1992          0.0         0.0           0.0          0.0       145.0   \n1993          0.0         0.0           0.0          9.0        54.0   \n1994          0.0         2.0           0.0          4.0        64.0   \n1995          0.0         0.0           3.0         13.0        95.0   \n1996          0.0         0.0           0.0          6.0        60.0   \n1997          0.0         0.0           5.0          2.0        73.0   \n1998          0.0         0.0           8.0         11.0        96.0   \n1999          1.0         3.0           4.0         12.0       152.0   \n2000          0.0         4.0           7.0         15.0       160.0   \n2001          0.0         4.0           6.0         38.0       240.0   \n2002          0.0         0.0          19.0         37.0       170.0   \n2003          0.0         0.0           4.0          8.0        85.0   \n2004          0.0         1.0           0.0          6.0        30.0   \n2005          0.0         0.0           1.0          4.0        36.0   \n2006          0.0         0.0           0.0          4.0        17.0   \n2007          0.0         0.0           0.0          3.0         5.0   \n2008          1.0         6.0           9.0         10.0        85.0   \n2009          0.0         3.0          10.0         10.0       229.0   \n2010          0.0         0.0           0.0          7.0        18.0   \n2011          0.0         0.0           1.0          0.0        35.0   \n2012          0.0         0.0           0.0          4.0        33.0   \n2013          0.0         0.0           0.0          1.0        34.0   \n2014          0.0         0.0           0.0          0.0        16.0   \n2015          0.0         0.0           0.0          2.0        50.0   \n2016          0.0         0.0           1.0          6.0        78.0   \n2017          0.0         0.0           0.0          1.0        21.0   \n2018          0.0         0.0           0.0          0.0        21.0   \n2019          0.0         0.0           2.0          0.0        31.0   \n2020          0.0         0.0           0.0         12.0        73.0   \n\n      CCC/C defaults  \nYear                  \n1981             0.0  \n1982            51.0  \n1983            16.0  \n1984            60.0  \n1985            37.0  \n1986            55.0  \n1987            29.0  \n1988            48.0  \n1989            79.0  \n1990            74.0  \n1991            81.0  \n1992            72.0  \n1993            32.0  \n1994            40.0  \n1995            67.0  \n1996            19.0  \n1997            29.0  \n1998           102.0  \n1999            80.0  \n2000            86.0  \n2001           108.0  \n2002           106.0  \n2003            78.0  \n2004            39.0  \n2005            22.0  \n2006            32.0  \n2007            36.0  \n2008            65.0  \n2009           118.0  \n2010            54.0  \n2011            39.0  \n2012            65.0  \n2013            59.0  \n2014            42.0  \n2015            63.0  \n2016            79.0  \n2017            63.0  \n2018            65.0  \n2019            71.0  \n2020           113.0  ",
      "text/html": "<div>\n<style scoped>\n    .dataframe tbody tr th:only-of-type {\n        vertical-align: middle;\n    }\n\n    .dataframe tbody tr th {\n        vertical-align: top;\n    }\n\n    .dataframe thead th {\n        text-align: right;\n    }\n</style>\n<table border=\"1\" class=\"dataframe\">\n  <thead>\n    <tr style=\"text-align: right;\">\n      <th></th>\n      <th>AAA</th>\n      <th>AA</th>\n      <th>A</th>\n      <th>BBB</th>\n      <th>BB</th>\n      <th>B</th>\n      <th>CCC/C</th>\n      <th>AAA defaults</th>\n      <th>AA defaults</th>\n      <th>A defaults</th>\n      <th>BBB defaults</th>\n      <th>BB defaults</th>\n      <th>B defaults</th>\n      <th>CCC/C defaults</th>\n    </tr>\n    <tr>\n      <th>Year</th>\n      <th></th>\n      <th></th>\n      <th></th>\n      <th></th>\n      <th></th>\n      <th></th>\n      <th></th>\n      <th></th>\n      <th></th>\n      <th></th>\n      <th></th>\n      <th></th>\n      <th></th>\n      <th></th>\n    </tr>\n  </thead>\n  <tbody>\n    <tr>\n      <th>1981</th>\n      <td>0.0</td>\n      <td>0.0000</td>\n      <td>0.0000</td>\n      <td>0.0000</td>\n      <td>0.0000</td>\n      <td>0.0233</td>\n      <td>0.0000</td>\n      <td>0.0</td>\n      <td>0.0</td>\n      <td>0.0</td>\n      <td>0.0</td>\n      <td>0.0</td>\n      <td>48.0</td>\n      <td>0.0</td>\n    </tr>\n    <tr>\n      <th>1982</th>\n      <td>0.0</td>\n      <td>0.0000</td>\n      <td>0.0021</td>\n      <td>0.0035</td>\n      <td>0.0424</td>\n      <td>0.0318</td>\n      <td>0.2143</td>\n      <td>0.0</td>\n      <td>0.0</td>\n      <td>3.0</td>\n      <td>6.0</td>\n      <td>55.0</td>\n      <td>66.0</td>\n      <td>51.0</td>\n    </tr>\n    <tr>\n      <th>1983</th>\n      <td>0.0</td>\n      <td>0.0000</td>\n      <td>0.0000</td>\n      <td>0.0034</td>\n      <td>0.0116</td>\n      <td>0.0470</td>\n      <td>0.0667</td>\n      <td>0.0</td>\n      <td>0.0</td>\n      <td>0.0</td>\n      <td>6.0</td>\n      <td>15.0</td>\n      <td>98.0</td>\n      <td>16.0</td>\n    </tr>\n    <tr>\n      <th>1984</th>\n      <td>0.0</td>\n      <td>0.0000</td>\n      <td>0.0000</td>\n      <td>0.0068</td>\n      <td>0.0114</td>\n      <td>0.0349</td>\n      <td>0.2500</td>\n      <td>0.0</td>\n      <td>0.0</td>\n      <td>0.0</td>\n      <td>13.0</td>\n      <td>15.0</td>\n      <td>73.0</td>\n      <td>60.0</td>\n    </tr>\n    <tr>\n      <th>1985</th>\n      <td>0.0</td>\n      <td>0.0000</td>\n      <td>0.0000</td>\n      <td>0.0000</td>\n      <td>0.0150</td>\n      <td>0.0653</td>\n      <td>0.1538</td>\n      <td>0.0</td>\n      <td>0.0</td>\n      <td>0.0</td>\n      <td>0.0</td>\n      <td>19.0</td>\n      <td>136.0</td>\n      <td>37.0</td>\n    </tr>\n    <tr>\n      <th>1986</th>\n      <td>0.0</td>\n      <td>0.0000</td>\n      <td>0.0018</td>\n      <td>0.0034</td>\n      <td>0.0133</td>\n      <td>0.0845</td>\n      <td>0.2308</td>\n      <td>0.0</td>\n      <td>0.0</td>\n      <td>3.0</td>\n      <td>6.0</td>\n      <td>17.0</td>\n      <td>176.0</td>\n      <td>55.0</td>\n    </tr>\n    <tr>\n      <th>1987</th>\n      <td>0.0</td>\n      <td>0.0000</td>\n      <td>0.0000</td>\n      <td>0.0000</td>\n      <td>0.0038</td>\n      <td>0.0313</td>\n      <td>0.1228</td>\n      <td>0.0</td>\n      <td>0.0</td>\n      <td>0.0</td>\n      <td>0.0</td>\n      <td>5.0</td>\n      <td>65.0</td>\n      <td>29.0</td>\n    </tr>\n    <tr>\n      <th>1988</th>\n      <td>0.0</td>\n      <td>0.0000</td>\n      <td>0.0000</td>\n      <td>0.0000</td>\n      <td>0.0105</td>\n      <td>0.0368</td>\n      <td>0.2037</td>\n      <td>0.0</td>\n      <td>0.0</td>\n      <td>0.0</td>\n      <td>0.0</td>\n      <td>14.0</td>\n      <td>76.0</td>\n      <td>48.0</td>\n    </tr>\n    <tr>\n      <th>1989</th>\n      <td>0.0</td>\n      <td>0.0000</td>\n      <td>0.0018</td>\n      <td>0.0061</td>\n      <td>0.0073</td>\n      <td>0.0340</td>\n      <td>0.3333</td>\n      <td>0.0</td>\n      <td>0.0</td>\n      <td>3.0</td>\n      <td>11.0</td>\n      <td>9.0</td>\n      <td>71.0</td>\n      <td>79.0</td>\n    </tr>\n    <tr>\n      <th>1990</th>\n      <td>0.0</td>\n      <td>0.0000</td>\n      <td>0.0000</td>\n      <td>0.0058</td>\n      <td>0.0357</td>\n      <td>0.0856</td>\n      <td>0.3125</td>\n      <td>0.0</td>\n      <td>0.0</td>\n      <td>0.0</td>\n      <td>11.0</td>\n      <td>46.0</td>\n      <td>178.0</td>\n      <td>74.0</td>\n    </tr>\n    <tr>\n      <th>1991</th>\n      <td>0.0</td>\n      <td>0.0000</td>\n      <td>0.0000</td>\n      <td>0.0055</td>\n      <td>0.0169</td>\n      <td>0.1384</td>\n      <td>0.3387</td>\n      <td>0.0</td>\n      <td>0.0</td>\n      <td>0.0</td>\n      <td>10.0</td>\n      <td>22.0</td>\n      <td>288.0</td>\n      <td>81.0</td>\n    </tr>\n    <tr>\n      <th>1992</th>\n      <td>0.0</td>\n      <td>0.0000</td>\n      <td>0.0000</td>\n      <td>0.0000</td>\n      <td>0.0000</td>\n      <td>0.0699</td>\n      <td>0.3019</td>\n      <td>0.0</td>\n      <td>0.0</td>\n      <td>0.0</td>\n      <td>0.0</td>\n      <td>0.0</td>\n      <td>145.0</td>\n      <td>72.0</td>\n    </tr>\n    <tr>\n      <th>1993</th>\n      <td>0.0</td>\n      <td>0.0000</td>\n      <td>0.0000</td>\n      <td>0.0000</td>\n      <td>0.0070</td>\n      <td>0.0262</td>\n      <td>0.1333</td>\n      <td>0.0</td>\n      <td>0.0</td>\n      <td>0.0</td>\n      <td>0.0</td>\n      <td>9.0</td>\n      <td>54.0</td>\n      <td>32.0</td>\n    </tr>\n    <tr>\n      <th>1994</th>\n      <td>0.0</td>\n      <td>0.0000</td>\n      <td>0.0014</td>\n      <td>0.0000</td>\n      <td>0.0028</td>\n      <td>0.0309</td>\n      <td>0.1667</td>\n      <td>0.0</td>\n      <td>0.0</td>\n      <td>2.0</td>\n      <td>0.0</td>\n      <td>4.0</td>\n      <td>64.0</td>\n      <td>40.0</td>\n    </tr>\n    <tr>\n      <th>1995</th>\n      <td>0.0</td>\n      <td>0.0000</td>\n      <td>0.0000</td>\n      <td>0.0017</td>\n      <td>0.0099</td>\n      <td>0.0459</td>\n      <td>0.2800</td>\n      <td>0.0</td>\n      <td>0.0</td>\n      <td>0.0</td>\n      <td>3.0</td>\n      <td>13.0</td>\n      <td>95.0</td>\n      <td>67.0</td>\n    </tr>\n    <tr>\n      <th>1996</th>\n      <td>0.0</td>\n      <td>0.0000</td>\n      <td>0.0000</td>\n      <td>0.0000</td>\n      <td>0.0045</td>\n      <td>0.0291</td>\n      <td>0.0800</td>\n      <td>0.0</td>\n      <td>0.0</td>\n      <td>0.0</td>\n      <td>0.0</td>\n      <td>6.0</td>\n      <td>60.0</td>\n      <td>19.0</td>\n    </tr>\n    <tr>\n      <th>1997</th>\n      <td>0.0</td>\n      <td>0.0000</td>\n      <td>0.0000</td>\n      <td>0.0025</td>\n      <td>0.0019</td>\n      <td>0.0352</td>\n      <td>0.1200</td>\n      <td>0.0</td>\n      <td>0.0</td>\n      <td>0.0</td>\n      <td>5.0</td>\n      <td>2.0</td>\n      <td>73.0</td>\n      <td>29.0</td>\n    </tr>\n    <tr>\n      <th>1998</th>\n      <td>0.0</td>\n      <td>0.0000</td>\n      <td>0.0000</td>\n      <td>0.0041</td>\n      <td>0.0082</td>\n      <td>0.0464</td>\n      <td>0.4286</td>\n      <td>0.0</td>\n      <td>0.0</td>\n      <td>0.0</td>\n      <td>8.0</td>\n      <td>11.0</td>\n      <td>96.0</td>\n      <td>102.0</td>\n    </tr>\n    <tr>\n      <th>1999</th>\n      <td>0.0</td>\n      <td>0.0017</td>\n      <td>0.0018</td>\n      <td>0.0020</td>\n      <td>0.0095</td>\n      <td>0.0731</td>\n      <td>0.3382</td>\n      <td>0.0</td>\n      <td>1.0</td>\n      <td>3.0</td>\n      <td>4.0</td>\n      <td>12.0</td>\n      <td>152.0</td>\n      <td>80.0</td>\n    </tr>\n    <tr>\n      <th>2000</th>\n      <td>0.0</td>\n      <td>0.0000</td>\n      <td>0.0027</td>\n      <td>0.0037</td>\n      <td>0.0116</td>\n      <td>0.0771</td>\n      <td>0.3596</td>\n      <td>0.0</td>\n      <td>0.0</td>\n      <td>4.0</td>\n      <td>7.0</td>\n      <td>15.0</td>\n      <td>160.0</td>\n      <td>86.0</td>\n    </tr>\n    <tr>\n      <th>2001</th>\n      <td>0.0</td>\n      <td>0.0000</td>\n      <td>0.0027</td>\n      <td>0.0034</td>\n      <td>0.0298</td>\n      <td>0.1156</td>\n      <td>0.4545</td>\n      <td>0.0</td>\n      <td>0.0</td>\n      <td>4.0</td>\n      <td>6.0</td>\n      <td>38.0</td>\n      <td>240.0</td>\n      <td>108.0</td>\n    </tr>\n    <tr>\n      <th>2002</th>\n      <td>0.0</td>\n      <td>0.0000</td>\n      <td>0.0000</td>\n      <td>0.0102</td>\n      <td>0.0290</td>\n      <td>0.0820</td>\n      <td>0.4444</td>\n      <td>0.0</td>\n      <td>0.0</td>\n      <td>0.0</td>\n      <td>19.0</td>\n      <td>37.0</td>\n      <td>170.0</td>\n      <td>106.0</td>\n    </tr>\n    <tr>\n      <th>2003</th>\n      <td>0.0</td>\n      <td>0.0000</td>\n      <td>0.0000</td>\n      <td>0.0023</td>\n      <td>0.0059</td>\n      <td>0.0407</td>\n      <td>0.3293</td>\n      <td>0.0</td>\n      <td>0.0</td>\n      <td>0.0</td>\n      <td>4.0</td>\n      <td>8.0</td>\n      <td>85.0</td>\n      <td>78.0</td>\n    </tr>\n    <tr>\n      <th>2004</th>\n      <td>0.0</td>\n      <td>0.0000</td>\n      <td>0.0008</td>\n      <td>0.0000</td>\n      <td>0.0044</td>\n      <td>0.0145</td>\n      <td>0.1630</td>\n      <td>0.0</td>\n      <td>0.0</td>\n      <td>1.0</td>\n      <td>0.0</td>\n      <td>6.0</td>\n      <td>30.0</td>\n      <td>39.0</td>\n    </tr>\n    <tr>\n      <th>2005</th>\n      <td>0.0</td>\n      <td>0.0000</td>\n      <td>0.0000</td>\n      <td>0.0007</td>\n      <td>0.0031</td>\n      <td>0.0175</td>\n      <td>0.0909</td>\n      <td>0.0</td>\n      <td>0.0</td>\n      <td>0.0</td>\n      <td>1.0</td>\n      <td>4.0</td>\n      <td>36.0</td>\n      <td>22.0</td>\n    </tr>\n    <tr>\n      <th>2006</th>\n      <td>0.0</td>\n      <td>0.0000</td>\n      <td>0.0000</td>\n      <td>0.0000</td>\n      <td>0.0030</td>\n      <td>0.0082</td>\n      <td>0.1333</td>\n      <td>0.0</td>\n      <td>0.0</td>\n      <td>0.0</td>\n      <td>0.0</td>\n      <td>4.0</td>\n      <td>17.0</td>\n      <td>32.0</td>\n    </tr>\n    <tr>\n      <th>2007</th>\n      <td>0.0</td>\n      <td>0.0000</td>\n      <td>0.0000</td>\n      <td>0.0000</td>\n      <td>0.0020</td>\n      <td>0.0025</td>\n      <td>0.1524</td>\n      <td>0.0</td>\n      <td>0.0</td>\n      <td>0.0</td>\n      <td>0.0</td>\n      <td>3.0</td>\n      <td>5.0</td>\n      <td>36.0</td>\n    </tr>\n    <tr>\n      <th>2008</th>\n      <td>0.0</td>\n      <td>0.0038</td>\n      <td>0.0039</td>\n      <td>0.0049</td>\n      <td>0.0081</td>\n      <td>0.0411</td>\n      <td>0.2727</td>\n      <td>0.0</td>\n      <td>1.0</td>\n      <td>6.0</td>\n      <td>9.0</td>\n      <td>10.0</td>\n      <td>85.0</td>\n      <td>65.0</td>\n    </tr>\n    <tr>\n      <th>2009</th>\n      <td>0.0</td>\n      <td>0.0000</td>\n      <td>0.0022</td>\n      <td>0.0055</td>\n      <td>0.0075</td>\n      <td>0.1103</td>\n      <td>0.4946</td>\n      <td>0.0</td>\n      <td>0.0</td>\n      <td>3.0</td>\n      <td>10.0</td>\n      <td>10.0</td>\n      <td>229.0</td>\n      <td>118.0</td>\n    </tr>\n    <tr>\n      <th>2010</th>\n      <td>0.0</td>\n      <td>0.0000</td>\n      <td>0.0000</td>\n      <td>0.0000</td>\n      <td>0.0058</td>\n      <td>0.0087</td>\n      <td>0.2283</td>\n      <td>0.0</td>\n      <td>0.0</td>\n      <td>0.0</td>\n      <td>0.0</td>\n      <td>7.0</td>\n      <td>18.0</td>\n      <td>54.0</td>\n    </tr>\n    <tr>\n      <th>2011</th>\n      <td>0.0</td>\n      <td>0.0000</td>\n      <td>0.0000</td>\n      <td>0.0007</td>\n      <td>0.0000</td>\n      <td>0.0168</td>\n      <td>0.1642</td>\n      <td>0.0</td>\n      <td>0.0</td>\n      <td>0.0</td>\n      <td>1.0</td>\n      <td>0.0</td>\n      <td>35.0</td>\n      <td>39.0</td>\n    </tr>\n    <tr>\n      <th>2012</th>\n      <td>0.0</td>\n      <td>0.0000</td>\n      <td>0.0000</td>\n      <td>0.0000</td>\n      <td>0.0030</td>\n      <td>0.0158</td>\n      <td>0.2752</td>\n      <td>0.0</td>\n      <td>0.0</td>\n      <td>0.0</td>\n      <td>0.0</td>\n      <td>4.0</td>\n      <td>33.0</td>\n      <td>65.0</td>\n    </tr>\n    <tr>\n      <th>2013</th>\n      <td>0.0</td>\n      <td>0.0000</td>\n      <td>0.0000</td>\n      <td>0.0000</td>\n      <td>0.0010</td>\n      <td>0.0165</td>\n      <td>0.2467</td>\n      <td>0.0</td>\n      <td>0.0</td>\n      <td>0.0</td>\n      <td>0.0</td>\n      <td>1.0</td>\n      <td>34.0</td>\n      <td>59.0</td>\n    </tr>\n    <tr>\n      <th>2014</th>\n      <td>0.0</td>\n      <td>0.0000</td>\n      <td>0.0000</td>\n      <td>0.0000</td>\n      <td>0.0000</td>\n      <td>0.0078</td>\n      <td>0.1751</td>\n      <td>0.0</td>\n      <td>0.0</td>\n      <td>0.0</td>\n      <td>0.0</td>\n      <td>0.0</td>\n      <td>16.0</td>\n      <td>42.0</td>\n    </tr>\n    <tr>\n      <th>2015</th>\n      <td>0.0</td>\n      <td>0.0000</td>\n      <td>0.0000</td>\n      <td>0.0000</td>\n      <td>0.0016</td>\n      <td>0.0242</td>\n      <td>0.2667</td>\n      <td>0.0</td>\n      <td>0.0</td>\n      <td>0.0</td>\n      <td>0.0</td>\n      <td>2.0</td>\n      <td>50.0</td>\n      <td>63.0</td>\n    </tr>\n    <tr>\n      <th>2016</th>\n      <td>0.0</td>\n      <td>0.0000</td>\n      <td>0.0000</td>\n      <td>0.0006</td>\n      <td>0.0047</td>\n      <td>0.0376</td>\n      <td>0.3317</td>\n      <td>0.0</td>\n      <td>0.0</td>\n      <td>0.0</td>\n      <td>1.0</td>\n      <td>6.0</td>\n      <td>78.0</td>\n      <td>79.0</td>\n    </tr>\n    <tr>\n      <th>2017</th>\n      <td>0.0</td>\n      <td>0.0000</td>\n      <td>0.0000</td>\n      <td>0.0000</td>\n      <td>0.0008</td>\n      <td>0.0100</td>\n      <td>0.2656</td>\n      <td>0.0</td>\n      <td>0.0</td>\n      <td>0.0</td>\n      <td>0.0</td>\n      <td>1.0</td>\n      <td>21.0</td>\n      <td>63.0</td>\n    </tr>\n    <tr>\n      <th>2018</th>\n      <td>0.0</td>\n      <td>0.0000</td>\n      <td>0.0000</td>\n      <td>0.0000</td>\n      <td>0.0000</td>\n      <td>0.0099</td>\n      <td>0.2718</td>\n      <td>0.0</td>\n      <td>0.0</td>\n      <td>0.0</td>\n      <td>0.0</td>\n      <td>0.0</td>\n      <td>21.0</td>\n      <td>65.0</td>\n    </tr>\n    <tr>\n      <th>2019</th>\n      <td>0.0</td>\n      <td>0.0000</td>\n      <td>0.0000</td>\n      <td>0.0011</td>\n      <td>0.0000</td>\n      <td>0.0149</td>\n      <td>0.2976</td>\n      <td>0.0</td>\n      <td>0.0</td>\n      <td>0.0</td>\n      <td>2.0</td>\n      <td>0.0</td>\n      <td>31.0</td>\n      <td>71.0</td>\n    </tr>\n    <tr>\n      <th>2020</th>\n      <td>0.0</td>\n      <td>0.0000</td>\n      <td>0.0000</td>\n      <td>0.0000</td>\n      <td>0.0093</td>\n      <td>0.0352</td>\n      <td>0.4748</td>\n      <td>0.0</td>\n      <td>0.0</td>\n      <td>0.0</td>\n      <td>0.0</td>\n      <td>12.0</td>\n      <td>73.0</td>\n      <td>113.0</td>\n    </tr>\n  </tbody>\n</table>\n</div>"
     },
     "execution_count": 7,
     "metadata": {},
     "output_type": "execute_result"
    }
   ],
   "source": [
    "grades_data"
   ],
   "metadata": {
    "collapsed": false,
    "ExecuteTime": {
     "end_time": "2024-05-31T12:06:01.905734500Z",
     "start_time": "2024-05-31T12:06:01.719718400Z"
    }
   },
   "id": "efdee26b794fecb1"
  },
  {
   "cell_type": "code",
   "execution_count": 8,
   "outputs": [
    {
     "data": {
      "text/plain": "AA defaults          2.0\nA defaults          32.0\nBBB defaults       143.0\nBB defaults        442.0\nB defaults        3481.0\nCCC/C defaults    2374.0\ndtype: float64"
     },
     "execution_count": 8,
     "metadata": {},
     "output_type": "execute_result"
    }
   ],
   "source": [
    "grades_data.iloc[:, -6:].sum(axis=0)"
   ],
   "metadata": {
    "collapsed": false,
    "ExecuteTime": {
     "end_time": "2024-05-31T12:06:01.905734500Z",
     "start_time": "2024-05-31T12:06:01.783724900Z"
    }
   },
   "id": "80dd0b642bd4548e"
  },
  {
   "cell_type": "markdown",
   "source": [
    "# Method of moments estimation"
   ],
   "metadata": {
    "collapsed": false
   },
   "id": "ff4f74865e5b9196"
  },
  {
   "cell_type": "code",
   "execution_count": 9,
   "outputs": [
    {
     "name": "stdout",
     "output_type": "stream",
     "text": [
      "Estimated parameters with method of moments for grade A: 0.32079619715323154 -3.274097580352716\n",
      "Estimated parameters with method of moments for grade BBB: 0.3052910734050114 -2.8865426119490847\n",
      "Estimated parameters with method of moments for grade BB: 0.34425506169993114 -2.3842278912651227\n",
      "Estimated parameters with method of moments for grade B: 0.32802652316160996 -1.728911139866942\n",
      "Estimated parameters with method of moments for grade CCC/C: 0.35192348999999484 -0.6770330266259245\n"
     ]
    }
   ],
   "source": [
    "# MM for A, BBB, BB, B, CCC/C\n",
    "grades_list = [\"A\", \"BBB\", \"BB\", \"B\", \"CCC/C\"]\n",
    "# Call estimate_w_factor_loading function for each grade\n",
    "num_of_rows = grades_data.shape[0]\n",
    "\n",
    "MM_params = {}\n",
    "for grade in grades_list:\n",
    "    n_g_over_time = np.array([num_of_obligors_data[grade]] * num_of_rows)\n",
    "    MM_params[grade] = estimate_w_factor_loading(grades_data[grade], n_g_over_time, initial_guess=0.45, tolerance=1e-20)\n",
    "    print(f\"Estimated parameters with method of moments for grade {grade}:\", MM_params[grade][0], norm.ppf(MM_params[grade][1]))"
   ],
   "metadata": {
    "collapsed": false,
    "ExecuteTime": {
     "end_time": "2024-05-31T12:06:09.759332600Z",
     "start_time": "2024-05-31T12:06:09.398300500Z"
    }
   },
   "id": "aeaa31e8333f147a"
  },
  {
   "cell_type": "markdown",
   "source": [
    "# Joint maximum likelihood estimation (MLE2)"
   ],
   "metadata": {
    "collapsed": false
   },
   "id": "6ca0352dc931fb"
  },
  {
   "cell_type": "code",
   "execution_count": 10,
   "outputs": [],
   "source": [
    "default_table = grades_data[[grade + \" defaults\" for grade in grades_list]]"
   ],
   "metadata": {
    "collapsed": false,
    "ExecuteTime": {
     "end_time": "2024-05-31T12:06:40.098289600Z",
     "start_time": "2024-05-31T12:06:40.056280500Z"
    }
   },
   "id": "e953b4ebe809053d"
  },
  {
   "cell_type": "code",
   "execution_count": 15,
   "outputs": [],
   "source": [
    "# Choose defaults cols from grades_data which is in grades_list\n",
    "default_table = grades_data[[grade + \" defaults\" for grade in grades_list]]\n",
    "num_of_obligors_table = np.array([list(num_of_obligors_data.values())[2:]] * default_table.shape[0])\n",
    "\n",
    "gamma_init = [norm.ppf(MM_params[grade][1]) for grade in grades_list]\n",
    "w_init = [MM_params[grade][0] for grade in grades_list]\n",
    "\n",
    "ml_results = mle_trapz_g_and_w(default_table.values, num_of_obligors_table, w_init, gamma_init)"
   ],
   "metadata": {
    "collapsed": false,
    "ExecuteTime": {
     "end_time": "2024-05-28T17:36:52.274369600Z",
     "start_time": "2024-05-28T17:34:14.278257700Z"
    }
   },
   "id": "f4a81849fff24209"
  },
  {
   "cell_type": "code",
   "execution_count": 16,
   "outputs": [
    {
     "name": "stdout",
     "output_type": "stream",
     "text": [
      "Estimated factor loading parameters with maximum likelihood method: [0.25796213 0.30810677 0.28655603 0.3295988  0.23400287]\n",
      "Estimated gamma parameters with maximum likelihood method: [-3.25732581 -2.88735103 -2.38341288 -1.73028909 -0.67635586]\n"
     ]
    }
   ],
   "source": [
    "print(\"Estimated factor loading parameters with maximum likelihood method:\", ml_results[0])\n",
    "print(\"Estimated gamma parameters with maximum likelihood method:\", ml_results[1])"
   ],
   "metadata": {
    "collapsed": false,
    "ExecuteTime": {
     "end_time": "2024-05-28T17:36:52.300369700Z",
     "start_time": "2024-05-28T17:36:52.275368200Z"
    }
   },
   "id": "adf441a7de781291"
  },
  {
   "cell_type": "markdown",
   "source": [
    "# MLE1 estimation"
   ],
   "metadata": {
    "collapsed": false
   },
   "id": "a1c49f2569d432e6"
  },
  {
   "cell_type": "code",
   "execution_count": 20,
   "outputs": [
    {
     "name": "stdout",
     "output_type": "stream",
     "text": [
      "Estimated w parameter for grade A: 0.5378761710456441\n",
      "Estimated gamma parameter for grade A: -3.169554212177444\n",
      "Estimated w parameter for grade BBB: 0.5071745696131205\n",
      "Estimated gamma parameter for grade BBB: -2.8030945529131905\n",
      "Estimated w parameter for grade BB: 0.40227045602361006\n",
      "Estimated gamma parameter for grade BB: -2.365630785040319\n",
      "Estimated w parameter for grade B: 0.3454046740691857\n",
      "Estimated gamma parameter for grade B: -1.7280865455767747\n",
      "Estimated w parameter for grade CCC/C: 0.33326611236130066\n",
      "Estimated gamma parameter for grade CCC/C: -0.6574256413452311\n"
     ]
    }
   ],
   "source": [
    "MLE1_w = []\n",
    "MLE1_gamma = []\n",
    "\n",
    "for col in range(default_table.shape[1]):\n",
    "    defaults_col = default_table.iloc[:, col]\n",
    "    num_of_obligors_col = np.array([list(num_of_obligors_data.values())[2:][col]] * len(defaults_col))\n",
    "    w_param, pd_param, _ = mle_trapz_g_and_w(defaults_col.values,\n",
    "                                             num_of_obligors_col,\n",
    "                                             [w_init[col]],\n",
    "                                             [gamma_init[col]])\n",
    "    print(f\"Estimated w parameter for grade {grades_list[col]}:\", w_param[0])\n",
    "    print(f\"Estimated gamma parameter for grade {grades_list[col]}:\", pd_param[0])\n",
    "    # Save the results\n",
    "    MLE1_w.append(w_param[0])\n",
    "    MLE1_gamma.append(pd_param[0])"
   ],
   "metadata": {
    "collapsed": false,
    "ExecuteTime": {
     "end_time": "2024-05-28T17:38:13.374310200Z",
     "start_time": "2024-05-28T17:38:03.246796900Z"
    }
   },
   "id": "6ed3841913f41d51"
  },
  {
   "cell_type": "markdown",
   "source": [
    "## MLE3 (same w case)"
   ],
   "metadata": {
    "collapsed": false
   },
   "id": "69a459ef58a39958"
  },
  {
   "cell_type": "code",
   "execution_count": 18,
   "outputs": [],
   "source": [
    "w_1 = [0.3]\n",
    "ml_1w_results = mle_trapz_g_and_w(default_table.values, num_of_obligors_table, w_1, gamma_init)"
   ],
   "metadata": {
    "collapsed": false,
    "ExecuteTime": {
     "end_time": "2024-05-28T17:37:23.693051800Z",
     "start_time": "2024-05-28T17:37:02.216215300Z"
    }
   },
   "id": "5b8d28b3557693da"
  },
  {
   "cell_type": "code",
   "execution_count": 19,
   "outputs": [
    {
     "name": "stdout",
     "output_type": "stream",
     "text": [
      "Estimated factor loading parameters with maximum likelihood method: [0.30037574]\n",
      "Estimated gamma parameters with maximum likelihood method: [-3.25489768 -2.89015766 -2.3832857  -1.7328108  -0.67376171]\n"
     ]
    }
   ],
   "source": [
    "print(\"Estimated factor loading parameters with maximum likelihood method:\", ml_1w_results[0])\n",
    "print(\"Estimated gamma parameters with maximum likelihood method:\", ml_1w_results[1])"
   ],
   "metadata": {
    "collapsed": false,
    "ExecuteTime": {
     "end_time": "2024-05-28T17:37:23.694050900Z",
     "start_time": "2024-05-28T17:37:23.670051200Z"
    }
   },
   "id": "3ff1fec6c2fcb6c5"
  },
  {
   "cell_type": "code",
   "execution_count": 33,
   "outputs": [],
   "source": [
    "MM_w = [MM_params[grade][0] for grade in grades_list]\n",
    "MM_gamma = [norm.ppf(MM_params[grade][1]) for grade in grades_list]\n",
    "\n",
    "MLE_w = [ml_results[0][i] for i in range(len(grades_list))]\n",
    "MLE_gamma = [ml_results[1][i] for i in range(len(grades_list))]\n",
    "\n",
    "MLE_same_w = list(ml_1w_results[0]) * len(grades_list)\n",
    "MLE_same_w_gamma = ml_1w_results[1]"
   ],
   "metadata": {
    "collapsed": false,
    "ExecuteTime": {
     "end_time": "2024-05-28T17:41:21.912436900Z",
     "start_time": "2024-05-28T17:41:21.871434100Z"
    }
   },
   "id": "92a909a15056dd52"
  },
  {
   "cell_type": "code",
   "execution_count": 36,
   "outputs": [],
   "source": [
    "# Create the dataframe\n",
    "w_df = pd.DataFrame([MM_w, MLE1_w, MLE_w, MLE_same_w], columns=grades_list, index=[\"MM\", \"MLE1\", \"MLE2\", \"MLE3\"])\n",
    "gamma_df = pd.DataFrame([MM_gamma, MLE1_gamma, MLE_gamma, MLE_same_w_gamma], columns=grades_list, index=[\"MM\", \"MLE1\", \"MLE2\", \"MLE3\"])"
   ],
   "metadata": {
    "collapsed": false,
    "ExecuteTime": {
     "end_time": "2024-05-28T17:41:47.764826800Z",
     "start_time": "2024-05-28T17:41:47.682809100Z"
    }
   },
   "id": "f90d512681690632"
  },
  {
   "cell_type": "code",
   "execution_count": 37,
   "outputs": [
    {
     "data": {
      "text/plain": "             A       BBB        BB         B     CCC/C\nMM    0.320796  0.305291  0.344255  0.328027  0.351923\nMLE1  0.537876  0.507175  0.402270  0.345405  0.333266\nMLE2  0.257962  0.308107  0.286556  0.329599  0.234003\nMLE3  0.300376  0.300376  0.300376  0.300376  0.300376",
      "text/html": "<div>\n<style scoped>\n    .dataframe tbody tr th:only-of-type {\n        vertical-align: middle;\n    }\n\n    .dataframe tbody tr th {\n        vertical-align: top;\n    }\n\n    .dataframe thead th {\n        text-align: right;\n    }\n</style>\n<table border=\"1\" class=\"dataframe\">\n  <thead>\n    <tr style=\"text-align: right;\">\n      <th></th>\n      <th>A</th>\n      <th>BBB</th>\n      <th>BB</th>\n      <th>B</th>\n      <th>CCC/C</th>\n    </tr>\n  </thead>\n  <tbody>\n    <tr>\n      <th>MM</th>\n      <td>0.320796</td>\n      <td>0.305291</td>\n      <td>0.344255</td>\n      <td>0.328027</td>\n      <td>0.351923</td>\n    </tr>\n    <tr>\n      <th>MLE1</th>\n      <td>0.537876</td>\n      <td>0.507175</td>\n      <td>0.402270</td>\n      <td>0.345405</td>\n      <td>0.333266</td>\n    </tr>\n    <tr>\n      <th>MLE2</th>\n      <td>0.257962</td>\n      <td>0.308107</td>\n      <td>0.286556</td>\n      <td>0.329599</td>\n      <td>0.234003</td>\n    </tr>\n    <tr>\n      <th>MLE3</th>\n      <td>0.300376</td>\n      <td>0.300376</td>\n      <td>0.300376</td>\n      <td>0.300376</td>\n      <td>0.300376</td>\n    </tr>\n  </tbody>\n</table>\n</div>"
     },
     "execution_count": 37,
     "metadata": {},
     "output_type": "execute_result"
    }
   ],
   "source": [
    "w_df"
   ],
   "metadata": {
    "collapsed": false,
    "ExecuteTime": {
     "end_time": "2024-05-28T17:41:48.170385900Z",
     "start_time": "2024-05-28T17:41:48.093381400Z"
    }
   },
   "id": "f30e785089bbce99"
  },
  {
   "cell_type": "code",
   "execution_count": 39,
   "outputs": [],
   "source": [
    "w_df.to_csv(\"result_tables/sp_estimated_w.csv\")"
   ],
   "metadata": {
    "collapsed": false,
    "ExecuteTime": {
     "end_time": "2024-05-28T17:42:35.802303500Z",
     "start_time": "2024-05-28T17:42:35.697298300Z"
    }
   },
   "id": "b310d656076d95e1"
  },
  {
   "cell_type": "code",
   "execution_count": 38,
   "outputs": [
    {
     "data": {
      "text/plain": "             A       BBB        BB         B     CCC/C\nMM   -3.274098 -2.886543 -2.384228 -1.728911 -0.677033\nMLE1 -3.169554 -2.803095 -2.365631 -1.728087 -0.657426\nMLE2 -3.257326 -2.887351 -2.383413 -1.730289 -0.676356\nMLE3 -3.254898 -2.890158 -2.383286 -1.732811 -0.673762",
      "text/html": "<div>\n<style scoped>\n    .dataframe tbody tr th:only-of-type {\n        vertical-align: middle;\n    }\n\n    .dataframe tbody tr th {\n        vertical-align: top;\n    }\n\n    .dataframe thead th {\n        text-align: right;\n    }\n</style>\n<table border=\"1\" class=\"dataframe\">\n  <thead>\n    <tr style=\"text-align: right;\">\n      <th></th>\n      <th>A</th>\n      <th>BBB</th>\n      <th>BB</th>\n      <th>B</th>\n      <th>CCC/C</th>\n    </tr>\n  </thead>\n  <tbody>\n    <tr>\n      <th>MM</th>\n      <td>-3.274098</td>\n      <td>-2.886543</td>\n      <td>-2.384228</td>\n      <td>-1.728911</td>\n      <td>-0.677033</td>\n    </tr>\n    <tr>\n      <th>MLE1</th>\n      <td>-3.169554</td>\n      <td>-2.803095</td>\n      <td>-2.365631</td>\n      <td>-1.728087</td>\n      <td>-0.657426</td>\n    </tr>\n    <tr>\n      <th>MLE2</th>\n      <td>-3.257326</td>\n      <td>-2.887351</td>\n      <td>-2.383413</td>\n      <td>-1.730289</td>\n      <td>-0.676356</td>\n    </tr>\n    <tr>\n      <th>MLE3</th>\n      <td>-3.254898</td>\n      <td>-2.890158</td>\n      <td>-2.383286</td>\n      <td>-1.732811</td>\n      <td>-0.673762</td>\n    </tr>\n  </tbody>\n</table>\n</div>"
     },
     "execution_count": 38,
     "metadata": {},
     "output_type": "execute_result"
    }
   ],
   "source": [
    "gamma_df"
   ],
   "metadata": {
    "collapsed": false,
    "ExecuteTime": {
     "end_time": "2024-05-28T17:41:54.475871900Z",
     "start_time": "2024-05-28T17:41:54.376864400Z"
    }
   },
   "id": "540aec717d6f113f"
  },
  {
   "cell_type": "code",
   "execution_count": 40,
   "outputs": [],
   "source": [
    "gamma_df.to_csv(\"result_tables/sp_estimated_gamma.csv\")"
   ],
   "metadata": {
    "collapsed": false,
    "ExecuteTime": {
     "end_time": "2024-05-28T17:42:40.016644900Z",
     "start_time": "2024-05-28T17:42:39.980640300Z"
    }
   },
   "id": "83fbde7f7289e6d0"
  }
 ],
 "metadata": {
  "kernelspec": {
   "name": "python3",
   "language": "python",
   "display_name": "Python 3 (ipykernel)"
  },
  "language_info": {
   "codemirror_mode": {
    "name": "ipython",
    "version": 2
   },
   "file_extension": ".py",
   "mimetype": "text/x-python",
   "name": "python",
   "nbconvert_exporter": "python",
   "pygments_lexer": "ipython2",
   "version": "2.7.6"
  }
 },
 "nbformat": 4,
 "nbformat_minor": 5
}
