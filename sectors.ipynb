{
 "cells": [
  {
   "cell_type": "code",
   "execution_count": 1,
   "id": "initial_id",
   "metadata": {
    "collapsed": true,
    "ExecuteTime": {
     "end_time": "2024-03-22T20:50:28.733398600Z",
     "start_time": "2024-03-22T20:50:28.013459500Z"
    }
   },
   "outputs": [],
   "source": [
    "import pandas as pd"
   ]
  },
  {
   "cell_type": "code",
   "execution_count": 2,
   "outputs": [],
   "source": [
    "df = pd.read_csv('data/sector_pd.csv')"
   ],
   "metadata": {
    "collapsed": false,
    "ExecuteTime": {
     "end_time": "2024-03-22T20:50:28.773477600Z",
     "start_time": "2024-03-22T20:50:28.735398700Z"
    }
   },
   "id": "d613718c39034f51"
  },
  {
   "cell_type": "code",
   "execution_count": 3,
   "outputs": [
    {
     "data": {
      "text/plain": "                   Industry  number_of_firms  probability_of_default(%)\n0      Aerospace/automobile              301                       2.08\n1   Consumer/service sector              355                       2.37\n2  Energy/natural resources              177                       2.10\n3    Financial institutions              424                       0.57\n4  Forest/building products              282                       1.90",
      "text/html": "<div>\n<style scoped>\n    .dataframe tbody tr th:only-of-type {\n        vertical-align: middle;\n    }\n\n    .dataframe tbody tr th {\n        vertical-align: top;\n    }\n\n    .dataframe thead th {\n        text-align: right;\n    }\n</style>\n<table border=\"1\" class=\"dataframe\">\n  <thead>\n    <tr style=\"text-align: right;\">\n      <th></th>\n      <th>Industry</th>\n      <th>number_of_firms</th>\n      <th>probability_of_default(%)</th>\n    </tr>\n  </thead>\n  <tbody>\n    <tr>\n      <th>0</th>\n      <td>Aerospace/automobile</td>\n      <td>301</td>\n      <td>2.08</td>\n    </tr>\n    <tr>\n      <th>1</th>\n      <td>Consumer/service sector</td>\n      <td>355</td>\n      <td>2.37</td>\n    </tr>\n    <tr>\n      <th>2</th>\n      <td>Energy/natural resources</td>\n      <td>177</td>\n      <td>2.10</td>\n    </tr>\n    <tr>\n      <th>3</th>\n      <td>Financial institutions</td>\n      <td>424</td>\n      <td>0.57</td>\n    </tr>\n    <tr>\n      <th>4</th>\n      <td>Forest/building products</td>\n      <td>282</td>\n      <td>1.90</td>\n    </tr>\n  </tbody>\n</table>\n</div>"
     },
     "execution_count": 3,
     "metadata": {},
     "output_type": "execute_result"
    }
   ],
   "source": [
    "df.head()"
   ],
   "metadata": {
    "collapsed": false,
    "ExecuteTime": {
     "end_time": "2024-03-22T20:50:28.794649300Z",
     "start_time": "2024-03-22T20:50:28.766477Z"
    }
   },
   "id": "fadeb5cb94dba501"
  },
  {
   "cell_type": "code",
   "execution_count": 4,
   "outputs": [
    {
     "data": {
      "text/plain": "0     6.2608\n1     8.4135\n2     3.7170\n3     2.4168\n4     5.3580\n5     1.7145\n6     2.1746\n7     1.0126\n8     6.9832\n9     1.3433\n10    1.9100\n11    2.9492\n12    0.8858\ndtype: float64"
     },
     "execution_count": 4,
     "metadata": {},
     "output_type": "execute_result"
    }
   ],
   "source": [
    "df['number_of_firms'] * df['probability_of_default(%)'] / 100"
   ],
   "metadata": {
    "collapsed": false,
    "ExecuteTime": {
     "end_time": "2024-03-22T20:50:28.853933800Z",
     "start_time": "2024-03-22T20:50:28.796649Z"
    }
   },
   "id": "247cd174bcfc495"
  },
  {
   "cell_type": "code",
   "execution_count": 4,
   "outputs": [],
   "source": [],
   "metadata": {
    "collapsed": false,
    "ExecuteTime": {
     "end_time": "2024-03-22T20:50:28.901945Z",
     "start_time": "2024-03-22T20:50:28.811655500Z"
    }
   },
   "id": "d8ad1a672d6c3e30"
  }
 ],
 "metadata": {
  "kernelspec": {
   "display_name": "Python 3",
   "language": "python",
   "name": "python3"
  },
  "language_info": {
   "codemirror_mode": {
    "name": "ipython",
    "version": 2
   },
   "file_extension": ".py",
   "mimetype": "text/x-python",
   "name": "python",
   "nbconvert_exporter": "python",
   "pygments_lexer": "ipython2",
   "version": "2.7.6"
  }
 },
 "nbformat": 4,
 "nbformat_minor": 5
}
