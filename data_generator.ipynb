{
 "cells": [
  {
   "cell_type": "markdown",
   "source": [
    "## This notebook is used to generate the data for MLE estimation"
   ],
   "metadata": {
    "collapsed": false
   },
   "id": "9982241d3e6347d"
  },
  {
   "cell_type": "code",
   "execution_count": 20,
   "outputs": [],
   "source": [
    "import numpy as np\n",
    "from scipy.stats import norm, binom\n",
    "from scipy.integrate import quad\n",
    "from scipy.optimize import minimize\n",
    "from src.sucess_probability import p_g"
   ],
   "metadata": {
    "collapsed": false,
    "ExecuteTime": {
     "end_time": "2024-03-11T15:59:29.126783900Z",
     "start_time": "2024-03-11T15:59:29.036781600Z"
    }
   },
   "id": "9f86044d9ccc5727"
  },
  {
   "cell_type": "code",
   "execution_count": 3,
   "outputs": [],
   "source": [
    "# Define the parameters\n",
    "factor_loading = 0.45\n",
    "gamma = -1.5"
   ],
   "metadata": {
    "collapsed": false,
    "ExecuteTime": {
     "end_time": "2024-03-11T15:47:17.729398400Z",
     "start_time": "2024-03-11T15:47:17.707483900Z"
    }
   },
   "id": "initial_id"
  },
  {
   "cell_type": "code",
   "execution_count": 4,
   "outputs": [],
   "source": [
    "# Generate normalized return on obligors’ assets (Y) for only 1 bucket\n",
    "def generate_y(factor_loading, num_of_obligors):\n",
    "    x = np.random.normal()\n",
    "    epsilon = np.random.normal(0, 1, num_of_obligors)\n",
    "    y = factor_loading * x + epsilon * (1 - factor_loading**2)**0.5\n",
    "    return y"
   ],
   "metadata": {
    "collapsed": false,
    "ExecuteTime": {
     "end_time": "2024-03-11T15:47:17.760403800Z",
     "start_time": "2024-03-11T15:47:17.725398600Z"
    }
   },
   "id": "44e48f642f9ab3f2"
  },
  {
   "cell_type": "code",
   "execution_count": 5,
   "outputs": [
    {
     "data": {
      "text/plain": "array([-0.44815958,  0.5064781 ,  3.35760445, -0.07933204,  0.17803017])"
     },
     "execution_count": 5,
     "metadata": {},
     "output_type": "execute_result"
    }
   ],
   "source": [
    "generate_y(factor_loading, 5)"
   ],
   "metadata": {
    "collapsed": false,
    "ExecuteTime": {
     "end_time": "2024-03-11T15:47:17.776402200Z",
     "start_time": "2024-03-11T15:47:17.742403100Z"
    }
   },
   "id": "1c94f7b1b42decd7"
  },
  {
   "cell_type": "code",
   "execution_count": 6,
   "outputs": [],
   "source": [
    "def generate_default(num_of_obligors, factor_loading, gamma):\n",
    "    y = generate_y(factor_loading, num_of_obligors)\n",
    "    default = (y < gamma).sum()\n",
    "    return default"
   ],
   "metadata": {
    "collapsed": false,
    "ExecuteTime": {
     "end_time": "2024-03-11T15:47:17.778400800Z",
     "start_time": "2024-03-11T15:47:17.756400800Z"
    }
   },
   "id": "a6eb89abcf780c33"
  },
  {
   "cell_type": "code",
   "execution_count": 26,
   "outputs": [
    {
     "name": "stdout",
     "output_type": "stream",
     "text": [
      "Number of defaults:  14.6875\n"
     ]
    }
   ],
   "source": [
    "n_g = 250\n",
    "d_g_list = []\n",
    "for i in range(160):\n",
    "    d_g_list.append(generate_default(n_g, factor_loading, gamma))\n",
    "#d_g = generate_default(n_g, factor_loading, gamma)\n",
    "print(\"Number of defaults: \", np.mean(d_g_list))"
   ],
   "metadata": {
    "collapsed": false,
    "ExecuteTime": {
     "end_time": "2024-03-11T16:17:24.740714800Z",
     "start_time": "2024-03-11T16:17:24.647708100Z"
    }
   },
   "id": "3c3813f88bc1e540"
  },
  {
   "cell_type": "code",
   "execution_count": 8,
   "outputs": [
    {
     "data": {
      "text/plain": "668.0720126885806"
     },
     "execution_count": 8,
     "metadata": {},
     "output_type": "execute_result"
    }
   ],
   "source": [
    "norm.cdf(gamma) * n_g"
   ],
   "metadata": {
    "collapsed": false,
    "ExecuteTime": {
     "end_time": "2024-03-11T15:56:40.558655200Z",
     "start_time": "2024-03-11T15:56:40.463651Z"
    }
   },
   "id": "359163407a5879df"
  },
  {
   "cell_type": "code",
   "execution_count": 9,
   "outputs": [
    {
     "data": {
      "text/plain": "648.31"
     },
     "execution_count": 9,
     "metadata": {},
     "output_type": "execute_result"
    }
   ],
   "source": [
    "default_list = []\n",
    "for i in range(100):\n",
    "    default_list.append(generate_default(n_g, factor_loading, gamma))\n",
    "    \n",
    "np.mean(default_list)"
   ],
   "metadata": {
    "collapsed": false,
    "ExecuteTime": {
     "end_time": "2024-03-11T15:56:40.880682600Z",
     "start_time": "2024-03-11T15:56:40.730672700Z"
    }
   },
   "id": "a5b0df390804b79f"
  },
  {
   "cell_type": "code",
   "execution_count": 33,
   "outputs": [],
   "source": [
    "# Generate normalized return on obligors’ assets (Y) for more buckets\n",
    "def generate_default_buckets(factor_loading_list, num_of_obligors_list, gamma_list):\n",
    "    x = np.random.normal(0, 1, 160)\n",
    "    defaults_list = []\n",
    "    \n",
    "    for index, num_of_obligors in enumerate(num_of_obligors_list):\n",
    "        d_g = 0\n",
    "        for i in range(160):\n",
    "            epsilon = np.random.normal(0, 1, num_of_obligors)\n",
    "            y = factor_loading_list[index] * x[i] + epsilon * (1 - factor_loading_list[index]**2)**0.5\n",
    "            d_g += (y < gamma_list[index]).sum()\n",
    "        defaults_list.append(d_g)\n",
    "\n",
    "    return defaults_list"
   ],
   "metadata": {
    "collapsed": false,
    "ExecuteTime": {
     "end_time": "2024-03-11T16:21:44.033611100Z",
     "start_time": "2024-03-11T16:21:43.887603600Z"
    }
   },
   "id": "998e39d0f462d17d"
  },
  {
   "cell_type": "code",
   "execution_count": 52,
   "outputs": [
    {
     "name": "stdout",
     "output_type": "stream",
     "text": [
      "Number of defaults:  [75, 446, 2161]\n"
     ]
    }
   ],
   "source": [
    "factor_loading_list = [0.45, 0.45, 0.45]\n",
    "num_of_obligors_list = [250, 250, 250]\n",
    "gamma_list = [-2.9, -2.3, -1.6]\n",
    "d_g_list = generate_default_buckets(factor_loading_list,num_of_obligors_list, gamma_list)\n",
    "print(\"Number of defaults: \", d_g_list)"
   ],
   "metadata": {
    "collapsed": false,
    "ExecuteTime": {
     "end_time": "2024-03-11T16:30:29.036793500Z",
     "start_time": "2024-03-11T16:30:28.869782Z"
    }
   },
   "id": "ac38b760863d5cb"
  },
  {
   "cell_type": "code",
   "execution_count": 66,
   "outputs": [],
   "source": [
    "def calculate_my_likelihood_arr(d_g_arr, n_g_arr, p_g, prob_dens_func, w_g_arr, gamma_g_arr):\n",
    "    \"\"\"\n",
    "    Numerically calculates the value of L(d_g_arr) for multiple grades based on the given formula.\n",
    "\n",
    "    Parameters:\n",
    "        d_g_arr (numpy.array(int)): Values of d_g's by grades\n",
    "        n_g_arr (numpy.array(int)): Values of n_g's by grades\n",
    "        p_g (callable): The p_g function representing the probability density function.\n",
    "        prob_dens_func (callable): The pdf_g function representing the probability density function.\n",
    "        w_g_arr (numpy.array(float)): Parameter 'w_g's by grades\n",
    "        gamma_g_arr (numpy.array(float)): Parameter 'gamma_g's by grades.\n",
    "\n",
    "    Returns:\n",
    "        float: Numerical approximation of the integral.\n",
    "    \"\"\"\n",
    "    \n",
    "    \n",
    "    integrand = lambda x: np.prod(binom.pmf(d_g_arr, n_g_arr, p_g(x, w_g_arr, gamma_g_arr))) * prob_dens_func(x)\n",
    "    \n",
    "    result, _ = quad(integrand, -3, 3)\n",
    "    \n",
    "    return result"
   ],
   "metadata": {
    "collapsed": false,
    "ExecuteTime": {
     "end_time": "2024-03-11T16:36:59.114215400Z",
     "start_time": "2024-03-11T16:36:58.977206500Z"
    }
   },
   "id": "ab8183bd1c261163"
  },
  {
   "cell_type": "code",
   "execution_count": 38,
   "outputs": [],
   "source": [
    "initial_guess = np.array([-3.17, -1.78, 0.5, 0.3])"
   ],
   "metadata": {
    "collapsed": false,
    "ExecuteTime": {
     "end_time": "2024-03-11T16:21:56.529593200Z",
     "start_time": "2024-03-11T16:21:56.492592900Z"
    }
   },
   "id": "f82c8fe73529fa8a"
  },
  {
   "cell_type": "code",
   "execution_count": 22,
   "outputs": [
    {
     "data": {
      "text/plain": "array([0.00012591, 0.03102439])"
     },
     "execution_count": 22,
     "metadata": {},
     "output_type": "execute_result"
    }
   ],
   "source": [
    "p_g(0, initial_guess[2:4], initial_guess[0:2])"
   ],
   "metadata": {
    "collapsed": false,
    "ExecuteTime": {
     "end_time": "2024-03-11T16:00:46.294832900Z",
     "start_time": "2024-03-11T16:00:46.197830300Z"
    }
   },
   "id": "9ff9c2afd59fef17"
  },
  {
   "cell_type": "code",
   "execution_count": 56,
   "outputs": [
    {
     "data": {
      "text/plain": "([75, 446, 2161], array([40000, 40000, 40000]))"
     },
     "execution_count": 56,
     "metadata": {},
     "output_type": "execute_result"
    }
   ],
   "source": [
    "d_g_list, np.array(num_of_obligors_list) * 160"
   ],
   "metadata": {
    "collapsed": false,
    "ExecuteTime": {
     "end_time": "2024-03-11T16:31:42.973973400Z",
     "start_time": "2024-03-11T16:31:42.766960100Z"
    }
   },
   "id": "53b0d0d7dc206afe"
  },
  {
   "cell_type": "code",
   "execution_count": null,
   "outputs": [],
   "source": [
    "factor_loading_list = [0.45, 0.45, 0.45]\n",
    "num_of_obligors_list = [250, 250, 250]\n",
    "gamma_list = [-2.9, -2.3, -1.6]\n",
    "d_g_list = generate_default_buckets(factor_loading_list,num_of_obligors_list, gamma_list)"
   ],
   "metadata": {
    "collapsed": false
   },
   "id": "cc531b7b2548bd6e"
  },
  {
   "cell_type": "code",
   "execution_count": 76,
   "outputs": [
    {
     "name": "stdout",
     "output_type": "stream",
     "text": [
      "Optimization terminated successfully.\n",
      "         Current function value: 15.601579\n",
      "         Iterations: 109\n",
      "         Function evaluations: 198\n",
      "The optimal weight parameter is [-2.86683943 -2.29271078 -1.66557341  0.45979211]\n",
      "Optimization terminated successfully.\n"
     ]
    }
   ],
   "source": [
    "from src.sucess_probability import p_g\n",
    "\n",
    "d_g_arr = d_g_list\n",
    "n_g_arr = np.array(num_of_obligors_list) * 160\n",
    "#gamma_g = norm.ppf(d_g_arr / n_g_arr)\n",
    "\n",
    "# MLE condition and initial guess\n",
    "# initial_guess = np.array(list(gamma_g) + [0.5, 0.3])\n",
    "# initial_guess = np.array([-2.85, -2.28, -1.73, 0.44, 0.44, 0.44])\n",
    "# bounds = [(-5, 5), (-5, 5), (-5, 5), (-1, 1), (-1, 1), (-1, 1)]\n",
    "initial_guess = np.array([-2.9, -2.3, -1.6, 0.45])\n",
    "bounds = [(-5, 5), (-5, 5), (-5, 5), (-1, 1)]\n",
    "\n",
    "# Function to be minimized in weight parameter\n",
    "# objective_function = lambda params: -calculate_my_likelihood_arr(d_g_arr, n_g_arr, p_g, norm.pdf, params, gamma_g)\n",
    "objective_function = lambda params: -np.log(calculate_my_likelihood_arr(d_g_arr, n_g_arr, p_g, norm.pdf, \n",
    "                                                                 np.repeat(initial_guess[3], 3), \n",
    "                                                                 params[0:3]))\n",
    "\n",
    "result = minimize(objective_function,\n",
    "                  initial_guess,\n",
    "                  method=\"Nelder-Mead\",\n",
    "                  bounds=bounds,\n",
    "                  options={\n",
    "                      'disp': True})\n",
    "# Method can be Nelder-Mead or Powell\n",
    "\n",
    "# The optimal weight parameter\n",
    "optimal_weight = result.x\n",
    "print(f\"The optimal weight parameter is {optimal_weight}\")\n",
    "print(result.message)"
   ],
   "metadata": {
    "collapsed": false,
    "ExecuteTime": {
     "end_time": "2024-03-11T17:01:01.433540700Z",
     "start_time": "2024-03-11T17:00:23.390915100Z"
    }
   },
   "id": "26b4bee5f773a7a7"
  },
  {
   "cell_type": "code",
   "execution_count": 70,
   "outputs": [],
   "source": [
    "#[-2.86909645 -2.31877637 -1.70957583  0.44903538] 15.454434, [-2.91256677 -2.32328551 -1.67963831  0.38511863], 15.572930 [-2.87680625 -2.29940442 -1.66884253  0.46237501]"
   ],
   "metadata": {
    "collapsed": false,
    "ExecuteTime": {
     "end_time": "2024-03-11T16:47:56.300987900Z",
     "start_time": "2024-03-11T16:47:56.172977500Z"
    }
   },
   "id": "7c9b6508b4d18a28"
  },
  {
   "cell_type": "markdown",
   "source": [
    "#TO-DO:\n",
    "for 1 w,\n",
    "for more w,\n",
    "for fixed gamma"
   ],
   "metadata": {
    "collapsed": false
   },
   "id": "3409e562a45d975"
  },
  {
   "cell_type": "code",
   "execution_count": 62,
   "outputs": [
    {
     "data": {
      "text/plain": "-26.696575200414504"
     },
     "execution_count": 62,
     "metadata": {},
     "output_type": "execute_result"
    }
   ],
   "source": [
    "np.log(calculate_my_likelihood_arr(d_g_arr, n_g_arr, p_g, norm.pdf, initial_guess[3:6], initial_guess[0:3]))"
   ],
   "metadata": {
    "collapsed": false,
    "ExecuteTime": {
     "end_time": "2024-03-11T16:34:29.530527900Z",
     "start_time": "2024-03-11T16:34:29.400519900Z"
    }
   },
   "id": "a0553b67a03e81ea"
  },
  {
   "cell_type": "code",
   "execution_count": 59,
   "outputs": [],
   "source": [
    "exact_values = np.array([-2.9, -2.3, -1.6, 0.45, 0.45, 0.45])"
   ],
   "metadata": {
    "collapsed": false,
    "ExecuteTime": {
     "end_time": "2024-03-11T16:33:28.844118100Z",
     "start_time": "2024-03-11T16:33:28.728114Z"
    }
   },
   "id": "2e95f56966c89c7e"
  },
  {
   "cell_type": "code",
   "execution_count": 61,
   "outputs": [
    {
     "data": {
      "text/plain": "-47.216432923780175"
     },
     "execution_count": 61,
     "metadata": {},
     "output_type": "execute_result"
    }
   ],
   "source": [
    "np.log(calculate_my_likelihood_arr(d_g_arr, n_g_arr, p_g, norm.pdf, exact_values[3:6], exact_values[0:3]))"
   ],
   "metadata": {
    "collapsed": false,
    "ExecuteTime": {
     "end_time": "2024-03-11T16:34:20.380308600Z",
     "start_time": "2024-03-11T16:34:20.206292600Z"
    }
   },
   "id": "2a72b062f7f975f"
  }
 ],
 "metadata": {
  "kernelspec": {
   "display_name": "Python 3",
   "language": "python",
   "name": "python3"
  },
  "language_info": {
   "codemirror_mode": {
    "name": "ipython",
    "version": 2
   },
   "file_extension": ".py",
   "mimetype": "text/x-python",
   "name": "python",
   "nbconvert_exporter": "python",
   "pygments_lexer": "ipython2",
   "version": "2.7.6"
  }
 },
 "nbformat": 4,
 "nbformat_minor": 5
}
