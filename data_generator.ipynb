{
 "cells": [
  {
   "cell_type": "markdown",
   "source": [
    "## This notebook is used to generate the data for MLE estimation"
   ],
   "metadata": {
    "collapsed": false
   },
   "id": "9982241d3e6347d"
  },
  {
   "cell_type": "code",
   "execution_count": 1,
   "outputs": [],
   "source": [
    "import numpy as np\n",
    "from scipy.stats import norm"
   ],
   "metadata": {
    "collapsed": false,
    "ExecuteTime": {
     "end_time": "2024-03-09T20:31:48.286603Z",
     "start_time": "2024-03-09T20:31:47.368522300Z"
    }
   },
   "id": "9f86044d9ccc5727"
  },
  {
   "cell_type": "code",
   "execution_count": 2,
   "outputs": [],
   "source": [
    "# Define the parameters\n",
    "factor_loading = 0.45\n",
    "gamma = -1.5"
   ],
   "metadata": {
    "collapsed": false,
    "ExecuteTime": {
     "end_time": "2024-03-09T20:31:48.317605600Z",
     "start_time": "2024-03-09T20:31:48.288600800Z"
    }
   },
   "id": "initial_id"
  },
  {
   "cell_type": "code",
   "execution_count": 3,
   "outputs": [],
   "source": [
    "# Generate normalized return on obligors’ assets (Y) for only 1 bucket\n",
    "def generate_y(factor_loading, num_of_obligors):\n",
    "    x = np.random.normal()\n",
    "    epsilon = np.random.normal(0, 1, num_of_obligors)\n",
    "    y = factor_loading * x + epsilon * (1 - factor_loading**2)**0.5\n",
    "    return y"
   ],
   "metadata": {
    "collapsed": false,
    "ExecuteTime": {
     "end_time": "2024-03-09T20:31:48.342605500Z",
     "start_time": "2024-03-09T20:31:48.305605500Z"
    }
   },
   "id": "44e48f642f9ab3f2"
  },
  {
   "cell_type": "code",
   "execution_count": 4,
   "outputs": [
    {
     "data": {
      "text/plain": "array([ 0.72011136,  1.3876965 ,  0.7054479 ,  1.61423285, -0.05650462])"
     },
     "execution_count": 4,
     "metadata": {},
     "output_type": "execute_result"
    }
   ],
   "source": [
    "generate_y(factor_loading, 5)"
   ],
   "metadata": {
    "collapsed": false,
    "ExecuteTime": {
     "end_time": "2024-03-09T20:31:48.343607500Z",
     "start_time": "2024-03-09T20:31:48.321603200Z"
    }
   },
   "id": "1c94f7b1b42decd7"
  },
  {
   "cell_type": "code",
   "execution_count": 5,
   "outputs": [],
   "source": [
    "def generate_default(num_of_obligors, factor_loading, gamma):\n",
    "    y = generate_y(factor_loading, num_of_obligors)\n",
    "    default = (y < gamma).sum()\n",
    "    return default"
   ],
   "metadata": {
    "collapsed": false,
    "ExecuteTime": {
     "end_time": "2024-03-09T20:31:48.379607800Z",
     "start_time": "2024-03-09T20:31:48.337608Z"
    }
   },
   "id": "a6eb89abcf780c33"
  },
  {
   "cell_type": "code",
   "execution_count": 6,
   "outputs": [
    {
     "name": "stdout",
     "output_type": "stream",
     "text": [
      "Number of defaults:  2782\n"
     ]
    }
   ],
   "source": [
    "n_g = 10000\n",
    "d_g = generate_default(n_g, factor_loading, gamma)\n",
    "print(\"Number of defaults: \", d_g)"
   ],
   "metadata": {
    "collapsed": false,
    "ExecuteTime": {
     "end_time": "2024-03-09T20:31:48.448614Z",
     "start_time": "2024-03-09T20:31:48.350605200Z"
    }
   },
   "id": "3c3813f88bc1e540"
  },
  {
   "cell_type": "code",
   "execution_count": 7,
   "outputs": [
    {
     "data": {
      "text/plain": "668.0720126885806"
     },
     "execution_count": 7,
     "metadata": {},
     "output_type": "execute_result"
    }
   ],
   "source": [
    "norm.cdf(gamma) * n_g"
   ],
   "metadata": {
    "collapsed": false,
    "ExecuteTime": {
     "end_time": "2024-03-09T20:31:48.452614900Z",
     "start_time": "2024-03-09T20:31:48.368613Z"
    }
   },
   "id": "359163407a5879df"
  },
  {
   "cell_type": "code",
   "execution_count": 8,
   "outputs": [
    {
     "data": {
      "text/plain": "632.31"
     },
     "execution_count": 8,
     "metadata": {},
     "output_type": "execute_result"
    }
   ],
   "source": [
    "default_list = []\n",
    "for i in range(100):\n",
    "    default_list.append(generate_default(n_g, factor_loading, gamma))\n",
    "    \n",
    "np.mean(default_list)"
   ],
   "metadata": {
    "collapsed": false,
    "ExecuteTime": {
     "end_time": "2024-03-09T20:31:48.489866400Z",
     "start_time": "2024-03-09T20:31:48.385609600Z"
    }
   },
   "id": "a5b0df390804b79f"
  },
  {
   "cell_type": "code",
   "execution_count": 9,
   "outputs": [],
   "source": [
    "# Generate normalized return on obligors’ assets (Y) for more buckets\n",
    "def generate_default_buckets(factor_loading_list, num_of_obligors_list, gamma_list):\n",
    "    x = np.random.normal()\n",
    "    defaults_list = []\n",
    "    \n",
    "    for index, num_of_obligors in enumerate(num_of_obligors_list):\n",
    "        epsilon = np.random.normal(0, 1, num_of_obligors)\n",
    "        y = factor_loading_list[index] * x + epsilon * (1 - factor_loading_list[index]**2)**0.5\n",
    "        defaults_list.append((y < gamma_list[index]).sum())\n",
    "\n",
    "    return defaults_list"
   ],
   "metadata": {
    "collapsed": false,
    "ExecuteTime": {
     "end_time": "2024-03-09T20:31:48.493870100Z",
     "start_time": "2024-03-09T20:31:48.435613900Z"
    }
   },
   "id": "998e39d0f462d17d"
  },
  {
   "cell_type": "code",
   "execution_count": 10,
   "outputs": [
    {
     "name": "stdout",
     "output_type": "stream",
     "text": [
      "Number of defaults:  [2895, 697, 8298]\n"
     ]
    }
   ],
   "source": [
    "factor_loading_list = [0.45, 0.5, 0.55]\n",
    "num_of_obligors_list = [10000, 5000, 20000]\n",
    "gamma_list = [-1.5, -2, -1.4]\n",
    "n_g_list = generate_default_buckets(factor_loading_list,num_of_obligors_list, gamma_list)\n",
    "print(\"Number of defaults: \", n_g_list)"
   ],
   "metadata": {
    "collapsed": false,
    "ExecuteTime": {
     "end_time": "2024-03-09T20:31:48.499867600Z",
     "start_time": "2024-03-09T20:31:48.448614Z"
    }
   },
   "id": "ac38b760863d5cb"
  },
  {
   "cell_type": "code",
   "execution_count": 10,
   "outputs": [],
   "source": [],
   "metadata": {
    "collapsed": false,
    "ExecuteTime": {
     "end_time": "2024-03-09T20:31:48.585725800Z",
     "start_time": "2024-03-09T20:31:48.463618300Z"
    }
   },
   "id": "ab8183bd1c261163"
  }
 ],
 "metadata": {
  "kernelspec": {
   "display_name": "Python 3",
   "language": "python",
   "name": "python3"
  },
  "language_info": {
   "codemirror_mode": {
    "name": "ipython",
    "version": 2
   },
   "file_extension": ".py",
   "mimetype": "text/x-python",
   "name": "python",
   "nbconvert_exporter": "python",
   "pygments_lexer": "ipython2",
   "version": "2.7.6"
  }
 },
 "nbformat": 4,
 "nbformat_minor": 5
}
