{
 "cells": [
  {
   "cell_type": "markdown",
   "source": [
    "## This notebook is used to generate the data for MLE estimation"
   ],
   "metadata": {
    "collapsed": false
   },
   "id": "9982241d3e6347d"
  },
  {
   "cell_type": "code",
   "execution_count": 1,
   "outputs": [],
   "source": [
    "import numpy as np\n",
    "from scipy.stats import norm, binom\n",
    "from scipy.integrate import quad\n",
    "from scipy.optimize import minimize\n",
    "from src.sucess_probability import p_g"
   ],
   "metadata": {
    "collapsed": false,
    "ExecuteTime": {
     "end_time": "2024-03-12T20:04:42.285107500Z",
     "start_time": "2024-03-12T20:04:39.156592Z"
    }
   },
   "id": "9f86044d9ccc5727"
  },
  {
   "cell_type": "code",
   "execution_count": 2,
   "outputs": [],
   "source": [
    "# Define the parameters\n",
    "factor_loading = 0.45\n",
    "gamma = -1.5"
   ],
   "metadata": {
    "collapsed": false,
    "ExecuteTime": {
     "end_time": "2024-03-12T20:04:42.303112500Z",
     "start_time": "2024-03-12T20:04:42.287108400Z"
    }
   },
   "id": "initial_id"
  },
  {
   "cell_type": "code",
   "execution_count": 3,
   "outputs": [],
   "source": [
    "# Generate normalized return on obligors’ assets (Y) for only 1 bucket\n",
    "def generate_y(factor_loading, num_of_obligors):\n",
    "    x = np.random.normal()\n",
    "    epsilon = np.random.normal(0, 1, num_of_obligors)\n",
    "    y = factor_loading * x + epsilon * (1 - factor_loading**2)**0.5\n",
    "    return y"
   ],
   "metadata": {
    "collapsed": false,
    "ExecuteTime": {
     "end_time": "2024-03-12T20:04:42.331113700Z",
     "start_time": "2024-03-12T20:04:42.303112500Z"
    }
   },
   "id": "44e48f642f9ab3f2"
  },
  {
   "cell_type": "code",
   "execution_count": 4,
   "outputs": [
    {
     "data": {
      "text/plain": "array([ 1.86405166,  0.94871967, -0.09314298,  0.56129677,  1.18737139])"
     },
     "execution_count": 4,
     "metadata": {},
     "output_type": "execute_result"
    }
   ],
   "source": [
    "generate_y(factor_loading, 5)"
   ],
   "metadata": {
    "collapsed": false,
    "ExecuteTime": {
     "end_time": "2024-03-12T20:04:42.332114300Z",
     "start_time": "2024-03-12T20:04:42.318110500Z"
    }
   },
   "id": "1c94f7b1b42decd7"
  },
  {
   "cell_type": "code",
   "execution_count": 5,
   "outputs": [],
   "source": [
    "def generate_default(num_of_obligors, factor_loading, gamma):\n",
    "    y = generate_y(factor_loading, num_of_obligors)\n",
    "    default = (y < gamma).sum()\n",
    "    return default"
   ],
   "metadata": {
    "collapsed": false,
    "ExecuteTime": {
     "end_time": "2024-03-12T20:04:42.353113200Z",
     "start_time": "2024-03-12T20:04:42.335112100Z"
    }
   },
   "id": "a6eb89abcf780c33"
  },
  {
   "cell_type": "code",
   "execution_count": 6,
   "outputs": [
    {
     "name": "stdout",
     "output_type": "stream",
     "text": [
      "Number of defaults:  17.25625\n"
     ]
    }
   ],
   "source": [
    "n_g = 250\n",
    "d_g_list = []\n",
    "for i in range(160):\n",
    "    d_g_list.append(generate_default(n_g, factor_loading, gamma))\n",
    "#d_g = generate_default(n_g, factor_loading, gamma)\n",
    "print(\"Number of defaults: \", np.mean(d_g_list))"
   ],
   "metadata": {
    "collapsed": false,
    "ExecuteTime": {
     "end_time": "2024-03-12T20:04:42.402114200Z",
     "start_time": "2024-03-12T20:04:42.347114300Z"
    }
   },
   "id": "3c3813f88bc1e540"
  },
  {
   "cell_type": "code",
   "execution_count": 7,
   "outputs": [
    {
     "data": {
      "text/plain": "16.701800317214513"
     },
     "execution_count": 7,
     "metadata": {},
     "output_type": "execute_result"
    }
   ],
   "source": [
    "norm.cdf(gamma) * n_g"
   ],
   "metadata": {
    "collapsed": false,
    "ExecuteTime": {
     "end_time": "2024-03-12T20:04:42.403115400Z",
     "start_time": "2024-03-12T20:04:42.379123100Z"
    }
   },
   "id": "359163407a5879df"
  },
  {
   "cell_type": "code",
   "execution_count": 8,
   "outputs": [
    {
     "data": {
      "text/plain": "14.75"
     },
     "execution_count": 8,
     "metadata": {},
     "output_type": "execute_result"
    }
   ],
   "source": [
    "default_list = []\n",
    "for i in range(100):\n",
    "    default_list.append(generate_default(n_g, factor_loading, gamma))\n",
    "    \n",
    "np.mean(default_list)"
   ],
   "metadata": {
    "collapsed": false,
    "ExecuteTime": {
     "end_time": "2024-03-12T20:04:42.444120200Z",
     "start_time": "2024-03-12T20:04:42.394115900Z"
    }
   },
   "id": "a5b0df390804b79f"
  },
  {
   "cell_type": "code",
   "execution_count": 9,
   "outputs": [],
   "source": [
    "# Generate normalized return on obligors’ assets (Y) for more buckets\n",
    "def generate_default_buckets(factor_loading_list, num_of_obligors_list, gamma_list):\n",
    "    x = np.random.normal(0, 1, 160)\n",
    "    defaults_list = []\n",
    "    \n",
    "    for index, num_of_obligors in enumerate(num_of_obligors_list):\n",
    "        d_g = 0\n",
    "        for i in range(160):\n",
    "            epsilon = np.random.normal(0, 1, num_of_obligors)\n",
    "            y = factor_loading_list[index] * x[i] + epsilon * (1 - factor_loading_list[index]**2)**0.5\n",
    "            d_g += (y < gamma_list[index]).sum()\n",
    "        defaults_list.append(d_g)\n",
    "\n",
    "    return defaults_list"
   ],
   "metadata": {
    "collapsed": false,
    "ExecuteTime": {
     "end_time": "2024-03-12T20:04:42.445125100Z",
     "start_time": "2024-03-12T20:04:42.413119400Z"
    }
   },
   "id": "998e39d0f462d17d"
  },
  {
   "cell_type": "code",
   "execution_count": 10,
   "outputs": [
    {
     "name": "stdout",
     "output_type": "stream",
     "text": [
      "Number of defaults:  [56, 492, 2376]\n"
     ]
    }
   ],
   "source": [
    "factor_loading_list = [0.45, 0.45, 0.45]\n",
    "num_of_obligors_list = [250, 250, 250]\n",
    "gamma_list = [-2.9, -2.3, -1.6]\n",
    "d_g_list = generate_default_buckets(factor_loading_list,num_of_obligors_list, gamma_list)\n",
    "print(\"Number of defaults: \", d_g_list)"
   ],
   "metadata": {
    "collapsed": false,
    "ExecuteTime": {
     "end_time": "2024-03-12T20:04:42.634134200Z",
     "start_time": "2024-03-12T20:04:42.425118700Z"
    }
   },
   "id": "ac38b760863d5cb"
  },
  {
   "cell_type": "code",
   "execution_count": 11,
   "outputs": [],
   "source": [
    "def calculate_my_likelihood_arr(d_g_arr, n_g_arr, p_g, prob_dens_func, w_g_arr, gamma_g_arr):\n",
    "    \"\"\"\n",
    "    Numerically calculates the value of L(d_g_arr) for multiple grades based on the given formula.\n",
    "\n",
    "    Parameters:\n",
    "        d_g_arr (numpy.array(int)): Values of d_g's by grades\n",
    "        n_g_arr (numpy.array(int)): Values of n_g's by grades\n",
    "        p_g (callable): The p_g function representing the probability density function.\n",
    "        prob_dens_func (callable): The pdf_g function representing the probability density function.\n",
    "        w_g_arr (numpy.array(float)): Parameter 'w_g's by grades\n",
    "        gamma_g_arr (numpy.array(float)): Parameter 'gamma_g's by grades.\n",
    "\n",
    "    Returns:\n",
    "        float: Numerical approximation of the integral.\n",
    "    \"\"\"\n",
    "    \n",
    "    \n",
    "    integrand = lambda x: np.prod(binom.pmf(d_g_arr, n_g_arr, p_g(x, w_g_arr, gamma_g_arr))) * prob_dens_func(x)\n",
    "    \n",
    "    result, _ = quad(integrand, -3, 3)\n",
    "    \n",
    "    return result"
   ],
   "metadata": {
    "collapsed": false,
    "ExecuteTime": {
     "end_time": "2024-03-12T20:04:42.659135700Z",
     "start_time": "2024-03-12T20:04:42.461122200Z"
    }
   },
   "id": "ab8183bd1c261163"
  },
  {
   "cell_type": "code",
   "execution_count": 12,
   "outputs": [],
   "source": [
    "initial_guess = np.array([-3.17, -1.78, 0.5, 0.3])"
   ],
   "metadata": {
    "collapsed": false,
    "ExecuteTime": {
     "end_time": "2024-03-12T20:04:42.659135700Z",
     "start_time": "2024-03-12T20:04:42.482121900Z"
    }
   },
   "id": "f82c8fe73529fa8a"
  },
  {
   "cell_type": "code",
   "execution_count": 13,
   "outputs": [
    {
     "data": {
      "text/plain": "array([0.00012591, 0.03102439])"
     },
     "execution_count": 13,
     "metadata": {},
     "output_type": "execute_result"
    }
   ],
   "source": [
    "p_g(0, initial_guess[2:4], initial_guess[0:2])"
   ],
   "metadata": {
    "collapsed": false,
    "ExecuteTime": {
     "end_time": "2024-03-12T20:04:42.661138Z",
     "start_time": "2024-03-12T20:04:42.497124500Z"
    }
   },
   "id": "9ff9c2afd59fef17"
  },
  {
   "cell_type": "code",
   "execution_count": 14,
   "outputs": [
    {
     "data": {
      "text/plain": "([56, 492, 2376], array([40000, 40000, 40000]))"
     },
     "execution_count": 14,
     "metadata": {},
     "output_type": "execute_result"
    }
   ],
   "source": [
    "d_g_list, np.array(num_of_obligors_list) * 160"
   ],
   "metadata": {
    "collapsed": false,
    "ExecuteTime": {
     "end_time": "2024-03-12T20:04:42.670139200Z",
     "start_time": "2024-03-12T20:04:42.551130400Z"
    }
   },
   "id": "53b0d0d7dc206afe"
  },
  {
   "cell_type": "code",
   "execution_count": 15,
   "outputs": [],
   "source": [
    "factor_loading_list = [0.45, 0.45, 0.45]\n",
    "num_of_obligors_list = [250, 250, 250]\n",
    "gamma_list = [-2.9, -2.3, -1.6]\n",
    "d_g_list = generate_default_buckets(factor_loading_list,num_of_obligors_list, gamma_list)"
   ],
   "metadata": {
    "collapsed": false,
    "ExecuteTime": {
     "end_time": "2024-03-12T20:04:42.714137800Z",
     "start_time": "2024-03-12T20:04:42.583131600Z"
    }
   },
   "id": "cc531b7b2548bd6e"
  },
  {
   "cell_type": "code",
   "execution_count": 16,
   "outputs": [
    {
     "name": "stdout",
     "output_type": "stream",
     "text": [
      "Optimization terminated successfully.\n",
      "         Current function value: 11.998556\n",
      "         Iterations: 438\n",
      "         Function evaluations: 740\n",
      "The optimal weight parameter is [-2.85526113e+00 -2.20221982e+00 -1.55437240e+00 -6.13395813e-06]\n",
      "Optimization terminated successfully.\n"
     ]
    }
   ],
   "source": [
    "from src.sucess_probability import p_g\n",
    "\n",
    "d_g_arr = d_g_list\n",
    "n_g_arr = np.array(num_of_obligors_list) * 160\n",
    "#gamma_g = norm.ppf(d_g_arr / n_g_arr)\n",
    "\n",
    "# MLE condition and initial guess\n",
    "# initial_guess = np.array(list(gamma_g) + [0.5, 0.3])\n",
    "# initial_guess = np.array([-2.85, -2.28, -1.73, 0.44, 0.44, 0.44])\n",
    "# bounds = [(-5, 5), (-5, 5), (-5, 5), (-1, 1), (-1, 1), (-1, 1)]\n",
    "initial_guess = np.array([-2.9, -2.3, -1.6, 0.45])\n",
    "bounds = [(-5, 5), (-5, 5), (-5, 5), (-1, 1)]\n",
    "\n",
    "# Function to be minimized in weight parameter\n",
    "# objective_function = lambda params: -calculate_my_likelihood_arr(d_g_arr, n_g_arr, p_g, norm.pdf, params, gamma_g)\n",
    "objective_function = lambda params: -np.log(calculate_my_likelihood_arr(d_g_arr, n_g_arr, p_g, norm.pdf, \n",
    "                                                                 np.repeat(params[3], 3), \n",
    "                                                                 params[0:3]))\n",
    "\n",
    "result = minimize(objective_function,\n",
    "                  initial_guess,\n",
    "                  method=\"Nelder-Mead\",\n",
    "                  bounds=bounds,\n",
    "                  options={\n",
    "                      'disp': True})\n",
    "# Method can be Nelder-Mead or Powell\n",
    "\n",
    "# The optimal weight parameter\n",
    "optimal_weight = result.x\n",
    "print(f\"The optimal weight parameter is {optimal_weight}\")\n",
    "print(result.message)"
   ],
   "metadata": {
    "collapsed": false,
    "ExecuteTime": {
     "end_time": "2024-03-12T20:05:19.721376100Z",
     "start_time": "2024-03-12T20:04:42.633134700Z"
    }
   },
   "id": "26b4bee5f773a7a7"
  },
  {
   "cell_type": "code",
   "execution_count": 17,
   "outputs": [],
   "source": [
    "#[-2.86909645 -2.31877637 -1.70957583  0.44903538] 15.454434, [-2.91256677 -2.32328551 -1.67963831  0.38511863], 15.572930 [-2.87680625 -2.29940442 -1.66884253  0.46237501]"
   ],
   "metadata": {
    "collapsed": false,
    "ExecuteTime": {
     "end_time": "2024-03-12T20:05:19.749374900Z",
     "start_time": "2024-03-12T20:05:19.709375600Z"
    }
   },
   "id": "7c9b6508b4d18a28"
  },
  {
   "cell_type": "markdown",
   "source": [
    "#TO-DO:\n",
    "for 1 w,\n",
    "for more w,\n",
    "for fixed gamma"
   ],
   "metadata": {
    "collapsed": false
   },
   "id": "3409e562a45d975"
  },
  {
   "cell_type": "code",
   "execution_count": 18,
   "outputs": [
    {
     "data": {
      "text/plain": "([86, 553, 2402], array([40000, 40000, 40000]))"
     },
     "execution_count": 18,
     "metadata": {},
     "output_type": "execute_result"
    }
   ],
   "source": [
    "d_g_list, np.array(num_of_obligors_list) * 160"
   ],
   "metadata": {
    "collapsed": false,
    "ExecuteTime": {
     "end_time": "2024-03-12T20:05:19.809378200Z",
     "start_time": "2024-03-12T20:05:19.726376700Z"
    }
   },
   "id": "87169d1700e86c6b"
  },
  {
   "cell_type": "code",
   "execution_count": 19,
   "outputs": [
    {
     "name": "stdout",
     "output_type": "stream",
     "text": [
      "Optimization terminated successfully.\n",
      "         Current function value: 11.998554\n",
      "         Iterations: 16\n",
      "         Function evaluations: 32\n",
      "The optimal weight parameter is [1.66533454e-16]\n",
      "Optimization terminated successfully.\n"
     ]
    }
   ],
   "source": [
    "# Fixed gamma case\n",
    "\n",
    "d_g_arr = d_g_list\n",
    "n_g_arr = np.array(num_of_obligors_list) * 160\n",
    "gamma_g = norm.ppf(d_g_arr / n_g_arr)\n",
    "\n",
    "# MLE condition and initial guess\n",
    "# initial_guess = np.array(list(gamma_g) + [0.5, 0.3])\n",
    "# initial_guess = np.array([-2.85, -2.28, -1.73, 0.44, 0.44, 0.44])\n",
    "# bounds = [(-5, 5), (-5, 5), (-5, 5), (-1, 1), (-1, 1), (-1, 1)]\n",
    "initial_guess = np.array([0.45])\n",
    "bounds = [(-1, 1)]\n",
    "\n",
    "# Function to be minimized in weight parameter\n",
    "# objective_function = lambda params: -calculate_my_likelihood_arr(d_g_arr, n_g_arr, p_g, norm.pdf, params, gamma_g)\n",
    "objective_function = lambda param: -np.log(calculate_my_likelihood_arr(d_g_arr, n_g_arr, p_g, norm.pdf, \n",
    "                                                                 np.repeat(param, 3), \n",
    "                                                                 gamma_g))\n",
    "\n",
    "result = minimize(objective_function,\n",
    "                  initial_guess,\n",
    "                  method=\"Nelder-Mead\",\n",
    "                  bounds=bounds,\n",
    "                  options={\n",
    "                      'disp': True})\n",
    "# Method can be Nelder-Mead or Powell\n",
    "\n",
    "# The optimal weight parameter\n",
    "optimal_weight = result.x\n",
    "print(f\"The optimal weight parameter is {optimal_weight}\")\n",
    "print(result.message)"
   ],
   "metadata": {
    "collapsed": false,
    "ExecuteTime": {
     "end_time": "2024-03-12T20:05:20.771455800Z",
     "start_time": "2024-03-12T20:05:19.738377500Z"
    }
   },
   "id": "fc5f1d2bfe8dea5b"
  },
  {
   "cell_type": "code",
   "execution_count": 20,
   "outputs": [
    {
     "ename": "ValueError",
     "evalue": "operands could not be broadcast together with shapes (3,) (0,) ",
     "output_type": "error",
     "traceback": [
      "\u001B[1;31m---------------------------------------------------------------------------\u001B[0m",
      "\u001B[1;31mValueError\u001B[0m                                Traceback (most recent call last)",
      "Cell \u001B[1;32mIn[20], line 1\u001B[0m\n\u001B[1;32m----> 1\u001B[0m np\u001B[38;5;241m.\u001B[39mlog(\u001B[43mcalculate_my_likelihood_arr\u001B[49m\u001B[43m(\u001B[49m\u001B[43md_g_arr\u001B[49m\u001B[43m,\u001B[49m\u001B[43m \u001B[49m\u001B[43mn_g_arr\u001B[49m\u001B[43m,\u001B[49m\u001B[43m \u001B[49m\u001B[43mp_g\u001B[49m\u001B[43m,\u001B[49m\u001B[43m \u001B[49m\u001B[43mnorm\u001B[49m\u001B[38;5;241;43m.\u001B[39;49m\u001B[43mpdf\u001B[49m\u001B[43m,\u001B[49m\u001B[43m \u001B[49m\u001B[43minitial_guess\u001B[49m\u001B[43m[\u001B[49m\u001B[38;5;241;43m3\u001B[39;49m\u001B[43m:\u001B[49m\u001B[38;5;241;43m6\u001B[39;49m\u001B[43m]\u001B[49m\u001B[43m,\u001B[49m\u001B[43m \u001B[49m\u001B[43minitial_guess\u001B[49m\u001B[43m[\u001B[49m\u001B[38;5;241;43m0\u001B[39;49m\u001B[43m:\u001B[49m\u001B[38;5;241;43m3\u001B[39;49m\u001B[43m]\u001B[49m\u001B[43m)\u001B[49m)\n",
      "Cell \u001B[1;32mIn[11], line 20\u001B[0m, in \u001B[0;36mcalculate_my_likelihood_arr\u001B[1;34m(d_g_arr, n_g_arr, p_g, prob_dens_func, w_g_arr, gamma_g_arr)\u001B[0m\n\u001B[0;32m      2\u001B[0m \u001B[38;5;250m\u001B[39m\u001B[38;5;124;03m\"\"\"\u001B[39;00m\n\u001B[0;32m      3\u001B[0m \u001B[38;5;124;03mNumerically calculates the value of L(d_g_arr) for multiple grades based on the given formula.\u001B[39;00m\n\u001B[0;32m      4\u001B[0m \n\u001B[1;32m   (...)\u001B[0m\n\u001B[0;32m     14\u001B[0m \u001B[38;5;124;03m    float: Numerical approximation of the integral.\u001B[39;00m\n\u001B[0;32m     15\u001B[0m \u001B[38;5;124;03m\"\"\"\u001B[39;00m\n\u001B[0;32m     18\u001B[0m integrand \u001B[38;5;241m=\u001B[39m \u001B[38;5;28;01mlambda\u001B[39;00m x: np\u001B[38;5;241m.\u001B[39mprod(binom\u001B[38;5;241m.\u001B[39mpmf(d_g_arr, n_g_arr, p_g(x, w_g_arr, gamma_g_arr))) \u001B[38;5;241m*\u001B[39m prob_dens_func(x)\n\u001B[1;32m---> 20\u001B[0m result, _ \u001B[38;5;241m=\u001B[39m \u001B[43mquad\u001B[49m\u001B[43m(\u001B[49m\u001B[43mintegrand\u001B[49m\u001B[43m,\u001B[49m\u001B[43m \u001B[49m\u001B[38;5;241;43m-\u001B[39;49m\u001B[38;5;241;43m3\u001B[39;49m\u001B[43m,\u001B[49m\u001B[43m \u001B[49m\u001B[38;5;241;43m3\u001B[39;49m\u001B[43m)\u001B[49m\n\u001B[0;32m     22\u001B[0m \u001B[38;5;28;01mreturn\u001B[39;00m result\n",
      "File \u001B[1;32m~\\PycharmProjects\\VasicekPDModell\\venv\\lib\\site-packages\\scipy\\integrate\\_quadpack_py.py:464\u001B[0m, in \u001B[0;36mquad\u001B[1;34m(func, a, b, args, full_output, epsabs, epsrel, limit, points, weight, wvar, wopts, maxp1, limlst, complex_func)\u001B[0m\n\u001B[0;32m    461\u001B[0m     \u001B[38;5;28;01mreturn\u001B[39;00m retval\n\u001B[0;32m    463\u001B[0m \u001B[38;5;28;01mif\u001B[39;00m weight \u001B[38;5;129;01mis\u001B[39;00m \u001B[38;5;28;01mNone\u001B[39;00m:\n\u001B[1;32m--> 464\u001B[0m     retval \u001B[38;5;241m=\u001B[39m \u001B[43m_quad\u001B[49m\u001B[43m(\u001B[49m\u001B[43mfunc\u001B[49m\u001B[43m,\u001B[49m\u001B[43m \u001B[49m\u001B[43ma\u001B[49m\u001B[43m,\u001B[49m\u001B[43m \u001B[49m\u001B[43mb\u001B[49m\u001B[43m,\u001B[49m\u001B[43m \u001B[49m\u001B[43margs\u001B[49m\u001B[43m,\u001B[49m\u001B[43m \u001B[49m\u001B[43mfull_output\u001B[49m\u001B[43m,\u001B[49m\u001B[43m \u001B[49m\u001B[43mepsabs\u001B[49m\u001B[43m,\u001B[49m\u001B[43m \u001B[49m\u001B[43mepsrel\u001B[49m\u001B[43m,\u001B[49m\u001B[43m \u001B[49m\u001B[43mlimit\u001B[49m\u001B[43m,\u001B[49m\n\u001B[0;32m    465\u001B[0m \u001B[43m                   \u001B[49m\u001B[43mpoints\u001B[49m\u001B[43m)\u001B[49m\n\u001B[0;32m    466\u001B[0m \u001B[38;5;28;01melse\u001B[39;00m:\n\u001B[0;32m    467\u001B[0m     \u001B[38;5;28;01mif\u001B[39;00m points \u001B[38;5;129;01mis\u001B[39;00m \u001B[38;5;129;01mnot\u001B[39;00m \u001B[38;5;28;01mNone\u001B[39;00m:\n",
      "File \u001B[1;32m~\\PycharmProjects\\VasicekPDModell\\venv\\lib\\site-packages\\scipy\\integrate\\_quadpack_py.py:611\u001B[0m, in \u001B[0;36m_quad\u001B[1;34m(func, a, b, args, full_output, epsabs, epsrel, limit, points)\u001B[0m\n\u001B[0;32m    609\u001B[0m \u001B[38;5;28;01mif\u001B[39;00m points \u001B[38;5;129;01mis\u001B[39;00m \u001B[38;5;28;01mNone\u001B[39;00m:\n\u001B[0;32m    610\u001B[0m     \u001B[38;5;28;01mif\u001B[39;00m infbounds \u001B[38;5;241m==\u001B[39m \u001B[38;5;241m0\u001B[39m:\n\u001B[1;32m--> 611\u001B[0m         \u001B[38;5;28;01mreturn\u001B[39;00m \u001B[43m_quadpack\u001B[49m\u001B[38;5;241;43m.\u001B[39;49m\u001B[43m_qagse\u001B[49m\u001B[43m(\u001B[49m\u001B[43mfunc\u001B[49m\u001B[43m,\u001B[49m\u001B[43ma\u001B[49m\u001B[43m,\u001B[49m\u001B[43mb\u001B[49m\u001B[43m,\u001B[49m\u001B[43margs\u001B[49m\u001B[43m,\u001B[49m\u001B[43mfull_output\u001B[49m\u001B[43m,\u001B[49m\u001B[43mepsabs\u001B[49m\u001B[43m,\u001B[49m\u001B[43mepsrel\u001B[49m\u001B[43m,\u001B[49m\u001B[43mlimit\u001B[49m\u001B[43m)\u001B[49m\n\u001B[0;32m    612\u001B[0m     \u001B[38;5;28;01melse\u001B[39;00m:\n\u001B[0;32m    613\u001B[0m         \u001B[38;5;28;01mreturn\u001B[39;00m _quadpack\u001B[38;5;241m.\u001B[39m_qagie(func, bound, infbounds, args, full_output, \n\u001B[0;32m    614\u001B[0m                                 epsabs, epsrel, limit)\n",
      "Cell \u001B[1;32mIn[11], line 18\u001B[0m, in \u001B[0;36mcalculate_my_likelihood_arr.<locals>.<lambda>\u001B[1;34m(x)\u001B[0m\n\u001B[0;32m      1\u001B[0m \u001B[38;5;28;01mdef\u001B[39;00m \u001B[38;5;21mcalculate_my_likelihood_arr\u001B[39m(d_g_arr, n_g_arr, p_g, prob_dens_func, w_g_arr, gamma_g_arr):\n\u001B[0;32m      2\u001B[0m \u001B[38;5;250m    \u001B[39m\u001B[38;5;124;03m\"\"\"\u001B[39;00m\n\u001B[0;32m      3\u001B[0m \u001B[38;5;124;03m    Numerically calculates the value of L(d_g_arr) for multiple grades based on the given formula.\u001B[39;00m\n\u001B[0;32m      4\u001B[0m \n\u001B[1;32m   (...)\u001B[0m\n\u001B[0;32m     14\u001B[0m \u001B[38;5;124;03m        float: Numerical approximation of the integral.\u001B[39;00m\n\u001B[0;32m     15\u001B[0m \u001B[38;5;124;03m    \"\"\"\u001B[39;00m\n\u001B[1;32m---> 18\u001B[0m     integrand \u001B[38;5;241m=\u001B[39m \u001B[38;5;28;01mlambda\u001B[39;00m x: np\u001B[38;5;241m.\u001B[39mprod(\u001B[43mbinom\u001B[49m\u001B[38;5;241;43m.\u001B[39;49m\u001B[43mpmf\u001B[49m\u001B[43m(\u001B[49m\u001B[43md_g_arr\u001B[49m\u001B[43m,\u001B[49m\u001B[43m \u001B[49m\u001B[43mn_g_arr\u001B[49m\u001B[43m,\u001B[49m\u001B[43m \u001B[49m\u001B[43mp_g\u001B[49m\u001B[43m(\u001B[49m\u001B[43mx\u001B[49m\u001B[43m,\u001B[49m\u001B[43m \u001B[49m\u001B[43mw_g_arr\u001B[49m\u001B[43m,\u001B[49m\u001B[43m \u001B[49m\u001B[43mgamma_g_arr\u001B[49m\u001B[43m)\u001B[49m\u001B[43m)\u001B[49m) \u001B[38;5;241m*\u001B[39m prob_dens_func(x)\n\u001B[0;32m     20\u001B[0m     result, _ \u001B[38;5;241m=\u001B[39m quad(integrand, \u001B[38;5;241m-\u001B[39m\u001B[38;5;241m3\u001B[39m, \u001B[38;5;241m3\u001B[39m)\n\u001B[0;32m     22\u001B[0m     \u001B[38;5;28;01mreturn\u001B[39;00m result\n",
      "File \u001B[1;32m~\\PycharmProjects\\VasicekPDModell\\venv\\lib\\site-packages\\scipy\\stats\\_distn_infrastructure.py:3375\u001B[0m, in \u001B[0;36mrv_discrete.pmf\u001B[1;34m(self, k, *args, **kwds)\u001B[0m\n\u001B[0;32m   3373\u001B[0m _a, _b \u001B[38;5;241m=\u001B[39m \u001B[38;5;28mself\u001B[39m\u001B[38;5;241m.\u001B[39m_get_support(\u001B[38;5;241m*\u001B[39margs)\n\u001B[0;32m   3374\u001B[0m k \u001B[38;5;241m=\u001B[39m asarray(k\u001B[38;5;241m-\u001B[39mloc)\n\u001B[1;32m-> 3375\u001B[0m cond0 \u001B[38;5;241m=\u001B[39m \u001B[38;5;28;43mself\u001B[39;49m\u001B[38;5;241;43m.\u001B[39;49m\u001B[43m_argcheck\u001B[49m\u001B[43m(\u001B[49m\u001B[38;5;241;43m*\u001B[39;49m\u001B[43margs\u001B[49m\u001B[43m)\u001B[49m\n\u001B[0;32m   3376\u001B[0m cond1 \u001B[38;5;241m=\u001B[39m (k \u001B[38;5;241m>\u001B[39m\u001B[38;5;241m=\u001B[39m _a) \u001B[38;5;241m&\u001B[39m (k \u001B[38;5;241m<\u001B[39m\u001B[38;5;241m=\u001B[39m _b)\n\u001B[0;32m   3377\u001B[0m \u001B[38;5;28;01mif\u001B[39;00m \u001B[38;5;129;01mnot\u001B[39;00m \u001B[38;5;28misinstance\u001B[39m(\u001B[38;5;28mself\u001B[39m, rv_sample):\n",
      "File \u001B[1;32m~\\PycharmProjects\\VasicekPDModell\\venv\\lib\\site-packages\\scipy\\stats\\_discrete_distns.py:64\u001B[0m, in \u001B[0;36mbinom_gen._argcheck\u001B[1;34m(self, n, p)\u001B[0m\n\u001B[0;32m     63\u001B[0m \u001B[38;5;28;01mdef\u001B[39;00m \u001B[38;5;21m_argcheck\u001B[39m(\u001B[38;5;28mself\u001B[39m, n, p):\n\u001B[1;32m---> 64\u001B[0m     \u001B[38;5;28;01mreturn\u001B[39;00m \u001B[43m(\u001B[49m\u001B[43mn\u001B[49m\u001B[43m \u001B[49m\u001B[38;5;241;43m>\u001B[39;49m\u001B[38;5;241;43m=\u001B[39;49m\u001B[43m \u001B[49m\u001B[38;5;241;43m0\u001B[39;49m\u001B[43m)\u001B[49m\u001B[43m \u001B[49m\u001B[38;5;241;43m&\u001B[39;49m\u001B[43m \u001B[49m\u001B[43m_isintegral\u001B[49m\u001B[43m(\u001B[49m\u001B[43mn\u001B[49m\u001B[43m)\u001B[49m\u001B[43m \u001B[49m\u001B[38;5;241;43m&\u001B[39;49m\u001B[43m \u001B[49m\u001B[43m(\u001B[49m\u001B[43mp\u001B[49m\u001B[43m \u001B[49m\u001B[38;5;241;43m>\u001B[39;49m\u001B[38;5;241;43m=\u001B[39;49m\u001B[43m \u001B[49m\u001B[38;5;241;43m0\u001B[39;49m\u001B[43m)\u001B[49m \u001B[38;5;241m&\u001B[39m (p \u001B[38;5;241m<\u001B[39m\u001B[38;5;241m=\u001B[39m \u001B[38;5;241m1\u001B[39m)\n",
      "\u001B[1;31mValueError\u001B[0m: operands could not be broadcast together with shapes (3,) (0,) "
     ]
    }
   ],
   "source": [
    "np.log(calculate_my_likelihood_arr(d_g_arr, n_g_arr, p_g, norm.pdf, initial_guess[3:6], initial_guess[0:3]))"
   ],
   "metadata": {
    "collapsed": false,
    "ExecuteTime": {
     "end_time": "2024-03-12T20:05:22.382020100Z",
     "start_time": "2024-03-12T20:05:20.768458600Z"
    }
   },
   "id": "a0553b67a03e81ea"
  },
  {
   "cell_type": "code",
   "execution_count": null,
   "outputs": [],
   "source": [
    "exact_values = np.array([-2.9, -2.3, -1.6, 0.45, 0.45, 0.45])"
   ],
   "metadata": {
    "collapsed": false,
    "ExecuteTime": {
     "end_time": "2024-03-12T20:05:22.387021200Z",
     "start_time": "2024-03-12T20:05:22.386019200Z"
    }
   },
   "id": "2e95f56966c89c7e"
  },
  {
   "cell_type": "code",
   "execution_count": null,
   "outputs": [],
   "source": [
    "np.log(calculate_my_likelihood_arr(d_g_arr, n_g_arr, p_g, norm.pdf, exact_values[3:6], exact_values[0:3]))"
   ],
   "metadata": {
    "collapsed": false,
    "ExecuteTime": {
     "end_time": "2024-03-12T20:05:22.406023200Z",
     "start_time": "2024-03-12T20:05:22.392023700Z"
    }
   },
   "id": "2a72b062f7f975f"
  }
 ],
 "metadata": {
  "kernelspec": {
   "display_name": "Python 3",
   "language": "python",
   "name": "python3"
  },
  "language_info": {
   "codemirror_mode": {
    "name": "ipython",
    "version": 2
   },
   "file_extension": ".py",
   "mimetype": "text/x-python",
   "name": "python",
   "nbconvert_exporter": "python",
   "pygments_lexer": "ipython2",
   "version": "2.7.6"
  }
 },
 "nbformat": 4,
 "nbformat_minor": 5
}
