{
 "cells": [
  {
   "cell_type": "markdown",
   "source": [
    "## This notebook is used to generate the data for MLE estimation"
   ],
   "metadata": {
    "collapsed": false
   },
   "id": "9982241d3e6347d"
  },
  {
   "cell_type": "code",
   "execution_count": 1,
   "outputs": [],
   "source": [
    "import numpy as np\n",
    "from scipy.stats import norm, binom\n",
    "from scipy.integrate import quad\n",
    "from scipy.optimize import minimize\n",
    "from src.sucess_probability import p_g"
   ],
   "metadata": {
    "collapsed": false,
    "ExecuteTime": {
     "end_time": "2024-03-15T16:04:31.771806800Z",
     "start_time": "2024-03-15T16:04:29.931864600Z"
    }
   },
   "id": "9f86044d9ccc5727"
  },
  {
   "cell_type": "code",
   "execution_count": 2,
   "outputs": [],
   "source": [
    "# Define the parameters\n",
    "factor_loading = 0.45\n",
    "gamma = -1.5"
   ],
   "metadata": {
    "collapsed": false,
    "ExecuteTime": {
     "end_time": "2024-03-15T16:04:31.786806100Z",
     "start_time": "2024-03-15T16:04:31.773805100Z"
    }
   },
   "id": "initial_id"
  },
  {
   "cell_type": "code",
   "execution_count": 3,
   "outputs": [],
   "source": [
    "# Generate normalized return on obligors’ assets (Y) for only 1 bucket\n",
    "def generate_y(factor_loading, num_of_obligors):\n",
    "    x = np.random.normal()\n",
    "    epsilon = np.random.normal(0, 1, num_of_obligors)\n",
    "    y = factor_loading * x + epsilon * (1 - factor_loading**2)**0.5\n",
    "    return y"
   ],
   "metadata": {
    "collapsed": false,
    "ExecuteTime": {
     "end_time": "2024-03-15T16:04:31.814806Z",
     "start_time": "2024-03-15T16:04:31.789805200Z"
    }
   },
   "id": "44e48f642f9ab3f2"
  },
  {
   "cell_type": "code",
   "execution_count": 4,
   "outputs": [
    {
     "data": {
      "text/plain": "array([-2.86287415,  0.17011535, -0.85815945, -0.01743542,  1.16727221])"
     },
     "execution_count": 4,
     "metadata": {},
     "output_type": "execute_result"
    }
   ],
   "source": [
    "generate_y(factor_loading, 5)"
   ],
   "metadata": {
    "collapsed": false,
    "ExecuteTime": {
     "end_time": "2024-03-15T16:04:31.819807900Z",
     "start_time": "2024-03-15T16:04:31.801809800Z"
    }
   },
   "id": "1c94f7b1b42decd7"
  },
  {
   "cell_type": "code",
   "execution_count": 5,
   "outputs": [],
   "source": [
    "def generate_default(num_of_obligors, factor_loading, gamma):\n",
    "    y = generate_y(factor_loading, num_of_obligors)\n",
    "    default = (y < gamma).sum()\n",
    "    return default"
   ],
   "metadata": {
    "collapsed": false,
    "ExecuteTime": {
     "end_time": "2024-03-15T16:04:31.838809400Z",
     "start_time": "2024-03-15T16:04:31.820806600Z"
    }
   },
   "id": "a6eb89abcf780c33"
  },
  {
   "cell_type": "code",
   "execution_count": 6,
   "outputs": [
    {
     "name": "stdout",
     "output_type": "stream",
     "text": [
      "Number of defaults:  18.9375\n"
     ]
    }
   ],
   "source": [
    "n_g = 250\n",
    "d_g_list = []\n",
    "for i in range(160):\n",
    "    d_g_list.append(generate_default(n_g, factor_loading, gamma))\n",
    "#d_g = generate_default(n_g, factor_loading, gamma)\n",
    "print(\"Number of defaults: \", np.mean(d_g_list))"
   ],
   "metadata": {
    "collapsed": false,
    "ExecuteTime": {
     "end_time": "2024-03-15T16:04:31.906816300Z",
     "start_time": "2024-03-15T16:04:31.835808600Z"
    }
   },
   "id": "3c3813f88bc1e540"
  },
  {
   "cell_type": "code",
   "execution_count": 7,
   "outputs": [
    {
     "data": {
      "text/plain": "16.701800317214513"
     },
     "execution_count": 7,
     "metadata": {},
     "output_type": "execute_result"
    }
   ],
   "source": [
    "norm.cdf(gamma) * n_g"
   ],
   "metadata": {
    "collapsed": false,
    "ExecuteTime": {
     "end_time": "2024-03-15T16:04:31.907814700Z",
     "start_time": "2024-03-15T16:04:31.867812100Z"
    }
   },
   "id": "359163407a5879df"
  },
  {
   "cell_type": "code",
   "execution_count": 8,
   "outputs": [
    {
     "data": {
      "text/plain": "20.17"
     },
     "execution_count": 8,
     "metadata": {},
     "output_type": "execute_result"
    }
   ],
   "source": [
    "default_list = []\n",
    "for i in range(100):\n",
    "    default_list.append(generate_default(n_g, factor_loading, gamma))\n",
    "    \n",
    "np.mean(default_list)"
   ],
   "metadata": {
    "collapsed": false,
    "ExecuteTime": {
     "end_time": "2024-03-15T16:04:31.908816300Z",
     "start_time": "2024-03-15T16:04:31.880812Z"
    }
   },
   "id": "a5b0df390804b79f"
  },
  {
   "cell_type": "code",
   "execution_count": 9,
   "outputs": [],
   "source": [
    "# Generate normalized return on obligors’ assets (Y) for more buckets\n",
    "def generate_default_buckets(factor_loading_list, num_of_obligors_list, gamma_list):\n",
    "    x = np.random.normal(0, 1, 160)\n",
    "    defaults_list = []\n",
    "    \n",
    "    for index, num_of_obligors in enumerate(num_of_obligors_list):\n",
    "        d_g = 0\n",
    "        for i in range(160):\n",
    "            epsilon = np.random.normal(0, 1, num_of_obligors)\n",
    "            y = factor_loading_list[index] * x[i] + epsilon * (1 - factor_loading_list[index]**2)**0.5\n",
    "            d_g += (y < gamma_list[index]).sum()\n",
    "        defaults_list.append(d_g)\n",
    "\n",
    "    return defaults_list"
   ],
   "metadata": {
    "collapsed": false,
    "ExecuteTime": {
     "end_time": "2024-03-15T16:04:31.951817100Z",
     "start_time": "2024-03-15T16:04:31.898814900Z"
    }
   },
   "id": "998e39d0f462d17d"
  },
  {
   "cell_type": "code",
   "execution_count": 10,
   "outputs": [
    {
     "name": "stdout",
     "output_type": "stream",
     "text": [
      "Number of defaults:  [64, 426, 2222]\n"
     ]
    }
   ],
   "source": [
    "factor_loading_list = [0.45, 0.45, 0.45]\n",
    "num_of_obligors_list = [250, 250, 250]\n",
    "gamma_list = [-2.9, -2.3, -1.6]\n",
    "d_g_list = generate_default_buckets(factor_loading_list,num_of_obligors_list, gamma_list)\n",
    "print(\"Number of defaults: \", d_g_list)"
   ],
   "metadata": {
    "collapsed": false,
    "ExecuteTime": {
     "end_time": "2024-03-15T16:04:32.078450900Z",
     "start_time": "2024-03-15T16:04:31.914816900Z"
    }
   },
   "id": "ac38b760863d5cb"
  },
  {
   "cell_type": "code",
   "execution_count": 11,
   "outputs": [],
   "source": [
    "def calculate_my_likelihood_arr(d_g_arr, n_g_arr, p_g, prob_dens_func, w_g_arr, gamma_g_arr):\n",
    "    \"\"\"\n",
    "    Numerically calculates the value of L(d_g_arr) for multiple grades based on the given formula.\n",
    "\n",
    "    Parameters:\n",
    "        d_g_arr (numpy.array(int)): Values of d_g's by grades\n",
    "        n_g_arr (numpy.array(int)): Values of n_g's by grades\n",
    "        p_g (callable): The p_g function representing the probability density function.\n",
    "        prob_dens_func (callable): The pdf_g function representing the probability density function.\n",
    "        w_g_arr (numpy.array(float)): Parameter 'w_g's by grades\n",
    "        gamma_g_arr (numpy.array(float)): Parameter 'gamma_g's by grades.\n",
    "\n",
    "    Returns:\n",
    "        float: Numerical approximation of the integral.\n",
    "    \"\"\"\n",
    "    \n",
    "    \n",
    "    integrand = lambda x: np.prod(binom.pmf(d_g_arr, n_g_arr, p_g(x, w_g_arr, gamma_g_arr))) * prob_dens_func(x)\n",
    "    \n",
    "    result, _ = quad(integrand, -3, 3)\n",
    "    \n",
    "    return result"
   ],
   "metadata": {
    "collapsed": false,
    "ExecuteTime": {
     "end_time": "2024-03-15T16:04:32.099452800Z",
     "start_time": "2024-03-15T16:04:31.944819900Z"
    }
   },
   "id": "ab8183bd1c261163"
  },
  {
   "cell_type": "code",
   "execution_count": 12,
   "outputs": [],
   "source": [
    "initial_guess = np.array([-3.17, -1.78, 0.5, 0.3])"
   ],
   "metadata": {
    "collapsed": false,
    "ExecuteTime": {
     "end_time": "2024-03-15T16:04:32.100453800Z",
     "start_time": "2024-03-15T16:04:31.962821500Z"
    }
   },
   "id": "f82c8fe73529fa8a"
  },
  {
   "cell_type": "code",
   "execution_count": 13,
   "outputs": [
    {
     "data": {
      "text/plain": "array([0.00012591, 0.03102439])"
     },
     "execution_count": 13,
     "metadata": {},
     "output_type": "execute_result"
    }
   ],
   "source": [
    "p_g(0, initial_guess[2:4], initial_guess[0:2])"
   ],
   "metadata": {
    "collapsed": false,
    "ExecuteTime": {
     "end_time": "2024-03-15T16:04:32.101453100Z",
     "start_time": "2024-03-15T16:04:31.974822600Z"
    }
   },
   "id": "9ff9c2afd59fef17"
  },
  {
   "cell_type": "code",
   "execution_count": 14,
   "outputs": [
    {
     "data": {
      "text/plain": "([64, 426, 2222], array([40000, 40000, 40000]))"
     },
     "execution_count": 14,
     "metadata": {},
     "output_type": "execute_result"
    }
   ],
   "source": [
    "d_g_list, np.array(num_of_obligors_list) * 160"
   ],
   "metadata": {
    "collapsed": false,
    "ExecuteTime": {
     "end_time": "2024-03-15T16:04:32.102454400Z",
     "start_time": "2024-03-15T16:04:31.992822200Z"
    }
   },
   "id": "53b0d0d7dc206afe"
  },
  {
   "cell_type": "code",
   "execution_count": 15,
   "outputs": [],
   "source": [
    "np.random.seed(42) # Fix the seed for reproducibility\n",
    "factor_loading_list = [0.45, 0.45, 0.45]\n",
    "num_of_obligors_list = [250, 250, 250]\n",
    "gamma_list = [-2.9, -2.3, -1.6]\n",
    "d_g_list = generate_default_buckets(factor_loading_list,num_of_obligors_list, gamma_list)"
   ],
   "metadata": {
    "collapsed": false,
    "ExecuteTime": {
     "end_time": "2024-03-15T16:04:32.122457400Z",
     "start_time": "2024-03-15T16:04:32.009446200Z"
    }
   },
   "id": "cc531b7b2548bd6e"
  },
  {
   "cell_type": "code",
   "execution_count": 16,
   "outputs": [
    {
     "name": "stdout",
     "output_type": "stream",
     "text": [
      "Optimization terminated successfully.\n",
      "         Current function value: 15.975290\n",
      "         Iterations: 72\n",
      "         Function evaluations: 136\n",
      "The optimal weight parameter is [-2.7987036  -2.25997086 -1.63899683  0.46543338]\n",
      "Optimization terminated successfully.\n"
     ]
    }
   ],
   "source": [
    "# Different gamma and same factor loading parameter\n",
    "\n",
    "d_g_arr = d_g_list\n",
    "n_g_arr = np.array(num_of_obligors_list) * 160\n",
    "#gamma_g = norm.ppf(d_g_arr / n_g_arr)\n",
    "\n",
    "# MLE condition and initial guess\n",
    "# initial_guess = np.array(list(gamma_g) + [0.5, 0.3])\n",
    "# initial_guess = np.array([-2.85, -2.28, -1.73, 0.44, 0.44, 0.44])\n",
    "# bounds = [(-5, 5), (-5, 5), (-5, 5), (-1, 1), (-1, 1), (-1, 1)]\n",
    "initial_guess = np.array([-2.9, -2.3, -1.6, 0.45])\n",
    "bounds = [(-5, 5), (-5, 5), (-5, 5), (-1, 1)]\n",
    "\n",
    "# Function to be minimized in weight parameter\n",
    "# objective_function = lambda params: -calculate_my_likelihood_arr(d_g_arr, n_g_arr, p_g, norm.pdf, params, gamma_g)\n",
    "objective_function = lambda params: -np.log(calculate_my_likelihood_arr(d_g_arr, n_g_arr, p_g, norm.pdf, \n",
    "                                                                 np.repeat(params[3], 3), \n",
    "                                                                 params[0:3]))\n",
    "\n",
    "result = minimize(objective_function,\n",
    "                  initial_guess,\n",
    "                  method=\"Nelder-Mead\",\n",
    "                  bounds=bounds,\n",
    "                  options={\n",
    "                      'disp': True})\n",
    "# Method can be Nelder-Mead or Powell\n",
    "\n",
    "# The optimal weight parameter\n",
    "optimal_weight = result.x\n",
    "print(f\"The optimal weight parameter is {optimal_weight}\")\n",
    "print(result.message)"
   ],
   "metadata": {
    "collapsed": false,
    "ExecuteTime": {
     "end_time": "2024-03-15T16:04:39.182268800Z",
     "start_time": "2024-03-15T16:04:32.043450800Z"
    }
   },
   "id": "26b4bee5f773a7a7"
  },
  {
   "cell_type": "code",
   "execution_count": 17,
   "outputs": [],
   "source": [
    "#[-2.86909645 -2.31877637 -1.70957583  0.44903538] 15.454434, [-2.91256677 -2.32328551 -1.67963831  0.38511863], 15.572930 [-2.87680625 -2.29940442 -1.66884253  0.46237501]"
   ],
   "metadata": {
    "collapsed": false,
    "ExecuteTime": {
     "end_time": "2024-03-15T16:04:39.199268600Z",
     "start_time": "2024-03-15T16:04:39.175050100Z"
    }
   },
   "id": "7c9b6508b4d18a28"
  },
  {
   "cell_type": "markdown",
   "source": [
    "#TO-DO:\n",
    "for 1 w,\n",
    "for more w,\n",
    "for fixed gamma"
   ],
   "metadata": {
    "collapsed": false
   },
   "id": "3409e562a45d975"
  },
  {
   "cell_type": "code",
   "execution_count": 18,
   "outputs": [
    {
     "data": {
      "text/plain": "([73, 431, 2207], array([40000, 40000, 40000]))"
     },
     "execution_count": 18,
     "metadata": {},
     "output_type": "execute_result"
    }
   ],
   "source": [
    "d_g_list, np.array(num_of_obligors_list) * 160"
   ],
   "metadata": {
    "collapsed": false,
    "ExecuteTime": {
     "end_time": "2024-03-15T16:04:39.247272300Z",
     "start_time": "2024-03-15T16:04:39.189269600Z"
    }
   },
   "id": "87169d1700e86c6b"
  },
  {
   "cell_type": "code",
   "execution_count": 19,
   "outputs": [
    {
     "name": "stdout",
     "output_type": "stream",
     "text": [
      "Optimization terminated successfully.\n",
      "         Current function value: 32.715524\n",
      "         Iterations: 9\n",
      "         Function evaluations: 18\n",
      "The optimal weight parameter is [0.45298828]\n",
      "Optimization terminated successfully.\n"
     ]
    }
   ],
   "source": [
    "# Fixed gamma and 1 w case\n",
    "\n",
    "d_g_arr = d_g_list\n",
    "n_g_arr = np.array(num_of_obligors_list) * 160\n",
    "gamma_g = norm.ppf(d_g_arr / n_g_arr)\n",
    "\n",
    "# MLE condition and initial guess\n",
    "# initial_guess = np.array(list(gamma_g) + [0.5, 0.3])\n",
    "# initial_guess = np.array([-2.85, -2.28, -1.73, 0.44, 0.44, 0.44])\n",
    "# bounds = [(-5, 5), (-5, 5), (-5, 5), (-1, 1), (-1, 1), (-1, 1)]\n",
    "initial_guess = np.array([0.45])\n",
    "bounds = [(-1, 1)]\n",
    "\n",
    "# Function to be minimized in weight parameter\n",
    "# objective_function = lambda params: -calculate_my_likelihood_arr(d_g_arr, n_g_arr, p_g, norm.pdf, params, gamma_g)\n",
    "objective_function = lambda param: -np.log(calculate_my_likelihood_arr(d_g_arr, n_g_arr, p_g, norm.pdf, \n",
    "                                                                 np.repeat(param, 3), \n",
    "                                                                 gamma_g))\n",
    "\n",
    "result = minimize(objective_function,\n",
    "                  initial_guess,\n",
    "                  method=\"Nelder-Mead\",\n",
    "                  bounds=bounds,\n",
    "                  options={\n",
    "                      'disp': True})\n",
    "# Method can be Nelder-Mead or Powell\n",
    "\n",
    "# The optimal weight parameter\n",
    "optimal_weight = result.x\n",
    "print(f\"The optimal weight parameter is {optimal_weight}\")\n",
    "print(result.message)"
   ],
   "metadata": {
    "collapsed": false,
    "ExecuteTime": {
     "end_time": "2024-03-15T16:04:39.553299200Z",
     "start_time": "2024-03-15T16:04:39.204271Z"
    }
   },
   "id": "fc5f1d2bfe8dea5b"
  },
  {
   "cell_type": "code",
   "execution_count": 20,
   "outputs": [
    {
     "name": "stdout",
     "output_type": "stream",
     "text": [
      "Optimization terminated successfully.\n",
      "         Current function value: 15.696459\n",
      "         Iterations: 376\n",
      "         Function evaluations: 622\n",
      "The optimal weight parameter is [-2.71832229 -2.27685227 -1.68524951  0.57457913  0.51126892  0.20935336]\n",
      "Optimization terminated successfully.\n"
     ]
    }
   ],
   "source": [
    "# Different gamma and different factor loading parameters\n",
    "\n",
    "d_g_arr = d_g_list\n",
    "n_g_arr = np.array(num_of_obligors_list) * 160\n",
    "#gamma_g = norm.ppf(d_g_arr / n_g_arr)\n",
    "\n",
    "# MLE condition and initial guess\n",
    "initial_guess = np.array([-2.85, -2.28, -1.73, 0.44, 0.44, 0.44])\n",
    "bounds = [(-5, 5), (-5, 5), (-5, 5), (-1, 1), (-1, 1), (-1, 1)]\n",
    "\n",
    "# Function to be minimized in weight parameter\n",
    "# objective_function = lambda params: -calculate_my_likelihood_arr(d_g_arr, n_g_arr, p_g, norm.pdf, params, gamma_g)\n",
    "objective_function = lambda params: -np.log(calculate_my_likelihood_arr(d_g_arr, n_g_arr, p_g, norm.pdf, \n",
    "                                                                params[3:6], \n",
    "                                                                 params[0:3]))\n",
    "\n",
    "result = minimize(objective_function,\n",
    "                  initial_guess,\n",
    "                  method=\"Nelder-Mead\",\n",
    "                  bounds=bounds,\n",
    "                  options={\n",
    "                      'disp': True})\n",
    "# Method can be Nelder-Mead or Powell\n",
    "\n",
    "# The optimal weight parameter\n",
    "optimal_weight = result.x\n",
    "print(f\"The optimal weight parameter is {optimal_weight}\")\n",
    "print(result.message)"
   ],
   "metadata": {
    "collapsed": false,
    "ExecuteTime": {
     "end_time": "2024-03-15T16:05:16.282827700Z",
     "start_time": "2024-03-15T16:04:39.554299900Z"
    }
   },
   "id": "557d640557edbd8e"
  },
  {
   "cell_type": "code",
   "execution_count": 21,
   "outputs": [
    {
     "data": {
      "text/plain": "([73, 431, 2207],\n array([40000, 40000, 40000]),\n array([0.44, 0.44, 0.44]),\n array([-2.85, -2.28, -1.73]))"
     },
     "execution_count": 21,
     "metadata": {},
     "output_type": "execute_result"
    }
   ],
   "source": [
    "d_g_arr, n_g_arr, initial_guess[3:6], initial_guess[0:3]"
   ],
   "metadata": {
    "collapsed": false,
    "ExecuteTime": {
     "end_time": "2024-03-15T16:05:16.301831Z",
     "start_time": "2024-03-15T16:05:16.274830800Z"
    }
   },
   "id": "44f479e1625406f0"
  },
  {
   "cell_type": "code",
   "execution_count": 22,
   "outputs": [
    {
     "data": {
      "text/plain": "-26.39238732015877"
     },
     "execution_count": 22,
     "metadata": {},
     "output_type": "execute_result"
    }
   ],
   "source": [
    "np.log(calculate_my_likelihood_arr(d_g_arr, n_g_arr, p_g, norm.pdf, initial_guess[3:6], initial_guess[0:3]))"
   ],
   "metadata": {
    "collapsed": false,
    "ExecuteTime": {
     "end_time": "2024-03-15T16:05:16.367837200Z",
     "start_time": "2024-03-15T16:05:16.288831600Z"
    }
   },
   "id": "a0553b67a03e81ea"
  },
  {
   "cell_type": "code",
   "execution_count": 23,
   "outputs": [],
   "source": [
    "exact_values = np.array([-2.9, -2.3, -1.6, 0.45, 0.45, 0.45])"
   ],
   "metadata": {
    "collapsed": false,
    "ExecuteTime": {
     "end_time": "2024-03-15T16:05:16.369836800Z",
     "start_time": "2024-03-15T16:05:16.320833900Z"
    }
   },
   "id": "2e95f56966c89c7e"
  },
  {
   "cell_type": "code",
   "execution_count": 24,
   "outputs": [
    {
     "data": {
      "text/plain": "-30.587448326033556"
     },
     "execution_count": 24,
     "metadata": {},
     "output_type": "execute_result"
    }
   ],
   "source": [
    "np.log(calculate_my_likelihood_arr(d_g_arr, n_g_arr, p_g, norm.pdf, exact_values[3:6], exact_values[0:3]))"
   ],
   "metadata": {
    "collapsed": false,
    "ExecuteTime": {
     "end_time": "2024-03-15T16:05:16.371835600Z",
     "start_time": "2024-03-15T16:05:16.336834700Z"
    }
   },
   "id": "2a72b062f7f975f"
  },
  {
   "cell_type": "code",
   "execution_count": 24,
   "outputs": [],
   "source": [],
   "metadata": {
    "collapsed": false,
    "ExecuteTime": {
     "end_time": "2024-03-15T16:05:16.440843200Z",
     "start_time": "2024-03-15T16:05:16.366837500Z"
    }
   },
   "id": "6c0805c37dd55fa6"
  }
 ],
 "metadata": {
  "kernelspec": {
   "display_name": "Python 3",
   "language": "python",
   "name": "python3"
  },
  "language_info": {
   "codemirror_mode": {
    "name": "ipython",
    "version": 2
   },
   "file_extension": ".py",
   "mimetype": "text/x-python",
   "name": "python",
   "nbconvert_exporter": "python",
   "pygments_lexer": "ipython2",
   "version": "2.7.6"
  }
 },
 "nbformat": 4,
 "nbformat_minor": 5
}
