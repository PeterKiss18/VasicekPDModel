{
 "cells": [
  {
   "cell_type": "code",
   "execution_count": 21,
   "outputs": [],
   "source": [
    "import numpy as np\n",
    "import pandas as pd\n",
    "import scipy.stats as stats\n",
    "from scipy.integrate import quad\n",
    "from scipy.stats import norm, binom\n",
    "from scipy.optimize import minimize\n",
    "import warnings\n",
    "warnings.filterwarnings(\"ignore\", category=DeprecationWarning)"
   ],
   "metadata": {
    "collapsed": false,
    "ExecuteTime": {
     "end_time": "2024-05-01T19:42:32.176888400Z",
     "start_time": "2024-05-01T19:42:32.127156500Z"
    }
   },
   "id": "initial_id"
  },
  {
   "cell_type": "code",
   "execution_count": 22,
   "outputs": [],
   "source": [
    "df = pd.read_csv('data\\SP_historical_PD_data.csv', sep=';')"
   ],
   "metadata": {
    "collapsed": false,
    "ExecuteTime": {
     "end_time": "2024-05-01T19:42:33.148287100Z",
     "start_time": "2024-05-01T19:42:33.095284100Z"
    }
   },
   "id": "9f5d94783ecbeed3"
  },
  {
   "cell_type": "code",
   "execution_count": 23,
   "outputs": [
    {
     "data": {
      "text/plain": "(40, 8)"
     },
     "execution_count": 23,
     "metadata": {},
     "output_type": "execute_result"
    }
   ],
   "source": [
    "df.shape"
   ],
   "metadata": {
    "collapsed": false,
    "ExecuteTime": {
     "end_time": "2024-05-01T19:42:33.638187Z",
     "start_time": "2024-05-01T19:42:33.510176400Z"
    }
   },
   "id": "9829d814589c9be2"
  },
  {
   "cell_type": "code",
   "execution_count": 24,
   "outputs": [
    {
     "data": {
      "text/plain": "   Year  Total defaults*  Investment-grade defaults  \\\n0  1981                2                          0   \n1  1982               18                          2   \n2  1983               12                          1   \n3  1984               14                          2   \n4  1985               19                          0   \n\n   Speculative-grade defaults  Default rate (%)  \\\n0                           2              0.15   \n1                          15              1.22   \n2                          10              0.77   \n3                          12              0.93   \n4                          18              1.13   \n\n   Investment-grade default rate (%)  Speculative-grade default rate (%)  \\\n0                               0.00                                0.63   \n1                               0.19                                4.46   \n2                               0.09                                2.98   \n3                               0.17                                3.31   \n4                               0.00                                4.37   \n\n   Total debt outstanding (bil. $)  \n0                             0.06  \n1                             0.90  \n2                             0.37  \n3                             0.36  \n4                             0.31  ",
      "text/html": "<div>\n<style scoped>\n    .dataframe tbody tr th:only-of-type {\n        vertical-align: middle;\n    }\n\n    .dataframe tbody tr th {\n        vertical-align: top;\n    }\n\n    .dataframe thead th {\n        text-align: right;\n    }\n</style>\n<table border=\"1\" class=\"dataframe\">\n  <thead>\n    <tr style=\"text-align: right;\">\n      <th></th>\n      <th>Year</th>\n      <th>Total defaults*</th>\n      <th>Investment-grade defaults</th>\n      <th>Speculative-grade defaults</th>\n      <th>Default rate (%)</th>\n      <th>Investment-grade default rate (%)</th>\n      <th>Speculative-grade default rate (%)</th>\n      <th>Total debt outstanding (bil. $)</th>\n    </tr>\n  </thead>\n  <tbody>\n    <tr>\n      <th>0</th>\n      <td>1981</td>\n      <td>2</td>\n      <td>0</td>\n      <td>2</td>\n      <td>0.15</td>\n      <td>0.00</td>\n      <td>0.63</td>\n      <td>0.06</td>\n    </tr>\n    <tr>\n      <th>1</th>\n      <td>1982</td>\n      <td>18</td>\n      <td>2</td>\n      <td>15</td>\n      <td>1.22</td>\n      <td>0.19</td>\n      <td>4.46</td>\n      <td>0.90</td>\n    </tr>\n    <tr>\n      <th>2</th>\n      <td>1983</td>\n      <td>12</td>\n      <td>1</td>\n      <td>10</td>\n      <td>0.77</td>\n      <td>0.09</td>\n      <td>2.98</td>\n      <td>0.37</td>\n    </tr>\n    <tr>\n      <th>3</th>\n      <td>1984</td>\n      <td>14</td>\n      <td>2</td>\n      <td>12</td>\n      <td>0.93</td>\n      <td>0.17</td>\n      <td>3.31</td>\n      <td>0.36</td>\n    </tr>\n    <tr>\n      <th>4</th>\n      <td>1985</td>\n      <td>19</td>\n      <td>0</td>\n      <td>18</td>\n      <td>1.13</td>\n      <td>0.00</td>\n      <td>4.37</td>\n      <td>0.31</td>\n    </tr>\n  </tbody>\n</table>\n</div>"
     },
     "execution_count": 24,
     "metadata": {},
     "output_type": "execute_result"
    }
   ],
   "source": [
    "df.head()"
   ],
   "metadata": {
    "collapsed": false,
    "ExecuteTime": {
     "end_time": "2024-05-01T19:42:34.292241700Z",
     "start_time": "2024-05-01T19:42:34.189234200Z"
    }
   },
   "id": "5f0ed57ea8918408"
  },
  {
   "cell_type": "code",
   "execution_count": 25,
   "outputs": [],
   "source": [
    "df[\"pd_total\"] = df[\"Default rate (%)\"] / 100\n",
    "df[\"pd_inv\"] = df[\"Investment-grade default rate (%)\"] / 100\n",
    "df[\"pd_spec\"] = df[\"Speculative-grade default rate (%)\"] / 100\n",
    "\n",
    "df['num_of_inv_grades'] = (df['Investment-grade defaults'] / (df[\"pd_inv\"])).round()\n",
    "df['num_of_spec_grades'] = (\n",
    "            df['Speculative-grade defaults'] / (df[\"pd_spec\"])).round().astype(int)\n",
    "df['num_of_total_grades'] = (df['Total defaults*'] / (df[\"pd_total\"])).round().astype(int)\n",
    "\n",
    "# Fill-out the missing values in num_of_inv_grades column with the difference between num_of_total_grades and num_of_spec_grades\n",
    "df['num_of_inv_grades'] = np.where(df['num_of_inv_grades'].isna(), df['num_of_total_grades'] - df['num_of_spec_grades'],\n",
    "                                   df['num_of_inv_grades']).astype(int)"
   ],
   "metadata": {
    "collapsed": false,
    "ExecuteTime": {
     "end_time": "2024-05-01T19:42:35.576346500Z",
     "start_time": "2024-05-01T19:42:35.485341200Z"
    }
   },
   "id": "a946aa356895cbd7"
  },
  {
   "cell_type": "code",
   "execution_count": 26,
   "outputs": [],
   "source": [
    "from scipy.integrate import cumtrapz\n",
    "from src.variable_change import a_calc_func, b_calc_func, w_calc_func, gamma_calc_func"
   ],
   "metadata": {
    "collapsed": false,
    "ExecuteTime": {
     "end_time": "2024-05-01T19:42:36.389031700Z",
     "start_time": "2024-05-01T19:42:36.347031Z"
    }
   },
   "id": "d4d26bbc6f6e07e8"
  },
  {
   "cell_type": "code",
   "execution_count": 27,
   "outputs": [],
   "source": [
    "def calc_linear_likelihood(d_g_arr, n_g_arr, p_g, prob_dens_func, a, b):\n",
    "    y_values = np.linspace(0, 1, num=1000)\n",
    "\n",
    "    y_dim = len(y_values)\n",
    "    a_dim = len(a)\n",
    "\n",
    "    a_mat = np.tile(a, (y_dim, 1))\n",
    "    b_mat = np.tile(b, (y_dim, 1))\n",
    "    y_mat = np.tile(y_values, (a_dim, 1)).T\n",
    "\n",
    "    integrand_values = np.prod(binom.pmf(d_g_arr, n_g_arr, norm.cdf(a_mat * norm.ppf(y_mat) + b_mat)), axis=1)\n",
    "    result = cumtrapz(integrand_values, y_values)[-1]\n",
    "    return result\n",
    "\n",
    "\n",
    "def log_likehood_variable_changed_fast(d_g_array, n_g_array, p_g, prob_dens_func, a, b):\n",
    "    return sum(np.log(calc_linear_likelihood(d_g_list, n_g_list, p_g, prob_dens_func, a, b)) for d_g_list, n_g_list in zip(d_g_array, n_g_array))"
   ],
   "metadata": {
    "collapsed": false,
    "ExecuteTime": {
     "end_time": "2024-05-01T19:42:37.223774Z",
     "start_time": "2024-05-01T19:42:37.113764800Z"
    }
   },
   "id": "27f8e77415f5f013"
  },
  {
   "cell_type": "code",
   "execution_count": 28,
   "outputs": [],
   "source": [
    "from src.sucess_probability import p_g\n",
    "\n",
    "def mle_trapz_g_and_w(\n",
    "        default_table, num_of_obligors_table, factor_loading_init, gamma_list_init, fixed_w=False, fixed_g=False):\n",
    "\n",
    "    a_init = np.array(a_calc_func(np.array(factor_loading_init), np.array(gamma_list_init)))\n",
    "    b_init = np.array(b_calc_func(np.array(factor_loading_init), np.array(gamma_list_init)))\n",
    "\n",
    "    initial_guess = np.concatenate((a_init, b_init))\n",
    "\n",
    "    num_of_a = len(a_init)\n",
    "    bounds = [(-10, 10)] * len(initial_guess)\n",
    "\n",
    "    # Optimization\n",
    "    if not fixed_w and not fixed_g:\n",
    "        objective_function = lambda params: -log_likehood_variable_changed_fast(\n",
    "            default_table, num_of_obligors_table, p_g, norm.pdf, params[:num_of_a], params[num_of_a:len(initial_guess)]\n",
    "        )\n",
    "\n",
    "        result = minimize(objective_function,\n",
    "                          initial_guess,\n",
    "                          method=\"Nelder-Mead\",\n",
    "                          bounds=bounds,\n",
    "                          options={\n",
    "                              'disp': False})\n",
    "\n",
    "        factor_loading_result = np.array(w_calc_func(np.array(result.x[:num_of_a]), np.array(result.x[num_of_a:])))\n",
    "        gamma_result = np.array(gamma_calc_func(np.array(result.x[:num_of_a]), np.array(result.x[num_of_a:])))\n",
    "\n",
    "    elif fixed_w:\n",
    "        objective_function = lambda params: -log_likehood_variable_changed_fast(\n",
    "            default_table, num_of_obligors_table, p_g, norm.pdf, a_init, params\n",
    "        )\n",
    "\n",
    "        result = minimize(objective_function,\n",
    "                          b_init,\n",
    "                          method=\"Nelder-Mead\",\n",
    "                          bounds=bounds[num_of_a:],\n",
    "                          options={\n",
    "                              'disp': False})\n",
    "\n",
    "        factor_loading_result = np.array(w_calc_func(a_init, result.x))\n",
    "        gamma_result = np.array(gamma_calc_func(a_init, result.x))\n",
    "\n",
    "    elif fixed_g:\n",
    "        objective_function = lambda params: -log_likehood_variable_changed_fast(\n",
    "            default_table, num_of_obligors_table, p_g, norm.pdf, params, b_init\n",
    "        )\n",
    "\n",
    "        result = minimize(objective_function,\n",
    "                          a_init,\n",
    "                          method=\"Nelder-Mead\",\n",
    "                          bounds=bounds[:num_of_a],\n",
    "                          options={\n",
    "                              'disp': False})\n",
    "\n",
    "        factor_loading_result = np.array(w_calc_func(result.x, b_init))\n",
    "        gamma_result = np.array(gamma_calc_func(result.x, b_init))\n",
    "\n",
    "    return factor_loading_result, gamma_result, result"
   ],
   "metadata": {
    "collapsed": false,
    "ExecuteTime": {
     "end_time": "2024-05-01T19:42:37.608211700Z",
     "start_time": "2024-05-01T19:42:37.558211Z"
    }
   },
   "id": "964b8339989f0d01"
  },
  {
   "cell_type": "code",
   "execution_count": 29,
   "outputs": [
    {
     "name": "stdout",
     "output_type": "stream",
     "text": [
      "The factor loading for investment-grade is 0.29884580325918636, and the gamma parameter is -3.14207256610641\n",
      "The factor loading for speculative-grade is 0.2676589012970297, and the gamma parameter is -1.7524064907810293\n"
     ]
    }
   ],
   "source": [
    "factor_loading_mle, gamma_mle, mle_result = mle_trapz_g_and_w(df[['Investment-grade defaults', 'Speculative-grade defaults']].values,\n",
    "                                                              df[['num_of_inv_grades', 'num_of_spec_grades']].values, [0.3, 0.3], [-3, -2.3])\n",
    "\n",
    "print(f\"The factor loading for investment-grade is {factor_loading_mle[0]}, and the gamma parameter is {gamma_mle[0]}\")\n",
    "print(f\"The factor loading for speculative-grade is {factor_loading_mle[1]}, and the gamma parameter is {gamma_mle[1]}\")"
   ],
   "metadata": {
    "collapsed": false,
    "ExecuteTime": {
     "end_time": "2024-05-01T19:42:53.374621300Z",
     "start_time": "2024-05-01T19:42:40.903600100Z"
    }
   },
   "id": "8f24734f2947ca0b"
  },
  {
   "cell_type": "code",
   "execution_count": null,
   "outputs": [],
   "source": [],
   "metadata": {
    "collapsed": false
   },
   "id": "382a244ada0fbfad"
  }
 ],
 "metadata": {
  "kernelspec": {
   "name": "python3",
   "language": "python",
   "display_name": "Python 3 (ipykernel)"
  },
  "language_info": {
   "codemirror_mode": {
    "name": "ipython",
    "version": 2
   },
   "file_extension": ".py",
   "mimetype": "text/x-python",
   "name": "python",
   "nbconvert_exporter": "python",
   "pygments_lexer": "ipython2",
   "version": "2.7.6"
  }
 },
 "nbformat": 4,
 "nbformat_minor": 5
}
