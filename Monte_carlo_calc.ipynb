{
 "cells": [
  {
   "cell_type": "code",
   "execution_count": 1,
   "outputs": [],
   "source": [
    "import  numpy as np\n",
    "import scipy.stats as stats"
   ],
   "metadata": {
    "collapsed": false,
    "ExecuteTime": {
     "end_time": "2024-02-21T17:56:52.188931300Z",
     "start_time": "2024-02-21T17:56:51.296858400Z"
    }
   },
   "id": "e9ba459f44e4f32f"
  },
  {
   "cell_type": "code",
   "execution_count": 2,
   "outputs": [],
   "source": [
    "def expected_value_of_function_monte_carlo(f, num_samples=100000):\n",
    "    \"\"\"\n",
    "    Calculates the expected value of a given function f(x) where x follows the standard normal distribution.\n",
    "\n",
    "    Parameters:\n",
    "        f (callable): The function f(x) to calculate the expected value.\n",
    "        num_samples (int): The number of samples to use in the Monte Carlo simulation.\n",
    "\n",
    "    Returns:\n",
    "        float: The estimated expected value of the function.\n",
    "    \"\"\"\n",
    "    # Generate random samples from the standard normal distribution\n",
    "    random_samples = np.random.normal(size=num_samples)\n",
    "\n",
    "    # Calculate the expected value using the Monte Carlo simulation\n",
    "    estimated_expected_value = np.mean(f(random_samples))\n",
    "\n",
    "    return estimated_expected_value"
   ],
   "metadata": {
    "collapsed": false,
    "ExecuteTime": {
     "end_time": "2024-02-21T17:56:52.191934Z",
     "start_time": "2024-02-21T17:56:52.181935600Z"
    }
   },
   "id": "initial_id"
  },
  {
   "cell_type": "code",
   "execution_count": 3,
   "outputs": [],
   "source": [
    "def p_g(X_g, w_g = 0.1, gamma_g = -1.65):\n",
    "    \"\"\"\n",
    "    Calculates the success probability of a Bernoulli trial.\n",
    "\n",
    "    Parameters:\n",
    "        X_g (float): Input value.\n",
    "        w_g (float): Parameter 'w_g'.\n",
    "        gamma_g (float): Parameter 'gamma_g'.\n",
    "\n",
    "    Returns:\n",
    "        float: Result of p_g(X_g).\n",
    "    \"\"\"\n",
    "    modified_result = stats.norm.cdf((gamma_g - w_g * X_g) / np.sqrt(1 - w_g**2))\n",
    "\n",
    "    return modified_result"
   ],
   "metadata": {
    "collapsed": false,
    "ExecuteTime": {
     "end_time": "2024-02-21T17:56:52.223934500Z",
     "start_time": "2024-02-21T17:56:52.192933800Z"
    }
   },
   "id": "84066f0557303805"
  },
  {
   "cell_type": "code",
   "execution_count": 4,
   "outputs": [
    {
     "data": {
      "text/plain": "3.982608116089788e-09"
     },
     "execution_count": 4,
     "metadata": {},
     "output_type": "execute_result"
    }
   ],
   "source": [
    "d_g = 3\n",
    "n_g = 162\n",
    "f = lambda x: stats.binom.pmf(d_g, n_g, p_g(x)) * (p_g(x) ** d_g) * ((1 - p_g(x)) ** (n_g - d_g))\n",
    "\n",
    "expected_value_of_function_monte_carlo(f)"
   ],
   "metadata": {
    "collapsed": false,
    "ExecuteTime": {
     "end_time": "2024-02-21T17:56:52.300984Z",
     "start_time": "2024-02-21T17:56:52.210936700Z"
    }
   },
   "id": "2d81333155de8329"
  },
  {
   "cell_type": "code",
   "execution_count": null,
   "outputs": [],
   "source": [],
   "metadata": {
    "collapsed": false
   },
   "id": "30af99adfd94b709"
  }
 ],
 "metadata": {
  "kernelspec": {
   "display_name": "Python 3",
   "language": "python",
   "name": "python3"
  },
  "language_info": {
   "codemirror_mode": {
    "name": "ipython",
    "version": 2
   },
   "file_extension": ".py",
   "mimetype": "text/x-python",
   "name": "python",
   "nbconvert_exporter": "python",
   "pygments_lexer": "ipython2",
   "version": "2.7.6"
  }
 },
 "nbformat": 4,
 "nbformat_minor": 5
}
