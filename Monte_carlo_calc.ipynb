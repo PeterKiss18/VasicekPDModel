{
 "cells": [
  {
   "cell_type": "code",
   "execution_count": 1,
   "outputs": [],
   "source": [
    "import  numpy as np\n",
    "import scipy.stats as stats\n",
    "from scipy.optimize import minimize"
   ],
   "metadata": {
    "collapsed": false,
    "ExecuteTime": {
     "end_time": "2024-02-29T19:14:48.639121800Z",
     "start_time": "2024-02-29T19:14:47.762477200Z"
    }
   },
   "id": "e9ba459f44e4f32f"
  },
  {
   "cell_type": "code",
   "execution_count": 2,
   "outputs": [],
   "source": [
    "def expected_value_of_function_monte_carlo(f, num_samples=100000):\n",
    "    \"\"\"\n",
    "    Calculates the expected value of a given function f(x) where x follows the standard normal distribution.\n",
    "\n",
    "    Parameters:\n",
    "        f (callable): The function f(x) to calculate the expected value.\n",
    "        num_samples (int): The number of samples to use in the Monte Carlo simulation.\n",
    "\n",
    "    Returns:\n",
    "        float: The estimated expected value of the function.\n",
    "    \"\"\"\n",
    "    # Generate random samples from the standard normal distribution\n",
    "    random_samples = np.random.normal(size=num_samples)\n",
    "\n",
    "    # Calculate the expected value using the Monte Carlo simulation\n",
    "    estimated_expected_value = np.mean(f(random_samples))\n",
    "\n",
    "    return estimated_expected_value"
   ],
   "metadata": {
    "collapsed": false,
    "ExecuteTime": {
     "end_time": "2024-02-29T19:14:48.659122300Z",
     "start_time": "2024-02-29T19:14:48.635119800Z"
    }
   },
   "id": "initial_id"
  },
  {
   "cell_type": "code",
   "execution_count": 3,
   "outputs": [],
   "source": [
    "def p_g(X_g, w_g = 0.1, gamma_g = -1.65):\n",
    "    \"\"\"\n",
    "    Calculates the success probability of a Bernoulli trial.\n",
    "\n",
    "    Parameters:\n",
    "        X_g (float): Input value.\n",
    "        w_g (float): Parameter 'w_g'.\n",
    "        gamma_g (float): Parameter 'gamma_g'.\n",
    "\n",
    "    Returns:\n",
    "        float: Result of p_g(X_g).\n",
    "    \"\"\"\n",
    "    modified_result = stats.norm.cdf((gamma_g - w_g * X_g) / np.sqrt(1 - w_g**2))\n",
    "\n",
    "    return modified_result"
   ],
   "metadata": {
    "collapsed": false,
    "ExecuteTime": {
     "end_time": "2024-02-29T19:14:48.692124100Z",
     "start_time": "2024-02-29T19:14:48.649119100Z"
    }
   },
   "id": "84066f0557303805"
  },
  {
   "cell_type": "code",
   "execution_count": 4,
   "outputs": [
    {
     "data": {
      "text/plain": "0.03919375678358113"
     },
     "execution_count": 4,
     "metadata": {},
     "output_type": "execute_result"
    }
   ],
   "source": [
    "d_g = 3\n",
    "n_g = 162\n",
    "f = lambda x: stats.binom.pmf(d_g, n_g, p_g(x))\n",
    "\n",
    "expected_value_of_function_monte_carlo(f)"
   ],
   "metadata": {
    "collapsed": false,
    "ExecuteTime": {
     "end_time": "2024-02-29T19:14:48.712125300Z",
     "start_time": "2024-02-29T19:14:48.662122700Z"
    }
   },
   "id": "2d81333155de8329"
  },
  {
   "cell_type": "code",
   "execution_count": 5,
   "outputs": [
    {
     "data": {
      "text/plain": "5.292012487477954e-06"
     },
     "execution_count": 5,
     "metadata": {},
     "output_type": "execute_result"
    }
   ],
   "source": [
    "d_small = 31\n",
    "n_small = 2078\n",
    "g1 = lambda x: stats.binom.pmf(d_small, n_small, p_g(x))\n",
    "\n",
    "expected_value_of_function_monte_carlo(g1)"
   ],
   "metadata": {
    "collapsed": false,
    "ExecuteTime": {
     "end_time": "2024-02-29T19:14:48.804132400Z",
     "start_time": "2024-02-29T19:14:48.710135900Z"
    }
   },
   "id": "30af99adfd94b709"
  },
  {
   "cell_type": "code",
   "execution_count": 6,
   "outputs": [
    {
     "data": {
      "text/plain": "3.7855362205272543e-11"
     },
     "execution_count": 6,
     "metadata": {},
     "output_type": "execute_result"
    }
   ],
   "source": [
    "d_medium = 307\n",
    "n_medium = 20005\n",
    "g2 = lambda x: stats.binom.pmf(d_medium, n_medium, p_g(x))\n",
    "\n",
    "expected_value_of_function_monte_carlo(g2)"
   ],
   "metadata": {
    "collapsed": false,
    "ExecuteTime": {
     "end_time": "2024-02-29T19:14:48.824132700Z",
     "start_time": "2024-02-29T19:14:48.757129500Z"
    }
   },
   "id": "2556ee3888ef1b22"
  },
  {
   "cell_type": "code",
   "execution_count": 7,
   "outputs": [
    {
     "data": {
      "text/plain": "0.0008921722461638922"
     },
     "execution_count": 7,
     "metadata": {},
     "output_type": "execute_result"
    }
   ],
   "source": [
    "d_large = 2481\n",
    "n_large = 66871\n",
    "g3 = lambda x: stats.binom.pmf(d_large, n_large, p_g(x, w_g=0.07602889962521624, gamma_g=-1.7498743361043698))\n",
    "\n",
    "expected_value_of_function_monte_carlo(g3)"
   ],
   "metadata": {
    "collapsed": false,
    "ExecuteTime": {
     "end_time": "2024-02-29T19:14:48.947145600Z",
     "start_time": "2024-02-29T19:14:48.806132100Z"
    }
   },
   "id": "715c6d4c21f34133"
  },
  {
   "cell_type": "code",
   "execution_count": 8,
   "outputs": [],
   "source": [
    "def mle_parameter_estimation_monte_carlo(w_initial, gamma_initial, d_value, n_value, bounds, num_samples=1000000):\n",
    "    # Generate random samples from the standard normal distribution\n",
    "    random_samples = np.random.normal(size=num_samples)\n",
    "    \n",
    "    # likelihood function\n",
    "    likelihood_func = lambda x, w, gamma: stats.binom.pmf(d_value, n_value, p_g(x, w_g=w, gamma_g=gamma))\n",
    "    \n",
    "    # objective function\n",
    "    objective_function = lambda params: -np.mean(likelihood_func(random_samples, *params))\n",
    "\n",
    "    initial_guess = [w_initial, gamma_initial]\n",
    "\n",
    "    result = minimize(objective_function, initial_guess, method='Nelder-Mead', bounds=bounds)\n",
    "    \n",
    "    return result"
   ],
   "metadata": {
    "collapsed": false,
    "ExecuteTime": {
     "end_time": "2024-02-29T19:14:48.947145600Z",
     "start_time": "2024-02-29T19:14:48.855137600Z"
    }
   },
   "id": "1f594894ffbfcb24"
  },
  {
   "cell_type": "code",
   "execution_count": 9,
   "outputs": [
    {
     "name": "stdout",
     "output_type": "stream",
     "text": [
      "The optimal weight parameter is 0.0\n",
      "The optimal gamma parameter is -1.7853259261697616\n"
     ]
    }
   ],
   "source": [
    "w_initial = 0.1\n",
    "gamma_initial = -1.5\n",
    "d_large = 2481\n",
    "n_large = 66871\n",
    "bounds = [(0, 1), (-5, 5)]\n",
    "\n",
    "opt_params = mle_parameter_estimation_monte_carlo(w_initial, gamma_initial, d_large, n_large, bounds).x\n",
    "\n",
    "print(f\"The optimal weight parameter is {opt_params[0]}\")\n",
    "print(f\"The optimal gamma parameter is {opt_params[1]}\")"
   ],
   "metadata": {
    "collapsed": false,
    "ExecuteTime": {
     "end_time": "2024-02-29T19:15:04.078677Z",
     "start_time": "2024-02-29T19:14:48.868138Z"
    }
   },
   "id": "30075beb2176fd14"
  },
  {
   "cell_type": "code",
   "execution_count": 9,
   "outputs": [],
   "source": [],
   "metadata": {
    "collapsed": false,
    "ExecuteTime": {
     "end_time": "2024-02-29T19:15:04.111679900Z",
     "start_time": "2024-02-29T19:15:03.995670900Z"
    }
   },
   "id": "f4691a11c3faa376"
  }
 ],
 "metadata": {
  "kernelspec": {
   "display_name": "Python 3",
   "language": "python",
   "name": "python3"
  },
  "language_info": {
   "codemirror_mode": {
    "name": "ipython",
    "version": 2
   },
   "file_extension": ".py",
   "mimetype": "text/x-python",
   "name": "python",
   "nbconvert_exporter": "python",
   "pygments_lexer": "ipython2",
   "version": "2.7.6"
  }
 },
 "nbformat": 4,
 "nbformat_minor": 5
}
